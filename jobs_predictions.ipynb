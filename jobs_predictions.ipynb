{
 "cells": [
  {
   "cell_type": "markdown",
   "id": "cff17164-0c1f-444f-a3de-74dddc485286",
   "metadata": {},
   "source": [
    "<H1>Необходимо предсказать верхнюю границу заработной платы (salary_to) для вакансии</H1>"
   ]
  },
  {
   "cell_type": "code",
   "execution_count": 1,
   "id": "2d5d1cec-0bee-487b-b598-7457d1e3c8f2",
   "metadata": {},
   "outputs": [
    {
     "data": {
      "text/html": [
       "<style>.container {width:100% !important;}</style>"
      ],
      "text/plain": [
       "<IPython.core.display.HTML object>"
      ]
     },
     "metadata": {},
     "output_type": "display_data"
    }
   ],
   "source": [
    "import pandas as pd\n",
    "import numpy as np\n",
    "from tqdm.notebook import tqdm\n",
    "from datetime import datetime, timedelta, date\n",
    "import warnings\n",
    "warnings.filterwarnings('ignore')\n",
    "from tqdm.auto import tqdm\n",
    "tqdm.pandas()\n",
    "\n",
    "from IPython.core.display import display, HTML\n",
    "display(HTML(\"<style>.container {width:100% !important;}</style>\"))\n",
    "\n",
    "import xlrd\n",
    "from itertools import chain\n",
    "pd.set_option('display.max_colwidth', None)"
   ]
  },
  {
   "cell_type": "markdown",
   "id": "0afa045e-5363-4d28-ae79-8231118b5036",
   "metadata": {},
   "source": [
    "Считываем данные для обучения:"
   ]
  },
  {
   "cell_type": "code",
   "execution_count": 2,
   "id": "2c74e23e-1650-4549-b1f9-767deba3a8db",
   "metadata": {},
   "outputs": [],
   "source": [
    "df = pd.read_csv('X_train.csv', parse_dates=['published_at', 'created_at'])"
   ]
  },
  {
   "cell_type": "markdown",
   "id": "90d8c2de-d457-46d1-8e6d-86cdb64fd283",
   "metadata": {},
   "source": [
    "Считываем значения salary_to для данных для обучения и мерджим с предыдущей таблицей"
   ]
  },
  {
   "cell_type": "code",
   "execution_count": 3,
   "id": "45c435c4-220b-42d3-979a-029bf13b9363",
   "metadata": {},
   "outputs": [],
   "source": [
    "df1 = pd.read_csv('y_train.csv')\n",
    "df = df.set_index('id').join(df1.set_index('id'))"
   ]
  },
  {
   "cell_type": "markdown",
   "id": "b1586e65-98eb-4257-920b-6aff7dbd2919",
   "metadata": {},
   "source": [
    "<H1>Исследование данных / Data exploration</H1>"
   ]
  },
  {
   "cell_type": "code",
   "execution_count": 4,
   "id": "8f8af7f1-b0f7-44b3-82bb-5c5a07486b8c",
   "metadata": {},
   "outputs": [
    {
     "name": "stdout",
     "output_type": "stream",
     "text": [
      "<class 'pandas.core.frame.DataFrame'>\n",
      "Index: 27934 entries, 29083 to 15795\n",
      "Data columns (total 13 columns):\n",
      " #   Column                    Non-Null Count  Dtype              \n",
      "---  ------                    --------------  -----              \n",
      " 0   name                      27934 non-null  object             \n",
      " 1   has_test                  27934 non-null  bool               \n",
      " 2   response_letter_required  27934 non-null  bool               \n",
      " 3   salary_from               23902 non-null  float64            \n",
      " 4   salary_currency           27934 non-null  object             \n",
      " 5   salary_gross              27786 non-null  object             \n",
      " 6   published_at              27934 non-null  datetime64[ns, UTC]\n",
      " 7   created_at                27934 non-null  datetime64[ns, UTC]\n",
      " 8   employer_name             27934 non-null  object             \n",
      " 9   description               27933 non-null  object             \n",
      " 10  area_id                   27934 non-null  int64              \n",
      " 11  area_name                 27934 non-null  object             \n",
      " 12  salary_to                 27934 non-null  float64            \n",
      "dtypes: bool(2), datetime64[ns, UTC](2), float64(2), int64(1), object(6)\n",
      "memory usage: 3.6+ MB\n"
     ]
    }
   ],
   "source": [
    "df.info()"
   ]
  },
  {
   "cell_type": "markdown",
   "id": "9b2b2895-b2d1-4234-8fc9-a1cbdf1346ad",
   "metadata": {},
   "source": [
    "Можно увидеть, что есть пустые значения у <i>salary_from</i>. Есть пустые значения у <i>salary_gross</i>, который должен быть из описания bool, а импортировался как object. И ещё отсутствует одно значение в <i>description</i>."
   ]
  },
  {
   "cell_type": "code",
   "execution_count": 5,
   "id": "e1327c63-b522-447e-816b-e2b11f79a0b2",
   "metadata": {},
   "outputs": [
    {
     "data": {
      "text/html": [
       "<div>\n",
       "<style scoped>\n",
       "    .dataframe tbody tr th:only-of-type {\n",
       "        vertical-align: middle;\n",
       "    }\n",
       "\n",
       "    .dataframe tbody tr th {\n",
       "        vertical-align: top;\n",
       "    }\n",
       "\n",
       "    .dataframe thead th {\n",
       "        text-align: right;\n",
       "    }\n",
       "</style>\n",
       "<table border=\"1\" class=\"dataframe\">\n",
       "  <thead>\n",
       "    <tr style=\"text-align: right;\">\n",
       "      <th></th>\n",
       "      <th>name</th>\n",
       "      <th>salary_currency</th>\n",
       "      <th>salary_gross</th>\n",
       "      <th>employer_name</th>\n",
       "      <th>description</th>\n",
       "      <th>area_name</th>\n",
       "    </tr>\n",
       "  </thead>\n",
       "  <tbody>\n",
       "    <tr>\n",
       "      <th>count</th>\n",
       "      <td>27934</td>\n",
       "      <td>27934</td>\n",
       "      <td>27786</td>\n",
       "      <td>27934</td>\n",
       "      <td>27933</td>\n",
       "      <td>27934</td>\n",
       "    </tr>\n",
       "    <tr>\n",
       "      <th>unique</th>\n",
       "      <td>16395</td>\n",
       "      <td>1</td>\n",
       "      <td>2</td>\n",
       "      <td>13318</td>\n",
       "      <td>23681</td>\n",
       "      <td>156</td>\n",
       "    </tr>\n",
       "    <tr>\n",
       "      <th>top</th>\n",
       "      <td>Менеджер по продажам</td>\n",
       "      <td>RUR</td>\n",
       "      <td>False</td>\n",
       "      <td>Пятёрочка</td>\n",
       "      <td>&lt;p&gt;&lt;strong&gt;Обязанности:&lt;/strong&gt;&lt;/p&gt;&lt;ul&gt;&lt;li&gt;Обслуживание покупателей на кассе (наличный и безналичный расчет)&lt;/li&gt;&lt;li&gt;Выкладка товара в зале&lt;/li&gt;&lt;li&gt;Отслеживание сроков годности товара&lt;/li&gt;&lt;li&gt;Проверка наличия ценников&lt;/li&gt;&lt;li&gt;Консультация покупателей в зале&lt;/li&gt;&lt;/ul&gt;&lt;p&gt;&lt;strong&gt;Требования:&lt;/strong&gt;&lt;/p&gt;&lt;ul&gt;&lt;li&gt;Ответственность, дисциплинированность, внимательность&lt;/li&gt;&lt;/ul&gt;&lt;p&gt;&lt;strong&gt;Условия:&lt;/strong&gt;&lt;/p&gt;&lt;ul&gt;&lt;li&gt;График работы 5/2, 2/2, возможен неполный рабочий день, неполная рабочая неделя&lt;/li&gt;&lt;li&gt;Возможность подработки (работа по совместительству)&lt;/li&gt;&lt;li&gt;Социальные гарантии, оплата отпусков и больничных листов&lt;/li&gt;&lt;li&gt;Работа рядом с домом&lt;/li&gt;&lt;li&gt;Скидки в магазинах сети&lt;/li&gt;&lt;li&gt;Фирменная спецодежда&lt;/li&gt;&lt;li&gt;Возможность профессионального и карьерного роста, корпоративное обучение&lt;/li&gt;&lt;li&gt;Корпоративные мероприятия и конкурсы&lt;/li&gt;&lt;/ul&gt;</td>\n",
       "      <td>Москва</td>\n",
       "    </tr>\n",
       "    <tr>\n",
       "      <th>freq</th>\n",
       "      <td>337</td>\n",
       "      <td>27934</td>\n",
       "      <td>18726</td>\n",
       "      <td>927</td>\n",
       "      <td>624</td>\n",
       "      <td>20512</td>\n",
       "    </tr>\n",
       "  </tbody>\n",
       "</table>\n",
       "</div>"
      ],
      "text/plain": [
       "                        name salary_currency salary_gross employer_name  \\\n",
       "count                  27934           27934        27786         27934   \n",
       "unique                 16395               1            2         13318   \n",
       "top     Менеджер по продажам             RUR        False     Пятёрочка   \n",
       "freq                     337           27934        18726           927   \n",
       "\n",
       "                                                                                                                                                                                                                                                                                                                                                                                                                                                                                                                                                                                                                                                                                                                                                                                                                                                                         description  \\\n",
       "count                                                                                                                                                                                                                                                                                                                                                                                                                                                                                                                                                                                                                                                                                                                                                                                                                                                                          27933   \n",
       "unique                                                                                                                                                                                                                                                                                                                                                                                                                                                                                                                                                                                                                                                                                                                                                                                                                                                                         23681   \n",
       "top     <p><strong>Обязанности:</strong></p><ul><li>Обслуживание покупателей на кассе (наличный и безналичный расчет)</li><li>Выкладка товара в зале</li><li>Отслеживание сроков годности товара</li><li>Проверка наличия ценников</li><li>Консультация покупателей в зале</li></ul><p><strong>Требования:</strong></p><ul><li>Ответственность, дисциплинированность, внимательность</li></ul><p><strong>Условия:</strong></p><ul><li>График работы 5/2, 2/2, возможен неполный рабочий день, неполная рабочая неделя</li><li>Возможность подработки (работа по совместительству)</li><li>Социальные гарантии, оплата отпусков и больничных листов</li><li>Работа рядом с домом</li><li>Скидки в магазинах сети</li><li>Фирменная спецодежда</li><li>Возможность профессионального и карьерного роста, корпоративное обучение</li><li>Корпоративные мероприятия и конкурсы</li></ul>   \n",
       "freq                                                                                                                                                                                                                                                                                                                                                                                                                                                                                                                                                                                                                                                                                                                                                                                                                                                                             624   \n",
       "\n",
       "       area_name  \n",
       "count      27934  \n",
       "unique       156  \n",
       "top       Москва  \n",
       "freq       20512  "
      ]
     },
     "execution_count": 5,
     "metadata": {},
     "output_type": "execute_result"
    }
   ],
   "source": [
    "pd.options.display.max_rows = 13\n",
    "df.describe(include='O')"
   ]
  },
  {
   "cell_type": "markdown",
   "id": "534b883d-b31d-4f25-b3ac-de427c154825",
   "metadata": {},
   "source": [
    "<H1>Даты</H1>"
   ]
  },
  {
   "cell_type": "markdown",
   "id": "ae2f7309-4574-4057-b4fe-b8426d8f1067",
   "metadata": {},
   "source": [
    "Посмотрим корреляцию <i>published_at</i> и <i>created_at</i>."
   ]
  },
  {
   "cell_type": "code",
   "execution_count": 6,
   "id": "f8174c47-7d0d-4a05-88ea-fae67d66698e",
   "metadata": {},
   "outputs": [
    {
     "data": {
      "text/html": [
       "<style type=\"text/css\">\n",
       "#T_c33b3_row0_col0, #T_c33b3_row0_col1, #T_c33b3_row1_col0, #T_c33b3_row1_col1 {\n",
       "  background-color: #3b4cc0;\n",
       "  color: #f1f1f1;\n",
       "}\n",
       "</style>\n",
       "<table id=\"T_c33b3\">\n",
       "  <thead>\n",
       "    <tr>\n",
       "      <th class=\"blank level0\" >&nbsp;</th>\n",
       "      <th id=\"T_c33b3_level0_col0\" class=\"col_heading level0 col0\" >published_at</th>\n",
       "      <th id=\"T_c33b3_level0_col1\" class=\"col_heading level0 col1\" >created_at</th>\n",
       "    </tr>\n",
       "  </thead>\n",
       "  <tbody>\n",
       "    <tr>\n",
       "      <th id=\"T_c33b3_level0_row0\" class=\"row_heading level0 row0\" >published_at</th>\n",
       "      <td id=\"T_c33b3_row0_col0\" class=\"data row0 col0\" >1.000000</td>\n",
       "      <td id=\"T_c33b3_row0_col1\" class=\"data row0 col1\" >1.000000</td>\n",
       "    </tr>\n",
       "    <tr>\n",
       "      <th id=\"T_c33b3_level0_row1\" class=\"row_heading level0 row1\" >created_at</th>\n",
       "      <td id=\"T_c33b3_row1_col0\" class=\"data row1 col0\" >1.000000</td>\n",
       "      <td id=\"T_c33b3_row1_col1\" class=\"data row1 col1\" >1.000000</td>\n",
       "    </tr>\n",
       "  </tbody>\n",
       "</table>\n"
      ],
      "text/plain": [
       "<pandas.io.formats.style.Styler at 0x7f15f4e73d50>"
      ]
     },
     "execution_count": 6,
     "metadata": {},
     "output_type": "execute_result"
    }
   ],
   "source": [
    "#(df['published_at']==df['created_at']).value_counts()\n",
    "df[['published_at', 'created_at']].corr().style.background_gradient(cmap='coolwarm')"
   ]
  },
  {
   "cell_type": "markdown",
   "id": "09cb2bae-a6dd-4f38-9627-ebda8b6de2b0",
   "metadata": {},
   "source": [
    "Эти столбцы полностью совпадают, один из них можно удалить."
   ]
  },
  {
   "cell_type": "code",
   "execution_count": 7,
   "id": "7e29dcd6-a875-4af7-815a-f2c5a2ae67f1",
   "metadata": {},
   "outputs": [],
   "source": [
    "df = df.drop(columns=['created_at'])"
   ]
  },
  {
   "cell_type": "markdown",
   "id": "7d9c89fb-d1f0-4374-aa12-e6bb6501d7d3",
   "metadata": {},
   "source": [
    "Разберемся с датами в <i>published_at</i>. Заменим даты на разницу между концом 2022 года (за который собирался dataset) и датой в <i>published_at</i>:"
   ]
  },
  {
   "cell_type": "code",
   "execution_count": 8,
   "id": "83d2ac63-cb4c-4a99-a228-d7abf7aac73c",
   "metadata": {},
   "outputs": [],
   "source": [
    "df['published_at_diff'] = df['published_at'].map(lambda x: datetime.timestamp(datetime(2023, 1, 1)) - x.timestamp())"
   ]
  },
  {
   "cell_type": "markdown",
   "id": "33b5777a-7127-4465-82d8-c07950bc10b6",
   "metadata": {},
   "source": [
    "Теперь столбец <i>published_at</i> можно удалить."
   ]
  },
  {
   "cell_type": "code",
   "execution_count": 9,
   "id": "0ee1c906-1e70-444e-9256-b37caafc0303",
   "metadata": {},
   "outputs": [],
   "source": [
    "df = df.drop(columns=['published_at'])"
   ]
  },
  {
   "cell_type": "code",
   "execution_count": 10,
   "id": "86e8c3dc-4a73-40a6-acb3-2b81da02c969",
   "metadata": {},
   "outputs": [
    {
     "name": "stdout",
     "output_type": "stream",
     "text": [
      "<class 'pandas.core.frame.DataFrame'>\n",
      "Index: 27934 entries, 29083 to 15795\n",
      "Data columns (total 12 columns):\n",
      " #   Column                    Non-Null Count  Dtype  \n",
      "---  ------                    --------------  -----  \n",
      " 0   name                      27934 non-null  object \n",
      " 1   has_test                  27934 non-null  bool   \n",
      " 2   response_letter_required  27934 non-null  bool   \n",
      " 3   salary_from               23902 non-null  float64\n",
      " 4   salary_currency           27934 non-null  object \n",
      " 5   salary_gross              27786 non-null  object \n",
      " 6   employer_name             27934 non-null  object \n",
      " 7   description               27933 non-null  object \n",
      " 8   area_id                   27934 non-null  int64  \n",
      " 9   area_name                 27934 non-null  object \n",
      " 10  salary_to                 27934 non-null  float64\n",
      " 11  published_at_diff         27934 non-null  float64\n",
      "dtypes: bool(2), float64(3), int64(1), object(6)\n",
      "memory usage: 3.4+ MB\n"
     ]
    }
   ],
   "source": [
    "df.info()"
   ]
  },
  {
   "cell_type": "markdown",
   "id": "75ed9140-7423-4af7-b816-f34cfa9c3a38",
   "metadata": {},
   "source": [
    "<H1>Количественные / Quantitative</H1>"
   ]
  },
  {
   "cell_type": "markdown",
   "id": "3f4bfbfd-9600-4fa6-8f15-180e7a0ce6c9",
   "metadata": {},
   "source": [
    "В salary_from есть пустые значения. Поместим туда самое частое значение:"
   ]
  },
  {
   "cell_type": "code",
   "execution_count": 11,
   "id": "4d039cd1-dae6-43cb-a18a-dde004ea3e9a",
   "metadata": {},
   "outputs": [],
   "source": [
    "#df_filtered = df.dropna(subset = ['salary_from'])\n",
    "df.salary_from.fillna(df.salary_from.mode()[0], inplace = True)"
   ]
  },
  {
   "cell_type": "code",
   "execution_count": 12,
   "id": "c25270ee-083e-4a2a-a831-30a5b343dfe0",
   "metadata": {},
   "outputs": [
    {
     "name": "stdout",
     "output_type": "stream",
     "text": [
      "<class 'pandas.core.frame.DataFrame'>\n",
      "Index: 27934 entries, 29083 to 15795\n",
      "Data columns (total 12 columns):\n",
      " #   Column                    Non-Null Count  Dtype  \n",
      "---  ------                    --------------  -----  \n",
      " 0   name                      27934 non-null  object \n",
      " 1   has_test                  27934 non-null  bool   \n",
      " 2   response_letter_required  27934 non-null  bool   \n",
      " 3   salary_from               27934 non-null  float64\n",
      " 4   salary_currency           27934 non-null  object \n",
      " 5   salary_gross              27786 non-null  object \n",
      " 6   employer_name             27934 non-null  object \n",
      " 7   description               27933 non-null  object \n",
      " 8   area_id                   27934 non-null  int64  \n",
      " 9   area_name                 27934 non-null  object \n",
      " 10  salary_to                 27934 non-null  float64\n",
      " 11  published_at_diff         27934 non-null  float64\n",
      "dtypes: bool(2), float64(3), int64(1), object(6)\n",
      "memory usage: 3.4+ MB\n"
     ]
    }
   ],
   "source": [
    "df.info()"
   ]
  },
  {
   "cell_type": "markdown",
   "id": "ee1c3cca-277a-493d-be83-68264d7a9f94",
   "metadata": {},
   "source": [
    "Посмотрим на распределение всех числовых величин:"
   ]
  },
  {
   "cell_type": "code",
   "execution_count": 13,
   "id": "2e63bb51-3c5e-4b4e-a8c1-f716323bae5e",
   "metadata": {},
   "outputs": [
    {
     "data": {
      "image/png": "[encoded data removed]",
      "text/plain": [
       "<Figure size 1000x1500 with 3 Axes>"
      ]
     },
     "metadata": {},
     "output_type": "display_data"
    }
   ],
   "source": [
    "import matplotlib.pyplot as plt\n",
    "df_numeric = df[['salary_from', 'salary_to', 'published_at_diff']]\n",
    "# Создаем гистограммы для всех столбцов\n",
    "fig, axes = plt.subplots(nrows=len(df_numeric.columns), ncols=1, figsize=(10, 15))\n",
    "\n",
    "# Проходимся по всем столбцам DataFrame и создаем гистограмму для каждого столбца\n",
    "for i, column in enumerate(df_numeric.columns):\n",
    "    df_numeric[column].plot(kind='hist', bins=25, ax=axes[i])\n",
    "    axes[i].set_title(column)\n",
    "\n",
    "plt.tight_layout()\n",
    "plt.show()"
   ]
  },
  {
   "cell_type": "markdown",
   "id": "727ffa2f-ad8d-4120-96c7-ed5a729ad38c",
   "metadata": {},
   "source": [
    "Нормализуем <i>publised_at_diff</i>:"
   ]
  },
  {
   "cell_type": "code",
   "execution_count": 14,
   "id": "d9edc72c-10e1-4706-86a2-ce9db1fdfcf8",
   "metadata": {},
   "outputs": [],
   "source": [
    "df[\"published_at_diff\"] = df[\"published_at_diff\"] / 1e7"
   ]
  },
  {
   "cell_type": "markdown",
   "id": "b5dc1196-1e60-4045-a095-47be90086b8a",
   "metadata": {},
   "source": [
    "<H1>Категориальные / Category</H1>"
   ]
  },
  {
   "cell_type": "code",
   "execution_count": 15,
   "id": "fa64bb13-5c42-456d-aca9-0b9ca8a334b2",
   "metadata": {},
   "outputs": [
    {
     "name": "stdout",
     "output_type": "stream",
     "text": [
      "<class 'pandas.core.frame.DataFrame'>\n",
      "Index: 27934 entries, 29083 to 15795\n",
      "Data columns (total 12 columns):\n",
      " #   Column                    Non-Null Count  Dtype  \n",
      "---  ------                    --------------  -----  \n",
      " 0   name                      27934 non-null  object \n",
      " 1   has_test                  27934 non-null  bool   \n",
      " 2   response_letter_required  27934 non-null  bool   \n",
      " 3   salary_from               27934 non-null  float64\n",
      " 4   salary_currency           27934 non-null  object \n",
      " 5   salary_gross              27786 non-null  object \n",
      " 6   employer_name             27934 non-null  object \n",
      " 7   description               27933 non-null  object \n",
      " 8   area_id                   27934 non-null  int64  \n",
      " 9   area_name                 27934 non-null  object \n",
      " 10  salary_to                 27934 non-null  float64\n",
      " 11  published_at_diff         27934 non-null  float64\n",
      "dtypes: bool(2), float64(3), int64(1), object(6)\n",
      "memory usage: 3.4+ MB\n"
     ]
    }
   ],
   "source": [
    "df.info()"
   ]
  },
  {
   "cell_type": "markdown",
   "id": "567bcaec-8af2-40d5-acfe-348d4705242d",
   "metadata": {},
   "source": [
    "<H2>salary_gross</H2>"
   ]
  },
  {
   "cell_type": "markdown",
   "id": "d632a908-ef50-4711-94f2-dcf8f34bd60c",
   "metadata": {},
   "source": [
    "Для <i>salary_gross</i> нужно заполнить пропуски False и преобразовать из типа object в тип bool: "
   ]
  },
  {
   "cell_type": "code",
   "execution_count": 16,
   "id": "e320a18a-e72e-4450-a136-fc08ad9b1b47",
   "metadata": {},
   "outputs": [],
   "source": [
    "df.salary_gross.fillna(False, inplace = True) \n",
    "df['salary_gross'] = df['salary_gross'].astype(bool)"
   ]
  },
  {
   "cell_type": "code",
   "execution_count": 17,
   "id": "f30dd354-0021-450f-ad5b-ae82e3c69954",
   "metadata": {},
   "outputs": [
    {
     "name": "stdout",
     "output_type": "stream",
     "text": [
      "<class 'pandas.core.frame.DataFrame'>\n",
      "Index: 27934 entries, 29083 to 15795\n",
      "Data columns (total 12 columns):\n",
      " #   Column                    Non-Null Count  Dtype  \n",
      "---  ------                    --------------  -----  \n",
      " 0   name                      27934 non-null  object \n",
      " 1   has_test                  27934 non-null  bool   \n",
      " 2   response_letter_required  27934 non-null  bool   \n",
      " 3   salary_from               27934 non-null  float64\n",
      " 4   salary_currency           27934 non-null  object \n",
      " 5   salary_gross              27934 non-null  bool   \n",
      " 6   employer_name             27934 non-null  object \n",
      " 7   description               27933 non-null  object \n",
      " 8   area_id                   27934 non-null  int64  \n",
      " 9   area_name                 27934 non-null  object \n",
      " 10  salary_to                 27934 non-null  float64\n",
      " 11  published_at_diff         27934 non-null  float64\n",
      "dtypes: bool(3), float64(3), int64(1), object(5)\n",
      "memory usage: 3.2+ MB\n"
     ]
    }
   ],
   "source": [
    "df.info()"
   ]
  },
  {
   "cell_type": "markdown",
   "id": "ce6edd51-928d-42f7-9e2a-52783d6d07cd",
   "metadata": {},
   "source": [
    "<H2>salary_currency</H2>"
   ]
  },
  {
   "cell_type": "markdown",
   "id": "af038cfb-1ce9-464a-a238-8afee6bc2f36",
   "metadata": {},
   "source": [
    "Посмотрим, сколько уникальных значений есть в <i>salary_currency</i>."
   ]
  },
  {
   "cell_type": "code",
   "execution_count": 18,
   "id": "aa8c7178-aba3-4796-9a83-849741f4d469",
   "metadata": {},
   "outputs": [
    {
     "data": {
      "text/plain": [
       "salary_currency\n",
       "RUR    27934\n",
       "Name: count, dtype: int64"
      ]
     },
     "execution_count": 18,
     "metadata": {},
     "output_type": "execute_result"
    }
   ],
   "source": [
    "df['salary_currency'].value_counts()"
   ]
  },
  {
   "cell_type": "markdown",
   "id": "3900589e-d127-484f-af37-48fbcef45678",
   "metadata": {},
   "source": [
    "У всех строк одна и та же валюта, этот столбец можно удалить."
   ]
  },
  {
   "cell_type": "code",
   "execution_count": 19,
   "id": "f0bca82c-136e-419b-be3f-afefe6cd6fcc",
   "metadata": {},
   "outputs": [],
   "source": [
    "df = df.drop(columns=['salary_currency'])"
   ]
  },
  {
   "cell_type": "code",
   "execution_count": 20,
   "id": "f1cf028e-97ef-4635-acbc-0bb3cc5574ff",
   "metadata": {},
   "outputs": [
    {
     "name": "stdout",
     "output_type": "stream",
     "text": [
      "<class 'pandas.core.frame.DataFrame'>\n",
      "Index: 27934 entries, 29083 to 15795\n",
      "Data columns (total 11 columns):\n",
      " #   Column                    Non-Null Count  Dtype  \n",
      "---  ------                    --------------  -----  \n",
      " 0   name                      27934 non-null  object \n",
      " 1   has_test                  27934 non-null  bool   \n",
      " 2   response_letter_required  27934 non-null  bool   \n",
      " 3   salary_from               27934 non-null  float64\n",
      " 4   salary_gross              27934 non-null  bool   \n",
      " 5   employer_name             27934 non-null  object \n",
      " 6   description               27933 non-null  object \n",
      " 7   area_id                   27934 non-null  int64  \n",
      " 8   area_name                 27934 non-null  object \n",
      " 9   salary_to                 27934 non-null  float64\n",
      " 10  published_at_diff         27934 non-null  float64\n",
      "dtypes: bool(3), float64(3), int64(1), object(4)\n",
      "memory usage: 3.0+ MB\n"
     ]
    }
   ],
   "source": [
    "df.info()"
   ]
  },
  {
   "cell_type": "markdown",
   "id": "2c5ae20c-0c59-41e3-a4c6-0f9cceaee4f7",
   "metadata": {},
   "source": [
    "<H2>area_name и area_id</H2>"
   ]
  },
  {
   "cell_type": "markdown",
   "id": "8b9939d9-c3f6-4d31-a3ed-006de10fc74b",
   "metadata": {},
   "source": [
    "Разберемся с <i>area_id</i> и <i>area_name</i>."
   ]
  },
  {
   "cell_type": "code",
   "execution_count": 21,
   "id": "8d6fbd81-8e1b-41dc-8ec6-2e645cb36938",
   "metadata": {},
   "outputs": [
    {
     "data": {
      "text/plain": [
       "{1: {('Москва',)},\n",
       " 2: {('Санкт-Петербург',)},\n",
       " 72: {('Пермь',)},\n",
       " 4: {('Новосибирск',)},\n",
       " 78: {('Самара',)},\n",
       " 26: {('Воронеж',)},\n",
       " 35: {('Иркутск',)},\n",
       " 3: {('Екатеринбург',)},\n",
       " 77: {('Рязань',)},\n",
       " 24: {('Волгоград',)},\n",
       " 76: {('Ростов-на-Дону',)},\n",
       " 54: {('Красноярск',)},\n",
       " 53: {('Краснодар',)},\n",
       " 66: {('Нижний Новгород',)},\n",
       " 96: {('Ижевск',)},\n",
       " 247: {('Дзержинск (Нижегородская область)',)},\n",
       " 41: {('Калининград',)},\n",
       " 90: {('Томск',)},\n",
       " 98: {('Ульяновск',)},\n",
       " 130: {('Севастополь',)},\n",
       " 68: {('Омск',)},\n",
       " 43: {('Калуга',)},\n",
       " 99: {('Уфа',)},\n",
       " 22: {('Владивосток',)},\n",
       " 49: {('Киров (Кировская область)',)},\n",
       " 88: {('Казань',)},\n",
       " 32: {('Иваново (Ивановская область)',)},\n",
       " 1002: {('Минск',)},\n",
       " 44: {('Петропавловск-Камчатский',)},\n",
       " 112: {('Ярославль',)},\n",
       " 160: {('Алматы',)},\n",
       " 104: {('Челябинск',)},\n",
       " 2734: {('Иннополис',)},\n",
       " 92: {('Тула',)},\n",
       " 71: {('Пенза',)},\n",
       " 2088: {('Зеленоград',)},\n",
       " 2059: {('Павловский Посад',)},\n",
       " 159: {('Нур-Султан',)},\n",
       " 83: {('Смоленск',)},\n",
       " 79: {('Саратов',)},\n",
       " 89: {('Тверь',)},\n",
       " 63: {('Саранск',)},\n",
       " 95: {('Тюмень',)},\n",
       " 2077: {('Химки',)},\n",
       " 237: {('Сочи',)},\n",
       " 51: {('Сыктывкар',)},\n",
       " 212: {('Тольятти',)},\n",
       " 84: {('Ставрополь',)},\n",
       " 1283: {('Краснотурьинск',)},\n",
       " 14: {('Архангельск',)},\n",
       " 113: {('Россия',)},\n",
       " 2020: {('Балашиха',)},\n",
       " 1454: {('Новороссийск',)},\n",
       " 11: {('Барнаул',)},\n",
       " 1641: {('Набережные Челны',)},\n",
       " 61: {('Йошкар-Ола',)},\n",
       " 107: {('Чебоксары',)},\n",
       " 17: {('Белгород',)},\n",
       " 1006: {('Гродно',)},\n",
       " 102: {('Хабаровск',)},\n",
       " 1753: {('Череповец',)},\n",
       " 19: {('Брянск',)},\n",
       " 1550: {('Таганрог',)},\n",
       " 70: {('Оренбург',)},\n",
       " 242: {('Эквадор',)},\n",
       " 69: {('Орел',)},\n",
       " 2760: {('Бишкек',)},\n",
       " 2012: {('Сертолово',)},\n",
       " 15: {('Астрахань',)},\n",
       " 56: {('Курск',)},\n",
       " 1599: {('Балаково',)},\n",
       " 59: {('Литва',)},\n",
       " 131: {('Симферополь',)},\n",
       " 52: {('Кострома',)},\n",
       " 1492: {('Минеральные Воды',)},\n",
       " 1825: {('Старый Оскол',)},\n",
       " 1724: {('Ковров',)},\n",
       " 1381: {('Сургут',)},\n",
       " 1240: {('Новокузнецк',)},\n",
       " 1233: {('Гурьевск (Кемеровская область)',)},\n",
       " 58: {('Липецк',)},\n",
       " 29: {('Махачкала',)},\n",
       " 2041: {('Мытищи',)},\n",
       " 248: {('Арзамас',)},\n",
       " 1494: {('Невинномысск',)},\n",
       " 75: {('Псков',)},\n",
       " 80: {('Якутск',)},\n",
       " 1600: {('Балашов',)},\n",
       " 150: {('Аксай (Казахстан)',)},\n",
       " 74: {('Польша',)},\n",
       " 2025: {('Домодедово',)},\n",
       " 105: {('Грозный',)},\n",
       " 2090: {('Королев',)},\n",
       " 1003: {('Гомель',)},\n",
       " 2086: {('Дубна',)},\n",
       " 85: {('США',)},\n",
       " 1399: {('Магнитогорск',)},\n",
       " 10: {('Горно-Алтайск',)},\n",
       " 73: {('Петрозаводск',)},\n",
       " 25: {('Вологда',)},\n",
       " 12: {('Благовещенск (Амурская область)',)},\n",
       " 23: {('Владимир',)},\n",
       " 1250: {('Исилькуль',)},\n",
       " 1537: {('Донецк (Ростовская область)',)},\n",
       " 94: {('Турция',)},\n",
       " 1364: {('Стерлитамак',)},\n",
       " 47: {('Кемерово',)},\n",
       " 1540: {('Каменск-Шахтинский',)},\n",
       " 1999: {('Коммунар',)},\n",
       " 5709: {('Колтуши',)},\n",
       " 1691: {('Кстово',)},\n",
       " 64: {('Мурманск',)},\n",
       " 1648: {('Глазов',)},\n",
       " 106: {('Чита',)},\n",
       " 2636: {('Республика Коста-Рика',)},\n",
       " 2385: {('Саки',)},\n",
       " 1914: {('Алексин',)},\n",
       " 2120: {('Ялта',)},\n",
       " 1253: {('Тара',)},\n",
       " 1533: {('Батайск',)},\n",
       " 5049: {('Кишинёв',)},\n",
       " 301: {('Обнинск',)},\n",
       " 1548: {('Сальск',)},\n",
       " 1613: {('Энгельс',)},\n",
       " 87: {('Тамбов',)},\n",
       " 1220: {('Бийск',)},\n",
       " 1400: {('Миасс',)},\n",
       " 1291: {('Нижний Тагил',)},\n",
       " 2058: {('Орехово-Зуево',)},\n",
       " 1251: {('Калачинск',)},\n",
       " 2750: {('Петергоф',)},\n",
       " 2064: {('Жуковский',)},\n",
       " 2758: {('Тбилиси',)},\n",
       " 1442: {('Армавир',)},\n",
       " 1531: {('Азов',)},\n",
       " 2023: {('Дмитров',)},\n",
       " 1007: {('Брест',)},\n",
       " 236: {('Кипр',)},\n",
       " 67: {('Великий Новгород',)},\n",
       " 2061: {('Подольск (Московская область)',)},\n",
       " 2113: {('Колумбия',)},\n",
       " 1814: {('Рыбинск',)},\n",
       " 1717: {('Александров',)},\n",
       " 2447: {('Ленинградская станица',)},\n",
       " 2034: {('Красногорск',)},\n",
       " 1440: {('Анапа',)},\n",
       " 1005: {('Витебск',)},\n",
       " 3315: {('Витязево',)},\n",
       " 147: {('Ханты-Мансийск',)},\n",
       " 2554: {('Колпино',)},\n",
       " 2759: {('Ташкент',)},\n",
       " 1642: {('Нижнекамск',)},\n",
       " 1419: {('Новый Уренгой',)},\n",
       " 1594: {('Сызрань',)},\n",
       " 2069: {('Сергиев Посад',)},\n",
       " 55: {('Курган',)}}"
      ]
     },
     "execution_count": 21,
     "metadata": {},
     "output_type": "execute_result"
    }
   ],
   "source": [
    "map_id_to_name = {}\n",
    "for idx in df.index:\n",
    "    if df['area_id'][idx] in map_id_to_name:\n",
    "        map_id_to_name[df['area_id'][idx]].add((df['area_name'][idx], ))\n",
    "    else:\n",
    "        map_id_to_name[df['area_id'][idx]] = set(((df['area_name'][idx], ), ))\n",
    "map_id_to_name"
   ]
  },
  {
   "cell_type": "markdown",
   "id": "e7809a07-2e49-4594-b145-8c8d3860bc0c",
   "metadata": {},
   "source": [
    "Удалим <i>area_id</i>, и посмотрим на то, сколько раз встречается тот или иной город."
   ]
  },
  {
   "cell_type": "code",
   "execution_count": 22,
   "id": "b81df894-480c-4df8-81cb-c7e791201c84",
   "metadata": {},
   "outputs": [],
   "source": [
    "df = df.drop(columns=['area_id'])"
   ]
  },
  {
   "cell_type": "code",
   "execution_count": 23,
   "id": "956ba501-fa53-4bc2-bf2f-ef3d681f390c",
   "metadata": {},
   "outputs": [
    {
     "data": {
      "text/plain": [
       "area_name\n",
       "Москва                         20512\n",
       "Санкт-Петербург                 5393\n",
       "Новосибирск                      201\n",
       "Краснодар                        178\n",
       "Екатеринбург                     158\n",
       "                               ...  \n",
       "Каменск-Шахтинский                 1\n",
       "Стерлитамак                        1\n",
       "Турция                             1\n",
       "Донецк (Ростовская область)        1\n",
       "Курган                             1\n",
       "Name: count, Length: 156, dtype: int64"
      ]
     },
     "execution_count": 23,
     "metadata": {},
     "output_type": "execute_result"
    }
   ],
   "source": [
    "df['area_name'].value_counts()"
   ]
  },
  {
   "cell_type": "markdown",
   "id": "e41b6b0d-3c9c-41db-bd8d-e5abc8ee6680",
   "metadata": {},
   "source": [
    "Начнем с area_name"
   ]
  },
  {
   "cell_type": "markdown",
   "id": "00092756-642d-442f-b4b2-8f53e4f0a269",
   "metadata": {},
   "source": [
    "Выделим несколько часто встречающихся городов, остальные заменим Other:"
   ]
  },
  {
   "cell_type": "code",
   "execution_count": 24,
   "id": "6698a165-0664-4e50-b70c-77d24630507a",
   "metadata": {},
   "outputs": [
    {
     "data": {
      "text/plain": [
       "area_name\n",
       "Москва             20512\n",
       "Санкт-Петербург     5393\n",
       "Other               1339\n",
       "Новосибирск          201\n",
       "Краснодар            178\n",
       "Екатеринбург         158\n",
       "Казань               153\n",
       "Name: count, dtype: int64"
      ]
     },
     "execution_count": 24,
     "metadata": {},
     "output_type": "execute_result"
    }
   ],
   "source": [
    "df.loc[df[\"area_name\"].value_counts()[df[\"area_name\"]].values < 150, \"area_name\"] = \"Other\"\n",
    "df['area_name'].value_counts()"
   ]
  },
  {
   "cell_type": "code",
   "execution_count": 25,
   "id": "9ea2dc25-728d-4fc6-9c77-9064ec26fd5b",
   "metadata": {},
   "outputs": [
    {
     "name": "stdout",
     "output_type": "stream",
     "text": [
      "<class 'pandas.core.frame.DataFrame'>\n",
      "Index: 27934 entries, 29083 to 15795\n",
      "Data columns (total 10 columns):\n",
      " #   Column                    Non-Null Count  Dtype  \n",
      "---  ------                    --------------  -----  \n",
      " 0   name                      27934 non-null  object \n",
      " 1   has_test                  27934 non-null  bool   \n",
      " 2   response_letter_required  27934 non-null  bool   \n",
      " 3   salary_from               27934 non-null  float64\n",
      " 4   salary_gross              27934 non-null  bool   \n",
      " 5   employer_name             27934 non-null  object \n",
      " 6   description               27933 non-null  object \n",
      " 7   area_name                 27934 non-null  object \n",
      " 8   salary_to                 27934 non-null  float64\n",
      " 9   published_at_diff         27934 non-null  float64\n",
      "dtypes: bool(3), float64(3), object(4)\n",
      "memory usage: 2.8+ MB\n"
     ]
    }
   ],
   "source": [
    "df.info()"
   ]
  },
  {
   "cell_type": "markdown",
   "id": "40b38cff-54ae-4088-9157-aee4a139ec8c",
   "metadata": {},
   "source": [
    "<H2>description</H2>"
   ]
  },
  {
   "cell_type": "markdown",
   "id": "d0622860-ee0a-4a8c-a0c8-3e6d922cb3d1",
   "metadata": {},
   "source": [
    "В колонке <i>description</i> есть много информации, написанной в виде HTML страницы. Есть вероятность, что там есть упоминание з/п в формате \"<число> руб.\" или \"<число> руб./час\" или \"<число> тыс. руб.\". Попробуем их выцепить. Сначала удалим HTML теги из всех записей"
   ]
  },
  {
   "cell_type": "code",
   "execution_count": null,
   "id": "159b6db1-12bb-4728-b42b-906337d06124",
   "metadata": {},
   "outputs": [],
   "source": [
    "from bs4 import BeautifulSoup"
   ]
  },
  {
   "cell_type": "code",
   "execution_count": null,
   "id": "3a560def-f769-43b5-8371-292ad122899e",
   "metadata": {},
   "outputs": [],
   "source": [
    "def get_data(data):\n",
    "    map_name_to_list = {}\n",
    "    try:\n",
    "        soup_ = BeautifulSoup(data, 'html.parser')\n",
    "    except:\n",
    "        return map_name_to_list\n",
    "    if pd.isnull(data):\n",
    "        return map_name_to_list\n",
    "    prev_tag = None\n",
    "    last_tag = None\n",
    "    isFirst = True\n",
    "    for tag in soup_.find_all('p'):\n",
    "        if isFirst:\n",
    "            prev_tag = tag\n",
    "            isFirst = False\n",
    "            pass\n",
    "        tags = set(prev_tag.find_all_next('li')).intersection(set(tag.find_all_previous('li')))\n",
    "        if len(tags) > 0:\n",
    "            lst = []\n",
    "            for cur_tag in tags:\n",
    "                lst.append(cur_tag.get_text())\n",
    "            map_name_to_list[prev_tag.get_text()] = lst\n",
    "        last_tag = tag\n",
    "        prev_tag = tag\n",
    "\n",
    "    if last_tag == None:\n",
    "        return map_name_to_list\n",
    "    \n",
    "    tags = set(last_tag.find_all_next('li'))\n",
    "    if len(tags) > 0:\n",
    "        lst = []\n",
    "        for cur_tag in tags:\n",
    "            lst.append(cur_tag.get_text())\n",
    "        map_name_to_list[last_tag.get_text()] = lst\n",
    "\n",
    "    return map_name_to_list\n",
    "    \n",
    "#mp = get_data(soup)"
   ]
  },
  {
   "cell_type": "code",
   "execution_count": null,
   "id": "c1f2559d-4f6e-421a-a6ae-63b0f266bf15",
   "metadata": {},
   "outputs": [],
   "source": [
    "df['description_parsed'] = df['description'].map(get_data)"
   ]
  },
  {
   "cell_type": "code",
   "execution_count": null,
   "id": "f1edef47-3c98-4d19-93ff-1822b295c83f",
   "metadata": {},
   "outputs": [],
   "source": [
    "df['description_parsed'].head()"
   ]
  },
  {
   "cell_type": "code",
   "execution_count": 26,
   "id": "a8acef35-0ae4-4508-a046-a06731891d1b",
   "metadata": {},
   "outputs": [],
   "source": [
    "import re\n",
    "df['description'] = pd.Series(df['description'],dtype=pd.StringDtype())\n",
    "df.description = df.description.apply(lambda x: str(x).lower())"
   ]
  },
  {
   "cell_type": "markdown",
   "id": "ce7acd2d-9f1a-4b1d-a275-9d0ada1f2fad",
   "metadata": {},
   "source": [
    "..."
   ]
  },
  {
   "cell_type": "code",
   "execution_count": 27,
   "id": "fe05f90a-6536-4eda-927a-c8cd26c8d4f5",
   "metadata": {},
   "outputs": [],
   "source": [
    "def manage_desc_exp(string):\n",
    "    #print(string)\n",
    "    pattern = r'опыт[а-яА-ЯёЁ ]+[0-9]+[-лгм ]+[а-яА-ЯеЁ ]+[;<]'\n",
    "    year = 0\n",
    "    for match_raw in re.finditer(pattern, string):\n",
    "        number = ''\n",
    "        match = match_raw.group()\n",
    "        #print(match)\n",
    "        first_numeric_found = False\n",
    "        prev_ch = ' '\n",
    "        for ch in match:\n",
    "            if ch.isnumeric() and (first_numeric_found or prev_ch == ' '):\n",
    "                number += ch\n",
    "                first_numeric_found = True\n",
    "            elif ch == ' ' or ch == ',' or ch == '.':\n",
    "                prev_ch = ch\n",
    "                pass\n",
    "            else:\n",
    "                if first_numeric_found:\n",
    "                    break\n",
    "            prev_ch = ch\n",
    "        try:\n",
    "            cur_year = int(number)\n",
    "        except ValueError:\n",
    "            cur_year = 0\n",
    "        if 'мес' in match:\n",
    "            cur_year /= 12\n",
    "        if cur_year > year and cur_year <= 10:\n",
    "            year = cur_year\n",
    "    return 1 if year == 0 else year"
   ]
  },
  {
   "cell_type": "code",
   "execution_count": 28,
   "id": "1329c4ee-69f0-4b2a-ba8e-890f46024670",
   "metadata": {},
   "outputs": [],
   "source": [
    "df['description_exp'] = df.description.map(manage_desc_exp)"
   ]
  },
  {
   "cell_type": "code",
   "execution_count": 29,
   "id": "c9e1dcf2-0693-41cc-b198-e5ffa3133554",
   "metadata": {},
   "outputs": [
    {
     "data": {
      "text/plain": [
       "description_exp\n",
       "1.000000    26641\n",
       "3.000000      582\n",
       "2.000000      487\n",
       "5.000000      105\n",
       "0.500000       63\n",
       "            ...  \n",
       "9.000000        2\n",
       "0.166667        1\n",
       "0.333333        1\n",
       "0.416667        1\n",
       "0.666667        1\n",
       "Name: count, Length: 15, dtype: int64"
      ]
     },
     "execution_count": 29,
     "metadata": {},
     "output_type": "execute_result"
    }
   ],
   "source": [
    "df['description_exp'].value_counts()"
   ]
  },
  {
   "cell_type": "markdown",
   "id": "b21b0a05-2781-4c0c-99fe-a72dc9aa317f",
   "metadata": {},
   "source": [
    "..."
   ]
  },
  {
   "cell_type": "code",
   "execution_count": 30,
   "id": "6a51e427-cd6f-4802-a69e-beeab3c3594b",
   "metadata": {},
   "outputs": [],
   "source": [
    "df.description = df.description.apply(lambda x: re.sub(r'<[^>]+>', ' ', str(x))) #</?[A-Za-z0-9]+ ?/?>"
   ]
  },
  {
   "cell_type": "markdown",
   "id": "53045091-927a-405c-9fbf-5507437dd379",
   "metadata": {},
   "source": [
    "Определим функцию, которая будет извлекать из строки description максимальную упомянотую зарплату. Если таковой нет, сделаем её равной 0. Также сделаем равной 0 зарплаты, которые получились меньше 1000. Такое могло произойти, если извлеченная зарплата была не той по смыслу, или была какая-то другая цена."
   ]
  },
  {
   "cell_type": "code",
   "execution_count": 31,
   "id": "6632c2f9-4ce3-46dd-8521-b80607204073",
   "metadata": {},
   "outputs": [],
   "source": [
    "def manage_desc(string):\n",
    "    #print(string)\n",
    "    pattern = r'[0-9][0-9., ]+[0-9 ](тыс)?руб.?\\/?[а-яА-Я ]*([0-9 ]+час)?(час)?(мес)?(день)?'\n",
    "    max_salary = -1\n",
    "    for match_raw in re.finditer(pattern, string):\n",
    "        number = ''\n",
    "        match = match_raw.group()\n",
    "        #print(match)\n",
    "        first_numeric_found = False\n",
    "        for ch in match:\n",
    "            if ch.isnumeric():\n",
    "                number += ch\n",
    "                first_numeric_found = True\n",
    "            elif ch == ' ' or ch == ',' or ch == '.':\n",
    "                pass\n",
    "            else:\n",
    "                if first_numeric_found:\n",
    "                    break\n",
    "        salary = int(number)\n",
    "        if 'сут' in match or 'день' in match:\n",
    "            salary *= 20\n",
    "        elif 'час' in match:\n",
    "            salary *= 160\n",
    "\n",
    "        if 'тыс' in match or 'т.' in match:\n",
    "            salary *= 1000\n",
    "        \n",
    "        if max_salary == -1 or salary > max_salary:\n",
    "            max_salary = salary\n",
    "    \n",
    "    if (max_salary < 1000):\n",
    "        return pd.NA\n",
    "    else:\n",
    "        return max_salary\n",
    "\n",
    "#manage_desc(df['description'][23187])"
   ]
  },
  {
   "cell_type": "markdown",
   "id": "7156747a-6787-4813-89b1-f934266c5c0e",
   "metadata": {},
   "source": [
    "Теперь преобразуем все description"
   ]
  },
  {
   "cell_type": "code",
   "execution_count": 32,
   "id": "0d3139ad-792d-4458-9a29-0461bd3e84a4",
   "metadata": {},
   "outputs": [
    {
     "data": {
      "text/plain": [
       "description_salary\n",
       "40000      333\n",
       "50000      319\n",
       "60000      287\n",
       "30000      249\n",
       "100000     232\n",
       "          ... \n",
       "98000        1\n",
       "5100000      1\n",
       "15200        1\n",
       "2170         1\n",
       "25500        1\n",
       "Name: count, Length: 340, dtype: int64"
      ]
     },
     "execution_count": 32,
     "metadata": {},
     "output_type": "execute_result"
    }
   ],
   "source": [
    "df['description_salary'] = df.description.map(manage_desc)\n",
    "df['description_salary'].value_counts()"
   ]
  },
  {
   "cell_type": "markdown",
   "id": "fa9cfa4c-c52c-4c63-a792-fda334153a73",
   "metadata": {},
   "source": [
    "Заполним пустые значения значениями из <i>salary_from</i>"
   ]
  },
  {
   "cell_type": "code",
   "execution_count": 33,
   "id": "4869c73f-155f-4564-a15e-b771e04c157a",
   "metadata": {},
   "outputs": [],
   "source": [
    "df['description_salary'].fillna(df['salary_from'], inplace = True) "
   ]
  },
  {
   "cell_type": "code",
   "execution_count": 34,
   "id": "7b805a28-b021-4efa-b62e-415bfb925ac1",
   "metadata": {},
   "outputs": [
    {
     "name": "stdout",
     "output_type": "stream",
     "text": [
      "<class 'pandas.core.frame.DataFrame'>\n",
      "Index: 27934 entries, 29083 to 15795\n",
      "Data columns (total 12 columns):\n",
      " #   Column                    Non-Null Count  Dtype  \n",
      "---  ------                    --------------  -----  \n",
      " 0   name                      27934 non-null  object \n",
      " 1   has_test                  27934 non-null  bool   \n",
      " 2   response_letter_required  27934 non-null  bool   \n",
      " 3   salary_from               27934 non-null  float64\n",
      " 4   salary_gross              27934 non-null  bool   \n",
      " 5   employer_name             27934 non-null  object \n",
      " 6   description               27934 non-null  object \n",
      " 7   area_name                 27934 non-null  object \n",
      " 8   salary_to                 27934 non-null  float64\n",
      " 9   published_at_diff         27934 non-null  float64\n",
      " 10  description_exp           27934 non-null  float64\n",
      " 11  description_salary        27934 non-null  float64\n",
      "dtypes: bool(3), float64(5), object(4)\n",
      "memory usage: 3.2+ MB\n"
     ]
    }
   ],
   "source": [
    "df.info()"
   ]
  },
  {
   "cell_type": "code",
   "execution_count": 35,
   "id": "a9d0176c-2333-4e1b-afc0-c4a1679cf4f2",
   "metadata": {},
   "outputs": [],
   "source": [
    "df = df.drop(columns=['description'])"
   ]
  },
  {
   "cell_type": "markdown",
   "id": "cc9e767d-10b5-46c7-a450-3bab310ab452",
   "metadata": {},
   "source": [
    "<H2>employer_name</H2>"
   ]
  },
  {
   "cell_type": "markdown",
   "id": "6d57a45d-df1f-429a-8946-c0455934d72e",
   "metadata": {},
   "source": [
    "Далее посмотрим на employer_name"
   ]
  },
  {
   "cell_type": "code",
   "execution_count": 36,
   "id": "491ec47a-8091-4b18-87c6-f6fcda7a06cb",
   "metadata": {},
   "outputs": [
    {
     "data": {
      "text/plain": [
       "employer_name\n",
       "Пятёрочка                    927\n",
       "Пятерочка                    669\n",
       "Перекресток                  324\n",
       "Билайн                       261\n",
       "JCat.ru                       70\n",
       "                            ... \n",
       "Торговая группа ПТК            1\n",
       "LTG Consulting                 1\n",
       "ExMail                         1\n",
       "Албаков Руслан Борисович       1\n",
       "Балтик Граунд Сервисес РУ      1\n",
       "Name: count, Length: 13318, dtype: int64"
      ]
     },
     "execution_count": 36,
     "metadata": {},
     "output_type": "execute_result"
    }
   ],
   "source": [
    "df['employer_name'].value_counts()"
   ]
  },
  {
   "cell_type": "markdown",
   "id": "984c2c33-9d26-49db-b8f6-81a71aa4b2ce",
   "metadata": {},
   "source": [
    "Во первых, можно увидеть два разных написания \"Пятерочка\", возможно есть другие названия, которые отличаются в одном символе. Посмотрим на верхние 3 значения."
   ]
  },
  {
   "cell_type": "code",
   "execution_count": 37,
   "id": "fa69271e-3917-4d12-9bf7-1c1a055716b1",
   "metadata": {},
   "outputs": [],
   "source": [
    "def near_equal(string, pattern):\n",
    "    string1 = string.strip()\n",
    "    string2 = pattern.strip()\n",
    "    max_len = max(len(string1), len(string2))\n",
    "    min_len = min(len(string1), len(string2))\n",
    "    score = 0\n",
    "    for i in range(0, min_len):\n",
    "        if (string1[i] == string2[i]):\n",
    "            score += 1\n",
    "\n",
    "    return score / max_len"
   ]
  },
  {
   "cell_type": "code",
   "execution_count": 38,
   "id": "f6651e17-b77b-480b-9135-b01f832cba93",
   "metadata": {},
   "outputs": [],
   "source": [
    "df['employer_name'] = df['employer_name'].apply(lambda x: x.lower())\n",
    "df['employer_name'] = df['employer_name'].apply(lambda x: x.strip())"
   ]
  },
  {
   "cell_type": "markdown",
   "id": "b525f62f-30f0-43d9-81a0-ff820e05d47d",
   "metadata": {},
   "source": [
    "В списке <i>employer_name</i> есть ИП, написанные как ФИО. Заменим их всех на категорию \"personname\""
   ]
  },
  {
   "cell_type": "code",
   "execution_count": 39,
   "id": "af9cfb91-4726-486e-a6a0-f2e5a4964b46",
   "metadata": {},
   "outputs": [
    {
     "data": {
      "text/plain": [
       "employer_name\n",
       "personname                        1662\n",
       "пятёрочка                          927\n",
       "пятерочка                          669\n",
       "перекресток                        324\n",
       "билайн                             261\n",
       "                                  ... \n",
       "шеф remont                           1\n",
       "патронаж-сити                        1\n",
       "агрегатор страхования блайсико       1\n",
       "пластполимер-т                       1\n",
       "балтик граунд сервисес ру            1\n",
       "Name: count, Length: 12057, dtype: int64"
      ]
     },
     "execution_count": 39,
     "metadata": {},
     "output_type": "execute_result"
    }
   ],
   "source": [
    "df['employer_name'] = df['employer_name'].apply(lambda x: \"personname\" if x.endswith('вич') or x.endswith('вна') or x.endswith('вич)') or x.endswith('вна)') else x) #or x.startswith('ип') or '(ип ' in x)\n",
    "df['employer_name'].value_counts()"
   ]
  },
  {
   "cell_type": "code",
   "execution_count": 40,
   "id": "b90ec253-fc99-4005-a1d4-74d822c3de45",
   "metadata": {},
   "outputs": [],
   "source": [
    "import re\n",
    "\n",
    "map_empl_name_to_count = {}\n",
    "for idx in df.index:\n",
    "    split = re.split('\\W+', df['employer_name'][idx])\n",
    "    split = list(filter(None, split))\n",
    "    for entry in split:\n",
    "        if len(entry) > 2:\n",
    "            if entry in map_empl_name_to_count:\n",
    "                map_empl_name_to_count[entry] = map_empl_name_to_count[entry] + 1\n",
    "            else:\n",
    "                for key in map_empl_name_to_count:\n",
    "                    if near_equal(key, entry) >= 0.75:\n",
    "                        map_empl_name_to_count[key] = map_empl_name_to_count[key] + 1\n",
    "                        break;\n",
    "                else:\n",
    "                    map_empl_name_to_count[entry] = 1"
   ]
  },
  {
   "cell_type": "code",
   "execution_count": null,
   "id": "dffc9d3c-80b5-44f0-a83d-ba09cbb5ab27",
   "metadata": {},
   "outputs": [],
   "source": [
    "map_empl_name_to_count"
   ]
  },
  {
   "cell_type": "code",
   "execution_count": 41,
   "id": "a94a0730-90aa-4dbf-9421-cdbda625d66f",
   "metadata": {},
   "outputs": [],
   "source": [
    "map_empl_name_to_count1 = {k: v for k, v in map_empl_name_to_count.items() if v >= 300}\n",
    "sorted_empl_names_to_count = sorted(map_empl_name_to_count1.items(), key=lambda x:x[1], reverse=True)"
   ]
  },
  {
   "cell_type": "code",
   "execution_count": null,
   "id": "138094e1-a8ef-47d1-b7e5-b16a2bd9a11c",
   "metadata": {},
   "outputs": [],
   "source": [
    "sorted_empl_names_to_count"
   ]
  },
  {
   "cell_type": "code",
   "execution_count": 42,
   "id": "11337ec7-0612-4846-98df-8f59d5826e74",
   "metadata": {},
   "outputs": [],
   "source": [
    "array_false = [False] * len(df)\n",
    "array_true = [True] * len(df)\n",
    "\n",
    "for key, val in sorted_empl_names_to_count:\n",
    "    composite = 'employer_name_' + key\n",
    "    df[composite] = array_false\n",
    "df['employer_name_other'] = array_true\n",
    "\n",
    "#df"
   ]
  },
  {
   "cell_type": "code",
   "execution_count": 43,
   "id": "8eb8a297-b4d6-4d8c-9a3a-a1a1d9236480",
   "metadata": {},
   "outputs": [],
   "source": [
    "for idx in df.index:\n",
    "    split = re.split('\\W+', df['employer_name'][idx])\n",
    "    split = list(filter(None, split))\n",
    "    for entry in split:\n",
    "        for key, val in sorted_empl_names_to_count:\n",
    "            if near_equal(entry, key) >= 0.75:\n",
    "                composite = 'employer_name_' + key\n",
    "                df[composite][idx] = True\n",
    "                df['employer_name_other'][idx] = False\n",
    "\n",
    "#df"
   ]
  },
  {
   "cell_type": "code",
   "execution_count": 44,
   "id": "59f5ac35-97c7-41ee-b38d-43c0b78a676f",
   "metadata": {},
   "outputs": [],
   "source": [
    "df = df.drop(columns=['employer_name'])"
   ]
  },
  {
   "cell_type": "markdown",
   "id": "b8666cf0-08ed-4668-9c6e-a5f26d67d7ed",
   "metadata": {},
   "source": [
    "<H2>name</H2>"
   ]
  },
  {
   "cell_type": "markdown",
   "id": "b1f1fa9a-ae75-48dd-a1ae-c72da73b9102",
   "metadata": {},
   "source": [
    "Теперь рассмотрим последний столбец: <i>name</i>"
   ]
  },
  {
   "cell_type": "code",
   "execution_count": 45,
   "id": "7b6381c6-97bc-4758-83e5-39e418e15154",
   "metadata": {},
   "outputs": [
    {
     "data": {
      "text/plain": [
       "name\n",
       "Менеджер по продажам                                   337\n",
       "Менеджер по работе с клиентами                         201\n",
       "Юрист                                                  162\n",
       "Помощник юриста                                        149\n",
       "Аналитик                                               145\n",
       "                                                      ... \n",
       "Бизнес-аналитик(Внедренец/ Ведущий бизнес-аналитик)      1\n",
       "Руководитель департамента коммерческой недвижимости      1\n",
       "Логист- оператор / Грузчик (ТРК Европолис)               1\n",
       "User Acquisition Manager                                 1\n",
       "Копирайтер / контент менеджер                            1\n",
       "Name: count, Length: 16395, dtype: int64"
      ]
     },
     "execution_count": 45,
     "metadata": {},
     "output_type": "execute_result"
    }
   ],
   "source": [
    "df['name'].value_counts()"
   ]
  },
  {
   "cell_type": "markdown",
   "id": "4fd2153a-8812-4fdd-9f8a-96768fa39b0d",
   "metadata": {},
   "source": [
    "Сначала преобразуем всё к нижнему регистру:"
   ]
  },
  {
   "cell_type": "code",
   "execution_count": 46,
   "id": "c7743794-e2d2-4a94-ae8d-9accdc97e51f",
   "metadata": {},
   "outputs": [
    {
     "data": {
      "text/plain": [
       "name\n",
       "менеджер по продажам                                   340\n",
       "менеджер по работе с клиентами                         202\n",
       "юрист                                                  162\n",
       "уборщица/уборщик                                       150\n",
       "помощник юриста                                        149\n",
       "                                                      ... \n",
       "руководитель департамента коммерческой недвижимости      1\n",
       "логист- оператор / грузчик (трк европолис)               1\n",
       "user acquisition manager                                 1\n",
       "конструктор - технолог корпусной мебели                  1\n",
       "копирайтер / контент менеджер                            1\n",
       "Name: count, Length: 16089, dtype: int64"
      ]
     },
     "execution_count": 46,
     "metadata": {},
     "output_type": "execute_result"
    }
   ],
   "source": [
    "df['name'] = df['name'].apply(lambda x: x.lower())\n",
    "df['name'] = df['name'].apply(lambda x: x.strip())\n",
    "df['name'].value_counts()"
   ]
  },
  {
   "cell_type": "markdown",
   "id": "b854f35c-008e-4389-9829-a37fa4a90f98",
   "metadata": {},
   "source": [
    "Можно увидеть перечисления через /, либо доп. указания в скобках. "
   ]
  },
  {
   "cell_type": "code",
   "execution_count": 47,
   "id": "bcd7839b-8978-43c9-b823-fc25730b8dc8",
   "metadata": {},
   "outputs": [],
   "source": [
    "import re\n",
    "\n",
    "map_name_to_count = {}\n",
    "for idx in df.index:\n",
    "    split = re.split('\\W+', df['name'][idx])\n",
    "    split = list(filter(None, split))\n",
    "    for entry in split:\n",
    "        if len(entry) > 2:\n",
    "            if entry in map_name_to_count:\n",
    "                map_name_to_count[entry] = map_name_to_count[entry] + 1\n",
    "            else:\n",
    "                for key in map_name_to_count:\n",
    "                    if near_equal(key, entry) >= 0.75:\n",
    "                        map_name_to_count[key] = map_name_to_count[key] + 1\n",
    "                        break;\n",
    "                else:\n",
    "                    map_name_to_count[entry] = 1\n",
    "#map_name_to_count"
   ]
  },
  {
   "cell_type": "code",
   "execution_count": 48,
   "id": "ee9f3c01-3a7a-474c-b0f5-b905502aed67",
   "metadata": {},
   "outputs": [],
   "source": [
    "map_name_to_count1 = {k: v for k, v in map_name_to_count.items() if v >= 1100}\n",
    "sorted_names_to_count = sorted(map_name_to_count1.items(), key=lambda x:x[1], reverse=True)\n",
    "#sorted_names_to_count"
   ]
  },
  {
   "cell_type": "code",
   "execution_count": 49,
   "id": "d5d3fba4-d3f4-437d-812a-47d9089de1b3",
   "metadata": {},
   "outputs": [],
   "source": [
    "array_false = [False] * len(df)\n",
    "array_true = [True] * len(df)\n",
    "\n",
    "for key, val in sorted_names_to_count:\n",
    "    composite = 'name_' + key\n",
    "    df[composite] = array_false\n",
    "df['name_other'] = array_true\n",
    "\n",
    "#df"
   ]
  },
  {
   "cell_type": "code",
   "execution_count": 50,
   "id": "ed12383d-5cf8-4135-957b-469537152f1a",
   "metadata": {},
   "outputs": [],
   "source": [
    "for idx in df.index:\n",
    "    split = re.split('\\W+', df['name'][idx])\n",
    "    split = list(filter(None, split))\n",
    "    for entry in split:\n",
    "        for key, val in sorted_names_to_count:\n",
    "            if near_equal(entry, key) >= 0.75:\n",
    "                composite = 'name_' + key\n",
    "                df[composite][idx] = True\n",
    "                df['name_other'][idx] = False\n",
    "\n",
    "#df"
   ]
  },
  {
   "cell_type": "code",
   "execution_count": 51,
   "id": "25435c3e-3c59-405e-8d0e-f8f5a80d2d97",
   "metadata": {},
   "outputs": [],
   "source": [
    "df = df.drop(columns=['name'])"
   ]
  },
  {
   "cell_type": "markdown",
   "id": "65a31733-0bed-45d1-9e2a-375791fa1e13",
   "metadata": {},
   "source": [
    "<H1>One-Hotting</H1>"
   ]
  },
  {
   "cell_type": "code",
   "execution_count": 52,
   "id": "77aeddd1-ff08-4849-8c80-b8f19c5158fe",
   "metadata": {},
   "outputs": [
    {
     "name": "stdout",
     "output_type": "stream",
     "text": [
      "<class 'pandas.core.frame.DataFrame'>\n",
      "Index: 27934 entries, 29083 to 15795\n",
      "Data columns (total 33 columns):\n",
      " #   Column                     Non-Null Count  Dtype  \n",
      "---  ------                     --------------  -----  \n",
      " 0   has_test                   27934 non-null  bool   \n",
      " 1   response_letter_required   27934 non-null  bool   \n",
      " 2   salary_from                27934 non-null  float64\n",
      " 3   salary_gross               27934 non-null  bool   \n",
      " 4   area_name                  27934 non-null  object \n",
      " 5   salary_to                  27934 non-null  float64\n",
      " 6   published_at_diff          27934 non-null  float64\n",
      " 7   description_exp            27934 non-null  float64\n",
      " 8   description_salary         27934 non-null  float64\n",
      " 9   employer_name_personname   27934 non-null  bool   \n",
      " 10  employer_name_пятёрочка    27934 non-null  bool   \n",
      " 11  employer_name_группа       27934 non-null  bool   \n",
      " 12  employer_name_компаний     27934 non-null  bool   \n",
      " 13  employer_name_центр        27934 non-null  bool   \n",
      " 14  employer_name_group        27934 non-null  bool   \n",
      " 15  employer_name_сеть         27934 non-null  bool   \n",
      " 16  employer_name_перекресток  27934 non-null  bool   \n",
      " 17  employer_name_other        27934 non-null  bool   \n",
      " 18  name_менеджер              27934 non-null  bool   \n",
      " 19  name_разработчик           27934 non-null  bool   \n",
      " 20  name_продавец              27934 non-null  bool   \n",
      " 21  name_продажам              27934 non-null  bool   \n",
      " 22  name_кассир                27934 non-null  bool   \n",
      " 23  name_developer             27934 non-null  bool   \n",
      " 24  name_москва                27934 non-null  bool   \n",
      " 25  name_специалист            27934 non-null  bool   \n",
      " 26  name_инженер               27934 non-null  bool   \n",
      " 27  name_удаленная             27934 non-null  bool   \n",
      " 28  name_работе                27934 non-null  bool   \n",
      " 29  name_уборщик               27934 non-null  bool   \n",
      " 30  name_программист           27934 non-null  bool   \n",
      " 31  name_аналитик              27934 non-null  bool   \n",
      " 32  name_other                 27934 non-null  bool   \n",
      "dtypes: bool(27), float64(5), object(1)\n",
      "memory usage: 3.2+ MB\n"
     ]
    }
   ],
   "source": [
    "df.info()"
   ]
  },
  {
   "cell_type": "markdown",
   "id": "e99f5238-794b-4a60-a846-f978742f9fb5",
   "metadata": {},
   "source": [
    "Сделаем one-hotting категориальных фич:"
   ]
  },
  {
   "cell_type": "code",
   "execution_count": 53,
   "id": "de709b48-cea9-4b61-b3dd-0815eadb5757",
   "metadata": {},
   "outputs": [
    {
     "data": {
      "text/html": [
       "<div>\n",
       "<style scoped>\n",
       "    .dataframe tbody tr th:only-of-type {\n",
       "        vertical-align: middle;\n",
       "    }\n",
       "\n",
       "    .dataframe tbody tr th {\n",
       "        vertical-align: top;\n",
       "    }\n",
       "\n",
       "    .dataframe thead th {\n",
       "        text-align: right;\n",
       "    }\n",
       "</style>\n",
       "<table border=\"1\" class=\"dataframe\">\n",
       "  <thead>\n",
       "    <tr style=\"text-align: right;\">\n",
       "      <th></th>\n",
       "      <th>area_name_Other</th>\n",
       "      <th>area_name_Екатеринбург</th>\n",
       "      <th>area_name_Казань</th>\n",
       "      <th>area_name_Краснодар</th>\n",
       "      <th>area_name_Москва</th>\n",
       "      <th>area_name_Новосибирск</th>\n",
       "      <th>area_name_Санкт-Петербург</th>\n",
       "      <th>has_test</th>\n",
       "      <th>response_letter_required</th>\n",
       "      <th>salary_from</th>\n",
       "      <th>...</th>\n",
       "      <th>name_developer</th>\n",
       "      <th>name_москва</th>\n",
       "      <th>name_специалист</th>\n",
       "      <th>name_инженер</th>\n",
       "      <th>name_удаленная</th>\n",
       "      <th>name_работе</th>\n",
       "      <th>name_уборщик</th>\n",
       "      <th>name_программист</th>\n",
       "      <th>name_аналитик</th>\n",
       "      <th>name_other</th>\n",
       "    </tr>\n",
       "    <tr>\n",
       "      <th>id</th>\n",
       "      <th></th>\n",
       "      <th></th>\n",
       "      <th></th>\n",
       "      <th></th>\n",
       "      <th></th>\n",
       "      <th></th>\n",
       "      <th></th>\n",
       "      <th></th>\n",
       "      <th></th>\n",
       "      <th></th>\n",
       "      <th></th>\n",
       "      <th></th>\n",
       "      <th></th>\n",
       "      <th></th>\n",
       "      <th></th>\n",
       "      <th></th>\n",
       "      <th></th>\n",
       "      <th></th>\n",
       "      <th></th>\n",
       "      <th></th>\n",
       "      <th></th>\n",
       "    </tr>\n",
       "  </thead>\n",
       "  <tbody>\n",
       "    <tr>\n",
       "      <th>29083</th>\n",
       "      <td>False</td>\n",
       "      <td>False</td>\n",
       "      <td>False</td>\n",
       "      <td>False</td>\n",
       "      <td>True</td>\n",
       "      <td>False</td>\n",
       "      <td>False</td>\n",
       "      <td>False</td>\n",
       "      <td>False</td>\n",
       "      <td>40000.0</td>\n",
       "      <td>...</td>\n",
       "      <td>False</td>\n",
       "      <td>False</td>\n",
       "      <td>False</td>\n",
       "      <td>False</td>\n",
       "      <td>False</td>\n",
       "      <td>False</td>\n",
       "      <td>False</td>\n",
       "      <td>False</td>\n",
       "      <td>False</td>\n",
       "      <td>False</td>\n",
       "    </tr>\n",
       "    <tr>\n",
       "      <th>26052</th>\n",
       "      <td>False</td>\n",
       "      <td>False</td>\n",
       "      <td>False</td>\n",
       "      <td>False</td>\n",
       "      <td>True</td>\n",
       "      <td>False</td>\n",
       "      <td>False</td>\n",
       "      <td>False</td>\n",
       "      <td>False</td>\n",
       "      <td>120000.0</td>\n",
       "      <td>...</td>\n",
       "      <td>False</td>\n",
       "      <td>False</td>\n",
       "      <td>False</td>\n",
       "      <td>False</td>\n",
       "      <td>False</td>\n",
       "      <td>False</td>\n",
       "      <td>False</td>\n",
       "      <td>False</td>\n",
       "      <td>False</td>\n",
       "      <td>True</td>\n",
       "    </tr>\n",
       "    <tr>\n",
       "      <th>24055</th>\n",
       "      <td>False</td>\n",
       "      <td>False</td>\n",
       "      <td>False</td>\n",
       "      <td>False</td>\n",
       "      <td>True</td>\n",
       "      <td>False</td>\n",
       "      <td>False</td>\n",
       "      <td>False</td>\n",
       "      <td>False</td>\n",
       "      <td>40000.0</td>\n",
       "      <td>...</td>\n",
       "      <td>False</td>\n",
       "      <td>False</td>\n",
       "      <td>False</td>\n",
       "      <td>False</td>\n",
       "      <td>False</td>\n",
       "      <td>False</td>\n",
       "      <td>False</td>\n",
       "      <td>True</td>\n",
       "      <td>False</td>\n",
       "      <td>False</td>\n",
       "    </tr>\n",
       "    <tr>\n",
       "      <th>4408</th>\n",
       "      <td>False</td>\n",
       "      <td>False</td>\n",
       "      <td>False</td>\n",
       "      <td>False</td>\n",
       "      <td>True</td>\n",
       "      <td>False</td>\n",
       "      <td>False</td>\n",
       "      <td>False</td>\n",
       "      <td>False</td>\n",
       "      <td>33500.0</td>\n",
       "      <td>...</td>\n",
       "      <td>False</td>\n",
       "      <td>True</td>\n",
       "      <td>False</td>\n",
       "      <td>False</td>\n",
       "      <td>False</td>\n",
       "      <td>False</td>\n",
       "      <td>False</td>\n",
       "      <td>False</td>\n",
       "      <td>False</td>\n",
       "      <td>False</td>\n",
       "    </tr>\n",
       "    <tr>\n",
       "      <th>16856</th>\n",
       "      <td>False</td>\n",
       "      <td>False</td>\n",
       "      <td>False</td>\n",
       "      <td>False</td>\n",
       "      <td>True</td>\n",
       "      <td>False</td>\n",
       "      <td>False</td>\n",
       "      <td>False</td>\n",
       "      <td>True</td>\n",
       "      <td>30000.0</td>\n",
       "      <td>...</td>\n",
       "      <td>False</td>\n",
       "      <td>False</td>\n",
       "      <td>False</td>\n",
       "      <td>False</td>\n",
       "      <td>False</td>\n",
       "      <td>False</td>\n",
       "      <td>False</td>\n",
       "      <td>False</td>\n",
       "      <td>False</td>\n",
       "      <td>True</td>\n",
       "    </tr>\n",
       "  </tbody>\n",
       "</table>\n",
       "<p>5 rows × 40 columns</p>\n",
       "</div>"
      ],
      "text/plain": [
       "       area_name_Other  area_name_Екатеринбург  area_name_Казань  \\\n",
       "id                                                                 \n",
       "29083            False                   False             False   \n",
       "26052            False                   False             False   \n",
       "24055            False                   False             False   \n",
       "4408             False                   False             False   \n",
       "16856            False                   False             False   \n",
       "\n",
       "       area_name_Краснодар  area_name_Москва  area_name_Новосибирск  \\\n",
       "id                                                                    \n",
       "29083                False              True                  False   \n",
       "26052                False              True                  False   \n",
       "24055                False              True                  False   \n",
       "4408                 False              True                  False   \n",
       "16856                False              True                  False   \n",
       "\n",
       "       area_name_Санкт-Петербург  has_test  response_letter_required  \\\n",
       "id                                                                     \n",
       "29083                      False     False                     False   \n",
       "26052                      False     False                     False   \n",
       "24055                      False     False                     False   \n",
       "4408                       False     False                     False   \n",
       "16856                      False     False                      True   \n",
       "\n",
       "       salary_from  ...  name_developer name_москва  name_специалист  \\\n",
       "id                  ...                                                \n",
       "29083      40000.0  ...           False       False            False   \n",
       "26052     120000.0  ...           False       False            False   \n",
       "24055      40000.0  ...           False       False            False   \n",
       "4408       33500.0  ...           False        True            False   \n",
       "16856      30000.0  ...           False       False            False   \n",
       "\n",
       "       name_инженер  name_удаленная  name_работе  name_уборщик  \\\n",
       "id                                                               \n",
       "29083         False           False        False         False   \n",
       "26052         False           False        False         False   \n",
       "24055         False           False        False         False   \n",
       "4408          False           False        False         False   \n",
       "16856         False           False        False         False   \n",
       "\n",
       "       name_программист  name_аналитик  name_other  \n",
       "id                                                  \n",
       "29083             False          False       False  \n",
       "26052             False          False        True  \n",
       "24055              True          False       False  \n",
       "4408              False          False       False  \n",
       "16856             False          False        True  \n",
       "\n",
       "[5 rows x 40 columns]"
      ]
     },
     "execution_count": 53,
     "metadata": {},
     "output_type": "execute_result"
    }
   ],
   "source": [
    "df_one_hoted = df.copy()\n",
    "\n",
    "#ONE_HOT_COL = ['published_at_diff']\n",
    "ONE_HOT_COL = ['area_name'] #'name', 'employer_name', 'published_at_diff'\n",
    "\n",
    "temp = pd.get_dummies(df_one_hoted[ONE_HOT_COL], prefix=ONE_HOT_COL, dtype=bool)\n",
    "\n",
    "df_one_hoted = pd.concat([temp, df], axis=1)\n",
    "\n",
    "df_one_hoted.head()"
   ]
  },
  {
   "cell_type": "markdown",
   "id": "72b412b4-3e2c-4f90-b090-f577ce526e81",
   "metadata": {},
   "source": [
    "Удалим столбцы:"
   ]
  },
  {
   "cell_type": "code",
   "execution_count": 54,
   "id": "c5ae898b-116b-4f9b-8527-4770431da98b",
   "metadata": {},
   "outputs": [],
   "source": [
    "df_one_hoted = df_one_hoted.drop(columns=['area_name'])#, 'name', 'employer_name', 'published_at_diff' ])\n",
    "#df_one_hoted = df_one_hoted.drop(columns=['published_at_diff'])"
   ]
  },
  {
   "cell_type": "code",
   "execution_count": 55,
   "id": "2c7b89ac-fb46-44df-b62f-b3a85fd3250f",
   "metadata": {},
   "outputs": [
    {
     "name": "stdout",
     "output_type": "stream",
     "text": [
      "<class 'pandas.core.frame.DataFrame'>\n",
      "Index: 27934 entries, 29083 to 15795\n",
      "Data columns (total 39 columns):\n",
      " #   Column                     Non-Null Count  Dtype  \n",
      "---  ------                     --------------  -----  \n",
      " 0   area_name_Other            27934 non-null  bool   \n",
      " 1   area_name_Екатеринбург     27934 non-null  bool   \n",
      " 2   area_name_Казань           27934 non-null  bool   \n",
      " 3   area_name_Краснодар        27934 non-null  bool   \n",
      " 4   area_name_Москва           27934 non-null  bool   \n",
      " 5   area_name_Новосибирск      27934 non-null  bool   \n",
      " 6   area_name_Санкт-Петербург  27934 non-null  bool   \n",
      " 7   has_test                   27934 non-null  bool   \n",
      " 8   response_letter_required   27934 non-null  bool   \n",
      " 9   salary_from                27934 non-null  float64\n",
      " 10  salary_gross               27934 non-null  bool   \n",
      " 11  salary_to                  27934 non-null  float64\n",
      " 12  published_at_diff          27934 non-null  float64\n",
      " 13  description_exp            27934 non-null  float64\n",
      " 14  description_salary         27934 non-null  float64\n",
      " 15  employer_name_personname   27934 non-null  bool   \n",
      " 16  employer_name_пятёрочка    27934 non-null  bool   \n",
      " 17  employer_name_группа       27934 non-null  bool   \n",
      " 18  employer_name_компаний     27934 non-null  bool   \n",
      " 19  employer_name_центр        27934 non-null  bool   \n",
      " 20  employer_name_group        27934 non-null  bool   \n",
      " 21  employer_name_сеть         27934 non-null  bool   \n",
      " 22  employer_name_перекресток  27934 non-null  bool   \n",
      " 23  employer_name_other        27934 non-null  bool   \n",
      " 24  name_менеджер              27934 non-null  bool   \n",
      " 25  name_разработчик           27934 non-null  bool   \n",
      " 26  name_продавец              27934 non-null  bool   \n",
      " 27  name_продажам              27934 non-null  bool   \n",
      " 28  name_кассир                27934 non-null  bool   \n",
      " 29  name_developer             27934 non-null  bool   \n",
      " 30  name_москва                27934 non-null  bool   \n",
      " 31  name_специалист            27934 non-null  bool   \n",
      " 32  name_инженер               27934 non-null  bool   \n",
      " 33  name_удаленная             27934 non-null  bool   \n",
      " 34  name_работе                27934 non-null  bool   \n",
      " 35  name_уборщик               27934 non-null  bool   \n",
      " 36  name_программист           27934 non-null  bool   \n",
      " 37  name_аналитик              27934 non-null  bool   \n",
      " 38  name_other                 27934 non-null  bool   \n",
      "dtypes: bool(34), float64(5)\n",
      "memory usage: 3.2 MB\n"
     ]
    }
   ],
   "source": [
    "df_one_hoted.info()"
   ]
  },
  {
   "cell_type": "code",
   "execution_count": 56,
   "id": "a2120e04-9997-4a86-90af-086d83dfc2a3",
   "metadata": {},
   "outputs": [],
   "source": [
    "df = df_one_hoted"
   ]
  },
  {
   "cell_type": "markdown",
   "id": "d988bea0-d3cf-4a8b-9c42-b1aa82ee6ffa",
   "metadata": {},
   "source": [
    "<H1>Корреляция</H1>"
   ]
  },
  {
   "cell_type": "code",
   "execution_count": null,
   "id": "0602e1f2-46f2-4484-a1b4-f7b41247e788",
   "metadata": {},
   "outputs": [],
   "source": [
    "df.corr().style.background_gradient(cmap='coolwarm')"
   ]
  },
  {
   "cell_type": "code",
   "execution_count": null,
   "id": "295ada70-d5ed-4432-af0f-0fd27bb57b89",
   "metadata": {},
   "outputs": [],
   "source": [
    "#df = df.drop(columns=['description']) #, 'description'\n",
    "#df['salary_from'] = np.log(df['salary_from'])\n",
    "#df['description'] = np.exp(df['description'])"
   ]
  },
  {
   "cell_type": "code",
   "execution_count": null,
   "id": "70debbf1-3d79-444d-8179-84551dc676b7",
   "metadata": {},
   "outputs": [],
   "source": [
    "#df['salary_from']"
   ]
  },
  {
   "cell_type": "markdown",
   "id": "d3d7a313-9806-4e5d-8c78-7c62f3064bd7",
   "metadata": {},
   "source": [
    "<H1>Создание модели</H1>"
   ]
  },
  {
   "cell_type": "code",
   "execution_count": 59,
   "id": "0155bdd9-5dc2-4592-8991-539ce8c283c5",
   "metadata": {},
   "outputs": [],
   "source": [
    "from sklearn.model_selection import train_test_split\n",
    "\n",
    "\n",
    "#df_sampled = df.sample(20_000)\n",
    "\n",
    "X_train, X_test, y_train, y_test = train_test_split(df.drop(columns='salary_to'), df.salary_to, test_size=0.3, random_state=123458)"
   ]
  },
  {
   "cell_type": "code",
   "execution_count": 60,
   "id": "ce3cdbaf-b6e5-44a5-bd9d-b58c9964c3d1",
   "metadata": {},
   "outputs": [],
   "source": [
    "def smape(A, F):\n",
    "    return 100/len(A) * np.sum(2 * np.abs(F - A) / (np.abs(A) + np.abs(F)))"
   ]
  },
  {
   "cell_type": "code",
   "execution_count": null,
   "id": "8e7293a3-9e45-4ad6-8b3d-1aecb158ca76",
   "metadata": {},
   "outputs": [],
   "source": [
    "%%time\n",
    "from sklearn.linear_model import SGDRegressor, LinearRegression\n",
    "from sklearn.metrics import mean_absolute_error, mean_squared_error, mean_absolute_percentage_error\n",
    "\n",
    "model_LR = LinearRegression()\n",
    "model_LR.fit(X_train, y_train)\n",
    "\n",
    "y_pred_train = model_LR.predict(X_train)\n",
    "y_pred_test = model_LR.predict(X_test)\n",
    "\n",
    "#print(f'MAE train: {mean_absolute_error(y_train, y_pred_train)}, MAE test: {mean_absolute_error(y_test, y_pred_test)}')\n",
    "#print(f'MSE train: {mean_squared_error(y_train, y_pred_train)}, MSE test: {mean_squared_error(y_test, y_pred_test)}')\n",
    "#print(f'MAPE train: {mean_absolute_percentage_error(y_train, y_pred_train)}, MAPE test: {mean_absolute_percentage_error(y_test, y_pred_test)}')\n",
    "print(f'SMAPE train: {smape(y_train, y_pred_train)}, SMAPE test: {smape(y_test, y_pred_test)}')"
   ]
  },
  {
   "cell_type": "code",
   "execution_count": null,
   "id": "ae3301f2-2e99-4789-8344-657bc6120a17",
   "metadata": {},
   "outputs": [],
   "source": [
    "model_SGR = SGDRegressor() # epsilon_insensitive, huber, squared_loss\n",
    "model_SGR.fit(X_train, y_train)\n",
    "\n",
    "y_pred_train = model_SGR.predict(X_train)\n",
    "y_pred_test = model_SGR.predict(X_test)\n",
    "\n",
    "#print(f'MAE train: {mean_absolute_error(y_train, y_pred_train)}, MAE test: {mean_absolute_error(y_test, y_pred_test)}')\n",
    "#print(f'MSE train: {mean_squared_error(y_train, y_pred_train)}, MSE test: {mean_squared_error(y_test, y_pred_test)}')\n",
    "#print(f'MAPE train: {mean_absolute_percentage_error(y_train, y_pred_train)}, MAPE test: {mean_absolute_percentage_error(y_test, y_pred_test)}')\n",
    "print(f'SMAPE train: {smape(y_train, y_pred_train)}, SMAPE test: {smape(y_test, y_pred_test)}')"
   ]
  },
  {
   "cell_type": "code",
   "execution_count": null,
   "id": "d78eb886-9c99-4691-ab6b-b93e5591d7a3",
   "metadata": {},
   "outputs": [],
   "source": [
    "%%time\n",
    "from xgboost import XGBRegressor\n",
    "from sklearn.metrics import mean_absolute_error, mean_squared_error, mean_absolute_percentage_error\n",
    "\n",
    "def smape1(A, F):\n",
    "    return 100/len(A) * np.sum(2 * np.abs(F - A) / (np.abs(A) + np.abs(F)))\n",
    "\n",
    "xg_model = XGBRegressor()\n",
    "xg_model.fit(X_train, y_train)\n",
    "\n",
    "y_pred_train = xg_model.predict(X_train)\n",
    "y_pred_test = xg_model.predict(X_test)\n",
    "\n",
    "#print(f'MAE train: {mean_absolute_error(y_train, y_pred_train)}, MAE test: {mean_absolute_error(y_test, y_pred_test)}')\n",
    "#print(f'MSE train: {mean_squared_error(y_train, y_pred_train)}, MSE test: {mean_squared_error(y_test, y_pred_test)}')\n",
    "#print(f'MAPE train: {mean_absolute_percentage_error(y_train, y_pred_train)}, MAPE test: {mean_absolute_percentage_error(y_test, y_pred_test)}')\n",
    "print(f'SMAPE train: {smape(y_train, y_pred_train)}, SMAPE test: {smape(y_test, y_pred_test)}')"
   ]
  },
  {
   "cell_type": "code",
   "execution_count": null,
   "id": "3fcae64d-5a3d-4651-ade3-03f22c426451",
   "metadata": {},
   "outputs": [],
   "source": [
    "xg_model.score(X_test, y_test)"
   ]
  },
  {
   "cell_type": "code",
   "execution_count": null,
   "id": "e6e9045b-e4f5-478d-9e01-a848bb8aaeec",
   "metadata": {},
   "outputs": [],
   "source": [
    "importances1 = dict(zip(xg_model.feature_names_in_, xg_model.feature_importances_))\n",
    "importances1 = {k: v for k,v in sorted(importances1.items(), key=lambda x: x[1], reverse=True)}\n",
    "importances1"
   ]
  },
  {
   "cell_type": "code",
   "execution_count": 62,
   "id": "e87bded3-c883-4b65-9c86-909763014379",
   "metadata": {},
   "outputs": [
    {
     "name": "stdout",
     "output_type": "stream",
     "text": [
      "SMAPE train: 12.272030974498632, SMAPE test: 26.90032659347986\n",
      "CPU times: user 14.6 s, sys: 0 ns, total: 14.6 s\n",
      "Wall time: 15.1 s\n"
     ]
    }
   ],
   "source": [
    "%%time\n",
    "from sklearn.ensemble import RandomForestRegressor\n",
    "from sklearn.metrics import mean_absolute_error, mean_squared_error, mean_absolute_percentage_error\n",
    "\n",
    "\n",
    "model = RandomForestRegressor(n_estimators=100, max_depth=70, min_samples_split=3, random_state=123458)#, criterion='friedman_mse')\n",
    "model.fit(X_train, y_train)\n",
    "\n",
    "y_pred_train = model.predict(X_train)\n",
    "y_pred_test = model.predict(X_test)\n",
    "\n",
    "#print(f'MAE train: {mean_absolute_error(y_train, y_pred_train)}, MAE test: {mean_absolute_error(y_test, y_pred_test)}')\n",
    "#print(f'MSE train: {mean_squared_error(y_train, y_pred_train)}, MSE test: {mean_squared_error(y_test, y_pred_test)}')\n",
    "#print(f'MAPE train: {mean_absolute_percentage_error(y_train, y_pred_train)}, MAPE test: {mean_absolute_percentage_error(y_test, y_pred_test)}')\n",
    "print(f'SMAPE train: {smape(y_train, y_pred_train)}, SMAPE test: {smape(y_test, y_pred_test)}')"
   ]
  },
  {
   "cell_type": "code",
   "execution_count": null,
   "id": "1a533182-79b3-47a9-b000-9828c3f856e3",
   "metadata": {},
   "outputs": [],
   "source": [
    "model.score(X_train, y_train)"
   ]
  },
  {
   "cell_type": "code",
   "execution_count": 63,
   "id": "fb77978e-544d-4a36-b085-ee72378c6a46",
   "metadata": {},
   "outputs": [
    {
     "data": {
      "text/plain": [
       "0.46326200569642384"
      ]
     },
     "execution_count": 63,
     "metadata": {},
     "output_type": "execute_result"
    }
   ],
   "source": [
    "model.score(X_test, y_test)"
   ]
  },
  {
   "cell_type": "code",
   "execution_count": null,
   "id": "a6f8dc1a-f9a1-44f9-87ed-5d00823aee49",
   "metadata": {},
   "outputs": [],
   "source": [
    "importances = dict(zip(model.feature_names_in_, model.feature_importances_))\n",
    "importances = {k: v for k,v in sorted(importances.items(), key=lambda x: x[1], reverse=True)}"
   ]
  },
  {
   "cell_type": "code",
   "execution_count": null,
   "id": "1cac0b44-4038-4f78-93ba-01314a0e0ce0",
   "metadata": {},
   "outputs": [],
   "source": [
    "importances"
   ]
  },
  {
   "cell_type": "code",
   "execution_count": null,
   "id": "d3f2ebbc-252b-4c1f-b2fd-2d32a56aaf0c",
   "metadata": {},
   "outputs": [],
   "source": [
    "from sklearn.model_selection import GridSearchCV\n",
    "\n",
    "param_grid = {\n",
    "    'n_estimators': [50, 100, 150],\n",
    "    'max_depth': [5, 10, 30, 50, None],\n",
    "    'min_samples_split': [3, 4, 5]\n",
    "}\n",
    "\n",
    "grid_search = GridSearchCV(estimator=RandomForestRegressor(),\n",
    "                           param_grid=param_grid, verbose=10)\n",
    "\t\t\t\t\t\t   \n",
    "\t\t\t\t\t\t\n",
    "\t\t\t\t\t\t\n",
    "grid_search.fit(X_train, y_train)"
   ]
  },
  {
   "cell_type": "code",
   "execution_count": null,
   "id": "5188974c-8b8a-424b-a51c-29ab261ef076",
   "metadata": {},
   "outputs": [],
   "source": [
    "grid_search.best_estimator_"
   ]
  },
  {
   "cell_type": "code",
   "execution_count": null,
   "id": "182098f7-7c41-46f0-bcbc-5b4c86dd751f",
   "metadata": {},
   "outputs": [],
   "source": [
    "model = grid_search.best_estimator_"
   ]
  },
  {
   "cell_type": "code",
   "execution_count": null,
   "id": "056e5b92-eb16-4ffa-b66c-df1e3083e783",
   "metadata": {},
   "outputs": [],
   "source": [
    "model.score(X_test, y_test)"
   ]
  },
  {
   "cell_type": "code",
   "execution_count": null,
   "id": "e4d7c74b-66a8-4b05-8355-6363ba01b5c8",
   "metadata": {},
   "outputs": [],
   "source": [
    "%%time\n",
    "#from sklearn.ensemble import RandomForestRegressor\n",
    "#from sklearn.metrics import mean_absolute_error, mean_squared_error, mean_absolute_percentage_error\n",
    "\n",
    "\n",
    "#model = RandomForestRegressor(n_estimators=100)#criterion='friedman_mse')\n",
    "#model.fit(X_train, y_train)\n",
    "\n",
    "y_pred_train = model.predict(X_train)\n",
    "y_pred_test = model.predict(X_test)\n",
    "\n",
    "#print(f'MAE train: {mean_absolute_error(y_train, y_pred_train)}, MAE test: {mean_absolute_error(y_test, y_pred_test)}')\n",
    "#print(f'MSE train: {mean_squared_error(y_train, y_pred_train)}, MSE test: {mean_squared_error(y_test, y_pred_test)}')\n",
    "#print(f'MAPE train: {mean_absolute_percentage_error(y_train, y_pred_train)}, MAPE test: {mean_absolute_percentage_error(y_test, y_pred_test)}')\n",
    "print(f'SMAPE train: {smape(y_train, y_pred_train)}, SMAPE test: {smape(y_test, y_pred_test)}')"
   ]
  },
  {
   "cell_type": "code",
   "execution_count": 64,
   "id": "a1d01fd3-9d3d-4ada-a838-8edc0d027525",
   "metadata": {},
   "outputs": [
    {
     "name": "stdout",
     "output_type": "stream",
     "text": [
      "0:\tlearn: 54.8282648\ttest: 54.8188497\tbest: 54.8188497 (0)\ttotal: 67.5ms\tremaining: 56m 15s\n",
      "1000:\tlearn: 25.9059802\ttest: 25.8530798\tbest: 25.8530798 (1000)\ttotal: 5.37s\tremaining: 4m 22s\n",
      "2000:\tlearn: 25.1492292\ttest: 25.3532940\tbest: 25.3532940 (2000)\ttotal: 11.9s\tremaining: 4m 44s\n",
      "3000:\tlearn: 24.3879038\ttest: 24.8946554\tbest: 24.8946554 (3000)\ttotal: 17.6s\tremaining: 4m 35s\n",
      "4000:\tlearn: 23.8041260\ttest: 24.6039654\tbest: 24.6039654 (4000)\ttotal: 23.5s\tremaining: 4m 29s\n",
      "5000:\tlearn: 23.3406025\ttest: 24.4131166\tbest: 24.4128389 (4997)\ttotal: 29.5s\tremaining: 4m 25s\n",
      "6000:\tlearn: 22.9896951\ttest: 24.3318168\tbest: 24.3318085 (5999)\ttotal: 35.2s\tremaining: 4m 17s\n",
      "7000:\tlearn: 22.6909258\ttest: 24.2599707\tbest: 24.2414368 (6967)\ttotal: 42.1s\tremaining: 4m 18s\n",
      "8000:\tlearn: 22.4771771\ttest: 24.2101102\tbest: 24.1936127 (7917)\ttotal: 49.1s\tremaining: 4m 17s\n",
      "9000:\tlearn: 22.2824847\ttest: 24.1706649\tbest: 24.1494109 (8921)\ttotal: 57.8s\tremaining: 4m 23s\n",
      "10000:\tlearn: 22.1140879\ttest: 24.1453611\tbest: 24.1450830 (9980)\ttotal: 1m 6s\tremaining: 4m 25s\n",
      "11000:\tlearn: 21.9690954\ttest: 24.1319096\tbest: 24.1276006 (10947)\ttotal: 1m 14s\tremaining: 4m 25s\n",
      "12000:\tlearn: 21.8188571\ttest: 24.1150923\tbest: 24.1150797 (11999)\ttotal: 1m 22s\tremaining: 4m 20s\n",
      "13000:\tlearn: 21.7302188\ttest: 24.1024825\tbest: 24.1024351 (12999)\ttotal: 1m 29s\tremaining: 4m 14s\n",
      "14000:\tlearn: 21.6097248\ttest: 24.0980125\tbest: 24.0978365 (13978)\ttotal: 1m 36s\tremaining: 4m 8s\n",
      "15000:\tlearn: 21.5247149\ttest: 24.0892934\tbest: 24.0891795 (14948)\ttotal: 1m 43s\tremaining: 4m\n",
      "16000:\tlearn: 21.4125913\ttest: 24.0783179\tbest: 24.0769554 (15910)\ttotal: 1m 49s\tremaining: 3m 53s\n",
      "17000:\tlearn: 21.3434444\ttest: 24.0674612\tbest: 24.0671480 (16981)\ttotal: 1m 56s\tremaining: 3m 46s\n",
      "18000:\tlearn: 21.2529474\ttest: 24.0592253\tbest: 24.0589473 (17967)\ttotal: 2m 3s\tremaining: 3m 40s\n",
      "19000:\tlearn: 21.1894124\ttest: 24.0519121\tbest: 24.0515069 (18967)\ttotal: 2m 11s\tremaining: 3m 33s\n",
      "20000:\tlearn: 21.1279759\ttest: 24.0477501\tbest: 24.0464852 (19864)\ttotal: 2m 18s\tremaining: 3m 27s\n",
      "21000:\tlearn: 21.0576544\ttest: 24.0471758\tbest: 24.0452915 (20653)\ttotal: 2m 25s\tremaining: 3m 20s\n",
      "22000:\tlearn: 20.9876279\ttest: 24.0448084\tbest: 24.0440980 (21890)\ttotal: 2m 32s\tremaining: 3m 14s\n",
      "23000:\tlearn: 20.9224734\ttest: 24.0437994\tbest: 24.0425727 (22759)\ttotal: 2m 39s\tremaining: 3m 7s\n",
      "24000:\tlearn: 20.8951327\ttest: 24.0418349\tbest: 24.0409665 (23891)\ttotal: 2m 48s\tremaining: 3m 2s\n",
      "25000:\tlearn: 20.8329612\ttest: 24.0415731\tbest: 24.0403582 (24170)\ttotal: 2m 56s\tremaining: 2m 56s\n",
      "26000:\tlearn: 20.7812433\ttest: 24.0375511\tbest: 24.0372953 (25952)\ttotal: 3m 6s\tremaining: 2m 52s\n",
      "27000:\tlearn: 20.7053752\ttest: 24.0359341\tbest: 24.0355649 (26961)\ttotal: 3m 14s\tremaining: 2m 45s\n",
      "28000:\tlearn: 20.6433892\ttest: 24.0355422\tbest: 24.0352047 (27985)\ttotal: 3m 20s\tremaining: 2m 37s\n",
      "29000:\tlearn: 20.6031640\ttest: 24.0314840\tbest: 24.0312423 (28887)\ttotal: 3m 26s\tremaining: 2m 29s\n",
      "30000:\tlearn: 20.5644223\ttest: 24.0306192\tbest: 24.0302617 (29973)\ttotal: 3m 32s\tremaining: 2m 21s\n",
      "31000:\tlearn: 20.5162124\ttest: 24.0308049\tbest: 24.0301111 (30767)\ttotal: 3m 38s\tremaining: 2m 13s\n",
      "32000:\tlearn: 20.4645829\ttest: 24.0386052\tbest: 24.0292792 (31531)\ttotal: 3m 44s\tremaining: 2m 6s\n",
      "33000:\tlearn: 20.4227395\ttest: 24.0388513\tbest: 24.0292792 (31531)\ttotal: 3m 50s\tremaining: 1m 58s\n",
      "34000:\tlearn: 20.3697941\ttest: 24.0419285\tbest: 24.0292792 (31531)\ttotal: 3m 57s\tremaining: 1m 51s\n",
      "35000:\tlearn: 20.3087089\ttest: 24.0412602\tbest: 24.0292792 (31531)\ttotal: 4m 4s\tremaining: 1m 44s\n",
      "36000:\tlearn: 20.2534436\ttest: 24.0495028\tbest: 24.0292792 (31531)\ttotal: 4m 10s\tremaining: 1m 37s\n",
      "37000:\tlearn: 20.2379004\ttest: 24.0490478\tbest: 24.0292792 (31531)\ttotal: 4m 15s\tremaining: 1m 29s\n",
      "38000:\tlearn: 20.1907237\ttest: 24.0519493\tbest: 24.0292792 (31531)\ttotal: 4m 22s\tremaining: 1m 23s\n",
      "39000:\tlearn: 20.1418980\ttest: 24.0488021\tbest: 24.0292792 (31531)\ttotal: 4m 29s\tremaining: 1m 15s\n",
      "40000:\tlearn: 20.1107219\ttest: 24.0463931\tbest: 24.0292792 (31531)\ttotal: 4m 35s\tremaining: 1m 8s\n",
      "41000:\tlearn: 20.0722050\ttest: 24.0469000\tbest: 24.0292792 (31531)\ttotal: 4m 41s\tremaining: 1m 1s\n",
      "42000:\tlearn: 20.0241113\ttest: 24.0503934\tbest: 24.0292792 (31531)\ttotal: 4m 48s\tremaining: 54.9s\n",
      "43000:\tlearn: 19.9892849\ttest: 24.0510044\tbest: 24.0292792 (31531)\ttotal: 4m 54s\tremaining: 48s\n",
      "44000:\tlearn: 19.9544565\ttest: 24.0523526\tbest: 24.0292792 (31531)\ttotal: 5m 2s\tremaining: 41.3s\n",
      "45000:\tlearn: 19.9379761\ttest: 24.0542240\tbest: 24.0292792 (31531)\ttotal: 5m 9s\tremaining: 34.4s\n",
      "46000:\tlearn: 19.9007575\ttest: 24.0560558\tbest: 24.0292792 (31531)\ttotal: 5m 15s\tremaining: 27.4s\n",
      "47000:\tlearn: 19.8792781\ttest: 24.0566687\tbest: 24.0292792 (31531)\ttotal: 5m 20s\tremaining: 20.5s\n",
      "48000:\tlearn: 19.8511937\ttest: 24.0573691\tbest: 24.0292792 (31531)\ttotal: 5m 26s\tremaining: 13.6s\n",
      "49000:\tlearn: 19.8128321\ttest: 24.0542732\tbest: 24.0292792 (31531)\ttotal: 5m 32s\tremaining: 6.79s\n",
      "49999:\tlearn: 19.8121043\ttest: 24.0543968\tbest: 24.0292792 (31531)\ttotal: 5m 41s\tremaining: 0us\n",
      "\n",
      "bestTest = 24.02927925\n",
      "bestIteration = 31531\n",
      "\n",
      "Shrink model to first 31532 iterations.\n",
      "SMAPE train: 20.496555281921783, SMAPE test: 24.02927924687139\n",
      "CPU times: user 21min 48s, sys: 6min 59s, total: 28min 48s\n",
      "Wall time: 5min 54s\n"
     ]
    }
   ],
   "source": [
    "%%time\n",
    "from catboost import CatBoostRegressor\n",
    "from sklearn.metrics import mean_absolute_error, mean_squared_error, mean_absolute_percentage_error\n",
    "\n",
    "\n",
    "cat_model = CatBoostRegressor(loss_function='Quantile', eval_metric='SMAPE', \n",
    "                              depth=6, iterations = 50000, random_state=123458,\n",
    "                              learning_rate=0.01)\n",
    "                              #bootstrap_type='MVS', mvs_reg=20, subsample=0.8,\n",
    "                              #min_data_in_leaf=3, rsm=0.5)\n",
    "cat_model.fit(X_train, \n",
    "              y_train,\n",
    "              verbose=1000,\n",
    "              eval_set=(X_test, y_test),\n",
    "              use_best_model=True,  \n",
    ")\n",
    "\n",
    "y_pred_train = cat_model.predict(X_train)\n",
    "y_pred_test = cat_model.predict(X_test)\n",
    "\n",
    "#positive_predict = []\n",
    "#for i in y_pred_test:\n",
    "    #positive_predict.append(0 if i <0 else i)\n",
    "    \n",
    "#print(f'MAE train: {mean_absolute_error(y_train, y_pred_train)}, MAE test: {mean_absolute_error(y_test, y_pred_test)}')\n",
    "#print(f'MSE train: {mean_squared_error(y_train, y_pred_train)}, MSE test: {mean_squared_error(y_test, y_pred_test)}')\n",
    "#print(f'MAPE train: {mean_absolute_percentage_error(y_train, y_pred_train)}, MAPE test: {mean_absolute_percentage_error(y_test, y_pred_test)}')\n",
    "print(f'SMAPE train: {smape(y_train, y_pred_train)}, SMAPE test: {smape(y_test, y_pred_test)}')"
   ]
  },
  {
   "cell_type": "code",
   "execution_count": 65,
   "id": "798a8bbf-6212-4779-9fae-afe2b67c66fc",
   "metadata": {},
   "outputs": [
    {
     "data": {
      "text/plain": [
       "0.4964476601103416"
      ]
     },
     "execution_count": 65,
     "metadata": {},
     "output_type": "execute_result"
    }
   ],
   "source": [
    "cat_model.score(X_test, y_test)"
   ]
  },
  {
   "cell_type": "code",
   "execution_count": 66,
   "id": "4cf2a879-de1e-47d9-94f3-4ccbff8b853d",
   "metadata": {},
   "outputs": [],
   "source": [
    "importances1 = dict(zip(cat_model.feature_names_, cat_model.feature_importances_))\n",
    "importances1 = {k: v for k,v in sorted(importances1.items(), key=lambda x: x[1], reverse=True)}"
   ]
  },
  {
   "cell_type": "code",
   "execution_count": 67,
   "id": "50c6655f-09a0-4572-891c-f474ec2ca1d3",
   "metadata": {},
   "outputs": [
    {
     "data": {
      "text/plain": [
       "{'salary_from': 36.94235861759683,\n",
       " 'description_salary': 21.7399573302938,\n",
       " 'published_at_diff': 19.030366590039712,\n",
       " 'name_developer': 2.433671398644465,\n",
       " 'name_продажам': 2.3788189943908726,\n",
       " 'salary_gross': 2.0303990588041887,\n",
       " 'employer_name_other': 1.8310385776404021,\n",
       " 'name_разработчик': 1.7857609128180663,\n",
       " 'employer_name_personname': 1.3325351794735618,\n",
       " 'area_name_Москва': 1.0393796579136905,\n",
       " 'name_продавец': 0.9405054262035186,\n",
       " 'name_other': 0.911904394678071,\n",
       " 'name_менеджер': 0.8757002953735857,\n",
       " 'area_name_Санкт-Петербург': 0.7487668905973249,\n",
       " 'name_специалист': 0.7060663111026925,\n",
       " 'description_exp': 0.5997471501629382,\n",
       " 'employer_name_компаний': 0.5964659725820974,\n",
       " 'has_test': 0.516634968993666,\n",
       " 'response_letter_required': 0.48452971732003874,\n",
       " 'name_программист': 0.464518825732268,\n",
       " 'name_работе': 0.3238745333540395,\n",
       " 'employer_name_центр': 0.30733010855756177,\n",
       " 'employer_name_группа': 0.30666796712249905,\n",
       " 'name_удаленная': 0.2822425501315229,\n",
       " 'name_аналитик': 0.26560872014228354,\n",
       " 'name_уборщик': 0.17973794071058366,\n",
       " 'name_инженер': 0.15701935325072455,\n",
       " 'employer_name_group': 0.14939410189490543,\n",
       " 'area_name_Other': 0.14291099927373951,\n",
       " 'area_name_Екатеринбург': 0.11952620028136983,\n",
       " 'name_москва': 0.09707863871328018,\n",
       " 'employer_name_пятёрочка': 0.08065754720167319,\n",
       " 'area_name_Краснодар': 0.040683811189112594,\n",
       " 'area_name_Новосибирск': 0.04042973720864313,\n",
       " 'employer_name_сеть': 0.03688626418391513,\n",
       " 'area_name_Казань': 0.03544380839210909,\n",
       " 'name_кассир': 0.03509712473018141,\n",
       " 'employer_name_перекресток': 0.010284323300048795}"
      ]
     },
     "execution_count": 67,
     "metadata": {},
     "output_type": "execute_result"
    }
   ],
   "source": [
    "importances1"
   ]
  },
  {
   "cell_type": "markdown",
   "id": "24f2c9c8-ef86-4dfd-94e8-6caf74780cfd",
   "metadata": {},
   "source": [
    "<H1>Тестовая дата</H1>"
   ]
  },
  {
   "cell_type": "markdown",
   "id": "5e6ec7db-f030-4a83-8d98-d496b2231414",
   "metadata": {},
   "source": [
    "Загрузим тестовую таблицу:"
   ]
  },
  {
   "cell_type": "code",
   "execution_count": 68,
   "id": "411dad93-e47d-43d4-b8aa-a64b1deb1463",
   "metadata": {},
   "outputs": [],
   "source": [
    "df_test = pd.read_csv('X_test.csv', parse_dates=['published_at', 'created_at'])"
   ]
  },
  {
   "cell_type": "markdown",
   "id": "0ac14570-7dd8-455a-a9fa-dbc694c3c0c1",
   "metadata": {},
   "source": [
    "Сразу уберем столбцы salary_currency (одно и то же значение), created_at (совпадает с published_at) и area_id (аналогично area_name):"
   ]
  },
  {
   "cell_type": "code",
   "execution_count": 69,
   "id": "b96b0fa5-6b3b-4982-aafb-b5133d95ab41",
   "metadata": {},
   "outputs": [],
   "source": [
    "df_test = df_test.drop(columns=['salary_currency', 'created_at', 'area_id'])#, 'has_test', 'response_letter_required', 'salary_gross'])"
   ]
  },
  {
   "cell_type": "code",
   "execution_count": 70,
   "id": "224137ba-ad9c-43e5-99bf-d5713ece7240",
   "metadata": {},
   "outputs": [],
   "source": [
    "df_test = df_test.set_index('id')"
   ]
  },
  {
   "cell_type": "markdown",
   "id": "49c020c5-ac8b-4557-9d8d-5ee9cd970b91",
   "metadata": {},
   "source": [
    "Заполняем salary_gross, если есть пропуски:"
   ]
  },
  {
   "cell_type": "code",
   "execution_count": 71,
   "id": "b3e5f20a-4874-442d-9cb2-ca4e221ce3ba",
   "metadata": {},
   "outputs": [],
   "source": [
    "df_test.salary_gross.fillna(False, inplace = True) \n",
    "df_test['salary_gross'] = df_test['salary_gross'].astype(bool)"
   ]
  },
  {
   "cell_type": "markdown",
   "id": "0fff51dc-a655-4d43-95ea-83ebdc49913b",
   "metadata": {},
   "source": [
    "Заполняем пустые salary_from частым значением:"
   ]
  },
  {
   "cell_type": "code",
   "execution_count": 72,
   "id": "3209ec1b-3f9c-43bd-9e51-962f8356c711",
   "metadata": {},
   "outputs": [],
   "source": [
    "df_test.salary_from.fillna(df_test.salary_from.mode()[0], inplace = True)"
   ]
  },
  {
   "cell_type": "markdown",
   "id": "3e71825b-f108-4d58-8045-760f37cf882d",
   "metadata": {},
   "source": [
    "Преобразуем published_at, как и с обучаемым dataset:"
   ]
  },
  {
   "cell_type": "code",
   "execution_count": 73,
   "id": "65b7a396-1477-43ae-a2f6-ca230c0cf9a2",
   "metadata": {},
   "outputs": [],
   "source": [
    "df_test['published_at_diff'] = df_test['published_at'].map(lambda x: datetime.timestamp(datetime(2023, 1, 1)) - x.timestamp())"
   ]
  },
  {
   "cell_type": "code",
   "execution_count": 74,
   "id": "3f29a24d-a974-45b5-bb1a-729dc7c99048",
   "metadata": {},
   "outputs": [
    {
     "data": {
      "image/png": "[encoded data removed]",
      "text/plain": [
       "<Figure size 1000x1500 with 2 Axes>"
      ]
     },
     "metadata": {},
     "output_type": "display_data"
    }
   ],
   "source": [
    "import matplotlib.pyplot as plt\n",
    "df_numeric1 = df_test[['salary_from', 'published_at_diff']]\n",
    "# Создаем гистограммы для всех столбцов\n",
    "fig, axes = plt.subplots(nrows=len(df_numeric1.columns), ncols=1, figsize=(10, 15))\n",
    "\n",
    "# Проходимся по всем столбцам DataFrame и создаем гистограмму для каждого столбца\n",
    "for i, column in enumerate(df_numeric1.columns):\n",
    "    df_numeric1[column].plot(kind='hist', bins=25, ax=axes[i])\n",
    "    axes[i].set_title(column)\n",
    "\n",
    "plt.tight_layout()\n",
    "plt.show()"
   ]
  },
  {
   "cell_type": "code",
   "execution_count": 75,
   "id": "99145e15-1fe6-411c-9ad8-5f7aa9c85b42",
   "metadata": {},
   "outputs": [],
   "source": [
    "df_test[\"published_at_diff\"] = df_test[\"published_at_diff\"] / 1e7\n",
    "#df_test['published_at_diff'] = df_test['published_at_diff'].map(lambda x: \"Recent\" if x < 5 else \"Middle\" if x >= 5 and x < 7 else \"Old\")\n",
    "df_test = df_test.drop(columns=['published_at'])"
   ]
  },
  {
   "cell_type": "markdown",
   "id": "d05b78a2-4d4c-44e0-8eba-0a30e1ccbfa1",
   "metadata": {},
   "source": [
    "Преобразуем description:"
   ]
  },
  {
   "cell_type": "code",
   "execution_count": 76,
   "id": "f30af9a9-04b8-4a06-b6b9-6427581a9516",
   "metadata": {},
   "outputs": [],
   "source": [
    "df_test['description'] = pd.Series(df_test['description'],dtype=pd.StringDtype())\n",
    "df_test.description = df_test.description.apply(lambda x: str(x).lower())"
   ]
  },
  {
   "cell_type": "code",
   "execution_count": 77,
   "id": "b480eb65-4f63-4302-b680-6027e437dfe2",
   "metadata": {},
   "outputs": [
    {
     "data": {
      "text/plain": [
       "description_exp\n",
       "1.000000     8854\n",
       "3.000000      215\n",
       "2.000000      162\n",
       "5.000000       37\n",
       "0.500000       21\n",
       "4.000000        5\n",
       "6.000000        5\n",
       "10.000000       5\n",
       "0.250000        4\n",
       "0.083333        2\n",
       "0.333333        1\n",
       "8.000000        1\n",
       "Name: count, dtype: int64"
      ]
     },
     "execution_count": 77,
     "metadata": {},
     "output_type": "execute_result"
    }
   ],
   "source": [
    "df_test['description_exp'] = df_test.description.map(manage_desc_exp)\n",
    "df_test['description_exp'].value_counts()"
   ]
  },
  {
   "cell_type": "code",
   "execution_count": 78,
   "id": "123443b5-7bfc-4f91-a6e9-2ae7e32d9a24",
   "metadata": {},
   "outputs": [],
   "source": [
    "df_test.description = df_test.description.apply(lambda x: re.sub(r'<[^>]+>', ' ', str(x))) #</?[A-Za-z0-9]+ ?/?>"
   ]
  },
  {
   "cell_type": "code",
   "execution_count": 79,
   "id": "77729fd5-faba-4829-a643-485102e03698",
   "metadata": {},
   "outputs": [
    {
     "data": {
      "text/plain": [
       "description_salary\n",
       "40000          118\n",
       "60000           98\n",
       "50000           84\n",
       "30000           79\n",
       "100000          73\n",
       "              ... \n",
       "19500000         1\n",
       "1375             1\n",
       "92400            1\n",
       "30000600000      1\n",
       "238000           1\n",
       "Name: count, Length: 208, dtype: int64"
      ]
     },
     "execution_count": 79,
     "metadata": {},
     "output_type": "execute_result"
    }
   ],
   "source": [
    "df_test['description_salary'] = df_test.description.map(manage_desc)\n",
    "df_test['description_salary'].value_counts()"
   ]
  },
  {
   "cell_type": "code",
   "execution_count": 80,
   "id": "93b548ca-ac93-4dc8-9c9c-0aca7ce16889",
   "metadata": {},
   "outputs": [],
   "source": [
    "df_test['description_salary'].fillna(df_test.salary_from, inplace = True) "
   ]
  },
  {
   "cell_type": "code",
   "execution_count": 81,
   "id": "955ade60-6f99-48ba-9916-7e524bae69b4",
   "metadata": {},
   "outputs": [],
   "source": [
    "df_test = df_test.drop(columns=['description'])"
   ]
  },
  {
   "cell_type": "markdown",
   "id": "0acde5e3-b32f-4e91-8829-3e29d7943378",
   "metadata": {},
   "source": [
    "Для area_name, оставим название, если в обучаемом dataset есть столбец, иначе заменяем на Other:"
   ]
  },
  {
   "cell_type": "code",
   "execution_count": 82,
   "id": "c44a72e4-a7ab-4fab-8fd4-8a84734cc3d3",
   "metadata": {},
   "outputs": [],
   "source": [
    "df_test['area_name'] = df_test['area_name'].map(lambda x: x if ('area_name_' + x) in df.columns else \"Other\")"
   ]
  },
  {
   "cell_type": "code",
   "execution_count": 83,
   "id": "0cc03ede-d9c2-4e85-af17-af365618466e",
   "metadata": {},
   "outputs": [
    {
     "data": {
      "text/plain": [
       "area_name\n",
       "Москва             6754\n",
       "Санкт-Петербург    1877\n",
       "Other               454\n",
       "Новосибирск          71\n",
       "Казань               54\n",
       "Краснодар            52\n",
       "Екатеринбург         50\n",
       "Name: count, dtype: int64"
      ]
     },
     "execution_count": 83,
     "metadata": {},
     "output_type": "execute_result"
    }
   ],
   "source": [
    "df_test['area_name'].value_counts()"
   ]
  },
  {
   "cell_type": "markdown",
   "id": "8353154e-c19e-4c1f-a848-786fc9d17793",
   "metadata": {},
   "source": [
    "Преобразуем employer_name к нижнему регистру, и сделаем те же преобразования, что и в обучаемом dataset:"
   ]
  },
  {
   "cell_type": "code",
   "execution_count": 84,
   "id": "5877dd70-fa7a-4e4b-a4cd-bb68220701cc",
   "metadata": {},
   "outputs": [],
   "source": [
    "df_test['employer_name'] = df_test['employer_name'].apply(lambda x: x.lower())\n",
    "df_test['employer_name'] = df_test['employer_name'].apply(lambda x: x.strip())"
   ]
  },
  {
   "cell_type": "code",
   "execution_count": 85,
   "id": "af74f61d-8a25-4d18-bce2-3f0e4a38fbf9",
   "metadata": {},
   "outputs": [
    {
     "data": {
      "text/html": [
       "<div>\n",
       "<style scoped>\n",
       "    .dataframe tbody tr th:only-of-type {\n",
       "        vertical-align: middle;\n",
       "    }\n",
       "\n",
       "    .dataframe tbody tr th {\n",
       "        vertical-align: top;\n",
       "    }\n",
       "\n",
       "    .dataframe thead th {\n",
       "        text-align: right;\n",
       "    }\n",
       "</style>\n",
       "<table border=\"1\" class=\"dataframe\">\n",
       "  <thead>\n",
       "    <tr style=\"text-align: right;\">\n",
       "      <th></th>\n",
       "      <th>name</th>\n",
       "      <th>has_test</th>\n",
       "      <th>response_letter_required</th>\n",
       "      <th>salary_from</th>\n",
       "      <th>salary_gross</th>\n",
       "      <th>employer_name</th>\n",
       "      <th>area_name</th>\n",
       "      <th>published_at_diff</th>\n",
       "      <th>description_exp</th>\n",
       "      <th>description_salary</th>\n",
       "      <th>employer_name_personname</th>\n",
       "      <th>employer_name_пятёрочка</th>\n",
       "      <th>employer_name_группа</th>\n",
       "      <th>employer_name_компаний</th>\n",
       "      <th>employer_name_центр</th>\n",
       "      <th>employer_name_group</th>\n",
       "      <th>employer_name_сеть</th>\n",
       "      <th>employer_name_перекресток</th>\n",
       "      <th>employer_name_other</th>\n",
       "    </tr>\n",
       "    <tr>\n",
       "      <th>id</th>\n",
       "      <th></th>\n",
       "      <th></th>\n",
       "      <th></th>\n",
       "      <th></th>\n",
       "      <th></th>\n",
       "      <th></th>\n",
       "      <th></th>\n",
       "      <th></th>\n",
       "      <th></th>\n",
       "      <th></th>\n",
       "      <th></th>\n",
       "      <th></th>\n",
       "      <th></th>\n",
       "      <th></th>\n",
       "      <th></th>\n",
       "      <th></th>\n",
       "      <th></th>\n",
       "      <th></th>\n",
       "      <th></th>\n",
       "    </tr>\n",
       "  </thead>\n",
       "  <tbody>\n",
       "    <tr>\n",
       "      <th>20978</th>\n",
       "      <td>Техник по инструменту / Специалист по инструменту (Ауди Центр Таганка)</td>\n",
       "      <td>False</td>\n",
       "      <td>False</td>\n",
       "      <td>35000.0</td>\n",
       "      <td>False</td>\n",
       "      <td>автоспеццентр</td>\n",
       "      <td>Москва</td>\n",
       "      <td>8.757062</td>\n",
       "      <td>1.0</td>\n",
       "      <td>35000.0</td>\n",
       "      <td>False</td>\n",
       "      <td>False</td>\n",
       "      <td>False</td>\n",
       "      <td>False</td>\n",
       "      <td>False</td>\n",
       "      <td>False</td>\n",
       "      <td>False</td>\n",
       "      <td>False</td>\n",
       "      <td>True</td>\n",
       "    </tr>\n",
       "    <tr>\n",
       "      <th>3102</th>\n",
       "      <td>Диспетчер по заказам</td>\n",
       "      <td>False</td>\n",
       "      <td>False</td>\n",
       "      <td>20000.0</td>\n",
       "      <td>False</td>\n",
       "      <td>автовыкуп</td>\n",
       "      <td>Москва</td>\n",
       "      <td>7.478465</td>\n",
       "      <td>1.0</td>\n",
       "      <td>20000.0</td>\n",
       "      <td>False</td>\n",
       "      <td>False</td>\n",
       "      <td>False</td>\n",
       "      <td>False</td>\n",
       "      <td>False</td>\n",
       "      <td>False</td>\n",
       "      <td>False</td>\n",
       "      <td>False</td>\n",
       "      <td>True</td>\n",
       "    </tr>\n",
       "    <tr>\n",
       "      <th>14731</th>\n",
       "      <td>Frontend Developer в Focus Calendar</td>\n",
       "      <td>False</td>\n",
       "      <td>False</td>\n",
       "      <td>200000.0</td>\n",
       "      <td>False</td>\n",
       "      <td>focus calendar</td>\n",
       "      <td>Москва</td>\n",
       "      <td>4.403157</td>\n",
       "      <td>1.0</td>\n",
       "      <td>200000.0</td>\n",
       "      <td>False</td>\n",
       "      <td>False</td>\n",
       "      <td>False</td>\n",
       "      <td>False</td>\n",
       "      <td>False</td>\n",
       "      <td>False</td>\n",
       "      <td>False</td>\n",
       "      <td>False</td>\n",
       "      <td>True</td>\n",
       "    </tr>\n",
       "    <tr>\n",
       "      <th>16113</th>\n",
       "      <td>Системный аналитик</td>\n",
       "      <td>False</td>\n",
       "      <td>False</td>\n",
       "      <td>150000.0</td>\n",
       "      <td>False</td>\n",
       "      <td>intech</td>\n",
       "      <td>Москва</td>\n",
       "      <td>4.412885</td>\n",
       "      <td>1.0</td>\n",
       "      <td>150000.0</td>\n",
       "      <td>False</td>\n",
       "      <td>False</td>\n",
       "      <td>False</td>\n",
       "      <td>False</td>\n",
       "      <td>False</td>\n",
       "      <td>False</td>\n",
       "      <td>False</td>\n",
       "      <td>False</td>\n",
       "      <td>True</td>\n",
       "    </tr>\n",
       "    <tr>\n",
       "      <th>8410</th>\n",
       "      <td>Front-end разработчик (JavaScript)</td>\n",
       "      <td>False</td>\n",
       "      <td>False</td>\n",
       "      <td>80000.0</td>\n",
       "      <td>False</td>\n",
       "      <td>кравцов и.н.</td>\n",
       "      <td>Other</td>\n",
       "      <td>6.209183</td>\n",
       "      <td>1.0</td>\n",
       "      <td>80000.0</td>\n",
       "      <td>False</td>\n",
       "      <td>False</td>\n",
       "      <td>False</td>\n",
       "      <td>False</td>\n",
       "      <td>False</td>\n",
       "      <td>False</td>\n",
       "      <td>False</td>\n",
       "      <td>False</td>\n",
       "      <td>True</td>\n",
       "    </tr>\n",
       "    <tr>\n",
       "      <th>...</th>\n",
       "      <td>...</td>\n",
       "      <td>...</td>\n",
       "      <td>...</td>\n",
       "      <td>...</td>\n",
       "      <td>...</td>\n",
       "      <td>...</td>\n",
       "      <td>...</td>\n",
       "      <td>...</td>\n",
       "      <td>...</td>\n",
       "      <td>...</td>\n",
       "      <td>...</td>\n",
       "      <td>...</td>\n",
       "      <td>...</td>\n",
       "      <td>...</td>\n",
       "      <td>...</td>\n",
       "      <td>...</td>\n",
       "      <td>...</td>\n",
       "      <td>...</td>\n",
       "      <td>...</td>\n",
       "    </tr>\n",
       "    <tr>\n",
       "      <th>29490</th>\n",
       "      <td>Обходчик объекта</td>\n",
       "      <td>False</td>\n",
       "      <td>False</td>\n",
       "      <td>40000.0</td>\n",
       "      <td>False</td>\n",
       "      <td>монтажспецстрой</td>\n",
       "      <td>Москва</td>\n",
       "      <td>8.074513</td>\n",
       "      <td>1.0</td>\n",
       "      <td>40000.0</td>\n",
       "      <td>False</td>\n",
       "      <td>False</td>\n",
       "      <td>False</td>\n",
       "      <td>False</td>\n",
       "      <td>False</td>\n",
       "      <td>False</td>\n",
       "      <td>False</td>\n",
       "      <td>False</td>\n",
       "      <td>True</td>\n",
       "    </tr>\n",
       "    <tr>\n",
       "      <th>34298</th>\n",
       "      <td>IT рекрутер (удаленно)</td>\n",
       "      <td>False</td>\n",
       "      <td>False</td>\n",
       "      <td>40000.0</td>\n",
       "      <td>False</td>\n",
       "      <td>soft personal</td>\n",
       "      <td>Новосибирск</td>\n",
       "      <td>6.692967</td>\n",
       "      <td>1.0</td>\n",
       "      <td>40000.0</td>\n",
       "      <td>False</td>\n",
       "      <td>False</td>\n",
       "      <td>False</td>\n",
       "      <td>False</td>\n",
       "      <td>False</td>\n",
       "      <td>False</td>\n",
       "      <td>False</td>\n",
       "      <td>False</td>\n",
       "      <td>True</td>\n",
       "    </tr>\n",
       "    <tr>\n",
       "      <th>33921</th>\n",
       "      <td>Старший продавец-кассир (Москва, бульвар Яна Райниса, 26к1)</td>\n",
       "      <td>False</td>\n",
       "      <td>False</td>\n",
       "      <td>35000.0</td>\n",
       "      <td>True</td>\n",
       "      <td>пятёрочка</td>\n",
       "      <td>Москва</td>\n",
       "      <td>7.767509</td>\n",
       "      <td>1.0</td>\n",
       "      <td>35000.0</td>\n",
       "      <td>False</td>\n",
       "      <td>False</td>\n",
       "      <td>False</td>\n",
       "      <td>False</td>\n",
       "      <td>False</td>\n",
       "      <td>False</td>\n",
       "      <td>False</td>\n",
       "      <td>False</td>\n",
       "      <td>True</td>\n",
       "    </tr>\n",
       "    <tr>\n",
       "      <th>8886</th>\n",
       "      <td>Психолог/менеджер по корпоративной культуре</td>\n",
       "      <td>False</td>\n",
       "      <td>False</td>\n",
       "      <td>40000.0</td>\n",
       "      <td>False</td>\n",
       "      <td>верона, школа моделей</td>\n",
       "      <td>Москва</td>\n",
       "      <td>6.122563</td>\n",
       "      <td>1.0</td>\n",
       "      <td>40000.0</td>\n",
       "      <td>False</td>\n",
       "      <td>False</td>\n",
       "      <td>False</td>\n",
       "      <td>False</td>\n",
       "      <td>False</td>\n",
       "      <td>False</td>\n",
       "      <td>False</td>\n",
       "      <td>False</td>\n",
       "      <td>True</td>\n",
       "    </tr>\n",
       "    <tr>\n",
       "      <th>23978</th>\n",
       "      <td>Кухонный работник-мойщик посуды</td>\n",
       "      <td>False</td>\n",
       "      <td>False</td>\n",
       "      <td>30000.0</td>\n",
       "      <td>False</td>\n",
       "      <td>гбоу детский сад № 635</td>\n",
       "      <td>Санкт-Петербург</td>\n",
       "      <td>8.610418</td>\n",
       "      <td>1.0</td>\n",
       "      <td>30000.0</td>\n",
       "      <td>False</td>\n",
       "      <td>False</td>\n",
       "      <td>False</td>\n",
       "      <td>False</td>\n",
       "      <td>False</td>\n",
       "      <td>False</td>\n",
       "      <td>False</td>\n",
       "      <td>False</td>\n",
       "      <td>True</td>\n",
       "    </tr>\n",
       "  </tbody>\n",
       "</table>\n",
       "<p>9312 rows × 19 columns</p>\n",
       "</div>"
      ],
      "text/plain": [
       "                                                                         name  \\\n",
       "id                                                                              \n",
       "20978  Техник по инструменту / Специалист по инструменту (Ауди Центр Таганка)   \n",
       "3102                                                     Диспетчер по заказам   \n",
       "14731                                     Frontend Developer в Focus Calendar   \n",
       "16113                                                      Системный аналитик   \n",
       "8410                                       Front-end разработчик (JavaScript)   \n",
       "...                                                                       ...   \n",
       "29490                                                        Обходчик объекта   \n",
       "34298                                                  IT рекрутер (удаленно)   \n",
       "33921             Старший продавец-кассир (Москва, бульвар Яна Райниса, 26к1)   \n",
       "8886                              Психолог/менеджер по корпоративной культуре   \n",
       "23978                                         Кухонный работник-мойщик посуды   \n",
       "\n",
       "       has_test  response_letter_required  salary_from  salary_gross  \\\n",
       "id                                                                     \n",
       "20978     False                     False      35000.0         False   \n",
       "3102      False                     False      20000.0         False   \n",
       "14731     False                     False     200000.0         False   \n",
       "16113     False                     False     150000.0         False   \n",
       "8410      False                     False      80000.0         False   \n",
       "...         ...                       ...          ...           ...   \n",
       "29490     False                     False      40000.0         False   \n",
       "34298     False                     False      40000.0         False   \n",
       "33921     False                     False      35000.0          True   \n",
       "8886      False                     False      40000.0         False   \n",
       "23978     False                     False      30000.0         False   \n",
       "\n",
       "                employer_name        area_name  published_at_diff  \\\n",
       "id                                                                  \n",
       "20978           автоспеццентр           Москва           8.757062   \n",
       "3102                автовыкуп           Москва           7.478465   \n",
       "14731          focus calendar           Москва           4.403157   \n",
       "16113                  intech           Москва           4.412885   \n",
       "8410             кравцов и.н.            Other           6.209183   \n",
       "...                       ...              ...                ...   \n",
       "29490         монтажспецстрой           Москва           8.074513   \n",
       "34298           soft personal      Новосибирск           6.692967   \n",
       "33921               пятёрочка           Москва           7.767509   \n",
       "8886    верона, школа моделей           Москва           6.122563   \n",
       "23978  гбоу детский сад № 635  Санкт-Петербург           8.610418   \n",
       "\n",
       "       description_exp  description_salary  employer_name_personname  \\\n",
       "id                                                                     \n",
       "20978              1.0             35000.0                     False   \n",
       "3102               1.0             20000.0                     False   \n",
       "14731              1.0            200000.0                     False   \n",
       "16113              1.0            150000.0                     False   \n",
       "8410               1.0             80000.0                     False   \n",
       "...                ...                 ...                       ...   \n",
       "29490              1.0             40000.0                     False   \n",
       "34298              1.0             40000.0                     False   \n",
       "33921              1.0             35000.0                     False   \n",
       "8886               1.0             40000.0                     False   \n",
       "23978              1.0             30000.0                     False   \n",
       "\n",
       "       employer_name_пятёрочка  employer_name_группа  employer_name_компаний  \\\n",
       "id                                                                             \n",
       "20978                    False                 False                   False   \n",
       "3102                     False                 False                   False   \n",
       "14731                    False                 False                   False   \n",
       "16113                    False                 False                   False   \n",
       "8410                     False                 False                   False   \n",
       "...                        ...                   ...                     ...   \n",
       "29490                    False                 False                   False   \n",
       "34298                    False                 False                   False   \n",
       "33921                    False                 False                   False   \n",
       "8886                     False                 False                   False   \n",
       "23978                    False                 False                   False   \n",
       "\n",
       "       employer_name_центр  employer_name_group  employer_name_сеть  \\\n",
       "id                                                                    \n",
       "20978                False                False               False   \n",
       "3102                 False                False               False   \n",
       "14731                False                False               False   \n",
       "16113                False                False               False   \n",
       "8410                 False                False               False   \n",
       "...                    ...                  ...                 ...   \n",
       "29490                False                False               False   \n",
       "34298                False                False               False   \n",
       "33921                False                False               False   \n",
       "8886                 False                False               False   \n",
       "23978                False                False               False   \n",
       "\n",
       "       employer_name_перекресток  employer_name_other  \n",
       "id                                                     \n",
       "20978                      False                 True  \n",
       "3102                       False                 True  \n",
       "14731                      False                 True  \n",
       "16113                      False                 True  \n",
       "8410                       False                 True  \n",
       "...                          ...                  ...  \n",
       "29490                      False                 True  \n",
       "34298                      False                 True  \n",
       "33921                      False                 True  \n",
       "8886                       False                 True  \n",
       "23978                      False                 True  \n",
       "\n",
       "[9312 rows x 19 columns]"
      ]
     },
     "execution_count": 85,
     "metadata": {},
     "output_type": "execute_result"
    }
   ],
   "source": [
    "array_false1 = [False] * len(df_test)\n",
    "array_true1 = [True] * len(df_test)\n",
    "\n",
    "for key, val in sorted_empl_names_to_count:\n",
    "    composite = 'employer_name_' + key\n",
    "    df_test[composite] = array_false1\n",
    "df_test['employer_name_other'] = array_true1\n",
    "\n",
    "df_test"
   ]
  },
  {
   "cell_type": "code",
   "execution_count": 86,
   "id": "14f4394b-a78d-41b9-9675-31c594495be9",
   "metadata": {},
   "outputs": [
    {
     "data": {
      "text/html": [
       "<div>\n",
       "<style scoped>\n",
       "    .dataframe tbody tr th:only-of-type {\n",
       "        vertical-align: middle;\n",
       "    }\n",
       "\n",
       "    .dataframe tbody tr th {\n",
       "        vertical-align: top;\n",
       "    }\n",
       "\n",
       "    .dataframe thead th {\n",
       "        text-align: right;\n",
       "    }\n",
       "</style>\n",
       "<table border=\"1\" class=\"dataframe\">\n",
       "  <thead>\n",
       "    <tr style=\"text-align: right;\">\n",
       "      <th></th>\n",
       "      <th>name</th>\n",
       "      <th>has_test</th>\n",
       "      <th>response_letter_required</th>\n",
       "      <th>salary_from</th>\n",
       "      <th>salary_gross</th>\n",
       "      <th>employer_name</th>\n",
       "      <th>area_name</th>\n",
       "      <th>published_at_diff</th>\n",
       "      <th>description_exp</th>\n",
       "      <th>description_salary</th>\n",
       "      <th>employer_name_personname</th>\n",
       "      <th>employer_name_пятёрочка</th>\n",
       "      <th>employer_name_группа</th>\n",
       "      <th>employer_name_компаний</th>\n",
       "      <th>employer_name_центр</th>\n",
       "      <th>employer_name_group</th>\n",
       "      <th>employer_name_сеть</th>\n",
       "      <th>employer_name_перекресток</th>\n",
       "      <th>employer_name_other</th>\n",
       "    </tr>\n",
       "    <tr>\n",
       "      <th>id</th>\n",
       "      <th></th>\n",
       "      <th></th>\n",
       "      <th></th>\n",
       "      <th></th>\n",
       "      <th></th>\n",
       "      <th></th>\n",
       "      <th></th>\n",
       "      <th></th>\n",
       "      <th></th>\n",
       "      <th></th>\n",
       "      <th></th>\n",
       "      <th></th>\n",
       "      <th></th>\n",
       "      <th></th>\n",
       "      <th></th>\n",
       "      <th></th>\n",
       "      <th></th>\n",
       "      <th></th>\n",
       "      <th></th>\n",
       "    </tr>\n",
       "  </thead>\n",
       "  <tbody>\n",
       "    <tr>\n",
       "      <th>20978</th>\n",
       "      <td>Техник по инструменту / Специалист по инструменту (Ауди Центр Таганка)</td>\n",
       "      <td>False</td>\n",
       "      <td>False</td>\n",
       "      <td>35000.0</td>\n",
       "      <td>False</td>\n",
       "      <td>автоспеццентр</td>\n",
       "      <td>Москва</td>\n",
       "      <td>8.757062</td>\n",
       "      <td>1.0</td>\n",
       "      <td>35000.0</td>\n",
       "      <td>False</td>\n",
       "      <td>False</td>\n",
       "      <td>False</td>\n",
       "      <td>False</td>\n",
       "      <td>False</td>\n",
       "      <td>False</td>\n",
       "      <td>False</td>\n",
       "      <td>False</td>\n",
       "      <td>True</td>\n",
       "    </tr>\n",
       "    <tr>\n",
       "      <th>3102</th>\n",
       "      <td>Диспетчер по заказам</td>\n",
       "      <td>False</td>\n",
       "      <td>False</td>\n",
       "      <td>20000.0</td>\n",
       "      <td>False</td>\n",
       "      <td>автовыкуп</td>\n",
       "      <td>Москва</td>\n",
       "      <td>7.478465</td>\n",
       "      <td>1.0</td>\n",
       "      <td>20000.0</td>\n",
       "      <td>False</td>\n",
       "      <td>False</td>\n",
       "      <td>False</td>\n",
       "      <td>False</td>\n",
       "      <td>False</td>\n",
       "      <td>False</td>\n",
       "      <td>False</td>\n",
       "      <td>False</td>\n",
       "      <td>True</td>\n",
       "    </tr>\n",
       "    <tr>\n",
       "      <th>14731</th>\n",
       "      <td>Frontend Developer в Focus Calendar</td>\n",
       "      <td>False</td>\n",
       "      <td>False</td>\n",
       "      <td>200000.0</td>\n",
       "      <td>False</td>\n",
       "      <td>focus calendar</td>\n",
       "      <td>Москва</td>\n",
       "      <td>4.403157</td>\n",
       "      <td>1.0</td>\n",
       "      <td>200000.0</td>\n",
       "      <td>False</td>\n",
       "      <td>False</td>\n",
       "      <td>False</td>\n",
       "      <td>False</td>\n",
       "      <td>False</td>\n",
       "      <td>False</td>\n",
       "      <td>False</td>\n",
       "      <td>False</td>\n",
       "      <td>True</td>\n",
       "    </tr>\n",
       "    <tr>\n",
       "      <th>16113</th>\n",
       "      <td>Системный аналитик</td>\n",
       "      <td>False</td>\n",
       "      <td>False</td>\n",
       "      <td>150000.0</td>\n",
       "      <td>False</td>\n",
       "      <td>intech</td>\n",
       "      <td>Москва</td>\n",
       "      <td>4.412885</td>\n",
       "      <td>1.0</td>\n",
       "      <td>150000.0</td>\n",
       "      <td>False</td>\n",
       "      <td>False</td>\n",
       "      <td>False</td>\n",
       "      <td>False</td>\n",
       "      <td>False</td>\n",
       "      <td>False</td>\n",
       "      <td>False</td>\n",
       "      <td>False</td>\n",
       "      <td>True</td>\n",
       "    </tr>\n",
       "    <tr>\n",
       "      <th>8410</th>\n",
       "      <td>Front-end разработчик (JavaScript)</td>\n",
       "      <td>False</td>\n",
       "      <td>False</td>\n",
       "      <td>80000.0</td>\n",
       "      <td>False</td>\n",
       "      <td>кравцов и.н.</td>\n",
       "      <td>Other</td>\n",
       "      <td>6.209183</td>\n",
       "      <td>1.0</td>\n",
       "      <td>80000.0</td>\n",
       "      <td>False</td>\n",
       "      <td>False</td>\n",
       "      <td>False</td>\n",
       "      <td>False</td>\n",
       "      <td>False</td>\n",
       "      <td>False</td>\n",
       "      <td>False</td>\n",
       "      <td>False</td>\n",
       "      <td>True</td>\n",
       "    </tr>\n",
       "    <tr>\n",
       "      <th>...</th>\n",
       "      <td>...</td>\n",
       "      <td>...</td>\n",
       "      <td>...</td>\n",
       "      <td>...</td>\n",
       "      <td>...</td>\n",
       "      <td>...</td>\n",
       "      <td>...</td>\n",
       "      <td>...</td>\n",
       "      <td>...</td>\n",
       "      <td>...</td>\n",
       "      <td>...</td>\n",
       "      <td>...</td>\n",
       "      <td>...</td>\n",
       "      <td>...</td>\n",
       "      <td>...</td>\n",
       "      <td>...</td>\n",
       "      <td>...</td>\n",
       "      <td>...</td>\n",
       "      <td>...</td>\n",
       "    </tr>\n",
       "    <tr>\n",
       "      <th>29490</th>\n",
       "      <td>Обходчик объекта</td>\n",
       "      <td>False</td>\n",
       "      <td>False</td>\n",
       "      <td>40000.0</td>\n",
       "      <td>False</td>\n",
       "      <td>монтажспецстрой</td>\n",
       "      <td>Москва</td>\n",
       "      <td>8.074513</td>\n",
       "      <td>1.0</td>\n",
       "      <td>40000.0</td>\n",
       "      <td>False</td>\n",
       "      <td>False</td>\n",
       "      <td>False</td>\n",
       "      <td>False</td>\n",
       "      <td>False</td>\n",
       "      <td>False</td>\n",
       "      <td>False</td>\n",
       "      <td>False</td>\n",
       "      <td>True</td>\n",
       "    </tr>\n",
       "    <tr>\n",
       "      <th>34298</th>\n",
       "      <td>IT рекрутер (удаленно)</td>\n",
       "      <td>False</td>\n",
       "      <td>False</td>\n",
       "      <td>40000.0</td>\n",
       "      <td>False</td>\n",
       "      <td>soft personal</td>\n",
       "      <td>Новосибирск</td>\n",
       "      <td>6.692967</td>\n",
       "      <td>1.0</td>\n",
       "      <td>40000.0</td>\n",
       "      <td>False</td>\n",
       "      <td>False</td>\n",
       "      <td>False</td>\n",
       "      <td>False</td>\n",
       "      <td>False</td>\n",
       "      <td>False</td>\n",
       "      <td>False</td>\n",
       "      <td>False</td>\n",
       "      <td>True</td>\n",
       "    </tr>\n",
       "    <tr>\n",
       "      <th>33921</th>\n",
       "      <td>Старший продавец-кассир (Москва, бульвар Яна Райниса, 26к1)</td>\n",
       "      <td>False</td>\n",
       "      <td>False</td>\n",
       "      <td>35000.0</td>\n",
       "      <td>True</td>\n",
       "      <td>пятёрочка</td>\n",
       "      <td>Москва</td>\n",
       "      <td>7.767509</td>\n",
       "      <td>1.0</td>\n",
       "      <td>35000.0</td>\n",
       "      <td>False</td>\n",
       "      <td>True</td>\n",
       "      <td>False</td>\n",
       "      <td>False</td>\n",
       "      <td>False</td>\n",
       "      <td>False</td>\n",
       "      <td>False</td>\n",
       "      <td>False</td>\n",
       "      <td>False</td>\n",
       "    </tr>\n",
       "    <tr>\n",
       "      <th>8886</th>\n",
       "      <td>Психолог/менеджер по корпоративной культуре</td>\n",
       "      <td>False</td>\n",
       "      <td>False</td>\n",
       "      <td>40000.0</td>\n",
       "      <td>False</td>\n",
       "      <td>верона, школа моделей</td>\n",
       "      <td>Москва</td>\n",
       "      <td>6.122563</td>\n",
       "      <td>1.0</td>\n",
       "      <td>40000.0</td>\n",
       "      <td>False</td>\n",
       "      <td>False</td>\n",
       "      <td>False</td>\n",
       "      <td>False</td>\n",
       "      <td>False</td>\n",
       "      <td>False</td>\n",
       "      <td>False</td>\n",
       "      <td>False</td>\n",
       "      <td>True</td>\n",
       "    </tr>\n",
       "    <tr>\n",
       "      <th>23978</th>\n",
       "      <td>Кухонный работник-мойщик посуды</td>\n",
       "      <td>False</td>\n",
       "      <td>False</td>\n",
       "      <td>30000.0</td>\n",
       "      <td>False</td>\n",
       "      <td>гбоу детский сад № 635</td>\n",
       "      <td>Санкт-Петербург</td>\n",
       "      <td>8.610418</td>\n",
       "      <td>1.0</td>\n",
       "      <td>30000.0</td>\n",
       "      <td>False</td>\n",
       "      <td>False</td>\n",
       "      <td>False</td>\n",
       "      <td>False</td>\n",
       "      <td>False</td>\n",
       "      <td>False</td>\n",
       "      <td>False</td>\n",
       "      <td>False</td>\n",
       "      <td>True</td>\n",
       "    </tr>\n",
       "  </tbody>\n",
       "</table>\n",
       "<p>9312 rows × 19 columns</p>\n",
       "</div>"
      ],
      "text/plain": [
       "                                                                         name  \\\n",
       "id                                                                              \n",
       "20978  Техник по инструменту / Специалист по инструменту (Ауди Центр Таганка)   \n",
       "3102                                                     Диспетчер по заказам   \n",
       "14731                                     Frontend Developer в Focus Calendar   \n",
       "16113                                                      Системный аналитик   \n",
       "8410                                       Front-end разработчик (JavaScript)   \n",
       "...                                                                       ...   \n",
       "29490                                                        Обходчик объекта   \n",
       "34298                                                  IT рекрутер (удаленно)   \n",
       "33921             Старший продавец-кассир (Москва, бульвар Яна Райниса, 26к1)   \n",
       "8886                              Психолог/менеджер по корпоративной культуре   \n",
       "23978                                         Кухонный работник-мойщик посуды   \n",
       "\n",
       "       has_test  response_letter_required  salary_from  salary_gross  \\\n",
       "id                                                                     \n",
       "20978     False                     False      35000.0         False   \n",
       "3102      False                     False      20000.0         False   \n",
       "14731     False                     False     200000.0         False   \n",
       "16113     False                     False     150000.0         False   \n",
       "8410      False                     False      80000.0         False   \n",
       "...         ...                       ...          ...           ...   \n",
       "29490     False                     False      40000.0         False   \n",
       "34298     False                     False      40000.0         False   \n",
       "33921     False                     False      35000.0          True   \n",
       "8886      False                     False      40000.0         False   \n",
       "23978     False                     False      30000.0         False   \n",
       "\n",
       "                employer_name        area_name  published_at_diff  \\\n",
       "id                                                                  \n",
       "20978           автоспеццентр           Москва           8.757062   \n",
       "3102                автовыкуп           Москва           7.478465   \n",
       "14731          focus calendar           Москва           4.403157   \n",
       "16113                  intech           Москва           4.412885   \n",
       "8410             кравцов и.н.            Other           6.209183   \n",
       "...                       ...              ...                ...   \n",
       "29490         монтажспецстрой           Москва           8.074513   \n",
       "34298           soft personal      Новосибирск           6.692967   \n",
       "33921               пятёрочка           Москва           7.767509   \n",
       "8886    верона, школа моделей           Москва           6.122563   \n",
       "23978  гбоу детский сад № 635  Санкт-Петербург           8.610418   \n",
       "\n",
       "       description_exp  description_salary  employer_name_personname  \\\n",
       "id                                                                     \n",
       "20978              1.0             35000.0                     False   \n",
       "3102               1.0             20000.0                     False   \n",
       "14731              1.0            200000.0                     False   \n",
       "16113              1.0            150000.0                     False   \n",
       "8410               1.0             80000.0                     False   \n",
       "...                ...                 ...                       ...   \n",
       "29490              1.0             40000.0                     False   \n",
       "34298              1.0             40000.0                     False   \n",
       "33921              1.0             35000.0                     False   \n",
       "8886               1.0             40000.0                     False   \n",
       "23978              1.0             30000.0                     False   \n",
       "\n",
       "       employer_name_пятёрочка  employer_name_группа  employer_name_компаний  \\\n",
       "id                                                                             \n",
       "20978                    False                 False                   False   \n",
       "3102                     False                 False                   False   \n",
       "14731                    False                 False                   False   \n",
       "16113                    False                 False                   False   \n",
       "8410                     False                 False                   False   \n",
       "...                        ...                   ...                     ...   \n",
       "29490                    False                 False                   False   \n",
       "34298                    False                 False                   False   \n",
       "33921                     True                 False                   False   \n",
       "8886                     False                 False                   False   \n",
       "23978                    False                 False                   False   \n",
       "\n",
       "       employer_name_центр  employer_name_group  employer_name_сеть  \\\n",
       "id                                                                    \n",
       "20978                False                False               False   \n",
       "3102                 False                False               False   \n",
       "14731                False                False               False   \n",
       "16113                False                False               False   \n",
       "8410                 False                False               False   \n",
       "...                    ...                  ...                 ...   \n",
       "29490                False                False               False   \n",
       "34298                False                False               False   \n",
       "33921                False                False               False   \n",
       "8886                 False                False               False   \n",
       "23978                False                False               False   \n",
       "\n",
       "       employer_name_перекресток  employer_name_other  \n",
       "id                                                     \n",
       "20978                      False                 True  \n",
       "3102                       False                 True  \n",
       "14731                      False                 True  \n",
       "16113                      False                 True  \n",
       "8410                       False                 True  \n",
       "...                          ...                  ...  \n",
       "29490                      False                 True  \n",
       "34298                      False                 True  \n",
       "33921                      False                False  \n",
       "8886                       False                 True  \n",
       "23978                      False                 True  \n",
       "\n",
       "[9312 rows x 19 columns]"
      ]
     },
     "execution_count": 86,
     "metadata": {},
     "output_type": "execute_result"
    }
   ],
   "source": [
    "for idx in df_test.index:\n",
    "    split = re.split('\\W+', df_test['employer_name'][idx])\n",
    "    split = list(filter(None, split))\n",
    "    for entry in split:\n",
    "        for key, val in sorted_empl_names_to_count:\n",
    "            if near_equal(entry, key) >= 0.75:\n",
    "                composite = 'employer_name_' + key\n",
    "                df_test[composite][idx] = True\n",
    "                df_test['employer_name_other'][idx] = False\n",
    "\n",
    "df_test"
   ]
  },
  {
   "cell_type": "code",
   "execution_count": 87,
   "id": "8417772f-9b51-407a-b58b-dae16614f284",
   "metadata": {},
   "outputs": [],
   "source": [
    "df_test = df_test.drop(columns=['employer_name'])"
   ]
  },
  {
   "cell_type": "markdown",
   "id": "783ba002-93f5-44a8-a46f-130990d61285",
   "metadata": {},
   "source": [
    "Ту же процедуру проделываем с name:"
   ]
  },
  {
   "cell_type": "code",
   "execution_count": 88,
   "id": "3fb770ee-6f12-4912-b1b0-94b614b60c89",
   "metadata": {},
   "outputs": [],
   "source": [
    "df_test['name'] = df_test['name'].apply(lambda x: x.lower())\n",
    "df_test['name'] = df_test['name'].apply(lambda x: x.strip())"
   ]
  },
  {
   "cell_type": "code",
   "execution_count": 89,
   "id": "5e2f7fc6-2b1a-454d-8732-9caa3624105c",
   "metadata": {},
   "outputs": [
    {
     "data": {
      "text/html": [
       "<div>\n",
       "<style scoped>\n",
       "    .dataframe tbody tr th:only-of-type {\n",
       "        vertical-align: middle;\n",
       "    }\n",
       "\n",
       "    .dataframe tbody tr th {\n",
       "        vertical-align: top;\n",
       "    }\n",
       "\n",
       "    .dataframe thead th {\n",
       "        text-align: right;\n",
       "    }\n",
       "</style>\n",
       "<table border=\"1\" class=\"dataframe\">\n",
       "  <thead>\n",
       "    <tr style=\"text-align: right;\">\n",
       "      <th></th>\n",
       "      <th>name</th>\n",
       "      <th>has_test</th>\n",
       "      <th>response_letter_required</th>\n",
       "      <th>salary_from</th>\n",
       "      <th>salary_gross</th>\n",
       "      <th>area_name</th>\n",
       "      <th>published_at_diff</th>\n",
       "      <th>description_exp</th>\n",
       "      <th>description_salary</th>\n",
       "      <th>employer_name_personname</th>\n",
       "      <th>...</th>\n",
       "      <th>name_developer</th>\n",
       "      <th>name_москва</th>\n",
       "      <th>name_специалист</th>\n",
       "      <th>name_инженер</th>\n",
       "      <th>name_удаленная</th>\n",
       "      <th>name_работе</th>\n",
       "      <th>name_уборщик</th>\n",
       "      <th>name_программист</th>\n",
       "      <th>name_аналитик</th>\n",
       "      <th>name_other</th>\n",
       "    </tr>\n",
       "    <tr>\n",
       "      <th>id</th>\n",
       "      <th></th>\n",
       "      <th></th>\n",
       "      <th></th>\n",
       "      <th></th>\n",
       "      <th></th>\n",
       "      <th></th>\n",
       "      <th></th>\n",
       "      <th></th>\n",
       "      <th></th>\n",
       "      <th></th>\n",
       "      <th></th>\n",
       "      <th></th>\n",
       "      <th></th>\n",
       "      <th></th>\n",
       "      <th></th>\n",
       "      <th></th>\n",
       "      <th></th>\n",
       "      <th></th>\n",
       "      <th></th>\n",
       "      <th></th>\n",
       "      <th></th>\n",
       "    </tr>\n",
       "  </thead>\n",
       "  <tbody>\n",
       "    <tr>\n",
       "      <th>20978</th>\n",
       "      <td>техник по инструменту / специалист по инструменту (ауди центр таганка)</td>\n",
       "      <td>False</td>\n",
       "      <td>False</td>\n",
       "      <td>35000.0</td>\n",
       "      <td>False</td>\n",
       "      <td>Москва</td>\n",
       "      <td>8.757062</td>\n",
       "      <td>1.0</td>\n",
       "      <td>35000.0</td>\n",
       "      <td>False</td>\n",
       "      <td>...</td>\n",
       "      <td>False</td>\n",
       "      <td>False</td>\n",
       "      <td>False</td>\n",
       "      <td>False</td>\n",
       "      <td>False</td>\n",
       "      <td>False</td>\n",
       "      <td>False</td>\n",
       "      <td>False</td>\n",
       "      <td>False</td>\n",
       "      <td>True</td>\n",
       "    </tr>\n",
       "    <tr>\n",
       "      <th>3102</th>\n",
       "      <td>диспетчер по заказам</td>\n",
       "      <td>False</td>\n",
       "      <td>False</td>\n",
       "      <td>20000.0</td>\n",
       "      <td>False</td>\n",
       "      <td>Москва</td>\n",
       "      <td>7.478465</td>\n",
       "      <td>1.0</td>\n",
       "      <td>20000.0</td>\n",
       "      <td>False</td>\n",
       "      <td>...</td>\n",
       "      <td>False</td>\n",
       "      <td>False</td>\n",
       "      <td>False</td>\n",
       "      <td>False</td>\n",
       "      <td>False</td>\n",
       "      <td>False</td>\n",
       "      <td>False</td>\n",
       "      <td>False</td>\n",
       "      <td>False</td>\n",
       "      <td>True</td>\n",
       "    </tr>\n",
       "    <tr>\n",
       "      <th>14731</th>\n",
       "      <td>frontend developer в focus calendar</td>\n",
       "      <td>False</td>\n",
       "      <td>False</td>\n",
       "      <td>200000.0</td>\n",
       "      <td>False</td>\n",
       "      <td>Москва</td>\n",
       "      <td>4.403157</td>\n",
       "      <td>1.0</td>\n",
       "      <td>200000.0</td>\n",
       "      <td>False</td>\n",
       "      <td>...</td>\n",
       "      <td>False</td>\n",
       "      <td>False</td>\n",
       "      <td>False</td>\n",
       "      <td>False</td>\n",
       "      <td>False</td>\n",
       "      <td>False</td>\n",
       "      <td>False</td>\n",
       "      <td>False</td>\n",
       "      <td>False</td>\n",
       "      <td>True</td>\n",
       "    </tr>\n",
       "    <tr>\n",
       "      <th>16113</th>\n",
       "      <td>системный аналитик</td>\n",
       "      <td>False</td>\n",
       "      <td>False</td>\n",
       "      <td>150000.0</td>\n",
       "      <td>False</td>\n",
       "      <td>Москва</td>\n",
       "      <td>4.412885</td>\n",
       "      <td>1.0</td>\n",
       "      <td>150000.0</td>\n",
       "      <td>False</td>\n",
       "      <td>...</td>\n",
       "      <td>False</td>\n",
       "      <td>False</td>\n",
       "      <td>False</td>\n",
       "      <td>False</td>\n",
       "      <td>False</td>\n",
       "      <td>False</td>\n",
       "      <td>False</td>\n",
       "      <td>False</td>\n",
       "      <td>False</td>\n",
       "      <td>True</td>\n",
       "    </tr>\n",
       "    <tr>\n",
       "      <th>8410</th>\n",
       "      <td>front-end разработчик (javascript)</td>\n",
       "      <td>False</td>\n",
       "      <td>False</td>\n",
       "      <td>80000.0</td>\n",
       "      <td>False</td>\n",
       "      <td>Other</td>\n",
       "      <td>6.209183</td>\n",
       "      <td>1.0</td>\n",
       "      <td>80000.0</td>\n",
       "      <td>False</td>\n",
       "      <td>...</td>\n",
       "      <td>False</td>\n",
       "      <td>False</td>\n",
       "      <td>False</td>\n",
       "      <td>False</td>\n",
       "      <td>False</td>\n",
       "      <td>False</td>\n",
       "      <td>False</td>\n",
       "      <td>False</td>\n",
       "      <td>False</td>\n",
       "      <td>True</td>\n",
       "    </tr>\n",
       "    <tr>\n",
       "      <th>...</th>\n",
       "      <td>...</td>\n",
       "      <td>...</td>\n",
       "      <td>...</td>\n",
       "      <td>...</td>\n",
       "      <td>...</td>\n",
       "      <td>...</td>\n",
       "      <td>...</td>\n",
       "      <td>...</td>\n",
       "      <td>...</td>\n",
       "      <td>...</td>\n",
       "      <td>...</td>\n",
       "      <td>...</td>\n",
       "      <td>...</td>\n",
       "      <td>...</td>\n",
       "      <td>...</td>\n",
       "      <td>...</td>\n",
       "      <td>...</td>\n",
       "      <td>...</td>\n",
       "      <td>...</td>\n",
       "      <td>...</td>\n",
       "      <td>...</td>\n",
       "    </tr>\n",
       "    <tr>\n",
       "      <th>29490</th>\n",
       "      <td>обходчик объекта</td>\n",
       "      <td>False</td>\n",
       "      <td>False</td>\n",
       "      <td>40000.0</td>\n",
       "      <td>False</td>\n",
       "      <td>Москва</td>\n",
       "      <td>8.074513</td>\n",
       "      <td>1.0</td>\n",
       "      <td>40000.0</td>\n",
       "      <td>False</td>\n",
       "      <td>...</td>\n",
       "      <td>False</td>\n",
       "      <td>False</td>\n",
       "      <td>False</td>\n",
       "      <td>False</td>\n",
       "      <td>False</td>\n",
       "      <td>False</td>\n",
       "      <td>False</td>\n",
       "      <td>False</td>\n",
       "      <td>False</td>\n",
       "      <td>True</td>\n",
       "    </tr>\n",
       "    <tr>\n",
       "      <th>34298</th>\n",
       "      <td>it рекрутер (удаленно)</td>\n",
       "      <td>False</td>\n",
       "      <td>False</td>\n",
       "      <td>40000.0</td>\n",
       "      <td>False</td>\n",
       "      <td>Новосибирск</td>\n",
       "      <td>6.692967</td>\n",
       "      <td>1.0</td>\n",
       "      <td>40000.0</td>\n",
       "      <td>False</td>\n",
       "      <td>...</td>\n",
       "      <td>False</td>\n",
       "      <td>False</td>\n",
       "      <td>False</td>\n",
       "      <td>False</td>\n",
       "      <td>False</td>\n",
       "      <td>False</td>\n",
       "      <td>False</td>\n",
       "      <td>False</td>\n",
       "      <td>False</td>\n",
       "      <td>True</td>\n",
       "    </tr>\n",
       "    <tr>\n",
       "      <th>33921</th>\n",
       "      <td>старший продавец-кассир (москва, бульвар яна райниса, 26к1)</td>\n",
       "      <td>False</td>\n",
       "      <td>False</td>\n",
       "      <td>35000.0</td>\n",
       "      <td>True</td>\n",
       "      <td>Москва</td>\n",
       "      <td>7.767509</td>\n",
       "      <td>1.0</td>\n",
       "      <td>35000.0</td>\n",
       "      <td>False</td>\n",
       "      <td>...</td>\n",
       "      <td>False</td>\n",
       "      <td>False</td>\n",
       "      <td>False</td>\n",
       "      <td>False</td>\n",
       "      <td>False</td>\n",
       "      <td>False</td>\n",
       "      <td>False</td>\n",
       "      <td>False</td>\n",
       "      <td>False</td>\n",
       "      <td>True</td>\n",
       "    </tr>\n",
       "    <tr>\n",
       "      <th>8886</th>\n",
       "      <td>психолог/менеджер по корпоративной культуре</td>\n",
       "      <td>False</td>\n",
       "      <td>False</td>\n",
       "      <td>40000.0</td>\n",
       "      <td>False</td>\n",
       "      <td>Москва</td>\n",
       "      <td>6.122563</td>\n",
       "      <td>1.0</td>\n",
       "      <td>40000.0</td>\n",
       "      <td>False</td>\n",
       "      <td>...</td>\n",
       "      <td>False</td>\n",
       "      <td>False</td>\n",
       "      <td>False</td>\n",
       "      <td>False</td>\n",
       "      <td>False</td>\n",
       "      <td>False</td>\n",
       "      <td>False</td>\n",
       "      <td>False</td>\n",
       "      <td>False</td>\n",
       "      <td>True</td>\n",
       "    </tr>\n",
       "    <tr>\n",
       "      <th>23978</th>\n",
       "      <td>кухонный работник-мойщик посуды</td>\n",
       "      <td>False</td>\n",
       "      <td>False</td>\n",
       "      <td>30000.0</td>\n",
       "      <td>False</td>\n",
       "      <td>Санкт-Петербург</td>\n",
       "      <td>8.610418</td>\n",
       "      <td>1.0</td>\n",
       "      <td>30000.0</td>\n",
       "      <td>False</td>\n",
       "      <td>...</td>\n",
       "      <td>False</td>\n",
       "      <td>False</td>\n",
       "      <td>False</td>\n",
       "      <td>False</td>\n",
       "      <td>False</td>\n",
       "      <td>False</td>\n",
       "      <td>False</td>\n",
       "      <td>False</td>\n",
       "      <td>False</td>\n",
       "      <td>True</td>\n",
       "    </tr>\n",
       "  </tbody>\n",
       "</table>\n",
       "<p>9312 rows × 33 columns</p>\n",
       "</div>"
      ],
      "text/plain": [
       "                                                                         name  \\\n",
       "id                                                                              \n",
       "20978  техник по инструменту / специалист по инструменту (ауди центр таганка)   \n",
       "3102                                                     диспетчер по заказам   \n",
       "14731                                     frontend developer в focus calendar   \n",
       "16113                                                      системный аналитик   \n",
       "8410                                       front-end разработчик (javascript)   \n",
       "...                                                                       ...   \n",
       "29490                                                        обходчик объекта   \n",
       "34298                                                  it рекрутер (удаленно)   \n",
       "33921             старший продавец-кассир (москва, бульвар яна райниса, 26к1)   \n",
       "8886                              психолог/менеджер по корпоративной культуре   \n",
       "23978                                         кухонный работник-мойщик посуды   \n",
       "\n",
       "       has_test  response_letter_required  salary_from  salary_gross  \\\n",
       "id                                                                     \n",
       "20978     False                     False      35000.0         False   \n",
       "3102      False                     False      20000.0         False   \n",
       "14731     False                     False     200000.0         False   \n",
       "16113     False                     False     150000.0         False   \n",
       "8410      False                     False      80000.0         False   \n",
       "...         ...                       ...          ...           ...   \n",
       "29490     False                     False      40000.0         False   \n",
       "34298     False                     False      40000.0         False   \n",
       "33921     False                     False      35000.0          True   \n",
       "8886      False                     False      40000.0         False   \n",
       "23978     False                     False      30000.0         False   \n",
       "\n",
       "             area_name  published_at_diff  description_exp  \\\n",
       "id                                                           \n",
       "20978           Москва           8.757062              1.0   \n",
       "3102            Москва           7.478465              1.0   \n",
       "14731           Москва           4.403157              1.0   \n",
       "16113           Москва           4.412885              1.0   \n",
       "8410             Other           6.209183              1.0   \n",
       "...                ...                ...              ...   \n",
       "29490           Москва           8.074513              1.0   \n",
       "34298      Новосибирск           6.692967              1.0   \n",
       "33921           Москва           7.767509              1.0   \n",
       "8886            Москва           6.122563              1.0   \n",
       "23978  Санкт-Петербург           8.610418              1.0   \n",
       "\n",
       "       description_salary  employer_name_personname  ...  name_developer  \\\n",
       "id                                                   ...                   \n",
       "20978             35000.0                     False  ...           False   \n",
       "3102              20000.0                     False  ...           False   \n",
       "14731            200000.0                     False  ...           False   \n",
       "16113            150000.0                     False  ...           False   \n",
       "8410              80000.0                     False  ...           False   \n",
       "...                   ...                       ...  ...             ...   \n",
       "29490             40000.0                     False  ...           False   \n",
       "34298             40000.0                     False  ...           False   \n",
       "33921             35000.0                     False  ...           False   \n",
       "8886              40000.0                     False  ...           False   \n",
       "23978             30000.0                     False  ...           False   \n",
       "\n",
       "       name_москва  name_специалист  name_инженер  name_удаленная  \\\n",
       "id                                                                  \n",
       "20978        False            False         False           False   \n",
       "3102         False            False         False           False   \n",
       "14731        False            False         False           False   \n",
       "16113        False            False         False           False   \n",
       "8410         False            False         False           False   \n",
       "...            ...              ...           ...             ...   \n",
       "29490        False            False         False           False   \n",
       "34298        False            False         False           False   \n",
       "33921        False            False         False           False   \n",
       "8886         False            False         False           False   \n",
       "23978        False            False         False           False   \n",
       "\n",
       "       name_работе  name_уборщик  name_программист  name_аналитик  name_other  \n",
       "id                                                                             \n",
       "20978        False         False             False          False        True  \n",
       "3102         False         False             False          False        True  \n",
       "14731        False         False             False          False        True  \n",
       "16113        False         False             False          False        True  \n",
       "8410         False         False             False          False        True  \n",
       "...            ...           ...               ...            ...         ...  \n",
       "29490        False         False             False          False        True  \n",
       "34298        False         False             False          False        True  \n",
       "33921        False         False             False          False        True  \n",
       "8886         False         False             False          False        True  \n",
       "23978        False         False             False          False        True  \n",
       "\n",
       "[9312 rows x 33 columns]"
      ]
     },
     "execution_count": 89,
     "metadata": {},
     "output_type": "execute_result"
    }
   ],
   "source": [
    "array_false1 = [False] * len(df_test)\n",
    "array_true1 = [True] * len(df_test)\n",
    "\n",
    "for key, val in sorted_names_to_count:\n",
    "    composite = 'name_' + key\n",
    "    df_test[composite] = array_false1\n",
    "df_test['name_other'] = array_true1\n",
    "\n",
    "df_test"
   ]
  },
  {
   "cell_type": "code",
   "execution_count": 90,
   "id": "d3d6657a-e710-48e4-abff-ffcc3ee64809",
   "metadata": {},
   "outputs": [
    {
     "data": {
      "text/html": [
       "<div>\n",
       "<style scoped>\n",
       "    .dataframe tbody tr th:only-of-type {\n",
       "        vertical-align: middle;\n",
       "    }\n",
       "\n",
       "    .dataframe tbody tr th {\n",
       "        vertical-align: top;\n",
       "    }\n",
       "\n",
       "    .dataframe thead th {\n",
       "        text-align: right;\n",
       "    }\n",
       "</style>\n",
       "<table border=\"1\" class=\"dataframe\">\n",
       "  <thead>\n",
       "    <tr style=\"text-align: right;\">\n",
       "      <th></th>\n",
       "      <th>name</th>\n",
       "      <th>has_test</th>\n",
       "      <th>response_letter_required</th>\n",
       "      <th>salary_from</th>\n",
       "      <th>salary_gross</th>\n",
       "      <th>area_name</th>\n",
       "      <th>published_at_diff</th>\n",
       "      <th>description_exp</th>\n",
       "      <th>description_salary</th>\n",
       "      <th>employer_name_personname</th>\n",
       "      <th>...</th>\n",
       "      <th>name_developer</th>\n",
       "      <th>name_москва</th>\n",
       "      <th>name_специалист</th>\n",
       "      <th>name_инженер</th>\n",
       "      <th>name_удаленная</th>\n",
       "      <th>name_работе</th>\n",
       "      <th>name_уборщик</th>\n",
       "      <th>name_программист</th>\n",
       "      <th>name_аналитик</th>\n",
       "      <th>name_other</th>\n",
       "    </tr>\n",
       "    <tr>\n",
       "      <th>id</th>\n",
       "      <th></th>\n",
       "      <th></th>\n",
       "      <th></th>\n",
       "      <th></th>\n",
       "      <th></th>\n",
       "      <th></th>\n",
       "      <th></th>\n",
       "      <th></th>\n",
       "      <th></th>\n",
       "      <th></th>\n",
       "      <th></th>\n",
       "      <th></th>\n",
       "      <th></th>\n",
       "      <th></th>\n",
       "      <th></th>\n",
       "      <th></th>\n",
       "      <th></th>\n",
       "      <th></th>\n",
       "      <th></th>\n",
       "      <th></th>\n",
       "      <th></th>\n",
       "    </tr>\n",
       "  </thead>\n",
       "  <tbody>\n",
       "    <tr>\n",
       "      <th>20978</th>\n",
       "      <td>техник по инструменту / специалист по инструменту (ауди центр таганка)</td>\n",
       "      <td>False</td>\n",
       "      <td>False</td>\n",
       "      <td>35000.0</td>\n",
       "      <td>False</td>\n",
       "      <td>Москва</td>\n",
       "      <td>8.757062</td>\n",
       "      <td>1.0</td>\n",
       "      <td>35000.0</td>\n",
       "      <td>False</td>\n",
       "      <td>...</td>\n",
       "      <td>False</td>\n",
       "      <td>False</td>\n",
       "      <td>True</td>\n",
       "      <td>False</td>\n",
       "      <td>False</td>\n",
       "      <td>False</td>\n",
       "      <td>False</td>\n",
       "      <td>False</td>\n",
       "      <td>False</td>\n",
       "      <td>False</td>\n",
       "    </tr>\n",
       "    <tr>\n",
       "      <th>3102</th>\n",
       "      <td>диспетчер по заказам</td>\n",
       "      <td>False</td>\n",
       "      <td>False</td>\n",
       "      <td>20000.0</td>\n",
       "      <td>False</td>\n",
       "      <td>Москва</td>\n",
       "      <td>7.478465</td>\n",
       "      <td>1.0</td>\n",
       "      <td>20000.0</td>\n",
       "      <td>False</td>\n",
       "      <td>...</td>\n",
       "      <td>False</td>\n",
       "      <td>False</td>\n",
       "      <td>False</td>\n",
       "      <td>False</td>\n",
       "      <td>False</td>\n",
       "      <td>False</td>\n",
       "      <td>False</td>\n",
       "      <td>False</td>\n",
       "      <td>False</td>\n",
       "      <td>True</td>\n",
       "    </tr>\n",
       "    <tr>\n",
       "      <th>14731</th>\n",
       "      <td>frontend developer в focus calendar</td>\n",
       "      <td>False</td>\n",
       "      <td>False</td>\n",
       "      <td>200000.0</td>\n",
       "      <td>False</td>\n",
       "      <td>Москва</td>\n",
       "      <td>4.403157</td>\n",
       "      <td>1.0</td>\n",
       "      <td>200000.0</td>\n",
       "      <td>False</td>\n",
       "      <td>...</td>\n",
       "      <td>True</td>\n",
       "      <td>False</td>\n",
       "      <td>False</td>\n",
       "      <td>False</td>\n",
       "      <td>False</td>\n",
       "      <td>False</td>\n",
       "      <td>False</td>\n",
       "      <td>False</td>\n",
       "      <td>False</td>\n",
       "      <td>False</td>\n",
       "    </tr>\n",
       "    <tr>\n",
       "      <th>16113</th>\n",
       "      <td>системный аналитик</td>\n",
       "      <td>False</td>\n",
       "      <td>False</td>\n",
       "      <td>150000.0</td>\n",
       "      <td>False</td>\n",
       "      <td>Москва</td>\n",
       "      <td>4.412885</td>\n",
       "      <td>1.0</td>\n",
       "      <td>150000.0</td>\n",
       "      <td>False</td>\n",
       "      <td>...</td>\n",
       "      <td>False</td>\n",
       "      <td>False</td>\n",
       "      <td>False</td>\n",
       "      <td>False</td>\n",
       "      <td>False</td>\n",
       "      <td>False</td>\n",
       "      <td>False</td>\n",
       "      <td>False</td>\n",
       "      <td>True</td>\n",
       "      <td>False</td>\n",
       "    </tr>\n",
       "    <tr>\n",
       "      <th>8410</th>\n",
       "      <td>front-end разработчик (javascript)</td>\n",
       "      <td>False</td>\n",
       "      <td>False</td>\n",
       "      <td>80000.0</td>\n",
       "      <td>False</td>\n",
       "      <td>Other</td>\n",
       "      <td>6.209183</td>\n",
       "      <td>1.0</td>\n",
       "      <td>80000.0</td>\n",
       "      <td>False</td>\n",
       "      <td>...</td>\n",
       "      <td>False</td>\n",
       "      <td>False</td>\n",
       "      <td>False</td>\n",
       "      <td>False</td>\n",
       "      <td>False</td>\n",
       "      <td>False</td>\n",
       "      <td>False</td>\n",
       "      <td>False</td>\n",
       "      <td>False</td>\n",
       "      <td>False</td>\n",
       "    </tr>\n",
       "    <tr>\n",
       "      <th>...</th>\n",
       "      <td>...</td>\n",
       "      <td>...</td>\n",
       "      <td>...</td>\n",
       "      <td>...</td>\n",
       "      <td>...</td>\n",
       "      <td>...</td>\n",
       "      <td>...</td>\n",
       "      <td>...</td>\n",
       "      <td>...</td>\n",
       "      <td>...</td>\n",
       "      <td>...</td>\n",
       "      <td>...</td>\n",
       "      <td>...</td>\n",
       "      <td>...</td>\n",
       "      <td>...</td>\n",
       "      <td>...</td>\n",
       "      <td>...</td>\n",
       "      <td>...</td>\n",
       "      <td>...</td>\n",
       "      <td>...</td>\n",
       "      <td>...</td>\n",
       "    </tr>\n",
       "    <tr>\n",
       "      <th>29490</th>\n",
       "      <td>обходчик объекта</td>\n",
       "      <td>False</td>\n",
       "      <td>False</td>\n",
       "      <td>40000.0</td>\n",
       "      <td>False</td>\n",
       "      <td>Москва</td>\n",
       "      <td>8.074513</td>\n",
       "      <td>1.0</td>\n",
       "      <td>40000.0</td>\n",
       "      <td>False</td>\n",
       "      <td>...</td>\n",
       "      <td>False</td>\n",
       "      <td>False</td>\n",
       "      <td>False</td>\n",
       "      <td>False</td>\n",
       "      <td>False</td>\n",
       "      <td>False</td>\n",
       "      <td>False</td>\n",
       "      <td>False</td>\n",
       "      <td>False</td>\n",
       "      <td>True</td>\n",
       "    </tr>\n",
       "    <tr>\n",
       "      <th>34298</th>\n",
       "      <td>it рекрутер (удаленно)</td>\n",
       "      <td>False</td>\n",
       "      <td>False</td>\n",
       "      <td>40000.0</td>\n",
       "      <td>False</td>\n",
       "      <td>Новосибирск</td>\n",
       "      <td>6.692967</td>\n",
       "      <td>1.0</td>\n",
       "      <td>40000.0</td>\n",
       "      <td>False</td>\n",
       "      <td>...</td>\n",
       "      <td>False</td>\n",
       "      <td>False</td>\n",
       "      <td>False</td>\n",
       "      <td>False</td>\n",
       "      <td>True</td>\n",
       "      <td>False</td>\n",
       "      <td>False</td>\n",
       "      <td>False</td>\n",
       "      <td>False</td>\n",
       "      <td>False</td>\n",
       "    </tr>\n",
       "    <tr>\n",
       "      <th>33921</th>\n",
       "      <td>старший продавец-кассир (москва, бульвар яна райниса, 26к1)</td>\n",
       "      <td>False</td>\n",
       "      <td>False</td>\n",
       "      <td>35000.0</td>\n",
       "      <td>True</td>\n",
       "      <td>Москва</td>\n",
       "      <td>7.767509</td>\n",
       "      <td>1.0</td>\n",
       "      <td>35000.0</td>\n",
       "      <td>False</td>\n",
       "      <td>...</td>\n",
       "      <td>False</td>\n",
       "      <td>True</td>\n",
       "      <td>False</td>\n",
       "      <td>False</td>\n",
       "      <td>False</td>\n",
       "      <td>False</td>\n",
       "      <td>False</td>\n",
       "      <td>False</td>\n",
       "      <td>False</td>\n",
       "      <td>False</td>\n",
       "    </tr>\n",
       "    <tr>\n",
       "      <th>8886</th>\n",
       "      <td>психолог/менеджер по корпоративной культуре</td>\n",
       "      <td>False</td>\n",
       "      <td>False</td>\n",
       "      <td>40000.0</td>\n",
       "      <td>False</td>\n",
       "      <td>Москва</td>\n",
       "      <td>6.122563</td>\n",
       "      <td>1.0</td>\n",
       "      <td>40000.0</td>\n",
       "      <td>False</td>\n",
       "      <td>...</td>\n",
       "      <td>False</td>\n",
       "      <td>False</td>\n",
       "      <td>False</td>\n",
       "      <td>False</td>\n",
       "      <td>False</td>\n",
       "      <td>False</td>\n",
       "      <td>False</td>\n",
       "      <td>False</td>\n",
       "      <td>False</td>\n",
       "      <td>False</td>\n",
       "    </tr>\n",
       "    <tr>\n",
       "      <th>23978</th>\n",
       "      <td>кухонный работник-мойщик посуды</td>\n",
       "      <td>False</td>\n",
       "      <td>False</td>\n",
       "      <td>30000.0</td>\n",
       "      <td>False</td>\n",
       "      <td>Санкт-Петербург</td>\n",
       "      <td>8.610418</td>\n",
       "      <td>1.0</td>\n",
       "      <td>30000.0</td>\n",
       "      <td>False</td>\n",
       "      <td>...</td>\n",
       "      <td>False</td>\n",
       "      <td>False</td>\n",
       "      <td>False</td>\n",
       "      <td>False</td>\n",
       "      <td>False</td>\n",
       "      <td>False</td>\n",
       "      <td>False</td>\n",
       "      <td>False</td>\n",
       "      <td>False</td>\n",
       "      <td>True</td>\n",
       "    </tr>\n",
       "  </tbody>\n",
       "</table>\n",
       "<p>9312 rows × 33 columns</p>\n",
       "</div>"
      ],
      "text/plain": [
       "                                                                         name  \\\n",
       "id                                                                              \n",
       "20978  техник по инструменту / специалист по инструменту (ауди центр таганка)   \n",
       "3102                                                     диспетчер по заказам   \n",
       "14731                                     frontend developer в focus calendar   \n",
       "16113                                                      системный аналитик   \n",
       "8410                                       front-end разработчик (javascript)   \n",
       "...                                                                       ...   \n",
       "29490                                                        обходчик объекта   \n",
       "34298                                                  it рекрутер (удаленно)   \n",
       "33921             старший продавец-кассир (москва, бульвар яна райниса, 26к1)   \n",
       "8886                              психолог/менеджер по корпоративной культуре   \n",
       "23978                                         кухонный работник-мойщик посуды   \n",
       "\n",
       "       has_test  response_letter_required  salary_from  salary_gross  \\\n",
       "id                                                                     \n",
       "20978     False                     False      35000.0         False   \n",
       "3102      False                     False      20000.0         False   \n",
       "14731     False                     False     200000.0         False   \n",
       "16113     False                     False     150000.0         False   \n",
       "8410      False                     False      80000.0         False   \n",
       "...         ...                       ...          ...           ...   \n",
       "29490     False                     False      40000.0         False   \n",
       "34298     False                     False      40000.0         False   \n",
       "33921     False                     False      35000.0          True   \n",
       "8886      False                     False      40000.0         False   \n",
       "23978     False                     False      30000.0         False   \n",
       "\n",
       "             area_name  published_at_diff  description_exp  \\\n",
       "id                                                           \n",
       "20978           Москва           8.757062              1.0   \n",
       "3102            Москва           7.478465              1.0   \n",
       "14731           Москва           4.403157              1.0   \n",
       "16113           Москва           4.412885              1.0   \n",
       "8410             Other           6.209183              1.0   \n",
       "...                ...                ...              ...   \n",
       "29490           Москва           8.074513              1.0   \n",
       "34298      Новосибирск           6.692967              1.0   \n",
       "33921           Москва           7.767509              1.0   \n",
       "8886            Москва           6.122563              1.0   \n",
       "23978  Санкт-Петербург           8.610418              1.0   \n",
       "\n",
       "       description_salary  employer_name_personname  ...  name_developer  \\\n",
       "id                                                   ...                   \n",
       "20978             35000.0                     False  ...           False   \n",
       "3102              20000.0                     False  ...           False   \n",
       "14731            200000.0                     False  ...            True   \n",
       "16113            150000.0                     False  ...           False   \n",
       "8410              80000.0                     False  ...           False   \n",
       "...                   ...                       ...  ...             ...   \n",
       "29490             40000.0                     False  ...           False   \n",
       "34298             40000.0                     False  ...           False   \n",
       "33921             35000.0                     False  ...           False   \n",
       "8886              40000.0                     False  ...           False   \n",
       "23978             30000.0                     False  ...           False   \n",
       "\n",
       "       name_москва  name_специалист  name_инженер  name_удаленная  \\\n",
       "id                                                                  \n",
       "20978        False             True         False           False   \n",
       "3102         False            False         False           False   \n",
       "14731        False            False         False           False   \n",
       "16113        False            False         False           False   \n",
       "8410         False            False         False           False   \n",
       "...            ...              ...           ...             ...   \n",
       "29490        False            False         False           False   \n",
       "34298        False            False         False            True   \n",
       "33921         True            False         False           False   \n",
       "8886         False            False         False           False   \n",
       "23978        False            False         False           False   \n",
       "\n",
       "       name_работе  name_уборщик  name_программист  name_аналитик  name_other  \n",
       "id                                                                             \n",
       "20978        False         False             False          False       False  \n",
       "3102         False         False             False          False        True  \n",
       "14731        False         False             False          False       False  \n",
       "16113        False         False             False           True       False  \n",
       "8410         False         False             False          False       False  \n",
       "...            ...           ...               ...            ...         ...  \n",
       "29490        False         False             False          False        True  \n",
       "34298        False         False             False          False       False  \n",
       "33921        False         False             False          False       False  \n",
       "8886         False         False             False          False       False  \n",
       "23978        False         False             False          False        True  \n",
       "\n",
       "[9312 rows x 33 columns]"
      ]
     },
     "execution_count": 90,
     "metadata": {},
     "output_type": "execute_result"
    }
   ],
   "source": [
    "for idx in df_test.index:\n",
    "    split = re.split('\\W+', df_test['name'][idx])\n",
    "    split = list(filter(None, split))\n",
    "    for entry in split:\n",
    "        for key, val in sorted_names_to_count:\n",
    "            if near_equal(entry, key) >= 0.75:\n",
    "                composite = 'name_' + key\n",
    "                df_test[composite][idx] = True\n",
    "                df_test['name_other'][idx] = False\n",
    "\n",
    "df_test"
   ]
  },
  {
   "cell_type": "code",
   "execution_count": 91,
   "id": "eabad65e-865d-4d49-b214-a754fee136b7",
   "metadata": {},
   "outputs": [],
   "source": [
    "df_test = df_test.drop(columns=['name'])"
   ]
  },
  {
   "cell_type": "markdown",
   "id": "c24a6eac-a365-4dfb-9cfb-d37f50a9c246",
   "metadata": {},
   "source": [
    "Делаем one-hotting категориальных фич:"
   ]
  },
  {
   "cell_type": "code",
   "execution_count": 92,
   "id": "e0d90b3b-9535-4445-ba5c-6d26ea5e0445",
   "metadata": {},
   "outputs": [],
   "source": [
    "df_one_hoted_test = df_test.copy()\n",
    "\n",
    "ONE_HOT_COL_TEST = ['area_name']#,  'published_at_diff'] #'employer_name',\n",
    "\n",
    "temp_test = pd.get_dummies(df_one_hoted_test[ONE_HOT_COL_TEST], prefix=ONE_HOT_COL_TEST, dtype=bool)\n",
    "\n",
    "df_one_hoted_test = pd.concat([temp_test, df_test], axis=1)"
   ]
  },
  {
   "cell_type": "code",
   "execution_count": 93,
   "id": "87eea7fd-3300-4b3c-8305-4690ac579b6f",
   "metadata": {},
   "outputs": [],
   "source": [
    "df_one_hoted_test = df_one_hoted_test.drop(columns=['area_name'])#, 'published_at_diff']) #'employer_name', "
   ]
  },
  {
   "cell_type": "code",
   "execution_count": 94,
   "id": "00af8291-d929-49a1-8c36-007d7ef0e654",
   "metadata": {},
   "outputs": [],
   "source": [
    "df_test = df_one_hoted_test"
   ]
  },
  {
   "cell_type": "markdown",
   "id": "8f82e6c7-fcdb-465a-929f-efa082750999",
   "metadata": {},
   "source": [
    "Проверим, что все столбцы, которые есть в обучаемом dataset, есть и в тестовом dataset:"
   ]
  },
  {
   "cell_type": "code",
   "execution_count": 95,
   "id": "1540bb15-f548-4e6e-b5dd-516d5d46b5cb",
   "metadata": {},
   "outputs": [
    {
     "name": "stdout",
     "output_type": "stream",
     "text": [
      "area_name_Other\n",
      "area_name_Екатеринбург\n",
      "area_name_Казань\n",
      "area_name_Краснодар\n",
      "area_name_Москва\n",
      "area_name_Новосибирск\n",
      "area_name_Санкт-Петербург\n",
      "has_test\n",
      "response_letter_required\n",
      "salary_from\n",
      "salary_gross\n",
      "published_at_diff\n",
      "description_exp\n",
      "description_salary\n",
      "employer_name_personname\n",
      "employer_name_пятёрочка\n",
      "employer_name_группа\n",
      "employer_name_компаний\n",
      "employer_name_центр\n",
      "employer_name_group\n",
      "employer_name_сеть\n",
      "employer_name_перекресток\n",
      "employer_name_other\n",
      "name_менеджер\n",
      "name_разработчик\n",
      "name_продавец\n",
      "name_продажам\n",
      "name_кассир\n",
      "name_developer\n",
      "name_москва\n",
      "name_специалист\n",
      "name_инженер\n",
      "name_удаленная\n",
      "name_работе\n",
      "name_уборщик\n",
      "name_программист\n",
      "name_аналитик\n",
      "name_other\n"
     ]
    }
   ],
   "source": [
    "for columnName in df_test.columns:\n",
    "    print(columnName)"
   ]
  },
  {
   "cell_type": "code",
   "execution_count": 96,
   "id": "19f71a60-8987-4b72-9fcc-75637498b0d3",
   "metadata": {},
   "outputs": [
    {
     "name": "stdout",
     "output_type": "stream",
     "text": [
      "area_name_Other\n",
      "area_name_Екатеринбург\n",
      "area_name_Казань\n",
      "area_name_Краснодар\n",
      "area_name_Москва\n",
      "area_name_Новосибирск\n",
      "area_name_Санкт-Петербург\n",
      "has_test\n",
      "response_letter_required\n",
      "salary_from\n",
      "salary_gross\n",
      "salary_to\n",
      "published_at_diff\n",
      "description_exp\n",
      "description_salary\n",
      "employer_name_personname\n",
      "employer_name_пятёрочка\n",
      "employer_name_группа\n",
      "employer_name_компаний\n",
      "employer_name_центр\n",
      "employer_name_group\n",
      "employer_name_сеть\n",
      "employer_name_перекресток\n",
      "employer_name_other\n",
      "name_менеджер\n",
      "name_разработчик\n",
      "name_продавец\n",
      "name_продажам\n",
      "name_кассир\n",
      "name_developer\n",
      "name_москва\n",
      "name_специалист\n",
      "name_инженер\n",
      "name_удаленная\n",
      "name_работе\n",
      "name_уборщик\n",
      "name_программист\n",
      "name_аналитик\n",
      "name_other\n"
     ]
    }
   ],
   "source": [
    "for columnName in df.columns:\n",
    "    print(columnName)\n",
    "    if not (columnName in df_test.columns) and (columnName != 'salary_to'):\n",
    "        df_test[columnName] = [False] * df_test.shape[0]"
   ]
  },
  {
   "cell_type": "code",
   "execution_count": 97,
   "id": "2e129860-94ee-4a02-addd-ad678fa0b874",
   "metadata": {},
   "outputs": [
    {
     "data": {
      "text/plain": [
       "Index(['area_name_Other', 'area_name_Екатеринбург', 'area_name_Казань',\n",
       "       'area_name_Краснодар', 'area_name_Москва', 'area_name_Новосибирск',\n",
       "       'area_name_Санкт-Петербург', 'has_test', 'response_letter_required',\n",
       "       'salary_from', 'salary_gross', 'published_at_diff', 'description_exp',\n",
       "       'description_salary', 'employer_name_personname',\n",
       "       'employer_name_пятёрочка', 'employer_name_группа',\n",
       "       'employer_name_компаний', 'employer_name_центр', 'employer_name_group',\n",
       "       'employer_name_сеть', 'employer_name_перекресток',\n",
       "       'employer_name_other', 'name_менеджер', 'name_разработчик',\n",
       "       'name_продавец', 'name_продажам', 'name_кассир', 'name_developer',\n",
       "       'name_москва', 'name_специалист', 'name_инженер', 'name_удаленная',\n",
       "       'name_работе', 'name_уборщик', 'name_программист', 'name_аналитик',\n",
       "       'name_other'],\n",
       "      dtype='object')"
      ]
     },
     "execution_count": 97,
     "metadata": {},
     "output_type": "execute_result"
    }
   ],
   "source": [
    "df_test.columns"
   ]
  },
  {
   "cell_type": "code",
   "execution_count": 98,
   "id": "6357a8ab-69e8-4680-9b08-e999a8771a19",
   "metadata": {},
   "outputs": [
    {
     "data": {
      "text/plain": [
       "Index(['area_name_Other', 'area_name_Екатеринбург', 'area_name_Казань',\n",
       "       'area_name_Краснодар', 'area_name_Москва', 'area_name_Новосибирск',\n",
       "       'area_name_Санкт-Петербург', 'has_test', 'response_letter_required',\n",
       "       'salary_from', 'salary_gross', 'salary_to', 'published_at_diff',\n",
       "       'description_exp', 'description_salary', 'employer_name_personname',\n",
       "       'employer_name_пятёрочка', 'employer_name_группа',\n",
       "       'employer_name_компаний', 'employer_name_центр', 'employer_name_group',\n",
       "       'employer_name_сеть', 'employer_name_перекресток',\n",
       "       'employer_name_other', 'name_менеджер', 'name_разработчик',\n",
       "       'name_продавец', 'name_продажам', 'name_кассир', 'name_developer',\n",
       "       'name_москва', 'name_специалист', 'name_инженер', 'name_удаленная',\n",
       "       'name_работе', 'name_уборщик', 'name_программист', 'name_аналитик',\n",
       "       'name_other'],\n",
       "      dtype='object')"
      ]
     },
     "execution_count": 98,
     "metadata": {},
     "output_type": "execute_result"
    }
   ],
   "source": [
    "df.columns"
   ]
  },
  {
   "cell_type": "markdown",
   "id": "ef27f090-05cc-4604-8083-7c37f0f6c60a",
   "metadata": {},
   "source": [
    "Переупорядочиваем столбцы, чтобы соответствовать обучаемой выборке:"
   ]
  },
  {
   "cell_type": "code",
   "execution_count": 99,
   "id": "fd479424-7692-4d0d-971b-ee8cd6774bb8",
   "metadata": {},
   "outputs": [],
   "source": [
    "columns = df.columns.tolist();\n",
    "columns.remove('salary_to');\n",
    "df_test = df_test[columns]"
   ]
  },
  {
   "cell_type": "markdown",
   "id": "8663bbad-4580-4907-9501-6e50d51412ce",
   "metadata": {},
   "source": [
    "Делаем предсказания:"
   ]
  },
  {
   "cell_type": "code",
   "execution_count": 100,
   "id": "ff7bb904-78a3-4f07-987f-b21a21c5f0de",
   "metadata": {},
   "outputs": [],
   "source": [
    "y_pred_test1 = cat_model.predict(df_test)"
   ]
  },
  {
   "cell_type": "markdown",
   "id": "50aa8ae5-30ec-403a-b001-6ef6e3eeaa7c",
   "metadata": {},
   "source": [
    "Пишем требуемый результат в файл:"
   ]
  },
  {
   "cell_type": "code",
   "execution_count": 101,
   "id": "c93642f3-57bf-4494-86f4-39b0f3c4e615",
   "metadata": {},
   "outputs": [],
   "source": [
    "df_test_full = df_test.assign(salary_to = y_pred_test1)"
   ]
  },
  {
   "cell_type": "code",
   "execution_count": 102,
   "id": "caa31c6c-e6c0-4ec0-8f69-25bcca9af13a",
   "metadata": {},
   "outputs": [
    {
     "data": {
      "text/plain": [
       "id\n",
       "20978     41461.277444\n",
       "3102      32731.847459\n",
       "14731    297056.066125\n",
       "16113    210727.662089\n",
       "8410     121724.454491\n",
       "             ...      \n",
       "29490     57507.475233\n",
       "34298     56634.725610\n",
       "33921     38997.594319\n",
       "8886      74613.679364\n",
       "23978     42371.441440\n",
       "Name: salary_to, Length: 9312, dtype: float64"
      ]
     },
     "execution_count": 102,
     "metadata": {},
     "output_type": "execute_result"
    }
   ],
   "source": [
    "df_output = pd.concat([df_test_full['salary_to']])\n",
    "df_output"
   ]
  },
  {
   "cell_type": "code",
   "execution_count": 103,
   "id": "2bf4fc91-9799-4646-bdf7-f587e73142f7",
   "metadata": {},
   "outputs": [],
   "source": [
    "from pathlib import Path  \n",
    "filepath = Path('y_test.csv')  \n",
    "filepath.parent.mkdir(parents=True, exist_ok=True)  \n",
    "df_output.to_csv(filepath)  "
   ]
  },
  {
   "cell_type": "code",
   "execution_count": null,
   "id": "ce7ec4e2-3f8a-41bb-85be-18190b4f92b1",
   "metadata": {},
   "outputs": [],
   "source": []
  },
  {
   "cell_type": "code",
   "execution_count": null,
   "id": "17d7c09a-6397-4ff9-8a3d-d57ff6b5b907",
   "metadata": {},
   "outputs": [],
   "source": []
  }
 ],
 "metadata": {
  "kernelspec": {
   "display_name": "Python 3 (ipykernel)",
   "language": "python",
   "name": "python3"
  },
  "language_info": {
   "codemirror_mode": {
    "name": "ipython",
    "version": 3
   },
   "file_extension": ".py",
   "mimetype": "text/x-python",
   "name": "python",
   "nbconvert_exporter": "python",
   "pygments_lexer": "ipython3",
   "version": "3.11.5"
  }
 },
 "nbformat": 4,
 "nbformat_minor": 5
}
