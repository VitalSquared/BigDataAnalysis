{
 "cells": [
  {
   "cell_type": "markdown",
   "id": "cff17164-0c1f-444f-a3de-74dddc485286",
   "metadata": {},
   "source": [
    "<H1>Необходимо предсказать верхнюю границу заработной платы (salary_to) для вакансии</H1>"
   ]
  },
  {
   "cell_type": "code",
   "execution_count": 1,
   "id": "2d5d1cec-0bee-487b-b598-7457d1e3c8f2",
   "metadata": {
    "ExecuteTime": {
     "end_time": "2024-01-09T17:41:39.957508600Z",
     "start_time": "2024-01-09T17:41:35.352733300Z"
    }
   },
   "outputs": [
    {
     "data": {
      "text/html": [
       "<style>.container {width:100% !important;}</style>"
      ],
      "text/plain": [
       "<IPython.core.display.HTML object>"
      ]
     },
     "metadata": {},
     "output_type": "display_data"
    }
   ],
   "source": [
    "import pandas as pd\n",
    "import numpy as np\n",
    "from tqdm.notebook import tqdm\n",
    "from datetime import datetime, timedelta, date\n",
    "import warnings\n",
    "warnings.filterwarnings('ignore')\n",
    "from tqdm.auto import tqdm\n",
    "tqdm.pandas()\n",
    "\n",
    "from IPython.core.display import display, HTML\n",
    "display(HTML(\"<style>.container {width:100% !important;}</style>\"))\n",
    "\n",
    "import xlrd\n",
    "from itertools import chain\n",
    "pd.set_option('display.max_colwidth', None)"
   ]
  },
  {
   "cell_type": "markdown",
   "id": "0afa045e-5363-4d28-ae79-8231118b5036",
   "metadata": {},
   "source": [
    "Считываем данные для обучения:"
   ]
  },
  {
   "cell_type": "code",
   "execution_count": 2,
   "id": "2c74e23e-1650-4549-b1f9-767deba3a8db",
   "metadata": {
    "ExecuteTime": {
     "end_time": "2024-01-09T17:41:46.638921Z",
     "start_time": "2024-01-09T17:41:38.605640700Z"
    }
   },
   "outputs": [],
   "source": [
    "df = pd.read_csv('X_train.csv', parse_dates=['published_at', 'created_at'])"
   ]
  },
  {
   "cell_type": "markdown",
   "id": "90d8c2de-d457-46d1-8e6d-86cdb64fd283",
   "metadata": {},
   "source": [
    "Считываем значения salary_to для данных для обучения и мерджим с предыдущей таблицей"
   ]
  },
  {
   "cell_type": "code",
   "execution_count": 3,
   "id": "45c435c4-220b-42d3-979a-029bf13b9363",
   "metadata": {
    "ExecuteTime": {
     "end_time": "2024-01-09T17:41:46.809927300Z",
     "start_time": "2024-01-09T17:41:46.412249300Z"
    }
   },
   "outputs": [],
   "source": [
    "df1 = pd.read_csv('y_train.csv')\n",
    "df = df.set_index('id').join(df1.set_index('id'))"
   ]
  },
  {
   "cell_type": "markdown",
   "id": "b1586e65-98eb-4257-920b-6aff7dbd2919",
   "metadata": {},
   "source": [
    "<H1>Исследование данных / Data exploration</H1>"
   ]
  },
  {
   "cell_type": "code",
   "execution_count": 4,
   "id": "8f8af7f1-b0f7-44b3-82bb-5c5a07486b8c",
   "metadata": {
    "ExecuteTime": {
     "end_time": "2024-01-09T17:41:47.070921800Z",
     "start_time": "2024-01-09T17:41:46.511779500Z"
    }
   },
   "outputs": [
    {
     "name": "stdout",
     "output_type": "stream",
     "text": [
      "<class 'pandas.core.frame.DataFrame'>\n",
      "Index: 27934 entries, 29083 to 15795\n",
      "Data columns (total 13 columns):\n",
      " #   Column                    Non-Null Count  Dtype              \n",
      "---  ------                    --------------  -----              \n",
      " 0   name                      27934 non-null  object             \n",
      " 1   has_test                  27934 non-null  bool               \n",
      " 2   response_letter_required  27934 non-null  bool               \n",
      " 3   salary_from               23902 non-null  float64            \n",
      " 4   salary_currency           27934 non-null  object             \n",
      " 5   salary_gross              27786 non-null  object             \n",
      " 6   published_at              27934 non-null  datetime64[ns, UTC]\n",
      " 7   created_at                27934 non-null  datetime64[ns, UTC]\n",
      " 8   employer_name             27934 non-null  object             \n",
      " 9   description               27933 non-null  object             \n",
      " 10  area_id                   27934 non-null  int64              \n",
      " 11  area_name                 27934 non-null  object             \n",
      " 12  salary_to                 27934 non-null  float64            \n",
      "dtypes: bool(2), datetime64[ns, UTC](2), float64(2), int64(1), object(6)\n",
      "memory usage: 3.6+ MB\n"
     ]
    }
   ],
   "source": [
    "df.info()"
   ]
  },
  {
   "cell_type": "markdown",
   "id": "9b2b2895-b2d1-4234-8fc9-a1cbdf1346ad",
   "metadata": {},
   "source": [
    "Можно увидеть, что есть пустые значения у <i>salary_from</i>. Есть пустые значения у <i>salary_gross</i>, который должен быть из описания bool, а импортировался как object. И ещё отсутствует одно значение в <i>description</i>."
   ]
  },
  {
   "cell_type": "code",
   "execution_count": 5,
   "id": "e1327c63-b522-447e-816b-e2b11f79a0b2",
   "metadata": {
    "ExecuteTime": {
     "end_time": "2024-01-09T17:41:47.438923700Z",
     "start_time": "2024-01-09T17:41:46.608910300Z"
    }
   },
   "outputs": [
    {
     "data": {
      "text/html": [
       "<div>\n",
       "<style scoped>\n",
       "    .dataframe tbody tr th:only-of-type {\n",
       "        vertical-align: middle;\n",
       "    }\n",
       "\n",
       "    .dataframe tbody tr th {\n",
       "        vertical-align: top;\n",
       "    }\n",
       "\n",
       "    .dataframe thead th {\n",
       "        text-align: right;\n",
       "    }\n",
       "</style>\n",
       "<table border=\"1\" class=\"dataframe\">\n",
       "  <thead>\n",
       "    <tr style=\"text-align: right;\">\n",
       "      <th></th>\n",
       "      <th>name</th>\n",
       "      <th>salary_currency</th>\n",
       "      <th>salary_gross</th>\n",
       "      <th>employer_name</th>\n",
       "      <th>description</th>\n",
       "      <th>area_name</th>\n",
       "    </tr>\n",
       "  </thead>\n",
       "  <tbody>\n",
       "    <tr>\n",
       "      <th>count</th>\n",
       "      <td>27934</td>\n",
       "      <td>27934</td>\n",
       "      <td>27786</td>\n",
       "      <td>27934</td>\n",
       "      <td>27933</td>\n",
       "      <td>27934</td>\n",
       "    </tr>\n",
       "    <tr>\n",
       "      <th>unique</th>\n",
       "      <td>16395</td>\n",
       "      <td>1</td>\n",
       "      <td>2</td>\n",
       "      <td>13318</td>\n",
       "      <td>23681</td>\n",
       "      <td>156</td>\n",
       "    </tr>\n",
       "    <tr>\n",
       "      <th>top</th>\n",
       "      <td>Менеджер по продажам</td>\n",
       "      <td>RUR</td>\n",
       "      <td>False</td>\n",
       "      <td>Пятёрочка</td>\n",
       "      <td>&lt;p&gt;&lt;strong&gt;Обязанности:&lt;/strong&gt;&lt;/p&gt;&lt;ul&gt;&lt;li&gt;Обслуживание покупателей на кассе (наличный и безналичный расчет)&lt;/li&gt;&lt;li&gt;Выкладка товара в зале&lt;/li&gt;&lt;li&gt;Отслеживание сроков годности товара&lt;/li&gt;&lt;li&gt;Проверка наличия ценников&lt;/li&gt;&lt;li&gt;Консультация покупателей в зале&lt;/li&gt;&lt;/ul&gt;&lt;p&gt;&lt;strong&gt;Требования:&lt;/strong&gt;&lt;/p&gt;&lt;ul&gt;&lt;li&gt;Ответственность, дисциплинированность, внимательность&lt;/li&gt;&lt;/ul&gt;&lt;p&gt;&lt;strong&gt;Условия:&lt;/strong&gt;&lt;/p&gt;&lt;ul&gt;&lt;li&gt;График работы 5/2, 2/2, возможен неполный рабочий день, неполная рабочая неделя&lt;/li&gt;&lt;li&gt;Возможность подработки (работа по совместительству)&lt;/li&gt;&lt;li&gt;Социальные гарантии, оплата отпусков и больничных листов&lt;/li&gt;&lt;li&gt;Работа рядом с домом&lt;/li&gt;&lt;li&gt;Скидки в магазинах сети&lt;/li&gt;&lt;li&gt;Фирменная спецодежда&lt;/li&gt;&lt;li&gt;Возможность профессионального и карьерного роста, корпоративное обучение&lt;/li&gt;&lt;li&gt;Корпоративные мероприятия и конкурсы&lt;/li&gt;&lt;/ul&gt;</td>\n",
       "      <td>Москва</td>\n",
       "    </tr>\n",
       "    <tr>\n",
       "      <th>freq</th>\n",
       "      <td>337</td>\n",
       "      <td>27934</td>\n",
       "      <td>18726</td>\n",
       "      <td>927</td>\n",
       "      <td>624</td>\n",
       "      <td>20512</td>\n",
       "    </tr>\n",
       "  </tbody>\n",
       "</table>\n",
       "</div>"
      ],
      "text/plain": [
       "                        name salary_currency salary_gross employer_name  \\\n",
       "count                  27934           27934        27786         27934   \n",
       "unique                 16395               1            2         13318   \n",
       "top     Менеджер по продажам             RUR        False     Пятёрочка   \n",
       "freq                     337           27934        18726           927   \n",
       "\n",
       "                                                                                                                                                                                                                                                                                                                                                                                                                                                                                                                                                                                                                                                                                                                                                                                                                                                                         description  \\\n",
       "count                                                                                                                                                                                                                                                                                                                                                                                                                                                                                                                                                                                                                                                                                                                                                                                                                                                                          27933   \n",
       "unique                                                                                                                                                                                                                                                                                                                                                                                                                                                                                                                                                                                                                                                                                                                                                                                                                                                                         23681   \n",
       "top     <p><strong>Обязанности:</strong></p><ul><li>Обслуживание покупателей на кассе (наличный и безналичный расчет)</li><li>Выкладка товара в зале</li><li>Отслеживание сроков годности товара</li><li>Проверка наличия ценников</li><li>Консультация покупателей в зале</li></ul><p><strong>Требования:</strong></p><ul><li>Ответственность, дисциплинированность, внимательность</li></ul><p><strong>Условия:</strong></p><ul><li>График работы 5/2, 2/2, возможен неполный рабочий день, неполная рабочая неделя</li><li>Возможность подработки (работа по совместительству)</li><li>Социальные гарантии, оплата отпусков и больничных листов</li><li>Работа рядом с домом</li><li>Скидки в магазинах сети</li><li>Фирменная спецодежда</li><li>Возможность профессионального и карьерного роста, корпоративное обучение</li><li>Корпоративные мероприятия и конкурсы</li></ul>   \n",
       "freq                                                                                                                                                                                                                                                                                                                                                                                                                                                                                                                                                                                                                                                                                                                                                                                                                                                                             624   \n",
       "\n",
       "       area_name  \n",
       "count      27934  \n",
       "unique       156  \n",
       "top       Москва  \n",
       "freq       20512  "
      ]
     },
     "execution_count": 5,
     "metadata": {},
     "output_type": "execute_result"
    }
   ],
   "source": [
    "pd.options.display.max_rows = 13\n",
    "df.describe(include='O')"
   ]
  },
  {
   "cell_type": "markdown",
   "id": "534b883d-b31d-4f25-b3ac-de427c154825",
   "metadata": {},
   "source": [
    "<H1>Даты</H1>"
   ]
  },
  {
   "cell_type": "markdown",
   "id": "ae2f7309-4574-4057-b4fe-b8426d8f1067",
   "metadata": {},
   "source": [
    "Посмотрим корреляцию <i>published_at</i> и <i>created_at</i>."
   ]
  },
  {
   "cell_type": "code",
   "execution_count": 6,
   "id": "f8174c47-7d0d-4a05-88ea-fae67d66698e",
   "metadata": {
    "ExecuteTime": {
     "end_time": "2024-01-09T17:41:49.816039700Z",
     "start_time": "2024-01-09T17:41:46.850943600Z"
    }
   },
   "outputs": [
    {
     "data": {
      "text/html": [
       "<style type=\"text/css\">\n",
       "#T_0f4d9_row0_col0, #T_0f4d9_row0_col1, #T_0f4d9_row1_col0, #T_0f4d9_row1_col1 {\n",
       "  background-color: #fff7fb;\n",
       "  color: #000000;\n",
       "}\n",
       "</style>\n",
       "<table id=\"T_0f4d9\">\n",
       "  <thead>\n",
       "    <tr>\n",
       "      <th class=\"blank level0\" >&nbsp;</th>\n",
       "      <th id=\"T_0f4d9_level0_col0\" class=\"col_heading level0 col0\" >published_at</th>\n",
       "      <th id=\"T_0f4d9_level0_col1\" class=\"col_heading level0 col1\" >created_at</th>\n",
       "    </tr>\n",
       "  </thead>\n",
       "  <tbody>\n",
       "    <tr>\n",
       "      <th id=\"T_0f4d9_level0_row0\" class=\"row_heading level0 row0\" >published_at</th>\n",
       "      <td id=\"T_0f4d9_row0_col0\" class=\"data row0 col0\" >1.000000</td>\n",
       "      <td id=\"T_0f4d9_row0_col1\" class=\"data row0 col1\" >1.000000</td>\n",
       "    </tr>\n",
       "    <tr>\n",
       "      <th id=\"T_0f4d9_level0_row1\" class=\"row_heading level0 row1\" >created_at</th>\n",
       "      <td id=\"T_0f4d9_row1_col0\" class=\"data row1 col0\" >1.000000</td>\n",
       "      <td id=\"T_0f4d9_row1_col1\" class=\"data row1 col1\" >1.000000</td>\n",
       "    </tr>\n",
       "  </tbody>\n",
       "</table>\n"
      ],
      "text/plain": [
       "<pandas.io.formats.style.Styler at 0x1b6f138f550>"
      ]
     },
     "execution_count": 6,
     "metadata": {},
     "output_type": "execute_result"
    }
   ],
   "source": [
    "#(df['published_at']==df['created_at']).value_counts()\n",
    "df[['published_at', 'created_at']].corr().style.background_gradient()"
   ]
  },
  {
   "cell_type": "markdown",
   "id": "09cb2bae-a6dd-4f38-9627-ebda8b6de2b0",
   "metadata": {},
   "source": [
    "Эти столбцы полностью совпадают, один из них можно удалить."
   ]
  },
  {
   "cell_type": "code",
   "execution_count": 7,
   "id": "7e29dcd6-a875-4af7-815a-f2c5a2ae67f1",
   "metadata": {
    "ExecuteTime": {
     "end_time": "2024-01-09T17:41:49.873031900Z",
     "start_time": "2024-01-09T17:41:48.411929200Z"
    }
   },
   "outputs": [],
   "source": [
    "df = df.drop(columns=['created_at'])"
   ]
  },
  {
   "cell_type": "markdown",
   "id": "7d9c89fb-d1f0-4374-aa12-e6bb6501d7d3",
   "metadata": {},
   "source": [
    "Разберемся с датами в <i>published_at</i>. Заменим даты на разницу между концом 2022 года (за который собирался dataset) и датой в <i>published_at</i>:"
   ]
  },
  {
   "cell_type": "code",
   "execution_count": 8,
   "id": "83d2ac63-cb4c-4a99-a228-d7abf7aac73c",
   "metadata": {
    "ExecuteTime": {
     "end_time": "2024-01-09T17:41:49.930026600Z",
     "start_time": "2024-01-09T17:41:48.437918400Z"
    }
   },
   "outputs": [],
   "source": [
    "df['published_at_diff'] = df['published_at'].map(lambda x: datetime.timestamp(datetime(2023, 1, 1)) - x.timestamp())"
   ]
  },
  {
   "cell_type": "markdown",
   "id": "33b5777a-7127-4465-82d8-c07950bc10b6",
   "metadata": {},
   "source": [
    "Теперь столбец <i>published_at</i> можно удалить."
   ]
  },
  {
   "cell_type": "code",
   "execution_count": 9,
   "id": "0ee1c906-1e70-444e-9256-b37caafc0303",
   "metadata": {
    "ExecuteTime": {
     "end_time": "2024-01-09T17:41:49.989037600Z",
     "start_time": "2024-01-09T17:41:48.612660Z"
    }
   },
   "outputs": [],
   "source": [
    "df = df.drop(columns=['published_at'])"
   ]
  },
  {
   "cell_type": "code",
   "execution_count": 10,
   "id": "86e8c3dc-4a73-40a6-acb3-2b81da02c969",
   "metadata": {
    "ExecuteTime": {
     "end_time": "2024-01-09T17:41:50.009032100Z",
     "start_time": "2024-01-09T17:41:48.626800700Z"
    }
   },
   "outputs": [
    {
     "name": "stdout",
     "output_type": "stream",
     "text": [
      "<class 'pandas.core.frame.DataFrame'>\n",
      "Index: 27934 entries, 29083 to 15795\n",
      "Data columns (total 12 columns):\n",
      " #   Column                    Non-Null Count  Dtype  \n",
      "---  ------                    --------------  -----  \n",
      " 0   name                      27934 non-null  object \n",
      " 1   has_test                  27934 non-null  bool   \n",
      " 2   response_letter_required  27934 non-null  bool   \n",
      " 3   salary_from               23902 non-null  float64\n",
      " 4   salary_currency           27934 non-null  object \n",
      " 5   salary_gross              27786 non-null  object \n",
      " 6   employer_name             27934 non-null  object \n",
      " 7   description               27933 non-null  object \n",
      " 8   area_id                   27934 non-null  int64  \n",
      " 9   area_name                 27934 non-null  object \n",
      " 10  salary_to                 27934 non-null  float64\n",
      " 11  published_at_diff         27934 non-null  float64\n",
      "dtypes: bool(2), float64(3), int64(1), object(6)\n",
      "memory usage: 3.4+ MB\n"
     ]
    }
   ],
   "source": [
    "df.info()"
   ]
  },
  {
   "cell_type": "markdown",
   "id": "75ed9140-7423-4af7-b816-f34cfa9c3a38",
   "metadata": {},
   "source": [
    "<H1>Количественные / Quantitative</H1>"
   ]
  },
  {
   "cell_type": "markdown",
   "id": "3f4bfbfd-9600-4fa6-8f15-180e7a0ce6c9",
   "metadata": {},
   "source": [
    "В salary_from есть пустые значения. Поместим туда самое частое значение:"
   ]
  },
  {
   "cell_type": "code",
   "execution_count": 11,
   "id": "4d039cd1-dae6-43cb-a18a-dde004ea3e9a",
   "metadata": {
    "ExecuteTime": {
     "end_time": "2024-01-09T17:41:50.062039400Z",
     "start_time": "2024-01-09T17:41:48.707802700Z"
    }
   },
   "outputs": [],
   "source": [
    "#df_filtered = df.dropna(subset = ['salary_from'])\n",
    "df.salary_from.fillna(df.salary_from.mode()[0], inplace = True)"
   ]
  },
  {
   "cell_type": "code",
   "execution_count": 12,
   "id": "c25270ee-083e-4a2a-a831-30a5b343dfe0",
   "metadata": {
    "ExecuteTime": {
     "end_time": "2024-01-09T17:41:50.094027100Z",
     "start_time": "2024-01-09T17:41:48.742866400Z"
    }
   },
   "outputs": [
    {
     "name": "stdout",
     "output_type": "stream",
     "text": [
      "<class 'pandas.core.frame.DataFrame'>\n",
      "Index: 27934 entries, 29083 to 15795\n",
      "Data columns (total 12 columns):\n",
      " #   Column                    Non-Null Count  Dtype  \n",
      "---  ------                    --------------  -----  \n",
      " 0   name                      27934 non-null  object \n",
      " 1   has_test                  27934 non-null  bool   \n",
      " 2   response_letter_required  27934 non-null  bool   \n",
      " 3   salary_from               27934 non-null  float64\n",
      " 4   salary_currency           27934 non-null  object \n",
      " 5   salary_gross              27786 non-null  object \n",
      " 6   employer_name             27934 non-null  object \n",
      " 7   description               27933 non-null  object \n",
      " 8   area_id                   27934 non-null  int64  \n",
      " 9   area_name                 27934 non-null  object \n",
      " 10  salary_to                 27934 non-null  float64\n",
      " 11  published_at_diff         27934 non-null  float64\n",
      "dtypes: bool(2), float64(3), int64(1), object(6)\n",
      "memory usage: 3.4+ MB\n"
     ]
    }
   ],
   "source": [
    "df.info()"
   ]
  },
  {
   "cell_type": "markdown",
   "id": "ee1c3cca-277a-493d-be83-68264d7a9f94",
   "metadata": {},
   "source": [
    "Посмотрим на распределение всех числовых величин:"
   ]
  },
  {
   "cell_type": "code",
   "execution_count": 13,
   "id": "2e63bb51-3c5e-4b4e-a8c1-f716323bae5e",
   "metadata": {
    "ExecuteTime": {
     "end_time": "2024-01-09T17:41:52.481975900Z",
     "start_time": "2024-01-09T17:41:48.819035Z"
    }
   },
   "outputs": [
    {
     "data": {
      "image/png": "[encoded data removed]",
      "text/plain": [
       "<Figure size 1000x1500 with 3 Axes>"
      ]
     },
     "metadata": {},
     "output_type": "display_data"
    }
   ],
   "source": [
    "import matplotlib.pyplot as plt\n",
    "df_numeric = df[['salary_from', 'salary_to', 'published_at_diff']]\n",
    "# Создаем гистограммы для всех столбцов\n",
    "fig, axes = plt.subplots(nrows=len(df_numeric.columns), ncols=1, figsize=(10, 15))\n",
    "\n",
    "# Проходимся по всем столбцам DataFrame и создаем гистограмму для каждого столбца\n",
    "for i, column in enumerate(df_numeric.columns):\n",
    "    df_numeric[column].plot(kind='hist', bins=25, ax=axes[i])\n",
    "    axes[i].set_title(column)\n",
    "\n",
    "plt.tight_layout()\n",
    "plt.show()"
   ]
  },
  {
   "cell_type": "markdown",
   "id": "727ffa2f-ad8d-4120-96c7-ed5a729ad38c",
   "metadata": {},
   "source": [
    "Нормализуем <i>publised_at_diff</i>:"
   ]
  },
  {
   "cell_type": "code",
   "execution_count": 14,
   "id": "d9edc72c-10e1-4706-86a2-ce9db1fdfcf8",
   "metadata": {
    "ExecuteTime": {
     "end_time": "2024-01-09T17:41:52.525966300Z",
     "start_time": "2024-01-09T17:41:50.960996300Z"
    }
   },
   "outputs": [],
   "source": [
    "df[\"published_at_diff\"] = df[\"published_at_diff\"] / 1e7"
   ]
  },
  {
   "cell_type": "markdown",
   "id": "b5dc1196-1e60-4045-a095-47be90086b8a",
   "metadata": {},
   "source": [
    "<H1>Категориальные / Category</H1>"
   ]
  },
  {
   "cell_type": "code",
   "execution_count": 15,
   "id": "fa64bb13-5c42-456d-aca9-0b9ca8a334b2",
   "metadata": {
    "ExecuteTime": {
     "end_time": "2024-01-09T17:41:52.556970400Z",
     "start_time": "2024-01-09T17:41:50.974547400Z"
    }
   },
   "outputs": [
    {
     "name": "stdout",
     "output_type": "stream",
     "text": [
      "<class 'pandas.core.frame.DataFrame'>\n",
      "Index: 27934 entries, 29083 to 15795\n",
      "Data columns (total 12 columns):\n",
      " #   Column                    Non-Null Count  Dtype  \n",
      "---  ------                    --------------  -----  \n",
      " 0   name                      27934 non-null  object \n",
      " 1   has_test                  27934 non-null  bool   \n",
      " 2   response_letter_required  27934 non-null  bool   \n",
      " 3   salary_from               27934 non-null  float64\n",
      " 4   salary_currency           27934 non-null  object \n",
      " 5   salary_gross              27786 non-null  object \n",
      " 6   employer_name             27934 non-null  object \n",
      " 7   description               27933 non-null  object \n",
      " 8   area_id                   27934 non-null  int64  \n",
      " 9   area_name                 27934 non-null  object \n",
      " 10  salary_to                 27934 non-null  float64\n",
      " 11  published_at_diff         27934 non-null  float64\n",
      "dtypes: bool(2), float64(3), int64(1), object(6)\n",
      "memory usage: 3.4+ MB\n"
     ]
    }
   ],
   "source": [
    "df.info()"
   ]
  },
  {
   "cell_type": "markdown",
   "id": "567bcaec-8af2-40d5-acfe-348d4705242d",
   "metadata": {},
   "source": [
    "<H2>salary_gross</H2>"
   ]
  },
  {
   "cell_type": "markdown",
   "id": "d632a908-ef50-4711-94f2-dcf8f34bd60c",
   "metadata": {},
   "source": [
    "Для <i>salary_gross</i> нужно заполнить пропуски False и преобразовать из типа object в тип bool: "
   ]
  },
  {
   "cell_type": "code",
   "execution_count": 16,
   "id": "e320a18a-e72e-4450-a136-fc08ad9b1b47",
   "metadata": {
    "ExecuteTime": {
     "end_time": "2024-01-09T17:41:52.608964Z",
     "start_time": "2024-01-09T17:41:51.046548500Z"
    }
   },
   "outputs": [],
   "source": [
    "df.salary_gross.fillna(False, inplace = True) \n",
    "df['salary_gross'] = df['salary_gross'].astype(bool)"
   ]
  },
  {
   "cell_type": "code",
   "execution_count": 17,
   "id": "f30dd354-0021-450f-ad5b-ae82e3c69954",
   "metadata": {
    "ExecuteTime": {
     "end_time": "2024-01-09T17:41:52.674963500Z",
     "start_time": "2024-01-09T17:41:51.083104Z"
    }
   },
   "outputs": [
    {
     "name": "stdout",
     "output_type": "stream",
     "text": [
      "<class 'pandas.core.frame.DataFrame'>\n",
      "Index: 27934 entries, 29083 to 15795\n",
      "Data columns (total 12 columns):\n",
      " #   Column                    Non-Null Count  Dtype  \n",
      "---  ------                    --------------  -----  \n",
      " 0   name                      27934 non-null  object \n",
      " 1   has_test                  27934 non-null  bool   \n",
      " 2   response_letter_required  27934 non-null  bool   \n",
      " 3   salary_from               27934 non-null  float64\n",
      " 4   salary_currency           27934 non-null  object \n",
      " 5   salary_gross              27934 non-null  bool   \n",
      " 6   employer_name             27934 non-null  object \n",
      " 7   description               27933 non-null  object \n",
      " 8   area_id                   27934 non-null  int64  \n",
      " 9   area_name                 27934 non-null  object \n",
      " 10  salary_to                 27934 non-null  float64\n",
      " 11  published_at_diff         27934 non-null  float64\n",
      "dtypes: bool(3), float64(3), int64(1), object(5)\n",
      "memory usage: 3.2+ MB\n"
     ]
    }
   ],
   "source": [
    "df.info()"
   ]
  },
  {
   "cell_type": "markdown",
   "id": "ce6edd51-928d-42f7-9e2a-52783d6d07cd",
   "metadata": {},
   "source": [
    "<H2>salary_currency</H2>"
   ]
  },
  {
   "cell_type": "markdown",
   "id": "af038cfb-1ce9-464a-a238-8afee6bc2f36",
   "metadata": {},
   "source": [
    "Посмотрим, сколько уникальных значений есть в <i>salary_currency</i>."
   ]
  },
  {
   "cell_type": "code",
   "execution_count": 18,
   "id": "aa8c7178-aba3-4796-9a83-849741f4d469",
   "metadata": {
    "ExecuteTime": {
     "end_time": "2024-01-09T17:41:52.737975700Z",
     "start_time": "2024-01-09T17:41:51.170107Z"
    }
   },
   "outputs": [
    {
     "data": {
      "text/plain": [
       "salary_currency\n",
       "RUR    27934\n",
       "Name: count, dtype: int64"
      ]
     },
     "execution_count": 18,
     "metadata": {},
     "output_type": "execute_result"
    }
   ],
   "source": [
    "df['salary_currency'].value_counts()"
   ]
  },
  {
   "cell_type": "markdown",
   "id": "3900589e-d127-484f-af37-48fbcef45678",
   "metadata": {},
   "source": [
    "У всех строк одна и та же валюта, этот столбец можно удалить."
   ]
  },
  {
   "cell_type": "code",
   "execution_count": 19,
   "id": "f0bca82c-136e-419b-be3f-afefe6cd6fcc",
   "metadata": {
    "ExecuteTime": {
     "end_time": "2024-01-09T17:41:52.849361700Z",
     "start_time": "2024-01-09T17:41:51.210100200Z"
    }
   },
   "outputs": [],
   "source": [
    "df = df.drop(columns=['salary_currency'])"
   ]
  },
  {
   "cell_type": "code",
   "execution_count": 20,
   "id": "f1cf028e-97ef-4635-acbc-0bb3cc5574ff",
   "metadata": {
    "ExecuteTime": {
     "end_time": "2024-01-09T17:41:54.425602700Z",
     "start_time": "2024-01-09T17:41:51.345096Z"
    }
   },
   "outputs": [
    {
     "name": "stdout",
     "output_type": "stream",
     "text": [
      "<class 'pandas.core.frame.DataFrame'>\n",
      "Index: 27934 entries, 29083 to 15795\n",
      "Data columns (total 11 columns):\n",
      " #   Column                    Non-Null Count  Dtype  \n",
      "---  ------                    --------------  -----  \n",
      " 0   name                      27934 non-null  object \n",
      " 1   has_test                  27934 non-null  bool   \n",
      " 2   response_letter_required  27934 non-null  bool   \n",
      " 3   salary_from               27934 non-null  float64\n",
      " 4   salary_gross              27934 non-null  bool   \n",
      " 5   employer_name             27934 non-null  object \n",
      " 6   description               27933 non-null  object \n",
      " 7   area_id                   27934 non-null  int64  \n",
      " 8   area_name                 27934 non-null  object \n",
      " 9   salary_to                 27934 non-null  float64\n",
      " 10  published_at_diff         27934 non-null  float64\n",
      "dtypes: bool(3), float64(3), int64(1), object(4)\n",
      "memory usage: 3.0+ MB\n"
     ]
    }
   ],
   "source": [
    "df.info()"
   ]
  },
  {
   "cell_type": "markdown",
   "id": "2c5ae20c-0c59-41e3-a4c6-0f9cceaee4f7",
   "metadata": {},
   "source": [
    "<H2>area_name и area_id</H2>"
   ]
  },
  {
   "cell_type": "markdown",
   "id": "8b9939d9-c3f6-4d31-a3ed-006de10fc74b",
   "metadata": {},
   "source": [
    "Разберемся с <i>area_id</i> и <i>area_name</i>."
   ]
  },
  {
   "cell_type": "code",
   "execution_count": 21,
   "id": "8d6fbd81-8e1b-41dc-8ec6-2e645cb36938",
   "metadata": {
    "ExecuteTime": {
     "end_time": "2024-01-09T17:41:54.925604500Z",
     "start_time": "2024-01-09T17:41:51.422946100Z"
    }
   },
   "outputs": [
    {
     "data": {
      "text/plain": [
       "{1: {('Москва',)},\n",
       " 2: {('Санкт-Петербург',)},\n",
       " 72: {('Пермь',)},\n",
       " 4: {('Новосибирск',)},\n",
       " 78: {('Самара',)},\n",
       " 26: {('Воронеж',)},\n",
       " 35: {('Иркутск',)},\n",
       " 3: {('Екатеринбург',)},\n",
       " 77: {('Рязань',)},\n",
       " 24: {('Волгоград',)},\n",
       " 76: {('Ростов-на-Дону',)},\n",
       " 54: {('Красноярск',)},\n",
       " 53: {('Краснодар',)},\n",
       " 66: {('Нижний Новгород',)},\n",
       " 96: {('Ижевск',)},\n",
       " 247: {('Дзержинск (Нижегородская область)',)},\n",
       " 41: {('Калининград',)},\n",
       " 90: {('Томск',)},\n",
       " 98: {('Ульяновск',)},\n",
       " 130: {('Севастополь',)},\n",
       " 68: {('Омск',)},\n",
       " 43: {('Калуга',)},\n",
       " 99: {('Уфа',)},\n",
       " 22: {('Владивосток',)},\n",
       " 49: {('Киров (Кировская область)',)},\n",
       " 88: {('Казань',)},\n",
       " 32: {('Иваново (Ивановская область)',)},\n",
       " 1002: {('Минск',)},\n",
       " 44: {('Петропавловск-Камчатский',)},\n",
       " 112: {('Ярославль',)},\n",
       " 160: {('Алматы',)},\n",
       " 104: {('Челябинск',)},\n",
       " 2734: {('Иннополис',)},\n",
       " 92: {('Тула',)},\n",
       " 71: {('Пенза',)},\n",
       " 2088: {('Зеленоград',)},\n",
       " 2059: {('Павловский Посад',)},\n",
       " 159: {('Нур-Султан',)},\n",
       " 83: {('Смоленск',)},\n",
       " 79: {('Саратов',)},\n",
       " 89: {('Тверь',)},\n",
       " 63: {('Саранск',)},\n",
       " 95: {('Тюмень',)},\n",
       " 2077: {('Химки',)},\n",
       " 237: {('Сочи',)},\n",
       " 51: {('Сыктывкар',)},\n",
       " 212: {('Тольятти',)},\n",
       " 84: {('Ставрополь',)},\n",
       " 1283: {('Краснотурьинск',)},\n",
       " 14: {('Архангельск',)},\n",
       " 113: {('Россия',)},\n",
       " 2020: {('Балашиха',)},\n",
       " 1454: {('Новороссийск',)},\n",
       " 11: {('Барнаул',)},\n",
       " 1641: {('Набережные Челны',)},\n",
       " 61: {('Йошкар-Ола',)},\n",
       " 107: {('Чебоксары',)},\n",
       " 17: {('Белгород',)},\n",
       " 1006: {('Гродно',)},\n",
       " 102: {('Хабаровск',)},\n",
       " 1753: {('Череповец',)},\n",
       " 19: {('Брянск',)},\n",
       " 1550: {('Таганрог',)},\n",
       " 70: {('Оренбург',)},\n",
       " 242: {('Эквадор',)},\n",
       " 69: {('Орел',)},\n",
       " 2760: {('Бишкек',)},\n",
       " 2012: {('Сертолово',)},\n",
       " 15: {('Астрахань',)},\n",
       " 56: {('Курск',)},\n",
       " 1599: {('Балаково',)},\n",
       " 59: {('Литва',)},\n",
       " 131: {('Симферополь',)},\n",
       " 52: {('Кострома',)},\n",
       " 1492: {('Минеральные Воды',)},\n",
       " 1825: {('Старый Оскол',)},\n",
       " 1724: {('Ковров',)},\n",
       " 1381: {('Сургут',)},\n",
       " 1240: {('Новокузнецк',)},\n",
       " 1233: {('Гурьевск (Кемеровская область)',)},\n",
       " 58: {('Липецк',)},\n",
       " 29: {('Махачкала',)},\n",
       " 2041: {('Мытищи',)},\n",
       " 248: {('Арзамас',)},\n",
       " 1494: {('Невинномысск',)},\n",
       " 75: {('Псков',)},\n",
       " 80: {('Якутск',)},\n",
       " 1600: {('Балашов',)},\n",
       " 150: {('Аксай (Казахстан)',)},\n",
       " 74: {('Польша',)},\n",
       " 2025: {('Домодедово',)},\n",
       " 105: {('Грозный',)},\n",
       " 2090: {('Королев',)},\n",
       " 1003: {('Гомель',)},\n",
       " 2086: {('Дубна',)},\n",
       " 85: {('США',)},\n",
       " 1399: {('Магнитогорск',)},\n",
       " 10: {('Горно-Алтайск',)},\n",
       " 73: {('Петрозаводск',)},\n",
       " 25: {('Вологда',)},\n",
       " 12: {('Благовещенск (Амурская область)',)},\n",
       " 23: {('Владимир',)},\n",
       " 1250: {('Исилькуль',)},\n",
       " 1537: {('Донецк (Ростовская область)',)},\n",
       " 94: {('Турция',)},\n",
       " 1364: {('Стерлитамак',)},\n",
       " 47: {('Кемерово',)},\n",
       " 1540: {('Каменск-Шахтинский',)},\n",
       " 1999: {('Коммунар',)},\n",
       " 5709: {('Колтуши',)},\n",
       " 1691: {('Кстово',)},\n",
       " 64: {('Мурманск',)},\n",
       " 1648: {('Глазов',)},\n",
       " 106: {('Чита',)},\n",
       " 2636: {('Республика Коста-Рика',)},\n",
       " 2385: {('Саки',)},\n",
       " 1914: {('Алексин',)},\n",
       " 2120: {('Ялта',)},\n",
       " 1253: {('Тара',)},\n",
       " 1533: {('Батайск',)},\n",
       " 5049: {('Кишинёв',)},\n",
       " 301: {('Обнинск',)},\n",
       " 1548: {('Сальск',)},\n",
       " 1613: {('Энгельс',)},\n",
       " 87: {('Тамбов',)},\n",
       " 1220: {('Бийск',)},\n",
       " 1400: {('Миасс',)},\n",
       " 1291: {('Нижний Тагил',)},\n",
       " 2058: {('Орехово-Зуево',)},\n",
       " 1251: {('Калачинск',)},\n",
       " 2750: {('Петергоф',)},\n",
       " 2064: {('Жуковский',)},\n",
       " 2758: {('Тбилиси',)},\n",
       " 1442: {('Армавир',)},\n",
       " 1531: {('Азов',)},\n",
       " 2023: {('Дмитров',)},\n",
       " 1007: {('Брест',)},\n",
       " 236: {('Кипр',)},\n",
       " 67: {('Великий Новгород',)},\n",
       " 2061: {('Подольск (Московская область)',)},\n",
       " 2113: {('Колумбия',)},\n",
       " 1814: {('Рыбинск',)},\n",
       " 1717: {('Александров',)},\n",
       " 2447: {('Ленинградская станица',)},\n",
       " 2034: {('Красногорск',)},\n",
       " 1440: {('Анапа',)},\n",
       " 1005: {('Витебск',)},\n",
       " 3315: {('Витязево',)},\n",
       " 147: {('Ханты-Мансийск',)},\n",
       " 2554: {('Колпино',)},\n",
       " 2759: {('Ташкент',)},\n",
       " 1642: {('Нижнекамск',)},\n",
       " 1419: {('Новый Уренгой',)},\n",
       " 1594: {('Сызрань',)},\n",
       " 2069: {('Сергиев Посад',)},\n",
       " 55: {('Курган',)}}"
      ]
     },
     "execution_count": 21,
     "metadata": {},
     "output_type": "execute_result"
    }
   ],
   "source": [
    "map_id_to_name = {}\n",
    "for idx in df.index:\n",
    "    if df['area_id'][idx] in map_id_to_name:\n",
    "        map_id_to_name[df['area_id'][idx]].add((df['area_name'][idx], ))\n",
    "    else:\n",
    "        map_id_to_name[df['area_id'][idx]] = set(((df['area_name'][idx], ), ))\n",
    "map_id_to_name"
   ]
  },
  {
   "cell_type": "markdown",
   "id": "e7809a07-2e49-4594-b145-8c8d3860bc0c",
   "metadata": {},
   "source": [
    "Удалим <i>area_id</i>, и посмотрим на то, сколько раз встречается тот или иной город."
   ]
  },
  {
   "cell_type": "code",
   "execution_count": 22,
   "id": "b81df894-480c-4df8-81cb-c7e791201c84",
   "metadata": {
    "ExecuteTime": {
     "end_time": "2024-01-09T17:41:54.971600300Z",
     "start_time": "2024-01-09T17:41:52.772740Z"
    }
   },
   "outputs": [],
   "source": [
    "df = df.drop(columns=['area_id'])"
   ]
  },
  {
   "cell_type": "code",
   "execution_count": 23,
   "id": "956ba501-fa53-4bc2-bf2f-ef3d681f390c",
   "metadata": {
    "ExecuteTime": {
     "end_time": "2024-01-09T17:41:55.141840100Z",
     "start_time": "2024-01-09T17:41:52.794356Z"
    }
   },
   "outputs": [
    {
     "data": {
      "text/plain": [
       "area_name\n",
       "Москва                         20512\n",
       "Санкт-Петербург                 5393\n",
       "Новосибирск                      201\n",
       "Краснодар                        178\n",
       "Екатеринбург                     158\n",
       "                               ...  \n",
       "Каменск-Шахтинский                 1\n",
       "Стерлитамак                        1\n",
       "Турция                             1\n",
       "Донецк (Ростовская область)        1\n",
       "Курган                             1\n",
       "Name: count, Length: 156, dtype: int64"
      ]
     },
     "execution_count": 23,
     "metadata": {},
     "output_type": "execute_result"
    }
   ],
   "source": [
    "df['area_name'].value_counts()"
   ]
  },
  {
   "cell_type": "markdown",
   "id": "00092756-642d-442f-b4b2-8f53e4f0a269",
   "metadata": {},
   "source": [
    "Выделим несколько часто встречающихся городов, остальные заменим Other:"
   ]
  },
  {
   "cell_type": "code",
   "execution_count": 24,
   "id": "6698a165-0664-4e50-b70c-77d24630507a",
   "metadata": {
    "ExecuteTime": {
     "end_time": "2024-01-09T17:41:55.206837200Z",
     "start_time": "2024-01-09T17:41:52.874342100Z"
    }
   },
   "outputs": [
    {
     "data": {
      "text/plain": [
       "area_name\n",
       "Москва             20512\n",
       "Санкт-Петербург     5393\n",
       "Other               1339\n",
       "Новосибирск          201\n",
       "Краснодар            178\n",
       "Екатеринбург         158\n",
       "Казань               153\n",
       "Name: count, dtype: int64"
      ]
     },
     "execution_count": 24,
     "metadata": {},
     "output_type": "execute_result"
    }
   ],
   "source": [
    "df.loc[df[\"area_name\"].value_counts()[df[\"area_name\"]].values < 150, \"area_name\"] = \"Other\"\n",
    "df['area_name'].value_counts()"
   ]
  },
  {
   "cell_type": "code",
   "execution_count": 25,
   "id": "9ea2dc25-728d-4fc6-9c77-9064ec26fd5b",
   "metadata": {
    "ExecuteTime": {
     "end_time": "2024-01-09T17:41:56.042944900Z",
     "start_time": "2024-01-09T17:41:55.102614100Z"
    }
   },
   "outputs": [
    {
     "name": "stdout",
     "output_type": "stream",
     "text": [
      "<class 'pandas.core.frame.DataFrame'>\n",
      "Index: 27934 entries, 29083 to 15795\n",
      "Data columns (total 10 columns):\n",
      " #   Column                    Non-Null Count  Dtype  \n",
      "---  ------                    --------------  -----  \n",
      " 0   name                      27934 non-null  object \n",
      " 1   has_test                  27934 non-null  bool   \n",
      " 2   response_letter_required  27934 non-null  bool   \n",
      " 3   salary_from               27934 non-null  float64\n",
      " 4   salary_gross              27934 non-null  bool   \n",
      " 5   employer_name             27934 non-null  object \n",
      " 6   description               27933 non-null  object \n",
      " 7   area_name                 27934 non-null  object \n",
      " 8   salary_to                 27934 non-null  float64\n",
      " 9   published_at_diff         27934 non-null  float64\n",
      "dtypes: bool(3), float64(3), object(4)\n",
      "memory usage: 2.8+ MB\n"
     ]
    }
   ],
   "source": [
    "df.info()"
   ]
  },
  {
   "cell_type": "markdown",
   "id": "40b38cff-54ae-4088-9157-aee4a139ec8c",
   "metadata": {},
   "source": [
    "<H2>description</H2>"
   ]
  },
  {
   "cell_type": "markdown",
   "id": "d0622860-ee0a-4a8c-a0c8-3e6d922cb3d1",
   "metadata": {},
   "source": [
    "В колонке <i>description</i> есть много информации, написанной в виде HTML страницы. Сначала преобразуем к нижнему регистру"
   ]
  },
  {
   "cell_type": "code",
   "execution_count": 26,
   "id": "a8acef35-0ae4-4508-a046-a06731891d1b",
   "metadata": {
    "ExecuteTime": {
     "end_time": "2024-01-09T17:41:57.057146500Z",
     "start_time": "2024-01-09T17:41:56.030940300Z"
    }
   },
   "outputs": [],
   "source": [
    "import re\n",
    "df['description'] = pd.Series(df['description'],dtype=pd.StringDtype())\n",
    "df.description = df.description.apply(lambda x: str(x).lower())"
   ]
  },
  {
   "cell_type": "markdown",
   "id": "ce7acd2d-9f1a-4b1d-a275-9d0ada1f2fad",
   "metadata": {},
   "source": [
    "Выделим из описаний требуемый опыт работы"
   ]
  },
  {
   "cell_type": "code",
   "execution_count": 27,
   "id": "fe05f90a-6536-4eda-927a-c8cd26c8d4f5",
   "metadata": {
    "ExecuteTime": {
     "end_time": "2024-01-09T17:41:57.219140500Z",
     "start_time": "2024-01-09T17:41:56.905464200Z"
    }
   },
   "outputs": [],
   "source": [
    "def manage_desc_exp(string):\n",
    "    #print(string)\n",
    "    pattern = r'опыт[а-яА-ЯёЁ ]+[0-9]+[-лгм ]+[а-яА-ЯеЁ ]+[;<]'\n",
    "    year = 0\n",
    "    for match_raw in re.finditer(pattern, string):\n",
    "        number = ''\n",
    "        match = match_raw.group()\n",
    "        #print(match)\n",
    "        first_numeric_found = False\n",
    "        prev_ch = ' '\n",
    "        for ch in match:\n",
    "            if ch.isnumeric() and (first_numeric_found or prev_ch == ' '):\n",
    "                number += ch\n",
    "                first_numeric_found = True\n",
    "            elif ch == ' ' or ch == ',' or ch == '.':\n",
    "                prev_ch = ch\n",
    "                pass\n",
    "            else:\n",
    "                if first_numeric_found:\n",
    "                    break\n",
    "            prev_ch = ch\n",
    "        try:\n",
    "            cur_year = int(number)\n",
    "        except ValueError:\n",
    "            cur_year = 0\n",
    "        if 'мес' in match:\n",
    "            cur_year /= 12\n",
    "        if cur_year > year and cur_year <= 10:\n",
    "            year = cur_year\n",
    "    return 1 if year == 0 else year"
   ]
  },
  {
   "cell_type": "code",
   "execution_count": 28,
   "id": "1329c4ee-69f0-4b2a-ba8e-890f46024670",
   "metadata": {
    "ExecuteTime": {
     "end_time": "2024-01-09T17:41:57.791075500Z",
     "start_time": "2024-01-09T17:41:57.042144900Z"
    }
   },
   "outputs": [],
   "source": [
    "df['description_exp'] = df.description.map(manage_desc_exp)"
   ]
  },
  {
   "cell_type": "code",
   "execution_count": 29,
   "id": "c9e1dcf2-0693-41cc-b198-e5ffa3133554",
   "metadata": {
    "ExecuteTime": {
     "end_time": "2024-01-09T17:41:57.944071900Z",
     "start_time": "2024-01-09T17:41:57.455442700Z"
    }
   },
   "outputs": [
    {
     "data": {
      "text/plain": [
       "description_exp\n",
       "1.000000    26641\n",
       "3.000000      582\n",
       "2.000000      487\n",
       "5.000000      105\n",
       "0.500000       63\n",
       "            ...  \n",
       "9.000000        2\n",
       "0.166667        1\n",
       "0.333333        1\n",
       "0.416667        1\n",
       "0.666667        1\n",
       "Name: count, Length: 15, dtype: int64"
      ]
     },
     "execution_count": 29,
     "metadata": {},
     "output_type": "execute_result"
    }
   ],
   "source": [
    "df['description_exp'].value_counts()"
   ]
  },
  {
   "cell_type": "markdown",
   "id": "b21b0a05-2781-4c0c-99fe-a72dc9aa317f",
   "metadata": {},
   "source": [
    "Далее, удалим HTML теги у другие ненужные символы"
   ]
  },
  {
   "cell_type": "code",
   "execution_count": 30,
   "id": "6a51e427-cd6f-4802-a69e-beeab3c3594b",
   "metadata": {
    "ExecuteTime": {
     "end_time": "2024-01-09T17:41:59.202776200Z",
     "start_time": "2024-01-09T17:41:57.798082Z"
    }
   },
   "outputs": [],
   "source": [
    "df.description = df.description.apply(lambda x: re.sub(r'<[^>]+>', ' ', str(x))) #</?[A-Za-z0-9]+ ?/?>"
   ]
  },
  {
   "cell_type": "code",
   "execution_count": 31,
   "id": "3d75a0c7-6644-4a36-9ff7-b24c4964af29",
   "metadata": {
    "ExecuteTime": {
     "end_time": "2024-01-09T17:42:04.010784100Z",
     "start_time": "2024-01-09T17:41:59.064781700Z"
    }
   },
   "outputs": [],
   "source": [
    "df.description = df.description.apply(lambda x: re.sub(r'[^а-яА-Я0-9a-zA-ZёЁ.-]', ' ', str(x))) #</?[A-Za-z0-9]+ ?/?>"
   ]
  },
  {
   "cell_type": "markdown",
   "id": "53045091-927a-405c-9fbf-5507437dd379",
   "metadata": {},
   "source": [
    "В некоторых есть упоминание з/п в формате \"<число> руб.\" или \"<число> руб./час\" или \"<число> тыс. руб.\". Попробуем их выцепить. Если таковой нет, сделаем её равной 0. Также сделаем равной 0 зарплаты, которые получились меньше 1000. Такое могло произойти, если извлеченная зарплата была не той по смыслу, или была какая-то другая цена."
   ]
  },
  {
   "cell_type": "code",
   "execution_count": 32,
   "id": "6632c2f9-4ce3-46dd-8521-b80607204073",
   "metadata": {
    "ExecuteTime": {
     "end_time": "2024-01-09T17:42:04.050789500Z",
     "start_time": "2024-01-09T17:42:03.791788900Z"
    }
   },
   "outputs": [],
   "source": [
    "def manage_desc(string):\n",
    "    #print(string)\n",
    "    pattern = r'[0-9][0-9., ]+[0-9 ](тыс)?руб.?\\/?[а-яА-Я ]*([0-9 ]+час)?(час)?(мес)?(день)?'\n",
    "    max_salary = -1\n",
    "    for match_raw in re.finditer(pattern, string):\n",
    "        number = ''\n",
    "        match = match_raw.group()\n",
    "        #print(match)\n",
    "        first_numeric_found = False\n",
    "        for ch in match:\n",
    "            if ch.isnumeric():\n",
    "                number += ch\n",
    "                first_numeric_found = True\n",
    "            elif ch == ' ' or ch == ',' or ch == '.':\n",
    "                pass\n",
    "            else:\n",
    "                if first_numeric_found:\n",
    "                    break\n",
    "        salary = int(number)\n",
    "        if 'сут' in match or 'день' in match:\n",
    "            salary *= 20\n",
    "        elif 'час' in match:\n",
    "            salary *= 160\n",
    "\n",
    "        if 'тыс' in match or 'т.' in match:\n",
    "            salary *= 1000\n",
    "        \n",
    "        if max_salary == -1 or salary > max_salary:\n",
    "            max_salary = salary\n",
    "    \n",
    "    if max_salary < 1000:\n",
    "        return pd.NA\n",
    "    else:\n",
    "        return max_salary\n",
    "\n",
    "#manage_desc(df['description'][23187])"
   ]
  },
  {
   "cell_type": "code",
   "execution_count": 33,
   "id": "0d3139ad-792d-4458-9a29-0461bd3e84a4",
   "metadata": {
    "ExecuteTime": {
     "end_time": "2024-01-09T17:42:04.772985200Z",
     "start_time": "2024-01-09T17:42:03.799817600Z"
    }
   },
   "outputs": [
    {
     "data": {
      "text/plain": [
       "description_salary\n",
       "40000           311\n",
       "50000           288\n",
       "60000           271\n",
       "30000           234\n",
       "100000          221\n",
       "               ... \n",
       "15200             1\n",
       "150000180000      1\n",
       "2170              1\n",
       "155000            1\n",
       "32000000          1\n",
       "Name: count, Length: 438, dtype: int64"
      ]
     },
     "execution_count": 33,
     "metadata": {},
     "output_type": "execute_result"
    }
   ],
   "source": [
    "df['description_salary'] = df.description.map(manage_desc)\n",
    "df['description_salary'].value_counts()"
   ]
  },
  {
   "cell_type": "markdown",
   "id": "fa9cfa4c-c52c-4c63-a792-fda334153a73",
   "metadata": {},
   "source": [
    "Заполним пустые значения значениями из <i>salary_from</i>"
   ]
  },
  {
   "cell_type": "code",
   "execution_count": 34,
   "id": "4869c73f-155f-4564-a15e-b771e04c157a",
   "metadata": {
    "ExecuteTime": {
     "end_time": "2024-01-09T17:42:04.859993Z",
     "start_time": "2024-01-09T17:42:04.567457500Z"
    }
   },
   "outputs": [],
   "source": [
    "df['description_salary'].fillna(df['salary_from'], inplace = True) "
   ]
  },
  {
   "cell_type": "code",
   "execution_count": 35,
   "id": "7b805a28-b021-4efa-b62e-415bfb925ac1",
   "metadata": {
    "ExecuteTime": {
     "end_time": "2024-01-09T17:42:04.908994100Z",
     "start_time": "2024-01-09T17:42:04.588460600Z"
    }
   },
   "outputs": [
    {
     "name": "stdout",
     "output_type": "stream",
     "text": [
      "<class 'pandas.core.frame.DataFrame'>\n",
      "Index: 27934 entries, 29083 to 15795\n",
      "Data columns (total 12 columns):\n",
      " #   Column                    Non-Null Count  Dtype  \n",
      "---  ------                    --------------  -----  \n",
      " 0   name                      27934 non-null  object \n",
      " 1   has_test                  27934 non-null  bool   \n",
      " 2   response_letter_required  27934 non-null  bool   \n",
      " 3   salary_from               27934 non-null  float64\n",
      " 4   salary_gross              27934 non-null  bool   \n",
      " 5   employer_name             27934 non-null  object \n",
      " 6   description               27934 non-null  object \n",
      " 7   area_name                 27934 non-null  object \n",
      " 8   salary_to                 27934 non-null  float64\n",
      " 9   published_at_diff         27934 non-null  float64\n",
      " 10  description_exp           27934 non-null  float64\n",
      " 11  description_salary        27934 non-null  object \n",
      "dtypes: bool(3), float64(4), object(5)\n",
      "memory usage: 3.2+ MB\n"
     ]
    }
   ],
   "source": [
    "df.info()"
   ]
  },
  {
   "cell_type": "code",
   "execution_count": 36,
   "id": "c9bbbc7ae3e3d439",
   "metadata": {
    "ExecuteTime": {
     "end_time": "2024-01-09T17:42:04.925981700Z",
     "start_time": "2024-01-09T17:42:04.654463900Z"
    },
    "collapsed": false,
    "jupyter": {
     "outputs_hidden": false
    }
   },
   "outputs": [],
   "source": [
    "df['description_salary'] = pd.Series(df['description_salary'],dtype='float64')"
   ]
  },
  {
   "cell_type": "markdown",
   "id": "a14785e78bfe1017",
   "metadata": {
    "collapsed": false,
    "jupyter": {
     "outputs_hidden": false
    }
   },
   "source": [
    "Теперь векторизуем информацию из описания"
   ]
  },
  {
   "cell_type": "code",
   "execution_count": 37,
   "id": "eaa4b289-df93-4f07-886e-d8363d2f12d5",
   "metadata": {
    "ExecuteTime": {
     "end_time": "2024-01-09T17:42:11.156159100Z",
     "start_time": "2024-01-09T17:42:04.678455300Z"
    }
   },
   "outputs": [],
   "source": [
    "df['description'] = df['description'].apply(lambda x: re.sub(r'[^а-яА-Я0-9a-zA-ZёЁ]', ' ', str(x))) #</?[A-Za-z0-9]+ ?/?>"
   ]
  },
  {
   "cell_type": "code",
   "execution_count": 38,
   "id": "bb17dce479f5a096",
   "metadata": {
    "ExecuteTime": {
     "end_time": "2024-01-09T17:42:19.334991400Z",
     "start_time": "2024-01-09T17:42:11.084480600Z"
    },
    "collapsed": false,
    "jupyter": {
     "outputs_hidden": false
    }
   },
   "outputs": [],
   "source": [
    "## remove tabulation and punctuation\n",
    "df['description'] = df['description'].map(lambda x: re.sub(r'[^\\w\\s]', ' ', x)) #str.replace(,' '))\n",
    "## digits\n",
    "df['description'] = df['description'].map(lambda x: re.sub(r'\\d+', ' ', x))#.str.replace(, '')"
   ]
  },
  {
   "cell_type": "code",
   "execution_count": 39,
   "id": "46a81817-e3ce-40c9-84ba-3f95b2aa7a05",
   "metadata": {
    "ExecuteTime": {
     "end_time": "2024-01-09T17:42:19.381994900Z",
     "start_time": "2024-01-09T17:42:19.102080200Z"
    }
   },
   "outputs": [],
   "source": [
    "df['description'].fillna('nd', inplace = True)"
   ]
  },
  {
   "cell_type": "code",
   "execution_count": 40,
   "id": "71f520f711e7015d",
   "metadata": {
    "ExecuteTime": {
     "end_time": "2024-01-09T17:42:27.186479400Z",
     "start_time": "2024-01-09T17:42:19.128003800Z"
    },
    "collapsed": false,
    "jupyter": {
     "outputs_hidden": false
    }
   },
   "outputs": [
    {
     "name": "stderr",
     "output_type": "stream",
     "text": [
      "[nltk_data] Downloading package stopwords to\n",
      "[nltk_data]     C:\\Users\\vital\\AppData\\Roaming\\nltk_data...\n",
      "[nltk_data]   Package stopwords is already up-to-date!\n",
      "[nltk_data] Downloading package wordnet to\n",
      "[nltk_data]     C:\\Users\\vital\\AppData\\Roaming\\nltk_data...\n",
      "[nltk_data]   Package wordnet is already up-to-date!\n"
     ]
    },
    {
     "data": {
      "text/plain": [
       "True"
      ]
     },
     "execution_count": 40,
     "metadata": {},
     "output_type": "execute_result"
    }
   ],
   "source": [
    "import nltk\n",
    "nltk.download('stopwords')\n",
    "nltk.download('wordnet')"
   ]
  },
  {
   "cell_type": "code",
   "execution_count": 41,
   "id": "81ccaee20c562393",
   "metadata": {
    "ExecuteTime": {
     "end_time": "2024-01-09T17:43:25.395653300Z",
     "start_time": "2024-01-09T17:42:27.177492900Z"
    },
    "collapsed": false,
    "jupyter": {
     "outputs_hidden": false
    }
   },
   "outputs": [],
   "source": [
    "from textblob import Word\n",
    "## lemmatization\n",
    "df['description'] = df['description'].apply(lambda x: \" \".join([Word(word).lemmatize() for word in x.split()]))"
   ]
  },
  {
   "cell_type": "code",
   "execution_count": 42,
   "id": "31f20e8bab13cba0",
   "metadata": {
    "ExecuteTime": {
     "end_time": "2024-01-09T17:43:25.564072200Z",
     "start_time": "2024-01-09T17:43:25.400656200Z"
    },
    "collapsed": false,
    "jupyter": {
     "outputs_hidden": false
    }
   },
   "outputs": [],
   "source": [
    "from stop_words import get_stop_words\n",
    "\n",
    "stop_words = get_stop_words('russian')\n",
    "stop_words1 = get_stop_words('english')"
   ]
  },
  {
   "cell_type": "code",
   "execution_count": 43,
   "id": "d659459a-a042-49b4-ae6f-92218e16b15f",
   "metadata": {
    "ExecuteTime": {
     "end_time": "2024-01-09T17:43:25.620056900Z",
     "start_time": "2024-01-09T17:43:25.469984100Z"
    }
   },
   "outputs": [],
   "source": [
    "from sklearn.feature_extraction.text import TfidfVectorizer\n"
   ]
  },
  {
   "cell_type": "code",
   "execution_count": 44,
   "id": "cc9093f9-1959-4a48-93b2-77fdc870edc5",
   "metadata": {
    "ExecuteTime": {
     "end_time": "2024-01-09T17:43:25.803059Z",
     "start_time": "2024-01-09T17:43:25.479987Z"
    }
   },
   "outputs": [],
   "source": [
    "vectorizer = TfidfVectorizer(input='content', encoding='utf-8', \n",
    "                             decode_error='strict', strip_accents=None, lowercase=True,\n",
    "                             preprocessor=None, tokenizer=lambda x: x.split(), analyzer='word',\n",
    "                             stop_words=stop_words+stop_words1, min_df=6, dtype=np.float32, max_features=512,\n",
    "                             token_pattern=r'(?u)\\b\\w\\w\\w\\w+\\b')"
   ]
  },
  {
   "cell_type": "code",
   "execution_count": 45,
   "id": "53999860-8440-40a2-a794-8d554ade3325",
   "metadata": {
    "ExecuteTime": {
     "end_time": "2024-01-09T17:43:31.483756800Z",
     "start_time": "2024-01-09T17:43:25.536083600Z"
    }
   },
   "outputs": [],
   "source": [
    "df_desc_parsed = vectorizer.fit_transform(df['description'])"
   ]
  },
  {
   "cell_type": "code",
   "execution_count": 46,
   "id": "926fcadf-6eca-46be-a66d-0545472993e3",
   "metadata": {
    "ExecuteTime": {
     "end_time": "2024-01-09T17:43:31.552158100Z",
     "start_time": "2024-01-09T17:43:31.485754Z"
    }
   },
   "outputs": [
    {
     "data": {
      "text/plain": [
       "<27934x512 sparse matrix of type '<class 'numpy.float32'>'\n",
       "\twith 1203648 stored elements in Compressed Sparse Row format>"
      ]
     },
     "execution_count": 46,
     "metadata": {},
     "output_type": "execute_result"
    }
   ],
   "source": [
    "df_desc_parsed"
   ]
  },
  {
   "cell_type": "code",
   "execution_count": 47,
   "id": "a9d0176c-2333-4e1b-afc0-c4a1679cf4f2",
   "metadata": {
    "ExecuteTime": {
     "end_time": "2024-01-09T17:43:31.920634800Z",
     "start_time": "2024-01-09T17:43:31.502171700Z"
    }
   },
   "outputs": [],
   "source": [
    "df = df.drop(columns=['description'])"
   ]
  },
  {
   "cell_type": "markdown",
   "id": "cc9e767d-10b5-46c7-a450-3bab310ab452",
   "metadata": {},
   "source": [
    "<H2>employer_name</H2>"
   ]
  },
  {
   "cell_type": "markdown",
   "id": "6d57a45d-df1f-429a-8946-c0455934d72e",
   "metadata": {},
   "source": [
    "Далее посмотрим на employer_name"
   ]
  },
  {
   "cell_type": "code",
   "execution_count": 48,
   "id": "491ec47a-8091-4b18-87c6-f6fcda7a06cb",
   "metadata": {
    "ExecuteTime": {
     "end_time": "2024-01-09T17:43:31.968185100Z",
     "start_time": "2024-01-09T17:43:31.674895100Z"
    }
   },
   "outputs": [
    {
     "data": {
      "text/plain": [
       "employer_name\n",
       "Пятёрочка                    927\n",
       "Пятерочка                    669\n",
       "Перекресток                  324\n",
       "Билайн                       261\n",
       "JCat.ru                       70\n",
       "                            ... \n",
       "Торговая группа ПТК            1\n",
       "LTG Consulting                 1\n",
       "ExMail                         1\n",
       "Албаков Руслан Борисович       1\n",
       "Балтик Граунд Сервисес РУ      1\n",
       "Name: count, Length: 13318, dtype: int64"
      ]
     },
     "execution_count": 48,
     "metadata": {},
     "output_type": "execute_result"
    }
   ],
   "source": [
    "df['employer_name'].value_counts()"
   ]
  },
  {
   "cell_type": "markdown",
   "id": "984c2c33-9d26-49db-b8f6-81a71aa4b2ce",
   "metadata": {},
   "source": [
    "Во первых, можно увидеть два разных написания \"Пятерочка\", возможно есть другие названия, которые отличаются в одном символе. Посмотрим на верхние 3 значения."
   ]
  },
  {
   "cell_type": "code",
   "execution_count": 49,
   "id": "fa69271e-3917-4d12-9bf7-1c1a055716b1",
   "metadata": {
    "ExecuteTime": {
     "end_time": "2024-01-09T17:43:32.368181400Z",
     "start_time": "2024-01-09T17:43:31.702894200Z"
    }
   },
   "outputs": [],
   "source": [
    "import builtins\n",
    "\n",
    "\n",
    "def near_equal(string, pattern):\n",
    "    string1 = string.strip()\n",
    "    string2 = pattern.strip()\n",
    "    max_len = max(len(string1), len(string2))\n",
    "    min_len = builtins.min(len(string1), len(string2))\n",
    "    score = 0\n",
    "    for i in range(0, min_len):\n",
    "        if (string1[i] == string2[i]):\n",
    "            score += 1\n",
    "\n",
    "    return score / max_len"
   ]
  },
  {
   "cell_type": "code",
   "execution_count": 50,
   "id": "f6651e17-b77b-480b-9135-b01f832cba93",
   "metadata": {
    "ExecuteTime": {
     "end_time": "2024-01-09T17:43:32.469186200Z",
     "start_time": "2024-01-09T17:43:31.735835200Z"
    }
   },
   "outputs": [],
   "source": [
    "df['employer_name'] = df['employer_name'].apply(lambda x: x.lower())\n",
    "df['employer_name'] = df['employer_name'].apply(lambda x: x.strip())"
   ]
  },
  {
   "cell_type": "code",
   "execution_count": 51,
   "id": "26b2748a-f5d6-4358-8239-8108bb9d0687",
   "metadata": {
    "ExecuteTime": {
     "end_time": "2024-01-09T17:43:32.538410Z",
     "start_time": "2024-01-09T17:43:31.820763600Z"
    }
   },
   "outputs": [
    {
     "data": {
      "text/plain": [
       "employer_name\n",
       "пятёрочка                    927\n",
       "пятерочка                    669\n",
       "перекресток                  324\n",
       "билайн                       261\n",
       "jcat.ru                       70\n",
       "                            ... \n",
       "торговая группа птк            1\n",
       "ltg consulting                 1\n",
       "exmail                         1\n",
       "албаков руслан борисович       1\n",
       "балтик граунд сервисес ру      1\n",
       "Name: count, Length: 13236, dtype: int64"
      ]
     },
     "execution_count": 51,
     "metadata": {},
     "output_type": "execute_result"
    }
   ],
   "source": [
    "df['employer_name'].value_counts()"
   ]
  },
  {
   "cell_type": "code",
   "execution_count": 52,
   "id": "f6506185-35bf-4efb-9ef6-77fcc4a7f9f8",
   "metadata": {
    "ExecuteTime": {
     "end_time": "2024-01-09T17:43:32.960136700Z",
     "start_time": "2024-01-09T17:43:31.876638Z"
    }
   },
   "outputs": [],
   "source": [
    "df.employer_name = df.employer_name.apply(lambda x: \"пятёрочка\" if near_equal(x, 'пятёрочка') > 0.75 else x)\n",
    "df.employer_name = df.employer_name.apply(lambda x: \"перекресток\" if near_equal(x, 'перекресток') > 0.75 else x)\n",
    "df.employer_name = df.employer_name.apply(lambda x: \"билайн\" if near_equal(x, 'билайн') > 0.75 else x)"
   ]
  },
  {
   "cell_type": "code",
   "execution_count": 53,
   "id": "e428951b-adc0-4e2a-998c-0fc41a86327e",
   "metadata": {
    "ExecuteTime": {
     "end_time": "2024-01-09T17:43:33.148768900Z",
     "start_time": "2024-01-09T17:43:32.459183900Z"
    }
   },
   "outputs": [
    {
     "data": {
      "text/plain": [
       "employer_name\n",
       "пятёрочка                    1596\n",
       "перекресток                   324\n",
       "билайн                        262\n",
       "jcat.ru                        70\n",
       "skyeng                         63\n",
       "                             ... \n",
       "dgl group                       1\n",
       "компания нк-сити                1\n",
       "скриптогенератор                1\n",
       "бандура дарья алексеевна        1\n",
       "балтик граунд сервисес ру       1\n",
       "Name: count, Length: 13234, dtype: int64"
      ]
     },
     "execution_count": 53,
     "metadata": {},
     "output_type": "execute_result"
    }
   ],
   "source": [
    "df['employer_name'].value_counts()"
   ]
  },
  {
   "cell_type": "markdown",
   "id": "b525f62f-30f0-43d9-81a0-ff820e05d47d",
   "metadata": {},
   "source": [
    "В списке <i>employer_name</i> есть ИП, написанные как ФИО. Заменим их всех на категорию \"personname\""
   ]
  },
  {
   "cell_type": "code",
   "execution_count": 54,
   "id": "af9cfb91-4726-486e-a6a0-f2e5a4964b46",
   "metadata": {
    "ExecuteTime": {
     "end_time": "2024-01-09T17:43:33.261788400Z",
     "start_time": "2024-01-09T17:43:32.520412Z"
    }
   },
   "outputs": [
    {
     "data": {
      "text/plain": [
       "employer_name\n",
       "personname                        1662\n",
       "пятёрочка                         1596\n",
       "перекресток                        324\n",
       "билайн                             262\n",
       "jcat.ru                             70\n",
       "                                  ... \n",
       "шеф remont                           1\n",
       "патронаж-сити                        1\n",
       "агрегатор страхования блайсико       1\n",
       "пластполимер-т                       1\n",
       "балтик граунд сервисес ру            1\n",
       "Name: count, Length: 12055, dtype: int64"
      ]
     },
     "execution_count": 54,
     "metadata": {},
     "output_type": "execute_result"
    }
   ],
   "source": [
    "df['employer_name'] = df['employer_name'].apply(lambda x: \"personname\" if x.endswith('вич') or x.endswith('вна') or x.endswith('вич)') or x.endswith('вна)') else x) #or x.startswith('ип') or '(ип ' in x)\n",
    "df['employer_name'].value_counts()"
   ]
  },
  {
   "cell_type": "markdown",
   "id": "2f0dc4bf374ab7ee",
   "metadata": {
    "collapsed": false,
    "jupyter": {
     "outputs_hidden": false
    }
   },
   "source": [
    "Векторизириуем имена"
   ]
  },
  {
   "cell_type": "code",
   "execution_count": 55,
   "id": "37929a3b-6d95-4a3a-a39c-eda43931990c",
   "metadata": {
    "ExecuteTime": {
     "end_time": "2024-01-09T17:43:33.283783200Z",
     "start_time": "2024-01-09T17:43:32.614280200Z"
    }
   },
   "outputs": [],
   "source": [
    "vectorizer_empl = TfidfVectorizer(input='content', encoding='utf-8', \n",
    "                             decode_error='strict', strip_accents=None, lowercase=True,\n",
    "                             preprocessor=None, tokenizer=lambda x: x.split(), analyzer='word',\n",
    "                             stop_words=stop_words+stop_words1, min_df=6, dtype=np.float32, max_features=50,\n",
    "                             token_pattern=r'(?u)\\b\\w\\w\\w\\w+\\b')"
   ]
  },
  {
   "cell_type": "code",
   "execution_count": 56,
   "id": "042ce643-42cc-4070-974a-24fb156858b1",
   "metadata": {
    "ExecuteTime": {
     "end_time": "2024-01-09T17:43:33.338783Z",
     "start_time": "2024-01-09T17:43:32.624290600Z"
    }
   },
   "outputs": [],
   "source": [
    "df_empl_parsed = vectorizer_empl.fit_transform(df['employer_name'])"
   ]
  },
  {
   "cell_type": "code",
   "execution_count": 57,
   "id": "59f5ac35-97c7-41ee-b38d-43c0b78a676f",
   "metadata": {
    "ExecuteTime": {
     "end_time": "2024-01-09T17:43:33.412784500Z",
     "start_time": "2024-01-09T17:43:32.953481800Z"
    }
   },
   "outputs": [],
   "source": [
    "df = df.drop(columns=['employer_name'])"
   ]
  },
  {
   "cell_type": "markdown",
   "id": "b8666cf0-08ed-4668-9c6e-a5f26d67d7ed",
   "metadata": {},
   "source": [
    "<H2>name</H2>"
   ]
  },
  {
   "cell_type": "markdown",
   "id": "b1f1fa9a-ae75-48dd-a1ae-c72da73b9102",
   "metadata": {},
   "source": [
    "Теперь рассмотрим последний столбец: <i>name</i>"
   ]
  },
  {
   "cell_type": "code",
   "execution_count": 58,
   "id": "7b6381c6-97bc-4758-83e5-39e418e15154",
   "metadata": {
    "ExecuteTime": {
     "end_time": "2024-01-09T17:43:33.687956Z",
     "start_time": "2024-01-09T17:43:32.972144800Z"
    }
   },
   "outputs": [
    {
     "data": {
      "text/plain": [
       "name\n",
       "Менеджер по продажам                                   337\n",
       "Менеджер по работе с клиентами                         201\n",
       "Юрист                                                  162\n",
       "Помощник юриста                                        149\n",
       "Аналитик                                               145\n",
       "                                                      ... \n",
       "Бизнес-аналитик(Внедренец/ Ведущий бизнес-аналитик)      1\n",
       "Руководитель департамента коммерческой недвижимости      1\n",
       "Логист- оператор / Грузчик (ТРК Европолис)               1\n",
       "User Acquisition Manager                                 1\n",
       "Копирайтер / контент менеджер                            1\n",
       "Name: count, Length: 16395, dtype: int64"
      ]
     },
     "execution_count": 58,
     "metadata": {},
     "output_type": "execute_result"
    }
   ],
   "source": [
    "df['name'].value_counts()"
   ]
  },
  {
   "cell_type": "markdown",
   "id": "4fd2153a-8812-4fdd-9f8a-96768fa39b0d",
   "metadata": {},
   "source": [
    "Сначала преобразуем всё к нижнему регистру:"
   ]
  },
  {
   "cell_type": "code",
   "execution_count": 59,
   "id": "c7743794-e2d2-4a94-ae8d-9accdc97e51f",
   "metadata": {
    "ExecuteTime": {
     "end_time": "2024-01-09T17:43:33.925432400Z",
     "start_time": "2024-01-09T17:43:33.058770900Z"
    }
   },
   "outputs": [
    {
     "data": {
      "text/plain": [
       "name\n",
       "менеджер по продажам                                   340\n",
       "менеджер по работе с клиентами                         202\n",
       "юрист                                                  162\n",
       "уборщица/уборщик                                       150\n",
       "помощник юриста                                        149\n",
       "                                                      ... \n",
       "руководитель департамента коммерческой недвижимости      1\n",
       "логист- оператор / грузчик (трк европолис)               1\n",
       "user acquisition manager                                 1\n",
       "конструктор - технолог корпусной мебели                  1\n",
       "копирайтер / контент менеджер                            1\n",
       "Name: count, Length: 16089, dtype: int64"
      ]
     },
     "execution_count": 59,
     "metadata": {},
     "output_type": "execute_result"
    }
   ],
   "source": [
    "df['name'] = df['name'].apply(lambda x: x.lower())\n",
    "df['name'] = df['name'].apply(lambda x: x.strip())\n",
    "df['name'].value_counts()"
   ]
  },
  {
   "cell_type": "markdown",
   "id": "113f8c5a117d3b10",
   "metadata": {
    "collapsed": false,
    "jupyter": {
     "outputs_hidden": false
    }
   },
   "source": [
    "Потом векторизуем"
   ]
  },
  {
   "cell_type": "code",
   "execution_count": 60,
   "id": "b32151ad-ca6f-4540-a396-61435d0638bf",
   "metadata": {
    "ExecuteTime": {
     "end_time": "2024-01-09T17:43:33.977259100Z",
     "start_time": "2024-01-09T17:43:33.186791100Z"
    }
   },
   "outputs": [],
   "source": [
    "vectorizer_name = TfidfVectorizer(input='content', encoding='utf-8', \n",
    "                             decode_error='strict', strip_accents=None, lowercase=True,\n",
    "                             preprocessor=None, tokenizer=lambda x: x.split(), analyzer='word',\n",
    "                             stop_words=stop_words+stop_words1, min_df=6, dtype=np.float32, max_features=50,\n",
    "                             token_pattern=r'(?u)\\b\\w\\w\\w\\w+\\b')"
   ]
  },
  {
   "cell_type": "code",
   "execution_count": 61,
   "id": "433dd95d-28d5-4cc2-8043-9fa658627a8a",
   "metadata": {
    "ExecuteTime": {
     "end_time": "2024-01-09T17:43:34.167875400Z",
     "start_time": "2024-01-09T17:43:33.192779100Z"
    }
   },
   "outputs": [],
   "source": [
    "df_name_parsed = vectorizer_name.fit_transform(df['name'])"
   ]
  },
  {
   "cell_type": "code",
   "execution_count": 62,
   "id": "25435c3e-3c59-405e-8d0e-f8f5a80d2d97",
   "metadata": {
    "ExecuteTime": {
     "end_time": "2024-01-09T17:43:34.181879900Z",
     "start_time": "2024-01-09T17:43:33.645782600Z"
    }
   },
   "outputs": [],
   "source": [
    "df = df.drop(columns=['name'])"
   ]
  },
  {
   "cell_type": "markdown",
   "id": "65a31733-0bed-45d1-9e2a-375791fa1e13",
   "metadata": {},
   "source": [
    "<H1>One-Hotting</H1>"
   ]
  },
  {
   "cell_type": "code",
   "execution_count": 63,
   "id": "77aeddd1-ff08-4849-8c80-b8f19c5158fe",
   "metadata": {
    "ExecuteTime": {
     "end_time": "2024-01-09T17:43:34.764195100Z",
     "start_time": "2024-01-09T17:43:33.663958900Z"
    }
   },
   "outputs": [
    {
     "name": "stdout",
     "output_type": "stream",
     "text": [
      "<class 'pandas.core.frame.DataFrame'>\n",
      "Index: 27934 entries, 29083 to 15795\n",
      "Data columns (total 9 columns):\n",
      " #   Column                    Non-Null Count  Dtype  \n",
      "---  ------                    --------------  -----  \n",
      " 0   has_test                  27934 non-null  bool   \n",
      " 1   response_letter_required  27934 non-null  bool   \n",
      " 2   salary_from               27934 non-null  float64\n",
      " 3   salary_gross              27934 non-null  bool   \n",
      " 4   area_name                 27934 non-null  object \n",
      " 5   salary_to                 27934 non-null  float64\n",
      " 6   published_at_diff         27934 non-null  float64\n",
      " 7   description_exp           27934 non-null  float64\n",
      " 8   description_salary        27934 non-null  float64\n",
      "dtypes: bool(3), float64(5), object(1)\n",
      "memory usage: 2.6+ MB\n"
     ]
    }
   ],
   "source": [
    "df.info()"
   ]
  },
  {
   "cell_type": "markdown",
   "id": "e99f5238-794b-4a60-a846-f978742f9fb5",
   "metadata": {},
   "source": [
    "Сделаем one-hotting для городов"
   ]
  },
  {
   "cell_type": "code",
   "execution_count": 64,
   "id": "de709b48-cea9-4b61-b3dd-0815eadb5757",
   "metadata": {
    "ExecuteTime": {
     "end_time": "2024-01-09T17:43:34.821851400Z",
     "start_time": "2024-01-09T17:43:33.735956200Z"
    }
   },
   "outputs": [
    {
     "data": {
      "text/html": [
       "<div>\n",
       "<style scoped>\n",
       "    .dataframe tbody tr th:only-of-type {\n",
       "        vertical-align: middle;\n",
       "    }\n",
       "\n",
       "    .dataframe tbody tr th {\n",
       "        vertical-align: top;\n",
       "    }\n",
       "\n",
       "    .dataframe thead th {\n",
       "        text-align: right;\n",
       "    }\n",
       "</style>\n",
       "<table border=\"1\" class=\"dataframe\">\n",
       "  <thead>\n",
       "    <tr style=\"text-align: right;\">\n",
       "      <th></th>\n",
       "      <th>area_name_Other</th>\n",
       "      <th>area_name_Екатеринбург</th>\n",
       "      <th>area_name_Казань</th>\n",
       "      <th>area_name_Краснодар</th>\n",
       "      <th>area_name_Москва</th>\n",
       "      <th>area_name_Новосибирск</th>\n",
       "      <th>area_name_Санкт-Петербург</th>\n",
       "      <th>has_test</th>\n",
       "      <th>response_letter_required</th>\n",
       "      <th>salary_from</th>\n",
       "      <th>salary_gross</th>\n",
       "      <th>area_name</th>\n",
       "      <th>salary_to</th>\n",
       "      <th>published_at_diff</th>\n",
       "      <th>description_exp</th>\n",
       "      <th>description_salary</th>\n",
       "    </tr>\n",
       "    <tr>\n",
       "      <th>id</th>\n",
       "      <th></th>\n",
       "      <th></th>\n",
       "      <th></th>\n",
       "      <th></th>\n",
       "      <th></th>\n",
       "      <th></th>\n",
       "      <th></th>\n",
       "      <th></th>\n",
       "      <th></th>\n",
       "      <th></th>\n",
       "      <th></th>\n",
       "      <th></th>\n",
       "      <th></th>\n",
       "      <th></th>\n",
       "      <th></th>\n",
       "      <th></th>\n",
       "    </tr>\n",
       "  </thead>\n",
       "  <tbody>\n",
       "    <tr>\n",
       "      <th>29083</th>\n",
       "      <td>False</td>\n",
       "      <td>False</td>\n",
       "      <td>False</td>\n",
       "      <td>False</td>\n",
       "      <td>True</td>\n",
       "      <td>False</td>\n",
       "      <td>False</td>\n",
       "      <td>False</td>\n",
       "      <td>False</td>\n",
       "      <td>40000.0</td>\n",
       "      <td>False</td>\n",
       "      <td>Москва</td>\n",
       "      <td>200000.0</td>\n",
       "      <td>8.021610</td>\n",
       "      <td>1.0</td>\n",
       "      <td>40000.0</td>\n",
       "    </tr>\n",
       "    <tr>\n",
       "      <th>26052</th>\n",
       "      <td>False</td>\n",
       "      <td>False</td>\n",
       "      <td>False</td>\n",
       "      <td>False</td>\n",
       "      <td>True</td>\n",
       "      <td>False</td>\n",
       "      <td>False</td>\n",
       "      <td>False</td>\n",
       "      <td>False</td>\n",
       "      <td>120000.0</td>\n",
       "      <td>False</td>\n",
       "      <td>Москва</td>\n",
       "      <td>170000.0</td>\n",
       "      <td>7.709255</td>\n",
       "      <td>1.0</td>\n",
       "      <td>120000.0</td>\n",
       "    </tr>\n",
       "    <tr>\n",
       "      <th>24055</th>\n",
       "      <td>False</td>\n",
       "      <td>False</td>\n",
       "      <td>False</td>\n",
       "      <td>False</td>\n",
       "      <td>True</td>\n",
       "      <td>False</td>\n",
       "      <td>False</td>\n",
       "      <td>False</td>\n",
       "      <td>False</td>\n",
       "      <td>40000.0</td>\n",
       "      <td>False</td>\n",
       "      <td>Москва</td>\n",
       "      <td>120000.0</td>\n",
       "      <td>8.582645</td>\n",
       "      <td>2.0</td>\n",
       "      <td>40000.0</td>\n",
       "    </tr>\n",
       "    <tr>\n",
       "      <th>4408</th>\n",
       "      <td>False</td>\n",
       "      <td>False</td>\n",
       "      <td>False</td>\n",
       "      <td>False</td>\n",
       "      <td>True</td>\n",
       "      <td>False</td>\n",
       "      <td>False</td>\n",
       "      <td>False</td>\n",
       "      <td>False</td>\n",
       "      <td>33500.0</td>\n",
       "      <td>True</td>\n",
       "      <td>Москва</td>\n",
       "      <td>38000.0</td>\n",
       "      <td>7.427419</td>\n",
       "      <td>1.0</td>\n",
       "      <td>33500.0</td>\n",
       "    </tr>\n",
       "    <tr>\n",
       "      <th>16856</th>\n",
       "      <td>False</td>\n",
       "      <td>False</td>\n",
       "      <td>False</td>\n",
       "      <td>False</td>\n",
       "      <td>True</td>\n",
       "      <td>False</td>\n",
       "      <td>False</td>\n",
       "      <td>False</td>\n",
       "      <td>True</td>\n",
       "      <td>30000.0</td>\n",
       "      <td>True</td>\n",
       "      <td>Москва</td>\n",
       "      <td>35000.0</td>\n",
       "      <td>4.053419</td>\n",
       "      <td>1.0</td>\n",
       "      <td>30000.0</td>\n",
       "    </tr>\n",
       "  </tbody>\n",
       "</table>\n",
       "</div>"
      ],
      "text/plain": [
       "       area_name_Other  area_name_Екатеринбург  area_name_Казань  \\\n",
       "id                                                                 \n",
       "29083            False                   False             False   \n",
       "26052            False                   False             False   \n",
       "24055            False                   False             False   \n",
       "4408             False                   False             False   \n",
       "16856            False                   False             False   \n",
       "\n",
       "       area_name_Краснодар  area_name_Москва  area_name_Новосибирск  \\\n",
       "id                                                                    \n",
       "29083                False              True                  False   \n",
       "26052                False              True                  False   \n",
       "24055                False              True                  False   \n",
       "4408                 False              True                  False   \n",
       "16856                False              True                  False   \n",
       "\n",
       "       area_name_Санкт-Петербург  has_test  response_letter_required  \\\n",
       "id                                                                     \n",
       "29083                      False     False                     False   \n",
       "26052                      False     False                     False   \n",
       "24055                      False     False                     False   \n",
       "4408                       False     False                     False   \n",
       "16856                      False     False                      True   \n",
       "\n",
       "       salary_from  salary_gross area_name  salary_to  published_at_diff  \\\n",
       "id                                                                         \n",
       "29083      40000.0         False    Москва   200000.0           8.021610   \n",
       "26052     120000.0         False    Москва   170000.0           7.709255   \n",
       "24055      40000.0         False    Москва   120000.0           8.582645   \n",
       "4408       33500.0          True    Москва    38000.0           7.427419   \n",
       "16856      30000.0          True    Москва    35000.0           4.053419   \n",
       "\n",
       "       description_exp  description_salary  \n",
       "id                                          \n",
       "29083              1.0             40000.0  \n",
       "26052              1.0            120000.0  \n",
       "24055              2.0             40000.0  \n",
       "4408               1.0             33500.0  \n",
       "16856              1.0             30000.0  "
      ]
     },
     "execution_count": 64,
     "metadata": {},
     "output_type": "execute_result"
    }
   ],
   "source": [
    "df_one_hoted = df.copy()\n",
    "\n",
    "#ONE_HOT_COL = ['published_at_diff']\n",
    "ONE_HOT_COL = ['area_name'] #'name', 'employer_name', 'published_at_diff'\n",
    "\n",
    "temp = pd.get_dummies(df_one_hoted[ONE_HOT_COL], prefix=ONE_HOT_COL, dtype=bool)\n",
    "\n",
    "df_one_hoted = pd.concat([temp, df], axis=1)\n",
    "\n",
    "df_one_hoted.head()"
   ]
  },
  {
   "cell_type": "markdown",
   "id": "72b412b4-3e2c-4f90-b090-f577ce526e81",
   "metadata": {},
   "source": [
    "Удалим столбцы:"
   ]
  },
  {
   "cell_type": "code",
   "execution_count": 65,
   "id": "c5ae898b-116b-4f9b-8527-4770431da98b",
   "metadata": {
    "ExecuteTime": {
     "end_time": "2024-01-09T17:43:34.855851Z",
     "start_time": "2024-01-09T17:43:33.837523800Z"
    }
   },
   "outputs": [],
   "source": [
    "df_one_hoted = df_one_hoted.drop(columns=['area_name'])#, 'name', 'employer_name', 'published_at_diff' ])\n",
    "#df_one_hoted = df_one_hoted.drop(columns=['published_at_diff'])"
   ]
  },
  {
   "cell_type": "code",
   "execution_count": 66,
   "id": "2c7b89ac-fb46-44df-b62f-b3a85fd3250f",
   "metadata": {
    "ExecuteTime": {
     "end_time": "2024-01-09T17:43:34.874854100Z",
     "start_time": "2024-01-09T17:43:33.866368100Z"
    }
   },
   "outputs": [
    {
     "name": "stdout",
     "output_type": "stream",
     "text": [
      "<class 'pandas.core.frame.DataFrame'>\n",
      "Index: 27934 entries, 29083 to 15795\n",
      "Data columns (total 15 columns):\n",
      " #   Column                     Non-Null Count  Dtype  \n",
      "---  ------                     --------------  -----  \n",
      " 0   area_name_Other            27934 non-null  bool   \n",
      " 1   area_name_Екатеринбург     27934 non-null  bool   \n",
      " 2   area_name_Казань           27934 non-null  bool   \n",
      " 3   area_name_Краснодар        27934 non-null  bool   \n",
      " 4   area_name_Москва           27934 non-null  bool   \n",
      " 5   area_name_Новосибирск      27934 non-null  bool   \n",
      " 6   area_name_Санкт-Петербург  27934 non-null  bool   \n",
      " 7   has_test                   27934 non-null  bool   \n",
      " 8   response_letter_required   27934 non-null  bool   \n",
      " 9   salary_from                27934 non-null  float64\n",
      " 10  salary_gross               27934 non-null  bool   \n",
      " 11  salary_to                  27934 non-null  float64\n",
      " 12  published_at_diff          27934 non-null  float64\n",
      " 13  description_exp            27934 non-null  float64\n",
      " 14  description_salary         27934 non-null  float64\n",
      "dtypes: bool(10), float64(5)\n",
      "memory usage: 2.6 MB\n"
     ]
    }
   ],
   "source": [
    "df_one_hoted.info()"
   ]
  },
  {
   "cell_type": "code",
   "execution_count": 67,
   "id": "a2120e04-9997-4a86-90af-086d83dfc2a3",
   "metadata": {
    "ExecuteTime": {
     "end_time": "2024-01-09T17:43:34.995865Z",
     "start_time": "2024-01-09T17:43:33.920434300Z"
    }
   },
   "outputs": [],
   "source": [
    "df = df_one_hoted"
   ]
  },
  {
   "cell_type": "markdown",
   "id": "d988bea0-d3cf-4a8b-9c42-b1aa82ee6ffa",
   "metadata": {},
   "source": [
    "<H1>Корреляция</H1>"
   ]
  },
  {
   "cell_type": "code",
   "execution_count": 68,
   "id": "0602e1f2-46f2-4484-a1b4-f7b41247e788",
   "metadata": {
    "ExecuteTime": {
     "end_time": "2024-01-09T17:43:35.085852300Z",
     "start_time": "2024-01-09T17:43:33.960263900Z"
    }
   },
   "outputs": [
    {
     "data": {
      "text/html": [
       "<style type=\"text/css\">\n",
       "#T_3ee0d_row0_col0, #T_3ee0d_row1_col1, #T_3ee0d_row2_col2, #T_3ee0d_row3_col3, #T_3ee0d_row4_col4, #T_3ee0d_row5_col5, #T_3ee0d_row6_col6, #T_3ee0d_row7_col7, #T_3ee0d_row8_col8, #T_3ee0d_row9_col9, #T_3ee0d_row10_col10, #T_3ee0d_row11_col11, #T_3ee0d_row12_col12, #T_3ee0d_row13_col13, #T_3ee0d_row14_col14 {\n",
       "  background-color: #b40426;\n",
       "  color: #f1f1f1;\n",
       "}\n",
       "#T_3ee0d_row0_col1, #T_3ee0d_row0_col2, #T_3ee0d_row8_col7 {\n",
       "  background-color: #5875e1;\n",
       "  color: #f1f1f1;\n",
       "}\n",
       "#T_3ee0d_row0_col3, #T_3ee0d_row1_col2, #T_3ee0d_row3_col2, #T_3ee0d_row5_col2, #T_3ee0d_row12_col0 {\n",
       "  background-color: #5a78e4;\n",
       "  color: #f1f1f1;\n",
       "}\n",
       "#T_3ee0d_row0_col4, #T_3ee0d_row5_col11 {\n",
       "  background-color: #8badfd;\n",
       "  color: #000000;\n",
       "}\n",
       "#T_3ee0d_row0_col5, #T_3ee0d_row2_col1, #T_3ee0d_row3_col1, #T_3ee0d_row5_col1, #T_3ee0d_row7_col8, #T_3ee0d_row8_col1, #T_3ee0d_row10_col3 {\n",
       "  background-color: #5b7ae5;\n",
       "  color: #f1f1f1;\n",
       "}\n",
       "#T_3ee0d_row0_col6 {\n",
       "  background-color: #bcd2f7;\n",
       "  color: #000000;\n",
       "}\n",
       "#T_3ee0d_row0_col7, #T_3ee0d_row1_col7, #T_3ee0d_row12_col1, #T_3ee0d_row13_col7, #T_3ee0d_row13_col8 {\n",
       "  background-color: #455cce;\n",
       "  color: #f1f1f1;\n",
       "}\n",
       "#T_3ee0d_row0_col8, #T_3ee0d_row3_col7, #T_3ee0d_row5_col7, #T_3ee0d_row6_col13, #T_3ee0d_row8_col10, #T_3ee0d_row11_col12 {\n",
       "  background-color: #485fd1;\n",
       "  color: #f1f1f1;\n",
       "}\n",
       "#T_3ee0d_row0_col9, #T_3ee0d_row4_col11, #T_3ee0d_row5_col0, #T_3ee0d_row7_col9, #T_3ee0d_row14_col12 {\n",
       "  background-color: #8fb1fe;\n",
       "  color: #000000;\n",
       "}\n",
       "#T_3ee0d_row0_col10 {\n",
       "  background-color: #4b64d5;\n",
       "  color: #f1f1f1;\n",
       "}\n",
       "#T_3ee0d_row0_col11, #T_3ee0d_row7_col11 {\n",
       "  background-color: #85a8fc;\n",
       "  color: #f1f1f1;\n",
       "}\n",
       "#T_3ee0d_row0_col12, #T_3ee0d_row6_col3, #T_3ee0d_row7_col13 {\n",
       "  background-color: #5470de;\n",
       "  color: #f1f1f1;\n",
       "}\n",
       "#T_3ee0d_row0_col13, #T_3ee0d_row1_col13, #T_3ee0d_row3_col10, #T_3ee0d_row13_col10, #T_3ee0d_row14_col13 {\n",
       "  background-color: #4f69d9;\n",
       "  color: #f1f1f1;\n",
       "}\n",
       "#T_3ee0d_row0_col14, #T_3ee0d_row1_col14, #T_3ee0d_row2_col14, #T_3ee0d_row3_col14, #T_3ee0d_row4_col0, #T_3ee0d_row4_col1, #T_3ee0d_row4_col2, #T_3ee0d_row4_col3, #T_3ee0d_row4_col5, #T_3ee0d_row4_col6, #T_3ee0d_row5_col14, #T_3ee0d_row6_col4, #T_3ee0d_row6_col14, #T_3ee0d_row7_col14, #T_3ee0d_row8_col14, #T_3ee0d_row9_col12, #T_3ee0d_row9_col14, #T_3ee0d_row10_col8, #T_3ee0d_row11_col10, #T_3ee0d_row11_col14, #T_3ee0d_row12_col7, #T_3ee0d_row12_col9, #T_3ee0d_row12_col11, #T_3ee0d_row12_col13, #T_3ee0d_row13_col14 {\n",
       "  background-color: #3b4cc0;\n",
       "  color: #f1f1f1;\n",
       "}\n",
       "#T_3ee0d_row1_col0, #T_3ee0d_row2_col0, #T_3ee0d_row3_col0 {\n",
       "  background-color: #90b2fe;\n",
       "  color: #000000;\n",
       "}\n",
       "#T_3ee0d_row1_col3, #T_3ee0d_row2_col3, #T_3ee0d_row5_col3, #T_3ee0d_row8_col2, #T_3ee0d_row13_col1, #T_3ee0d_row13_col2, #T_3ee0d_row14_col1, #T_3ee0d_row14_col2 {\n",
       "  background-color: #5d7ce6;\n",
       "  color: #f1f1f1;\n",
       "}\n",
       "#T_3ee0d_row1_col4, #T_3ee0d_row2_col4 {\n",
       "  background-color: #bad0f8;\n",
       "  color: #000000;\n",
       "}\n",
       "#T_3ee0d_row1_col5, #T_3ee0d_row2_col5, #T_3ee0d_row3_col5, #T_3ee0d_row13_col5 {\n",
       "  background-color: #5f7fe8;\n",
       "  color: #f1f1f1;\n",
       "}\n",
       "#T_3ee0d_row1_col6, #T_3ee0d_row2_col6, #T_3ee0d_row3_col6 {\n",
       "  background-color: #c9d7f0;\n",
       "  color: #000000;\n",
       "}\n",
       "#T_3ee0d_row1_col8, #T_3ee0d_row2_col7 {\n",
       "  background-color: #4358cb;\n",
       "  color: #f1f1f1;\n",
       "}\n",
       "#T_3ee0d_row1_col9, #T_3ee0d_row3_col9, #T_3ee0d_row13_col11 {\n",
       "  background-color: #93b5fe;\n",
       "  color: #000000;\n",
       "}\n",
       "#T_3ee0d_row1_col10, #T_3ee0d_row2_col10, #T_3ee0d_row5_col13, #T_3ee0d_row7_col10 {\n",
       "  background-color: #4e68d8;\n",
       "  color: #f1f1f1;\n",
       "}\n",
       "#T_3ee0d_row1_col11 {\n",
       "  background-color: #89acfd;\n",
       "  color: #000000;\n",
       "}\n",
       "#T_3ee0d_row1_col12, #T_3ee0d_row6_col0 {\n",
       "  background-color: #799cf8;\n",
       "  color: #f1f1f1;\n",
       "}\n",
       "#T_3ee0d_row2_col8, #T_3ee0d_row3_col8, #T_3ee0d_row5_col8, #T_3ee0d_row11_col7, #T_3ee0d_row12_col2, #T_3ee0d_row14_col8 {\n",
       "  background-color: #445acc;\n",
       "  color: #f1f1f1;\n",
       "}\n",
       "#T_3ee0d_row2_col9, #T_3ee0d_row9_col0, #T_3ee0d_row13_col0, #T_3ee0d_row14_col0 {\n",
       "  background-color: #94b6ff;\n",
       "  color: #000000;\n",
       "}\n",
       "#T_3ee0d_row2_col11, #T_3ee0d_row3_col11, #T_3ee0d_row8_col12 {\n",
       "  background-color: #86a9fc;\n",
       "  color: #f1f1f1;\n",
       "}\n",
       "#T_3ee0d_row2_col12, #T_3ee0d_row3_col12, #T_3ee0d_row5_col12, #T_3ee0d_row6_col9, #T_3ee0d_row12_col10 {\n",
       "  background-color: #779af7;\n",
       "  color: #f1f1f1;\n",
       "}\n",
       "#T_3ee0d_row2_col13, #T_3ee0d_row8_col13 {\n",
       "  background-color: #506bda;\n",
       "  color: #f1f1f1;\n",
       "}\n",
       "#T_3ee0d_row3_col4 {\n",
       "  background-color: #b9d0f9;\n",
       "  color: #000000;\n",
       "}\n",
       "#T_3ee0d_row3_col13, #T_3ee0d_row4_col10, #T_3ee0d_row6_col1 {\n",
       "  background-color: #536edd;\n",
       "  color: #f1f1f1;\n",
       "}\n",
       "#T_3ee0d_row4_col7, #T_3ee0d_row6_col8, #T_3ee0d_row9_col7, #T_3ee0d_row14_col7 {\n",
       "  background-color: #4055c8;\n",
       "  color: #f1f1f1;\n",
       "}\n",
       "#T_3ee0d_row4_col8, #T_3ee0d_row11_col8, #T_3ee0d_row12_col3 {\n",
       "  background-color: #465ecf;\n",
       "  color: #f1f1f1;\n",
       "}\n",
       "#T_3ee0d_row4_col9 {\n",
       "  background-color: #9ebeff;\n",
       "  color: #000000;\n",
       "}\n",
       "#T_3ee0d_row4_col12 {\n",
       "  background-color: #9abbff;\n",
       "  color: #000000;\n",
       "}\n",
       "#T_3ee0d_row4_col13, #T_3ee0d_row6_col5, #T_3ee0d_row14_col10 {\n",
       "  background-color: #5572df;\n",
       "  color: #f1f1f1;\n",
       "}\n",
       "#T_3ee0d_row4_col14, #T_3ee0d_row6_col7, #T_3ee0d_row12_col8, #T_3ee0d_row12_col14 {\n",
       "  background-color: #3c4ec2;\n",
       "  color: #f1f1f1;\n",
       "}\n",
       "#T_3ee0d_row5_col4 {\n",
       "  background-color: #b6cefa;\n",
       "  color: #000000;\n",
       "}\n",
       "#T_3ee0d_row5_col6 {\n",
       "  background-color: #c7d7f0;\n",
       "  color: #000000;\n",
       "}\n",
       "#T_3ee0d_row5_col9 {\n",
       "  background-color: #96b7ff;\n",
       "  color: #000000;\n",
       "}\n",
       "#T_3ee0d_row5_col10 {\n",
       "  background-color: #4a63d3;\n",
       "  color: #f1f1f1;\n",
       "}\n",
       "#T_3ee0d_row6_col2 {\n",
       "  background-color: #516ddb;\n",
       "  color: #f1f1f1;\n",
       "}\n",
       "#T_3ee0d_row6_col10, #T_3ee0d_row10_col1, #T_3ee0d_row10_col2, #T_3ee0d_row10_col5 {\n",
       "  background-color: #5977e3;\n",
       "  color: #f1f1f1;\n",
       "}\n",
       "#T_3ee0d_row6_col11 {\n",
       "  background-color: #6f92f3;\n",
       "  color: #f1f1f1;\n",
       "}\n",
       "#T_3ee0d_row6_col12 {\n",
       "  background-color: #b2ccfb;\n",
       "  color: #000000;\n",
       "}\n",
       "#T_3ee0d_row7_col0, #T_3ee0d_row8_col0, #T_3ee0d_row11_col0 {\n",
       "  background-color: #97b8ff;\n",
       "  color: #000000;\n",
       "}\n",
       "#T_3ee0d_row7_col1, #T_3ee0d_row8_col5, #T_3ee0d_row11_col2, #T_3ee0d_row11_col13, #T_3ee0d_row14_col5 {\n",
       "  background-color: #6180e9;\n",
       "  color: #f1f1f1;\n",
       "}\n",
       "#T_3ee0d_row7_col2, #T_3ee0d_row8_col3, #T_3ee0d_row14_col3 {\n",
       "  background-color: #5e7de7;\n",
       "  color: #f1f1f1;\n",
       "}\n",
       "#T_3ee0d_row7_col3 {\n",
       "  background-color: #6687ed;\n",
       "  color: #f1f1f1;\n",
       "}\n",
       "#T_3ee0d_row7_col4, #T_3ee0d_row14_col6 {\n",
       "  background-color: #cedaeb;\n",
       "  color: #000000;\n",
       "}\n",
       "#T_3ee0d_row7_col5 {\n",
       "  background-color: #6788ee;\n",
       "  color: #f1f1f1;\n",
       "}\n",
       "#T_3ee0d_row7_col6 {\n",
       "  background-color: #ccd9ed;\n",
       "  color: #000000;\n",
       "}\n",
       "#T_3ee0d_row7_col12 {\n",
       "  background-color: #88abfd;\n",
       "  color: #000000;\n",
       "}\n",
       "#T_3ee0d_row8_col4, #T_3ee0d_row10_col4, #T_3ee0d_row14_col4 {\n",
       "  background-color: #cfdaea;\n",
       "  color: #000000;\n",
       "}\n",
       "#T_3ee0d_row8_col6 {\n",
       "  background-color: #cdd9ec;\n",
       "  color: #000000;\n",
       "}\n",
       "#T_3ee0d_row8_col9 {\n",
       "  background-color: #8caffe;\n",
       "  color: #000000;\n",
       "}\n",
       "#T_3ee0d_row8_col11 {\n",
       "  background-color: #84a7fc;\n",
       "  color: #f1f1f1;\n",
       "}\n",
       "#T_3ee0d_row9_col1, #T_3ee0d_row13_col3 {\n",
       "  background-color: #6282ea;\n",
       "  color: #f1f1f1;\n",
       "}\n",
       "#T_3ee0d_row9_col2, #T_3ee0d_row11_col3 {\n",
       "  background-color: #6384eb;\n",
       "  color: #f1f1f1;\n",
       "}\n",
       "#T_3ee0d_row9_col3, #T_3ee0d_row11_col1 {\n",
       "  background-color: #6485ec;\n",
       "  color: #f1f1f1;\n",
       "}\n",
       "#T_3ee0d_row9_col4 {\n",
       "  background-color: #d8dce2;\n",
       "  color: #000000;\n",
       "}\n",
       "#T_3ee0d_row9_col5, #T_3ee0d_row11_col5 {\n",
       "  background-color: #6a8bef;\n",
       "  color: #f1f1f1;\n",
       "}\n",
       "#T_3ee0d_row9_col6 {\n",
       "  background-color: #c0d4f5;\n",
       "  color: #000000;\n",
       "}\n",
       "#T_3ee0d_row9_col8 {\n",
       "  background-color: #4257c9;\n",
       "  color: #f1f1f1;\n",
       "}\n",
       "#T_3ee0d_row9_col10 {\n",
       "  background-color: #3f53c6;\n",
       "  color: #f1f1f1;\n",
       "}\n",
       "#T_3ee0d_row9_col11 {\n",
       "  background-color: #f59d7e;\n",
       "  color: #000000;\n",
       "}\n",
       "#T_3ee0d_row9_col13 {\n",
       "  background-color: #688aef;\n",
       "  color: #f1f1f1;\n",
       "}\n",
       "#T_3ee0d_row10_col0, #T_3ee0d_row14_col9 {\n",
       "  background-color: #8db0fe;\n",
       "  color: #000000;\n",
       "}\n",
       "#T_3ee0d_row10_col6, #T_3ee0d_row13_col4 {\n",
       "  background-color: #d2dbe8;\n",
       "  color: #000000;\n",
       "}\n",
       "#T_3ee0d_row10_col7, #T_3ee0d_row10_col14 {\n",
       "  background-color: #3d50c3;\n",
       "  color: #f1f1f1;\n",
       "}\n",
       "#T_3ee0d_row10_col9 {\n",
       "  background-color: #7da0f9;\n",
       "  color: #f1f1f1;\n",
       "}\n",
       "#T_3ee0d_row10_col11 {\n",
       "  background-color: #6b8df0;\n",
       "  color: #f1f1f1;\n",
       "}\n",
       "#T_3ee0d_row10_col12 {\n",
       "  background-color: #adc9fd;\n",
       "  color: #000000;\n",
       "}\n",
       "#T_3ee0d_row10_col13 {\n",
       "  background-color: #4c66d6;\n",
       "  color: #f1f1f1;\n",
       "}\n",
       "#T_3ee0d_row11_col4 {\n",
       "  background-color: #d5dbe5;\n",
       "  color: #000000;\n",
       "}\n",
       "#T_3ee0d_row11_col6 {\n",
       "  background-color: #c3d5f4;\n",
       "  color: #000000;\n",
       "}\n",
       "#T_3ee0d_row11_col9 {\n",
       "  background-color: #f4987a;\n",
       "  color: #000000;\n",
       "}\n",
       "#T_3ee0d_row12_col4 {\n",
       "  background-color: #d6dce4;\n",
       "  color: #000000;\n",
       "}\n",
       "#T_3ee0d_row12_col5 {\n",
       "  background-color: #4961d2;\n",
       "  color: #f1f1f1;\n",
       "}\n",
       "#T_3ee0d_row12_col6 {\n",
       "  background-color: #e3d9d3;\n",
       "  color: #000000;\n",
       "}\n",
       "#T_3ee0d_row13_col6 {\n",
       "  background-color: #cbd8ee;\n",
       "  color: #000000;\n",
       "}\n",
       "#T_3ee0d_row13_col9 {\n",
       "  background-color: #a3c2fe;\n",
       "  color: #000000;\n",
       "}\n",
       "#T_3ee0d_row13_col12 {\n",
       "  background-color: #7a9df8;\n",
       "  color: #f1f1f1;\n",
       "}\n",
       "#T_3ee0d_row14_col11 {\n",
       "  background-color: #81a4fb;\n",
       "  color: #f1f1f1;\n",
       "}\n",
       "</style>\n",
       "<table id=\"T_3ee0d\">\n",
       "  <thead>\n",
       "    <tr>\n",
       "      <th class=\"blank level0\" >&nbsp;</th>\n",
       "      <th id=\"T_3ee0d_level0_col0\" class=\"col_heading level0 col0\" >area_name_Other</th>\n",
       "      <th id=\"T_3ee0d_level0_col1\" class=\"col_heading level0 col1\" >area_name_Екатеринбург</th>\n",
       "      <th id=\"T_3ee0d_level0_col2\" class=\"col_heading level0 col2\" >area_name_Казань</th>\n",
       "      <th id=\"T_3ee0d_level0_col3\" class=\"col_heading level0 col3\" >area_name_Краснодар</th>\n",
       "      <th id=\"T_3ee0d_level0_col4\" class=\"col_heading level0 col4\" >area_name_Москва</th>\n",
       "      <th id=\"T_3ee0d_level0_col5\" class=\"col_heading level0 col5\" >area_name_Новосибирск</th>\n",
       "      <th id=\"T_3ee0d_level0_col6\" class=\"col_heading level0 col6\" >area_name_Санкт-Петербург</th>\n",
       "      <th id=\"T_3ee0d_level0_col7\" class=\"col_heading level0 col7\" >has_test</th>\n",
       "      <th id=\"T_3ee0d_level0_col8\" class=\"col_heading level0 col8\" >response_letter_required</th>\n",
       "      <th id=\"T_3ee0d_level0_col9\" class=\"col_heading level0 col9\" >salary_from</th>\n",
       "      <th id=\"T_3ee0d_level0_col10\" class=\"col_heading level0 col10\" >salary_gross</th>\n",
       "      <th id=\"T_3ee0d_level0_col11\" class=\"col_heading level0 col11\" >salary_to</th>\n",
       "      <th id=\"T_3ee0d_level0_col12\" class=\"col_heading level0 col12\" >published_at_diff</th>\n",
       "      <th id=\"T_3ee0d_level0_col13\" class=\"col_heading level0 col13\" >description_exp</th>\n",
       "      <th id=\"T_3ee0d_level0_col14\" class=\"col_heading level0 col14\" >description_salary</th>\n",
       "    </tr>\n",
       "  </thead>\n",
       "  <tbody>\n",
       "    <tr>\n",
       "      <th id=\"T_3ee0d_level0_row0\" class=\"row_heading level0 row0\" >area_name_Other</th>\n",
       "      <td id=\"T_3ee0d_row0_col0\" class=\"data row0 col0\" >1.000000</td>\n",
       "      <td id=\"T_3ee0d_row0_col1\" class=\"data row0 col1\" >-0.016923</td>\n",
       "      <td id=\"T_3ee0d_row0_col2\" class=\"data row0 col2\" >-0.016652</td>\n",
       "      <td id=\"T_3ee0d_row0_col3\" class=\"data row0 col3\" >-0.017969</td>\n",
       "      <td id=\"T_3ee0d_row0_col4\" class=\"data row0 col4\" >-0.373021</td>\n",
       "      <td id=\"T_3ee0d_row0_col5\" class=\"data row0 col5\" >-0.019102</td>\n",
       "      <td id=\"T_3ee0d_row0_col6\" class=\"data row0 col6\" >-0.109754</td>\n",
       "      <td id=\"T_3ee0d_row0_col7\" class=\"data row0 col7\" >0.012921</td>\n",
       "      <td id=\"T_3ee0d_row0_col8\" class=\"data row0 col8\" >0.012041</td>\n",
       "      <td id=\"T_3ee0d_row0_col9\" class=\"data row0 col9\" >0.001777</td>\n",
       "      <td id=\"T_3ee0d_row0_col10\" class=\"data row0 col10\" >-0.024444</td>\n",
       "      <td id=\"T_3ee0d_row0_col11\" class=\"data row0 col11\" >0.009550</td>\n",
       "      <td id=\"T_3ee0d_row0_col12\" class=\"data row0 col12\" >-0.230137</td>\n",
       "      <td id=\"T_3ee0d_row0_col13\" class=\"data row0 col13\" >0.000900</td>\n",
       "      <td id=\"T_3ee0d_row0_col14\" class=\"data row0 col14\" >-0.001343</td>\n",
       "    </tr>\n",
       "    <tr>\n",
       "      <th id=\"T_3ee0d_level0_row1\" class=\"row_heading level0 row1\" >area_name_Екатеринбург</th>\n",
       "      <td id=\"T_3ee0d_row1_col0\" class=\"data row1 col0\" >-0.016923</td>\n",
       "      <td id=\"T_3ee0d_row1_col1\" class=\"data row1 col1\" >1.000000</td>\n",
       "      <td id=\"T_3ee0d_row1_col2\" class=\"data row1 col2\" >-0.005597</td>\n",
       "      <td id=\"T_3ee0d_row1_col3\" class=\"data row1 col3\" >-0.006040</td>\n",
       "      <td id=\"T_3ee0d_row1_col4\" class=\"data row1 col4\" >-0.125383</td>\n",
       "      <td id=\"T_3ee0d_row1_col5\" class=\"data row1 col5\" >-0.006421</td>\n",
       "      <td id=\"T_3ee0d_row1_col6\" class=\"data row1 col6\" >-0.036891</td>\n",
       "      <td id=\"T_3ee0d_row1_col7\" class=\"data row1 col7\" >0.015199</td>\n",
       "      <td id=\"T_3ee0d_row1_col8\" class=\"data row1 col8\" >-0.005303</td>\n",
       "      <td id=\"T_3ee0d_row1_col9\" class=\"data row1 col9\" >0.016281</td>\n",
       "      <td id=\"T_3ee0d_row1_col10\" class=\"data row1 col10\" >-0.013506</td>\n",
       "      <td id=\"T_3ee0d_row1_col11\" class=\"data row1 col11\" >0.025196</td>\n",
       "      <td id=\"T_3ee0d_row1_col12\" class=\"data row1 col12\" >-0.082120</td>\n",
       "      <td id=\"T_3ee0d_row1_col13\" class=\"data row1 col13\" >0.000199</td>\n",
       "      <td id=\"T_3ee0d_row1_col14\" class=\"data row1 col14\" >-0.000451</td>\n",
       "    </tr>\n",
       "    <tr>\n",
       "      <th id=\"T_3ee0d_level0_row2\" class=\"row_heading level0 row2\" >area_name_Казань</th>\n",
       "      <td id=\"T_3ee0d_row2_col0\" class=\"data row2 col0\" >-0.016652</td>\n",
       "      <td id=\"T_3ee0d_row2_col1\" class=\"data row2 col1\" >-0.005597</td>\n",
       "      <td id=\"T_3ee0d_row2_col2\" class=\"data row2 col2\" >1.000000</td>\n",
       "      <td id=\"T_3ee0d_row2_col3\" class=\"data row2 col3\" >-0.005943</td>\n",
       "      <td id=\"T_3ee0d_row2_col4\" class=\"data row2 col4\" >-0.123372</td>\n",
       "      <td id=\"T_3ee0d_row2_col5\" class=\"data row2 col5\" >-0.006318</td>\n",
       "      <td id=\"T_3ee0d_row2_col6\" class=\"data row2 col6\" >-0.036299</td>\n",
       "      <td id=\"T_3ee0d_row2_col7\" class=\"data row2 col7\" >0.006570</td>\n",
       "      <td id=\"T_3ee0d_row2_col8\" class=\"data row2 col8\" >0.000116</td>\n",
       "      <td id=\"T_3ee0d_row2_col9\" class=\"data row2 col9\" >0.022223</td>\n",
       "      <td id=\"T_3ee0d_row2_col10\" class=\"data row2 col10\" >-0.013080</td>\n",
       "      <td id=\"T_3ee0d_row2_col11\" class=\"data row2 col11\" >0.015509</td>\n",
       "      <td id=\"T_3ee0d_row2_col12\" class=\"data row2 col12\" >-0.087657</td>\n",
       "      <td id=\"T_3ee0d_row2_col13\" class=\"data row2 col13\" >0.003307</td>\n",
       "      <td id=\"T_3ee0d_row2_col14\" class=\"data row2 col14\" >-0.000444</td>\n",
       "    </tr>\n",
       "    <tr>\n",
       "      <th id=\"T_3ee0d_level0_row3\" class=\"row_heading level0 row3\" >area_name_Краснодар</th>\n",
       "      <td id=\"T_3ee0d_row3_col0\" class=\"data row3 col0\" >-0.017969</td>\n",
       "      <td id=\"T_3ee0d_row3_col1\" class=\"data row3 col1\" >-0.006040</td>\n",
       "      <td id=\"T_3ee0d_row3_col2\" class=\"data row3 col2\" >-0.005943</td>\n",
       "      <td id=\"T_3ee0d_row3_col3\" class=\"data row3 col3\" >1.000000</td>\n",
       "      <td id=\"T_3ee0d_row3_col4\" class=\"data row3 col4\" >-0.133130</td>\n",
       "      <td id=\"T_3ee0d_row3_col5\" class=\"data row3 col5\" >-0.006818</td>\n",
       "      <td id=\"T_3ee0d_row3_col6\" class=\"data row3 col6\" >-0.039171</td>\n",
       "      <td id=\"T_3ee0d_row3_col7\" class=\"data row3 col7\" >0.024333</td>\n",
       "      <td id=\"T_3ee0d_row3_col8\" class=\"data row3 col8\" >-0.002155</td>\n",
       "      <td id=\"T_3ee0d_row3_col9\" class=\"data row3 col9\" >0.020819</td>\n",
       "      <td id=\"T_3ee0d_row3_col10\" class=\"data row3 col10\" >-0.009353</td>\n",
       "      <td id=\"T_3ee0d_row3_col11\" class=\"data row3 col11\" >0.016071</td>\n",
       "      <td id=\"T_3ee0d_row3_col12\" class=\"data row3 col12\" >-0.084795</td>\n",
       "      <td id=\"T_3ee0d_row3_col13\" class=\"data row3 col13\" >0.010970</td>\n",
       "      <td id=\"T_3ee0d_row3_col14\" class=\"data row3 col14\" >-0.000479</td>\n",
       "    </tr>\n",
       "    <tr>\n",
       "      <th id=\"T_3ee0d_level0_row4\" class=\"row_heading level0 row4\" >area_name_Москва</th>\n",
       "      <td id=\"T_3ee0d_row4_col0\" class=\"data row4 col0\" >-0.373021</td>\n",
       "      <td id=\"T_3ee0d_row4_col1\" class=\"data row4 col1\" >-0.125383</td>\n",
       "      <td id=\"T_3ee0d_row4_col2\" class=\"data row4 col2\" >-0.123372</td>\n",
       "      <td id=\"T_3ee0d_row4_col3\" class=\"data row4 col3\" >-0.133130</td>\n",
       "      <td id=\"T_3ee0d_row4_col4\" class=\"data row4 col4\" >1.000000</td>\n",
       "      <td id=\"T_3ee0d_row4_col5\" class=\"data row4 col5\" >-0.141528</td>\n",
       "      <td id=\"T_3ee0d_row4_col6\" class=\"data row4 col6\" >-0.813153</td>\n",
       "      <td id=\"T_3ee0d_row4_col7\" class=\"data row4 col7\" >-0.001626</td>\n",
       "      <td id=\"T_3ee0d_row4_col8\" class=\"data row4 col8\" >0.006627</td>\n",
       "      <td id=\"T_3ee0d_row4_col9\" class=\"data row4 col9\" >0.060748</td>\n",
       "      <td id=\"T_3ee0d_row4_col10\" class=\"data row4 col10\" >0.004193</td>\n",
       "      <td id=\"T_3ee0d_row4_col11\" class=\"data row4 col11\" >0.043771</td>\n",
       "      <td id=\"T_3ee0d_row4_col12\" class=\"data row4 col12\" >0.046759</td>\n",
       "      <td id=\"T_3ee0d_row4_col13\" class=\"data row4 col13\" >0.020818</td>\n",
       "      <td id=\"T_3ee0d_row4_col14\" class=\"data row4 col14\" >0.003599</td>\n",
       "    </tr>\n",
       "    <tr>\n",
       "      <th id=\"T_3ee0d_level0_row5\" class=\"row_heading level0 row5\" >area_name_Новосибирск</th>\n",
       "      <td id=\"T_3ee0d_row5_col0\" class=\"data row5 col0\" >-0.019102</td>\n",
       "      <td id=\"T_3ee0d_row5_col1\" class=\"data row5 col1\" >-0.006421</td>\n",
       "      <td id=\"T_3ee0d_row5_col2\" class=\"data row5 col2\" >-0.006318</td>\n",
       "      <td id=\"T_3ee0d_row5_col3\" class=\"data row5 col3\" >-0.006818</td>\n",
       "      <td id=\"T_3ee0d_row5_col4\" class=\"data row5 col4\" >-0.141528</td>\n",
       "      <td id=\"T_3ee0d_row5_col5\" class=\"data row5 col5\" >1.000000</td>\n",
       "      <td id=\"T_3ee0d_row5_col6\" class=\"data row5 col6\" >-0.041642</td>\n",
       "      <td id=\"T_3ee0d_row5_col7\" class=\"data row5 col7\" >0.021338</td>\n",
       "      <td id=\"T_3ee0d_row5_col8\" class=\"data row5 col8\" >0.000391</td>\n",
       "      <td id=\"T_3ee0d_row5_col9\" class=\"data row5 col9\" >0.030771</td>\n",
       "      <td id=\"T_3ee0d_row5_col10\" class=\"data row5 col10\" >-0.028221</td>\n",
       "      <td id=\"T_3ee0d_row5_col11\" class=\"data row5 col11\" >0.028871</td>\n",
       "      <td id=\"T_3ee0d_row5_col12\" class=\"data row5 col12\" >-0.087477</td>\n",
       "      <td id=\"T_3ee0d_row5_col13\" class=\"data row5 col13\" >-0.004009</td>\n",
       "      <td id=\"T_3ee0d_row5_col14\" class=\"data row5 col14\" >-0.000509</td>\n",
       "    </tr>\n",
       "    <tr>\n",
       "      <th id=\"T_3ee0d_level0_row6\" class=\"row_heading level0 row6\" >area_name_Санкт-Петербург</th>\n",
       "      <td id=\"T_3ee0d_row6_col0\" class=\"data row6 col0\" >-0.109754</td>\n",
       "      <td id=\"T_3ee0d_row6_col1\" class=\"data row6 col1\" >-0.036891</td>\n",
       "      <td id=\"T_3ee0d_row6_col2\" class=\"data row6 col2\" >-0.036299</td>\n",
       "      <td id=\"T_3ee0d_row6_col3\" class=\"data row6 col3\" >-0.039171</td>\n",
       "      <td id=\"T_3ee0d_row6_col4\" class=\"data row6 col4\" >-0.813153</td>\n",
       "      <td id=\"T_3ee0d_row6_col5\" class=\"data row6 col5\" >-0.041642</td>\n",
       "      <td id=\"T_3ee0d_row6_col6\" class=\"data row6 col6\" >1.000000</td>\n",
       "      <td id=\"T_3ee0d_row6_col7\" class=\"data row6 col7\" >-0.018765</td>\n",
       "      <td id=\"T_3ee0d_row6_col8\" class=\"data row6 col8\" >-0.012597</td>\n",
       "      <td id=\"T_3ee0d_row6_col9\" class=\"data row6 col9\" >-0.086979</td>\n",
       "      <td id=\"T_3ee0d_row6_col10\" class=\"data row6 col10\" >0.021478</td>\n",
       "      <td id=\"T_3ee0d_row6_col11\" class=\"data row6 col11\" >-0.071262</td>\n",
       "      <td id=\"T_3ee0d_row6_col12\" class=\"data row6 col12\" >0.140052</td>\n",
       "      <td id=\"T_3ee0d_row6_col13\" class=\"data row6 col13\" >-0.025793</td>\n",
       "      <td id=\"T_3ee0d_row6_col14\" class=\"data row6 col14\" >-0.002927</td>\n",
       "    </tr>\n",
       "    <tr>\n",
       "      <th id=\"T_3ee0d_level0_row7\" class=\"row_heading level0 row7\" >has_test</th>\n",
       "      <td id=\"T_3ee0d_row7_col0\" class=\"data row7 col0\" >0.012921</td>\n",
       "      <td id=\"T_3ee0d_row7_col1\" class=\"data row7 col1\" >0.015199</td>\n",
       "      <td id=\"T_3ee0d_row7_col2\" class=\"data row7 col2\" >0.006570</td>\n",
       "      <td id=\"T_3ee0d_row7_col3\" class=\"data row7 col3\" >0.024333</td>\n",
       "      <td id=\"T_3ee0d_row7_col4\" class=\"data row7 col4\" >-0.001626</td>\n",
       "      <td id=\"T_3ee0d_row7_col5\" class=\"data row7 col5\" >0.021338</td>\n",
       "      <td id=\"T_3ee0d_row7_col6\" class=\"data row7 col6\" >-0.018765</td>\n",
       "      <td id=\"T_3ee0d_row7_col7\" class=\"data row7 col7\" >1.000000</td>\n",
       "      <td id=\"T_3ee0d_row7_col8\" class=\"data row7 col8\" >0.074826</td>\n",
       "      <td id=\"T_3ee0d_row7_col9\" class=\"data row7 col9\" >0.000321</td>\n",
       "      <td id=\"T_3ee0d_row7_col10\" class=\"data row7 col10\" >-0.014268</td>\n",
       "      <td id=\"T_3ee0d_row7_col11\" class=\"data row7 col11\" >0.011637</td>\n",
       "      <td id=\"T_3ee0d_row7_col12\" class=\"data row7 col12\" >-0.023427</td>\n",
       "      <td id=\"T_3ee0d_row7_col13\" class=\"data row7 col13\" >0.015655</td>\n",
       "      <td id=\"T_3ee0d_row7_col14\" class=\"data row7 col14\" >-0.000964</td>\n",
       "    </tr>\n",
       "    <tr>\n",
       "      <th id=\"T_3ee0d_level0_row8\" class=\"row_heading level0 row8\" >response_letter_required</th>\n",
       "      <td id=\"T_3ee0d_row8_col0\" class=\"data row8 col0\" >0.012041</td>\n",
       "      <td id=\"T_3ee0d_row8_col1\" class=\"data row8 col1\" >-0.005303</td>\n",
       "      <td id=\"T_3ee0d_row8_col2\" class=\"data row8 col2\" >0.000116</td>\n",
       "      <td id=\"T_3ee0d_row8_col3\" class=\"data row8 col3\" >-0.002155</td>\n",
       "      <td id=\"T_3ee0d_row8_col4\" class=\"data row8 col4\" >0.006627</td>\n",
       "      <td id=\"T_3ee0d_row8_col5\" class=\"data row8 col5\" >0.000391</td>\n",
       "      <td id=\"T_3ee0d_row8_col6\" class=\"data row8 col6\" >-0.012597</td>\n",
       "      <td id=\"T_3ee0d_row8_col7\" class=\"data row8 col7\" >0.074826</td>\n",
       "      <td id=\"T_3ee0d_row8_col8\" class=\"data row8 col8\" >1.000000</td>\n",
       "      <td id=\"T_3ee0d_row8_col9\" class=\"data row8 col9\" >-0.007164</td>\n",
       "      <td id=\"T_3ee0d_row8_col10\" class=\"data row8 col10\" >-0.035017</td>\n",
       "      <td id=\"T_3ee0d_row8_col11\" class=\"data row8 col11\" >0.007831</td>\n",
       "      <td id=\"T_3ee0d_row8_col12\" class=\"data row8 col12\" >-0.029331</td>\n",
       "      <td id=\"T_3ee0d_row8_col13\" class=\"data row8 col13\" >0.002189</td>\n",
       "      <td id=\"T_3ee0d_row8_col14\" class=\"data row8 col14\" >-0.001204</td>\n",
       "    </tr>\n",
       "    <tr>\n",
       "      <th id=\"T_3ee0d_level0_row9\" class=\"row_heading level0 row9\" >salary_from</th>\n",
       "      <td id=\"T_3ee0d_row9_col0\" class=\"data row9 col0\" >0.001777</td>\n",
       "      <td id=\"T_3ee0d_row9_col1\" class=\"data row9 col1\" >0.016281</td>\n",
       "      <td id=\"T_3ee0d_row9_col2\" class=\"data row9 col2\" >0.022223</td>\n",
       "      <td id=\"T_3ee0d_row9_col3\" class=\"data row9 col3\" >0.020819</td>\n",
       "      <td id=\"T_3ee0d_row9_col4\" class=\"data row9 col4\" >0.060748</td>\n",
       "      <td id=\"T_3ee0d_row9_col5\" class=\"data row9 col5\" >0.030771</td>\n",
       "      <td id=\"T_3ee0d_row9_col6\" class=\"data row9 col6\" >-0.086979</td>\n",
       "      <td id=\"T_3ee0d_row9_col7\" class=\"data row9 col7\" >0.000321</td>\n",
       "      <td id=\"T_3ee0d_row9_col8\" class=\"data row9 col8\" >-0.007164</td>\n",
       "      <td id=\"T_3ee0d_row9_col9\" class=\"data row9 col9\" >1.000000</td>\n",
       "      <td id=\"T_3ee0d_row9_col10\" class=\"data row9 col10\" >-0.066327</td>\n",
       "      <td id=\"T_3ee0d_row9_col11\" class=\"data row9 col11\" >0.669052</td>\n",
       "      <td id=\"T_3ee0d_row9_col12\" class=\"data row9 col12\" >-0.340191</td>\n",
       "      <td id=\"T_3ee0d_row9_col13\" class=\"data row9 col13\" >0.082286</td>\n",
       "      <td id=\"T_3ee0d_row9_col14\" class=\"data row9 col14\" >-0.002378</td>\n",
       "    </tr>\n",
       "    <tr>\n",
       "      <th id=\"T_3ee0d_level0_row10\" class=\"row_heading level0 row10\" >salary_gross</th>\n",
       "      <td id=\"T_3ee0d_row10_col0\" class=\"data row10 col0\" >-0.024444</td>\n",
       "      <td id=\"T_3ee0d_row10_col1\" class=\"data row10 col1\" >-0.013506</td>\n",
       "      <td id=\"T_3ee0d_row10_col2\" class=\"data row10 col2\" >-0.013080</td>\n",
       "      <td id=\"T_3ee0d_row10_col3\" class=\"data row10 col3\" >-0.009353</td>\n",
       "      <td id=\"T_3ee0d_row10_col4\" class=\"data row10 col4\" >0.004193</td>\n",
       "      <td id=\"T_3ee0d_row10_col5\" class=\"data row10 col5\" >-0.028221</td>\n",
       "      <td id=\"T_3ee0d_row10_col6\" class=\"data row10 col6\" >0.021478</td>\n",
       "      <td id=\"T_3ee0d_row10_col7\" class=\"data row10 col7\" >-0.014268</td>\n",
       "      <td id=\"T_3ee0d_row10_col8\" class=\"data row10 col8\" >-0.035017</td>\n",
       "      <td id=\"T_3ee0d_row10_col9\" class=\"data row10 col9\" >-0.066327</td>\n",
       "      <td id=\"T_3ee0d_row10_col10\" class=\"data row10 col10\" >1.000000</td>\n",
       "      <td id=\"T_3ee0d_row10_col11\" class=\"data row10 col11\" >-0.084785</td>\n",
       "      <td id=\"T_3ee0d_row10_col12\" class=\"data row10 col12\" >0.119625</td>\n",
       "      <td id=\"T_3ee0d_row10_col13\" class=\"data row10 col13\" >-0.009488</td>\n",
       "      <td id=\"T_3ee0d_row10_col14\" class=\"data row10 col14\" >0.008636</td>\n",
       "    </tr>\n",
       "    <tr>\n",
       "      <th id=\"T_3ee0d_level0_row11\" class=\"row_heading level0 row11\" >salary_to</th>\n",
       "      <td id=\"T_3ee0d_row11_col0\" class=\"data row11 col0\" >0.009550</td>\n",
       "      <td id=\"T_3ee0d_row11_col1\" class=\"data row11 col1\" >0.025196</td>\n",
       "      <td id=\"T_3ee0d_row11_col2\" class=\"data row11 col2\" >0.015509</td>\n",
       "      <td id=\"T_3ee0d_row11_col3\" class=\"data row11 col3\" >0.016071</td>\n",
       "      <td id=\"T_3ee0d_row11_col4\" class=\"data row11 col4\" >0.043771</td>\n",
       "      <td id=\"T_3ee0d_row11_col5\" class=\"data row11 col5\" >0.028871</td>\n",
       "      <td id=\"T_3ee0d_row11_col6\" class=\"data row11 col6\" >-0.071262</td>\n",
       "      <td id=\"T_3ee0d_row11_col7\" class=\"data row11 col7\" >0.011637</td>\n",
       "      <td id=\"T_3ee0d_row11_col8\" class=\"data row11 col8\" >0.007831</td>\n",
       "      <td id=\"T_3ee0d_row11_col9\" class=\"data row11 col9\" >0.669052</td>\n",
       "      <td id=\"T_3ee0d_row11_col10\" class=\"data row11 col10\" >-0.084785</td>\n",
       "      <td id=\"T_3ee0d_row11_col11\" class=\"data row11 col11\" >1.000000</td>\n",
       "      <td id=\"T_3ee0d_row11_col12\" class=\"data row11 col12\" >-0.282573</td>\n",
       "      <td id=\"T_3ee0d_row11_col13\" class=\"data row11 col13\" >0.058671</td>\n",
       "      <td id=\"T_3ee0d_row11_col14\" class=\"data row11 col14\" >-0.002275</td>\n",
       "    </tr>\n",
       "    <tr>\n",
       "      <th id=\"T_3ee0d_level0_row12\" class=\"row_heading level0 row12\" >published_at_diff</th>\n",
       "      <td id=\"T_3ee0d_row12_col0\" class=\"data row12 col0\" >-0.230137</td>\n",
       "      <td id=\"T_3ee0d_row12_col1\" class=\"data row12 col1\" >-0.082120</td>\n",
       "      <td id=\"T_3ee0d_row12_col2\" class=\"data row12 col2\" >-0.087657</td>\n",
       "      <td id=\"T_3ee0d_row12_col3\" class=\"data row12 col3\" >-0.084795</td>\n",
       "      <td id=\"T_3ee0d_row12_col4\" class=\"data row12 col4\" >0.046759</td>\n",
       "      <td id=\"T_3ee0d_row12_col5\" class=\"data row12 col5\" >-0.087477</td>\n",
       "      <td id=\"T_3ee0d_row12_col6\" class=\"data row12 col6\" >0.140052</td>\n",
       "      <td id=\"T_3ee0d_row12_col7\" class=\"data row12 col7\" >-0.023427</td>\n",
       "      <td id=\"T_3ee0d_row12_col8\" class=\"data row12 col8\" >-0.029331</td>\n",
       "      <td id=\"T_3ee0d_row12_col9\" class=\"data row12 col9\" >-0.340191</td>\n",
       "      <td id=\"T_3ee0d_row12_col10\" class=\"data row12 col10\" >0.119625</td>\n",
       "      <td id=\"T_3ee0d_row12_col11\" class=\"data row12 col11\" >-0.282573</td>\n",
       "      <td id=\"T_3ee0d_row12_col12\" class=\"data row12 col12\" >1.000000</td>\n",
       "      <td id=\"T_3ee0d_row12_col13\" class=\"data row12 col13\" >-0.074272</td>\n",
       "      <td id=\"T_3ee0d_row12_col14\" class=\"data row12 col14\" >0.001554</td>\n",
       "    </tr>\n",
       "    <tr>\n",
       "      <th id=\"T_3ee0d_level0_row13\" class=\"row_heading level0 row13\" >description_exp</th>\n",
       "      <td id=\"T_3ee0d_row13_col0\" class=\"data row13 col0\" >0.000900</td>\n",
       "      <td id=\"T_3ee0d_row13_col1\" class=\"data row13 col1\" >0.000199</td>\n",
       "      <td id=\"T_3ee0d_row13_col2\" class=\"data row13 col2\" >0.003307</td>\n",
       "      <td id=\"T_3ee0d_row13_col3\" class=\"data row13 col3\" >0.010970</td>\n",
       "      <td id=\"T_3ee0d_row13_col4\" class=\"data row13 col4\" >0.020818</td>\n",
       "      <td id=\"T_3ee0d_row13_col5\" class=\"data row13 col5\" >-0.004009</td>\n",
       "      <td id=\"T_3ee0d_row13_col6\" class=\"data row13 col6\" >-0.025793</td>\n",
       "      <td id=\"T_3ee0d_row13_col7\" class=\"data row13 col7\" >0.015655</td>\n",
       "      <td id=\"T_3ee0d_row13_col8\" class=\"data row13 col8\" >0.002189</td>\n",
       "      <td id=\"T_3ee0d_row13_col9\" class=\"data row13 col9\" >0.082286</td>\n",
       "      <td id=\"T_3ee0d_row13_col10\" class=\"data row13 col10\" >-0.009488</td>\n",
       "      <td id=\"T_3ee0d_row13_col11\" class=\"data row13 col11\" >0.058671</td>\n",
       "      <td id=\"T_3ee0d_row13_col12\" class=\"data row13 col12\" >-0.074272</td>\n",
       "      <td id=\"T_3ee0d_row13_col13\" class=\"data row13 col13\" >1.000000</td>\n",
       "      <td id=\"T_3ee0d_row13_col14\" class=\"data row13 col14\" >-0.001069</td>\n",
       "    </tr>\n",
       "    <tr>\n",
       "      <th id=\"T_3ee0d_level0_row14\" class=\"row_heading level0 row14\" >description_salary</th>\n",
       "      <td id=\"T_3ee0d_row14_col0\" class=\"data row14 col0\" >-0.001343</td>\n",
       "      <td id=\"T_3ee0d_row14_col1\" class=\"data row14 col1\" >-0.000451</td>\n",
       "      <td id=\"T_3ee0d_row14_col2\" class=\"data row14 col2\" >-0.000444</td>\n",
       "      <td id=\"T_3ee0d_row14_col3\" class=\"data row14 col3\" >-0.000479</td>\n",
       "      <td id=\"T_3ee0d_row14_col4\" class=\"data row14 col4\" >0.003599</td>\n",
       "      <td id=\"T_3ee0d_row14_col5\" class=\"data row14 col5\" >-0.000509</td>\n",
       "      <td id=\"T_3ee0d_row14_col6\" class=\"data row14 col6\" >-0.002927</td>\n",
       "      <td id=\"T_3ee0d_row14_col7\" class=\"data row14 col7\" >-0.000964</td>\n",
       "      <td id=\"T_3ee0d_row14_col8\" class=\"data row14 col8\" >-0.001204</td>\n",
       "      <td id=\"T_3ee0d_row14_col9\" class=\"data row14 col9\" >-0.002378</td>\n",
       "      <td id=\"T_3ee0d_row14_col10\" class=\"data row14 col10\" >0.008636</td>\n",
       "      <td id=\"T_3ee0d_row14_col11\" class=\"data row14 col11\" >-0.002275</td>\n",
       "      <td id=\"T_3ee0d_row14_col12\" class=\"data row14 col12\" >0.001554</td>\n",
       "      <td id=\"T_3ee0d_row14_col13\" class=\"data row14 col13\" >-0.001069</td>\n",
       "      <td id=\"T_3ee0d_row14_col14\" class=\"data row14 col14\" >1.000000</td>\n",
       "    </tr>\n",
       "  </tbody>\n",
       "</table>\n"
      ],
      "text/plain": [
       "<pandas.io.formats.style.Styler at 0x1b682856550>"
      ]
     },
     "execution_count": 68,
     "metadata": {},
     "output_type": "execute_result"
    }
   ],
   "source": [
    "df.corr().style.background_gradient(cmap='coolwarm')"
   ]
  },
  {
   "cell_type": "code",
   "execution_count": 69,
   "id": "295ada70-d5ed-4432-af0f-0fd27bb57b89",
   "metadata": {
    "ExecuteTime": {
     "end_time": "2024-01-09T17:43:35.111175700Z",
     "start_time": "2024-01-09T17:43:34.090881800Z"
    }
   },
   "outputs": [],
   "source": [
    "#df = df.drop(columns=['description']) #, 'description'\n",
    "#df['salary_from'] = np.log(df['salary_from'])\n",
    "#df['description'] = np.exp(df['description'])"
   ]
  },
  {
   "cell_type": "code",
   "execution_count": 70,
   "id": "70debbf1-3d79-444d-8179-84551dc676b7",
   "metadata": {
    "ExecuteTime": {
     "end_time": "2024-01-09T17:43:35.156166300Z",
     "start_time": "2024-01-09T17:43:34.114871500Z"
    }
   },
   "outputs": [],
   "source": [
    "#df['salary_from']"
   ]
  },
  {
   "cell_type": "markdown",
   "id": "d3d7a313-9806-4e5d-8c78-7c62f3064bd7",
   "metadata": {},
   "source": [
    "<H1>Создание модели</H1>"
   ]
  },
  {
   "cell_type": "markdown",
   "id": "66723ac4410ebd9b",
   "metadata": {
    "collapsed": false,
    "jupyter": {
     "outputs_hidden": false
    }
   },
   "source": [
    "Преобразуем векторизированные описания, имена работодателей и названия вакансий"
   ]
  },
  {
   "cell_type": "code",
   "execution_count": 71,
   "id": "732a2a5d-b659-4a28-8cb1-6a6224d5fa15",
   "metadata": {
    "ExecuteTime": {
     "end_time": "2024-01-09T17:43:35.298179600Z",
     "start_time": "2024-01-09T17:43:34.155884500Z"
    }
   },
   "outputs": [],
   "source": [
    "DESC_COLS = ['desc_' + str(col) for col in vectorizer.get_feature_names_out()]\n",
    "df_desc_parsed1 = pd.DataFrame(df_desc_parsed.toarray(), columns=DESC_COLS, index=df.index)\n",
    "df = df.join(df_desc_parsed1)"
   ]
  },
  {
   "cell_type": "code",
   "execution_count": 72,
   "id": "b2e74582-f5ad-4b61-abd1-2fa8e9857526",
   "metadata": {
    "ExecuteTime": {
     "end_time": "2024-01-09T17:43:35.771176Z",
     "start_time": "2024-01-09T17:43:34.533893700Z"
    }
   },
   "outputs": [],
   "source": [
    "EMPL_COLS = ['empl_' + str(col) for col in vectorizer_empl.get_feature_names_out()]\n",
    "df_empl_parsed1 = pd.DataFrame(df_empl_parsed.toarray(), columns=EMPL_COLS, index=df.index)\n",
    "df = df.join(df_empl_parsed1)"
   ]
  },
  {
   "cell_type": "code",
   "execution_count": 73,
   "id": "e0c2cf72-ae6b-4892-85ac-397ae569deac",
   "metadata": {
    "ExecuteTime": {
     "end_time": "2024-01-09T17:43:35.902173700Z",
     "start_time": "2024-01-09T17:43:34.578115800Z"
    }
   },
   "outputs": [],
   "source": [
    "NAME_COLS = ['name_' + str(col) for col in vectorizer_name.get_feature_names_out()]\n",
    "df_name_parsed1 = pd.DataFrame(df_name_parsed.toarray(), columns=NAME_COLS, index=df.index)\n",
    "df = df.join(df_name_parsed1)"
   ]
  },
  {
   "cell_type": "code",
   "execution_count": 74,
   "id": "80262ea4e756bc58",
   "metadata": {
    "ExecuteTime": {
     "end_time": "2024-01-09T17:43:36.137182900Z",
     "start_time": "2024-01-09T17:43:34.765198200Z"
    },
    "collapsed": false,
    "jupyter": {
     "outputs_hidden": false
    }
   },
   "outputs": [
    {
     "name": "stdout",
     "output_type": "stream",
     "text": [
      "<class 'pandas.core.frame.DataFrame'>\n",
      "Index: 27934 entries, 29083 to 15795\n",
      "Columns: 627 entries, area_name_Other to name_юрист\n",
      "dtypes: bool(10), float32(612), float64(5)\n",
      "memory usage: 67.8 MB\n"
     ]
    }
   ],
   "source": [
    "df.info()"
   ]
  },
  {
   "cell_type": "markdown",
   "id": "2ec56b5f0d96bafc",
   "metadata": {
    "collapsed": false,
    "jupyter": {
     "outputs_hidden": false
    }
   },
   "source": [
    "Делим на train/test"
   ]
  },
  {
   "cell_type": "code",
   "execution_count": 129,
   "id": "0155bdd9-5dc2-4592-8991-539ce8c283c5",
   "metadata": {
    "ExecuteTime": {
     "end_time": "2024-01-09T19:54:26.856397900Z",
     "start_time": "2024-01-09T19:54:25.615602300Z"
    }
   },
   "outputs": [],
   "source": [
    "from sklearn.model_selection import train_test_split\n",
    "\n",
    "\n",
    "#df_sampled = df.sample(20_000)\n",
    "\n",
    "X_train, X_test, y_train, y_test = train_test_split(df.drop(columns='salary_to'), df.salary_to, test_size=0.3, random_state=123456)"
   ]
  },
  {
   "cell_type": "code",
   "execution_count": 76,
   "id": "ce3cdbaf-b6e5-44a5-bd9d-b58c9964c3d1",
   "metadata": {
    "ExecuteTime": {
     "end_time": "2024-01-09T17:43:36.655169700Z",
     "start_time": "2024-01-09T17:43:35.100172Z"
    }
   },
   "outputs": [],
   "source": [
    "def smape(A, F):\n",
    "    return 100/len(A) * np.sum(2 * np.abs(F - A) / (np.abs(A) + np.abs(F)))"
   ]
  },
  {
   "cell_type": "markdown",
   "id": "f2d49aebd10c5c81",
   "metadata": {
    "collapsed": false,
    "jupyter": {
     "outputs_hidden": false
    }
   },
   "source": [
    "<H2>Создаем первую модель: XGBoost с reg:gamma</H2>"
   ]
  },
  {
   "cell_type": "code",
   "execution_count": 150,
   "id": "d78eb886-9c99-4691-ab6b-b93e5591d7a3",
   "metadata": {
    "ExecuteTime": {
     "end_time": "2024-01-09T20:34:07.957039100Z",
     "start_time": "2024-01-09T20:33:46.027715300Z"
    }
   },
   "outputs": [
    {
     "name": "stdout",
     "output_type": "stream",
     "text": [
      "[0]\ttraining-gamma-nloglik:28456.65227\n",
      "[1]\ttraining-gamma-nloglik:21082.06538\n",
      "[2]\ttraining-gamma-nloglik:15618.91446\n",
      "[3]\ttraining-gamma-nloglik:11571.79135\n",
      "[4]\ttraining-gamma-nloglik:8573.68641\n",
      "[5]\ttraining-gamma-nloglik:6352.71342\n",
      "[6]\ttraining-gamma-nloglik:4707.45364\n",
      "[7]\ttraining-gamma-nloglik:3488.69282\n",
      "[8]\ttraining-gamma-nloglik:2585.89054\n",
      "[9]\ttraining-gamma-nloglik:1917.15573\n",
      "[10]\ttraining-gamma-nloglik:1421.82253\n",
      "[11]\ttraining-gamma-nloglik:1054.94838\n",
      "[12]\ttraining-gamma-nloglik:783.23877\n",
      "[13]\ttraining-gamma-nloglik:582.02893\n",
      "[14]\ttraining-gamma-nloglik:433.04655\n",
      "[15]\ttraining-gamma-nloglik:322.75507\n",
      "[16]\ttraining-gamma-nloglik:241.12638\n",
      "[17]\ttraining-gamma-nloglik:180.73139\n",
      "[18]\ttraining-gamma-nloglik:136.06647\n",
      "[19]\ttraining-gamma-nloglik:103.05431\n",
      "[20]\ttraining-gamma-nloglik:78.67425\n",
      "[21]\ttraining-gamma-nloglik:60.68834\n",
      "[22]\ttraining-gamma-nloglik:47.43846\n",
      "[23]\ttraining-gamma-nloglik:37.69600\n",
      "[24]\ttraining-gamma-nloglik:30.55056\n",
      "[25]\ttraining-gamma-nloglik:25.32710\n",
      "[26]\ttraining-gamma-nloglik:21.52509\n",
      "[27]\ttraining-gamma-nloglik:18.77310\n",
      "[28]\ttraining-gamma-nloglik:16.79500\n",
      "[29]\ttraining-gamma-nloglik:15.38603\n",
      "[30]\ttraining-gamma-nloglik:14.39328\n",
      "[31]\ttraining-gamma-nloglik:13.70287\n",
      "[32]\ttraining-gamma-nloglik:13.23005\n",
      "[33]\ttraining-gamma-nloglik:12.91173\n",
      "[34]\ttraining-gamma-nloglik:12.70161\n",
      "[35]\ttraining-gamma-nloglik:12.56377\n",
      "[36]\ttraining-gamma-nloglik:12.47751\n",
      "[37]\ttraining-gamma-nloglik:12.42339\n",
      "[38]\ttraining-gamma-nloglik:12.38947\n",
      "[39]\ttraining-gamma-nloglik:12.36935\n",
      "[40]\ttraining-gamma-nloglik:12.35687\n",
      "[41]\ttraining-gamma-nloglik:12.34806\n",
      "[42]\ttraining-gamma-nloglik:12.34222\n",
      "[43]\ttraining-gamma-nloglik:12.33863\n",
      "[44]\ttraining-gamma-nloglik:12.33542\n",
      "[45]\ttraining-gamma-nloglik:12.33345\n",
      "[46]\ttraining-gamma-nloglik:12.33117\n",
      "[47]\ttraining-gamma-nloglik:12.32939\n",
      "[48]\ttraining-gamma-nloglik:12.32741\n",
      "[49]\ttraining-gamma-nloglik:12.32608\n",
      "[50]\ttraining-gamma-nloglik:12.32504\n",
      "[51]\ttraining-gamma-nloglik:12.32356\n",
      "[52]\ttraining-gamma-nloglik:12.32241\n",
      "[53]\ttraining-gamma-nloglik:12.32176\n",
      "[54]\ttraining-gamma-nloglik:12.32033\n",
      "[55]\ttraining-gamma-nloglik:12.31971\n",
      "[56]\ttraining-gamma-nloglik:12.31905\n",
      "[57]\ttraining-gamma-nloglik:12.31837\n",
      "[58]\ttraining-gamma-nloglik:12.31756\n",
      "[59]\ttraining-gamma-nloglik:12.31704\n",
      "[60]\ttraining-gamma-nloglik:12.31636\n",
      "[61]\ttraining-gamma-nloglik:12.31577\n",
      "[62]\ttraining-gamma-nloglik:12.31510\n",
      "[63]\ttraining-gamma-nloglik:12.31437\n",
      "[64]\ttraining-gamma-nloglik:12.31386\n",
      "[65]\ttraining-gamma-nloglik:12.31318\n",
      "[66]\ttraining-gamma-nloglik:12.31273\n",
      "[67]\ttraining-gamma-nloglik:12.31207\n",
      "[68]\ttraining-gamma-nloglik:12.31156\n",
      "[69]\ttraining-gamma-nloglik:12.31107\n",
      "[70]\ttraining-gamma-nloglik:12.31072\n",
      "[71]\ttraining-gamma-nloglik:12.31026\n",
      "[72]\ttraining-gamma-nloglik:12.30990\n",
      "[73]\ttraining-gamma-nloglik:12.30960\n",
      "[74]\ttraining-gamma-nloglik:12.30915\n",
      "[75]\ttraining-gamma-nloglik:12.30860\n",
      "[76]\ttraining-gamma-nloglik:12.30815\n",
      "[77]\ttraining-gamma-nloglik:12.30770\n",
      "[78]\ttraining-gamma-nloglik:12.30750\n",
      "[79]\ttraining-gamma-nloglik:12.30717\n",
      "[80]\ttraining-gamma-nloglik:12.30665\n",
      "[81]\ttraining-gamma-nloglik:12.30624\n",
      "[82]\ttraining-gamma-nloglik:12.30591\n",
      "[83]\ttraining-gamma-nloglik:12.30562\n",
      "[84]\ttraining-gamma-nloglik:12.30514\n",
      "[85]\ttraining-gamma-nloglik:12.30497\n",
      "[86]\ttraining-gamma-nloglik:12.30419\n",
      "[87]\ttraining-gamma-nloglik:12.30385\n",
      "[88]\ttraining-gamma-nloglik:12.30324\n",
      "[89]\ttraining-gamma-nloglik:12.30300\n",
      "[90]\ttraining-gamma-nloglik:12.30260\n",
      "[91]\ttraining-gamma-nloglik:12.30243\n",
      "[92]\ttraining-gamma-nloglik:12.30224\n",
      "[93]\ttraining-gamma-nloglik:12.30205\n",
      "[94]\ttraining-gamma-nloglik:12.30182\n",
      "[95]\ttraining-gamma-nloglik:12.30169\n",
      "[96]\ttraining-gamma-nloglik:12.30142\n",
      "[97]\ttraining-gamma-nloglik:12.30117\n",
      "[98]\ttraining-gamma-nloglik:12.30066\n",
      "[99]\ttraining-gamma-nloglik:12.30048\n",
      "SMAPE train: 18.390460310527967, SMAPE test: 23.43266266822549\n",
      "CPU times: total: 1min 34s\n",
      "Wall time: 21.8 s\n"
     ]
    }
   ],
   "source": [
    "%%time\n",
    "from xgboost import XGBRegressor\n",
    "import xgboost as xgb\n",
    "from sklearn.metrics import mean_absolute_error, mean_squared_error, mean_absolute_percentage_error\n",
    "\n",
    "dtrain_reg = xgb.DMatrix(X_train, y_train)\n",
    "dtest_reg = xgb.DMatrix(X_test, y_test)\n",
    "\n",
    "params = {\n",
    "    'objective' : 'reg:gamma',\n",
    "    #'quantile_alpha' : 0.52,\n",
    "    #'huber_slope' : 512.0,\n",
    "    #'tweedie_variance_power' : 1.99,\n",
    "    #'verbosity' : 2,\n",
    "    #'eta' : 0.1,\n",
    "    #'subsample' : 0.5\n",
    "}\n",
    "\n",
    "n=100\n",
    "xg_model = xgb.train(\n",
    "    params=params,\n",
    "    dtrain=dtrain_reg,\n",
    "    evals=[(dtrain_reg, \"training\")],\n",
    "    num_boost_round=n,\n",
    ")\n",
    "\n",
    "#xg_model = XGBRegressor()\n",
    "#xg_model.fit(X_train, y_train)\n",
    "\n",
    "y_pred_train = xg_model.predict(dtrain_reg)\n",
    "y_pred_test = xg_model.predict(dtest_reg)\n",
    "\n",
    "print(f'SMAPE train: {smape(y_train, y_pred_train)}, SMAPE test: {smape(y_test, y_pred_test)}')"
   ]
  },
  {
   "cell_type": "code",
   "execution_count": 77,
   "id": "3356875838da27b6",
   "metadata": {
    "ExecuteTime": {
     "end_time": "2024-01-09T17:43:36.804174900Z",
     "start_time": "2024-01-09T17:43:35.109177900Z"
    },
    "collapsed": false,
    "jupyter": {
     "outputs_hidden": false
    }
   },
   "outputs": [],
   "source": [
    "from xgboost import XGBRegressor\n",
    "import xgboost as xgb\n",
    "\n",
    "xg_model1 = xgb.Booster()\n",
    "xg_model1.load_model(\"xg_model7.bin\")"
   ]
  },
  {
   "cell_type": "code",
   "execution_count": 78,
   "id": "9f2834326166408c",
   "metadata": {
    "ExecuteTime": {
     "end_time": "2024-01-09T17:43:40.371332800Z",
     "start_time": "2024-01-09T17:43:35.456168400Z"
    },
    "collapsed": false,
    "jupyter": {
     "outputs_hidden": false
    }
   },
   "outputs": [],
   "source": [
    "dtrain_reg = xgb.DMatrix(X_train, y_train)\n",
    "dtest_reg = xgb.DMatrix(X_test, y_test)"
   ]
  },
  {
   "cell_type": "code",
   "execution_count": 79,
   "id": "b73a5052a3fee740",
   "metadata": {
    "ExecuteTime": {
     "end_time": "2024-01-09T17:43:45.745268900Z",
     "start_time": "2024-01-09T17:43:40.344338100Z"
    },
    "collapsed": false,
    "jupyter": {
     "outputs_hidden": false
    }
   },
   "outputs": [
    {
     "name": "stdout",
     "output_type": "stream",
     "text": [
      "SMAPE train: 11.838376259296822, SMAPE test: 21.718753502096952\n"
     ]
    }
   ],
   "source": [
    "y_pred_train = xg_model1.predict(dtrain_reg)\n",
    "y_pred_test = xg_model1.predict(dtest_reg)\n",
    "\n",
    "print(f'SMAPE train: {smape(y_train, y_pred_train)}, SMAPE test: {smape(y_test, y_pred_test)}')"
   ]
  },
  {
   "cell_type": "code",
   "execution_count": 151,
   "id": "e9ffa6bbf3360822",
   "metadata": {
    "ExecuteTime": {
     "end_time": "2024-01-09T20:34:17.099195100Z",
     "start_time": "2024-01-09T20:34:16.798661100Z"
    },
    "collapsed": false,
    "jupyter": {
     "outputs_hidden": false
    }
   },
   "outputs": [],
   "source": [
    "params = {\n",
    "    #'objective' : 'reg:quantileerror',\n",
    "    #'quantile_alpha' : 0.5,\n",
    "    #'huber_slope' : 512.0,\n",
    "    #'tweedie_variance_power' : 1.99,\n",
    "    #'verbosity' : 2,\n",
    "    'process_type' : 'default',\n",
    "    #'eta' : 0.2,\n",
    "    #'subsample' : 0.5\n",
    "}"
   ]
  },
  {
   "cell_type": "code",
   "execution_count": 152,
   "id": "bc3a917f5b8caea6",
   "metadata": {
    "ExecuteTime": {
     "end_time": "2024-01-09T20:35:34.206856500Z",
     "start_time": "2024-01-09T20:34:17.239195Z"
    },
    "collapsed": false,
    "jupyter": {
     "outputs_hidden": false
    }
   },
   "outputs": [
    {
     "name": "stdout",
     "output_type": "stream",
     "text": [
      "[0]\ttraining-gamma-nloglik:12.30026\n",
      "[1]\ttraining-gamma-nloglik:12.29989\n",
      "[2]\ttraining-gamma-nloglik:12.29972\n",
      "[3]\ttraining-gamma-nloglik:12.29947\n",
      "[4]\ttraining-gamma-nloglik:12.29929\n",
      "[5]\ttraining-gamma-nloglik:12.29899\n",
      "[6]\ttraining-gamma-nloglik:12.29872\n",
      "[7]\ttraining-gamma-nloglik:12.29851\n",
      "[8]\ttraining-gamma-nloglik:12.29833\n",
      "[9]\ttraining-gamma-nloglik:12.29809\n",
      "[10]\ttraining-gamma-nloglik:12.29784\n",
      "[11]\ttraining-gamma-nloglik:12.29769\n",
      "[12]\ttraining-gamma-nloglik:12.29759\n",
      "[13]\ttraining-gamma-nloglik:12.29740\n",
      "[14]\ttraining-gamma-nloglik:12.29723\n",
      "[15]\ttraining-gamma-nloglik:12.29691\n",
      "[16]\ttraining-gamma-nloglik:12.29610\n",
      "[17]\ttraining-gamma-nloglik:12.29582\n",
      "[18]\ttraining-gamma-nloglik:12.29567\n",
      "[19]\ttraining-gamma-nloglik:12.29558\n",
      "[20]\ttraining-gamma-nloglik:12.29532\n",
      "[21]\ttraining-gamma-nloglik:12.29516\n",
      "[22]\ttraining-gamma-nloglik:12.29501\n",
      "[23]\ttraining-gamma-nloglik:12.29483\n",
      "[24]\ttraining-gamma-nloglik:12.29466\n",
      "[25]\ttraining-gamma-nloglik:12.29445\n",
      "[26]\ttraining-gamma-nloglik:12.29424\n",
      "[27]\ttraining-gamma-nloglik:12.29412\n",
      "[28]\ttraining-gamma-nloglik:12.29392\n",
      "[29]\ttraining-gamma-nloglik:12.29366\n",
      "[30]\ttraining-gamma-nloglik:12.29345\n",
      "[31]\ttraining-gamma-nloglik:12.29326\n",
      "[32]\ttraining-gamma-nloglik:12.29312\n",
      "[33]\ttraining-gamma-nloglik:12.29288\n",
      "[34]\ttraining-gamma-nloglik:12.29265\n",
      "[35]\ttraining-gamma-nloglik:12.29259\n",
      "[36]\ttraining-gamma-nloglik:12.29240\n",
      "[37]\ttraining-gamma-nloglik:12.29214\n",
      "[38]\ttraining-gamma-nloglik:12.29179\n",
      "[39]\ttraining-gamma-nloglik:12.29166\n",
      "[40]\ttraining-gamma-nloglik:12.29159\n",
      "[41]\ttraining-gamma-nloglik:12.29151\n",
      "[42]\ttraining-gamma-nloglik:12.29134\n",
      "[43]\ttraining-gamma-nloglik:12.29130\n",
      "[44]\ttraining-gamma-nloglik:12.29118\n",
      "[45]\ttraining-gamma-nloglik:12.29114\n",
      "[46]\ttraining-gamma-nloglik:12.29105\n",
      "[47]\ttraining-gamma-nloglik:12.29091\n",
      "[48]\ttraining-gamma-nloglik:12.29079\n",
      "[49]\ttraining-gamma-nloglik:12.29068\n",
      "[50]\ttraining-gamma-nloglik:12.29062\n",
      "[51]\ttraining-gamma-nloglik:12.29040\n",
      "[52]\ttraining-gamma-nloglik:12.29027\n",
      "[53]\ttraining-gamma-nloglik:12.29018\n",
      "[54]\ttraining-gamma-nloglik:12.28990\n",
      "[55]\ttraining-gamma-nloglik:12.28978\n",
      "[56]\ttraining-gamma-nloglik:12.28967\n",
      "[57]\ttraining-gamma-nloglik:12.28954\n",
      "[58]\ttraining-gamma-nloglik:12.28940\n",
      "[59]\ttraining-gamma-nloglik:12.28903\n",
      "[60]\ttraining-gamma-nloglik:12.28889\n",
      "[61]\ttraining-gamma-nloglik:12.28877\n",
      "[62]\ttraining-gamma-nloglik:12.28860\n",
      "[63]\ttraining-gamma-nloglik:12.28853\n",
      "[64]\ttraining-gamma-nloglik:12.28840\n",
      "[65]\ttraining-gamma-nloglik:12.28830\n",
      "[66]\ttraining-gamma-nloglik:12.28812\n",
      "[67]\ttraining-gamma-nloglik:12.28805\n",
      "[68]\ttraining-gamma-nloglik:12.28789\n",
      "[69]\ttraining-gamma-nloglik:12.28774\n",
      "[70]\ttraining-gamma-nloglik:12.28767\n",
      "[71]\ttraining-gamma-nloglik:12.28763\n",
      "[72]\ttraining-gamma-nloglik:12.28748\n",
      "[73]\ttraining-gamma-nloglik:12.28737\n",
      "[74]\ttraining-gamma-nloglik:12.28729\n",
      "[75]\ttraining-gamma-nloglik:12.28725\n",
      "[76]\ttraining-gamma-nloglik:12.28718\n",
      "[77]\ttraining-gamma-nloglik:12.28704\n",
      "[78]\ttraining-gamma-nloglik:12.28685\n",
      "[79]\ttraining-gamma-nloglik:12.28672\n",
      "[80]\ttraining-gamma-nloglik:12.28659\n",
      "[81]\ttraining-gamma-nloglik:12.28643\n",
      "[82]\ttraining-gamma-nloglik:12.28637\n",
      "[83]\ttraining-gamma-nloglik:12.28627\n",
      "[84]\ttraining-gamma-nloglik:12.28616\n",
      "[85]\ttraining-gamma-nloglik:12.28609\n",
      "[86]\ttraining-gamma-nloglik:12.28595\n",
      "[87]\ttraining-gamma-nloglik:12.28579\n",
      "[88]\ttraining-gamma-nloglik:12.28574\n",
      "[89]\ttraining-gamma-nloglik:12.28567\n",
      "[90]\ttraining-gamma-nloglik:12.28558\n",
      "[91]\ttraining-gamma-nloglik:12.28548\n",
      "[92]\ttraining-gamma-nloglik:12.28536\n",
      "[93]\ttraining-gamma-nloglik:12.28526\n",
      "[94]\ttraining-gamma-nloglik:12.28515\n",
      "[95]\ttraining-gamma-nloglik:12.28510\n",
      "[96]\ttraining-gamma-nloglik:12.28505\n",
      "[97]\ttraining-gamma-nloglik:12.28499\n",
      "[98]\ttraining-gamma-nloglik:12.28490\n",
      "[99]\ttraining-gamma-nloglik:12.28486\n",
      "[100]\ttraining-gamma-nloglik:12.28474\n",
      "[101]\ttraining-gamma-nloglik:12.28465\n",
      "[102]\ttraining-gamma-nloglik:12.28455\n",
      "[103]\ttraining-gamma-nloglik:12.28453\n",
      "[104]\ttraining-gamma-nloglik:12.28442\n",
      "[105]\ttraining-gamma-nloglik:12.28434\n",
      "[106]\ttraining-gamma-nloglik:12.28422\n",
      "[107]\ttraining-gamma-nloglik:12.28418\n",
      "[108]\ttraining-gamma-nloglik:12.28410\n",
      "[109]\ttraining-gamma-nloglik:12.28402\n",
      "[110]\ttraining-gamma-nloglik:12.28387\n",
      "[111]\ttraining-gamma-nloglik:12.28380\n",
      "[112]\ttraining-gamma-nloglik:12.28364\n",
      "[113]\ttraining-gamma-nloglik:12.28357\n",
      "[114]\ttraining-gamma-nloglik:12.28351\n",
      "[115]\ttraining-gamma-nloglik:12.28348\n",
      "[116]\ttraining-gamma-nloglik:12.28343\n",
      "[117]\ttraining-gamma-nloglik:12.28340\n",
      "[118]\ttraining-gamma-nloglik:12.28321\n",
      "[119]\ttraining-gamma-nloglik:12.28315\n",
      "[120]\ttraining-gamma-nloglik:12.28304\n",
      "[121]\ttraining-gamma-nloglik:12.28296\n",
      "[122]\ttraining-gamma-nloglik:12.28293\n",
      "[123]\ttraining-gamma-nloglik:12.28289\n",
      "[124]\ttraining-gamma-nloglik:12.28284\n",
      "[125]\ttraining-gamma-nloglik:12.28281\n",
      "[126]\ttraining-gamma-nloglik:12.28270\n",
      "[127]\ttraining-gamma-nloglik:12.28265\n",
      "[128]\ttraining-gamma-nloglik:12.28261\n",
      "[129]\ttraining-gamma-nloglik:12.28251\n",
      "[130]\ttraining-gamma-nloglik:12.28245\n",
      "[131]\ttraining-gamma-nloglik:12.28240\n",
      "[132]\ttraining-gamma-nloglik:12.28233\n",
      "[133]\ttraining-gamma-nloglik:12.28223\n",
      "[134]\ttraining-gamma-nloglik:12.28211\n",
      "[135]\ttraining-gamma-nloglik:12.28195\n",
      "[136]\ttraining-gamma-nloglik:12.28179\n",
      "[137]\ttraining-gamma-nloglik:12.28172\n",
      "[138]\ttraining-gamma-nloglik:12.28170\n",
      "[139]\ttraining-gamma-nloglik:12.28165\n",
      "[140]\ttraining-gamma-nloglik:12.28158\n",
      "[141]\ttraining-gamma-nloglik:12.28144\n",
      "[142]\ttraining-gamma-nloglik:12.28133\n",
      "[143]\ttraining-gamma-nloglik:12.28119\n",
      "[144]\ttraining-gamma-nloglik:12.28113\n",
      "[145]\ttraining-gamma-nloglik:12.28100\n",
      "[146]\ttraining-gamma-nloglik:12.28094\n",
      "[147]\ttraining-gamma-nloglik:12.28078\n",
      "[148]\ttraining-gamma-nloglik:12.28073\n",
      "[149]\ttraining-gamma-nloglik:12.28071\n",
      "[150]\ttraining-gamma-nloglik:12.28063\n",
      "[151]\ttraining-gamma-nloglik:12.28051\n",
      "[152]\ttraining-gamma-nloglik:12.28048\n",
      "[153]\ttraining-gamma-nloglik:12.28033\n",
      "[154]\ttraining-gamma-nloglik:12.28025\n",
      "[155]\ttraining-gamma-nloglik:12.28015\n",
      "[156]\ttraining-gamma-nloglik:12.28002\n",
      "[157]\ttraining-gamma-nloglik:12.27992\n",
      "[158]\ttraining-gamma-nloglik:12.27987\n",
      "[159]\ttraining-gamma-nloglik:12.27974\n",
      "[160]\ttraining-gamma-nloglik:12.27971\n",
      "[161]\ttraining-gamma-nloglik:12.27966\n",
      "[162]\ttraining-gamma-nloglik:12.27958\n",
      "[163]\ttraining-gamma-nloglik:12.27950\n",
      "[164]\ttraining-gamma-nloglik:12.27944\n",
      "[165]\ttraining-gamma-nloglik:12.27931\n",
      "[166]\ttraining-gamma-nloglik:12.27920\n",
      "[167]\ttraining-gamma-nloglik:12.27911\n",
      "[168]\ttraining-gamma-nloglik:12.27906\n",
      "[169]\ttraining-gamma-nloglik:12.27902\n",
      "[170]\ttraining-gamma-nloglik:12.27896\n",
      "[171]\ttraining-gamma-nloglik:12.27883\n",
      "[172]\ttraining-gamma-nloglik:12.27869\n",
      "[173]\ttraining-gamma-nloglik:12.27864\n",
      "[174]\ttraining-gamma-nloglik:12.27861\n",
      "[175]\ttraining-gamma-nloglik:12.27852\n",
      "[176]\ttraining-gamma-nloglik:12.27848\n",
      "[177]\ttraining-gamma-nloglik:12.27841\n",
      "[178]\ttraining-gamma-nloglik:12.27835\n",
      "[179]\ttraining-gamma-nloglik:12.27833\n",
      "[180]\ttraining-gamma-nloglik:12.27828\n",
      "[181]\ttraining-gamma-nloglik:12.27825\n",
      "[182]\ttraining-gamma-nloglik:12.27820\n",
      "[183]\ttraining-gamma-nloglik:12.27818\n",
      "[184]\ttraining-gamma-nloglik:12.27814\n",
      "[185]\ttraining-gamma-nloglik:12.27810\n",
      "[186]\ttraining-gamma-nloglik:12.27803\n",
      "[187]\ttraining-gamma-nloglik:12.27797\n",
      "[188]\ttraining-gamma-nloglik:12.27789\n",
      "[189]\ttraining-gamma-nloglik:12.27781\n",
      "[190]\ttraining-gamma-nloglik:12.27777\n",
      "[191]\ttraining-gamma-nloglik:12.27773\n",
      "[192]\ttraining-gamma-nloglik:12.27770\n",
      "[193]\ttraining-gamma-nloglik:12.27767\n",
      "[194]\ttraining-gamma-nloglik:12.27761\n",
      "[195]\ttraining-gamma-nloglik:12.27756\n",
      "[196]\ttraining-gamma-nloglik:12.27749\n",
      "[197]\ttraining-gamma-nloglik:12.27743\n",
      "[198]\ttraining-gamma-nloglik:12.27738\n",
      "[199]\ttraining-gamma-nloglik:12.27731\n",
      "[200]\ttraining-gamma-nloglik:12.27730\n",
      "[201]\ttraining-gamma-nloglik:12.27725\n",
      "[202]\ttraining-gamma-nloglik:12.27715\n",
      "[203]\ttraining-gamma-nloglik:12.27709\n",
      "[204]\ttraining-gamma-nloglik:12.27704\n",
      "[205]\ttraining-gamma-nloglik:12.27694\n",
      "[206]\ttraining-gamma-nloglik:12.27685\n",
      "[207]\ttraining-gamma-nloglik:12.27678\n",
      "[208]\ttraining-gamma-nloglik:12.27672\n",
      "[209]\ttraining-gamma-nloglik:12.27664\n",
      "[210]\ttraining-gamma-nloglik:12.27662\n",
      "[211]\ttraining-gamma-nloglik:12.27656\n",
      "[212]\ttraining-gamma-nloglik:12.27652\n",
      "[213]\ttraining-gamma-nloglik:12.27648\n",
      "[214]\ttraining-gamma-nloglik:12.27646\n",
      "[215]\ttraining-gamma-nloglik:12.27642\n",
      "[216]\ttraining-gamma-nloglik:12.27635\n",
      "[217]\ttraining-gamma-nloglik:12.27633\n",
      "[218]\ttraining-gamma-nloglik:12.27624\n",
      "[219]\ttraining-gamma-nloglik:12.27609\n",
      "[220]\ttraining-gamma-nloglik:12.27602\n",
      "[221]\ttraining-gamma-nloglik:12.27593\n",
      "[222]\ttraining-gamma-nloglik:12.27588\n",
      "[223]\ttraining-gamma-nloglik:12.27583\n",
      "[224]\ttraining-gamma-nloglik:12.27574\n",
      "[225]\ttraining-gamma-nloglik:12.27568\n",
      "[226]\ttraining-gamma-nloglik:12.27565\n",
      "[227]\ttraining-gamma-nloglik:12.27562\n",
      "[228]\ttraining-gamma-nloglik:12.27557\n",
      "[229]\ttraining-gamma-nloglik:12.27547\n",
      "[230]\ttraining-gamma-nloglik:12.27543\n",
      "[231]\ttraining-gamma-nloglik:12.27539\n",
      "[232]\ttraining-gamma-nloglik:12.27530\n",
      "[233]\ttraining-gamma-nloglik:12.27525\n",
      "[234]\ttraining-gamma-nloglik:12.27516\n",
      "[235]\ttraining-gamma-nloglik:12.27511\n",
      "[236]\ttraining-gamma-nloglik:12.27504\n",
      "[237]\ttraining-gamma-nloglik:12.27502\n",
      "[238]\ttraining-gamma-nloglik:12.27500\n",
      "[239]\ttraining-gamma-nloglik:12.27498\n",
      "[240]\ttraining-gamma-nloglik:12.27497\n",
      "[241]\ttraining-gamma-nloglik:12.27487\n",
      "[242]\ttraining-gamma-nloglik:12.27483\n",
      "[243]\ttraining-gamma-nloglik:12.27479\n",
      "[244]\ttraining-gamma-nloglik:12.27474\n",
      "[245]\ttraining-gamma-nloglik:12.27469\n",
      "[246]\ttraining-gamma-nloglik:12.27465\n",
      "[247]\ttraining-gamma-nloglik:12.27463\n",
      "[248]\ttraining-gamma-nloglik:12.27461\n",
      "[249]\ttraining-gamma-nloglik:12.27459\n",
      "[250]\ttraining-gamma-nloglik:12.27455\n",
      "[251]\ttraining-gamma-nloglik:12.27448\n",
      "[252]\ttraining-gamma-nloglik:12.27445\n",
      "[253]\ttraining-gamma-nloglik:12.27441\n",
      "[254]\ttraining-gamma-nloglik:12.27439\n",
      "[255]\ttraining-gamma-nloglik:12.27436\n",
      "[256]\ttraining-gamma-nloglik:12.27432\n",
      "[257]\ttraining-gamma-nloglik:12.27424\n",
      "[258]\ttraining-gamma-nloglik:12.27420\n",
      "[259]\ttraining-gamma-nloglik:12.27414\n",
      "[260]\ttraining-gamma-nloglik:12.27412\n",
      "[261]\ttraining-gamma-nloglik:12.27407\n",
      "[262]\ttraining-gamma-nloglik:12.27398\n",
      "[263]\ttraining-gamma-nloglik:12.27395\n",
      "[264]\ttraining-gamma-nloglik:12.27392\n",
      "[265]\ttraining-gamma-nloglik:12.27390\n",
      "[266]\ttraining-gamma-nloglik:12.27386\n",
      "[267]\ttraining-gamma-nloglik:12.27381\n",
      "[268]\ttraining-gamma-nloglik:12.27374\n",
      "[269]\ttraining-gamma-nloglik:12.27369\n",
      "[270]\ttraining-gamma-nloglik:12.27366\n",
      "[271]\ttraining-gamma-nloglik:12.27364\n",
      "[272]\ttraining-gamma-nloglik:12.27361\n",
      "[273]\ttraining-gamma-nloglik:12.27356\n",
      "[274]\ttraining-gamma-nloglik:12.27354\n",
      "[275]\ttraining-gamma-nloglik:12.27350\n",
      "[276]\ttraining-gamma-nloglik:12.27345\n",
      "[277]\ttraining-gamma-nloglik:12.27341\n",
      "[278]\ttraining-gamma-nloglik:12.27333\n",
      "[279]\ttraining-gamma-nloglik:12.27333\n",
      "[280]\ttraining-gamma-nloglik:12.27331\n",
      "[281]\ttraining-gamma-nloglik:12.27328\n",
      "[282]\ttraining-gamma-nloglik:12.27325\n",
      "[283]\ttraining-gamma-nloglik:12.27323\n",
      "[284]\ttraining-gamma-nloglik:12.27321\n",
      "[285]\ttraining-gamma-nloglik:12.27314\n",
      "[286]\ttraining-gamma-nloglik:12.27312\n",
      "[287]\ttraining-gamma-nloglik:12.27308\n",
      "[288]\ttraining-gamma-nloglik:12.27303\n",
      "[289]\ttraining-gamma-nloglik:12.27298\n",
      "[290]\ttraining-gamma-nloglik:12.27294\n",
      "[291]\ttraining-gamma-nloglik:12.27288\n",
      "[292]\ttraining-gamma-nloglik:12.27282\n",
      "[293]\ttraining-gamma-nloglik:12.27277\n",
      "[294]\ttraining-gamma-nloglik:12.27274\n",
      "[295]\ttraining-gamma-nloglik:12.27272\n",
      "[296]\ttraining-gamma-nloglik:12.27268\n",
      "[297]\ttraining-gamma-nloglik:12.27266\n",
      "[298]\ttraining-gamma-nloglik:12.27264\n",
      "[299]\ttraining-gamma-nloglik:12.27262\n",
      "[300]\ttraining-gamma-nloglik:12.27258\n",
      "[301]\ttraining-gamma-nloglik:12.27255\n",
      "[302]\ttraining-gamma-nloglik:12.27251\n",
      "[303]\ttraining-gamma-nloglik:12.27250\n",
      "[304]\ttraining-gamma-nloglik:12.27246\n",
      "[305]\ttraining-gamma-nloglik:12.27243\n",
      "[306]\ttraining-gamma-nloglik:12.27240\n",
      "[307]\ttraining-gamma-nloglik:12.27238\n",
      "[308]\ttraining-gamma-nloglik:12.27237\n",
      "[309]\ttraining-gamma-nloglik:12.27235\n",
      "[310]\ttraining-gamma-nloglik:12.27234\n",
      "[311]\ttraining-gamma-nloglik:12.27231\n",
      "[312]\ttraining-gamma-nloglik:12.27226\n",
      "[313]\ttraining-gamma-nloglik:12.27225\n",
      "[314]\ttraining-gamma-nloglik:12.27223\n",
      "[315]\ttraining-gamma-nloglik:12.27222\n",
      "[316]\ttraining-gamma-nloglik:12.27220\n",
      "[317]\ttraining-gamma-nloglik:12.27216\n",
      "[318]\ttraining-gamma-nloglik:12.27213\n",
      "[319]\ttraining-gamma-nloglik:12.27207\n",
      "[320]\ttraining-gamma-nloglik:12.27200\n",
      "[321]\ttraining-gamma-nloglik:12.27197\n",
      "[322]\ttraining-gamma-nloglik:12.27195\n",
      "[323]\ttraining-gamma-nloglik:12.27194\n",
      "[324]\ttraining-gamma-nloglik:12.27192\n",
      "[325]\ttraining-gamma-nloglik:12.27190\n",
      "[326]\ttraining-gamma-nloglik:12.27187\n",
      "[327]\ttraining-gamma-nloglik:12.27185\n",
      "[328]\ttraining-gamma-nloglik:12.27182\n",
      "[329]\ttraining-gamma-nloglik:12.27179\n",
      "[330]\ttraining-gamma-nloglik:12.27177\n",
      "[331]\ttraining-gamma-nloglik:12.27176\n",
      "[332]\ttraining-gamma-nloglik:12.27171\n",
      "[333]\ttraining-gamma-nloglik:12.27168\n",
      "[334]\ttraining-gamma-nloglik:12.27167\n",
      "[335]\ttraining-gamma-nloglik:12.27164\n",
      "[336]\ttraining-gamma-nloglik:12.27163\n",
      "[337]\ttraining-gamma-nloglik:12.27162\n",
      "[338]\ttraining-gamma-nloglik:12.27159\n",
      "[339]\ttraining-gamma-nloglik:12.27156\n",
      "[340]\ttraining-gamma-nloglik:12.27154\n",
      "[341]\ttraining-gamma-nloglik:12.27152\n",
      "[342]\ttraining-gamma-nloglik:12.27151\n",
      "[343]\ttraining-gamma-nloglik:12.27149\n",
      "[344]\ttraining-gamma-nloglik:12.27148\n",
      "[345]\ttraining-gamma-nloglik:12.27144\n",
      "[346]\ttraining-gamma-nloglik:12.27143\n",
      "[347]\ttraining-gamma-nloglik:12.27139\n",
      "[348]\ttraining-gamma-nloglik:12.27136\n",
      "[349]\ttraining-gamma-nloglik:12.27134\n",
      "[350]\ttraining-gamma-nloglik:12.27133\n",
      "[351]\ttraining-gamma-nloglik:12.27130\n",
      "[352]\ttraining-gamma-nloglik:12.27128\n",
      "[353]\ttraining-gamma-nloglik:12.27125\n",
      "[354]\ttraining-gamma-nloglik:12.27124\n",
      "[355]\ttraining-gamma-nloglik:12.27122\n",
      "[356]\ttraining-gamma-nloglik:12.27120\n",
      "[357]\ttraining-gamma-nloglik:12.27115\n",
      "[358]\ttraining-gamma-nloglik:12.27112\n",
      "[359]\ttraining-gamma-nloglik:12.27110\n",
      "[360]\ttraining-gamma-nloglik:12.27107\n",
      "[361]\ttraining-gamma-nloglik:12.27104\n",
      "[362]\ttraining-gamma-nloglik:12.27101\n",
      "[363]\ttraining-gamma-nloglik:12.27099\n",
      "[364]\ttraining-gamma-nloglik:12.27096\n",
      "[365]\ttraining-gamma-nloglik:12.27094\n",
      "[366]\ttraining-gamma-nloglik:12.27093\n",
      "[367]\ttraining-gamma-nloglik:12.27092\n",
      "[368]\ttraining-gamma-nloglik:12.27090\n",
      "[369]\ttraining-gamma-nloglik:12.27086\n",
      "[370]\ttraining-gamma-nloglik:12.27083\n",
      "[371]\ttraining-gamma-nloglik:12.27082\n",
      "[372]\ttraining-gamma-nloglik:12.27078\n",
      "[373]\ttraining-gamma-nloglik:12.27074\n",
      "[374]\ttraining-gamma-nloglik:12.27073\n",
      "[375]\ttraining-gamma-nloglik:12.27071\n",
      "[376]\ttraining-gamma-nloglik:12.27070\n",
      "[377]\ttraining-gamma-nloglik:12.27066\n",
      "[378]\ttraining-gamma-nloglik:12.27065\n",
      "[379]\ttraining-gamma-nloglik:12.27062\n",
      "[380]\ttraining-gamma-nloglik:12.27060\n",
      "[381]\ttraining-gamma-nloglik:12.27059\n",
      "[382]\ttraining-gamma-nloglik:12.27058\n",
      "[383]\ttraining-gamma-nloglik:12.27056\n",
      "[384]\ttraining-gamma-nloglik:12.27052\n",
      "[385]\ttraining-gamma-nloglik:12.27050\n",
      "[386]\ttraining-gamma-nloglik:12.27048\n",
      "[387]\ttraining-gamma-nloglik:12.27045\n",
      "[388]\ttraining-gamma-nloglik:12.27043\n",
      "[389]\ttraining-gamma-nloglik:12.27040\n",
      "[390]\ttraining-gamma-nloglik:12.27038\n",
      "[391]\ttraining-gamma-nloglik:12.27034\n",
      "[392]\ttraining-gamma-nloglik:12.27031\n",
      "[393]\ttraining-gamma-nloglik:12.27029\n",
      "[394]\ttraining-gamma-nloglik:12.27028\n",
      "[395]\ttraining-gamma-nloglik:12.27027\n",
      "[396]\ttraining-gamma-nloglik:12.27025\n",
      "[397]\ttraining-gamma-nloglik:12.27021\n",
      "[398]\ttraining-gamma-nloglik:12.27019\n",
      "[399]\ttraining-gamma-nloglik:12.27015\n",
      "[400]\ttraining-gamma-nloglik:12.27012\n",
      "[401]\ttraining-gamma-nloglik:12.27010\n",
      "[402]\ttraining-gamma-nloglik:12.27010\n",
      "[403]\ttraining-gamma-nloglik:12.27009\n",
      "[404]\ttraining-gamma-nloglik:12.27008\n",
      "[405]\ttraining-gamma-nloglik:12.27006\n",
      "[406]\ttraining-gamma-nloglik:12.27004\n",
      "[407]\ttraining-gamma-nloglik:12.27001\n",
      "[408]\ttraining-gamma-nloglik:12.27000\n",
      "[409]\ttraining-gamma-nloglik:12.26997\n",
      "[410]\ttraining-gamma-nloglik:12.26996\n",
      "[411]\ttraining-gamma-nloglik:12.26994\n",
      "[412]\ttraining-gamma-nloglik:12.26992\n",
      "[413]\ttraining-gamma-nloglik:12.26991\n",
      "[414]\ttraining-gamma-nloglik:12.26989\n",
      "[415]\ttraining-gamma-nloglik:12.26988\n",
      "[416]\ttraining-gamma-nloglik:12.26985\n",
      "[417]\ttraining-gamma-nloglik:12.26982\n",
      "[418]\ttraining-gamma-nloglik:12.26981\n",
      "[419]\ttraining-gamma-nloglik:12.26978\n",
      "[420]\ttraining-gamma-nloglik:12.26975\n",
      "[421]\ttraining-gamma-nloglik:12.26973\n",
      "[422]\ttraining-gamma-nloglik:12.26971\n",
      "[423]\ttraining-gamma-nloglik:12.26968\n",
      "[424]\ttraining-gamma-nloglik:12.26966\n",
      "[425]\ttraining-gamma-nloglik:12.26965\n",
      "[426]\ttraining-gamma-nloglik:12.26964\n",
      "[427]\ttraining-gamma-nloglik:12.26962\n",
      "[428]\ttraining-gamma-nloglik:12.26960\n",
      "[429]\ttraining-gamma-nloglik:12.26959\n",
      "[430]\ttraining-gamma-nloglik:12.26956\n",
      "[431]\ttraining-gamma-nloglik:12.26954\n",
      "[432]\ttraining-gamma-nloglik:12.26952\n",
      "[433]\ttraining-gamma-nloglik:12.26951\n",
      "[434]\ttraining-gamma-nloglik:12.26950\n",
      "[435]\ttraining-gamma-nloglik:12.26948\n",
      "[436]\ttraining-gamma-nloglik:12.26947\n",
      "[437]\ttraining-gamma-nloglik:12.26944\n",
      "[438]\ttraining-gamma-nloglik:12.26942\n",
      "[439]\ttraining-gamma-nloglik:12.26940\n",
      "[440]\ttraining-gamma-nloglik:12.26939\n",
      "[441]\ttraining-gamma-nloglik:12.26938\n",
      "[442]\ttraining-gamma-nloglik:12.26937\n",
      "[443]\ttraining-gamma-nloglik:12.26936\n",
      "[444]\ttraining-gamma-nloglik:12.26935\n",
      "[445]\ttraining-gamma-nloglik:12.26934\n",
      "[446]\ttraining-gamma-nloglik:12.26933\n",
      "[447]\ttraining-gamma-nloglik:12.26931\n",
      "[448]\ttraining-gamma-nloglik:12.26930\n",
      "[449]\ttraining-gamma-nloglik:12.26929\n",
      "[450]\ttraining-gamma-nloglik:12.26926\n",
      "[451]\ttraining-gamma-nloglik:12.26925\n",
      "[452]\ttraining-gamma-nloglik:12.26923\n",
      "[453]\ttraining-gamma-nloglik:12.26919\n",
      "[454]\ttraining-gamma-nloglik:12.26918\n",
      "[455]\ttraining-gamma-nloglik:12.26916\n",
      "[456]\ttraining-gamma-nloglik:12.26914\n",
      "[457]\ttraining-gamma-nloglik:12.26912\n",
      "[458]\ttraining-gamma-nloglik:12.26910\n",
      "[459]\ttraining-gamma-nloglik:12.26909\n",
      "[460]\ttraining-gamma-nloglik:12.26908\n",
      "[461]\ttraining-gamma-nloglik:12.26907\n",
      "[462]\ttraining-gamma-nloglik:12.26906\n",
      "[463]\ttraining-gamma-nloglik:12.26906\n",
      "[464]\ttraining-gamma-nloglik:12.26905\n",
      "[465]\ttraining-gamma-nloglik:12.26903\n",
      "[466]\ttraining-gamma-nloglik:12.26902\n",
      "[467]\ttraining-gamma-nloglik:12.26902\n",
      "[468]\ttraining-gamma-nloglik:12.26900\n",
      "[469]\ttraining-gamma-nloglik:12.26899\n",
      "[470]\ttraining-gamma-nloglik:12.26898\n",
      "[471]\ttraining-gamma-nloglik:12.26898\n",
      "[472]\ttraining-gamma-nloglik:12.26897\n",
      "[473]\ttraining-gamma-nloglik:12.26896\n",
      "[474]\ttraining-gamma-nloglik:12.26895\n",
      "[475]\ttraining-gamma-nloglik:12.26894\n",
      "[476]\ttraining-gamma-nloglik:12.26894\n",
      "[477]\ttraining-gamma-nloglik:12.26892\n",
      "[478]\ttraining-gamma-nloglik:12.26889\n",
      "[479]\ttraining-gamma-nloglik:12.26888\n",
      "[480]\ttraining-gamma-nloglik:12.26886\n",
      "[481]\ttraining-gamma-nloglik:12.26885\n",
      "[482]\ttraining-gamma-nloglik:12.26885\n",
      "[483]\ttraining-gamma-nloglik:12.26883\n",
      "[484]\ttraining-gamma-nloglik:12.26882\n",
      "[485]\ttraining-gamma-nloglik:12.26881\n",
      "[486]\ttraining-gamma-nloglik:12.26879\n",
      "[487]\ttraining-gamma-nloglik:12.26877\n",
      "[488]\ttraining-gamma-nloglik:12.26875\n",
      "[489]\ttraining-gamma-nloglik:12.26874\n",
      "[490]\ttraining-gamma-nloglik:12.26872\n",
      "[491]\ttraining-gamma-nloglik:12.26871\n",
      "[492]\ttraining-gamma-nloglik:12.26868\n",
      "[493]\ttraining-gamma-nloglik:12.26867\n",
      "[494]\ttraining-gamma-nloglik:12.26866\n",
      "[495]\ttraining-gamma-nloglik:12.26864\n",
      "[496]\ttraining-gamma-nloglik:12.26862\n",
      "[497]\ttraining-gamma-nloglik:12.26859\n",
      "[498]\ttraining-gamma-nloglik:12.26858\n",
      "[499]\ttraining-gamma-nloglik:12.26856\n",
      "[500]\ttraining-gamma-nloglik:12.26853\n",
      "[501]\ttraining-gamma-nloglik:12.26853\n",
      "[502]\ttraining-gamma-nloglik:12.26852\n",
      "[503]\ttraining-gamma-nloglik:12.26851\n",
      "[504]\ttraining-gamma-nloglik:12.26850\n",
      "[505]\ttraining-gamma-nloglik:12.26849\n",
      "[506]\ttraining-gamma-nloglik:12.26848\n",
      "[507]\ttraining-gamma-nloglik:12.26845\n",
      "[508]\ttraining-gamma-nloglik:12.26845\n",
      "[509]\ttraining-gamma-nloglik:12.26844\n",
      "[510]\ttraining-gamma-nloglik:12.26843\n",
      "[511]\ttraining-gamma-nloglik:12.26841\n",
      "[512]\ttraining-gamma-nloglik:12.26840\n",
      "[513]\ttraining-gamma-nloglik:12.26840\n",
      "[514]\ttraining-gamma-nloglik:12.26839\n",
      "[515]\ttraining-gamma-nloglik:12.26838\n",
      "[516]\ttraining-gamma-nloglik:12.26837\n",
      "[517]\ttraining-gamma-nloglik:12.26836\n",
      "[518]\ttraining-gamma-nloglik:12.26836\n",
      "[519]\ttraining-gamma-nloglik:12.26834\n",
      "[520]\ttraining-gamma-nloglik:12.26833\n",
      "[521]\ttraining-gamma-nloglik:12.26831\n",
      "[522]\ttraining-gamma-nloglik:12.26829\n",
      "[523]\ttraining-gamma-nloglik:12.26827\n",
      "[524]\ttraining-gamma-nloglik:12.26825\n",
      "[525]\ttraining-gamma-nloglik:12.26824\n",
      "[526]\ttraining-gamma-nloglik:12.26823\n",
      "[527]\ttraining-gamma-nloglik:12.26822\n",
      "[528]\ttraining-gamma-nloglik:12.26822\n",
      "[529]\ttraining-gamma-nloglik:12.26820\n",
      "[530]\ttraining-gamma-nloglik:12.26818\n",
      "[531]\ttraining-gamma-nloglik:12.26818\n",
      "[532]\ttraining-gamma-nloglik:12.26816\n",
      "[533]\ttraining-gamma-nloglik:12.26816\n",
      "[534]\ttraining-gamma-nloglik:12.26814\n",
      "[535]\ttraining-gamma-nloglik:12.26812\n",
      "[536]\ttraining-gamma-nloglik:12.26812\n",
      "[537]\ttraining-gamma-nloglik:12.26811\n",
      "[538]\ttraining-gamma-nloglik:12.26810\n",
      "[539]\ttraining-gamma-nloglik:12.26810\n",
      "[540]\ttraining-gamma-nloglik:12.26808\n",
      "[541]\ttraining-gamma-nloglik:12.26807\n",
      "[542]\ttraining-gamma-nloglik:12.26807\n",
      "[543]\ttraining-gamma-nloglik:12.26805\n",
      "[544]\ttraining-gamma-nloglik:12.26804\n",
      "[545]\ttraining-gamma-nloglik:12.26802\n",
      "[546]\ttraining-gamma-nloglik:12.26800\n",
      "[547]\ttraining-gamma-nloglik:12.26799\n",
      "[548]\ttraining-gamma-nloglik:12.26797\n",
      "[549]\ttraining-gamma-nloglik:12.26796\n",
      "[550]\ttraining-gamma-nloglik:12.26796\n",
      "[551]\ttraining-gamma-nloglik:12.26795\n",
      "[552]\ttraining-gamma-nloglik:12.26795\n",
      "[553]\ttraining-gamma-nloglik:12.26794\n",
      "[554]\ttraining-gamma-nloglik:12.26792\n",
      "[555]\ttraining-gamma-nloglik:12.26790\n",
      "[556]\ttraining-gamma-nloglik:12.26789\n",
      "[557]\ttraining-gamma-nloglik:12.26788\n",
      "[558]\ttraining-gamma-nloglik:12.26787\n",
      "[559]\ttraining-gamma-nloglik:12.26786\n",
      "[560]\ttraining-gamma-nloglik:12.26785\n",
      "[561]\ttraining-gamma-nloglik:12.26785\n",
      "[562]\ttraining-gamma-nloglik:12.26784\n",
      "[563]\ttraining-gamma-nloglik:12.26783\n",
      "[564]\ttraining-gamma-nloglik:12.26783\n",
      "[565]\ttraining-gamma-nloglik:12.26781\n",
      "[566]\ttraining-gamma-nloglik:12.26781\n",
      "[567]\ttraining-gamma-nloglik:12.26780\n",
      "[568]\ttraining-gamma-nloglik:12.26779\n",
      "[569]\ttraining-gamma-nloglik:12.26779\n",
      "[570]\ttraining-gamma-nloglik:12.26777\n",
      "[571]\ttraining-gamma-nloglik:12.26777\n",
      "[572]\ttraining-gamma-nloglik:12.26776\n",
      "[573]\ttraining-gamma-nloglik:12.26776\n",
      "[574]\ttraining-gamma-nloglik:12.26775\n",
      "[575]\ttraining-gamma-nloglik:12.26775\n",
      "[576]\ttraining-gamma-nloglik:12.26774\n",
      "[577]\ttraining-gamma-nloglik:12.26774\n",
      "[578]\ttraining-gamma-nloglik:12.26773\n",
      "[579]\ttraining-gamma-nloglik:12.26771\n",
      "[580]\ttraining-gamma-nloglik:12.26771\n",
      "[581]\ttraining-gamma-nloglik:12.26769\n",
      "[582]\ttraining-gamma-nloglik:12.26767\n",
      "[583]\ttraining-gamma-nloglik:12.26766\n",
      "[584]\ttraining-gamma-nloglik:12.26766\n",
      "[585]\ttraining-gamma-nloglik:12.26764\n",
      "[586]\ttraining-gamma-nloglik:12.26763\n",
      "[587]\ttraining-gamma-nloglik:12.26763\n",
      "[588]\ttraining-gamma-nloglik:12.26762\n",
      "[589]\ttraining-gamma-nloglik:12.26760\n",
      "[590]\ttraining-gamma-nloglik:12.26759\n",
      "[591]\ttraining-gamma-nloglik:12.26758\n",
      "[592]\ttraining-gamma-nloglik:12.26756\n",
      "[593]\ttraining-gamma-nloglik:12.26755\n",
      "[594]\ttraining-gamma-nloglik:12.26755\n",
      "[595]\ttraining-gamma-nloglik:12.26754\n",
      "[596]\ttraining-gamma-nloglik:12.26754\n",
      "[597]\ttraining-gamma-nloglik:12.26753\n",
      "[598]\ttraining-gamma-nloglik:12.26752\n",
      "[599]\ttraining-gamma-nloglik:12.26752\n",
      "SMAPE train: 5.1778705223998545, SMAPE test: 21.544882865037998\n"
     ]
    }
   ],
   "source": [
    "n=600\n",
    "xg_model1 = xgb.train(\n",
    "    params=params,\n",
    "    dtrain=dtrain_reg,\n",
    "    num_boost_round=n,\n",
    "    evals=[(dtrain_reg, \"training\")],\n",
    "    xgb_model = xg_model\n",
    ")\n",
    "\n",
    "y_pred_train = xg_model1.predict(dtrain_reg)\n",
    "y_pred_test = xg_model1.predict(dtest_reg)\n",
    "\n",
    "print(f'SMAPE train: {smape(y_train, y_pred_train)}, SMAPE test: {smape(y_test, y_pred_test)}')"
   ]
  },
  {
   "cell_type": "code",
   "execution_count": 104,
   "id": "80b1720ae3082d6e",
   "metadata": {
    "ExecuteTime": {
     "end_time": "2024-01-09T18:16:05.932032400Z",
     "start_time": "2024-01-09T18:16:05.794570Z"
    },
    "collapsed": false,
    "jupyter": {
     "outputs_hidden": false
    }
   },
   "outputs": [],
   "source": [
    "params = {\n",
    "    #'objective' : 'reg:quantileerror',\n",
    "    #'quantile_alpha' : 0.5,\n",
    "    #'huber_slope' : 512.0,\n",
    "    #'tweedie_variance_power' : 1.99,\n",
    "    #'verbosity' : 2,\n",
    "    'process_type' : 'default',\n",
    "    #'eta' : 0.2,\n",
    "    #'subsample' : 0.5\n",
    "}"
   ]
  },
  {
   "cell_type": "code",
   "execution_count": 153,
   "id": "5130d29a97c21118",
   "metadata": {
    "ExecuteTime": {
     "end_time": "2024-01-09T20:36:58.568451500Z",
     "start_time": "2024-01-09T20:35:51.883464800Z"
    },
    "collapsed": false,
    "jupyter": {
     "outputs_hidden": false
    }
   },
   "outputs": [
    {
     "name": "stdout",
     "output_type": "stream",
     "text": [
      "[0]\ttraining-gamma-nloglik:12.26751\n",
      "[1]\ttraining-gamma-nloglik:12.26750\n",
      "[2]\ttraining-gamma-nloglik:12.26747\n",
      "[3]\ttraining-gamma-nloglik:12.26747\n",
      "[4]\ttraining-gamma-nloglik:12.26747\n",
      "[5]\ttraining-gamma-nloglik:12.26746\n",
      "[6]\ttraining-gamma-nloglik:12.26746\n",
      "[7]\ttraining-gamma-nloglik:12.26746\n",
      "[8]\ttraining-gamma-nloglik:12.26745\n",
      "[9]\ttraining-gamma-nloglik:12.26745\n",
      "[10]\ttraining-gamma-nloglik:12.26744\n",
      "[11]\ttraining-gamma-nloglik:12.26743\n",
      "[12]\ttraining-gamma-nloglik:12.26742\n",
      "[13]\ttraining-gamma-nloglik:12.26741\n",
      "[14]\ttraining-gamma-nloglik:12.26740\n",
      "[15]\ttraining-gamma-nloglik:12.26740\n",
      "[16]\ttraining-gamma-nloglik:12.26738\n",
      "[17]\ttraining-gamma-nloglik:12.26738\n",
      "[18]\ttraining-gamma-nloglik:12.26737\n",
      "[19]\ttraining-gamma-nloglik:12.26736\n",
      "[20]\ttraining-gamma-nloglik:12.26736\n",
      "[21]\ttraining-gamma-nloglik:12.26736\n",
      "[22]\ttraining-gamma-nloglik:12.26736\n",
      "[23]\ttraining-gamma-nloglik:12.26735\n",
      "[24]\ttraining-gamma-nloglik:12.26734\n",
      "[25]\ttraining-gamma-nloglik:12.26733\n",
      "[26]\ttraining-gamma-nloglik:12.26730\n",
      "[27]\ttraining-gamma-nloglik:12.26729\n",
      "[28]\ttraining-gamma-nloglik:12.26728\n",
      "[29]\ttraining-gamma-nloglik:12.26726\n",
      "[30]\ttraining-gamma-nloglik:12.26726\n",
      "[31]\ttraining-gamma-nloglik:12.26725\n",
      "[32]\ttraining-gamma-nloglik:12.26724\n",
      "[33]\ttraining-gamma-nloglik:12.26723\n",
      "[34]\ttraining-gamma-nloglik:12.26722\n",
      "[35]\ttraining-gamma-nloglik:12.26721\n",
      "[36]\ttraining-gamma-nloglik:12.26720\n",
      "[37]\ttraining-gamma-nloglik:12.26718\n",
      "[38]\ttraining-gamma-nloglik:12.26718\n",
      "[39]\ttraining-gamma-nloglik:12.26716\n",
      "[40]\ttraining-gamma-nloglik:12.26716\n",
      "[41]\ttraining-gamma-nloglik:12.26715\n",
      "[42]\ttraining-gamma-nloglik:12.26714\n",
      "[43]\ttraining-gamma-nloglik:12.26713\n",
      "[44]\ttraining-gamma-nloglik:12.26713\n",
      "[45]\ttraining-gamma-nloglik:12.26712\n",
      "[46]\ttraining-gamma-nloglik:12.26712\n",
      "[47]\ttraining-gamma-nloglik:12.26711\n",
      "[48]\ttraining-gamma-nloglik:12.26711\n",
      "[49]\ttraining-gamma-nloglik:12.26711\n",
      "[50]\ttraining-gamma-nloglik:12.26710\n",
      "[51]\ttraining-gamma-nloglik:12.26710\n",
      "[52]\ttraining-gamma-nloglik:12.26710\n",
      "[53]\ttraining-gamma-nloglik:12.26708\n",
      "[54]\ttraining-gamma-nloglik:12.26708\n",
      "[55]\ttraining-gamma-nloglik:12.26707\n",
      "[56]\ttraining-gamma-nloglik:12.26707\n",
      "[57]\ttraining-gamma-nloglik:12.26706\n",
      "[58]\ttraining-gamma-nloglik:12.26706\n",
      "[59]\ttraining-gamma-nloglik:12.26705\n",
      "[60]\ttraining-gamma-nloglik:12.26704\n",
      "[61]\ttraining-gamma-nloglik:12.26704\n",
      "[62]\ttraining-gamma-nloglik:12.26704\n",
      "[63]\ttraining-gamma-nloglik:12.26703\n",
      "[64]\ttraining-gamma-nloglik:12.26703\n",
      "[65]\ttraining-gamma-nloglik:12.26702\n",
      "[66]\ttraining-gamma-nloglik:12.26701\n",
      "[67]\ttraining-gamma-nloglik:12.26701\n",
      "[68]\ttraining-gamma-nloglik:12.26700\n",
      "[69]\ttraining-gamma-nloglik:12.26699\n",
      "[70]\ttraining-gamma-nloglik:12.26698\n",
      "[71]\ttraining-gamma-nloglik:12.26697\n",
      "[72]\ttraining-gamma-nloglik:12.26697\n",
      "[73]\ttraining-gamma-nloglik:12.26696\n",
      "[74]\ttraining-gamma-nloglik:12.26695\n",
      "[75]\ttraining-gamma-nloglik:12.26694\n",
      "[76]\ttraining-gamma-nloglik:12.26693\n",
      "[77]\ttraining-gamma-nloglik:12.26692\n",
      "[78]\ttraining-gamma-nloglik:12.26692\n",
      "[79]\ttraining-gamma-nloglik:12.26691\n",
      "[80]\ttraining-gamma-nloglik:12.26691\n",
      "[81]\ttraining-gamma-nloglik:12.26690\n",
      "[82]\ttraining-gamma-nloglik:12.26690\n",
      "[83]\ttraining-gamma-nloglik:12.26690\n",
      "[84]\ttraining-gamma-nloglik:12.26689\n",
      "[85]\ttraining-gamma-nloglik:12.26689\n",
      "[86]\ttraining-gamma-nloglik:12.26688\n",
      "[87]\ttraining-gamma-nloglik:12.26687\n",
      "[88]\ttraining-gamma-nloglik:12.26686\n",
      "[89]\ttraining-gamma-nloglik:12.26686\n",
      "[90]\ttraining-gamma-nloglik:12.26685\n",
      "[91]\ttraining-gamma-nloglik:12.26684\n",
      "[92]\ttraining-gamma-nloglik:12.26683\n",
      "[93]\ttraining-gamma-nloglik:12.26682\n",
      "[94]\ttraining-gamma-nloglik:12.26681\n",
      "[95]\ttraining-gamma-nloglik:12.26681\n",
      "[96]\ttraining-gamma-nloglik:12.26680\n",
      "[97]\ttraining-gamma-nloglik:12.26679\n",
      "[98]\ttraining-gamma-nloglik:12.26679\n",
      "[99]\ttraining-gamma-nloglik:12.26678\n",
      "[100]\ttraining-gamma-nloglik:12.26677\n",
      "[101]\ttraining-gamma-nloglik:12.26677\n",
      "[102]\ttraining-gamma-nloglik:12.26676\n",
      "[103]\ttraining-gamma-nloglik:12.26675\n",
      "[104]\ttraining-gamma-nloglik:12.26674\n",
      "[105]\ttraining-gamma-nloglik:12.26674\n",
      "[106]\ttraining-gamma-nloglik:12.26674\n",
      "[107]\ttraining-gamma-nloglik:12.26674\n",
      "[108]\ttraining-gamma-nloglik:12.26673\n",
      "[109]\ttraining-gamma-nloglik:12.26673\n",
      "[110]\ttraining-gamma-nloglik:12.26673\n",
      "[111]\ttraining-gamma-nloglik:12.26672\n",
      "[112]\ttraining-gamma-nloglik:12.26671\n",
      "[113]\ttraining-gamma-nloglik:12.26670\n",
      "[114]\ttraining-gamma-nloglik:12.26669\n",
      "[115]\ttraining-gamma-nloglik:12.26668\n",
      "[116]\ttraining-gamma-nloglik:12.26668\n",
      "[117]\ttraining-gamma-nloglik:12.26667\n",
      "[118]\ttraining-gamma-nloglik:12.26667\n",
      "[119]\ttraining-gamma-nloglik:12.26666\n",
      "[120]\ttraining-gamma-nloglik:12.26666\n",
      "[121]\ttraining-gamma-nloglik:12.26666\n",
      "[122]\ttraining-gamma-nloglik:12.26665\n",
      "[123]\ttraining-gamma-nloglik:12.26665\n",
      "[124]\ttraining-gamma-nloglik:12.26665\n",
      "[125]\ttraining-gamma-nloglik:12.26665\n",
      "[126]\ttraining-gamma-nloglik:12.26663\n",
      "[127]\ttraining-gamma-nloglik:12.26663\n",
      "[128]\ttraining-gamma-nloglik:12.26662\n",
      "[129]\ttraining-gamma-nloglik:12.26662\n",
      "[130]\ttraining-gamma-nloglik:12.26662\n",
      "[131]\ttraining-gamma-nloglik:12.26662\n",
      "[132]\ttraining-gamma-nloglik:12.26661\n",
      "[133]\ttraining-gamma-nloglik:12.26661\n",
      "[134]\ttraining-gamma-nloglik:12.26661\n",
      "[135]\ttraining-gamma-nloglik:12.26660\n",
      "[136]\ttraining-gamma-nloglik:12.26659\n",
      "[137]\ttraining-gamma-nloglik:12.26658\n",
      "[138]\ttraining-gamma-nloglik:12.26658\n",
      "[139]\ttraining-gamma-nloglik:12.26657\n",
      "[140]\ttraining-gamma-nloglik:12.26657\n",
      "[141]\ttraining-gamma-nloglik:12.26657\n",
      "[142]\ttraining-gamma-nloglik:12.26656\n",
      "[143]\ttraining-gamma-nloglik:12.26656\n",
      "[144]\ttraining-gamma-nloglik:12.26656\n",
      "[145]\ttraining-gamma-nloglik:12.26655\n",
      "[146]\ttraining-gamma-nloglik:12.26655\n",
      "[147]\ttraining-gamma-nloglik:12.26655\n",
      "[148]\ttraining-gamma-nloglik:12.26654\n",
      "[149]\ttraining-gamma-nloglik:12.26654\n",
      "[150]\ttraining-gamma-nloglik:12.26653\n",
      "[151]\ttraining-gamma-nloglik:12.26653\n",
      "[152]\ttraining-gamma-nloglik:12.26652\n",
      "[153]\ttraining-gamma-nloglik:12.26652\n",
      "[154]\ttraining-gamma-nloglik:12.26651\n",
      "[155]\ttraining-gamma-nloglik:12.26650\n",
      "[156]\ttraining-gamma-nloglik:12.26649\n",
      "[157]\ttraining-gamma-nloglik:12.26648\n",
      "[158]\ttraining-gamma-nloglik:12.26648\n",
      "[159]\ttraining-gamma-nloglik:12.26647\n",
      "[160]\ttraining-gamma-nloglik:12.26647\n",
      "[161]\ttraining-gamma-nloglik:12.26646\n",
      "[162]\ttraining-gamma-nloglik:12.26646\n",
      "[163]\ttraining-gamma-nloglik:12.26646\n",
      "[164]\ttraining-gamma-nloglik:12.26645\n",
      "[165]\ttraining-gamma-nloglik:12.26645\n",
      "[166]\ttraining-gamma-nloglik:12.26644\n",
      "[167]\ttraining-gamma-nloglik:12.26644\n",
      "[168]\ttraining-gamma-nloglik:12.26643\n",
      "[169]\ttraining-gamma-nloglik:12.26643\n",
      "[170]\ttraining-gamma-nloglik:12.26643\n",
      "[171]\ttraining-gamma-nloglik:12.26642\n",
      "[172]\ttraining-gamma-nloglik:12.26642\n",
      "[173]\ttraining-gamma-nloglik:12.26641\n",
      "[174]\ttraining-gamma-nloglik:12.26641\n",
      "[175]\ttraining-gamma-nloglik:12.26640\n",
      "[176]\ttraining-gamma-nloglik:12.26640\n",
      "[177]\ttraining-gamma-nloglik:12.26640\n",
      "[178]\ttraining-gamma-nloglik:12.26640\n",
      "[179]\ttraining-gamma-nloglik:12.26640\n",
      "[180]\ttraining-gamma-nloglik:12.26639\n",
      "[181]\ttraining-gamma-nloglik:12.26639\n",
      "[182]\ttraining-gamma-nloglik:12.26638\n",
      "[183]\ttraining-gamma-nloglik:12.26637\n",
      "[184]\ttraining-gamma-nloglik:12.26637\n",
      "[185]\ttraining-gamma-nloglik:12.26636\n",
      "[186]\ttraining-gamma-nloglik:12.26636\n",
      "[187]\ttraining-gamma-nloglik:12.26635\n",
      "[188]\ttraining-gamma-nloglik:12.26635\n",
      "[189]\ttraining-gamma-nloglik:12.26635\n",
      "[190]\ttraining-gamma-nloglik:12.26634\n",
      "[191]\ttraining-gamma-nloglik:12.26634\n",
      "[192]\ttraining-gamma-nloglik:12.26634\n",
      "[193]\ttraining-gamma-nloglik:12.26634\n",
      "[194]\ttraining-gamma-nloglik:12.26634\n",
      "[195]\ttraining-gamma-nloglik:12.26633\n",
      "[196]\ttraining-gamma-nloglik:12.26633\n",
      "[197]\ttraining-gamma-nloglik:12.26633\n",
      "[198]\ttraining-gamma-nloglik:12.26632\n",
      "[199]\ttraining-gamma-nloglik:12.26631\n",
      "[200]\ttraining-gamma-nloglik:12.26630\n",
      "[201]\ttraining-gamma-nloglik:12.26630\n",
      "[202]\ttraining-gamma-nloglik:12.26630\n",
      "[203]\ttraining-gamma-nloglik:12.26629\n",
      "[204]\ttraining-gamma-nloglik:12.26629\n",
      "[205]\ttraining-gamma-nloglik:12.26628\n",
      "[206]\ttraining-gamma-nloglik:12.26628\n",
      "[207]\ttraining-gamma-nloglik:12.26628\n",
      "[208]\ttraining-gamma-nloglik:12.26627\n",
      "[209]\ttraining-gamma-nloglik:12.26627\n",
      "[210]\ttraining-gamma-nloglik:12.26627\n",
      "[211]\ttraining-gamma-nloglik:12.26626\n",
      "[212]\ttraining-gamma-nloglik:12.26626\n",
      "[213]\ttraining-gamma-nloglik:12.26625\n",
      "[214]\ttraining-gamma-nloglik:12.26625\n",
      "[215]\ttraining-gamma-nloglik:12.26625\n",
      "[216]\ttraining-gamma-nloglik:12.26624\n",
      "[217]\ttraining-gamma-nloglik:12.26624\n",
      "[218]\ttraining-gamma-nloglik:12.26623\n",
      "[219]\ttraining-gamma-nloglik:12.26623\n",
      "[220]\ttraining-gamma-nloglik:12.26622\n",
      "[221]\ttraining-gamma-nloglik:12.26621\n",
      "[222]\ttraining-gamma-nloglik:12.26621\n",
      "[223]\ttraining-gamma-nloglik:12.26621\n",
      "[224]\ttraining-gamma-nloglik:12.26620\n",
      "[225]\ttraining-gamma-nloglik:12.26620\n",
      "[226]\ttraining-gamma-nloglik:12.26619\n",
      "[227]\ttraining-gamma-nloglik:12.26619\n",
      "[228]\ttraining-gamma-nloglik:12.26619\n",
      "[229]\ttraining-gamma-nloglik:12.26618\n",
      "[230]\ttraining-gamma-nloglik:12.26618\n",
      "[231]\ttraining-gamma-nloglik:12.26617\n",
      "[232]\ttraining-gamma-nloglik:12.26616\n",
      "[233]\ttraining-gamma-nloglik:12.26616\n",
      "[234]\ttraining-gamma-nloglik:12.26615\n",
      "[235]\ttraining-gamma-nloglik:12.26615\n",
      "[236]\ttraining-gamma-nloglik:12.26614\n",
      "[237]\ttraining-gamma-nloglik:12.26614\n",
      "[238]\ttraining-gamma-nloglik:12.26613\n",
      "[239]\ttraining-gamma-nloglik:12.26613\n",
      "[240]\ttraining-gamma-nloglik:12.26613\n",
      "[241]\ttraining-gamma-nloglik:12.26612\n",
      "[242]\ttraining-gamma-nloglik:12.26612\n",
      "[243]\ttraining-gamma-nloglik:12.26612\n",
      "[244]\ttraining-gamma-nloglik:12.26612\n",
      "[245]\ttraining-gamma-nloglik:12.26611\n",
      "[246]\ttraining-gamma-nloglik:12.26611\n",
      "[247]\ttraining-gamma-nloglik:12.26611\n",
      "[248]\ttraining-gamma-nloglik:12.26610\n",
      "[249]\ttraining-gamma-nloglik:12.26610\n",
      "[250]\ttraining-gamma-nloglik:12.26610\n",
      "[251]\ttraining-gamma-nloglik:12.26610\n",
      "[252]\ttraining-gamma-nloglik:12.26609\n",
      "[253]\ttraining-gamma-nloglik:12.26609\n",
      "[254]\ttraining-gamma-nloglik:12.26609\n",
      "[255]\ttraining-gamma-nloglik:12.26608\n",
      "[256]\ttraining-gamma-nloglik:12.26608\n",
      "[257]\ttraining-gamma-nloglik:12.26608\n",
      "[258]\ttraining-gamma-nloglik:12.26607\n",
      "[259]\ttraining-gamma-nloglik:12.26607\n",
      "[260]\ttraining-gamma-nloglik:12.26607\n",
      "[261]\ttraining-gamma-nloglik:12.26606\n",
      "[262]\ttraining-gamma-nloglik:12.26606\n",
      "[263]\ttraining-gamma-nloglik:12.26606\n",
      "[264]\ttraining-gamma-nloglik:12.26606\n",
      "[265]\ttraining-gamma-nloglik:12.26605\n",
      "[266]\ttraining-gamma-nloglik:12.26605\n",
      "[267]\ttraining-gamma-nloglik:12.26605\n",
      "[268]\ttraining-gamma-nloglik:12.26604\n",
      "[269]\ttraining-gamma-nloglik:12.26604\n",
      "[270]\ttraining-gamma-nloglik:12.26604\n",
      "[271]\ttraining-gamma-nloglik:12.26603\n",
      "[272]\ttraining-gamma-nloglik:12.26603\n",
      "[273]\ttraining-gamma-nloglik:12.26603\n",
      "[274]\ttraining-gamma-nloglik:12.26603\n",
      "[275]\ttraining-gamma-nloglik:12.26602\n",
      "[276]\ttraining-gamma-nloglik:12.26602\n",
      "[277]\ttraining-gamma-nloglik:12.26602\n",
      "[278]\ttraining-gamma-nloglik:12.26601\n",
      "[279]\ttraining-gamma-nloglik:12.26601\n",
      "[280]\ttraining-gamma-nloglik:12.26601\n",
      "[281]\ttraining-gamma-nloglik:12.26601\n",
      "[282]\ttraining-gamma-nloglik:12.26600\n",
      "[283]\ttraining-gamma-nloglik:12.26600\n",
      "[284]\ttraining-gamma-nloglik:12.26600\n",
      "[285]\ttraining-gamma-nloglik:12.26600\n",
      "[286]\ttraining-gamma-nloglik:12.26599\n",
      "[287]\ttraining-gamma-nloglik:12.26599\n",
      "[288]\ttraining-gamma-nloglik:12.26598\n",
      "[289]\ttraining-gamma-nloglik:12.26598\n",
      "[290]\ttraining-gamma-nloglik:12.26598\n",
      "[291]\ttraining-gamma-nloglik:12.26597\n",
      "[292]\ttraining-gamma-nloglik:12.26597\n",
      "[293]\ttraining-gamma-nloglik:12.26597\n",
      "[294]\ttraining-gamma-nloglik:12.26596\n",
      "[295]\ttraining-gamma-nloglik:12.26596\n",
      "[296]\ttraining-gamma-nloglik:12.26596\n",
      "[297]\ttraining-gamma-nloglik:12.26595\n",
      "[298]\ttraining-gamma-nloglik:12.26595\n",
      "[299]\ttraining-gamma-nloglik:12.26595\n",
      "[300]\ttraining-gamma-nloglik:12.26594\n",
      "[301]\ttraining-gamma-nloglik:12.26594\n",
      "[302]\ttraining-gamma-nloglik:12.26594\n",
      "[303]\ttraining-gamma-nloglik:12.26594\n",
      "[304]\ttraining-gamma-nloglik:12.26593\n",
      "[305]\ttraining-gamma-nloglik:12.26593\n",
      "[306]\ttraining-gamma-nloglik:12.26593\n",
      "[307]\ttraining-gamma-nloglik:12.26592\n",
      "[308]\ttraining-gamma-nloglik:12.26592\n",
      "[309]\ttraining-gamma-nloglik:12.26592\n",
      "[310]\ttraining-gamma-nloglik:12.26591\n",
      "[311]\ttraining-gamma-nloglik:12.26591\n",
      "[312]\ttraining-gamma-nloglik:12.26591\n",
      "[313]\ttraining-gamma-nloglik:12.26591\n",
      "[314]\ttraining-gamma-nloglik:12.26590\n",
      "[315]\ttraining-gamma-nloglik:12.26590\n",
      "[316]\ttraining-gamma-nloglik:12.26590\n",
      "[317]\ttraining-gamma-nloglik:12.26590\n",
      "[318]\ttraining-gamma-nloglik:12.26590\n",
      "[319]\ttraining-gamma-nloglik:12.26589\n",
      "[320]\ttraining-gamma-nloglik:12.26589\n",
      "[321]\ttraining-gamma-nloglik:12.26589\n",
      "[322]\ttraining-gamma-nloglik:12.26589\n",
      "[323]\ttraining-gamma-nloglik:12.26589\n",
      "[324]\ttraining-gamma-nloglik:12.26589\n",
      "[325]\ttraining-gamma-nloglik:12.26588\n",
      "[326]\ttraining-gamma-nloglik:12.26588\n",
      "[327]\ttraining-gamma-nloglik:12.26588\n",
      "[328]\ttraining-gamma-nloglik:12.26588\n",
      "[329]\ttraining-gamma-nloglik:12.26587\n",
      "[330]\ttraining-gamma-nloglik:12.26587\n",
      "[331]\ttraining-gamma-nloglik:12.26587\n",
      "[332]\ttraining-gamma-nloglik:12.26587\n",
      "[333]\ttraining-gamma-nloglik:12.26587\n",
      "[334]\ttraining-gamma-nloglik:12.26586\n",
      "[335]\ttraining-gamma-nloglik:12.26586\n",
      "[336]\ttraining-gamma-nloglik:12.26586\n",
      "[337]\ttraining-gamma-nloglik:12.26586\n",
      "[338]\ttraining-gamma-nloglik:12.26585\n",
      "[339]\ttraining-gamma-nloglik:12.26585\n",
      "[340]\ttraining-gamma-nloglik:12.26585\n",
      "[341]\ttraining-gamma-nloglik:12.26585\n",
      "[342]\ttraining-gamma-nloglik:12.26584\n",
      "[343]\ttraining-gamma-nloglik:12.26584\n",
      "[344]\ttraining-gamma-nloglik:12.26584\n",
      "[345]\ttraining-gamma-nloglik:12.26583\n",
      "[346]\ttraining-gamma-nloglik:12.26583\n",
      "[347]\ttraining-gamma-nloglik:12.26583\n",
      "[348]\ttraining-gamma-nloglik:12.26582\n",
      "[349]\ttraining-gamma-nloglik:12.26582\n",
      "[350]\ttraining-gamma-nloglik:12.26582\n",
      "[351]\ttraining-gamma-nloglik:12.26582\n",
      "[352]\ttraining-gamma-nloglik:12.26581\n",
      "[353]\ttraining-gamma-nloglik:12.26581\n",
      "[354]\ttraining-gamma-nloglik:12.26581\n",
      "[355]\ttraining-gamma-nloglik:12.26581\n",
      "[356]\ttraining-gamma-nloglik:12.26580\n",
      "[357]\ttraining-gamma-nloglik:12.26580\n",
      "[358]\ttraining-gamma-nloglik:12.26580\n",
      "[359]\ttraining-gamma-nloglik:12.26580\n",
      "[360]\ttraining-gamma-nloglik:12.26580\n",
      "[361]\ttraining-gamma-nloglik:12.26579\n",
      "[362]\ttraining-gamma-nloglik:12.26579\n",
      "[363]\ttraining-gamma-nloglik:12.26579\n",
      "[364]\ttraining-gamma-nloglik:12.26578\n",
      "[365]\ttraining-gamma-nloglik:12.26578\n",
      "[366]\ttraining-gamma-nloglik:12.26578\n",
      "[367]\ttraining-gamma-nloglik:12.26578\n",
      "[368]\ttraining-gamma-nloglik:12.26578\n",
      "[369]\ttraining-gamma-nloglik:12.26577\n",
      "[370]\ttraining-gamma-nloglik:12.26577\n",
      "[371]\ttraining-gamma-nloglik:12.26577\n",
      "[372]\ttraining-gamma-nloglik:12.26576\n",
      "[373]\ttraining-gamma-nloglik:12.26576\n",
      "[374]\ttraining-gamma-nloglik:12.26576\n",
      "[375]\ttraining-gamma-nloglik:12.26576\n",
      "[376]\ttraining-gamma-nloglik:12.26576\n",
      "[377]\ttraining-gamma-nloglik:12.26576\n",
      "[378]\ttraining-gamma-nloglik:12.26575\n",
      "[379]\ttraining-gamma-nloglik:12.26575\n",
      "[380]\ttraining-gamma-nloglik:12.26575\n",
      "[381]\ttraining-gamma-nloglik:12.26574\n",
      "[382]\ttraining-gamma-nloglik:12.26574\n",
      "[383]\ttraining-gamma-nloglik:12.26574\n",
      "[384]\ttraining-gamma-nloglik:12.26574\n",
      "[385]\ttraining-gamma-nloglik:12.26574\n",
      "[386]\ttraining-gamma-nloglik:12.26573\n",
      "[387]\ttraining-gamma-nloglik:12.26573\n",
      "[388]\ttraining-gamma-nloglik:12.26573\n",
      "[389]\ttraining-gamma-nloglik:12.26572\n",
      "[390]\ttraining-gamma-nloglik:12.26572\n",
      "[391]\ttraining-gamma-nloglik:12.26572\n",
      "[392]\ttraining-gamma-nloglik:12.26572\n",
      "[393]\ttraining-gamma-nloglik:12.26571\n",
      "[394]\ttraining-gamma-nloglik:12.26571\n",
      "[395]\ttraining-gamma-nloglik:12.26571\n",
      "[396]\ttraining-gamma-nloglik:12.26571\n",
      "[397]\ttraining-gamma-nloglik:12.26571\n",
      "[398]\ttraining-gamma-nloglik:12.26570\n",
      "[399]\ttraining-gamma-nloglik:12.26570\n",
      "[400]\ttraining-gamma-nloglik:12.26570\n",
      "[401]\ttraining-gamma-nloglik:12.26570\n",
      "[402]\ttraining-gamma-nloglik:12.26570\n",
      "[403]\ttraining-gamma-nloglik:12.26570\n",
      "[404]\ttraining-gamma-nloglik:12.26570\n",
      "[405]\ttraining-gamma-nloglik:12.26570\n",
      "[406]\ttraining-gamma-nloglik:12.26570\n",
      "[407]\ttraining-gamma-nloglik:12.26569\n",
      "[408]\ttraining-gamma-nloglik:12.26569\n",
      "[409]\ttraining-gamma-nloglik:12.26569\n",
      "[410]\ttraining-gamma-nloglik:12.26569\n",
      "[411]\ttraining-gamma-nloglik:12.26569\n",
      "[412]\ttraining-gamma-nloglik:12.26569\n",
      "[413]\ttraining-gamma-nloglik:12.26569\n",
      "[414]\ttraining-gamma-nloglik:12.26568\n",
      "[415]\ttraining-gamma-nloglik:12.26568\n",
      "[416]\ttraining-gamma-nloglik:12.26568\n",
      "[417]\ttraining-gamma-nloglik:12.26568\n",
      "[418]\ttraining-gamma-nloglik:12.26568\n",
      "[419]\ttraining-gamma-nloglik:12.26568\n",
      "[420]\ttraining-gamma-nloglik:12.26568\n",
      "[421]\ttraining-gamma-nloglik:12.26567\n",
      "[422]\ttraining-gamma-nloglik:12.26567\n",
      "[423]\ttraining-gamma-nloglik:12.26567\n",
      "[424]\ttraining-gamma-nloglik:12.26567\n",
      "[425]\ttraining-gamma-nloglik:12.26567\n",
      "[426]\ttraining-gamma-nloglik:12.26567\n",
      "[427]\ttraining-gamma-nloglik:12.26566\n",
      "[428]\ttraining-gamma-nloglik:12.26566\n",
      "[429]\ttraining-gamma-nloglik:12.26566\n",
      "[430]\ttraining-gamma-nloglik:12.26566\n",
      "[431]\ttraining-gamma-nloglik:12.26566\n",
      "[432]\ttraining-gamma-nloglik:12.26566\n",
      "[433]\ttraining-gamma-nloglik:12.26566\n",
      "[434]\ttraining-gamma-nloglik:12.26565\n",
      "[435]\ttraining-gamma-nloglik:12.26565\n",
      "[436]\ttraining-gamma-nloglik:12.26565\n",
      "[437]\ttraining-gamma-nloglik:12.26565\n",
      "[438]\ttraining-gamma-nloglik:12.26565\n",
      "[439]\ttraining-gamma-nloglik:12.26565\n",
      "[440]\ttraining-gamma-nloglik:12.26564\n",
      "[441]\ttraining-gamma-nloglik:12.26564\n",
      "[442]\ttraining-gamma-nloglik:12.26564\n",
      "[443]\ttraining-gamma-nloglik:12.26564\n",
      "[444]\ttraining-gamma-nloglik:12.26564\n",
      "[445]\ttraining-gamma-nloglik:12.26563\n",
      "[446]\ttraining-gamma-nloglik:12.26563\n",
      "[447]\ttraining-gamma-nloglik:12.26563\n",
      "[448]\ttraining-gamma-nloglik:12.26563\n",
      "[449]\ttraining-gamma-nloglik:12.26563\n",
      "[450]\ttraining-gamma-nloglik:12.26563\n",
      "[451]\ttraining-gamma-nloglik:12.26562\n",
      "[452]\ttraining-gamma-nloglik:12.26562\n",
      "[453]\ttraining-gamma-nloglik:12.26562\n",
      "[454]\ttraining-gamma-nloglik:12.26562\n",
      "[455]\ttraining-gamma-nloglik:12.26561\n",
      "[456]\ttraining-gamma-nloglik:12.26561\n",
      "[457]\ttraining-gamma-nloglik:12.26561\n",
      "[458]\ttraining-gamma-nloglik:12.26561\n",
      "[459]\ttraining-gamma-nloglik:12.26561\n",
      "[460]\ttraining-gamma-nloglik:12.26561\n",
      "[461]\ttraining-gamma-nloglik:12.26560\n",
      "[462]\ttraining-gamma-nloglik:12.26560\n",
      "[463]\ttraining-gamma-nloglik:12.26560\n",
      "[464]\ttraining-gamma-nloglik:12.26560\n",
      "[465]\ttraining-gamma-nloglik:12.26560\n",
      "[466]\ttraining-gamma-nloglik:12.26560\n",
      "[467]\ttraining-gamma-nloglik:12.26559\n",
      "[468]\ttraining-gamma-nloglik:12.26559\n",
      "[469]\ttraining-gamma-nloglik:12.26559\n",
      "[470]\ttraining-gamma-nloglik:12.26559\n",
      "[471]\ttraining-gamma-nloglik:12.26559\n",
      "[472]\ttraining-gamma-nloglik:12.26559\n",
      "[473]\ttraining-gamma-nloglik:12.26558\n",
      "[474]\ttraining-gamma-nloglik:12.26558\n",
      "[475]\ttraining-gamma-nloglik:12.26558\n",
      "[476]\ttraining-gamma-nloglik:12.26558\n",
      "[477]\ttraining-gamma-nloglik:12.26558\n",
      "[478]\ttraining-gamma-nloglik:12.26558\n",
      "[479]\ttraining-gamma-nloglik:12.26558\n",
      "[480]\ttraining-gamma-nloglik:12.26558\n",
      "[481]\ttraining-gamma-nloglik:12.26558\n",
      "[482]\ttraining-gamma-nloglik:12.26557\n",
      "[483]\ttraining-gamma-nloglik:12.26557\n",
      "[484]\ttraining-gamma-nloglik:12.26557\n",
      "[485]\ttraining-gamma-nloglik:12.26557\n",
      "[486]\ttraining-gamma-nloglik:12.26557\n",
      "[487]\ttraining-gamma-nloglik:12.26557\n",
      "[488]\ttraining-gamma-nloglik:12.26557\n",
      "[489]\ttraining-gamma-nloglik:12.26557\n",
      "[490]\ttraining-gamma-nloglik:12.26557\n",
      "[491]\ttraining-gamma-nloglik:12.26556\n",
      "[492]\ttraining-gamma-nloglik:12.26556\n",
      "[493]\ttraining-gamma-nloglik:12.26556\n",
      "[494]\ttraining-gamma-nloglik:12.26556\n",
      "[495]\ttraining-gamma-nloglik:12.26556\n",
      "[496]\ttraining-gamma-nloglik:12.26556\n",
      "[497]\ttraining-gamma-nloglik:12.26556\n",
      "[498]\ttraining-gamma-nloglik:12.26556\n",
      "[499]\ttraining-gamma-nloglik:12.26556\n",
      "SMAPE train: 2.2289112911512126, SMAPE test: 21.29216890211316\n"
     ]
    }
   ],
   "source": [
    "n=500\n",
    "xg_model2 = xgb.train(\n",
    "    params=params,\n",
    "    dtrain=dtrain_reg,\n",
    "    num_boost_round=n,\n",
    "    evals=[(dtrain_reg, \"training\")],\n",
    "    xgb_model = xg_model1\n",
    ")\n",
    "\n",
    "y_pred_train = xg_model2.predict(dtrain_reg)\n",
    "y_pred_test = xg_model2.predict(dtest_reg)\n",
    "\n",
    "print(f'SMAPE train: {smape(y_train, y_pred_train)}, SMAPE test: {smape(y_test, y_pred_test)}')"
   ]
  },
  {
   "cell_type": "code",
   "execution_count": 108,
   "id": "d524b48d087d4740",
   "metadata": {
    "ExecuteTime": {
     "end_time": "2024-01-09T18:35:11.898812500Z",
     "start_time": "2024-01-09T18:35:11.312847100Z"
    },
    "collapsed": false,
    "jupyter": {
     "outputs_hidden": false
    }
   },
   "outputs": [
    {
     "name": "stdout",
     "output_type": "stream",
     "text": [
      "SMAPE train: 10.062939337568135, SMAPE test: 21.657533967556773\n"
     ]
    }
   ],
   "source": [
    "y_pred_train = xg_model2.predict(dtrain_reg)\n",
    "y_pred_test = xg_model2.predict(dtest_reg)\n",
    "\n",
    "print(f'SMAPE train: {smape(y_train, y_pred_train)}, SMAPE test: {smape(y_test, y_pred_test)}')"
   ]
  },
  {
   "cell_type": "code",
   "execution_count": 194,
   "id": "dd69b247a0cc97ac",
   "metadata": {
    "ExecuteTime": {
     "end_time": "2024-01-09T20:57:01.088637Z",
     "start_time": "2024-01-09T20:56:02.286319700Z"
    },
    "collapsed": false,
    "jupyter": {
     "outputs_hidden": false
    }
   },
   "outputs": [
    {
     "name": "stdout",
     "output_type": "stream",
     "text": [
      "[0]\ttraining-gamma-nloglik:12.26555\n",
      "[1]\ttraining-gamma-nloglik:12.26555\n",
      "[2]\ttraining-gamma-nloglik:12.26555\n",
      "[3]\ttraining-gamma-nloglik:12.26555\n",
      "[4]\ttraining-gamma-nloglik:12.26555\n",
      "[5]\ttraining-gamma-nloglik:12.26555\n",
      "[6]\ttraining-gamma-nloglik:12.26555\n",
      "[7]\ttraining-gamma-nloglik:12.26554\n",
      "[8]\ttraining-gamma-nloglik:12.26554\n",
      "[9]\ttraining-gamma-nloglik:12.26554\n",
      "[10]\ttraining-gamma-nloglik:12.26554\n",
      "[11]\ttraining-gamma-nloglik:12.26553\n",
      "[12]\ttraining-gamma-nloglik:12.26553\n",
      "[13]\ttraining-gamma-nloglik:12.26553\n",
      "[14]\ttraining-gamma-nloglik:12.26553\n",
      "[15]\ttraining-gamma-nloglik:12.26553\n",
      "[16]\ttraining-gamma-nloglik:12.26552\n",
      "[17]\ttraining-gamma-nloglik:12.26552\n",
      "[18]\ttraining-gamma-nloglik:12.26552\n",
      "[19]\ttraining-gamma-nloglik:12.26552\n",
      "[20]\ttraining-gamma-nloglik:12.26552\n",
      "[21]\ttraining-gamma-nloglik:12.26552\n",
      "[22]\ttraining-gamma-nloglik:12.26552\n",
      "[23]\ttraining-gamma-nloglik:12.26552\n",
      "[24]\ttraining-gamma-nloglik:12.26552\n",
      "[25]\ttraining-gamma-nloglik:12.26552\n",
      "[26]\ttraining-gamma-nloglik:12.26552\n",
      "[27]\ttraining-gamma-nloglik:12.26551\n",
      "[28]\ttraining-gamma-nloglik:12.26551\n",
      "[29]\ttraining-gamma-nloglik:12.26551\n",
      "[30]\ttraining-gamma-nloglik:12.26551\n",
      "[31]\ttraining-gamma-nloglik:12.26551\n",
      "[32]\ttraining-gamma-nloglik:12.26551\n",
      "[33]\ttraining-gamma-nloglik:12.26551\n",
      "[34]\ttraining-gamma-nloglik:12.26551\n",
      "[35]\ttraining-gamma-nloglik:12.26551\n",
      "[36]\ttraining-gamma-nloglik:12.26550\n",
      "[37]\ttraining-gamma-nloglik:12.26550\n",
      "[38]\ttraining-gamma-nloglik:12.26550\n",
      "[39]\ttraining-gamma-nloglik:12.26550\n",
      "[40]\ttraining-gamma-nloglik:12.26550\n",
      "[41]\ttraining-gamma-nloglik:12.26550\n",
      "[42]\ttraining-gamma-nloglik:12.26550\n",
      "[43]\ttraining-gamma-nloglik:12.26549\n",
      "[44]\ttraining-gamma-nloglik:12.26549\n",
      "[45]\ttraining-gamma-nloglik:12.26549\n",
      "[46]\ttraining-gamma-nloglik:12.26549\n",
      "[47]\ttraining-gamma-nloglik:12.26549\n",
      "[48]\ttraining-gamma-nloglik:12.26549\n",
      "[49]\ttraining-gamma-nloglik:12.26549\n",
      "[50]\ttraining-gamma-nloglik:12.26549\n",
      "[51]\ttraining-gamma-nloglik:12.26548\n",
      "[52]\ttraining-gamma-nloglik:12.26548\n",
      "[53]\ttraining-gamma-nloglik:12.26548\n",
      "[54]\ttraining-gamma-nloglik:12.26548\n",
      "[55]\ttraining-gamma-nloglik:12.26548\n",
      "[56]\ttraining-gamma-nloglik:12.26548\n",
      "[57]\ttraining-gamma-nloglik:12.26548\n",
      "[58]\ttraining-gamma-nloglik:12.26548\n",
      "[59]\ttraining-gamma-nloglik:12.26547\n",
      "[60]\ttraining-gamma-nloglik:12.26547\n",
      "[61]\ttraining-gamma-nloglik:12.26547\n",
      "[62]\ttraining-gamma-nloglik:12.26547\n",
      "[63]\ttraining-gamma-nloglik:12.26547\n",
      "[64]\ttraining-gamma-nloglik:12.26547\n",
      "[65]\ttraining-gamma-nloglik:12.26547\n",
      "[66]\ttraining-gamma-nloglik:12.26547\n",
      "[67]\ttraining-gamma-nloglik:12.26547\n",
      "[68]\ttraining-gamma-nloglik:12.26547\n",
      "[69]\ttraining-gamma-nloglik:12.26547\n",
      "[70]\ttraining-gamma-nloglik:12.26547\n",
      "[71]\ttraining-gamma-nloglik:12.26546\n",
      "[72]\ttraining-gamma-nloglik:12.26546\n",
      "[73]\ttraining-gamma-nloglik:12.26546\n",
      "[74]\ttraining-gamma-nloglik:12.26546\n",
      "[75]\ttraining-gamma-nloglik:12.26546\n",
      "[76]\ttraining-gamma-nloglik:12.26546\n",
      "[77]\ttraining-gamma-nloglik:12.26546\n",
      "[78]\ttraining-gamma-nloglik:12.26546\n",
      "[79]\ttraining-gamma-nloglik:12.26546\n",
      "[80]\ttraining-gamma-nloglik:12.26545\n",
      "[81]\ttraining-gamma-nloglik:12.26545\n",
      "[82]\ttraining-gamma-nloglik:12.26545\n",
      "[83]\ttraining-gamma-nloglik:12.26545\n",
      "[84]\ttraining-gamma-nloglik:12.26545\n",
      "[85]\ttraining-gamma-nloglik:12.26545\n",
      "[86]\ttraining-gamma-nloglik:12.26545\n",
      "[87]\ttraining-gamma-nloglik:12.26545\n",
      "[88]\ttraining-gamma-nloglik:12.26545\n",
      "[89]\ttraining-gamma-nloglik:12.26545\n",
      "[90]\ttraining-gamma-nloglik:12.26545\n",
      "[91]\ttraining-gamma-nloglik:12.26544\n",
      "[92]\ttraining-gamma-nloglik:12.26544\n",
      "[93]\ttraining-gamma-nloglik:12.26544\n",
      "[94]\ttraining-gamma-nloglik:12.26544\n",
      "[95]\ttraining-gamma-nloglik:12.26544\n",
      "[96]\ttraining-gamma-nloglik:12.26544\n",
      "[97]\ttraining-gamma-nloglik:12.26544\n",
      "[98]\ttraining-gamma-nloglik:12.26544\n",
      "[99]\ttraining-gamma-nloglik:12.26544\n",
      "[100]\ttraining-gamma-nloglik:12.26544\n",
      "[101]\ttraining-gamma-nloglik:12.26544\n",
      "[102]\ttraining-gamma-nloglik:12.26544\n",
      "[103]\ttraining-gamma-nloglik:12.26544\n",
      "[104]\ttraining-gamma-nloglik:12.26544\n",
      "[105]\ttraining-gamma-nloglik:12.26543\n",
      "[106]\ttraining-gamma-nloglik:12.26543\n",
      "[107]\ttraining-gamma-nloglik:12.26543\n",
      "[108]\ttraining-gamma-nloglik:12.26543\n",
      "[109]\ttraining-gamma-nloglik:12.26543\n",
      "[110]\ttraining-gamma-nloglik:12.26543\n",
      "[111]\ttraining-gamma-nloglik:12.26543\n",
      "[112]\ttraining-gamma-nloglik:12.26543\n",
      "[113]\ttraining-gamma-nloglik:12.26543\n",
      "[114]\ttraining-gamma-nloglik:12.26543\n",
      "[115]\ttraining-gamma-nloglik:12.26543\n",
      "[116]\ttraining-gamma-nloglik:12.26543\n",
      "[117]\ttraining-gamma-nloglik:12.26542\n",
      "[118]\ttraining-gamma-nloglik:12.26542\n",
      "[119]\ttraining-gamma-nloglik:12.26542\n",
      "[120]\ttraining-gamma-nloglik:12.26542\n",
      "[121]\ttraining-gamma-nloglik:12.26542\n",
      "[122]\ttraining-gamma-nloglik:12.26542\n",
      "[123]\ttraining-gamma-nloglik:12.26542\n",
      "[124]\ttraining-gamma-nloglik:12.26541\n",
      "[125]\ttraining-gamma-nloglik:12.26541\n",
      "[126]\ttraining-gamma-nloglik:12.26541\n",
      "[127]\ttraining-gamma-nloglik:12.26541\n",
      "[128]\ttraining-gamma-nloglik:12.26541\n",
      "[129]\ttraining-gamma-nloglik:12.26541\n",
      "[130]\ttraining-gamma-nloglik:12.26541\n",
      "[131]\ttraining-gamma-nloglik:12.26541\n",
      "[132]\ttraining-gamma-nloglik:12.26541\n",
      "[133]\ttraining-gamma-nloglik:12.26541\n",
      "[134]\ttraining-gamma-nloglik:12.26541\n",
      "[135]\ttraining-gamma-nloglik:12.26541\n",
      "[136]\ttraining-gamma-nloglik:12.26541\n",
      "[137]\ttraining-gamma-nloglik:12.26541\n",
      "[138]\ttraining-gamma-nloglik:12.26540\n",
      "[139]\ttraining-gamma-nloglik:12.26540\n",
      "[140]\ttraining-gamma-nloglik:12.26540\n",
      "[141]\ttraining-gamma-nloglik:12.26540\n",
      "[142]\ttraining-gamma-nloglik:12.26540\n",
      "[143]\ttraining-gamma-nloglik:12.26540\n",
      "[144]\ttraining-gamma-nloglik:12.26540\n",
      "[145]\ttraining-gamma-nloglik:12.26540\n",
      "[146]\ttraining-gamma-nloglik:12.26540\n",
      "[147]\ttraining-gamma-nloglik:12.26539\n",
      "[148]\ttraining-gamma-nloglik:12.26539\n",
      "[149]\ttraining-gamma-nloglik:12.26539\n",
      "[150]\ttraining-gamma-nloglik:12.26539\n",
      "[151]\ttraining-gamma-nloglik:12.26539\n",
      "[152]\ttraining-gamma-nloglik:12.26539\n",
      "[153]\ttraining-gamma-nloglik:12.26539\n",
      "[154]\ttraining-gamma-nloglik:12.26539\n",
      "[155]\ttraining-gamma-nloglik:12.26539\n",
      "[156]\ttraining-gamma-nloglik:12.26538\n",
      "[157]\ttraining-gamma-nloglik:12.26538\n",
      "[158]\ttraining-gamma-nloglik:12.26538\n",
      "[159]\ttraining-gamma-nloglik:12.26538\n",
      "[160]\ttraining-gamma-nloglik:12.26538\n",
      "[161]\ttraining-gamma-nloglik:12.26538\n",
      "[162]\ttraining-gamma-nloglik:12.26538\n",
      "[163]\ttraining-gamma-nloglik:12.26538\n",
      "[164]\ttraining-gamma-nloglik:12.26538\n",
      "[165]\ttraining-gamma-nloglik:12.26538\n",
      "[166]\ttraining-gamma-nloglik:12.26538\n",
      "[167]\ttraining-gamma-nloglik:12.26538\n",
      "[168]\ttraining-gamma-nloglik:12.26538\n",
      "[169]\ttraining-gamma-nloglik:12.26538\n",
      "[170]\ttraining-gamma-nloglik:12.26538\n",
      "[171]\ttraining-gamma-nloglik:12.26537\n",
      "[172]\ttraining-gamma-nloglik:12.26537\n",
      "[173]\ttraining-gamma-nloglik:12.26537\n",
      "[174]\ttraining-gamma-nloglik:12.26537\n",
      "[175]\ttraining-gamma-nloglik:12.26537\n",
      "[176]\ttraining-gamma-nloglik:12.26537\n",
      "[177]\ttraining-gamma-nloglik:12.26537\n",
      "[178]\ttraining-gamma-nloglik:12.26537\n",
      "[179]\ttraining-gamma-nloglik:12.26537\n",
      "[180]\ttraining-gamma-nloglik:12.26537\n",
      "[181]\ttraining-gamma-nloglik:12.26537\n",
      "[182]\ttraining-gamma-nloglik:12.26536\n",
      "[183]\ttraining-gamma-nloglik:12.26536\n",
      "[184]\ttraining-gamma-nloglik:12.26536\n",
      "[185]\ttraining-gamma-nloglik:12.26536\n",
      "[186]\ttraining-gamma-nloglik:12.26536\n",
      "[187]\ttraining-gamma-nloglik:12.26536\n",
      "[188]\ttraining-gamma-nloglik:12.26536\n",
      "[189]\ttraining-gamma-nloglik:12.26536\n",
      "[190]\ttraining-gamma-nloglik:12.26536\n",
      "[191]\ttraining-gamma-nloglik:12.26536\n",
      "[192]\ttraining-gamma-nloglik:12.26536\n",
      "[193]\ttraining-gamma-nloglik:12.26536\n",
      "[194]\ttraining-gamma-nloglik:12.26536\n",
      "[195]\ttraining-gamma-nloglik:12.26536\n",
      "[196]\ttraining-gamma-nloglik:12.26535\n",
      "[197]\ttraining-gamma-nloglik:12.26535\n",
      "[198]\ttraining-gamma-nloglik:12.26535\n",
      "[199]\ttraining-gamma-nloglik:12.26535\n",
      "[200]\ttraining-gamma-nloglik:12.26535\n",
      "[201]\ttraining-gamma-nloglik:12.26535\n",
      "[202]\ttraining-gamma-nloglik:12.26535\n",
      "[203]\ttraining-gamma-nloglik:12.26535\n",
      "[204]\ttraining-gamma-nloglik:12.26535\n",
      "[205]\ttraining-gamma-nloglik:12.26535\n",
      "[206]\ttraining-gamma-nloglik:12.26535\n",
      "[207]\ttraining-gamma-nloglik:12.26535\n",
      "[208]\ttraining-gamma-nloglik:12.26534\n",
      "[209]\ttraining-gamma-nloglik:12.26534\n",
      "[210]\ttraining-gamma-nloglik:12.26534\n",
      "[211]\ttraining-gamma-nloglik:12.26534\n",
      "[212]\ttraining-gamma-nloglik:12.26534\n",
      "[213]\ttraining-gamma-nloglik:12.26534\n",
      "[214]\ttraining-gamma-nloglik:12.26534\n",
      "[215]\ttraining-gamma-nloglik:12.26534\n",
      "[216]\ttraining-gamma-nloglik:12.26534\n",
      "[217]\ttraining-gamma-nloglik:12.26534\n",
      "[218]\ttraining-gamma-nloglik:12.26534\n",
      "[219]\ttraining-gamma-nloglik:12.26534\n",
      "[220]\ttraining-gamma-nloglik:12.26534\n",
      "[221]\ttraining-gamma-nloglik:12.26533\n",
      "[222]\ttraining-gamma-nloglik:12.26533\n",
      "[223]\ttraining-gamma-nloglik:12.26533\n",
      "[224]\ttraining-gamma-nloglik:12.26533\n",
      "[225]\ttraining-gamma-nloglik:12.26533\n",
      "[226]\ttraining-gamma-nloglik:12.26533\n",
      "[227]\ttraining-gamma-nloglik:12.26533\n",
      "[228]\ttraining-gamma-nloglik:12.26533\n",
      "[229]\ttraining-gamma-nloglik:12.26533\n",
      "[230]\ttraining-gamma-nloglik:12.26533\n",
      "[231]\ttraining-gamma-nloglik:12.26533\n",
      "[232]\ttraining-gamma-nloglik:12.26533\n",
      "[233]\ttraining-gamma-nloglik:12.26533\n",
      "[234]\ttraining-gamma-nloglik:12.26533\n",
      "[235]\ttraining-gamma-nloglik:12.26533\n",
      "[236]\ttraining-gamma-nloglik:12.26533\n",
      "[237]\ttraining-gamma-nloglik:12.26532\n",
      "[238]\ttraining-gamma-nloglik:12.26532\n",
      "[239]\ttraining-gamma-nloglik:12.26532\n",
      "[240]\ttraining-gamma-nloglik:12.26532\n",
      "[241]\ttraining-gamma-nloglik:12.26532\n",
      "[242]\ttraining-gamma-nloglik:12.26532\n",
      "[243]\ttraining-gamma-nloglik:12.26532\n",
      "[244]\ttraining-gamma-nloglik:12.26532\n",
      "[245]\ttraining-gamma-nloglik:12.26532\n",
      "[246]\ttraining-gamma-nloglik:12.26532\n",
      "[247]\ttraining-gamma-nloglik:12.26532\n",
      "[248]\ttraining-gamma-nloglik:12.26532\n",
      "[249]\ttraining-gamma-nloglik:12.26532\n",
      "[250]\ttraining-gamma-nloglik:12.26532\n",
      "[251]\ttraining-gamma-nloglik:12.26532\n",
      "[252]\ttraining-gamma-nloglik:12.26532\n",
      "[253]\ttraining-gamma-nloglik:12.26532\n",
      "[254]\ttraining-gamma-nloglik:12.26532\n",
      "[255]\ttraining-gamma-nloglik:12.26532\n",
      "[256]\ttraining-gamma-nloglik:12.26532\n",
      "[257]\ttraining-gamma-nloglik:12.26532\n",
      "[258]\ttraining-gamma-nloglik:12.26531\n",
      "[259]\ttraining-gamma-nloglik:12.26531\n",
      "[260]\ttraining-gamma-nloglik:12.26531\n",
      "[261]\ttraining-gamma-nloglik:12.26531\n",
      "[262]\ttraining-gamma-nloglik:12.26531\n",
      "[263]\ttraining-gamma-nloglik:12.26531\n",
      "[264]\ttraining-gamma-nloglik:12.26531\n",
      "[265]\ttraining-gamma-nloglik:12.26531\n",
      "[266]\ttraining-gamma-nloglik:12.26531\n",
      "[267]\ttraining-gamma-nloglik:12.26531\n",
      "[268]\ttraining-gamma-nloglik:12.26531\n",
      "[269]\ttraining-gamma-nloglik:12.26531\n",
      "[270]\ttraining-gamma-nloglik:12.26530\n",
      "[271]\ttraining-gamma-nloglik:12.26530\n",
      "[272]\ttraining-gamma-nloglik:12.26530\n",
      "[273]\ttraining-gamma-nloglik:12.26530\n",
      "[274]\ttraining-gamma-nloglik:12.26530\n",
      "[275]\ttraining-gamma-nloglik:12.26530\n",
      "[276]\ttraining-gamma-nloglik:12.26530\n",
      "[277]\ttraining-gamma-nloglik:12.26530\n",
      "[278]\ttraining-gamma-nloglik:12.26530\n",
      "[279]\ttraining-gamma-nloglik:12.26530\n",
      "[280]\ttraining-gamma-nloglik:12.26530\n",
      "[281]\ttraining-gamma-nloglik:12.26530\n",
      "[282]\ttraining-gamma-nloglik:12.26530\n",
      "[283]\ttraining-gamma-nloglik:12.26530\n",
      "[284]\ttraining-gamma-nloglik:12.26530\n",
      "[285]\ttraining-gamma-nloglik:12.26530\n",
      "[286]\ttraining-gamma-nloglik:12.26529\n",
      "[287]\ttraining-gamma-nloglik:12.26529\n",
      "[288]\ttraining-gamma-nloglik:12.26529\n",
      "[289]\ttraining-gamma-nloglik:12.26529\n",
      "[290]\ttraining-gamma-nloglik:12.26529\n",
      "[291]\ttraining-gamma-nloglik:12.26529\n",
      "[292]\ttraining-gamma-nloglik:12.26529\n",
      "[293]\ttraining-gamma-nloglik:12.26529\n",
      "[294]\ttraining-gamma-nloglik:12.26529\n",
      "[295]\ttraining-gamma-nloglik:12.26529\n",
      "[296]\ttraining-gamma-nloglik:12.26529\n",
      "[297]\ttraining-gamma-nloglik:12.26529\n",
      "[298]\ttraining-gamma-nloglik:12.26529\n",
      "[299]\ttraining-gamma-nloglik:12.26529\n",
      "[300]\ttraining-gamma-nloglik:12.26529\n",
      "[301]\ttraining-gamma-nloglik:12.26529\n",
      "[302]\ttraining-gamma-nloglik:12.26529\n",
      "[303]\ttraining-gamma-nloglik:12.26529\n",
      "[304]\ttraining-gamma-nloglik:12.26529\n",
      "[305]\ttraining-gamma-nloglik:12.26529\n",
      "[306]\ttraining-gamma-nloglik:12.26528\n",
      "[307]\ttraining-gamma-nloglik:12.26528\n",
      "[308]\ttraining-gamma-nloglik:12.26528\n",
      "[309]\ttraining-gamma-nloglik:12.26528\n",
      "[310]\ttraining-gamma-nloglik:12.26528\n",
      "[311]\ttraining-gamma-nloglik:12.26528\n",
      "[312]\ttraining-gamma-nloglik:12.26528\n",
      "[313]\ttraining-gamma-nloglik:12.26528\n",
      "[314]\ttraining-gamma-nloglik:12.26528\n",
      "[315]\ttraining-gamma-nloglik:12.26528\n",
      "[316]\ttraining-gamma-nloglik:12.26528\n",
      "[317]\ttraining-gamma-nloglik:12.26528\n",
      "[318]\ttraining-gamma-nloglik:12.26528\n",
      "[319]\ttraining-gamma-nloglik:12.26528\n",
      "[320]\ttraining-gamma-nloglik:12.26528\n",
      "[321]\ttraining-gamma-nloglik:12.26528\n",
      "[322]\ttraining-gamma-nloglik:12.26528\n",
      "[323]\ttraining-gamma-nloglik:12.26528\n",
      "[324]\ttraining-gamma-nloglik:12.26528\n",
      "[325]\ttraining-gamma-nloglik:12.26527\n",
      "[326]\ttraining-gamma-nloglik:12.26527\n",
      "[327]\ttraining-gamma-nloglik:12.26527\n",
      "[328]\ttraining-gamma-nloglik:12.26527\n",
      "[329]\ttraining-gamma-nloglik:12.26527\n",
      "[330]\ttraining-gamma-nloglik:12.26527\n",
      "[331]\ttraining-gamma-nloglik:12.26527\n",
      "[332]\ttraining-gamma-nloglik:12.26527\n",
      "[333]\ttraining-gamma-nloglik:12.26527\n",
      "[334]\ttraining-gamma-nloglik:12.26527\n",
      "[335]\ttraining-gamma-nloglik:12.26527\n",
      "[336]\ttraining-gamma-nloglik:12.26527\n",
      "[337]\ttraining-gamma-nloglik:12.26527\n",
      "[338]\ttraining-gamma-nloglik:12.26527\n",
      "[339]\ttraining-gamma-nloglik:12.26527\n",
      "[340]\ttraining-gamma-nloglik:12.26527\n",
      "[341]\ttraining-gamma-nloglik:12.26527\n",
      "[342]\ttraining-gamma-nloglik:12.26527\n",
      "[343]\ttraining-gamma-nloglik:12.26527\n",
      "[344]\ttraining-gamma-nloglik:12.26527\n",
      "[345]\ttraining-gamma-nloglik:12.26527\n",
      "[346]\ttraining-gamma-nloglik:12.26526\n",
      "[347]\ttraining-gamma-nloglik:12.26526\n",
      "[348]\ttraining-gamma-nloglik:12.26526\n",
      "[349]\ttraining-gamma-nloglik:12.26526\n",
      "[350]\ttraining-gamma-nloglik:12.26526\n",
      "[351]\ttraining-gamma-nloglik:12.26526\n",
      "[352]\ttraining-gamma-nloglik:12.26526\n",
      "[353]\ttraining-gamma-nloglik:12.26526\n",
      "[354]\ttraining-gamma-nloglik:12.26526\n",
      "[355]\ttraining-gamma-nloglik:12.26526\n",
      "[356]\ttraining-gamma-nloglik:12.26526\n",
      "[357]\ttraining-gamma-nloglik:12.26526\n",
      "[358]\ttraining-gamma-nloglik:12.26526\n",
      "[359]\ttraining-gamma-nloglik:12.26526\n",
      "[360]\ttraining-gamma-nloglik:12.26526\n",
      "[361]\ttraining-gamma-nloglik:12.26526\n",
      "[362]\ttraining-gamma-nloglik:12.26526\n",
      "[363]\ttraining-gamma-nloglik:12.26526\n",
      "[364]\ttraining-gamma-nloglik:12.26526\n",
      "[365]\ttraining-gamma-nloglik:12.26526\n",
      "[366]\ttraining-gamma-nloglik:12.26526\n",
      "[367]\ttraining-gamma-nloglik:12.26526\n",
      "[368]\ttraining-gamma-nloglik:12.26525\n",
      "[369]\ttraining-gamma-nloglik:12.26525\n",
      "[370]\ttraining-gamma-nloglik:12.26525\n",
      "[371]\ttraining-gamma-nloglik:12.26525\n",
      "[372]\ttraining-gamma-nloglik:12.26525\n",
      "[373]\ttraining-gamma-nloglik:12.26525\n",
      "[374]\ttraining-gamma-nloglik:12.26525\n",
      "[375]\ttraining-gamma-nloglik:12.26525\n",
      "[376]\ttraining-gamma-nloglik:12.26525\n",
      "[377]\ttraining-gamma-nloglik:12.26525\n",
      "[378]\ttraining-gamma-nloglik:12.26525\n",
      "[379]\ttraining-gamma-nloglik:12.26525\n",
      "[380]\ttraining-gamma-nloglik:12.26525\n",
      "[381]\ttraining-gamma-nloglik:12.26525\n",
      "[382]\ttraining-gamma-nloglik:12.26525\n",
      "[383]\ttraining-gamma-nloglik:12.26525\n",
      "[384]\ttraining-gamma-nloglik:12.26525\n",
      "[385]\ttraining-gamma-nloglik:12.26525\n",
      "[386]\ttraining-gamma-nloglik:12.26525\n",
      "[387]\ttraining-gamma-nloglik:12.26525\n",
      "[388]\ttraining-gamma-nloglik:12.26525\n",
      "[389]\ttraining-gamma-nloglik:12.26525\n",
      "[390]\ttraining-gamma-nloglik:12.26525\n",
      "[391]\ttraining-gamma-nloglik:12.26525\n",
      "[392]\ttraining-gamma-nloglik:12.26525\n",
      "[393]\ttraining-gamma-nloglik:12.26525\n",
      "[394]\ttraining-gamma-nloglik:12.26525\n",
      "[395]\ttraining-gamma-nloglik:12.26525\n",
      "[396]\ttraining-gamma-nloglik:12.26524\n",
      "[397]\ttraining-gamma-nloglik:12.26524\n",
      "[398]\ttraining-gamma-nloglik:12.26524\n",
      "[399]\ttraining-gamma-nloglik:12.26524\n",
      "[400]\ttraining-gamma-nloglik:12.26524\n",
      "[401]\ttraining-gamma-nloglik:12.26524\n",
      "[402]\ttraining-gamma-nloglik:12.26524\n",
      "[403]\ttraining-gamma-nloglik:12.26524\n",
      "[404]\ttraining-gamma-nloglik:12.26524\n",
      "[405]\ttraining-gamma-nloglik:12.26524\n",
      "[406]\ttraining-gamma-nloglik:12.26524\n",
      "[407]\ttraining-gamma-nloglik:12.26524\n",
      "[408]\ttraining-gamma-nloglik:12.26524\n",
      "[409]\ttraining-gamma-nloglik:12.26524\n",
      "[410]\ttraining-gamma-nloglik:12.26524\n",
      "[411]\ttraining-gamma-nloglik:12.26524\n",
      "[412]\ttraining-gamma-nloglik:12.26524\n",
      "[413]\ttraining-gamma-nloglik:12.26524\n",
      "[414]\ttraining-gamma-nloglik:12.26524\n",
      "[415]\ttraining-gamma-nloglik:12.26524\n",
      "[416]\ttraining-gamma-nloglik:12.26524\n",
      "[417]\ttraining-gamma-nloglik:12.26524\n",
      "[418]\ttraining-gamma-nloglik:12.26524\n",
      "[419]\ttraining-gamma-nloglik:12.26524\n",
      "[420]\ttraining-gamma-nloglik:12.26524\n",
      "[421]\ttraining-gamma-nloglik:12.26524\n",
      "[422]\ttraining-gamma-nloglik:12.26524\n",
      "[423]\ttraining-gamma-nloglik:12.26523\n",
      "[424]\ttraining-gamma-nloglik:12.26523\n",
      "[425]\ttraining-gamma-nloglik:12.26523\n",
      "[426]\ttraining-gamma-nloglik:12.26523\n",
      "[427]\ttraining-gamma-nloglik:12.26523\n",
      "[428]\ttraining-gamma-nloglik:12.26523\n",
      "[429]\ttraining-gamma-nloglik:12.26523\n",
      "[430]\ttraining-gamma-nloglik:12.26523\n",
      "[431]\ttraining-gamma-nloglik:12.26523\n",
      "[432]\ttraining-gamma-nloglik:12.26523\n",
      "[433]\ttraining-gamma-nloglik:12.26523\n",
      "[434]\ttraining-gamma-nloglik:12.26523\n",
      "[435]\ttraining-gamma-nloglik:12.26523\n",
      "[436]\ttraining-gamma-nloglik:12.26523\n",
      "[437]\ttraining-gamma-nloglik:12.26523\n",
      "[438]\ttraining-gamma-nloglik:12.26523\n",
      "[439]\ttraining-gamma-nloglik:12.26523\n",
      "[440]\ttraining-gamma-nloglik:12.26523\n",
      "[441]\ttraining-gamma-nloglik:12.26523\n",
      "[442]\ttraining-gamma-nloglik:12.26523\n",
      "[443]\ttraining-gamma-nloglik:12.26523\n",
      "[444]\ttraining-gamma-nloglik:12.26523\n",
      "[445]\ttraining-gamma-nloglik:12.26523\n",
      "[446]\ttraining-gamma-nloglik:12.26523\n",
      "[447]\ttraining-gamma-nloglik:12.26523\n",
      "[448]\ttraining-gamma-nloglik:12.26523\n",
      "[449]\ttraining-gamma-nloglik:12.26523\n",
      "[450]\ttraining-gamma-nloglik:12.26523\n",
      "[451]\ttraining-gamma-nloglik:12.26523\n",
      "[452]\ttraining-gamma-nloglik:12.26523\n",
      "[453]\ttraining-gamma-nloglik:12.26523\n",
      "[454]\ttraining-gamma-nloglik:12.26522\n",
      "[455]\ttraining-gamma-nloglik:12.26522\n",
      "[456]\ttraining-gamma-nloglik:12.26522\n",
      "[457]\ttraining-gamma-nloglik:12.26522\n",
      "[458]\ttraining-gamma-nloglik:12.26522\n",
      "[459]\ttraining-gamma-nloglik:12.26522\n",
      "[460]\ttraining-gamma-nloglik:12.26522\n",
      "[461]\ttraining-gamma-nloglik:12.26522\n",
      "[462]\ttraining-gamma-nloglik:12.26522\n",
      "[463]\ttraining-gamma-nloglik:12.26522\n",
      "[464]\ttraining-gamma-nloglik:12.26522\n",
      "[465]\ttraining-gamma-nloglik:12.26522\n",
      "[466]\ttraining-gamma-nloglik:12.26522\n",
      "[467]\ttraining-gamma-nloglik:12.26522\n",
      "[468]\ttraining-gamma-nloglik:12.26522\n",
      "[469]\ttraining-gamma-nloglik:12.26522\n",
      "[470]\ttraining-gamma-nloglik:12.26522\n",
      "[471]\ttraining-gamma-nloglik:12.26522\n",
      "[472]\ttraining-gamma-nloglik:12.26522\n",
      "[473]\ttraining-gamma-nloglik:12.26522\n",
      "[474]\ttraining-gamma-nloglik:12.26522\n",
      "[475]\ttraining-gamma-nloglik:12.26522\n",
      "[476]\ttraining-gamma-nloglik:12.26522\n",
      "[477]\ttraining-gamma-nloglik:12.26522\n",
      "[478]\ttraining-gamma-nloglik:12.26522\n",
      "[479]\ttraining-gamma-nloglik:12.26522\n",
      "[480]\ttraining-gamma-nloglik:12.26522\n",
      "[481]\ttraining-gamma-nloglik:12.26522\n",
      "[482]\ttraining-gamma-nloglik:12.26522\n",
      "[483]\ttraining-gamma-nloglik:12.26522\n",
      "[484]\ttraining-gamma-nloglik:12.26522\n",
      "[485]\ttraining-gamma-nloglik:12.26521\n",
      "[486]\ttraining-gamma-nloglik:12.26521\n",
      "[487]\ttraining-gamma-nloglik:12.26521\n",
      "[488]\ttraining-gamma-nloglik:12.26521\n",
      "[489]\ttraining-gamma-nloglik:12.26521\n",
      "[490]\ttraining-gamma-nloglik:12.26521\n",
      "[491]\ttraining-gamma-nloglik:12.26521\n",
      "[492]\ttraining-gamma-nloglik:12.26521\n",
      "[493]\ttraining-gamma-nloglik:12.26521\n",
      "[494]\ttraining-gamma-nloglik:12.26521\n",
      "[495]\ttraining-gamma-nloglik:12.26521\n",
      "[496]\ttraining-gamma-nloglik:12.26521\n",
      "[497]\ttraining-gamma-nloglik:12.26521\n",
      "[498]\ttraining-gamma-nloglik:12.26521\n",
      "[499]\ttraining-gamma-nloglik:12.26521\n",
      "SMAPE train: 1.0937660134062586, SMAPE test: 21.192634764460177\n"
     ]
    }
   ],
   "source": [
    "n=500\n",
    "xg_model3 = xgb.train(\n",
    "    params=params,\n",
    "    dtrain=dtrain_reg,\n",
    "    num_boost_round=n,\n",
    "    evals=[(dtrain_reg, \"training\")],\n",
    "    xgb_model = xg_model2\n",
    ")\n",
    "\n",
    "y_pred_train = xg_model3.predict(dtrain_reg)\n",
    "y_pred_test = xg_model3.predict(dtest_reg)\n",
    "\n",
    "print(f'SMAPE train: {smape(y_train, y_pred_train)}, SMAPE test: {smape(y_test, y_pred_test)}')"
   ]
  },
  {
   "cell_type": "code",
   "execution_count": 195,
   "id": "69ed98d0fe4c149e",
   "metadata": {
    "ExecuteTime": {
     "end_time": "2024-01-09T21:00:51.570209400Z",
     "start_time": "2024-01-09T20:59:54.705934700Z"
    },
    "collapsed": false,
    "jupyter": {
     "outputs_hidden": false
    }
   },
   "outputs": [
    {
     "name": "stdout",
     "output_type": "stream",
     "text": [
      "[0]\ttraining-gamma-nloglik:12.26521\n",
      "[1]\ttraining-gamma-nloglik:12.26521\n",
      "[2]\ttraining-gamma-nloglik:12.26521\n",
      "[3]\ttraining-gamma-nloglik:12.26521\n",
      "[4]\ttraining-gamma-nloglik:12.26521\n",
      "[5]\ttraining-gamma-nloglik:12.26521\n",
      "[6]\ttraining-gamma-nloglik:12.26521\n",
      "[7]\ttraining-gamma-nloglik:12.26521\n",
      "[8]\ttraining-gamma-nloglik:12.26521\n",
      "[9]\ttraining-gamma-nloglik:12.26521\n",
      "[10]\ttraining-gamma-nloglik:12.26521\n",
      "[11]\ttraining-gamma-nloglik:12.26521\n",
      "[12]\ttraining-gamma-nloglik:12.26521\n",
      "[13]\ttraining-gamma-nloglik:12.26521\n",
      "[14]\ttraining-gamma-nloglik:12.26521\n",
      "[15]\ttraining-gamma-nloglik:12.26521\n",
      "[16]\ttraining-gamma-nloglik:12.26521\n",
      "[17]\ttraining-gamma-nloglik:12.26521\n",
      "[18]\ttraining-gamma-nloglik:12.26521\n",
      "[19]\ttraining-gamma-nloglik:12.26521\n",
      "[20]\ttraining-gamma-nloglik:12.26521\n",
      "[21]\ttraining-gamma-nloglik:12.26521\n",
      "[22]\ttraining-gamma-nloglik:12.26521\n",
      "[23]\ttraining-gamma-nloglik:12.26521\n",
      "[24]\ttraining-gamma-nloglik:12.26521\n",
      "[25]\ttraining-gamma-nloglik:12.26521\n",
      "[26]\ttraining-gamma-nloglik:12.26520\n",
      "[27]\ttraining-gamma-nloglik:12.26520\n",
      "[28]\ttraining-gamma-nloglik:12.26520\n",
      "[29]\ttraining-gamma-nloglik:12.26520\n",
      "[30]\ttraining-gamma-nloglik:12.26520\n",
      "[31]\ttraining-gamma-nloglik:12.26520\n",
      "[32]\ttraining-gamma-nloglik:12.26520\n",
      "[33]\ttraining-gamma-nloglik:12.26520\n",
      "[34]\ttraining-gamma-nloglik:12.26520\n",
      "[35]\ttraining-gamma-nloglik:12.26520\n",
      "[36]\ttraining-gamma-nloglik:12.26520\n",
      "[37]\ttraining-gamma-nloglik:12.26520\n",
      "[38]\ttraining-gamma-nloglik:12.26520\n",
      "[39]\ttraining-gamma-nloglik:12.26520\n",
      "[40]\ttraining-gamma-nloglik:12.26520\n",
      "[41]\ttraining-gamma-nloglik:12.26520\n",
      "[42]\ttraining-gamma-nloglik:12.26520\n",
      "[43]\ttraining-gamma-nloglik:12.26520\n",
      "[44]\ttraining-gamma-nloglik:12.26520\n",
      "[45]\ttraining-gamma-nloglik:12.26520\n",
      "[46]\ttraining-gamma-nloglik:12.26520\n",
      "[47]\ttraining-gamma-nloglik:12.26520\n",
      "[48]\ttraining-gamma-nloglik:12.26520\n",
      "[49]\ttraining-gamma-nloglik:12.26520\n",
      "[50]\ttraining-gamma-nloglik:12.26520\n",
      "[51]\ttraining-gamma-nloglik:12.26520\n",
      "[52]\ttraining-gamma-nloglik:12.26520\n",
      "[53]\ttraining-gamma-nloglik:12.26520\n",
      "[54]\ttraining-gamma-nloglik:12.26520\n",
      "[55]\ttraining-gamma-nloglik:12.26520\n",
      "[56]\ttraining-gamma-nloglik:12.26520\n",
      "[57]\ttraining-gamma-nloglik:12.26520\n",
      "[58]\ttraining-gamma-nloglik:12.26520\n",
      "[59]\ttraining-gamma-nloglik:12.26520\n",
      "[60]\ttraining-gamma-nloglik:12.26520\n",
      "[61]\ttraining-gamma-nloglik:12.26520\n",
      "[62]\ttraining-gamma-nloglik:12.26519\n",
      "[63]\ttraining-gamma-nloglik:12.26519\n",
      "[64]\ttraining-gamma-nloglik:12.26519\n",
      "[65]\ttraining-gamma-nloglik:12.26519\n",
      "[66]\ttraining-gamma-nloglik:12.26519\n",
      "[67]\ttraining-gamma-nloglik:12.26519\n",
      "[68]\ttraining-gamma-nloglik:12.26519\n",
      "[69]\ttraining-gamma-nloglik:12.26519\n",
      "[70]\ttraining-gamma-nloglik:12.26519\n",
      "[71]\ttraining-gamma-nloglik:12.26519\n",
      "[72]\ttraining-gamma-nloglik:12.26519\n",
      "[73]\ttraining-gamma-nloglik:12.26519\n",
      "[74]\ttraining-gamma-nloglik:12.26519\n",
      "[75]\ttraining-gamma-nloglik:12.26519\n",
      "[76]\ttraining-gamma-nloglik:12.26519\n",
      "[77]\ttraining-gamma-nloglik:12.26519\n",
      "[78]\ttraining-gamma-nloglik:12.26519\n",
      "[79]\ttraining-gamma-nloglik:12.26519\n",
      "[80]\ttraining-gamma-nloglik:12.26519\n",
      "[81]\ttraining-gamma-nloglik:12.26519\n",
      "[82]\ttraining-gamma-nloglik:12.26519\n",
      "[83]\ttraining-gamma-nloglik:12.26519\n",
      "[84]\ttraining-gamma-nloglik:12.26519\n",
      "[85]\ttraining-gamma-nloglik:12.26519\n",
      "[86]\ttraining-gamma-nloglik:12.26519\n",
      "[87]\ttraining-gamma-nloglik:12.26519\n",
      "[88]\ttraining-gamma-nloglik:12.26519\n",
      "[89]\ttraining-gamma-nloglik:12.26519\n",
      "[90]\ttraining-gamma-nloglik:12.26519\n",
      "[91]\ttraining-gamma-nloglik:12.26519\n",
      "[92]\ttraining-gamma-nloglik:12.26519\n",
      "[93]\ttraining-gamma-nloglik:12.26519\n",
      "[94]\ttraining-gamma-nloglik:12.26519\n",
      "[95]\ttraining-gamma-nloglik:12.26519\n",
      "[96]\ttraining-gamma-nloglik:12.26519\n",
      "[97]\ttraining-gamma-nloglik:12.26519\n",
      "[98]\ttraining-gamma-nloglik:12.26519\n",
      "[99]\ttraining-gamma-nloglik:12.26519\n",
      "[100]\ttraining-gamma-nloglik:12.26519\n",
      "[101]\ttraining-gamma-nloglik:12.26518\n",
      "[102]\ttraining-gamma-nloglik:12.26518\n",
      "[103]\ttraining-gamma-nloglik:12.26518\n",
      "[104]\ttraining-gamma-nloglik:12.26518\n",
      "[105]\ttraining-gamma-nloglik:12.26518\n",
      "[106]\ttraining-gamma-nloglik:12.26518\n",
      "[107]\ttraining-gamma-nloglik:12.26518\n",
      "[108]\ttraining-gamma-nloglik:12.26518\n",
      "[109]\ttraining-gamma-nloglik:12.26518\n",
      "[110]\ttraining-gamma-nloglik:12.26518\n",
      "[111]\ttraining-gamma-nloglik:12.26518\n",
      "[112]\ttraining-gamma-nloglik:12.26518\n",
      "[113]\ttraining-gamma-nloglik:12.26518\n",
      "[114]\ttraining-gamma-nloglik:12.26518\n",
      "[115]\ttraining-gamma-nloglik:12.26518\n",
      "[116]\ttraining-gamma-nloglik:12.26518\n",
      "[117]\ttraining-gamma-nloglik:12.26518\n",
      "[118]\ttraining-gamma-nloglik:12.26518\n",
      "[119]\ttraining-gamma-nloglik:12.26518\n",
      "[120]\ttraining-gamma-nloglik:12.26518\n",
      "[121]\ttraining-gamma-nloglik:12.26518\n",
      "[122]\ttraining-gamma-nloglik:12.26518\n",
      "[123]\ttraining-gamma-nloglik:12.26518\n",
      "[124]\ttraining-gamma-nloglik:12.26518\n",
      "[125]\ttraining-gamma-nloglik:12.26518\n",
      "[126]\ttraining-gamma-nloglik:12.26518\n",
      "[127]\ttraining-gamma-nloglik:12.26518\n",
      "[128]\ttraining-gamma-nloglik:12.26518\n",
      "[129]\ttraining-gamma-nloglik:12.26518\n",
      "[130]\ttraining-gamma-nloglik:12.26518\n",
      "[131]\ttraining-gamma-nloglik:12.26518\n",
      "[132]\ttraining-gamma-nloglik:12.26518\n",
      "[133]\ttraining-gamma-nloglik:12.26518\n",
      "[134]\ttraining-gamma-nloglik:12.26518\n",
      "[135]\ttraining-gamma-nloglik:12.26518\n",
      "[136]\ttraining-gamma-nloglik:12.26518\n",
      "[137]\ttraining-gamma-nloglik:12.26518\n",
      "[138]\ttraining-gamma-nloglik:12.26518\n",
      "[139]\ttraining-gamma-nloglik:12.26518\n",
      "[140]\ttraining-gamma-nloglik:12.26518\n",
      "[141]\ttraining-gamma-nloglik:12.26518\n",
      "[142]\ttraining-gamma-nloglik:12.26518\n",
      "[143]\ttraining-gamma-nloglik:12.26518\n",
      "[144]\ttraining-gamma-nloglik:12.26518\n",
      "[145]\ttraining-gamma-nloglik:12.26518\n",
      "[146]\ttraining-gamma-nloglik:12.26518\n",
      "[147]\ttraining-gamma-nloglik:12.26518\n",
      "[148]\ttraining-gamma-nloglik:12.26518\n",
      "[149]\ttraining-gamma-nloglik:12.26517\n",
      "[150]\ttraining-gamma-nloglik:12.26517\n",
      "[151]\ttraining-gamma-nloglik:12.26517\n",
      "[152]\ttraining-gamma-nloglik:12.26517\n",
      "[153]\ttraining-gamma-nloglik:12.26517\n",
      "[154]\ttraining-gamma-nloglik:12.26517\n",
      "[155]\ttraining-gamma-nloglik:12.26517\n",
      "[156]\ttraining-gamma-nloglik:12.26517\n",
      "[157]\ttraining-gamma-nloglik:12.26517\n",
      "[158]\ttraining-gamma-nloglik:12.26517\n",
      "[159]\ttraining-gamma-nloglik:12.26517\n",
      "[160]\ttraining-gamma-nloglik:12.26517\n",
      "[161]\ttraining-gamma-nloglik:12.26517\n",
      "[162]\ttraining-gamma-nloglik:12.26517\n",
      "[163]\ttraining-gamma-nloglik:12.26517\n",
      "[164]\ttraining-gamma-nloglik:12.26517\n",
      "[165]\ttraining-gamma-nloglik:12.26517\n",
      "[166]\ttraining-gamma-nloglik:12.26517\n",
      "[167]\ttraining-gamma-nloglik:12.26517\n",
      "[168]\ttraining-gamma-nloglik:12.26517\n",
      "[169]\ttraining-gamma-nloglik:12.26517\n",
      "[170]\ttraining-gamma-nloglik:12.26517\n",
      "[171]\ttraining-gamma-nloglik:12.26517\n",
      "[172]\ttraining-gamma-nloglik:12.26517\n",
      "[173]\ttraining-gamma-nloglik:12.26517\n",
      "[174]\ttraining-gamma-nloglik:12.26517\n",
      "[175]\ttraining-gamma-nloglik:12.26517\n",
      "[176]\ttraining-gamma-nloglik:12.26517\n",
      "[177]\ttraining-gamma-nloglik:12.26517\n",
      "[178]\ttraining-gamma-nloglik:12.26517\n",
      "[179]\ttraining-gamma-nloglik:12.26517\n",
      "[180]\ttraining-gamma-nloglik:12.26517\n",
      "[181]\ttraining-gamma-nloglik:12.26517\n",
      "[182]\ttraining-gamma-nloglik:12.26517\n",
      "[183]\ttraining-gamma-nloglik:12.26517\n",
      "[184]\ttraining-gamma-nloglik:12.26517\n",
      "[185]\ttraining-gamma-nloglik:12.26517\n",
      "[186]\ttraining-gamma-nloglik:12.26517\n",
      "[187]\ttraining-gamma-nloglik:12.26517\n",
      "[188]\ttraining-gamma-nloglik:12.26517\n",
      "[189]\ttraining-gamma-nloglik:12.26517\n",
      "[190]\ttraining-gamma-nloglik:12.26517\n",
      "[191]\ttraining-gamma-nloglik:12.26517\n",
      "[192]\ttraining-gamma-nloglik:12.26517\n",
      "[193]\ttraining-gamma-nloglik:12.26517\n",
      "[194]\ttraining-gamma-nloglik:12.26517\n",
      "[195]\ttraining-gamma-nloglik:12.26517\n",
      "[196]\ttraining-gamma-nloglik:12.26517\n",
      "[197]\ttraining-gamma-nloglik:12.26517\n",
      "[198]\ttraining-gamma-nloglik:12.26517\n",
      "[199]\ttraining-gamma-nloglik:12.26517\n",
      "[200]\ttraining-gamma-nloglik:12.26517\n",
      "[201]\ttraining-gamma-nloglik:12.26517\n",
      "[202]\ttraining-gamma-nloglik:12.26516\n",
      "[203]\ttraining-gamma-nloglik:12.26516\n",
      "[204]\ttraining-gamma-nloglik:12.26516\n",
      "[205]\ttraining-gamma-nloglik:12.26516\n",
      "[206]\ttraining-gamma-nloglik:12.26516\n",
      "[207]\ttraining-gamma-nloglik:12.26516\n",
      "[208]\ttraining-gamma-nloglik:12.26516\n",
      "[209]\ttraining-gamma-nloglik:12.26516\n",
      "[210]\ttraining-gamma-nloglik:12.26516\n",
      "[211]\ttraining-gamma-nloglik:12.26516\n",
      "[212]\ttraining-gamma-nloglik:12.26516\n",
      "[213]\ttraining-gamma-nloglik:12.26516\n",
      "[214]\ttraining-gamma-nloglik:12.26516\n",
      "[215]\ttraining-gamma-nloglik:12.26516\n",
      "[216]\ttraining-gamma-nloglik:12.26516\n",
      "[217]\ttraining-gamma-nloglik:12.26516\n",
      "[218]\ttraining-gamma-nloglik:12.26516\n",
      "[219]\ttraining-gamma-nloglik:12.26516\n",
      "[220]\ttraining-gamma-nloglik:12.26516\n",
      "[221]\ttraining-gamma-nloglik:12.26516\n",
      "[222]\ttraining-gamma-nloglik:12.26516\n",
      "[223]\ttraining-gamma-nloglik:12.26516\n",
      "[224]\ttraining-gamma-nloglik:12.26516\n",
      "[225]\ttraining-gamma-nloglik:12.26516\n",
      "[226]\ttraining-gamma-nloglik:12.26516\n",
      "[227]\ttraining-gamma-nloglik:12.26516\n",
      "[228]\ttraining-gamma-nloglik:12.26516\n",
      "[229]\ttraining-gamma-nloglik:12.26516\n",
      "[230]\ttraining-gamma-nloglik:12.26516\n",
      "[231]\ttraining-gamma-nloglik:12.26516\n",
      "[232]\ttraining-gamma-nloglik:12.26516\n",
      "[233]\ttraining-gamma-nloglik:12.26516\n",
      "[234]\ttraining-gamma-nloglik:12.26516\n",
      "[235]\ttraining-gamma-nloglik:12.26516\n",
      "[236]\ttraining-gamma-nloglik:12.26516\n",
      "[237]\ttraining-gamma-nloglik:12.26516\n",
      "[238]\ttraining-gamma-nloglik:12.26516\n",
      "[239]\ttraining-gamma-nloglik:12.26516\n",
      "[240]\ttraining-gamma-nloglik:12.26516\n",
      "[241]\ttraining-gamma-nloglik:12.26516\n",
      "[242]\ttraining-gamma-nloglik:12.26516\n",
      "[243]\ttraining-gamma-nloglik:12.26516\n",
      "[244]\ttraining-gamma-nloglik:12.26516\n",
      "[245]\ttraining-gamma-nloglik:12.26516\n",
      "[246]\ttraining-gamma-nloglik:12.26516\n",
      "[247]\ttraining-gamma-nloglik:12.26516\n",
      "[248]\ttraining-gamma-nloglik:12.26516\n",
      "[249]\ttraining-gamma-nloglik:12.26516\n",
      "[250]\ttraining-gamma-nloglik:12.26516\n",
      "[251]\ttraining-gamma-nloglik:12.26516\n",
      "[252]\ttraining-gamma-nloglik:12.26516\n",
      "[253]\ttraining-gamma-nloglik:12.26516\n",
      "[254]\ttraining-gamma-nloglik:12.26516\n",
      "[255]\ttraining-gamma-nloglik:12.26516\n",
      "[256]\ttraining-gamma-nloglik:12.26516\n",
      "[257]\ttraining-gamma-nloglik:12.26516\n",
      "[258]\ttraining-gamma-nloglik:12.26516\n",
      "[259]\ttraining-gamma-nloglik:12.26516\n",
      "[260]\ttraining-gamma-nloglik:12.26516\n",
      "[261]\ttraining-gamma-nloglik:12.26516\n",
      "[262]\ttraining-gamma-nloglik:12.26516\n",
      "[263]\ttraining-gamma-nloglik:12.26516\n",
      "[264]\ttraining-gamma-nloglik:12.26516\n",
      "[265]\ttraining-gamma-nloglik:12.26516\n",
      "[266]\ttraining-gamma-nloglik:12.26516\n",
      "[267]\ttraining-gamma-nloglik:12.26516\n",
      "[268]\ttraining-gamma-nloglik:12.26515\n",
      "[269]\ttraining-gamma-nloglik:12.26515\n",
      "[270]\ttraining-gamma-nloglik:12.26515\n",
      "[271]\ttraining-gamma-nloglik:12.26515\n",
      "[272]\ttraining-gamma-nloglik:12.26515\n",
      "[273]\ttraining-gamma-nloglik:12.26515\n",
      "[274]\ttraining-gamma-nloglik:12.26515\n",
      "[275]\ttraining-gamma-nloglik:12.26515\n",
      "[276]\ttraining-gamma-nloglik:12.26515\n",
      "[277]\ttraining-gamma-nloglik:12.26515\n",
      "[278]\ttraining-gamma-nloglik:12.26515\n",
      "[279]\ttraining-gamma-nloglik:12.26515\n",
      "[280]\ttraining-gamma-nloglik:12.26515\n",
      "[281]\ttraining-gamma-nloglik:12.26515\n",
      "[282]\ttraining-gamma-nloglik:12.26515\n",
      "[283]\ttraining-gamma-nloglik:12.26515\n",
      "[284]\ttraining-gamma-nloglik:12.26515\n",
      "[285]\ttraining-gamma-nloglik:12.26515\n",
      "[286]\ttraining-gamma-nloglik:12.26515\n",
      "[287]\ttraining-gamma-nloglik:12.26515\n",
      "[288]\ttraining-gamma-nloglik:12.26515\n",
      "[289]\ttraining-gamma-nloglik:12.26515\n",
      "[290]\ttraining-gamma-nloglik:12.26515\n",
      "[291]\ttraining-gamma-nloglik:12.26515\n",
      "[292]\ttraining-gamma-nloglik:12.26515\n",
      "[293]\ttraining-gamma-nloglik:12.26515\n",
      "[294]\ttraining-gamma-nloglik:12.26515\n",
      "[295]\ttraining-gamma-nloglik:12.26515\n",
      "[296]\ttraining-gamma-nloglik:12.26515\n",
      "[297]\ttraining-gamma-nloglik:12.26515\n",
      "[298]\ttraining-gamma-nloglik:12.26515\n",
      "[299]\ttraining-gamma-nloglik:12.26515\n",
      "[300]\ttraining-gamma-nloglik:12.26515\n",
      "[301]\ttraining-gamma-nloglik:12.26515\n",
      "[302]\ttraining-gamma-nloglik:12.26515\n",
      "[303]\ttraining-gamma-nloglik:12.26515\n",
      "[304]\ttraining-gamma-nloglik:12.26515\n",
      "[305]\ttraining-gamma-nloglik:12.26515\n",
      "[306]\ttraining-gamma-nloglik:12.26515\n",
      "[307]\ttraining-gamma-nloglik:12.26515\n",
      "[308]\ttraining-gamma-nloglik:12.26515\n",
      "[309]\ttraining-gamma-nloglik:12.26515\n",
      "[310]\ttraining-gamma-nloglik:12.26515\n",
      "[311]\ttraining-gamma-nloglik:12.26515\n",
      "[312]\ttraining-gamma-nloglik:12.26515\n",
      "[313]\ttraining-gamma-nloglik:12.26515\n",
      "[314]\ttraining-gamma-nloglik:12.26515\n",
      "[315]\ttraining-gamma-nloglik:12.26515\n",
      "[316]\ttraining-gamma-nloglik:12.26515\n",
      "[317]\ttraining-gamma-nloglik:12.26515\n",
      "[318]\ttraining-gamma-nloglik:12.26515\n",
      "[319]\ttraining-gamma-nloglik:12.26515\n",
      "[320]\ttraining-gamma-nloglik:12.26515\n",
      "[321]\ttraining-gamma-nloglik:12.26515\n",
      "[322]\ttraining-gamma-nloglik:12.26515\n",
      "[323]\ttraining-gamma-nloglik:12.26515\n",
      "[324]\ttraining-gamma-nloglik:12.26515\n",
      "[325]\ttraining-gamma-nloglik:12.26515\n",
      "[326]\ttraining-gamma-nloglik:12.26515\n",
      "[327]\ttraining-gamma-nloglik:12.26515\n",
      "[328]\ttraining-gamma-nloglik:12.26515\n",
      "[329]\ttraining-gamma-nloglik:12.26515\n",
      "[330]\ttraining-gamma-nloglik:12.26515\n",
      "[331]\ttraining-gamma-nloglik:12.26515\n",
      "[332]\ttraining-gamma-nloglik:12.26515\n",
      "[333]\ttraining-gamma-nloglik:12.26515\n",
      "[334]\ttraining-gamma-nloglik:12.26515\n",
      "[335]\ttraining-gamma-nloglik:12.26515\n",
      "[336]\ttraining-gamma-nloglik:12.26515\n",
      "[337]\ttraining-gamma-nloglik:12.26515\n",
      "[338]\ttraining-gamma-nloglik:12.26515\n",
      "[339]\ttraining-gamma-nloglik:12.26515\n",
      "[340]\ttraining-gamma-nloglik:12.26515\n",
      "[341]\ttraining-gamma-nloglik:12.26515\n",
      "[342]\ttraining-gamma-nloglik:12.26515\n",
      "[343]\ttraining-gamma-nloglik:12.26515\n",
      "[344]\ttraining-gamma-nloglik:12.26515\n",
      "[345]\ttraining-gamma-nloglik:12.26515\n",
      "[346]\ttraining-gamma-nloglik:12.26515\n",
      "[347]\ttraining-gamma-nloglik:12.26515\n",
      "[348]\ttraining-gamma-nloglik:12.26515\n",
      "[349]\ttraining-gamma-nloglik:12.26515\n",
      "[350]\ttraining-gamma-nloglik:12.26514\n",
      "[351]\ttraining-gamma-nloglik:12.26514\n",
      "[352]\ttraining-gamma-nloglik:12.26514\n",
      "[353]\ttraining-gamma-nloglik:12.26514\n",
      "[354]\ttraining-gamma-nloglik:12.26514\n",
      "[355]\ttraining-gamma-nloglik:12.26514\n",
      "[356]\ttraining-gamma-nloglik:12.26514\n",
      "[357]\ttraining-gamma-nloglik:12.26514\n",
      "[358]\ttraining-gamma-nloglik:12.26514\n",
      "[359]\ttraining-gamma-nloglik:12.26514\n",
      "[360]\ttraining-gamma-nloglik:12.26514\n",
      "[361]\ttraining-gamma-nloglik:12.26514\n",
      "[362]\ttraining-gamma-nloglik:12.26514\n",
      "[363]\ttraining-gamma-nloglik:12.26514\n",
      "[364]\ttraining-gamma-nloglik:12.26514\n",
      "[365]\ttraining-gamma-nloglik:12.26514\n",
      "[366]\ttraining-gamma-nloglik:12.26514\n",
      "[367]\ttraining-gamma-nloglik:12.26514\n",
      "[368]\ttraining-gamma-nloglik:12.26514\n",
      "[369]\ttraining-gamma-nloglik:12.26514\n",
      "[370]\ttraining-gamma-nloglik:12.26514\n",
      "[371]\ttraining-gamma-nloglik:12.26514\n",
      "[372]\ttraining-gamma-nloglik:12.26514\n",
      "[373]\ttraining-gamma-nloglik:12.26514\n",
      "[374]\ttraining-gamma-nloglik:12.26514\n",
      "[375]\ttraining-gamma-nloglik:12.26514\n",
      "[376]\ttraining-gamma-nloglik:12.26514\n",
      "[377]\ttraining-gamma-nloglik:12.26514\n",
      "[378]\ttraining-gamma-nloglik:12.26514\n",
      "[379]\ttraining-gamma-nloglik:12.26514\n",
      "[380]\ttraining-gamma-nloglik:12.26514\n",
      "[381]\ttraining-gamma-nloglik:12.26514\n",
      "[382]\ttraining-gamma-nloglik:12.26514\n",
      "[383]\ttraining-gamma-nloglik:12.26514\n",
      "[384]\ttraining-gamma-nloglik:12.26514\n",
      "[385]\ttraining-gamma-nloglik:12.26514\n",
      "[386]\ttraining-gamma-nloglik:12.26514\n",
      "[387]\ttraining-gamma-nloglik:12.26514\n",
      "[388]\ttraining-gamma-nloglik:12.26514\n",
      "[389]\ttraining-gamma-nloglik:12.26514\n",
      "[390]\ttraining-gamma-nloglik:12.26514\n",
      "[391]\ttraining-gamma-nloglik:12.26514\n",
      "[392]\ttraining-gamma-nloglik:12.26514\n",
      "[393]\ttraining-gamma-nloglik:12.26514\n",
      "[394]\ttraining-gamma-nloglik:12.26514\n",
      "[395]\ttraining-gamma-nloglik:12.26514\n",
      "[396]\ttraining-gamma-nloglik:12.26514\n",
      "[397]\ttraining-gamma-nloglik:12.26514\n",
      "[398]\ttraining-gamma-nloglik:12.26514\n",
      "[399]\ttraining-gamma-nloglik:12.26514\n",
      "[400]\ttraining-gamma-nloglik:12.26514\n",
      "[401]\ttraining-gamma-nloglik:12.26514\n",
      "[402]\ttraining-gamma-nloglik:12.26514\n",
      "[403]\ttraining-gamma-nloglik:12.26514\n",
      "[404]\ttraining-gamma-nloglik:12.26514\n",
      "[405]\ttraining-gamma-nloglik:12.26514\n",
      "[406]\ttraining-gamma-nloglik:12.26514\n",
      "[407]\ttraining-gamma-nloglik:12.26514\n",
      "[408]\ttraining-gamma-nloglik:12.26514\n",
      "[409]\ttraining-gamma-nloglik:12.26514\n",
      "[410]\ttraining-gamma-nloglik:12.26514\n",
      "[411]\ttraining-gamma-nloglik:12.26514\n",
      "[412]\ttraining-gamma-nloglik:12.26514\n",
      "[413]\ttraining-gamma-nloglik:12.26514\n",
      "[414]\ttraining-gamma-nloglik:12.26514\n",
      "[415]\ttraining-gamma-nloglik:12.26514\n",
      "[416]\ttraining-gamma-nloglik:12.26514\n",
      "[417]\ttraining-gamma-nloglik:12.26514\n",
      "[418]\ttraining-gamma-nloglik:12.26514\n",
      "[419]\ttraining-gamma-nloglik:12.26514\n",
      "[420]\ttraining-gamma-nloglik:12.26514\n",
      "[421]\ttraining-gamma-nloglik:12.26514\n",
      "[422]\ttraining-gamma-nloglik:12.26514\n",
      "[423]\ttraining-gamma-nloglik:12.26514\n",
      "[424]\ttraining-gamma-nloglik:12.26514\n",
      "[425]\ttraining-gamma-nloglik:12.26514\n",
      "[426]\ttraining-gamma-nloglik:12.26514\n",
      "[427]\ttraining-gamma-nloglik:12.26514\n",
      "[428]\ttraining-gamma-nloglik:12.26514\n",
      "[429]\ttraining-gamma-nloglik:12.26514\n",
      "[430]\ttraining-gamma-nloglik:12.26514\n",
      "[431]\ttraining-gamma-nloglik:12.26514\n",
      "[432]\ttraining-gamma-nloglik:12.26514\n",
      "[433]\ttraining-gamma-nloglik:12.26514\n",
      "[434]\ttraining-gamma-nloglik:12.26514\n",
      "[435]\ttraining-gamma-nloglik:12.26514\n",
      "[436]\ttraining-gamma-nloglik:12.26514\n",
      "[437]\ttraining-gamma-nloglik:12.26514\n",
      "[438]\ttraining-gamma-nloglik:12.26514\n",
      "[439]\ttraining-gamma-nloglik:12.26514\n",
      "[440]\ttraining-gamma-nloglik:12.26514\n",
      "[441]\ttraining-gamma-nloglik:12.26514\n",
      "[442]\ttraining-gamma-nloglik:12.26514\n",
      "[443]\ttraining-gamma-nloglik:12.26514\n",
      "[444]\ttraining-gamma-nloglik:12.26514\n",
      "[445]\ttraining-gamma-nloglik:12.26514\n",
      "[446]\ttraining-gamma-nloglik:12.26514\n",
      "[447]\ttraining-gamma-nloglik:12.26513\n",
      "[448]\ttraining-gamma-nloglik:12.26513\n",
      "[449]\ttraining-gamma-nloglik:12.26513\n",
      "[450]\ttraining-gamma-nloglik:12.26513\n",
      "[451]\ttraining-gamma-nloglik:12.26513\n",
      "[452]\ttraining-gamma-nloglik:12.26513\n",
      "[453]\ttraining-gamma-nloglik:12.26513\n",
      "[454]\ttraining-gamma-nloglik:12.26513\n",
      "[455]\ttraining-gamma-nloglik:12.26513\n",
      "[456]\ttraining-gamma-nloglik:12.26513\n",
      "[457]\ttraining-gamma-nloglik:12.26513\n",
      "[458]\ttraining-gamma-nloglik:12.26513\n",
      "[459]\ttraining-gamma-nloglik:12.26513\n",
      "[460]\ttraining-gamma-nloglik:12.26513\n",
      "[461]\ttraining-gamma-nloglik:12.26513\n",
      "[462]\ttraining-gamma-nloglik:12.26513\n",
      "[463]\ttraining-gamma-nloglik:12.26513\n",
      "[464]\ttraining-gamma-nloglik:12.26513\n",
      "[465]\ttraining-gamma-nloglik:12.26513\n",
      "[466]\ttraining-gamma-nloglik:12.26513\n",
      "[467]\ttraining-gamma-nloglik:12.26513\n",
      "[468]\ttraining-gamma-nloglik:12.26513\n",
      "[469]\ttraining-gamma-nloglik:12.26513\n",
      "[470]\ttraining-gamma-nloglik:12.26513\n",
      "[471]\ttraining-gamma-nloglik:12.26513\n",
      "[472]\ttraining-gamma-nloglik:12.26513\n",
      "[473]\ttraining-gamma-nloglik:12.26513\n",
      "[474]\ttraining-gamma-nloglik:12.26513\n",
      "[475]\ttraining-gamma-nloglik:12.26513\n",
      "[476]\ttraining-gamma-nloglik:12.26513\n",
      "[477]\ttraining-gamma-nloglik:12.26513\n",
      "[478]\ttraining-gamma-nloglik:12.26513\n",
      "[479]\ttraining-gamma-nloglik:12.26513\n",
      "[480]\ttraining-gamma-nloglik:12.26513\n",
      "[481]\ttraining-gamma-nloglik:12.26513\n",
      "[482]\ttraining-gamma-nloglik:12.26513\n",
      "[483]\ttraining-gamma-nloglik:12.26513\n",
      "[484]\ttraining-gamma-nloglik:12.26513\n",
      "[485]\ttraining-gamma-nloglik:12.26513\n",
      "[486]\ttraining-gamma-nloglik:12.26513\n",
      "[487]\ttraining-gamma-nloglik:12.26513\n",
      "[488]\ttraining-gamma-nloglik:12.26513\n",
      "[489]\ttraining-gamma-nloglik:12.26513\n",
      "[490]\ttraining-gamma-nloglik:12.26513\n",
      "[491]\ttraining-gamma-nloglik:12.26513\n",
      "[492]\ttraining-gamma-nloglik:12.26513\n",
      "[493]\ttraining-gamma-nloglik:12.26513\n",
      "[494]\ttraining-gamma-nloglik:12.26513\n",
      "[495]\ttraining-gamma-nloglik:12.26513\n",
      "[496]\ttraining-gamma-nloglik:12.26513\n",
      "[497]\ttraining-gamma-nloglik:12.26513\n",
      "[498]\ttraining-gamma-nloglik:12.26513\n",
      "[499]\ttraining-gamma-nloglik:12.26513\n",
      "SMAPE train: 0.5932989434150693, SMAPE test: 21.14907329873441\n"
     ]
    }
   ],
   "source": [
    "n=500\n",
    "xg_model4 = xgb.train(\n",
    "    params=params,\n",
    "    dtrain=dtrain_reg,\n",
    "    num_boost_round=n,\n",
    "    evals=[(dtrain_reg, \"training\")],\n",
    "    xgb_model = xg_model3\n",
    ")\n",
    "\n",
    "y_pred_train = xg_model4.predict(dtrain_reg)\n",
    "y_pred_test = xg_model4.predict(dtest_reg)\n",
    "\n",
    "print(f'SMAPE train: {smape(y_train, y_pred_train)}, SMAPE test: {smape(y_test, y_pred_test)}')"
   ]
  },
  {
   "cell_type": "code",
   "execution_count": 141,
   "id": "5503a6ca2c7226a1",
   "metadata": {
    "ExecuteTime": {
     "end_time": "2024-01-09T20:20:41.704450500Z",
     "start_time": "2024-01-09T20:20:40.881703700Z"
    },
    "collapsed": false,
    "jupyter": {
     "outputs_hidden": false
    }
   },
   "outputs": [],
   "source": [
    "params = {\n",
    "    #'objective' : 'reg:quantileerror',\n",
    "    #'quantile_alpha' : 0.5,\n",
    "    #'huber_slope' : 512.0,\n",
    "    #'tweedie_variance_power' : 1.99,\n",
    "    #'verbosity' : 2,\n",
    "    'process_type' : 'default',\n",
    "    'eta' : 0.01,\n",
    "    #'subsample' : 0.5\n",
    "}"
   ]
  },
  {
   "cell_type": "code",
   "execution_count": 142,
   "id": "f6b660fa9434678f",
   "metadata": {
    "ExecuteTime": {
     "end_time": "2024-01-09T20:22:31.762760900Z",
     "start_time": "2024-01-09T20:20:42.108995800Z"
    },
    "collapsed": false,
    "jupyter": {
     "outputs_hidden": false
    }
   },
   "outputs": [
    {
     "name": "stdout",
     "output_type": "stream",
     "text": [
      "[0]\ttraining-quantile:7061.60061\n",
      "[1]\ttraining-quantile:7061.57393\n",
      "[2]\ttraining-quantile:7061.55504\n",
      "[3]\ttraining-quantile:7061.53862\n",
      "[4]\ttraining-quantile:7061.45642\n",
      "[5]\ttraining-quantile:7061.40024\n",
      "[6]\ttraining-quantile:7061.38386\n",
      "[7]\ttraining-quantile:7061.38003\n",
      "[8]\ttraining-quantile:7061.37536\n",
      "[9]\ttraining-quantile:7061.35397\n",
      "[10]\ttraining-quantile:7061.34968\n",
      "[11]\ttraining-quantile:7061.34427\n",
      "[12]\ttraining-quantile:7061.34003\n",
      "[13]\ttraining-quantile:7061.31757\n",
      "[14]\ttraining-quantile:7061.29529\n",
      "[15]\ttraining-quantile:7061.27149\n",
      "[16]\ttraining-quantile:7061.24704\n",
      "[17]\ttraining-quantile:7061.22894\n",
      "[18]\ttraining-quantile:7061.21538\n",
      "[19]\ttraining-quantile:7061.20292\n",
      "[20]\ttraining-quantile:7061.19119\n",
      "[21]\ttraining-quantile:7061.18122\n",
      "[22]\ttraining-quantile:7061.17175\n",
      "[23]\ttraining-quantile:7061.16217\n",
      "[24]\ttraining-quantile:7061.15085\n",
      "[25]\ttraining-quantile:7061.14062\n",
      "[26]\ttraining-quantile:7061.12069\n",
      "[27]\ttraining-quantile:7061.09005\n",
      "[28]\ttraining-quantile:7061.07010\n",
      "[29]\ttraining-quantile:7061.03081\n",
      "[30]\ttraining-quantile:7060.99875\n",
      "[31]\ttraining-quantile:7060.97134\n",
      "[32]\ttraining-quantile:7060.92053\n",
      "[33]\ttraining-quantile:7060.90845\n",
      "[34]\ttraining-quantile:7060.87532\n",
      "[35]\ttraining-quantile:7060.82715\n",
      "[36]\ttraining-quantile:7060.79863\n",
      "[37]\ttraining-quantile:7060.77634\n",
      "[38]\ttraining-quantile:7060.74734\n",
      "[39]\ttraining-quantile:7060.72772\n",
      "[40]\ttraining-quantile:7060.70884\n",
      "[41]\ttraining-quantile:7060.68494\n",
      "[42]\ttraining-quantile:7060.67190\n",
      "[43]\ttraining-quantile:7060.65954\n",
      "[44]\ttraining-quantile:7060.64689\n",
      "[45]\ttraining-quantile:7060.61667\n",
      "[46]\ttraining-quantile:7060.56551\n",
      "[47]\ttraining-quantile:7060.51759\n",
      "[48]\ttraining-quantile:7060.46965\n",
      "[49]\ttraining-quantile:7060.42275\n",
      "[50]\ttraining-quantile:7060.37797\n",
      "[51]\ttraining-quantile:7060.35097\n",
      "[52]\ttraining-quantile:7060.27602\n",
      "[53]\ttraining-quantile:7060.26560\n",
      "[54]\ttraining-quantile:7060.25822\n",
      "[55]\ttraining-quantile:7060.25425\n",
      "[56]\ttraining-quantile:7060.24966\n",
      "[57]\ttraining-quantile:7060.24563\n",
      "[58]\ttraining-quantile:7060.24166\n",
      "[59]\ttraining-quantile:7060.23585\n",
      "[60]\ttraining-quantile:7060.22919\n",
      "[61]\ttraining-quantile:7060.22268\n",
      "[62]\ttraining-quantile:7060.21636\n",
      "[63]\ttraining-quantile:7060.21021\n",
      "[64]\ttraining-quantile:7060.20296\n",
      "[65]\ttraining-quantile:7060.19661\n",
      "[66]\ttraining-quantile:7060.19033\n",
      "[67]\ttraining-quantile:7060.18574\n",
      "[68]\ttraining-quantile:7060.16195\n",
      "[69]\ttraining-quantile:7060.13696\n",
      "[70]\ttraining-quantile:7060.11303\n",
      "[71]\ttraining-quantile:7060.08936\n",
      "[72]\ttraining-quantile:7060.06411\n",
      "[73]\ttraining-quantile:7060.03978\n",
      "[74]\ttraining-quantile:7060.01503\n",
      "[75]\ttraining-quantile:7059.98896\n",
      "[76]\ttraining-quantile:7059.97590\n",
      "[77]\ttraining-quantile:7059.96851\n",
      "[78]\ttraining-quantile:7059.95117\n",
      "[79]\ttraining-quantile:7059.92985\n",
      "[80]\ttraining-quantile:7059.90055\n",
      "[81]\ttraining-quantile:7059.88439\n",
      "[82]\ttraining-quantile:7059.85258\n",
      "[83]\ttraining-quantile:7059.81006\n",
      "[84]\ttraining-quantile:7059.78437\n",
      "[85]\ttraining-quantile:7059.76022\n",
      "[86]\ttraining-quantile:7059.73218\n",
      "[87]\ttraining-quantile:7059.69021\n",
      "[88]\ttraining-quantile:7059.65390\n",
      "[89]\ttraining-quantile:7059.63516\n",
      "[90]\ttraining-quantile:7059.60432\n",
      "[91]\ttraining-quantile:7059.56551\n",
      "[92]\ttraining-quantile:7059.53943\n",
      "[93]\ttraining-quantile:7059.51576\n",
      "[94]\ttraining-quantile:7059.48423\n",
      "[95]\ttraining-quantile:7059.46152\n",
      "[96]\ttraining-quantile:7059.43898\n",
      "[97]\ttraining-quantile:7059.42851\n",
      "[98]\ttraining-quantile:7059.41990\n",
      "[99]\ttraining-quantile:7059.41145\n",
      "[100]\ttraining-quantile:7059.38331\n",
      "[101]\ttraining-quantile:7059.35556\n",
      "[102]\ttraining-quantile:7059.34066\n",
      "[103]\ttraining-quantile:7059.31131\n",
      "[104]\ttraining-quantile:7059.27169\n",
      "[105]\ttraining-quantile:7059.26532\n",
      "[106]\ttraining-quantile:7059.25880\n",
      "[107]\ttraining-quantile:7059.24827\n",
      "[108]\ttraining-quantile:7059.24031\n",
      "[109]\ttraining-quantile:7059.23323\n",
      "[110]\ttraining-quantile:7059.22038\n",
      "[111]\ttraining-quantile:7059.12231\n",
      "[112]\ttraining-quantile:7059.08896\n",
      "[113]\ttraining-quantile:7059.07373\n",
      "[114]\ttraining-quantile:7059.05645\n",
      "[115]\ttraining-quantile:7059.02732\n",
      "[116]\ttraining-quantile:7058.99850\n",
      "[117]\ttraining-quantile:7058.96771\n",
      "[118]\ttraining-quantile:7058.95067\n",
      "[119]\ttraining-quantile:7058.93580\n",
      "[120]\ttraining-quantile:7058.92829\n",
      "[121]\ttraining-quantile:7058.92088\n",
      "[122]\ttraining-quantile:7058.91353\n",
      "[123]\ttraining-quantile:7058.90626\n",
      "[124]\ttraining-quantile:7058.89907\n",
      "[125]\ttraining-quantile:7058.89164\n",
      "[126]\ttraining-quantile:7058.88432\n",
      "[127]\ttraining-quantile:7058.87707\n",
      "[128]\ttraining-quantile:7058.86985\n",
      "[129]\ttraining-quantile:7058.86275\n",
      "[130]\ttraining-quantile:7058.84493\n",
      "[131]\ttraining-quantile:7058.83503\n",
      "[132]\ttraining-quantile:7058.82486\n",
      "[133]\ttraining-quantile:7058.81506\n",
      "[134]\ttraining-quantile:7058.80505\n",
      "[135]\ttraining-quantile:7058.79514\n",
      "[136]\ttraining-quantile:7058.78540\n",
      "[137]\ttraining-quantile:7058.76855\n",
      "[138]\ttraining-quantile:7058.75135\n",
      "[139]\ttraining-quantile:7058.73696\n",
      "[140]\ttraining-quantile:7058.72019\n",
      "[141]\ttraining-quantile:7058.70505\n",
      "[142]\ttraining-quantile:7058.64340\n",
      "[143]\ttraining-quantile:7058.58839\n",
      "[144]\ttraining-quantile:7058.57441\n",
      "[145]\ttraining-quantile:7058.56763\n",
      "[146]\ttraining-quantile:7058.56091\n",
      "[147]\ttraining-quantile:7058.55427\n",
      "[148]\ttraining-quantile:7058.54767\n",
      "[149]\ttraining-quantile:7058.54115\n",
      "[150]\ttraining-quantile:7058.49441\n",
      "[151]\ttraining-quantile:7058.48485\n",
      "[152]\ttraining-quantile:7058.48165\n",
      "[153]\ttraining-quantile:7058.43864\n",
      "[154]\ttraining-quantile:7058.39741\n",
      "[155]\ttraining-quantile:7058.39342\n",
      "[156]\ttraining-quantile:7058.38949\n",
      "[157]\ttraining-quantile:7058.37722\n",
      "[158]\ttraining-quantile:7058.36817\n",
      "[159]\ttraining-quantile:7058.35541\n",
      "[160]\ttraining-quantile:7058.35221\n",
      "[161]\ttraining-quantile:7058.34785\n",
      "[162]\ttraining-quantile:7058.33889\n",
      "[163]\ttraining-quantile:7058.33577\n",
      "[164]\ttraining-quantile:7058.32575\n",
      "[165]\ttraining-quantile:7058.31600\n",
      "[166]\ttraining-quantile:7058.30620\n",
      "[167]\ttraining-quantile:7058.29416\n",
      "[168]\ttraining-quantile:7058.28226\n",
      "[169]\ttraining-quantile:7058.27867\n",
      "[170]\ttraining-quantile:7058.27559\n",
      "[171]\ttraining-quantile:7058.25616\n",
      "[172]\ttraining-quantile:7058.25321\n",
      "[173]\ttraining-quantile:7058.24472\n",
      "[174]\ttraining-quantile:7058.23940\n",
      "[175]\ttraining-quantile:7058.23632\n",
      "[176]\ttraining-quantile:7058.22751\n",
      "[177]\ttraining-quantile:7058.22447\n",
      "[178]\ttraining-quantile:7058.21552\n",
      "[179]\ttraining-quantile:7058.20910\n",
      "[180]\ttraining-quantile:7058.20298\n",
      "[181]\ttraining-quantile:7058.20051\n",
      "[182]\ttraining-quantile:7058.19796\n",
      "[183]\ttraining-quantile:7058.19561\n",
      "[184]\ttraining-quantile:7058.18082\n",
      "[185]\ttraining-quantile:7058.16702\n",
      "[186]\ttraining-quantile:7058.15874\n",
      "[187]\ttraining-quantile:7058.15028\n",
      "[188]\ttraining-quantile:7058.14681\n",
      "[189]\ttraining-quantile:7058.14393\n",
      "[190]\ttraining-quantile:7058.14106\n",
      "[191]\ttraining-quantile:7058.13408\n",
      "[192]\ttraining-quantile:7058.12705\n",
      "[193]\ttraining-quantile:7058.12020\n",
      "[194]\ttraining-quantile:7058.10920\n",
      "[195]\ttraining-quantile:7058.10219\n",
      "[196]\ttraining-quantile:7058.09525\n",
      "[197]\ttraining-quantile:7058.08840\n",
      "[198]\ttraining-quantile:7058.06984\n",
      "[199]\ttraining-quantile:7058.06303\n",
      "[200]\ttraining-quantile:7058.06036\n",
      "[201]\ttraining-quantile:7058.05360\n",
      "[202]\ttraining-quantile:7058.04693\n",
      "[203]\ttraining-quantile:7058.04069\n",
      "[204]\ttraining-quantile:7058.03456\n",
      "[205]\ttraining-quantile:7058.02851\n",
      "[206]\ttraining-quantile:7058.02255\n",
      "[207]\ttraining-quantile:7058.01661\n",
      "[208]\ttraining-quantile:7058.01079\n",
      "[209]\ttraining-quantile:7057.99634\n",
      "[210]\ttraining-quantile:7057.98258\n",
      "[211]\ttraining-quantile:7057.97875\n",
      "[212]\ttraining-quantile:7057.96570\n",
      "[213]\ttraining-quantile:7057.92987\n",
      "[214]\ttraining-quantile:7057.92301\n",
      "[215]\ttraining-quantile:7057.89908\n",
      "[216]\ttraining-quantile:7057.88823\n",
      "[217]\ttraining-quantile:7057.87525\n",
      "[218]\ttraining-quantile:7057.86240\n",
      "[219]\ttraining-quantile:7057.84034\n",
      "[220]\ttraining-quantile:7057.81884\n",
      "[221]\ttraining-quantile:7057.61524\n",
      "[222]\ttraining-quantile:7057.40659\n",
      "[223]\ttraining-quantile:7057.33965\n",
      "[224]\ttraining-quantile:7057.27841\n",
      "[225]\ttraining-quantile:7057.07655\n",
      "[226]\ttraining-quantile:7057.06319\n",
      "[227]\ttraining-quantile:7057.03426\n",
      "[228]\ttraining-quantile:7056.99567\n",
      "[229]\ttraining-quantile:7056.94850\n",
      "[230]\ttraining-quantile:7056.93709\n",
      "[231]\ttraining-quantile:7056.89965\n",
      "[232]\ttraining-quantile:7056.83912\n",
      "[233]\ttraining-quantile:7056.82439\n",
      "[234]\ttraining-quantile:7056.81173\n",
      "[235]\ttraining-quantile:7056.79173\n",
      "[236]\ttraining-quantile:7056.77247\n",
      "[237]\ttraining-quantile:7056.75964\n",
      "[238]\ttraining-quantile:7056.74297\n",
      "[239]\ttraining-quantile:7056.72811\n",
      "[240]\ttraining-quantile:7056.70686\n",
      "[241]\ttraining-quantile:7056.66465\n",
      "[242]\ttraining-quantile:7056.60204\n",
      "[243]\ttraining-quantile:7056.59491\n",
      "[244]\ttraining-quantile:7056.54718\n",
      "[245]\ttraining-quantile:7056.54212\n",
      "[246]\ttraining-quantile:7056.49470\n",
      "[247]\ttraining-quantile:7056.44843\n",
      "[248]\ttraining-quantile:7056.42876\n",
      "[249]\ttraining-quantile:7056.38889\n",
      "[250]\ttraining-quantile:7056.38045\n",
      "[251]\ttraining-quantile:7056.36344\n",
      "[252]\ttraining-quantile:7056.32437\n",
      "[253]\ttraining-quantile:7056.31507\n",
      "[254]\ttraining-quantile:7056.30685\n",
      "[255]\ttraining-quantile:7056.29732\n",
      "[256]\ttraining-quantile:7056.28863\n",
      "[257]\ttraining-quantile:7056.28379\n",
      "[258]\ttraining-quantile:7056.25796\n",
      "[259]\ttraining-quantile:7056.24739\n",
      "[260]\ttraining-quantile:7056.24080\n",
      "[261]\ttraining-quantile:7056.21852\n",
      "[262]\ttraining-quantile:7056.18770\n",
      "[263]\ttraining-quantile:7056.15730\n",
      "[264]\ttraining-quantile:7056.13032\n",
      "[265]\ttraining-quantile:7056.10039\n",
      "[266]\ttraining-quantile:7056.07201\n",
      "[267]\ttraining-quantile:7056.04426\n",
      "[268]\ttraining-quantile:7056.01509\n",
      "[269]\ttraining-quantile:7055.98633\n",
      "[270]\ttraining-quantile:7055.96156\n",
      "[271]\ttraining-quantile:7055.93350\n",
      "[272]\ttraining-quantile:7055.90913\n",
      "[273]\ttraining-quantile:7055.88251\n",
      "[274]\ttraining-quantile:7055.85776\n",
      "[275]\ttraining-quantile:7055.83008\n",
      "[276]\ttraining-quantile:7055.80438\n",
      "[277]\ttraining-quantile:7055.78204\n",
      "[278]\ttraining-quantile:7055.74458\n",
      "[279]\ttraining-quantile:7055.72392\n",
      "[280]\ttraining-quantile:7055.69795\n",
      "[281]\ttraining-quantile:7055.67197\n",
      "[282]\ttraining-quantile:7055.64412\n",
      "[283]\ttraining-quantile:7055.61657\n",
      "[284]\ttraining-quantile:7055.59052\n",
      "[285]\ttraining-quantile:7055.56345\n",
      "[286]\ttraining-quantile:7055.53811\n",
      "[287]\ttraining-quantile:7055.51303\n",
      "[288]\ttraining-quantile:7055.48977\n",
      "[289]\ttraining-quantile:7055.46509\n",
      "[290]\ttraining-quantile:7055.44102\n",
      "[291]\ttraining-quantile:7055.40983\n",
      "[292]\ttraining-quantile:7055.38880\n",
      "[293]\ttraining-quantile:7055.35966\n",
      "[294]\ttraining-quantile:7055.33355\n",
      "[295]\ttraining-quantile:7055.31282\n",
      "[296]\ttraining-quantile:7055.29166\n",
      "[297]\ttraining-quantile:7055.27083\n",
      "[298]\ttraining-quantile:7055.25105\n",
      "[299]\ttraining-quantile:7055.22486\n",
      "[300]\ttraining-quantile:7055.19804\n",
      "[301]\ttraining-quantile:7055.17150\n",
      "[302]\ttraining-quantile:7055.14522\n",
      "[303]\ttraining-quantile:7055.11943\n",
      "[304]\ttraining-quantile:7055.09447\n",
      "[305]\ttraining-quantile:7055.07572\n",
      "[306]\ttraining-quantile:7055.04899\n",
      "[307]\ttraining-quantile:7055.02879\n",
      "[308]\ttraining-quantile:7055.00867\n",
      "[309]\ttraining-quantile:7054.98880\n",
      "[310]\ttraining-quantile:7054.96986\n",
      "[311]\ttraining-quantile:7054.95366\n",
      "[312]\ttraining-quantile:7054.93529\n",
      "[313]\ttraining-quantile:7054.90278\n",
      "[314]\ttraining-quantile:7054.88793\n",
      "[315]\ttraining-quantile:7054.82733\n",
      "[316]\ttraining-quantile:7054.76490\n",
      "[317]\ttraining-quantile:7054.69719\n",
      "[318]\ttraining-quantile:7054.62182\n",
      "[319]\ttraining-quantile:7054.55723\n",
      "[320]\ttraining-quantile:7054.54660\n",
      "[321]\ttraining-quantile:7054.54205\n",
      "[322]\ttraining-quantile:7054.52358\n",
      "[323]\ttraining-quantile:7054.49897\n",
      "[324]\ttraining-quantile:7054.49363\n",
      "[325]\ttraining-quantile:7054.47068\n",
      "[326]\ttraining-quantile:7054.45609\n",
      "[327]\ttraining-quantile:7054.44013\n",
      "[328]\ttraining-quantile:7054.42764\n",
      "[329]\ttraining-quantile:7054.42263\n",
      "[330]\ttraining-quantile:7054.40594\n",
      "[331]\ttraining-quantile:7054.39819\n",
      "[332]\ttraining-quantile:7054.38167\n",
      "[333]\ttraining-quantile:7054.31381\n",
      "[334]\ttraining-quantile:7054.30526\n",
      "[335]\ttraining-quantile:7054.23645\n",
      "[336]\ttraining-quantile:7054.23472\n",
      "[337]\ttraining-quantile:7054.22284\n",
      "[338]\ttraining-quantile:7054.16363\n",
      "[339]\ttraining-quantile:7054.15216\n",
      "[340]\ttraining-quantile:7054.07858\n",
      "[341]\ttraining-quantile:7054.07002\n",
      "[342]\ttraining-quantile:7054.04272\n",
      "[343]\ttraining-quantile:7053.95661\n",
      "[344]\ttraining-quantile:7053.93449\n",
      "[345]\ttraining-quantile:7053.92706\n",
      "[346]\ttraining-quantile:7053.91809\n",
      "[347]\ttraining-quantile:7053.91416\n",
      "[348]\ttraining-quantile:7053.86705\n",
      "[349]\ttraining-quantile:7053.86318\n",
      "[350]\ttraining-quantile:7053.85281\n",
      "[351]\ttraining-quantile:7053.79509\n",
      "[352]\ttraining-quantile:7053.73970\n",
      "[353]\ttraining-quantile:7053.65311\n",
      "[354]\ttraining-quantile:7053.59447\n",
      "[355]\ttraining-quantile:7053.58684\n",
      "[356]\ttraining-quantile:7053.53052\n",
      "[357]\ttraining-quantile:7053.47677\n",
      "[358]\ttraining-quantile:7053.46779\n",
      "[359]\ttraining-quantile:7053.45890\n",
      "[360]\ttraining-quantile:7053.45037\n",
      "[361]\ttraining-quantile:7053.43984\n",
      "[362]\ttraining-quantile:7053.42995\n",
      "[363]\ttraining-quantile:7053.38161\n",
      "[364]\ttraining-quantile:7053.37252\n",
      "[365]\ttraining-quantile:7053.35363\n",
      "[366]\ttraining-quantile:7053.34943\n",
      "[367]\ttraining-quantile:7053.30112\n",
      "[368]\ttraining-quantile:7053.28963\n",
      "[369]\ttraining-quantile:7053.27553\n",
      "[370]\ttraining-quantile:7053.26321\n",
      "[371]\ttraining-quantile:7053.26006\n",
      "[372]\ttraining-quantile:7053.21176\n",
      "[373]\ttraining-quantile:7053.20777\n",
      "[374]\ttraining-quantile:7053.20495\n",
      "[375]\ttraining-quantile:7053.19894\n",
      "[376]\ttraining-quantile:7053.18419\n",
      "[377]\ttraining-quantile:7053.17650\n",
      "[378]\ttraining-quantile:7053.15659\n",
      "[379]\ttraining-quantile:7053.10550\n",
      "[380]\ttraining-quantile:7053.09518\n",
      "[381]\ttraining-quantile:7053.08520\n",
      "[382]\ttraining-quantile:7053.08334\n",
      "[383]\ttraining-quantile:7053.07386\n",
      "[384]\ttraining-quantile:7053.02959\n",
      "[385]\ttraining-quantile:7052.98333\n",
      "[386]\ttraining-quantile:7052.93992\n",
      "[387]\ttraining-quantile:7052.88755\n",
      "[388]\ttraining-quantile:7052.82880\n",
      "[389]\ttraining-quantile:7052.78318\n",
      "[390]\ttraining-quantile:7052.73849\n",
      "[391]\ttraining-quantile:7052.68542\n",
      "[392]\ttraining-quantile:7052.63289\n",
      "[393]\ttraining-quantile:7052.58116\n",
      "[394]\ttraining-quantile:7052.53520\n",
      "[395]\ttraining-quantile:7052.52544\n",
      "[396]\ttraining-quantile:7052.51721\n",
      "[397]\ttraining-quantile:7052.50422\n",
      "[398]\ttraining-quantile:7052.48891\n",
      "[399]\ttraining-quantile:7052.47859\n",
      "[400]\ttraining-quantile:7052.46921\n",
      "[401]\ttraining-quantile:7052.45630\n",
      "[402]\ttraining-quantile:7052.40613\n",
      "[403]\ttraining-quantile:7052.39239\n",
      "[404]\ttraining-quantile:7052.34510\n",
      "[405]\ttraining-quantile:7052.32937\n",
      "[406]\ttraining-quantile:7052.28631\n",
      "[407]\ttraining-quantile:7052.21951\n",
      "[408]\ttraining-quantile:7052.15338\n",
      "[409]\ttraining-quantile:7052.08791\n",
      "[410]\ttraining-quantile:7052.02309\n",
      "[411]\ttraining-quantile:7051.96461\n",
      "[412]\ttraining-quantile:7051.92382\n",
      "[413]\ttraining-quantile:7051.88352\n",
      "[414]\ttraining-quantile:7051.84440\n",
      "[415]\ttraining-quantile:7051.80615\n",
      "[416]\ttraining-quantile:7051.79175\n",
      "[417]\ttraining-quantile:7051.78042\n",
      "[418]\ttraining-quantile:7051.74549\n",
      "[419]\ttraining-quantile:7051.71022\n",
      "[420]\ttraining-quantile:7051.67711\n",
      "[421]\ttraining-quantile:7051.63667\n",
      "[422]\ttraining-quantile:7051.59255\n",
      "[423]\ttraining-quantile:7051.55858\n",
      "[424]\ttraining-quantile:7051.51014\n",
      "[425]\ttraining-quantile:7051.46993\n",
      "[426]\ttraining-quantile:7051.42831\n",
      "[427]\ttraining-quantile:7051.37914\n",
      "[428]\ttraining-quantile:7051.33531\n",
      "[429]\ttraining-quantile:7051.29945\n",
      "[430]\ttraining-quantile:7051.29072\n",
      "[431]\ttraining-quantile:7051.28888\n",
      "[432]\ttraining-quantile:7051.28598\n",
      "[433]\ttraining-quantile:7051.27875\n",
      "[434]\ttraining-quantile:7051.27065\n",
      "[435]\ttraining-quantile:7051.23991\n",
      "[436]\ttraining-quantile:7051.23429\n",
      "[437]\ttraining-quantile:7051.22772\n",
      "[438]\ttraining-quantile:7051.19987\n",
      "[439]\ttraining-quantile:7051.19411\n",
      "[440]\ttraining-quantile:7051.19020\n",
      "[441]\ttraining-quantile:7051.18525\n",
      "[442]\ttraining-quantile:7051.18035\n",
      "[443]\ttraining-quantile:7051.17550\n",
      "[444]\ttraining-quantile:7051.17083\n",
      "[445]\ttraining-quantile:7051.15505\n",
      "[446]\ttraining-quantile:7051.14340\n",
      "[447]\ttraining-quantile:7051.13260\n",
      "[448]\ttraining-quantile:7051.09863\n",
      "[449]\ttraining-quantile:7051.09560\n",
      "[450]\ttraining-quantile:7051.08306\n",
      "[451]\ttraining-quantile:7051.06591\n",
      "[452]\ttraining-quantile:7051.05344\n",
      "[453]\ttraining-quantile:7051.04558\n",
      "[454]\ttraining-quantile:7051.03553\n",
      "[455]\ttraining-quantile:7051.01802\n",
      "[456]\ttraining-quantile:7051.01040\n",
      "[457]\ttraining-quantile:7050.99318\n",
      "[458]\ttraining-quantile:7050.99206\n",
      "[459]\ttraining-quantile:7050.98964\n",
      "[460]\ttraining-quantile:7050.98262\n",
      "[461]\ttraining-quantile:7050.98128\n",
      "[462]\ttraining-quantile:7050.98079\n",
      "[463]\ttraining-quantile:7050.95931\n",
      "[464]\ttraining-quantile:7050.95763\n",
      "[465]\ttraining-quantile:7050.95115\n",
      "[466]\ttraining-quantile:7050.94151\n",
      "[467]\ttraining-quantile:7050.88530\n",
      "[468]\ttraining-quantile:7050.87586\n",
      "[469]\ttraining-quantile:7050.86330\n",
      "[470]\ttraining-quantile:7050.80628\n",
      "[471]\ttraining-quantile:7050.74902\n",
      "[472]\ttraining-quantile:7050.73768\n",
      "[473]\ttraining-quantile:7050.72888\n",
      "[474]\ttraining-quantile:7050.71631\n",
      "[475]\ttraining-quantile:7050.70379\n",
      "[476]\ttraining-quantile:7050.68795\n",
      "[477]\ttraining-quantile:7050.67378\n",
      "[478]\ttraining-quantile:7050.59101\n",
      "[479]\ttraining-quantile:7050.54603\n",
      "[480]\ttraining-quantile:7050.52187\n",
      "[481]\ttraining-quantile:7050.41493\n",
      "[482]\ttraining-quantile:7050.39225\n",
      "[483]\ttraining-quantile:7050.35421\n",
      "[484]\ttraining-quantile:7050.34403\n",
      "[485]\ttraining-quantile:7050.31542\n",
      "[486]\ttraining-quantile:7050.28925\n",
      "[487]\ttraining-quantile:7050.13442\n",
      "[488]\ttraining-quantile:7050.12699\n",
      "[489]\ttraining-quantile:7050.12062\n",
      "[490]\ttraining-quantile:7050.09308\n",
      "[491]\ttraining-quantile:7050.08395\n",
      "[492]\ttraining-quantile:7050.06634\n",
      "[493]\ttraining-quantile:7050.05046\n",
      "[494]\ttraining-quantile:7049.99694\n",
      "[495]\ttraining-quantile:7049.98162\n",
      "[496]\ttraining-quantile:7049.95350\n",
      "[497]\ttraining-quantile:7049.92682\n",
      "[498]\ttraining-quantile:7049.91355\n",
      "[499]\ttraining-quantile:7049.90952\n",
      "SMAPE train: 10.932760563174302, SMAPE test: 22.75302759076413\n"
     ]
    }
   ],
   "source": [
    "n=500\n",
    "xg_model5 = xgb.train(\n",
    "    params=params,\n",
    "    dtrain=dtrain_reg,\n",
    "    num_boost_round=n,\n",
    "    evals=[(dtrain_reg, \"training\")],\n",
    "    xgb_model = xg_model4\n",
    ")\n",
    "\n",
    "y_pred_train = xg_model5.predict(dtrain_reg)\n",
    "y_pred_test = xg_model5.predict(dtest_reg)\n",
    "\n",
    "print(f'SMAPE train: {smape(y_train, y_pred_train)}, SMAPE test: {smape(y_test, y_pred_test)}')"
   ]
  },
  {
   "cell_type": "markdown",
   "id": "b2d58ab935101395",
   "metadata": {
    "collapsed": false,
    "jupyter": {
     "outputs_hidden": false
    }
   },
   "source": [
    "<H2>Создаем вторую модель: XGBoost с reg:tweedie</H2>"
   ]
  },
  {
   "cell_type": "code",
   "execution_count": null,
   "id": "1c825b1a1ca94686",
   "metadata": {
    "collapsed": false,
    "jupyter": {
     "outputs_hidden": false
    }
   },
   "outputs": [],
   "source": [
    "%%time\n",
    "params_v2 = {\n",
    "    'objective' : 'reg:tweedie',\n",
    "    #'quantile_alpha' : 0.5,\n",
    "    #'huber_slope' : 512.0,\n",
    "    'tweedie_variance_power' : 1.91,\n",
    "    'verbosity' : 2,\n",
    "    #'subsample' : 0.5\n",
    "}\n",
    "\n",
    "n=500\n",
    "xg_model_v2 = xgb.train(\n",
    "    params=params_v2,\n",
    "    dtrain=dtrain_reg,\n",
    "    evals=[(dtrain_reg, \"training\")],\n",
    "    num_boost_round=n,\n",
    ")\n",
    "\n",
    "y_pred_train2 = xg_model_v2.predict(dtrain_reg)\n",
    "y_pred_test2 = xg_model_v2.predict(dtest_reg)\n",
    "\n",
    "print(f'SMAPE train: {smape(y_train, y_pred_train2)}, SMAPE test: {smape(y_test, y_pred_test2)}')"
   ]
  },
  {
   "cell_type": "code",
   "execution_count": 80,
   "id": "6334e7a42362d5bc",
   "metadata": {
    "ExecuteTime": {
     "end_time": "2024-01-09T17:43:46.283096400Z",
     "start_time": "2024-01-09T17:43:45.736779100Z"
    },
    "collapsed": false,
    "jupyter": {
     "outputs_hidden": false
    }
   },
   "outputs": [],
   "source": [
    "xg_model_v2 = xgb.Booster()\n",
    "xg_model_v2.load_model(\"xg_model_v2.bin\")"
   ]
  },
  {
   "cell_type": "code",
   "execution_count": 81,
   "id": "fc695b29ea67e9fe",
   "metadata": {
    "ExecuteTime": {
     "end_time": "2024-01-09T17:43:46.797441800Z",
     "start_time": "2024-01-09T17:43:45.809015200Z"
    },
    "collapsed": false,
    "jupyter": {
     "outputs_hidden": false
    }
   },
   "outputs": [
    {
     "name": "stdout",
     "output_type": "stream",
     "text": [
      "SMAPE train: 3.0576887227771703, SMAPE test: 21.369972992614994\n"
     ]
    }
   ],
   "source": [
    "y_pred_train2 = xg_model_v2.predict(dtrain_reg)\n",
    "y_pred_test2 = xg_model_v2.predict(dtest_reg)\n",
    "\n",
    "print(f'SMAPE train: {smape(y_train, y_pred_train2)}, SMAPE test: {smape(y_test, y_pred_test2)}')"
   ]
  },
  {
   "cell_type": "code",
   "execution_count": 102,
   "id": "c0cc538a0a4eafca",
   "metadata": {
    "ExecuteTime": {
     "end_time": "2024-01-09T18:11:29.630309300Z",
     "start_time": "2024-01-09T18:10:21.606593300Z"
    },
    "collapsed": false,
    "jupyter": {
     "outputs_hidden": false
    }
   },
   "outputs": [
    {
     "name": "stdout",
     "output_type": "stream",
     "text": [
      "[0]\ttraining-tweedie-nloglik@1.99:113.05908\n",
      "[1]\ttraining-tweedie-nloglik@1.99:113.05907\n",
      "[2]\ttraining-tweedie-nloglik@1.99:113.05907\n",
      "[3]\ttraining-tweedie-nloglik@1.99:113.05907\n",
      "[4]\ttraining-tweedie-nloglik@1.99:113.05907\n",
      "[5]\ttraining-tweedie-nloglik@1.99:113.05907\n",
      "[6]\ttraining-tweedie-nloglik@1.99:113.05907\n",
      "[7]\ttraining-tweedie-nloglik@1.99:113.05906\n",
      "[8]\ttraining-tweedie-nloglik@1.99:113.05906\n",
      "[9]\ttraining-tweedie-nloglik@1.99:113.05906\n",
      "[10]\ttraining-tweedie-nloglik@1.99:113.05905\n",
      "[11]\ttraining-tweedie-nloglik@1.99:113.05905\n",
      "[12]\ttraining-tweedie-nloglik@1.99:113.05905\n",
      "[13]\ttraining-tweedie-nloglik@1.99:113.05904\n",
      "[14]\ttraining-tweedie-nloglik@1.99:113.05904\n",
      "[15]\ttraining-tweedie-nloglik@1.99:113.05904\n",
      "[16]\ttraining-tweedie-nloglik@1.99:113.05904\n",
      "[17]\ttraining-tweedie-nloglik@1.99:113.05904\n",
      "[18]\ttraining-tweedie-nloglik@1.99:113.05904\n",
      "[19]\ttraining-tweedie-nloglik@1.99:113.05904\n",
      "[20]\ttraining-tweedie-nloglik@1.99:113.05903\n",
      "[21]\ttraining-tweedie-nloglik@1.99:113.05903\n",
      "[22]\ttraining-tweedie-nloglik@1.99:113.05903\n",
      "[23]\ttraining-tweedie-nloglik@1.99:113.05902\n",
      "[24]\ttraining-tweedie-nloglik@1.99:113.05902\n",
      "[25]\ttraining-tweedie-nloglik@1.99:113.05902\n",
      "[26]\ttraining-tweedie-nloglik@1.99:113.05902\n",
      "[27]\ttraining-tweedie-nloglik@1.99:113.05902\n",
      "[28]\ttraining-tweedie-nloglik@1.99:113.05901\n",
      "[29]\ttraining-tweedie-nloglik@1.99:113.05901\n",
      "[30]\ttraining-tweedie-nloglik@1.99:113.05901\n",
      "[31]\ttraining-tweedie-nloglik@1.99:113.05901\n",
      "[32]\ttraining-tweedie-nloglik@1.99:113.05901\n",
      "[33]\ttraining-tweedie-nloglik@1.99:113.05901\n",
      "[34]\ttraining-tweedie-nloglik@1.99:113.05901\n",
      "[35]\ttraining-tweedie-nloglik@1.99:113.05900\n",
      "[36]\ttraining-tweedie-nloglik@1.99:113.05900\n",
      "[37]\ttraining-tweedie-nloglik@1.99:113.05900\n",
      "[38]\ttraining-tweedie-nloglik@1.99:113.05900\n",
      "[39]\ttraining-tweedie-nloglik@1.99:113.05899\n",
      "[40]\ttraining-tweedie-nloglik@1.99:113.05899\n",
      "[41]\ttraining-tweedie-nloglik@1.99:113.05899\n",
      "[42]\ttraining-tweedie-nloglik@1.99:113.05898\n",
      "[43]\ttraining-tweedie-nloglik@1.99:113.05898\n",
      "[44]\ttraining-tweedie-nloglik@1.99:113.05898\n",
      "[45]\ttraining-tweedie-nloglik@1.99:113.05898\n",
      "[46]\ttraining-tweedie-nloglik@1.99:113.05897\n",
      "[47]\ttraining-tweedie-nloglik@1.99:113.05897\n",
      "[48]\ttraining-tweedie-nloglik@1.99:113.05897\n",
      "[49]\ttraining-tweedie-nloglik@1.99:113.05897\n",
      "[50]\ttraining-tweedie-nloglik@1.99:113.05896\n",
      "[51]\ttraining-tweedie-nloglik@1.99:113.05896\n",
      "[52]\ttraining-tweedie-nloglik@1.99:113.05896\n",
      "[53]\ttraining-tweedie-nloglik@1.99:113.05896\n",
      "[54]\ttraining-tweedie-nloglik@1.99:113.05895\n",
      "[55]\ttraining-tweedie-nloglik@1.99:113.05895\n",
      "[56]\ttraining-tweedie-nloglik@1.99:113.05895\n",
      "[57]\ttraining-tweedie-nloglik@1.99:113.05895\n",
      "[58]\ttraining-tweedie-nloglik@1.99:113.05895\n",
      "[59]\ttraining-tweedie-nloglik@1.99:113.05894\n",
      "[60]\ttraining-tweedie-nloglik@1.99:113.05894\n",
      "[61]\ttraining-tweedie-nloglik@1.99:113.05894\n",
      "[62]\ttraining-tweedie-nloglik@1.99:113.05893\n",
      "[63]\ttraining-tweedie-nloglik@1.99:113.05893\n",
      "[64]\ttraining-tweedie-nloglik@1.99:113.05892\n",
      "[65]\ttraining-tweedie-nloglik@1.99:113.05892\n",
      "[66]\ttraining-tweedie-nloglik@1.99:113.05891\n",
      "[67]\ttraining-tweedie-nloglik@1.99:113.05891\n",
      "[68]\ttraining-tweedie-nloglik@1.99:113.05891\n",
      "[69]\ttraining-tweedie-nloglik@1.99:113.05890\n",
      "[70]\ttraining-tweedie-nloglik@1.99:113.05890\n",
      "[71]\ttraining-tweedie-nloglik@1.99:113.05890\n",
      "[72]\ttraining-tweedie-nloglik@1.99:113.05890\n",
      "[73]\ttraining-tweedie-nloglik@1.99:113.05889\n",
      "[74]\ttraining-tweedie-nloglik@1.99:113.05889\n",
      "[75]\ttraining-tweedie-nloglik@1.99:113.05889\n",
      "[76]\ttraining-tweedie-nloglik@1.99:113.05889\n",
      "[77]\ttraining-tweedie-nloglik@1.99:113.05889\n",
      "[78]\ttraining-tweedie-nloglik@1.99:113.05889\n",
      "[79]\ttraining-tweedie-nloglik@1.99:113.05889\n",
      "[80]\ttraining-tweedie-nloglik@1.99:113.05889\n",
      "[81]\ttraining-tweedie-nloglik@1.99:113.05889\n",
      "[82]\ttraining-tweedie-nloglik@1.99:113.05888\n",
      "[83]\ttraining-tweedie-nloglik@1.99:113.05888\n",
      "[84]\ttraining-tweedie-nloglik@1.99:113.05888\n",
      "[85]\ttraining-tweedie-nloglik@1.99:113.05888\n",
      "[86]\ttraining-tweedie-nloglik@1.99:113.05887\n",
      "[87]\ttraining-tweedie-nloglik@1.99:113.05887\n",
      "[88]\ttraining-tweedie-nloglik@1.99:113.05887\n",
      "[89]\ttraining-tweedie-nloglik@1.99:113.05887\n",
      "[90]\ttraining-tweedie-nloglik@1.99:113.05887\n",
      "[91]\ttraining-tweedie-nloglik@1.99:113.05886\n",
      "[92]\ttraining-tweedie-nloglik@1.99:113.05886\n",
      "[93]\ttraining-tweedie-nloglik@1.99:113.05886\n",
      "[94]\ttraining-tweedie-nloglik@1.99:113.05886\n",
      "[95]\ttraining-tweedie-nloglik@1.99:113.05886\n",
      "[96]\ttraining-tweedie-nloglik@1.99:113.05886\n",
      "[97]\ttraining-tweedie-nloglik@1.99:113.05885\n",
      "[98]\ttraining-tweedie-nloglik@1.99:113.05885\n",
      "[99]\ttraining-tweedie-nloglik@1.99:113.05885\n",
      "[100]\ttraining-tweedie-nloglik@1.99:113.05885\n",
      "[101]\ttraining-tweedie-nloglik@1.99:113.05885\n",
      "[102]\ttraining-tweedie-nloglik@1.99:113.05884\n",
      "[103]\ttraining-tweedie-nloglik@1.99:113.05884\n",
      "[104]\ttraining-tweedie-nloglik@1.99:113.05884\n",
      "[105]\ttraining-tweedie-nloglik@1.99:113.05884\n",
      "[106]\ttraining-tweedie-nloglik@1.99:113.05883\n",
      "[107]\ttraining-tweedie-nloglik@1.99:113.05883\n",
      "[108]\ttraining-tweedie-nloglik@1.99:113.05883\n",
      "[109]\ttraining-tweedie-nloglik@1.99:113.05883\n",
      "[110]\ttraining-tweedie-nloglik@1.99:113.05883\n",
      "[111]\ttraining-tweedie-nloglik@1.99:113.05883\n",
      "[112]\ttraining-tweedie-nloglik@1.99:113.05883\n",
      "[113]\ttraining-tweedie-nloglik@1.99:113.05882\n",
      "[114]\ttraining-tweedie-nloglik@1.99:113.05882\n",
      "[115]\ttraining-tweedie-nloglik@1.99:113.05882\n",
      "[116]\ttraining-tweedie-nloglik@1.99:113.05882\n",
      "[117]\ttraining-tweedie-nloglik@1.99:113.05882\n",
      "[118]\ttraining-tweedie-nloglik@1.99:113.05881\n",
      "[119]\ttraining-tweedie-nloglik@1.99:113.05881\n",
      "[120]\ttraining-tweedie-nloglik@1.99:113.05881\n",
      "[121]\ttraining-tweedie-nloglik@1.99:113.05881\n",
      "[122]\ttraining-tweedie-nloglik@1.99:113.05880\n",
      "[123]\ttraining-tweedie-nloglik@1.99:113.05880\n",
      "[124]\ttraining-tweedie-nloglik@1.99:113.05880\n",
      "[125]\ttraining-tweedie-nloglik@1.99:113.05879\n",
      "[126]\ttraining-tweedie-nloglik@1.99:113.05879\n",
      "[127]\ttraining-tweedie-nloglik@1.99:113.05879\n",
      "[128]\ttraining-tweedie-nloglik@1.99:113.05878\n",
      "[129]\ttraining-tweedie-nloglik@1.99:113.05878\n",
      "[130]\ttraining-tweedie-nloglik@1.99:113.05878\n",
      "[131]\ttraining-tweedie-nloglik@1.99:113.05878\n",
      "[132]\ttraining-tweedie-nloglik@1.99:113.05878\n",
      "[133]\ttraining-tweedie-nloglik@1.99:113.05877\n",
      "[134]\ttraining-tweedie-nloglik@1.99:113.05877\n",
      "[135]\ttraining-tweedie-nloglik@1.99:113.05877\n",
      "[136]\ttraining-tweedie-nloglik@1.99:113.05877\n",
      "[137]\ttraining-tweedie-nloglik@1.99:113.05876\n",
      "[138]\ttraining-tweedie-nloglik@1.99:113.05876\n",
      "[139]\ttraining-tweedie-nloglik@1.99:113.05876\n",
      "[140]\ttraining-tweedie-nloglik@1.99:113.05876\n",
      "[141]\ttraining-tweedie-nloglik@1.99:113.05876\n",
      "[142]\ttraining-tweedie-nloglik@1.99:113.05876\n",
      "[143]\ttraining-tweedie-nloglik@1.99:113.05876\n",
      "[144]\ttraining-tweedie-nloglik@1.99:113.05875\n",
      "[145]\ttraining-tweedie-nloglik@1.99:113.05875\n",
      "[146]\ttraining-tweedie-nloglik@1.99:113.05875\n",
      "[147]\ttraining-tweedie-nloglik@1.99:113.05874\n",
      "[148]\ttraining-tweedie-nloglik@1.99:113.05874\n",
      "[149]\ttraining-tweedie-nloglik@1.99:113.05874\n",
      "[150]\ttraining-tweedie-nloglik@1.99:113.05874\n",
      "[151]\ttraining-tweedie-nloglik@1.99:113.05874\n",
      "[152]\ttraining-tweedie-nloglik@1.99:113.05874\n",
      "[153]\ttraining-tweedie-nloglik@1.99:113.05874\n",
      "[154]\ttraining-tweedie-nloglik@1.99:113.05874\n",
      "[155]\ttraining-tweedie-nloglik@1.99:113.05873\n",
      "[156]\ttraining-tweedie-nloglik@1.99:113.05873\n",
      "[157]\ttraining-tweedie-nloglik@1.99:113.05873\n",
      "[158]\ttraining-tweedie-nloglik@1.99:113.05872\n",
      "[159]\ttraining-tweedie-nloglik@1.99:113.05872\n",
      "[160]\ttraining-tweedie-nloglik@1.99:113.05872\n",
      "[161]\ttraining-tweedie-nloglik@1.99:113.05872\n",
      "[162]\ttraining-tweedie-nloglik@1.99:113.05872\n",
      "[163]\ttraining-tweedie-nloglik@1.99:113.05871\n",
      "[164]\ttraining-tweedie-nloglik@1.99:113.05871\n",
      "[165]\ttraining-tweedie-nloglik@1.99:113.05871\n",
      "[166]\ttraining-tweedie-nloglik@1.99:113.05871\n",
      "[167]\ttraining-tweedie-nloglik@1.99:113.05871\n",
      "[168]\ttraining-tweedie-nloglik@1.99:113.05871\n",
      "[169]\ttraining-tweedie-nloglik@1.99:113.05871\n",
      "[170]\ttraining-tweedie-nloglik@1.99:113.05870\n",
      "[171]\ttraining-tweedie-nloglik@1.99:113.05870\n",
      "[172]\ttraining-tweedie-nloglik@1.99:113.05870\n",
      "[173]\ttraining-tweedie-nloglik@1.99:113.05870\n",
      "[174]\ttraining-tweedie-nloglik@1.99:113.05870\n",
      "[175]\ttraining-tweedie-nloglik@1.99:113.05870\n",
      "[176]\ttraining-tweedie-nloglik@1.99:113.05870\n",
      "[177]\ttraining-tweedie-nloglik@1.99:113.05869\n",
      "[178]\ttraining-tweedie-nloglik@1.99:113.05869\n",
      "[179]\ttraining-tweedie-nloglik@1.99:113.05869\n",
      "[180]\ttraining-tweedie-nloglik@1.99:113.05869\n",
      "[181]\ttraining-tweedie-nloglik@1.99:113.05869\n",
      "[182]\ttraining-tweedie-nloglik@1.99:113.05868\n",
      "[183]\ttraining-tweedie-nloglik@1.99:113.05868\n",
      "[184]\ttraining-tweedie-nloglik@1.99:113.05868\n",
      "[185]\ttraining-tweedie-nloglik@1.99:113.05868\n",
      "[186]\ttraining-tweedie-nloglik@1.99:113.05868\n",
      "[187]\ttraining-tweedie-nloglik@1.99:113.05868\n",
      "[188]\ttraining-tweedie-nloglik@1.99:113.05868\n",
      "[189]\ttraining-tweedie-nloglik@1.99:113.05867\n",
      "[190]\ttraining-tweedie-nloglik@1.99:113.05867\n",
      "[191]\ttraining-tweedie-nloglik@1.99:113.05867\n",
      "[192]\ttraining-tweedie-nloglik@1.99:113.05867\n",
      "[193]\ttraining-tweedie-nloglik@1.99:113.05866\n",
      "[194]\ttraining-tweedie-nloglik@1.99:113.05866\n",
      "[195]\ttraining-tweedie-nloglik@1.99:113.05866\n",
      "[196]\ttraining-tweedie-nloglik@1.99:113.05866\n",
      "[197]\ttraining-tweedie-nloglik@1.99:113.05866\n",
      "[198]\ttraining-tweedie-nloglik@1.99:113.05866\n",
      "[199]\ttraining-tweedie-nloglik@1.99:113.05866\n",
      "[200]\ttraining-tweedie-nloglik@1.99:113.05866\n",
      "[201]\ttraining-tweedie-nloglik@1.99:113.05865\n",
      "[202]\ttraining-tweedie-nloglik@1.99:113.05865\n",
      "[203]\ttraining-tweedie-nloglik@1.99:113.05865\n",
      "[204]\ttraining-tweedie-nloglik@1.99:113.05865\n",
      "[205]\ttraining-tweedie-nloglik@1.99:113.05865\n",
      "[206]\ttraining-tweedie-nloglik@1.99:113.05865\n",
      "[207]\ttraining-tweedie-nloglik@1.99:113.05865\n",
      "[208]\ttraining-tweedie-nloglik@1.99:113.05865\n",
      "[209]\ttraining-tweedie-nloglik@1.99:113.05864\n",
      "[210]\ttraining-tweedie-nloglik@1.99:113.05864\n",
      "[211]\ttraining-tweedie-nloglik@1.99:113.05864\n",
      "[212]\ttraining-tweedie-nloglik@1.99:113.05864\n",
      "[213]\ttraining-tweedie-nloglik@1.99:113.05864\n",
      "[214]\ttraining-tweedie-nloglik@1.99:113.05864\n",
      "[215]\ttraining-tweedie-nloglik@1.99:113.05864\n",
      "[216]\ttraining-tweedie-nloglik@1.99:113.05864\n",
      "[217]\ttraining-tweedie-nloglik@1.99:113.05864\n",
      "[218]\ttraining-tweedie-nloglik@1.99:113.05864\n",
      "[219]\ttraining-tweedie-nloglik@1.99:113.05864\n",
      "[220]\ttraining-tweedie-nloglik@1.99:113.05863\n",
      "[221]\ttraining-tweedie-nloglik@1.99:113.05863\n",
      "[222]\ttraining-tweedie-nloglik@1.99:113.05863\n",
      "[223]\ttraining-tweedie-nloglik@1.99:113.05863\n",
      "[224]\ttraining-tweedie-nloglik@1.99:113.05862\n",
      "[225]\ttraining-tweedie-nloglik@1.99:113.05862\n",
      "[226]\ttraining-tweedie-nloglik@1.99:113.05862\n",
      "[227]\ttraining-tweedie-nloglik@1.99:113.05862\n",
      "[228]\ttraining-tweedie-nloglik@1.99:113.05862\n",
      "[229]\ttraining-tweedie-nloglik@1.99:113.05862\n",
      "[230]\ttraining-tweedie-nloglik@1.99:113.05862\n",
      "[231]\ttraining-tweedie-nloglik@1.99:113.05861\n",
      "[232]\ttraining-tweedie-nloglik@1.99:113.05861\n",
      "[233]\ttraining-tweedie-nloglik@1.99:113.05861\n",
      "[234]\ttraining-tweedie-nloglik@1.99:113.05861\n",
      "[235]\ttraining-tweedie-nloglik@1.99:113.05861\n",
      "[236]\ttraining-tweedie-nloglik@1.99:113.05861\n",
      "[237]\ttraining-tweedie-nloglik@1.99:113.05861\n",
      "[238]\ttraining-tweedie-nloglik@1.99:113.05861\n",
      "[239]\ttraining-tweedie-nloglik@1.99:113.05861\n",
      "[240]\ttraining-tweedie-nloglik@1.99:113.05860\n",
      "[241]\ttraining-tweedie-nloglik@1.99:113.05860\n",
      "[242]\ttraining-tweedie-nloglik@1.99:113.05860\n",
      "[243]\ttraining-tweedie-nloglik@1.99:113.05860\n",
      "[244]\ttraining-tweedie-nloglik@1.99:113.05860\n",
      "[245]\ttraining-tweedie-nloglik@1.99:113.05860\n",
      "[246]\ttraining-tweedie-nloglik@1.99:113.05859\n",
      "[247]\ttraining-tweedie-nloglik@1.99:113.05859\n",
      "[248]\ttraining-tweedie-nloglik@1.99:113.05859\n",
      "[249]\ttraining-tweedie-nloglik@1.99:113.05859\n",
      "[250]\ttraining-tweedie-nloglik@1.99:113.05859\n",
      "[251]\ttraining-tweedie-nloglik@1.99:113.05859\n",
      "[252]\ttraining-tweedie-nloglik@1.99:113.05858\n",
      "[253]\ttraining-tweedie-nloglik@1.99:113.05858\n",
      "[254]\ttraining-tweedie-nloglik@1.99:113.05858\n",
      "[255]\ttraining-tweedie-nloglik@1.99:113.05858\n",
      "[256]\ttraining-tweedie-nloglik@1.99:113.05858\n",
      "[257]\ttraining-tweedie-nloglik@1.99:113.05858\n",
      "[258]\ttraining-tweedie-nloglik@1.99:113.05858\n",
      "[259]\ttraining-tweedie-nloglik@1.99:113.05858\n",
      "[260]\ttraining-tweedie-nloglik@1.99:113.05857\n",
      "[261]\ttraining-tweedie-nloglik@1.99:113.05857\n",
      "[262]\ttraining-tweedie-nloglik@1.99:113.05857\n",
      "[263]\ttraining-tweedie-nloglik@1.99:113.05857\n",
      "[264]\ttraining-tweedie-nloglik@1.99:113.05857\n",
      "[265]\ttraining-tweedie-nloglik@1.99:113.05856\n",
      "[266]\ttraining-tweedie-nloglik@1.99:113.05856\n",
      "[267]\ttraining-tweedie-nloglik@1.99:113.05856\n",
      "[268]\ttraining-tweedie-nloglik@1.99:113.05856\n",
      "[269]\ttraining-tweedie-nloglik@1.99:113.05856\n",
      "[270]\ttraining-tweedie-nloglik@1.99:113.05856\n",
      "[271]\ttraining-tweedie-nloglik@1.99:113.05856\n",
      "[272]\ttraining-tweedie-nloglik@1.99:113.05856\n",
      "[273]\ttraining-tweedie-nloglik@1.99:113.05856\n",
      "[274]\ttraining-tweedie-nloglik@1.99:113.05856\n",
      "[275]\ttraining-tweedie-nloglik@1.99:113.05855\n",
      "[276]\ttraining-tweedie-nloglik@1.99:113.05855\n",
      "[277]\ttraining-tweedie-nloglik@1.99:113.05855\n",
      "[278]\ttraining-tweedie-nloglik@1.99:113.05855\n",
      "[279]\ttraining-tweedie-nloglik@1.99:113.05855\n",
      "[280]\ttraining-tweedie-nloglik@1.99:113.05855\n",
      "[281]\ttraining-tweedie-nloglik@1.99:113.05855\n",
      "[282]\ttraining-tweedie-nloglik@1.99:113.05855\n",
      "[283]\ttraining-tweedie-nloglik@1.99:113.05855\n",
      "[284]\ttraining-tweedie-nloglik@1.99:113.05855\n",
      "[285]\ttraining-tweedie-nloglik@1.99:113.05855\n",
      "[286]\ttraining-tweedie-nloglik@1.99:113.05855\n",
      "[287]\ttraining-tweedie-nloglik@1.99:113.05854\n",
      "[288]\ttraining-tweedie-nloglik@1.99:113.05854\n",
      "[289]\ttraining-tweedie-nloglik@1.99:113.05854\n",
      "[290]\ttraining-tweedie-nloglik@1.99:113.05854\n",
      "[291]\ttraining-tweedie-nloglik@1.99:113.05854\n",
      "[292]\ttraining-tweedie-nloglik@1.99:113.05854\n",
      "[293]\ttraining-tweedie-nloglik@1.99:113.05854\n",
      "[294]\ttraining-tweedie-nloglik@1.99:113.05854\n",
      "[295]\ttraining-tweedie-nloglik@1.99:113.05854\n",
      "[296]\ttraining-tweedie-nloglik@1.99:113.05854\n",
      "[297]\ttraining-tweedie-nloglik@1.99:113.05854\n",
      "[298]\ttraining-tweedie-nloglik@1.99:113.05853\n",
      "[299]\ttraining-tweedie-nloglik@1.99:113.05853\n",
      "[300]\ttraining-tweedie-nloglik@1.99:113.05853\n",
      "[301]\ttraining-tweedie-nloglik@1.99:113.05853\n",
      "[302]\ttraining-tweedie-nloglik@1.99:113.05853\n",
      "[303]\ttraining-tweedie-nloglik@1.99:113.05853\n",
      "[304]\ttraining-tweedie-nloglik@1.99:113.05853\n",
      "[305]\ttraining-tweedie-nloglik@1.99:113.05853\n",
      "[306]\ttraining-tweedie-nloglik@1.99:113.05853\n",
      "[307]\ttraining-tweedie-nloglik@1.99:113.05853\n",
      "[308]\ttraining-tweedie-nloglik@1.99:113.05853\n",
      "[309]\ttraining-tweedie-nloglik@1.99:113.05852\n",
      "[310]\ttraining-tweedie-nloglik@1.99:113.05852\n",
      "[311]\ttraining-tweedie-nloglik@1.99:113.05852\n",
      "[312]\ttraining-tweedie-nloglik@1.99:113.05852\n",
      "[313]\ttraining-tweedie-nloglik@1.99:113.05852\n",
      "[314]\ttraining-tweedie-nloglik@1.99:113.05852\n",
      "[315]\ttraining-tweedie-nloglik@1.99:113.05852\n",
      "[316]\ttraining-tweedie-nloglik@1.99:113.05852\n",
      "[317]\ttraining-tweedie-nloglik@1.99:113.05852\n",
      "[318]\ttraining-tweedie-nloglik@1.99:113.05852\n",
      "[319]\ttraining-tweedie-nloglik@1.99:113.05851\n",
      "[320]\ttraining-tweedie-nloglik@1.99:113.05851\n",
      "[321]\ttraining-tweedie-nloglik@1.99:113.05851\n",
      "[322]\ttraining-tweedie-nloglik@1.99:113.05851\n",
      "[323]\ttraining-tweedie-nloglik@1.99:113.05851\n",
      "[324]\ttraining-tweedie-nloglik@1.99:113.05851\n",
      "[325]\ttraining-tweedie-nloglik@1.99:113.05851\n",
      "[326]\ttraining-tweedie-nloglik@1.99:113.05851\n",
      "[327]\ttraining-tweedie-nloglik@1.99:113.05851\n",
      "[328]\ttraining-tweedie-nloglik@1.99:113.05851\n",
      "[329]\ttraining-tweedie-nloglik@1.99:113.05851\n",
      "[330]\ttraining-tweedie-nloglik@1.99:113.05850\n",
      "[331]\ttraining-tweedie-nloglik@1.99:113.05850\n",
      "[332]\ttraining-tweedie-nloglik@1.99:113.05850\n",
      "[333]\ttraining-tweedie-nloglik@1.99:113.05850\n",
      "[334]\ttraining-tweedie-nloglik@1.99:113.05850\n",
      "[335]\ttraining-tweedie-nloglik@1.99:113.05850\n",
      "[336]\ttraining-tweedie-nloglik@1.99:113.05850\n",
      "[337]\ttraining-tweedie-nloglik@1.99:113.05849\n",
      "[338]\ttraining-tweedie-nloglik@1.99:113.05849\n",
      "[339]\ttraining-tweedie-nloglik@1.99:113.05849\n",
      "[340]\ttraining-tweedie-nloglik@1.99:113.05849\n",
      "[341]\ttraining-tweedie-nloglik@1.99:113.05849\n",
      "[342]\ttraining-tweedie-nloglik@1.99:113.05849\n",
      "[343]\ttraining-tweedie-nloglik@1.99:113.05849\n",
      "[344]\ttraining-tweedie-nloglik@1.99:113.05849\n",
      "[345]\ttraining-tweedie-nloglik@1.99:113.05849\n",
      "[346]\ttraining-tweedie-nloglik@1.99:113.05849\n",
      "[347]\ttraining-tweedie-nloglik@1.99:113.05849\n",
      "[348]\ttraining-tweedie-nloglik@1.99:113.05849\n",
      "[349]\ttraining-tweedie-nloglik@1.99:113.05849\n",
      "[350]\ttraining-tweedie-nloglik@1.99:113.05849\n",
      "[351]\ttraining-tweedie-nloglik@1.99:113.05848\n",
      "[352]\ttraining-tweedie-nloglik@1.99:113.05848\n",
      "[353]\ttraining-tweedie-nloglik@1.99:113.05848\n",
      "[354]\ttraining-tweedie-nloglik@1.99:113.05848\n",
      "[355]\ttraining-tweedie-nloglik@1.99:113.05848\n",
      "[356]\ttraining-tweedie-nloglik@1.99:113.05848\n",
      "[357]\ttraining-tweedie-nloglik@1.99:113.05848\n",
      "[358]\ttraining-tweedie-nloglik@1.99:113.05848\n",
      "[359]\ttraining-tweedie-nloglik@1.99:113.05848\n",
      "[360]\ttraining-tweedie-nloglik@1.99:113.05848\n",
      "[361]\ttraining-tweedie-nloglik@1.99:113.05848\n",
      "[362]\ttraining-tweedie-nloglik@1.99:113.05848\n",
      "[363]\ttraining-tweedie-nloglik@1.99:113.05848\n",
      "[364]\ttraining-tweedie-nloglik@1.99:113.05847\n",
      "[365]\ttraining-tweedie-nloglik@1.99:113.05847\n",
      "[366]\ttraining-tweedie-nloglik@1.99:113.05847\n",
      "[367]\ttraining-tweedie-nloglik@1.99:113.05847\n",
      "[368]\ttraining-tweedie-nloglik@1.99:113.05847\n",
      "[369]\ttraining-tweedie-nloglik@1.99:113.05847\n",
      "[370]\ttraining-tweedie-nloglik@1.99:113.05847\n",
      "[371]\ttraining-tweedie-nloglik@1.99:113.05847\n",
      "[372]\ttraining-tweedie-nloglik@1.99:113.05847\n",
      "[373]\ttraining-tweedie-nloglik@1.99:113.05847\n",
      "[374]\ttraining-tweedie-nloglik@1.99:113.05846\n",
      "[375]\ttraining-tweedie-nloglik@1.99:113.05846\n",
      "[376]\ttraining-tweedie-nloglik@1.99:113.05846\n",
      "[377]\ttraining-tweedie-nloglik@1.99:113.05846\n",
      "[378]\ttraining-tweedie-nloglik@1.99:113.05846\n",
      "[379]\ttraining-tweedie-nloglik@1.99:113.05846\n",
      "[380]\ttraining-tweedie-nloglik@1.99:113.05846\n",
      "[381]\ttraining-tweedie-nloglik@1.99:113.05846\n",
      "[382]\ttraining-tweedie-nloglik@1.99:113.05846\n",
      "[383]\ttraining-tweedie-nloglik@1.99:113.05846\n",
      "[384]\ttraining-tweedie-nloglik@1.99:113.05845\n",
      "[385]\ttraining-tweedie-nloglik@1.99:113.05845\n",
      "[386]\ttraining-tweedie-nloglik@1.99:113.05845\n",
      "[387]\ttraining-tweedie-nloglik@1.99:113.05845\n",
      "[388]\ttraining-tweedie-nloglik@1.99:113.05845\n",
      "[389]\ttraining-tweedie-nloglik@1.99:113.05845\n",
      "[390]\ttraining-tweedie-nloglik@1.99:113.05845\n",
      "[391]\ttraining-tweedie-nloglik@1.99:113.05845\n",
      "[392]\ttraining-tweedie-nloglik@1.99:113.05845\n",
      "[393]\ttraining-tweedie-nloglik@1.99:113.05845\n",
      "[394]\ttraining-tweedie-nloglik@1.99:113.05845\n",
      "[395]\ttraining-tweedie-nloglik@1.99:113.05845\n",
      "[396]\ttraining-tweedie-nloglik@1.99:113.05845\n",
      "[397]\ttraining-tweedie-nloglik@1.99:113.05845\n",
      "[398]\ttraining-tweedie-nloglik@1.99:113.05845\n",
      "[399]\ttraining-tweedie-nloglik@1.99:113.05845\n",
      "[400]\ttraining-tweedie-nloglik@1.99:113.05844\n",
      "[401]\ttraining-tweedie-nloglik@1.99:113.05844\n",
      "[402]\ttraining-tweedie-nloglik@1.99:113.05844\n",
      "[403]\ttraining-tweedie-nloglik@1.99:113.05844\n",
      "[404]\ttraining-tweedie-nloglik@1.99:113.05844\n",
      "[405]\ttraining-tweedie-nloglik@1.99:113.05844\n",
      "[406]\ttraining-tweedie-nloglik@1.99:113.05844\n",
      "[407]\ttraining-tweedie-nloglik@1.99:113.05844\n",
      "[408]\ttraining-tweedie-nloglik@1.99:113.05844\n",
      "[409]\ttraining-tweedie-nloglik@1.99:113.05844\n",
      "[410]\ttraining-tweedie-nloglik@1.99:113.05844\n",
      "[411]\ttraining-tweedie-nloglik@1.99:113.05844\n",
      "[412]\ttraining-tweedie-nloglik@1.99:113.05843\n",
      "[413]\ttraining-tweedie-nloglik@1.99:113.05843\n",
      "[414]\ttraining-tweedie-nloglik@1.99:113.05843\n",
      "[415]\ttraining-tweedie-nloglik@1.99:113.05843\n",
      "[416]\ttraining-tweedie-nloglik@1.99:113.05843\n",
      "[417]\ttraining-tweedie-nloglik@1.99:113.05843\n",
      "[418]\ttraining-tweedie-nloglik@1.99:113.05843\n",
      "[419]\ttraining-tweedie-nloglik@1.99:113.05843\n",
      "[420]\ttraining-tweedie-nloglik@1.99:113.05843\n",
      "[421]\ttraining-tweedie-nloglik@1.99:113.05843\n",
      "[422]\ttraining-tweedie-nloglik@1.99:113.05843\n",
      "[423]\ttraining-tweedie-nloglik@1.99:113.05843\n",
      "[424]\ttraining-tweedie-nloglik@1.99:113.05843\n",
      "[425]\ttraining-tweedie-nloglik@1.99:113.05843\n",
      "[426]\ttraining-tweedie-nloglik@1.99:113.05843\n",
      "[427]\ttraining-tweedie-nloglik@1.99:113.05842\n",
      "[428]\ttraining-tweedie-nloglik@1.99:113.05842\n",
      "[429]\ttraining-tweedie-nloglik@1.99:113.05842\n",
      "[430]\ttraining-tweedie-nloglik@1.99:113.05842\n",
      "[431]\ttraining-tweedie-nloglik@1.99:113.05842\n",
      "[432]\ttraining-tweedie-nloglik@1.99:113.05842\n",
      "[433]\ttraining-tweedie-nloglik@1.99:113.05842\n",
      "[434]\ttraining-tweedie-nloglik@1.99:113.05842\n",
      "[435]\ttraining-tweedie-nloglik@1.99:113.05842\n",
      "[436]\ttraining-tweedie-nloglik@1.99:113.05842\n",
      "[437]\ttraining-tweedie-nloglik@1.99:113.05842\n",
      "[438]\ttraining-tweedie-nloglik@1.99:113.05842\n",
      "[439]\ttraining-tweedie-nloglik@1.99:113.05841\n",
      "[440]\ttraining-tweedie-nloglik@1.99:113.05841\n",
      "[441]\ttraining-tweedie-nloglik@1.99:113.05841\n",
      "[442]\ttraining-tweedie-nloglik@1.99:113.05841\n",
      "[443]\ttraining-tweedie-nloglik@1.99:113.05841\n",
      "[444]\ttraining-tweedie-nloglik@1.99:113.05841\n",
      "[445]\ttraining-tweedie-nloglik@1.99:113.05841\n",
      "[446]\ttraining-tweedie-nloglik@1.99:113.05841\n",
      "[447]\ttraining-tweedie-nloglik@1.99:113.05841\n",
      "[448]\ttraining-tweedie-nloglik@1.99:113.05840\n",
      "[449]\ttraining-tweedie-nloglik@1.99:113.05840\n",
      "[450]\ttraining-tweedie-nloglik@1.99:113.05840\n",
      "[451]\ttraining-tweedie-nloglik@1.99:113.05840\n",
      "[452]\ttraining-tweedie-nloglik@1.99:113.05840\n",
      "[453]\ttraining-tweedie-nloglik@1.99:113.05840\n",
      "[454]\ttraining-tweedie-nloglik@1.99:113.05840\n",
      "[455]\ttraining-tweedie-nloglik@1.99:113.05840\n",
      "[456]\ttraining-tweedie-nloglik@1.99:113.05840\n",
      "[457]\ttraining-tweedie-nloglik@1.99:113.05840\n",
      "[458]\ttraining-tweedie-nloglik@1.99:113.05840\n",
      "[459]\ttraining-tweedie-nloglik@1.99:113.05839\n",
      "[460]\ttraining-tweedie-nloglik@1.99:113.05839\n",
      "[461]\ttraining-tweedie-nloglik@1.99:113.05839\n",
      "[462]\ttraining-tweedie-nloglik@1.99:113.05839\n",
      "[463]\ttraining-tweedie-nloglik@1.99:113.05839\n",
      "[464]\ttraining-tweedie-nloglik@1.99:113.05839\n",
      "[465]\ttraining-tweedie-nloglik@1.99:113.05839\n",
      "[466]\ttraining-tweedie-nloglik@1.99:113.05839\n",
      "[467]\ttraining-tweedie-nloglik@1.99:113.05839\n",
      "[468]\ttraining-tweedie-nloglik@1.99:113.05839\n",
      "[469]\ttraining-tweedie-nloglik@1.99:113.05839\n",
      "[470]\ttraining-tweedie-nloglik@1.99:113.05839\n",
      "[471]\ttraining-tweedie-nloglik@1.99:113.05839\n",
      "[472]\ttraining-tweedie-nloglik@1.99:113.05839\n",
      "[473]\ttraining-tweedie-nloglik@1.99:113.05839\n",
      "[474]\ttraining-tweedie-nloglik@1.99:113.05839\n",
      "[475]\ttraining-tweedie-nloglik@1.99:113.05839\n",
      "[476]\ttraining-tweedie-nloglik@1.99:113.05838\n",
      "[477]\ttraining-tweedie-nloglik@1.99:113.05838\n",
      "[478]\ttraining-tweedie-nloglik@1.99:113.05838\n",
      "[479]\ttraining-tweedie-nloglik@1.99:113.05838\n",
      "[480]\ttraining-tweedie-nloglik@1.99:113.05838\n",
      "[481]\ttraining-tweedie-nloglik@1.99:113.05838\n",
      "[482]\ttraining-tweedie-nloglik@1.99:113.05838\n",
      "[483]\ttraining-tweedie-nloglik@1.99:113.05838\n",
      "[484]\ttraining-tweedie-nloglik@1.99:113.05838\n",
      "[485]\ttraining-tweedie-nloglik@1.99:113.05838\n",
      "[486]\ttraining-tweedie-nloglik@1.99:113.05838\n",
      "[487]\ttraining-tweedie-nloglik@1.99:113.05838\n",
      "[488]\ttraining-tweedie-nloglik@1.99:113.05837\n",
      "[489]\ttraining-tweedie-nloglik@1.99:113.05837\n",
      "[490]\ttraining-tweedie-nloglik@1.99:113.05837\n",
      "[491]\ttraining-tweedie-nloglik@1.99:113.05837\n",
      "[492]\ttraining-tweedie-nloglik@1.99:113.05837\n",
      "[493]\ttraining-tweedie-nloglik@1.99:113.05837\n",
      "[494]\ttraining-tweedie-nloglik@1.99:113.05837\n",
      "[495]\ttraining-tweedie-nloglik@1.99:113.05837\n",
      "[496]\ttraining-tweedie-nloglik@1.99:113.05837\n",
      "[497]\ttraining-tweedie-nloglik@1.99:113.05837\n",
      "[498]\ttraining-tweedie-nloglik@1.99:113.05837\n",
      "[499]\ttraining-tweedie-nloglik@1.99:113.05837\n",
      "SMAPE train: 1.4728143600533552, SMAPE test: 21.22362886423942\n"
     ]
    }
   ],
   "source": [
    "params_v2 = {\n",
    "    #'objective' : 'reg:tweedie',\n",
    "    #'quantile_alpha' : 0.5,\n",
    "    #'huber_slope' : 512.0,\n",
    "    #'tweedie_variance_power' : 1.75,\n",
    "    #'verbosity' : 2,\n",
    "    'process_type' : 'default',\n",
    "    #'eta' : 0.3\n",
    "    #'subsample' : 0.5\n",
    "}\n",
    "\n",
    "n=500\n",
    "\n",
    "xg_model_v2_1 = xgb.train(\n",
    "    params=params_v2,\n",
    "    dtrain=dtrain_reg,\n",
    "    evals=[(dtrain_reg, \"training\")],\n",
    "    num_boost_round=n,\n",
    "    xgb_model = xg_model_v2\n",
    ")\n",
    "\n",
    "y_pred_train2 = xg_model_v2_1.predict(dtrain_reg)\n",
    "y_pred_test2 = xg_model_v2_1.predict(dtest_reg)\n",
    "\n",
    "print(f'SMAPE train: {smape(y_train, y_pred_train2)}, SMAPE test: {smape(y_test, y_pred_test2)}')"
   ]
  },
  {
   "cell_type": "code",
   "execution_count": null,
   "id": "3fcae64d-5a3d-4651-ade3-03f22c426451",
   "metadata": {},
   "outputs": [],
   "source": [
    "xg_model2.score(X_test, y_test)"
   ]
  },
  {
   "cell_type": "code",
   "execution_count": null,
   "id": "e6e9045b-e4f5-478d-9e01-a848bb8aaeec",
   "metadata": {},
   "outputs": [],
   "source": [
    "importances1 = dict(zip(xg_model.feature_names_in_, xg_model.feature_importances_))\n",
    "importances1 = {k: v for k,v in sorted(importances1.items(), key=lambda x: x[1], reverse=True)}\n",
    "importances1"
   ]
  },
  {
   "cell_type": "markdown",
   "id": "f831cd2df8ee92d2",
   "metadata": {
    "collapsed": false,
    "jupyter": {
     "outputs_hidden": false
    }
   },
   "source": [
    "<H2>Создаем третью модель: CatBoost с MAE</H2>"
   ]
  },
  {
   "cell_type": "code",
   "execution_count": null,
   "id": "a1d01fd3-9d3d-4ada-a838-8edc0d027525",
   "metadata": {},
   "outputs": [],
   "source": [
    "%%time\n",
    "from catboost import CatBoostRegressor\n",
    "\n",
    "\n",
    "cat_model = CatBoostRegressor(loss_function='MAE', eval_metric='SMAPE', \n",
    "                              depth=8, iterations = 25000, random_state=999997,\n",
    "                              rsm=0.05)#, learning_rate=0.04)\n",
    "                              #grow_policy='Depthwise')\n",
    "                              #learning_rate=0.5)\n",
    "                              #bootstrap_type='MVS', mvs_reg=20, subsample=0.8,\n",
    "                              #min_data_in_leaf=3, rsm=0.5)\n",
    "cat_model.fit(X_train, \n",
    "              y_train,\n",
    "              verbose=500,\n",
    "              eval_set=(X_test, y_test),\n",
    "              use_best_model=True,  \n",
    ")\n",
    "\n",
    "y_pred_train1 = cat_model.predict(X_train)\n",
    "y_pred_test1 = cat_model.predict(X_test)\n",
    "\n",
    "print(f'SMAPE train: {smape(y_train, y_pred_train1)}, SMAPE test: {smape(y_test, y_pred_test1)}')"
   ]
  },
  {
   "cell_type": "code",
   "execution_count": 82,
   "id": "ff5a07476fecf5b2",
   "metadata": {
    "ExecuteTime": {
     "end_time": "2024-01-09T17:43:47.441906500Z",
     "start_time": "2024-01-09T17:43:46.417434Z"
    },
    "collapsed": false,
    "jupyter": {
     "outputs_hidden": false
    }
   },
   "outputs": [
    {
     "data": {
      "text/plain": [
       "<catboost.core.CatBoostRegressor at 0x1b68594f6d0>"
      ]
     },
     "execution_count": 82,
     "metadata": {},
     "output_type": "execute_result"
    }
   ],
   "source": [
    "from catboost import CatBoostRegressor\n",
    "\n",
    "cat_model = CatBoostRegressor()\n",
    "\n",
    "cat_model.load_model(\"cat_model.bin\")"
   ]
  },
  {
   "cell_type": "code",
   "execution_count": 92,
   "id": "3d1b8649996d0306",
   "metadata": {
    "ExecuteTime": {
     "end_time": "2024-01-09T18:00:08.284568100Z",
     "start_time": "2024-01-09T17:54:54.261445600Z"
    },
    "collapsed": false,
    "jupyter": {
     "outputs_hidden": false
    }
   },
   "outputs": [
    {
     "name": "stdout",
     "output_type": "stream",
     "text": [
      "0:\tlearn: 4.0875268\ttest: 20.8857056\tbest: 20.8857056 (0)\ttotal: 129ms\tremaining: 10m 45s\n",
      "500:\tlearn: 4.0720358\ttest: 20.8844711\tbest: 20.8830730 (139)\ttotal: 30.7s\tremaining: 4m 35s\n",
      "1000:\tlearn: 4.0339885\ttest: 20.8823380\tbest: 20.8823380 (1000)\ttotal: 58.7s\tremaining: 3m 54s\n",
      "1500:\tlearn: 3.9982417\ttest: 20.8829590\tbest: 20.8809711 (1413)\ttotal: 1m 27s\tremaining: 3m 23s\n",
      "2000:\tlearn: 3.9531914\ttest: 20.8862890\tbest: 20.8806426 (1634)\ttotal: 1m 57s\tremaining: 2m 56s\n",
      "2500:\tlearn: 3.9120402\ttest: 20.8851923\tbest: 20.8806426 (1634)\ttotal: 2m 27s\tremaining: 2m 27s\n",
      "3000:\tlearn: 3.8798329\ttest: 20.8825626\tbest: 20.8806426 (1634)\ttotal: 3m 4s\tremaining: 2m 2s\n",
      "3500:\tlearn: 3.8475358\ttest: 20.8884899\tbest: 20.8806426 (1634)\ttotal: 3m 34s\tremaining: 1m 31s\n",
      "4000:\tlearn: 3.8044231\ttest: 20.8891936\tbest: 20.8806426 (1634)\ttotal: 4m 4s\tremaining: 1m 1s\n",
      "4500:\tlearn: 3.7670049\ttest: 20.8869158\tbest: 20.8806426 (1634)\ttotal: 4m 33s\tremaining: 30.4s\n",
      "4999:\tlearn: 3.7268177\ttest: 20.8870811\tbest: 20.8806426 (1634)\ttotal: 5m 5s\tremaining: 0us\n",
      "\n",
      "bestTest = 20.88064258\n",
      "bestIteration = 1634\n",
      "\n",
      "Shrink model to first 1635 iterations.\n"
     ]
    },
    {
     "data": {
      "text/plain": [
       "<catboost.core.CatBoostRegressor at 0x1b6b61d9f10>"
      ]
     },
     "execution_count": 92,
     "metadata": {},
     "output_type": "execute_result"
    }
   ],
   "source": [
    "cat_model_1 = CatBoostRegressor(loss_function='MAE', eval_metric='SMAPE', \n",
    "                              depth=7, iterations = 5000, random_state=9999,\n",
    "                              rsm=0.1)#, learning_rate=0.3)\n",
    "                              #grow_policy='Depthwise')\n",
    "                              #learning_rate=0.5)\n",
    "                              #bootstrap_type='MVS', mvs_reg=20, subsample=0.8,\n",
    "                              #min_data_in_leaf=3, rsm=0.5)\n",
    "\n",
    "cat_model_1.fit(X_train, \n",
    "                  y_train,\n",
    "                  verbose=500,\n",
    "                  eval_set=(X_test, y_test),\n",
    "                  use_best_model=True, \n",
    "                  init_model=cat_model)"
   ]
  },
  {
   "cell_type": "code",
   "execution_count": 94,
   "id": "87eb971d65af59b0",
   "metadata": {
    "ExecuteTime": {
     "end_time": "2024-01-09T18:04:05.192037500Z",
     "start_time": "2024-01-09T18:00:26.863658400Z"
    },
    "collapsed": false,
    "jupyter": {
     "outputs_hidden": false
    }
   },
   "outputs": [
    {
     "name": "stdout",
     "output_type": "stream",
     "text": [
      "0:\tlearn: 3.9846386\ttest: 20.8806355\tbest: 20.8806355 (0)\ttotal: 55.9ms\tremaining: 4m 39s\n",
      "500:\tlearn: 3.9653609\ttest: 20.8822225\tbest: 20.8794938 (196)\ttotal: 25.6s\tremaining: 3m 49s\n",
      "1000:\tlearn: 3.9348405\ttest: 20.8834391\tbest: 20.8794938 (196)\ttotal: 46.1s\tremaining: 3m 4s\n",
      "1500:\tlearn: 3.9079423\ttest: 20.8818771\tbest: 20.8794938 (196)\ttotal: 1m 6s\tremaining: 2m 35s\n",
      "2000:\tlearn: 3.8781146\ttest: 20.8800752\tbest: 20.8788103 (1871)\ttotal: 1m 26s\tremaining: 2m 10s\n",
      "2500:\tlearn: 3.8563098\ttest: 20.8879814\tbest: 20.8788103 (1871)\ttotal: 1m 47s\tremaining: 1m 47s\n",
      "3000:\tlearn: 3.8419955\ttest: 20.8924930\tbest: 20.8788103 (1871)\ttotal: 2m 8s\tremaining: 1m 25s\n",
      "3500:\tlearn: 3.8285923\ttest: 20.8999980\tbest: 20.8788103 (1871)\ttotal: 2m 28s\tremaining: 1m 3s\n",
      "4000:\tlearn: 3.8095187\ttest: 20.8999374\tbest: 20.8788103 (1871)\ttotal: 2m 49s\tremaining: 42.3s\n",
      "4500:\tlearn: 3.7882270\ttest: 20.8971644\tbest: 20.8788103 (1871)\ttotal: 3m 9s\tremaining: 21s\n",
      "4999:\tlearn: 3.7693247\ttest: 20.9051600\tbest: 20.8788103 (1871)\ttotal: 3m 30s\tremaining: 0us\n",
      "\n",
      "bestTest = 20.87881026\n",
      "bestIteration = 1871\n",
      "\n",
      "Shrink model to first 1872 iterations.\n"
     ]
    },
    {
     "data": {
      "text/plain": [
       "<catboost.core.CatBoostRegressor at 0x1b6833c40d0>"
      ]
     },
     "execution_count": 94,
     "metadata": {},
     "output_type": "execute_result"
    }
   ],
   "source": [
    "cat_model_2 = CatBoostRegressor(loss_function='MAE', eval_metric='SMAPE', \n",
    "                              depth=6, iterations = 5000, random_state=9999,\n",
    "                              rsm=0.11)#, learning_rate=0.3)\n",
    "                              #grow_policy='Depthwise')\n",
    "                              #learning_rate=0.5)\n",
    "                              #bootstrap_type='MVS', mvs_reg=20, subsample=0.8,\n",
    "                              #min_data_in_leaf=3, rsm=0.5)\n",
    "\n",
    "cat_model_2.fit(X_train, \n",
    "                  y_train,\n",
    "                  verbose=500,\n",
    "                  eval_set=(X_test, y_test),\n",
    "                  use_best_model=True, \n",
    "                  init_model=cat_model_1)"
   ]
  },
  {
   "cell_type": "code",
   "execution_count": 95,
   "id": "8ab78c76706ce03",
   "metadata": {
    "ExecuteTime": {
     "end_time": "2024-01-09T18:04:20.857486300Z",
     "start_time": "2024-01-09T18:04:17.503000800Z"
    },
    "collapsed": false,
    "jupyter": {
     "outputs_hidden": false
    }
   },
   "outputs": [
    {
     "name": "stdout",
     "output_type": "stream",
     "text": [
      "SMAPE train: 3.8850051087799296, SMAPE test: 20.878810257173097\n"
     ]
    }
   ],
   "source": [
    "y_pred_train1 = cat_model_2.predict(X_train)\n",
    "y_pred_test1 = cat_model_2.predict(X_test)\n",
    "\n",
    "print(f'SMAPE train: {smape(y_train, y_pred_train1)}, SMAPE test: {smape(y_test, y_pred_test1)}')"
   ]
  },
  {
   "cell_type": "code",
   "execution_count": null,
   "id": "798a8bbf-6212-4779-9fae-afe2b67c66fc",
   "metadata": {},
   "outputs": [],
   "source": [
    "cat_model.score(X_test, y_test)"
   ]
  },
  {
   "cell_type": "code",
   "execution_count": null,
   "id": "4cf2a879-de1e-47d9-94f3-4ccbff8b853d",
   "metadata": {},
   "outputs": [],
   "source": [
    "importances1 = dict(zip(cat_model.feature_names_, cat_model.feature_importances_))\n",
    "importances1 = {k: v for k,v in sorted(importances1.items(), key=lambda x: x[1], reverse=True)}"
   ]
  },
  {
   "cell_type": "code",
   "execution_count": null,
   "id": "50c6655f-09a0-4572-891c-f474ec2ca1d3",
   "metadata": {},
   "outputs": [],
   "source": [
    "importances1"
   ]
  },
  {
   "cell_type": "markdown",
   "id": "cc25c3d4823bb06e",
   "metadata": {
    "collapsed": false,
    "jupyter": {
     "outputs_hidden": false
    }
   },
   "source": [
    "<H2>Создаем четвертую модель: CatBoost с Quantile</H2>"
   ]
  },
  {
   "cell_type": "code",
   "execution_count": null,
   "id": "919ad46a6d4cc8ce",
   "metadata": {
    "collapsed": false,
    "jupyter": {
     "outputs_hidden": false
    }
   },
   "outputs": [],
   "source": [
    "%%time\n",
    "\n",
    "\n",
    "cat_model2 = CatBoostRegressor(loss_function='Quantile', eval_metric='SMAPE', \n",
    "                              depth=8, iterations = 25000, random_state=999998,\n",
    "                              rsm=0.05)#, learning_rate=0.01)\n",
    "                              #grow_policy='Depthwise')\n",
    "                              #learning_rate=0.5)\n",
    "                              #bootstrap_type='MVS', mvs_reg=20, subsample=0.8,\n",
    "                              #min_data_in_leaf=3, rsm=0.5)\n",
    "cat_model2.fit(X_train, \n",
    "              y_train,\n",
    "              verbose=500,\n",
    "              eval_set=(X_test, y_test),\n",
    "              use_best_model=True,  \n",
    ")\n",
    "\n",
    "y_pred_train3 = cat_model2.predict(X_train)\n",
    "y_pred_test3 = cat_model2.predict(X_test)\n",
    "\n",
    "print(f'SMAPE train: {smape(y_train, y_pred_train3)}, SMAPE test: {smape(y_test, y_pred_test3)}')"
   ]
  },
  {
   "cell_type": "code",
   "execution_count": 84,
   "id": "7433e89c0dc4cf79",
   "metadata": {
    "ExecuteTime": {
     "end_time": "2024-01-09T17:43:51.156423900Z",
     "start_time": "2024-01-09T17:43:50.951137600Z"
    },
    "collapsed": false,
    "jupyter": {
     "outputs_hidden": false
    }
   },
   "outputs": [
    {
     "data": {
      "text/plain": [
       "<catboost.core.CatBoostRegressor at 0x1b6dec99bd0>"
      ]
     },
     "execution_count": 84,
     "metadata": {},
     "output_type": "execute_result"
    }
   ],
   "source": [
    "cat_model2 = CatBoostRegressor()\n",
    "\n",
    "cat_model2.load_model(\"cat_model2.bin\")"
   ]
  },
  {
   "cell_type": "code",
   "execution_count": 85,
   "id": "ca224d749ea92c45",
   "metadata": {
    "ExecuteTime": {
     "end_time": "2024-01-09T17:43:54.661255600Z",
     "start_time": "2024-01-09T17:43:50.968443900Z"
    },
    "collapsed": false,
    "jupyter": {
     "outputs_hidden": false
    }
   },
   "outputs": [
    {
     "name": "stdout",
     "output_type": "stream",
     "text": [
      "SMAPE train: 4.632861779358041, SMAPE test: 20.977942800396537\n"
     ]
    }
   ],
   "source": [
    "y_pred_train3 = cat_model2.predict(X_train)\n",
    "y_pred_test3 = cat_model2.predict(X_test)\n",
    "\n",
    "print(f'SMAPE train: {smape(y_train, y_pred_train3)}, SMAPE test: {smape(y_test, y_pred_test3)}')"
   ]
  },
  {
   "cell_type": "code",
   "execution_count": 86,
   "id": "461e55d87d7a58f3",
   "metadata": {
    "ExecuteTime": {
     "end_time": "2024-01-09T17:47:57.772765200Z",
     "start_time": "2024-01-09T17:44:40.134507900Z"
    },
    "collapsed": false,
    "jupyter": {
     "outputs_hidden": false
    }
   },
   "outputs": [
    {
     "name": "stdout",
     "output_type": "stream",
     "text": [
      "0:\tlearn: 4.6312626\ttest: 20.9780372\tbest: 20.9780372 (0)\ttotal: 91.1ms\tremaining: 6m 49s\n",
      "500:\tlearn: 4.4834225\ttest: 20.9728770\tbest: 20.9727678 (495)\ttotal: 19.9s\tremaining: 2m 38s\n",
      "1000:\tlearn: 4.4222200\ttest: 20.9663176\tbest: 20.9660947 (931)\ttotal: 40.8s\tremaining: 2m 22s\n",
      "1500:\tlearn: 4.3675977\ttest: 20.9622284\tbest: 20.9617150 (1456)\ttotal: 1m 5s\tremaining: 2m 10s\n",
      "2000:\tlearn: 4.3265635\ttest: 20.9590605\tbest: 20.9588506 (1995)\ttotal: 1m 27s\tremaining: 1m 49s\n",
      "2500:\tlearn: 4.2800241\ttest: 20.9588980\tbest: 20.9581009 (2069)\ttotal: 1m 45s\tremaining: 1m 24s\n",
      "3000:\tlearn: 4.2505183\ttest: 20.9570762\tbest: 20.9569101 (2949)\ttotal: 2m 7s\tremaining: 1m 3s\n",
      "3500:\tlearn: 4.2180851\ttest: 20.9570176\tbest: 20.9556042 (3332)\ttotal: 2m 28s\tremaining: 42.4s\n",
      "4000:\tlearn: 4.1784236\ttest: 20.9553814\tbest: 20.9544970 (3727)\ttotal: 2m 49s\tremaining: 21.2s\n",
      "4499:\tlearn: 4.1480990\ttest: 20.9552073\tbest: 20.9537195 (4391)\ttotal: 3m 11s\tremaining: 0us\n",
      "\n",
      "bestTest = 20.95371955\n",
      "bestIteration = 4391\n",
      "\n",
      "Shrink model to first 4392 iterations.\n"
     ]
    },
    {
     "data": {
      "text/plain": [
       "<catboost.core.CatBoostRegressor at 0x1b6827c56d0>"
      ]
     },
     "execution_count": 86,
     "metadata": {},
     "output_type": "execute_result"
    }
   ],
   "source": [
    "cat_model2_1 = CatBoostRegressor(loss_function='Quantile:alpha=0.3', eval_metric='SMAPE', \n",
    "                                  depth=6, iterations = 4500, random_state=999998,\n",
    "                                  rsm=0.11)#, learning_rate=0.01)\n",
    "                                  #grow_policy='Depthwise')\n",
    "                                  #learning_rate=0.5)\n",
    "                                  #bootstrap_type='MVS', mvs_reg=20, subsample=0.8,\n",
    "                                  #min_data_in_leaf=3, rsm=0.5)\n",
    "cat_model2_1.fit(X_train, \n",
    "              y_train,\n",
    "              verbose=500,\n",
    "              eval_set=(X_test, y_test),\n",
    "              use_best_model=True,  \n",
    "              init_model=cat_model2)"
   ]
  },
  {
   "cell_type": "code",
   "execution_count": 90,
   "id": "dc9f772d9330a324",
   "metadata": {
    "ExecuteTime": {
     "end_time": "2024-01-09T17:53:05.946070800Z",
     "start_time": "2024-01-09T17:49:41.247105600Z"
    },
    "collapsed": false,
    "jupyter": {
     "outputs_hidden": false
    }
   },
   "outputs": [
    {
     "name": "stdout",
     "output_type": "stream",
     "text": [
      "0:\tlearn: 4.1574392\ttest: 20.9537638\tbest: 20.9537638 (0)\ttotal: 132ms\tremaining: 9m 55s\n",
      "500:\tlearn: 4.1382077\ttest: 20.9521093\tbest: 20.9511833 (455)\ttotal: 23.3s\tremaining: 3m 6s\n",
      "1000:\tlearn: 4.1068429\ttest: 20.9524643\tbest: 20.9503751 (937)\ttotal: 47s\tremaining: 2m 44s\n",
      "1500:\tlearn: 4.0771121\ttest: 20.9550064\tbest: 20.9503751 (937)\ttotal: 1m 9s\tremaining: 2m 18s\n",
      "2000:\tlearn: 4.0397357\ttest: 20.9538849\tbest: 20.9503751 (937)\ttotal: 1m 29s\tremaining: 1m 52s\n",
      "2500:\tlearn: 4.0093297\ttest: 20.9592702\tbest: 20.9503751 (937)\ttotal: 1m 51s\tremaining: 1m 28s\n",
      "3000:\tlearn: 3.9936538\ttest: 20.9615755\tbest: 20.9503751 (937)\ttotal: 2m 12s\tremaining: 1m 6s\n",
      "3500:\tlearn: 3.9839292\ttest: 20.9621123\tbest: 20.9503751 (937)\ttotal: 2m 33s\tremaining: 43.8s\n",
      "4000:\tlearn: 3.9471291\ttest: 20.9605438\tbest: 20.9503751 (937)\ttotal: 2m 54s\tremaining: 21.8s\n",
      "4499:\tlearn: 3.9195990\ttest: 20.9586549\tbest: 20.9503751 (937)\ttotal: 3m 16s\tremaining: 0us\n",
      "\n",
      "bestTest = 20.95037511\n",
      "bestIteration = 937\n",
      "\n",
      "Shrink model to first 938 iterations.\n"
     ]
    },
    {
     "data": {
      "text/plain": [
       "<catboost.core.CatBoostRegressor at 0x1b6ba924050>"
      ]
     },
     "execution_count": 90,
     "metadata": {},
     "output_type": "execute_result"
    }
   ],
   "source": [
    "cat_model2_2 = CatBoostRegressor(loss_function='Quantile:alpha=0.3', eval_metric='SMAPE', \n",
    "                                  depth=6, iterations = 4500, random_state=999998,\n",
    "                                  rsm=0.11)#, learning_rate=0.01)\n",
    "                                  #grow_policy='Depthwise')\n",
    "                                  #learning_rate=0.5)\n",
    "                                  #bootstrap_type='MVS', mvs_reg=20, subsample=0.8,\n",
    "                                  #min_data_in_leaf=3, rsm=0.5)\n",
    "cat_model2_2.fit(X_train, \n",
    "              y_train,\n",
    "              verbose=500,\n",
    "              eval_set=(X_test, y_test),\n",
    "              use_best_model=True,  \n",
    "              init_model=cat_model2_1)"
   ]
  },
  {
   "cell_type": "code",
   "execution_count": 91,
   "id": "eaeac8bd9a7fb249",
   "metadata": {
    "ExecuteTime": {
     "end_time": "2024-01-09T17:54:38.352411500Z",
     "start_time": "2024-01-09T17:54:35.559970900Z"
    },
    "collapsed": false,
    "jupyter": {
     "outputs_hidden": false
    }
   },
   "outputs": [
    {
     "name": "stdout",
     "output_type": "stream",
     "text": [
      "SMAPE train: 4.107344104857251, SMAPE test: 20.950375111444018\n"
     ]
    }
   ],
   "source": [
    "y_pred_train3 = cat_model2_2.predict(X_train)\n",
    "y_pred_test3 = cat_model2_2.predict(X_test)\n",
    "\n",
    "print(f'SMAPE train: {smape(y_train, y_pred_train3)}, SMAPE test: {smape(y_test, y_pred_test3)}')"
   ]
  },
  {
   "cell_type": "markdown",
   "id": "11276b8261198315",
   "metadata": {
    "collapsed": false,
    "jupyter": {
     "outputs_hidden": false
    }
   },
   "source": [
    "<H2>Ensemble</H2>"
   ]
  },
  {
   "cell_type": "code",
   "execution_count": 137,
   "id": "b752957260ca3ae2",
   "metadata": {
    "ExecuteTime": {
     "end_time": "2024-01-09T20:13:46.792653700Z",
     "start_time": "2024-01-09T20:13:41.064003100Z"
    },
    "collapsed": false,
    "jupyter": {
     "outputs_hidden": false
    }
   },
   "outputs": [],
   "source": [
    "#xg_model1.save_model(\"xg_model7.bin\")\n",
    "xg_model_v2_1.save_model(\"xg_model_v2.bin\")\n",
    "cat_model_2.save_model(\"cat_model.bin\")\n",
    "cat_model2_2.save_model(\"cat_model2.bin\")"
   ]
  },
  {
   "cell_type": "code",
   "execution_count": null,
   "id": "4ea03638efbe616a",
   "metadata": {
    "collapsed": false,
    "jupyter": {
     "outputs_hidden": false
    }
   },
   "outputs": [],
   "source": []
  },
  {
   "cell_type": "code",
   "execution_count": null,
   "id": "48c8a5db75fa9bd8",
   "metadata": {
    "collapsed": false,
    "jupyter": {
     "outputs_hidden": false
    }
   },
   "outputs": [],
   "source": [
    "y_pred_train_combo = 0.35 * y_pred_train + 0.6 * y_pred_train1 + 0.05 * y_pred_train2\n",
    "y_pred_test_combo = 0.35 * y_pred_test + 0.6 * y_pred_test1 + 0.05 * y_pred_test2\n",
    "print(f'SMAPE train: {smape(y_train, y_pred_train_combo)}, SMAPE test: {smape(y_test, y_pred_test_combo)}')"
   ]
  },
  {
   "cell_type": "markdown",
   "id": "2ef3567eb1448e29",
   "metadata": {
    "collapsed": false,
    "jupyter": {
     "outputs_hidden": false
    }
   },
   "source": [
    "Определим оптимальные коэффициенты ансамбля моделей:"
   ]
  },
  {
   "cell_type": "code",
   "execution_count": 196,
   "id": "f537f544d6cc098f",
   "metadata": {
    "ExecuteTime": {
     "end_time": "2024-01-09T21:09:42.003249900Z",
     "start_time": "2024-01-09T21:03:04.457360Z"
    },
    "collapsed": false,
    "jupyter": {
     "outputs_hidden": false
    }
   },
   "outputs": [
    {
     "name": "stdout",
     "output_type": "stream",
     "text": [
      "best score: 19.785327144668994\n",
      "k1=31\n",
      "k2=23\n",
      "k3=24\n",
      "k4=22\n"
     ]
    }
   ],
   "source": [
    "min_score = 100\n",
    "min_k1 = 0\n",
    "min_k2 = 0\n",
    "min_k3 = 0\n",
    "for k1 in range(0, 101, 1):\n",
    "    for k2 in range (0, 101, 1):\n",
    "        if k1 + k2 > 100:\n",
    "            break\n",
    "        for k3 in range (0, 101, 1):\n",
    "            if k1 + k2 + k3 > 100:\n",
    "                break\n",
    "            k4 = 100 - k1 - k2 - k3\n",
    "            y_pred_test_combo = k1 / 100 * y_pred_test + k2 / 100 * y_pred_test1 + k3 / 100 * y_pred_test2 + k4 / 100 * y_pred_test3\n",
    "            test_score = smape(y_test, y_pred_test_combo)\n",
    "            if test_score < min_score:\n",
    "                min_score = test_score\n",
    "                min_k1 = k1\n",
    "                min_k2 = k2\n",
    "                min_k3 = k3\n",
    "            \n",
    "print('best score: ' + str(min_score))\n",
    "print('k1=' + str(min_k1))\n",
    "print('k2=' + str(min_k2))\n",
    "print('k3=' + str(min_k3))\n",
    "print('k4=' + str(100 - min_k1 - min_k2 - min_k3))"
   ]
  },
  {
   "cell_type": "code",
   "execution_count": null,
   "id": "718b73811f0fe6b8",
   "metadata": {
    "collapsed": false,
    "jupyter": {
     "outputs_hidden": false
    }
   },
   "outputs": [],
   "source": []
  },
  {
   "cell_type": "markdown",
   "id": "24f2c9c8-ef86-4dfd-94e8-6caf74780cfd",
   "metadata": {},
   "source": [
    "<H1>Тестовая дата</H1>"
   ]
  },
  {
   "cell_type": "markdown",
   "id": "5e6ec7db-f030-4a83-8d98-d496b2231414",
   "metadata": {},
   "source": [
    "Загрузим тестовую таблицу:"
   ]
  },
  {
   "cell_type": "code",
   "execution_count": 197,
   "id": "411dad93-e47d-43d4-b8aa-a64b1deb1463",
   "metadata": {
    "ExecuteTime": {
     "end_time": "2024-01-09T21:10:43.179658100Z",
     "start_time": "2024-01-09T21:10:39.820108200Z"
    }
   },
   "outputs": [],
   "source": [
    "df_test = pd.read_csv('X_test.csv', parse_dates=['published_at', 'created_at'])"
   ]
  },
  {
   "cell_type": "markdown",
   "id": "0ac14570-7dd8-455a-a9fa-dbc694c3c0c1",
   "metadata": {},
   "source": [
    "Сразу уберем столбцы salary_currency (одно и то же значение), created_at (совпадает с published_at) и area_id (аналогично area_name):"
   ]
  },
  {
   "cell_type": "code",
   "execution_count": 198,
   "id": "b96b0fa5-6b3b-4982-aafb-b5133d95ab41",
   "metadata": {
    "ExecuteTime": {
     "end_time": "2024-01-09T21:10:46.050435100Z",
     "start_time": "2024-01-09T21:10:41.703344400Z"
    }
   },
   "outputs": [],
   "source": [
    "df_test = df_test.drop(columns=['salary_currency', 'created_at', 'area_id'])#, 'has_test', 'response_letter_required', 'salary_gross'])"
   ]
  },
  {
   "cell_type": "code",
   "execution_count": 199,
   "id": "224137ba-ad9c-43e5-99bf-d5713ece7240",
   "metadata": {
    "ExecuteTime": {
     "end_time": "2024-01-09T21:10:47.496622700Z",
     "start_time": "2024-01-09T21:10:44.817551900Z"
    }
   },
   "outputs": [],
   "source": [
    "df_test = df_test.set_index('id')"
   ]
  },
  {
   "cell_type": "markdown",
   "id": "49c020c5-ac8b-4557-9d8d-5ee9cd970b91",
   "metadata": {},
   "source": [
    "Заполняем salary_gross, если есть пропуски:"
   ]
  },
  {
   "cell_type": "code",
   "execution_count": 200,
   "id": "b3e5f20a-4874-442d-9cb2-ca4e221ce3ba",
   "metadata": {
    "ExecuteTime": {
     "end_time": "2024-01-09T21:10:48.033447900Z",
     "start_time": "2024-01-09T21:10:47.494621900Z"
    }
   },
   "outputs": [],
   "source": [
    "df_test.salary_gross.fillna(False, inplace = True) \n",
    "df_test['salary_gross'] = df_test['salary_gross'].astype(bool)"
   ]
  },
  {
   "cell_type": "markdown",
   "id": "0fff51dc-a655-4d43-95ea-83ebdc49913b",
   "metadata": {},
   "source": [
    "Заполняем пустые salary_from частым значением:"
   ]
  },
  {
   "cell_type": "code",
   "execution_count": 201,
   "id": "3209ec1b-3f9c-43bd-9e51-962f8356c711",
   "metadata": {
    "ExecuteTime": {
     "end_time": "2024-01-09T21:10:48.283867400Z",
     "start_time": "2024-01-09T21:10:48.012454800Z"
    }
   },
   "outputs": [],
   "source": [
    "df_test.salary_from.fillna(df_test.salary_from.mode()[0], inplace = True)"
   ]
  },
  {
   "cell_type": "markdown",
   "id": "3e71825b-f108-4d58-8045-760f37cf882d",
   "metadata": {},
   "source": [
    "Преобразуем published_at, как и с обучаемым dataset:"
   ]
  },
  {
   "cell_type": "code",
   "execution_count": 202,
   "id": "65b7a396-1477-43ae-a2f6-ca230c0cf9a2",
   "metadata": {
    "ExecuteTime": {
     "end_time": "2024-01-09T21:10:48.506271900Z",
     "start_time": "2024-01-09T21:10:48.161497800Z"
    }
   },
   "outputs": [],
   "source": [
    "df_test['published_at_diff'] = df_test['published_at'].map(lambda x: datetime.timestamp(datetime(2023, 1, 1)) - x.timestamp())"
   ]
  },
  {
   "cell_type": "code",
   "execution_count": 203,
   "id": "3f29a24d-a974-45b5-bb1a-729dc7c99048",
   "metadata": {
    "ExecuteTime": {
     "end_time": "2024-01-09T21:10:49.561914200Z",
     "start_time": "2024-01-09T21:10:48.418868800Z"
    }
   },
   "outputs": [
    {
     "data": {
      "image/png": "[encoded data removed]",
      "text/plain": [
       "<Figure size 1000x1500 with 2 Axes>"
      ]
     },
     "metadata": {},
     "output_type": "display_data"
    }
   ],
   "source": [
    "import matplotlib.pyplot as plt\n",
    "df_numeric1 = df_test[['salary_from', 'published_at_diff']]\n",
    "# Создаем гистограммы для всех столбцов\n",
    "fig, axes = plt.subplots(nrows=len(df_numeric1.columns), ncols=1, figsize=(10, 15))\n",
    "\n",
    "# Проходимся по всем столбцам DataFrame и создаем гистограмму для каждого столбца\n",
    "for i, column in enumerate(df_numeric1.columns):\n",
    "    df_numeric1[column].plot(kind='hist', bins=25, ax=axes[i])\n",
    "    axes[i].set_title(column)\n",
    "\n",
    "plt.tight_layout()\n",
    "plt.show()"
   ]
  },
  {
   "cell_type": "code",
   "execution_count": 204,
   "id": "99145e15-1fe6-411c-9ad8-5f7aa9c85b42",
   "metadata": {
    "ExecuteTime": {
     "end_time": "2024-01-09T21:10:49.600909700Z",
     "start_time": "2024-01-09T21:10:49.421818700Z"
    }
   },
   "outputs": [],
   "source": [
    "df_test[\"published_at_diff\"] = df_test[\"published_at_diff\"] / 1e7\n",
    "df_test = df_test.drop(columns=['published_at'])"
   ]
  },
  {
   "cell_type": "markdown",
   "id": "d05b78a2-4d4c-44e0-8eba-0a30e1ccbfa1",
   "metadata": {},
   "source": [
    "Преобразуем description:"
   ]
  },
  {
   "cell_type": "code",
   "execution_count": 205,
   "id": "f30af9a9-04b8-4a06-b6b9-6427581a9516",
   "metadata": {
    "ExecuteTime": {
     "end_time": "2024-01-09T21:10:50.875481400Z",
     "start_time": "2024-01-09T21:10:49.459556100Z"
    }
   },
   "outputs": [],
   "source": [
    "df_test['description'] = pd.Series(df_test['description'],dtype=pd.StringDtype())\n",
    "df_test.description = df_test.description.apply(lambda x: str(x).lower())"
   ]
  },
  {
   "cell_type": "markdown",
   "id": "a850f790e9b595e6",
   "metadata": {
    "collapsed": false,
    "jupyter": {
     "outputs_hidden": false
    }
   },
   "source": [
    "Извлекаем опыт:"
   ]
  },
  {
   "cell_type": "code",
   "execution_count": 206,
   "id": "b480eb65-4f63-4302-b680-6027e437dfe2",
   "metadata": {
    "ExecuteTime": {
     "end_time": "2024-01-09T21:10:51.067482Z",
     "start_time": "2024-01-09T21:10:50.154421500Z"
    }
   },
   "outputs": [
    {
     "data": {
      "text/plain": [
       "description_exp\n",
       "1.000000     8854\n",
       "3.000000      215\n",
       "2.000000      162\n",
       "5.000000       37\n",
       "0.500000       21\n",
       "4.000000        5\n",
       "6.000000        5\n",
       "10.000000       5\n",
       "0.250000        4\n",
       "0.083333        2\n",
       "0.333333        1\n",
       "8.000000        1\n",
       "Name: count, dtype: int64"
      ]
     },
     "execution_count": 206,
     "metadata": {},
     "output_type": "execute_result"
    }
   ],
   "source": [
    "df_test['description_exp'] = df_test.description.map(manage_desc_exp)\n",
    "df_test['description_exp'].value_counts()"
   ]
  },
  {
   "cell_type": "code",
   "execution_count": 207,
   "id": "123443b5-7bfc-4f91-a6e9-2ae7e32d9a24",
   "metadata": {
    "ExecuteTime": {
     "end_time": "2024-01-09T21:10:52.580219Z",
     "start_time": "2024-01-09T21:10:50.404944800Z"
    }
   },
   "outputs": [],
   "source": [
    "df_test.description = df_test.description.apply(lambda x: re.sub(r'<[^>]+>', ' ', str(x))) #</?[A-Za-z0-9]+ ?/?>\n",
    "df_test.description = df_test.description.apply(lambda x: re.sub(r'[^а-яА-Я0-9a-zA-ZёЁ.-]', ' ', str(x))) #</?[A-Za-z0-9]+ ?/?>"
   ]
  },
  {
   "cell_type": "markdown",
   "id": "41daf7f2dd41f731",
   "metadata": {
    "collapsed": false,
    "jupyter": {
     "outputs_hidden": false
    }
   },
   "source": [
    "Извлекаем зарплату:"
   ]
  },
  {
   "cell_type": "code",
   "execution_count": 208,
   "id": "77729fd5-faba-4829-a643-485102e03698",
   "metadata": {
    "ExecuteTime": {
     "end_time": "2024-01-09T21:10:52.965411700Z",
     "start_time": "2024-01-09T21:10:52.430201300Z"
    }
   },
   "outputs": [
    {
     "data": {
      "text/plain": [
       "description_salary\n",
       "40000     112\n",
       "60000      92\n",
       "50000      78\n",
       "30000      74\n",
       "100000     67\n",
       "         ... \n",
       "135000      1\n",
       "63450       1\n",
       "5100        1\n",
       "6000        1\n",
       "238000      1\n",
       "Name: count, Length: 263, dtype: int64"
      ]
     },
     "execution_count": 208,
     "metadata": {},
     "output_type": "execute_result"
    }
   ],
   "source": [
    "df_test['description_salary'] = df_test.description.map(manage_desc)\n",
    "df_test['description_salary'].value_counts()"
   ]
  },
  {
   "cell_type": "code",
   "execution_count": 209,
   "id": "93b548ca-ac93-4dc8-9c9c-0aca7ce16889",
   "metadata": {
    "ExecuteTime": {
     "end_time": "2024-01-09T21:10:52.986411600Z",
     "start_time": "2024-01-09T21:10:52.734285Z"
    }
   },
   "outputs": [],
   "source": [
    "df_test['description_salary'].fillna(df_test.salary_from, inplace = True) "
   ]
  },
  {
   "cell_type": "markdown",
   "id": "8c29a30cb0275c9d",
   "metadata": {
    "collapsed": false,
    "jupyter": {
     "outputs_hidden": false
    }
   },
   "source": [
    "Подгатавливаем к векторизации:"
   ]
  },
  {
   "cell_type": "code",
   "execution_count": 210,
   "id": "b9d9f081-8f65-428c-9ea8-157a3c965ca5",
   "metadata": {
    "ExecuteTime": {
     "end_time": "2024-01-09T21:11:08.755473700Z",
     "start_time": "2024-01-09T21:10:52.767412800Z"
    }
   },
   "outputs": [],
   "source": [
    "df_test['description'] = df_test['description'].apply(lambda x: re.sub(r'[^а-яА-Я0-9a-zA-ZёЁ]', ' ', str(x))) #</?[A-Za-z0-9]+ ?/?>\n",
    "\n",
    "## remove tabulation and punctuation\n",
    "df_test['description'] = df_test['description'].map(lambda x: re.sub(r'[^\\w\\s]', ' ', x)) #str.replace(,' '))\n",
    "## digits\n",
    "df_test['description'] = df_test['description'].map(lambda x: re.sub(r'\\d+', ' ', x))#.str.replace(, '')\n",
    "\n",
    "\n",
    "df_test['description'].fillna('nd', inplace = True)\n",
    "\n",
    "## lemmatization\n",
    "df_test['description'] = df_test['description'].apply(lambda x: \" \".join([Word(word).lemmatize() for word in x.split()]))"
   ]
  },
  {
   "cell_type": "markdown",
   "id": "563a2d224cd22b94",
   "metadata": {
    "collapsed": false,
    "jupyter": {
     "outputs_hidden": false
    }
   },
   "source": [
    "Векторизуем:"
   ]
  },
  {
   "cell_type": "code",
   "execution_count": 211,
   "id": "db7ca0a9455dce4d",
   "metadata": {
    "ExecuteTime": {
     "end_time": "2024-01-09T21:11:11.042309900Z",
     "start_time": "2024-01-09T21:11:08.758469300Z"
    },
    "collapsed": false,
    "jupyter": {
     "outputs_hidden": false
    }
   },
   "outputs": [],
   "source": [
    "df_test_desc_parsed = vectorizer.transform(df_test['description'])\n",
    "df_test_desc_parsed1 = pd.DataFrame(df_test_desc_parsed.toarray(), columns=DESC_COLS, index=df_test.index)\n",
    "df_test = df_test.join(df_test_desc_parsed1)"
   ]
  },
  {
   "cell_type": "code",
   "execution_count": 212,
   "id": "955ade60-6f99-48ba-9916-7e524bae69b4",
   "metadata": {
    "ExecuteTime": {
     "end_time": "2024-01-09T21:11:11.165851Z",
     "start_time": "2024-01-09T21:11:11.055329800Z"
    }
   },
   "outputs": [],
   "source": [
    "df_test = df_test.drop(columns=['description'])"
   ]
  },
  {
   "cell_type": "markdown",
   "id": "0acde5e3-b32f-4e91-8829-3e29d7943378",
   "metadata": {},
   "source": [
    "Для area_name, оставим название, если в обучаемом dataset есть столбец, иначе заменяем на Other:"
   ]
  },
  {
   "cell_type": "code",
   "execution_count": 213,
   "id": "c44a72e4-a7ab-4fab-8fd4-8a84734cc3d3",
   "metadata": {
    "ExecuteTime": {
     "end_time": "2024-01-09T21:11:11.392944400Z",
     "start_time": "2024-01-09T21:11:11.125859100Z"
    }
   },
   "outputs": [],
   "source": [
    "df_test['area_name'] = df_test['area_name'].map(lambda x: x if ('area_name_' + x) in df.columns else \"Other\")"
   ]
  },
  {
   "cell_type": "code",
   "execution_count": 214,
   "id": "0cc03ede-d9c2-4e85-af17-af365618466e",
   "metadata": {
    "ExecuteTime": {
     "end_time": "2024-01-09T21:11:11.437422600Z",
     "start_time": "2024-01-09T21:11:11.193639700Z"
    }
   },
   "outputs": [
    {
     "data": {
      "text/plain": [
       "area_name\n",
       "Москва             6754\n",
       "Санкт-Петербург    1877\n",
       "Other               454\n",
       "Новосибирск          71\n",
       "Казань               54\n",
       "Краснодар            52\n",
       "Екатеринбург         50\n",
       "Name: count, dtype: int64"
      ]
     },
     "execution_count": 214,
     "metadata": {},
     "output_type": "execute_result"
    }
   ],
   "source": [
    "df_test['area_name'].value_counts()"
   ]
  },
  {
   "cell_type": "markdown",
   "id": "8353154e-c19e-4c1f-a848-786fc9d17793",
   "metadata": {},
   "source": [
    "Преобразуем employer_name к нижнему регистру, и сделаем те же преобразования, что и в обучаемом dataset:"
   ]
  },
  {
   "cell_type": "code",
   "execution_count": 215,
   "id": "5877dd70-fa7a-4e4b-a4cd-bb68220701cc",
   "metadata": {
    "ExecuteTime": {
     "end_time": "2024-01-09T21:11:11.448942700Z",
     "start_time": "2024-01-09T21:11:11.214628800Z"
    }
   },
   "outputs": [],
   "source": [
    "df_test['employer_name'] = df_test['employer_name'].apply(lambda x: x.lower())\n",
    "df_test['employer_name'] = df_test['employer_name'].apply(lambda x: x.strip())"
   ]
  },
  {
   "cell_type": "code",
   "execution_count": 216,
   "id": "040eabc0-862d-4074-88b3-cd65027bf4d9",
   "metadata": {
    "ExecuteTime": {
     "end_time": "2024-01-09T21:11:11.755825900Z",
     "start_time": "2024-01-09T21:11:11.371959400Z"
    }
   },
   "outputs": [],
   "source": [
    "df_test['employer_name'] = df_test['employer_name'].apply(lambda x: \"пятёрочка\" if near_equal(x, 'пятёрочка') > 0.75 else x)\n",
    "df_test['employer_name'] = df_test['employer_name'].apply(lambda x: \"перекресток\" if near_equal(x, 'перекресток') > 0.75 else x)\n",
    "df_test['employer_name'] = df_test['employer_name'].apply(lambda x: \"билайн\" if near_equal(x, 'билайн') > 0.75 else x)\n",
    "df_test['employer_name'] = df_test['employer_name'].apply(lambda x: \"personname\" if x.endswith('вич') or x.endswith('вна') or x.endswith('вич)') or x.endswith('вна)') else x) #or x.startswith('ип') or '(ип ' in x)"
   ]
  },
  {
   "cell_type": "code",
   "execution_count": 217,
   "id": "9ef83b5f-af86-450a-82f4-170cf2b84428",
   "metadata": {
    "ExecuteTime": {
     "end_time": "2024-01-09T21:11:11.879823200Z",
     "start_time": "2024-01-09T21:11:11.543947900Z"
    }
   },
   "outputs": [],
   "source": [
    "df_test_empl_parsed = vectorizer_empl.transform(df_test['employer_name'])\n",
    "df_test_empl_parsed1 = pd.DataFrame(df_test_empl_parsed.toarray(), columns=EMPL_COLS, index=df_test.index)\n",
    "df_test = df_test.join(df_test_empl_parsed1)"
   ]
  },
  {
   "cell_type": "code",
   "execution_count": 218,
   "id": "8417772f-9b51-407a-b58b-dae16614f284",
   "metadata": {
    "ExecuteTime": {
     "end_time": "2024-01-09T21:11:11.939347200Z",
     "start_time": "2024-01-09T21:11:11.631966Z"
    }
   },
   "outputs": [],
   "source": [
    "df_test = df_test.drop(columns=['employer_name'])"
   ]
  },
  {
   "cell_type": "markdown",
   "id": "783ba002-93f5-44a8-a46f-130990d61285",
   "metadata": {},
   "source": [
    "Ту же процедуру проделываем с name:"
   ]
  },
  {
   "cell_type": "code",
   "execution_count": 219,
   "id": "3fb770ee-6f12-4912-b1b0-94b614b60c89",
   "metadata": {
    "ExecuteTime": {
     "end_time": "2024-01-09T21:11:11.955346200Z",
     "start_time": "2024-01-09T21:11:11.658196Z"
    }
   },
   "outputs": [],
   "source": [
    "df_test['name'] = df_test['name'].apply(lambda x: x.lower())\n",
    "df_test['name'] = df_test['name'].apply(lambda x: x.strip())"
   ]
  },
  {
   "cell_type": "code",
   "execution_count": 220,
   "id": "71af5200-403a-4245-b5f4-b581b13eaecb",
   "metadata": {
    "ExecuteTime": {
     "end_time": "2024-01-09T21:11:12.196625200Z",
     "start_time": "2024-01-09T21:11:11.733832Z"
    }
   },
   "outputs": [],
   "source": [
    "df_test_name_parsed = vectorizer_name.transform(df_test['name'])\n",
    "df_test_name_parsed1 = pd.DataFrame(df_test_name_parsed.toarray(), columns=NAME_COLS, index=df_test.index)\n",
    "df_test = df_test.join(df_test_name_parsed1)"
   ]
  },
  {
   "cell_type": "code",
   "execution_count": 221,
   "id": "eabad65e-865d-4d49-b214-a754fee136b7",
   "metadata": {
    "ExecuteTime": {
     "end_time": "2024-01-09T21:11:12.301631400Z",
     "start_time": "2024-01-09T21:11:11.943361700Z"
    }
   },
   "outputs": [],
   "source": [
    "df_test = df_test.drop(columns=['name'])"
   ]
  },
  {
   "cell_type": "markdown",
   "id": "c24a6eac-a365-4dfb-9cfb-d37f50a9c246",
   "metadata": {},
   "source": [
    "Делаем one-hotting городов:"
   ]
  },
  {
   "cell_type": "code",
   "execution_count": 222,
   "id": "e0d90b3b-9535-4445-ba5c-6d26ea5e0445",
   "metadata": {
    "ExecuteTime": {
     "end_time": "2024-01-09T21:11:12.336890800Z",
     "start_time": "2024-01-09T21:11:11.992046100Z"
    }
   },
   "outputs": [],
   "source": [
    "df_one_hoted_test = df_test.copy()\n",
    "\n",
    "ONE_HOT_COL_TEST = ['area_name']#,  'published_at_diff'] #'employer_name',\n",
    "\n",
    "temp_test = pd.get_dummies(df_one_hoted_test[ONE_HOT_COL_TEST], prefix=ONE_HOT_COL_TEST, dtype=bool)\n",
    "\n",
    "df_one_hoted_test = pd.concat([temp_test, df_test], axis=1)"
   ]
  },
  {
   "cell_type": "code",
   "execution_count": 223,
   "id": "87eea7fd-3300-4b3c-8305-4690ac579b6f",
   "metadata": {
    "ExecuteTime": {
     "end_time": "2024-01-09T21:11:12.348882800Z",
     "start_time": "2024-01-09T21:11:12.112259200Z"
    }
   },
   "outputs": [],
   "source": [
    "df_one_hoted_test = df_one_hoted_test.drop(columns=['area_name'])#, 'published_at_diff']) #'employer_name', "
   ]
  },
  {
   "cell_type": "code",
   "execution_count": 224,
   "id": "00af8291-d929-49a1-8c36-007d7ef0e654",
   "metadata": {
    "ExecuteTime": {
     "end_time": "2024-01-09T21:11:12.515607600Z",
     "start_time": "2024-01-09T21:11:12.132750900Z"
    }
   },
   "outputs": [],
   "source": [
    "df_test = df_one_hoted_test"
   ]
  },
  {
   "cell_type": "markdown",
   "id": "8f82e6c7-fcdb-465a-929f-efa082750999",
   "metadata": {},
   "source": [
    "Проверим, что все столбцы, которые есть в обучаемом dataset, есть и в тестовом dataset:"
   ]
  },
  {
   "cell_type": "code",
   "execution_count": 225,
   "id": "1540bb15-f548-4e6e-b5dd-516d5d46b5cb",
   "metadata": {
    "ExecuteTime": {
     "end_time": "2024-01-09T21:11:12.630619900Z",
     "start_time": "2024-01-09T21:11:12.177627600Z"
    }
   },
   "outputs": [
    {
     "name": "stdout",
     "output_type": "stream",
     "text": [
      "area_name_Other\n",
      "area_name_Екатеринбург\n",
      "area_name_Казань\n",
      "area_name_Краснодар\n",
      "area_name_Москва\n",
      "area_name_Новосибирск\n",
      "area_name_Санкт-Петербург\n",
      "has_test\n",
      "response_letter_required\n",
      "salary_from\n",
      "salary_gross\n",
      "published_at_diff\n",
      "description_exp\n",
      "description_salary\n",
      "desc_api\n",
      "desc_b\n",
      "desc_c\n",
      "desc_ci\n",
      "desc_crm\n",
      "desc_cs\n",
      "desc_d\n",
      "desc_docker\n",
      "desc_e\n",
      "desc_excel\n",
      "desc_experience\n",
      "desc_git\n",
      "desc_google\n",
      "desc_hr\n",
      "desc_html\n",
      "desc_http\n",
      "desc_j\n",
      "desc_java\n",
      "desc_javascript\n",
      "desc_kpi\n",
      "desc_linux\n",
      "desc_m\n",
      "desc_office\n",
      "desc_php\n",
      "desc_postgresql\n",
      "desc_python\n",
      "desc_quot\n",
      "desc_react\n",
      "desc_rest\n",
      "desc_ru\n",
      "desc_sql\n",
      "desc_team\n",
      "desc_web\n",
      "desc_word\n",
      "desc_work\n",
      "desc_автоматизации\n",
      "desc_аккуратность\n",
      "desc_активно\n",
      "desc_анализ\n",
      "desc_анализа\n",
      "desc_аналитика\n",
      "desc_английский\n",
      "desc_английского\n",
      "desc_архитектуры\n",
      "desc_базе\n",
      "desc_базовые\n",
      "desc_базы\n",
      "desc_белая\n",
      "desc_бесплатное\n",
      "desc_бизнес\n",
      "desc_бизнеса\n",
      "desc_больничных\n",
      "desc_большим\n",
      "desc_большой\n",
      "desc_бонусы\n",
      "desc_быстро\n",
      "desc_важно\n",
      "desc_вакансии\n",
      "desc_вакансию\n",
      "desc_вакансия\n",
      "desc_веб\n",
      "desc_ведение\n",
      "desc_ведения\n",
      "desc_вести\n",
      "desc_взаимодействие\n",
      "desc_видео\n",
      "desc_владение\n",
      "desc_вместе\n",
      "desc_внимание\n",
      "desc_внимательность\n",
      "desc_внутри\n",
      "desc_возможен\n",
      "desc_возможно\n",
      "desc_возможности\n",
      "desc_возможность\n",
      "desc_вопросам\n",
      "desc_вопросы\n",
      "desc_всей\n",
      "desc_выкладка\n",
      "desc_выплата\n",
      "desc_выплаты\n",
      "desc_выполнение\n",
      "desc_выполнения\n",
      "desc_выполнять\n",
      "desc_высокая\n",
      "desc_высокий\n",
      "desc_высшее\n",
      "desc_выходные\n",
      "desc_выше\n",
      "desc_гарантии\n",
      "desc_гибкий\n",
      "desc_годности\n",
      "desc_города\n",
      "desc_готов\n",
      "desc_готовность\n",
      "desc_готовы\n",
      "desc_грамотная\n",
      "desc_график\n",
      "desc_д\n",
      "desc_данных\n",
      "desc_делать\n",
      "desc_детей\n",
      "desc_деятельности\n",
      "desc_дисциплинированность\n",
      "desc_дмс\n",
      "desc_дней\n",
      "desc_дня\n",
      "desc_договоров\n",
      "desc_документации\n",
      "desc_документов\n",
      "desc_должности\n",
      "desc_дома\n",
      "desc_домом\n",
      "desc_доступности\n",
      "desc_доход\n",
      "desc_др\n",
      "desc_дружный\n",
      "desc_ждем\n",
      "desc_желание\n",
      "desc_желателен\n",
      "desc_желательно\n",
      "desc_з\n",
      "desc_зависимости\n",
      "desc_зависит\n",
      "desc_задач\n",
      "desc_задачи\n",
      "desc_задержек\n",
      "desc_заказов\n",
      "desc_зале\n",
      "desc_занимается\n",
      "desc_заниматься\n",
      "desc_занятость\n",
      "desc_зарабатывать\n",
      "desc_заработная\n",
      "desc_заработной\n",
      "desc_зарплата\n",
      "desc_заявок\n",
      "desc_звонки\n",
      "desc_звонков\n",
      "desc_знание\n",
      "desc_знания\n",
      "desc_зп\n",
      "desc_интервью\n",
      "desc_интересные\n",
      "desc_интернет\n",
      "desc_информации\n",
      "desc_исполнительность\n",
      "desc_испытательного\n",
      "desc_испытательный\n",
      "desc_итогам\n",
      "desc_ищем\n",
      "desc_каждого\n",
      "desc_кандидата\n",
      "desc_кандидатов\n",
      "desc_карьерного\n",
      "desc_карьерный\n",
      "desc_кассе\n",
      "desc_качества\n",
      "desc_квалификации\n",
      "desc_клиента\n",
      "desc_клиентам\n",
      "desc_клиентами\n",
      "desc_клиентов\n",
      "desc_клиентской\n",
      "desc_код\n",
      "desc_кода\n",
      "desc_коллектив\n",
      "desc_коллективе\n",
      "desc_команда\n",
      "desc_команде\n",
      "desc_командой\n",
      "desc_команду\n",
      "desc_команды\n",
      "desc_коммуникабельность\n",
      "desc_компании\n",
      "desc_компаний\n",
      "desc_компанию\n",
      "desc_компания\n",
      "desc_компенсация\n",
      "desc_конкурсы\n",
      "desc_консультация\n",
      "desc_консультирование\n",
      "desc_контроль\n",
      "desc_контроля\n",
      "desc_корпоративная\n",
      "desc_корпоративное\n",
      "desc_корпоративные\n",
      "desc_кофе\n",
      "desc_либо\n",
      "desc_листов\n",
      "desc_любой\n",
      "desc_людей\n",
      "desc_людьми\n",
      "desc_магазина\n",
      "desc_магазинах\n",
      "desc_магазинов\n",
      "desc_маркетинга\n",
      "desc_материалов\n",
      "desc_менеджер\n",
      "desc_менеджера\n",
      "desc_мероприятий\n",
      "desc_мероприятия\n",
      "desc_место\n",
      "desc_месяц\n",
      "desc_месяца\n",
      "desc_метро\n",
      "desc_мин\n",
      "desc_минут\n",
      "desc_многозадачности\n",
      "desc_можете\n",
      "desc_молодой\n",
      "desc_момент\n",
      "desc_москва\n",
      "desc_москве\n",
      "desc_москвы\n",
      "desc_навыки\n",
      "desc_наличие\n",
      "desc_наличия\n",
      "desc_написание\n",
      "desc_написания\n",
      "desc_нашего\n",
      "desc_нашей\n",
      "desc_нашим\n",
      "desc_наших\n",
      "desc_нашу\n",
      "desc_недвижимости\n",
      "desc_неделю\n",
      "desc_неделя\n",
      "desc_необходимо\n",
      "desc_неполная\n",
      "desc_неполный\n",
      "desc_новые\n",
      "desc_новый\n",
      "desc_новых\n",
      "desc_нужен\n",
      "desc_обеспечение\n",
      "desc_обеспечения\n",
      "desc_области\n",
      "desc_оборудования\n",
      "desc_обработка\n",
      "desc_образование\n",
      "desc_образования\n",
      "desc_обслуживание\n",
      "desc_обсуждается\n",
      "desc_обучаемость\n",
      "desc_обучение\n",
      "desc_обучения\n",
      "desc_общаться\n",
      "desc_общение\n",
      "desc_обязанности\n",
      "desc_обязателен\n",
      "desc_обязательно\n",
      "desc_оклад\n",
      "desc_онлайн\n",
      "desc_оплата\n",
      "desc_оплаты\n",
      "desc_оплачиваемый\n",
      "desc_оптимизация\n",
      "desc_опыт\n",
      "desc_опыта\n",
      "desc_опытом\n",
      "desc_организации\n",
      "desc_организация\n",
      "desc_основ\n",
      "desc_основе\n",
      "desc_ответственность\n",
      "desc_отдела\n",
      "desc_отпуск\n",
      "desc_отпусков\n",
      "desc_отслеживание\n",
      "desc_отсутствие\n",
      "desc_отчетности\n",
      "desc_отчетов\n",
      "desc_офис\n",
      "desc_офиса\n",
      "desc_офисе\n",
      "desc_официальная\n",
      "desc_официальное\n",
      "desc_оформление\n",
      "desc_п\n",
      "desc_пакет\n",
      "desc_первого\n",
      "desc_переговоров\n",
      "desc_персонала\n",
      "desc_писать\n",
      "desc_письменная\n",
      "desc_пк\n",
      "desc_плана\n",
      "desc_планирование\n",
      "desc_плата\n",
      "desc_платы\n",
      "desc_плюсом\n",
      "desc_пн\n",
      "desc_подбор\n",
      "desc_подготовка\n",
      "desc_поддержание\n",
      "desc_поддержка\n",
      "desc_подработки\n",
      "desc_подход\n",
      "desc_поиск\n",
      "desc_поиска\n",
      "desc_показателей\n",
      "desc_покупателей\n",
      "desc_полная\n",
      "desc_полностью\n",
      "desc_полный\n",
      "desc_пользователей\n",
      "desc_пользователь\n",
      "desc_помощь\n",
      "desc_понимание\n",
      "desc_поставщиков\n",
      "desc_постоянно\n",
      "desc_поэтому\n",
      "desc_пр\n",
      "desc_предлагаем\n",
      "desc_предложений\n",
      "desc_предоставление\n",
      "desc_предстоит\n",
      "desc_преимуществом\n",
      "desc_премии\n",
      "desc_премия\n",
      "desc_приветствуется\n",
      "desc_приглашаем\n",
      "desc_приглашает\n",
      "desc_прием\n",
      "desc_приложений\n",
      "desc_приложения\n",
      "desc_принципов\n",
      "desc_проведение\n",
      "desc_проведения\n",
      "desc_проверка\n",
      "desc_проводить\n",
      "desc_программ\n",
      "desc_программирования\n",
      "desc_программы\n",
      "desc_продаж\n",
      "desc_продажам\n",
      "desc_продажах\n",
      "desc_продажи\n",
      "desc_продукт\n",
      "desc_продукта\n",
      "desc_продуктов\n",
      "desc_продукты\n",
      "desc_продукции\n",
      "desc_проект\n",
      "desc_проекта\n",
      "desc_проектами\n",
      "desc_проектах\n",
      "desc_проектирования\n",
      "desc_проектов\n",
      "desc_проекты\n",
      "desc_производства\n",
      "desc_профессионалов\n",
      "desc_профессионального\n",
      "desc_профессиональное\n",
      "desc_профессиональный\n",
      "desc_процессов\n",
      "desc_процессы\n",
      "desc_пунктуальность\n",
      "desc_р\n",
      "desc_работ\n",
      "desc_работа\n",
      "desc_работаем\n",
      "desc_работает\n",
      "desc_работать\n",
      "desc_работе\n",
      "desc_работу\n",
      "desc_работы\n",
      "desc_рабочая\n",
      "desc_рабочего\n",
      "desc_рабочее\n",
      "desc_рабочий\n",
      "desc_рабочих\n",
      "desc_раза\n",
      "desc_развиваться\n",
      "desc_развитие\n",
      "desc_развития\n",
      "desc_различных\n",
      "desc_разных\n",
      "desc_разрабатывать\n",
      "desc_разработка\n",
      "desc_разработке\n",
      "desc_разработки\n",
      "desc_разработкой\n",
      "desc_разработчика\n",
      "desc_разработчиков\n",
      "desc_рамках\n",
      "desc_расти\n",
      "desc_расчет\n",
      "desc_реализации\n",
      "desc_режиме\n",
      "desc_результат\n",
      "desc_результатам\n",
      "desc_результатов\n",
      "desc_резюме\n",
      "desc_рекламных\n",
      "desc_речь\n",
      "desc_решать\n",
      "desc_решение\n",
      "desc_решений\n",
      "desc_решения\n",
      "desc_россии\n",
      "desc_рост\n",
      "desc_роста\n",
      "desc_руб\n",
      "desc_рублей\n",
      "desc_руки\n",
      "desc_руководителя\n",
      "desc_рф\n",
      "desc_рынка\n",
      "desc_рынке\n",
      "desc_сайтов\n",
      "desc_самостоятельно\n",
      "desc_сбор\n",
      "desc_свой\n",
      "desc_связи\n",
      "desc_связь\n",
      "desc_сделать\n",
      "desc_сервис\n",
      "desc_сервисов\n",
      "desc_сетей\n",
      "desc_сети\n",
      "desc_сеть\n",
      "desc_систем\n",
      "desc_система\n",
      "desc_системами\n",
      "desc_системе\n",
      "desc_системы\n",
      "desc_скидки\n",
      "desc_склад\n",
      "desc_собеседование\n",
      "desc_собеседования\n",
      "desc_соблюдение\n",
      "desc_совместительству\n",
      "desc_согласно\n",
      "desc_согласование\n",
      "desc_создавать\n",
      "desc_создание\n",
      "desc_соответствии\n",
      "desc_сопровождение\n",
      "desc_составление\n",
      "desc_сотрудника\n",
      "desc_сотрудников\n",
      "desc_соц\n",
      "desc_социальные\n",
      "desc_специалиста\n",
      "desc_специалистов\n",
      "desc_спецодежда\n",
      "desc_способность\n",
      "desc_среднего\n",
      "desc_срок\n",
      "desc_срока\n",
      "desc_сроков\n",
      "desc_ст\n",
      "desc_стабильная\n",
      "desc_стать\n",
      "desc_стрессоустойчивость\n",
      "desc_сфере\n",
      "desc_счет\n",
      "desc_телефону\n",
      "desc_территории\n",
      "desc_тестирования\n",
      "desc_технических\n",
      "desc_техническое\n",
      "desc_технической\n",
      "desc_технологии\n",
      "desc_технологий\n",
      "desc_тк\n",
      "desc_товара\n",
      "desc_товаров\n",
      "desc_требований\n",
      "desc_требования\n",
      "desc_требуется\n",
      "desc_тренинги\n",
      "desc_труда\n",
      "desc_трудоустройство\n",
      "desc_уборка\n",
      "desc_уверенное\n",
      "desc_уверенный\n",
      "desc_удаленная\n",
      "desc_удаленно\n",
      "desc_умение\n",
      "desc_управление\n",
      "desc_управления\n",
      "desc_уровень\n",
      "desc_уровне\n",
      "desc_уровня\n",
      "desc_условия\n",
      "desc_услуг\n",
      "desc_услуги\n",
      "desc_устная\n",
      "desc_участвовать\n",
      "desc_участие\n",
      "desc_учета\n",
      "desc_учиться\n",
      "desc_фирменная\n",
      "desc_формирование\n",
      "desc_х\n",
      "desc_хорошее\n",
      "desc_хотите\n",
      "desc_ценников\n",
      "desc_центре\n",
      "desc_ч\n",
      "desc_часов\n",
      "desc_части\n",
      "desc_часть\n",
      "desc_частью\n",
      "desc_человека\n",
      "desc_числе\n",
      "desc_является\n",
      "desc_язык\n",
      "desc_языка\n",
      "empl_(ооо\n",
      "empl_-\n",
      "empl_group\n",
      "empl_hr\n",
      "empl_jcat.ru\n",
      "empl_personname\n",
      "empl_solutions\n",
      "empl_агентство\n",
      "empl_бизнес\n",
      "empl_билайн\n",
      "empl_бюро\n",
      "empl_г.\n",
      "empl_гбу\n",
      "empl_гбуз\n",
      "empl_гк\n",
      "empl_города\n",
      "empl_групп\n",
      "empl_группа\n",
      "empl_гу\n",
      "empl_детский\n",
      "empl_дом\n",
      "empl_компаний\n",
      "empl_компания\n",
      "empl_консалтинг\n",
      "empl_лаборатория\n",
      "empl_магазинов\n",
      "empl_мвд\n",
      "empl_мир\n",
      "empl_москвы\n",
      "empl_московский\n",
      "empl_недвижимости\n",
      "empl_перекресток\n",
      "empl_пятёрочка\n",
      "empl_развития\n",
      "empl_розничная\n",
      "empl_россии\n",
      "empl_рус\n",
      "empl_сервис\n",
      "empl_сеть\n",
      "empl_системы\n",
      "empl_спб\n",
      "empl_технологии\n",
      "empl_университет\n",
      "empl_управление\n",
      "empl_фгуп\n",
      "empl_федеральная\n",
      "empl_холдинг\n",
      "empl_центр\n",
      "empl_школа\n",
      "empl_экспресс\n",
      "name_(м.\n",
      "name_(москва,\n",
      "name_(санкт-петербург,\n",
      "name_(удаленно)\n",
      "name_-\n",
      "name_/\n",
      "name_backend\n",
      "name_developer\n",
      "name_engineer\n",
      "name_frontend\n",
      "name_junior\n",
      "name_manager\n",
      "name_middle\n",
      "name_php\n",
      "name_product\n",
      "name_python\n",
      "name_senior\n",
      "name_администратор\n",
      "name_аналитик\n",
      "name_ассистент\n",
      "name_бухгалтер\n",
      "name_ведущий\n",
      "name_дизайнер\n",
      "name_закупкам\n",
      "name_инженер\n",
      "name_клиентами\n",
      "name_менеджер\n",
      "name_младший\n",
      "name_оператор\n",
      "name_отдела\n",
      "name_персонала\n",
      "name_подбору\n",
      "name_помощник\n",
      "name_преподаватель\n",
      "name_программист\n",
      "name_продавец-кассир\n",
      "name_продавец-консультант\n",
      "name_продаж\n",
      "name_продажам\n",
      "name_работе\n",
      "name_разработчик\n",
      "name_рекрутер\n",
      "name_руководитель\n",
      "name_руководителя\n",
      "name_специалист\n",
      "name_стажер\n",
      "name_старший\n",
      "name_уборщица/уборщик\n",
      "name_ул\n",
      "name_юрист\n"
     ]
    }
   ],
   "source": [
    "for columnName in df_test.columns:\n",
    "    print(columnName)"
   ]
  },
  {
   "cell_type": "code",
   "execution_count": 226,
   "id": "19f71a60-8987-4b72-9fcc-75637498b0d3",
   "metadata": {
    "ExecuteTime": {
     "end_time": "2024-01-09T21:11:12.660624200Z",
     "start_time": "2024-01-09T21:11:12.257630100Z"
    }
   },
   "outputs": [
    {
     "name": "stdout",
     "output_type": "stream",
     "text": [
      "area_name_Other\n",
      "area_name_Екатеринбург\n",
      "area_name_Казань\n",
      "area_name_Краснодар\n",
      "area_name_Москва\n",
      "area_name_Новосибирск\n",
      "area_name_Санкт-Петербург\n",
      "has_test\n",
      "response_letter_required\n",
      "salary_from\n",
      "salary_gross\n",
      "salary_to\n",
      "published_at_diff\n",
      "description_exp\n",
      "description_salary\n",
      "desc_api\n",
      "desc_b\n",
      "desc_c\n",
      "desc_ci\n",
      "desc_crm\n",
      "desc_cs\n",
      "desc_d\n",
      "desc_docker\n",
      "desc_e\n",
      "desc_excel\n",
      "desc_experience\n",
      "desc_git\n",
      "desc_google\n",
      "desc_hr\n",
      "desc_html\n",
      "desc_http\n",
      "desc_j\n",
      "desc_java\n",
      "desc_javascript\n",
      "desc_kpi\n",
      "desc_linux\n",
      "desc_m\n",
      "desc_office\n",
      "desc_php\n",
      "desc_postgresql\n",
      "desc_python\n",
      "desc_quot\n",
      "desc_react\n",
      "desc_rest\n",
      "desc_ru\n",
      "desc_sql\n",
      "desc_team\n",
      "desc_web\n",
      "desc_word\n",
      "desc_work\n",
      "desc_автоматизации\n",
      "desc_аккуратность\n",
      "desc_активно\n",
      "desc_анализ\n",
      "desc_анализа\n",
      "desc_аналитика\n",
      "desc_английский\n",
      "desc_английского\n",
      "desc_архитектуры\n",
      "desc_базе\n",
      "desc_базовые\n",
      "desc_базы\n",
      "desc_белая\n",
      "desc_бесплатное\n",
      "desc_бизнес\n",
      "desc_бизнеса\n",
      "desc_больничных\n",
      "desc_большим\n",
      "desc_большой\n",
      "desc_бонусы\n",
      "desc_быстро\n",
      "desc_важно\n",
      "desc_вакансии\n",
      "desc_вакансию\n",
      "desc_вакансия\n",
      "desc_веб\n",
      "desc_ведение\n",
      "desc_ведения\n",
      "desc_вести\n",
      "desc_взаимодействие\n",
      "desc_видео\n",
      "desc_владение\n",
      "desc_вместе\n",
      "desc_внимание\n",
      "desc_внимательность\n",
      "desc_внутри\n",
      "desc_возможен\n",
      "desc_возможно\n",
      "desc_возможности\n",
      "desc_возможность\n",
      "desc_вопросам\n",
      "desc_вопросы\n",
      "desc_всей\n",
      "desc_выкладка\n",
      "desc_выплата\n",
      "desc_выплаты\n",
      "desc_выполнение\n",
      "desc_выполнения\n",
      "desc_выполнять\n",
      "desc_высокая\n",
      "desc_высокий\n",
      "desc_высшее\n",
      "desc_выходные\n",
      "desc_выше\n",
      "desc_гарантии\n",
      "desc_гибкий\n",
      "desc_годности\n",
      "desc_города\n",
      "desc_готов\n",
      "desc_готовность\n",
      "desc_готовы\n",
      "desc_грамотная\n",
      "desc_график\n",
      "desc_д\n",
      "desc_данных\n",
      "desc_делать\n",
      "desc_детей\n",
      "desc_деятельности\n",
      "desc_дисциплинированность\n",
      "desc_дмс\n",
      "desc_дней\n",
      "desc_дня\n",
      "desc_договоров\n",
      "desc_документации\n",
      "desc_документов\n",
      "desc_должности\n",
      "desc_дома\n",
      "desc_домом\n",
      "desc_доступности\n",
      "desc_доход\n",
      "desc_др\n",
      "desc_дружный\n",
      "desc_ждем\n",
      "desc_желание\n",
      "desc_желателен\n",
      "desc_желательно\n",
      "desc_з\n",
      "desc_зависимости\n",
      "desc_зависит\n",
      "desc_задач\n",
      "desc_задачи\n",
      "desc_задержек\n",
      "desc_заказов\n",
      "desc_зале\n",
      "desc_занимается\n",
      "desc_заниматься\n",
      "desc_занятость\n",
      "desc_зарабатывать\n",
      "desc_заработная\n",
      "desc_заработной\n",
      "desc_зарплата\n",
      "desc_заявок\n",
      "desc_звонки\n",
      "desc_звонков\n",
      "desc_знание\n",
      "desc_знания\n",
      "desc_зп\n",
      "desc_интервью\n",
      "desc_интересные\n",
      "desc_интернет\n",
      "desc_информации\n",
      "desc_исполнительность\n",
      "desc_испытательного\n",
      "desc_испытательный\n",
      "desc_итогам\n",
      "desc_ищем\n",
      "desc_каждого\n",
      "desc_кандидата\n",
      "desc_кандидатов\n",
      "desc_карьерного\n",
      "desc_карьерный\n",
      "desc_кассе\n",
      "desc_качества\n",
      "desc_квалификации\n",
      "desc_клиента\n",
      "desc_клиентам\n",
      "desc_клиентами\n",
      "desc_клиентов\n",
      "desc_клиентской\n",
      "desc_код\n",
      "desc_кода\n",
      "desc_коллектив\n",
      "desc_коллективе\n",
      "desc_команда\n",
      "desc_команде\n",
      "desc_командой\n",
      "desc_команду\n",
      "desc_команды\n",
      "desc_коммуникабельность\n",
      "desc_компании\n",
      "desc_компаний\n",
      "desc_компанию\n",
      "desc_компания\n",
      "desc_компенсация\n",
      "desc_конкурсы\n",
      "desc_консультация\n",
      "desc_консультирование\n",
      "desc_контроль\n",
      "desc_контроля\n",
      "desc_корпоративная\n",
      "desc_корпоративное\n",
      "desc_корпоративные\n",
      "desc_кофе\n",
      "desc_либо\n",
      "desc_листов\n",
      "desc_любой\n",
      "desc_людей\n",
      "desc_людьми\n",
      "desc_магазина\n",
      "desc_магазинах\n",
      "desc_магазинов\n",
      "desc_маркетинга\n",
      "desc_материалов\n",
      "desc_менеджер\n",
      "desc_менеджера\n",
      "desc_мероприятий\n",
      "desc_мероприятия\n",
      "desc_место\n",
      "desc_месяц\n",
      "desc_месяца\n",
      "desc_метро\n",
      "desc_мин\n",
      "desc_минут\n",
      "desc_многозадачности\n",
      "desc_можете\n",
      "desc_молодой\n",
      "desc_момент\n",
      "desc_москва\n",
      "desc_москве\n",
      "desc_москвы\n",
      "desc_навыки\n",
      "desc_наличие\n",
      "desc_наличия\n",
      "desc_написание\n",
      "desc_написания\n",
      "desc_нашего\n",
      "desc_нашей\n",
      "desc_нашим\n",
      "desc_наших\n",
      "desc_нашу\n",
      "desc_недвижимости\n",
      "desc_неделю\n",
      "desc_неделя\n",
      "desc_необходимо\n",
      "desc_неполная\n",
      "desc_неполный\n",
      "desc_новые\n",
      "desc_новый\n",
      "desc_новых\n",
      "desc_нужен\n",
      "desc_обеспечение\n",
      "desc_обеспечения\n",
      "desc_области\n",
      "desc_оборудования\n",
      "desc_обработка\n",
      "desc_образование\n",
      "desc_образования\n",
      "desc_обслуживание\n",
      "desc_обсуждается\n",
      "desc_обучаемость\n",
      "desc_обучение\n",
      "desc_обучения\n",
      "desc_общаться\n",
      "desc_общение\n",
      "desc_обязанности\n",
      "desc_обязателен\n",
      "desc_обязательно\n",
      "desc_оклад\n",
      "desc_онлайн\n",
      "desc_оплата\n",
      "desc_оплаты\n",
      "desc_оплачиваемый\n",
      "desc_оптимизация\n",
      "desc_опыт\n",
      "desc_опыта\n",
      "desc_опытом\n",
      "desc_организации\n",
      "desc_организация\n",
      "desc_основ\n",
      "desc_основе\n",
      "desc_ответственность\n",
      "desc_отдела\n",
      "desc_отпуск\n",
      "desc_отпусков\n",
      "desc_отслеживание\n",
      "desc_отсутствие\n",
      "desc_отчетности\n",
      "desc_отчетов\n",
      "desc_офис\n",
      "desc_офиса\n",
      "desc_офисе\n",
      "desc_официальная\n",
      "desc_официальное\n",
      "desc_оформление\n",
      "desc_п\n",
      "desc_пакет\n",
      "desc_первого\n",
      "desc_переговоров\n",
      "desc_персонала\n",
      "desc_писать\n",
      "desc_письменная\n",
      "desc_пк\n",
      "desc_плана\n",
      "desc_планирование\n",
      "desc_плата\n",
      "desc_платы\n",
      "desc_плюсом\n",
      "desc_пн\n",
      "desc_подбор\n",
      "desc_подготовка\n",
      "desc_поддержание\n",
      "desc_поддержка\n",
      "desc_подработки\n",
      "desc_подход\n",
      "desc_поиск\n",
      "desc_поиска\n",
      "desc_показателей\n",
      "desc_покупателей\n",
      "desc_полная\n",
      "desc_полностью\n",
      "desc_полный\n",
      "desc_пользователей\n",
      "desc_пользователь\n",
      "desc_помощь\n",
      "desc_понимание\n",
      "desc_поставщиков\n",
      "desc_постоянно\n",
      "desc_поэтому\n",
      "desc_пр\n",
      "desc_предлагаем\n",
      "desc_предложений\n",
      "desc_предоставление\n",
      "desc_предстоит\n",
      "desc_преимуществом\n",
      "desc_премии\n",
      "desc_премия\n",
      "desc_приветствуется\n",
      "desc_приглашаем\n",
      "desc_приглашает\n",
      "desc_прием\n",
      "desc_приложений\n",
      "desc_приложения\n",
      "desc_принципов\n",
      "desc_проведение\n",
      "desc_проведения\n",
      "desc_проверка\n",
      "desc_проводить\n",
      "desc_программ\n",
      "desc_программирования\n",
      "desc_программы\n",
      "desc_продаж\n",
      "desc_продажам\n",
      "desc_продажах\n",
      "desc_продажи\n",
      "desc_продукт\n",
      "desc_продукта\n",
      "desc_продуктов\n",
      "desc_продукты\n",
      "desc_продукции\n",
      "desc_проект\n",
      "desc_проекта\n",
      "desc_проектами\n",
      "desc_проектах\n",
      "desc_проектирования\n",
      "desc_проектов\n",
      "desc_проекты\n",
      "desc_производства\n",
      "desc_профессионалов\n",
      "desc_профессионального\n",
      "desc_профессиональное\n",
      "desc_профессиональный\n",
      "desc_процессов\n",
      "desc_процессы\n",
      "desc_пунктуальность\n",
      "desc_р\n",
      "desc_работ\n",
      "desc_работа\n",
      "desc_работаем\n",
      "desc_работает\n",
      "desc_работать\n",
      "desc_работе\n",
      "desc_работу\n",
      "desc_работы\n",
      "desc_рабочая\n",
      "desc_рабочего\n",
      "desc_рабочее\n",
      "desc_рабочий\n",
      "desc_рабочих\n",
      "desc_раза\n",
      "desc_развиваться\n",
      "desc_развитие\n",
      "desc_развития\n",
      "desc_различных\n",
      "desc_разных\n",
      "desc_разрабатывать\n",
      "desc_разработка\n",
      "desc_разработке\n",
      "desc_разработки\n",
      "desc_разработкой\n",
      "desc_разработчика\n",
      "desc_разработчиков\n",
      "desc_рамках\n",
      "desc_расти\n",
      "desc_расчет\n",
      "desc_реализации\n",
      "desc_режиме\n",
      "desc_результат\n",
      "desc_результатам\n",
      "desc_результатов\n",
      "desc_резюме\n",
      "desc_рекламных\n",
      "desc_речь\n",
      "desc_решать\n",
      "desc_решение\n",
      "desc_решений\n",
      "desc_решения\n",
      "desc_россии\n",
      "desc_рост\n",
      "desc_роста\n",
      "desc_руб\n",
      "desc_рублей\n",
      "desc_руки\n",
      "desc_руководителя\n",
      "desc_рф\n",
      "desc_рынка\n",
      "desc_рынке\n",
      "desc_сайтов\n",
      "desc_самостоятельно\n",
      "desc_сбор\n",
      "desc_свой\n",
      "desc_связи\n",
      "desc_связь\n",
      "desc_сделать\n",
      "desc_сервис\n",
      "desc_сервисов\n",
      "desc_сетей\n",
      "desc_сети\n",
      "desc_сеть\n",
      "desc_систем\n",
      "desc_система\n",
      "desc_системами\n",
      "desc_системе\n",
      "desc_системы\n",
      "desc_скидки\n",
      "desc_склад\n",
      "desc_собеседование\n",
      "desc_собеседования\n",
      "desc_соблюдение\n",
      "desc_совместительству\n",
      "desc_согласно\n",
      "desc_согласование\n",
      "desc_создавать\n",
      "desc_создание\n",
      "desc_соответствии\n",
      "desc_сопровождение\n",
      "desc_составление\n",
      "desc_сотрудника\n",
      "desc_сотрудников\n",
      "desc_соц\n",
      "desc_социальные\n",
      "desc_специалиста\n",
      "desc_специалистов\n",
      "desc_спецодежда\n",
      "desc_способность\n",
      "desc_среднего\n",
      "desc_срок\n",
      "desc_срока\n",
      "desc_сроков\n",
      "desc_ст\n",
      "desc_стабильная\n",
      "desc_стать\n",
      "desc_стрессоустойчивость\n",
      "desc_сфере\n",
      "desc_счет\n",
      "desc_телефону\n",
      "desc_территории\n",
      "desc_тестирования\n",
      "desc_технических\n",
      "desc_техническое\n",
      "desc_технической\n",
      "desc_технологии\n",
      "desc_технологий\n",
      "desc_тк\n",
      "desc_товара\n",
      "desc_товаров\n",
      "desc_требований\n",
      "desc_требования\n",
      "desc_требуется\n",
      "desc_тренинги\n",
      "desc_труда\n",
      "desc_трудоустройство\n",
      "desc_уборка\n",
      "desc_уверенное\n",
      "desc_уверенный\n",
      "desc_удаленная\n",
      "desc_удаленно\n",
      "desc_умение\n",
      "desc_управление\n",
      "desc_управления\n",
      "desc_уровень\n",
      "desc_уровне\n",
      "desc_уровня\n",
      "desc_условия\n",
      "desc_услуг\n",
      "desc_услуги\n",
      "desc_устная\n",
      "desc_участвовать\n",
      "desc_участие\n",
      "desc_учета\n",
      "desc_учиться\n",
      "desc_фирменная\n",
      "desc_формирование\n",
      "desc_х\n",
      "desc_хорошее\n",
      "desc_хотите\n",
      "desc_ценников\n",
      "desc_центре\n",
      "desc_ч\n",
      "desc_часов\n",
      "desc_части\n",
      "desc_часть\n",
      "desc_частью\n",
      "desc_человека\n",
      "desc_числе\n",
      "desc_является\n",
      "desc_язык\n",
      "desc_языка\n",
      "empl_(ооо\n",
      "empl_-\n",
      "empl_group\n",
      "empl_hr\n",
      "empl_jcat.ru\n",
      "empl_personname\n",
      "empl_solutions\n",
      "empl_агентство\n",
      "empl_бизнес\n",
      "empl_билайн\n",
      "empl_бюро\n",
      "empl_г.\n",
      "empl_гбу\n",
      "empl_гбуз\n",
      "empl_гк\n",
      "empl_города\n",
      "empl_групп\n",
      "empl_группа\n",
      "empl_гу\n",
      "empl_детский\n",
      "empl_дом\n",
      "empl_компаний\n",
      "empl_компания\n",
      "empl_консалтинг\n",
      "empl_лаборатория\n",
      "empl_магазинов\n",
      "empl_мвд\n",
      "empl_мир\n",
      "empl_москвы\n",
      "empl_московский\n",
      "empl_недвижимости\n",
      "empl_перекресток\n",
      "empl_пятёрочка\n",
      "empl_развития\n",
      "empl_розничная\n",
      "empl_россии\n",
      "empl_рус\n",
      "empl_сервис\n",
      "empl_сеть\n",
      "empl_системы\n",
      "empl_спб\n",
      "empl_технологии\n",
      "empl_университет\n",
      "empl_управление\n",
      "empl_фгуп\n",
      "empl_федеральная\n",
      "empl_холдинг\n",
      "empl_центр\n",
      "empl_школа\n",
      "empl_экспресс\n",
      "name_(м.\n",
      "name_(москва,\n",
      "name_(санкт-петербург,\n",
      "name_(удаленно)\n",
      "name_-\n",
      "name_/\n",
      "name_backend\n",
      "name_developer\n",
      "name_engineer\n",
      "name_frontend\n",
      "name_junior\n",
      "name_manager\n",
      "name_middle\n",
      "name_php\n",
      "name_product\n",
      "name_python\n",
      "name_senior\n",
      "name_администратор\n",
      "name_аналитик\n",
      "name_ассистент\n",
      "name_бухгалтер\n",
      "name_ведущий\n",
      "name_дизайнер\n",
      "name_закупкам\n",
      "name_инженер\n",
      "name_клиентами\n",
      "name_менеджер\n",
      "name_младший\n",
      "name_оператор\n",
      "name_отдела\n",
      "name_персонала\n",
      "name_подбору\n",
      "name_помощник\n",
      "name_преподаватель\n",
      "name_программист\n",
      "name_продавец-кассир\n",
      "name_продавец-консультант\n",
      "name_продаж\n",
      "name_продажам\n",
      "name_работе\n",
      "name_разработчик\n",
      "name_рекрутер\n",
      "name_руководитель\n",
      "name_руководителя\n",
      "name_специалист\n",
      "name_стажер\n",
      "name_старший\n",
      "name_уборщица/уборщик\n",
      "name_ул\n",
      "name_юрист\n"
     ]
    }
   ],
   "source": [
    "for columnName in df.columns:\n",
    "    print(columnName)\n",
    "    if not (columnName in df_test.columns) and (columnName != 'salary_to'):\n",
    "        df_test[columnName] = [False] * df_test.shape[0]"
   ]
  },
  {
   "cell_type": "code",
   "execution_count": 227,
   "id": "2e129860-94ee-4a02-addd-ad678fa0b874",
   "metadata": {
    "ExecuteTime": {
     "end_time": "2024-01-09T21:11:12.746611100Z",
     "start_time": "2024-01-09T21:11:12.285632200Z"
    }
   },
   "outputs": [
    {
     "data": {
      "text/plain": [
       "Index(['area_name_Other', 'area_name_Екатеринбург', 'area_name_Казань',\n",
       "       'area_name_Краснодар', 'area_name_Москва', 'area_name_Новосибирск',\n",
       "       'area_name_Санкт-Петербург', 'has_test', 'response_letter_required',\n",
       "       'salary_from',\n",
       "       ...\n",
       "       'name_разработчик', 'name_рекрутер', 'name_руководитель',\n",
       "       'name_руководителя', 'name_специалист', 'name_стажер', 'name_старший',\n",
       "       'name_уборщица/уборщик', 'name_ул', 'name_юрист'],\n",
       "      dtype='object', length=626)"
      ]
     },
     "execution_count": 227,
     "metadata": {},
     "output_type": "execute_result"
    }
   ],
   "source": [
    "df_test.columns"
   ]
  },
  {
   "cell_type": "code",
   "execution_count": 228,
   "id": "6357a8ab-69e8-4680-9b08-e999a8771a19",
   "metadata": {
    "ExecuteTime": {
     "end_time": "2024-01-09T21:11:12.812620Z",
     "start_time": "2024-01-09T21:11:12.328884900Z"
    }
   },
   "outputs": [
    {
     "data": {
      "text/plain": [
       "Index(['area_name_Other', 'area_name_Екатеринбург', 'area_name_Казань',\n",
       "       'area_name_Краснодар', 'area_name_Москва', 'area_name_Новосибирск',\n",
       "       'area_name_Санкт-Петербург', 'has_test', 'response_letter_required',\n",
       "       'salary_from',\n",
       "       ...\n",
       "       'name_разработчик', 'name_рекрутер', 'name_руководитель',\n",
       "       'name_руководителя', 'name_специалист', 'name_стажер', 'name_старший',\n",
       "       'name_уборщица/уборщик', 'name_ул', 'name_юрист'],\n",
       "      dtype='object', length=627)"
      ]
     },
     "execution_count": 228,
     "metadata": {},
     "output_type": "execute_result"
    }
   ],
   "source": [
    "df.columns"
   ]
  },
  {
   "cell_type": "markdown",
   "id": "ef27f090-05cc-4604-8083-7c37f0f6c60a",
   "metadata": {},
   "source": [
    "Переупорядочиваем столбцы, чтобы соответствовать обучаемой выборке:"
   ]
  },
  {
   "cell_type": "code",
   "execution_count": 229,
   "id": "fd479424-7692-4d0d-971b-ee8cd6774bb8",
   "metadata": {
    "ExecuteTime": {
     "end_time": "2024-01-09T21:11:12.874626500Z",
     "start_time": "2024-01-09T21:11:12.377603700Z"
    }
   },
   "outputs": [],
   "source": [
    "columns = df.columns.tolist()\n",
    "columns.remove('salary_to')\n",
    "df_test = df_test[columns]"
   ]
  },
  {
   "cell_type": "markdown",
   "id": "8663bbad-4580-4907-9501-6e50d51412ce",
   "metadata": {},
   "source": [
    "Делаем предсказания:"
   ]
  },
  {
   "cell_type": "code",
   "execution_count": 230,
   "id": "3ada0b22ab343047",
   "metadata": {
    "ExecuteTime": {
     "end_time": "2024-01-09T21:11:13.714612700Z",
     "start_time": "2024-01-09T21:11:12.457614800Z"
    },
    "collapsed": false,
    "jupyter": {
     "outputs_hidden": false
    }
   },
   "outputs": [],
   "source": [
    "dtest_reg1 = xgb.DMatrix(df_test)"
   ]
  },
  {
   "cell_type": "code",
   "execution_count": 231,
   "id": "ff7bb904-78a3-4f07-987f-b21a21c5f0de",
   "metadata": {
    "ExecuteTime": {
     "end_time": "2024-01-09T21:11:15.698840500Z",
     "start_time": "2024-01-09T21:11:13.522616500Z"
    }
   },
   "outputs": [],
   "source": [
    "y_pred_test1_1 = xg_model4.predict(dtest_reg1)\n",
    "y_pred_test1_2 = xg_model_v2_1.predict(dtest_reg1)\n",
    "y_pred_test1_3 = cat_model_2.predict(df_test)\n",
    "y_pred_test1_4 = cat_model2_2.predict(df_test)"
   ]
  },
  {
   "cell_type": "markdown",
   "id": "3d484cd29fa7ba17",
   "metadata": {
    "collapsed": false,
    "jupyter": {
     "outputs_hidden": false
    }
   },
   "source": [
    "Объединяем результаты:"
   ]
  },
  {
   "cell_type": "code",
   "execution_count": 232,
   "id": "42b3a3a81c82a59d",
   "metadata": {
    "ExecuteTime": {
     "end_time": "2024-01-09T21:11:15.727841700Z",
     "start_time": "2024-01-09T21:11:15.667785Z"
    },
    "collapsed": false,
    "jupyter": {
     "outputs_hidden": false
    }
   },
   "outputs": [],
   "source": [
    "y_pred_test_combo1 = min_k1 / 100 * y_pred_test1_1 + min_k3 / 100 * y_pred_test1_2 + min_k2 / 100 * y_pred_test1_3 + (100 - min_k1 - min_k2 - min_k3) / 100 * y_pred_test1_4"
   ]
  },
  {
   "cell_type": "markdown",
   "id": "50aa8ae5-30ec-403a-b001-6ef6e3eeaa7c",
   "metadata": {},
   "source": [
    "Пишем требуемый результат в файл:"
   ]
  },
  {
   "cell_type": "code",
   "execution_count": 233,
   "id": "c93642f3-57bf-4494-86f4-39b0f3c4e615",
   "metadata": {
    "ExecuteTime": {
     "end_time": "2024-01-09T21:11:16.058523400Z",
     "start_time": "2024-01-09T21:11:15.686849600Z"
    }
   },
   "outputs": [],
   "source": [
    "df_test_full = df_test.assign(salary_to = y_pred_test_combo1)"
   ]
  },
  {
   "cell_type": "code",
   "execution_count": 234,
   "id": "caa31c6c-e6c0-4ec0-8f69-25bcca9af13a",
   "metadata": {
    "ExecuteTime": {
     "end_time": "2024-01-09T21:11:16.092100200Z",
     "start_time": "2024-01-09T21:11:15.803411500Z"
    }
   },
   "outputs": [
    {
     "data": {
      "text/plain": [
       "id\n",
       "20978     52367.065557\n",
       "3102      38898.483585\n",
       "14731    301165.140399\n",
       "16113    234289.071001\n",
       "8410     138959.728029\n",
       "             ...      \n",
       "29490     55443.725674\n",
       "34298     82264.415255\n",
       "33921     39161.326878\n",
       "8886      63653.254149\n",
       "23978     30073.603127\n",
       "Name: salary_to, Length: 9312, dtype: float64"
      ]
     },
     "execution_count": 234,
     "metadata": {},
     "output_type": "execute_result"
    }
   ],
   "source": [
    "df_output = pd.concat([df_test_full['salary_to']])\n",
    "df_output"
   ]
  },
  {
   "cell_type": "code",
   "execution_count": 235,
   "id": "2bf4fc91-9799-4646-bdf7-f587e73142f7",
   "metadata": {
    "ExecuteTime": {
     "end_time": "2024-01-09T21:11:16.181102200Z",
     "start_time": "2024-01-09T21:11:15.861805800Z"
    }
   },
   "outputs": [],
   "source": [
    "from pathlib import Path  \n",
    "filepath = Path('y_test.csv')  \n",
    "filepath.parent.mkdir(parents=True, exist_ok=True)  \n",
    "df_output.to_csv(filepath)  "
   ]
  },
  {
   "cell_type": "code",
   "execution_count": null,
   "id": "17d7c09a-6397-4ff9-8a3d-d57ff6b5b907",
   "metadata": {},
   "outputs": [],
   "source": []
  },
  {
   "cell_type": "code",
   "execution_count": null,
   "id": "e05daf0b-2b53-4b29-ae76-7f3d44155d7e",
   "metadata": {},
   "outputs": [],
   "source": []
  }
 ],
 "metadata": {
  "kernelspec": {
   "display_name": "Python 3 (ipykernel)",
   "language": "python",
   "name": "python3"
  },
  "language_info": {
   "codemirror_mode": {
    "name": "ipython",
    "version": 3
   },
   "file_extension": ".py",
   "mimetype": "text/x-python",
   "name": "python",
   "nbconvert_exporter": "python",
   "pygments_lexer": "ipython3",
   "version": "3.11.5"
  }
 },
 "nbformat": 4,
 "nbformat_minor": 5
}
