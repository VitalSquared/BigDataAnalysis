{
 "cells": [
  {
   "cell_type": "markdown",
   "id": "cff17164-0c1f-444f-a3de-74dddc485286",
   "metadata": {},
   "source": [
    "<H1>Необходимо предсказать верхнюю границу заработной платы (salary_to) для вакансии</H1>"
   ]
  },
  {
   "cell_type": "code",
   "execution_count": 1,
   "id": "2d5d1cec-0bee-487b-b598-7457d1e3c8f2",
   "metadata": {
    "ExecuteTime": {
     "end_time": "2024-01-09T00:42:42.364206300Z",
     "start_time": "2024-01-09T00:42:37.909687800Z"
    }
   },
   "outputs": [
    {
     "data": {
      "text/plain": "<IPython.core.display.HTML object>",
      "text/html": "<style>.container {width:100% !important;}</style>"
     },
     "metadata": {},
     "output_type": "display_data"
    }
   ],
   "source": [
    "import pandas as pd\n",
    "import numpy as np\n",
    "from tqdm.notebook import tqdm\n",
    "from datetime import datetime, timedelta, date\n",
    "import warnings\n",
    "warnings.filterwarnings('ignore')\n",
    "from tqdm.auto import tqdm\n",
    "tqdm.pandas()\n",
    "\n",
    "from IPython.core.display import display, HTML\n",
    "display(HTML(\"<style>.container {width:100% !important;}</style>\"))\n",
    "\n",
    "import xlrd\n",
    "from itertools import chain\n",
    "pd.set_option('display.max_colwidth', None)"
   ]
  },
  {
   "cell_type": "markdown",
   "id": "0afa045e-5363-4d28-ae79-8231118b5036",
   "metadata": {},
   "source": [
    "Считываем данные для обучения:"
   ]
  },
  {
   "cell_type": "code",
   "execution_count": 2,
   "id": "2c74e23e-1650-4549-b1f9-767deba3a8db",
   "metadata": {
    "ExecuteTime": {
     "end_time": "2024-01-09T00:42:46.466746Z",
     "start_time": "2024-01-09T00:42:42.058226600Z"
    }
   },
   "outputs": [],
   "source": [
    "df = pd.read_csv('X_train.csv', parse_dates=['published_at', 'created_at'])"
   ]
  },
  {
   "cell_type": "markdown",
   "id": "90d8c2de-d457-46d1-8e6d-86cdb64fd283",
   "metadata": {},
   "source": [
    "Считываем значения salary_to для данных для обучения и мерджим с предыдущей таблицей"
   ]
  },
  {
   "cell_type": "code",
   "execution_count": 3,
   "id": "45c435c4-220b-42d3-979a-029bf13b9363",
   "metadata": {
    "ExecuteTime": {
     "end_time": "2024-01-09T00:42:46.502397200Z",
     "start_time": "2024-01-09T00:42:45.913784800Z"
    }
   },
   "outputs": [],
   "source": [
    "df1 = pd.read_csv('y_train.csv')\n",
    "df = df.set_index('id').join(df1.set_index('id'))"
   ]
  },
  {
   "cell_type": "markdown",
   "id": "b1586e65-98eb-4257-920b-6aff7dbd2919",
   "metadata": {},
   "source": [
    "<H1>Исследование данных / Data exploration</H1>"
   ]
  },
  {
   "cell_type": "code",
   "execution_count": 4,
   "id": "8f8af7f1-b0f7-44b3-82bb-5c5a07486b8c",
   "metadata": {
    "ExecuteTime": {
     "end_time": "2024-01-09T00:42:46.549259800Z",
     "start_time": "2024-01-09T00:42:46.019966500Z"
    }
   },
   "outputs": [
    {
     "name": "stdout",
     "output_type": "stream",
     "text": [
      "<class 'pandas.core.frame.DataFrame'>\n",
      "Index: 27934 entries, 29083 to 15795\n",
      "Data columns (total 13 columns):\n",
      " #   Column                    Non-Null Count  Dtype              \n",
      "---  ------                    --------------  -----              \n",
      " 0   name                      27934 non-null  object             \n",
      " 1   has_test                  27934 non-null  bool               \n",
      " 2   response_letter_required  27934 non-null  bool               \n",
      " 3   salary_from               23902 non-null  float64            \n",
      " 4   salary_currency           27934 non-null  object             \n",
      " 5   salary_gross              27786 non-null  object             \n",
      " 6   published_at              27934 non-null  datetime64[ns, UTC]\n",
      " 7   created_at                27934 non-null  datetime64[ns, UTC]\n",
      " 8   employer_name             27934 non-null  object             \n",
      " 9   description               27933 non-null  object             \n",
      " 10  area_id                   27934 non-null  int64              \n",
      " 11  area_name                 27934 non-null  object             \n",
      " 12  salary_to                 27934 non-null  float64            \n",
      "dtypes: bool(2), datetime64[ns, UTC](2), float64(2), int64(1), object(6)\n",
      "memory usage: 3.6+ MB\n"
     ]
    }
   ],
   "source": [
    "df.info()"
   ]
  },
  {
   "cell_type": "markdown",
   "id": "9b2b2895-b2d1-4234-8fc9-a1cbdf1346ad",
   "metadata": {},
   "source": [
    "Можно увидеть, что есть пустые значения у <i>salary_from</i>. Есть пустые значения у <i>salary_gross</i>, который должен быть из описания bool, а импортировался как object. И ещё отсутствует одно значение в <i>description</i>."
   ]
  },
  {
   "cell_type": "code",
   "execution_count": 5,
   "id": "e1327c63-b522-447e-816b-e2b11f79a0b2",
   "metadata": {
    "ExecuteTime": {
     "end_time": "2024-01-09T00:42:47.008634600Z",
     "start_time": "2024-01-09T00:42:46.062786500Z"
    }
   },
   "outputs": [
    {
     "data": {
      "text/plain": "                        name salary_currency salary_gross employer_name  \\\ncount                  27934           27934        27786         27934   \nunique                 16395               1            2         13318   \ntop     Менеджер по продажам             RUR        False     Пятёрочка   \nfreq                     337           27934        18726           927   \n\n                                                                                                                                                                                                                                                                                                                                                                                                                                                                                                                                                                                                                                                                                                                                                                                                                                                                         description  \\\ncount                                                                                                                                                                                                                                                                                                                                                                                                                                                                                                                                                                                                                                                                                                                                                                                                                                                                          27933   \nunique                                                                                                                                                                                                                                                                                                                                                                                                                                                                                                                                                                                                                                                                                                                                                                                                                                                                         23681   \ntop     <p><strong>Обязанности:</strong></p><ul><li>Обслуживание покупателей на кассе (наличный и безналичный расчет)</li><li>Выкладка товара в зале</li><li>Отслеживание сроков годности товара</li><li>Проверка наличия ценников</li><li>Консультация покупателей в зале</li></ul><p><strong>Требования:</strong></p><ul><li>Ответственность, дисциплинированность, внимательность</li></ul><p><strong>Условия:</strong></p><ul><li>График работы 5/2, 2/2, возможен неполный рабочий день, неполная рабочая неделя</li><li>Возможность подработки (работа по совместительству)</li><li>Социальные гарантии, оплата отпусков и больничных листов</li><li>Работа рядом с домом</li><li>Скидки в магазинах сети</li><li>Фирменная спецодежда</li><li>Возможность профессионального и карьерного роста, корпоративное обучение</li><li>Корпоративные мероприятия и конкурсы</li></ul>   \nfreq                                                                                                                                                                                                                                                                                                                                                                                                                                                                                                                                                                                                                                                                                                                                                                                                                                                                             624   \n\n       area_name  \ncount      27934  \nunique       156  \ntop       Москва  \nfreq       20512  ",
      "text/html": "<div>\n<style scoped>\n    .dataframe tbody tr th:only-of-type {\n        vertical-align: middle;\n    }\n\n    .dataframe tbody tr th {\n        vertical-align: top;\n    }\n\n    .dataframe thead th {\n        text-align: right;\n    }\n</style>\n<table border=\"1\" class=\"dataframe\">\n  <thead>\n    <tr style=\"text-align: right;\">\n      <th></th>\n      <th>name</th>\n      <th>salary_currency</th>\n      <th>salary_gross</th>\n      <th>employer_name</th>\n      <th>description</th>\n      <th>area_name</th>\n    </tr>\n  </thead>\n  <tbody>\n    <tr>\n      <th>count</th>\n      <td>27934</td>\n      <td>27934</td>\n      <td>27786</td>\n      <td>27934</td>\n      <td>27933</td>\n      <td>27934</td>\n    </tr>\n    <tr>\n      <th>unique</th>\n      <td>16395</td>\n      <td>1</td>\n      <td>2</td>\n      <td>13318</td>\n      <td>23681</td>\n      <td>156</td>\n    </tr>\n    <tr>\n      <th>top</th>\n      <td>Менеджер по продажам</td>\n      <td>RUR</td>\n      <td>False</td>\n      <td>Пятёрочка</td>\n      <td>&lt;p&gt;&lt;strong&gt;Обязанности:&lt;/strong&gt;&lt;/p&gt;&lt;ul&gt;&lt;li&gt;Обслуживание покупателей на кассе (наличный и безналичный расчет)&lt;/li&gt;&lt;li&gt;Выкладка товара в зале&lt;/li&gt;&lt;li&gt;Отслеживание сроков годности товара&lt;/li&gt;&lt;li&gt;Проверка наличия ценников&lt;/li&gt;&lt;li&gt;Консультация покупателей в зале&lt;/li&gt;&lt;/ul&gt;&lt;p&gt;&lt;strong&gt;Требования:&lt;/strong&gt;&lt;/p&gt;&lt;ul&gt;&lt;li&gt;Ответственность, дисциплинированность, внимательность&lt;/li&gt;&lt;/ul&gt;&lt;p&gt;&lt;strong&gt;Условия:&lt;/strong&gt;&lt;/p&gt;&lt;ul&gt;&lt;li&gt;График работы 5/2, 2/2, возможен неполный рабочий день, неполная рабочая неделя&lt;/li&gt;&lt;li&gt;Возможность подработки (работа по совместительству)&lt;/li&gt;&lt;li&gt;Социальные гарантии, оплата отпусков и больничных листов&lt;/li&gt;&lt;li&gt;Работа рядом с домом&lt;/li&gt;&lt;li&gt;Скидки в магазинах сети&lt;/li&gt;&lt;li&gt;Фирменная спецодежда&lt;/li&gt;&lt;li&gt;Возможность профессионального и карьерного роста, корпоративное обучение&lt;/li&gt;&lt;li&gt;Корпоративные мероприятия и конкурсы&lt;/li&gt;&lt;/ul&gt;</td>\n      <td>Москва</td>\n    </tr>\n    <tr>\n      <th>freq</th>\n      <td>337</td>\n      <td>27934</td>\n      <td>18726</td>\n      <td>927</td>\n      <td>624</td>\n      <td>20512</td>\n    </tr>\n  </tbody>\n</table>\n</div>"
     },
     "execution_count": 5,
     "metadata": {},
     "output_type": "execute_result"
    }
   ],
   "source": [
    "pd.options.display.max_rows = 13\n",
    "df.describe(include='O')"
   ]
  },
  {
   "cell_type": "markdown",
   "id": "534b883d-b31d-4f25-b3ac-de427c154825",
   "metadata": {},
   "source": [
    "<H1>Даты</H1>"
   ]
  },
  {
   "cell_type": "markdown",
   "id": "ae2f7309-4574-4057-b4fe-b8426d8f1067",
   "metadata": {},
   "source": [
    "Посмотрим корреляцию <i>published_at</i> и <i>created_at</i>."
   ]
  },
  {
   "cell_type": "code",
   "execution_count": 6,
   "id": "f8174c47-7d0d-4a05-88ea-fae67d66698e",
   "metadata": {
    "ExecuteTime": {
     "end_time": "2024-01-09T00:42:48.992498500Z",
     "start_time": "2024-01-09T00:42:46.246019100Z"
    }
   },
   "outputs": [
    {
     "data": {
      "text/plain": "<pandas.io.formats.style.Styler at 0x22593292bd0>",
      "text/html": "<style type=\"text/css\">\n#T_5266c_row0_col0, #T_5266c_row0_col1, #T_5266c_row1_col0, #T_5266c_row1_col1 {\n  background-color: #fff7fb;\n  color: #000000;\n}\n</style>\n<table id=\"T_5266c\">\n  <thead>\n    <tr>\n      <th class=\"blank level0\" >&nbsp;</th>\n      <th id=\"T_5266c_level0_col0\" class=\"col_heading level0 col0\" >published_at</th>\n      <th id=\"T_5266c_level0_col1\" class=\"col_heading level0 col1\" >created_at</th>\n    </tr>\n  </thead>\n  <tbody>\n    <tr>\n      <th id=\"T_5266c_level0_row0\" class=\"row_heading level0 row0\" >published_at</th>\n      <td id=\"T_5266c_row0_col0\" class=\"data row0 col0\" >1.000000</td>\n      <td id=\"T_5266c_row0_col1\" class=\"data row0 col1\" >1.000000</td>\n    </tr>\n    <tr>\n      <th id=\"T_5266c_level0_row1\" class=\"row_heading level0 row1\" >created_at</th>\n      <td id=\"T_5266c_row1_col0\" class=\"data row1 col0\" >1.000000</td>\n      <td id=\"T_5266c_row1_col1\" class=\"data row1 col1\" >1.000000</td>\n    </tr>\n  </tbody>\n</table>\n"
     },
     "execution_count": 6,
     "metadata": {},
     "output_type": "execute_result"
    }
   ],
   "source": [
    "#(df['published_at']==df['created_at']).value_counts()\n",
    "df[['published_at', 'created_at']].corr().style.background_gradient()"
   ]
  },
  {
   "cell_type": "markdown",
   "id": "09cb2bae-a6dd-4f38-9627-ebda8b6de2b0",
   "metadata": {},
   "source": [
    "Эти столбцы полностью совпадают, один из них можно удалить."
   ]
  },
  {
   "cell_type": "code",
   "execution_count": 7,
   "id": "7e29dcd6-a875-4af7-815a-f2c5a2ae67f1",
   "metadata": {
    "ExecuteTime": {
     "end_time": "2024-01-09T00:42:49.183294700Z",
     "start_time": "2024-01-09T00:42:48.043812900Z"
    }
   },
   "outputs": [],
   "source": [
    "df = df.drop(columns=['created_at'])"
   ]
  },
  {
   "cell_type": "markdown",
   "id": "7d9c89fb-d1f0-4374-aa12-e6bb6501d7d3",
   "metadata": {},
   "source": [
    "Разберемся с датами в <i>published_at</i>. Заменим даты на разницу между концом 2022 года (за который собирался dataset) и датой в <i>published_at</i>:"
   ]
  },
  {
   "cell_type": "code",
   "execution_count": 8,
   "id": "83d2ac63-cb4c-4a99-a228-d7abf7aac73c",
   "metadata": {
    "ExecuteTime": {
     "end_time": "2024-01-09T00:42:49.196298900Z",
     "start_time": "2024-01-09T00:42:48.093221800Z"
    }
   },
   "outputs": [],
   "source": [
    "df['published_at_diff'] = df['published_at'].map(lambda x: datetime.timestamp(datetime(2023, 1, 1)) - x.timestamp())"
   ]
  },
  {
   "cell_type": "markdown",
   "id": "33b5777a-7127-4465-82d8-c07950bc10b6",
   "metadata": {},
   "source": [
    "Теперь столбец <i>published_at</i> можно удалить."
   ]
  },
  {
   "cell_type": "code",
   "execution_count": 9,
   "id": "0ee1c906-1e70-444e-9256-b37caafc0303",
   "metadata": {
    "ExecuteTime": {
     "end_time": "2024-01-09T00:42:49.273497100Z",
     "start_time": "2024-01-09T00:42:48.202276400Z"
    }
   },
   "outputs": [],
   "source": [
    "df = df.drop(columns=['published_at'])"
   ]
  },
  {
   "cell_type": "code",
   "execution_count": 10,
   "id": "86e8c3dc-4a73-40a6-acb3-2b81da02c969",
   "metadata": {
    "ExecuteTime": {
     "end_time": "2024-01-09T00:42:49.604810700Z",
     "start_time": "2024-01-09T00:42:48.222892900Z"
    }
   },
   "outputs": [
    {
     "name": "stdout",
     "output_type": "stream",
     "text": [
      "<class 'pandas.core.frame.DataFrame'>\n",
      "Index: 27934 entries, 29083 to 15795\n",
      "Data columns (total 12 columns):\n",
      " #   Column                    Non-Null Count  Dtype  \n",
      "---  ------                    --------------  -----  \n",
      " 0   name                      27934 non-null  object \n",
      " 1   has_test                  27934 non-null  bool   \n",
      " 2   response_letter_required  27934 non-null  bool   \n",
      " 3   salary_from               23902 non-null  float64\n",
      " 4   salary_currency           27934 non-null  object \n",
      " 5   salary_gross              27786 non-null  object \n",
      " 6   employer_name             27934 non-null  object \n",
      " 7   description               27933 non-null  object \n",
      " 8   area_id                   27934 non-null  int64  \n",
      " 9   area_name                 27934 non-null  object \n",
      " 10  salary_to                 27934 non-null  float64\n",
      " 11  published_at_diff         27934 non-null  float64\n",
      "dtypes: bool(2), float64(3), int64(1), object(6)\n",
      "memory usage: 3.4+ MB\n"
     ]
    }
   ],
   "source": [
    "df.info()"
   ]
  },
  {
   "cell_type": "markdown",
   "id": "75ed9140-7423-4af7-b816-f34cfa9c3a38",
   "metadata": {},
   "source": [
    "<H1>Количественные / Quantitative</H1>"
   ]
  },
  {
   "cell_type": "markdown",
   "id": "3f4bfbfd-9600-4fa6-8f15-180e7a0ce6c9",
   "metadata": {},
   "source": [
    "В salary_from есть пустые значения. Поместим туда самое частое значение:"
   ]
  },
  {
   "cell_type": "code",
   "execution_count": 11,
   "id": "4d039cd1-dae6-43cb-a18a-dde004ea3e9a",
   "metadata": {
    "ExecuteTime": {
     "end_time": "2024-01-09T00:42:49.673975400Z",
     "start_time": "2024-01-09T00:42:48.255169Z"
    }
   },
   "outputs": [],
   "source": [
    "#df_filtered = df.dropna(subset = ['salary_from'])\n",
    "df.salary_from.fillna(df.salary_from.mode()[0], inplace = True)"
   ]
  },
  {
   "cell_type": "code",
   "execution_count": 12,
   "id": "c25270ee-083e-4a2a-a831-30a5b343dfe0",
   "metadata": {
    "ExecuteTime": {
     "end_time": "2024-01-09T00:42:49.727688600Z",
     "start_time": "2024-01-09T00:42:48.280929900Z"
    }
   },
   "outputs": [
    {
     "name": "stdout",
     "output_type": "stream",
     "text": [
      "<class 'pandas.core.frame.DataFrame'>\n",
      "Index: 27934 entries, 29083 to 15795\n",
      "Data columns (total 12 columns):\n",
      " #   Column                    Non-Null Count  Dtype  \n",
      "---  ------                    --------------  -----  \n",
      " 0   name                      27934 non-null  object \n",
      " 1   has_test                  27934 non-null  bool   \n",
      " 2   response_letter_required  27934 non-null  bool   \n",
      " 3   salary_from               27934 non-null  float64\n",
      " 4   salary_currency           27934 non-null  object \n",
      " 5   salary_gross              27786 non-null  object \n",
      " 6   employer_name             27934 non-null  object \n",
      " 7   description               27933 non-null  object \n",
      " 8   area_id                   27934 non-null  int64  \n",
      " 9   area_name                 27934 non-null  object \n",
      " 10  salary_to                 27934 non-null  float64\n",
      " 11  published_at_diff         27934 non-null  float64\n",
      "dtypes: bool(2), float64(3), int64(1), object(6)\n",
      "memory usage: 3.4+ MB\n"
     ]
    }
   ],
   "source": [
    "df.info()"
   ]
  },
  {
   "cell_type": "markdown",
   "id": "ee1c3cca-277a-493d-be83-68264d7a9f94",
   "metadata": {},
   "source": [
    "Посмотрим на распределение всех числовых величин:"
   ]
  },
  {
   "cell_type": "code",
   "execution_count": 13,
   "id": "2e63bb51-3c5e-4b4e-a8c1-f716323bae5e",
   "metadata": {
    "ExecuteTime": {
     "end_time": "2024-01-09T00:42:50.028613400Z",
     "start_time": "2024-01-09T00:42:48.306648Z"
    }
   },
   "outputs": [
    {
     "data": {
      "text/plain": "<Figure size 1000x1500 with 3 Axes>",
      "image/png": "[encoded data removed]"
     },
     "metadata": {},
     "output_type": "display_data"
    }
   ],
   "source": [
    "import matplotlib.pyplot as plt\n",
    "df_numeric = df[['salary_from', 'salary_to', 'published_at_diff']]\n",
    "# Создаем гистограммы для всех столбцов\n",
    "fig, axes = plt.subplots(nrows=len(df_numeric.columns), ncols=1, figsize=(10, 15))\n",
    "\n",
    "# Проходимся по всем столбцам DataFrame и создаем гистограмму для каждого столбца\n",
    "for i, column in enumerate(df_numeric.columns):\n",
    "    df_numeric[column].plot(kind='hist', bins=25, ax=axes[i])\n",
    "    axes[i].set_title(column)\n",
    "\n",
    "plt.tight_layout()\n",
    "plt.show()"
   ]
  },
  {
   "cell_type": "markdown",
   "id": "727ffa2f-ad8d-4120-96c7-ed5a729ad38c",
   "metadata": {},
   "source": [
    "Нормализуем <i>publised_at_diff</i>:"
   ]
  },
  {
   "cell_type": "code",
   "execution_count": 14,
   "id": "d9edc72c-10e1-4706-86a2-ce9db1fdfcf8",
   "metadata": {
    "ExecuteTime": {
     "end_time": "2024-01-09T00:42:50.043715Z",
     "start_time": "2024-01-09T00:42:49.525628700Z"
    }
   },
   "outputs": [],
   "source": [
    "df[\"published_at_diff\"] = df[\"published_at_diff\"] / 1e7"
   ]
  },
  {
   "cell_type": "markdown",
   "id": "b5dc1196-1e60-4045-a095-47be90086b8a",
   "metadata": {},
   "source": [
    "<H1>Категориальные / Category</H1>"
   ]
  },
  {
   "cell_type": "code",
   "execution_count": 15,
   "id": "fa64bb13-5c42-456d-aca9-0b9ca8a334b2",
   "metadata": {
    "ExecuteTime": {
     "end_time": "2024-01-09T00:42:51.165927500Z",
     "start_time": "2024-01-09T00:42:49.535057800Z"
    }
   },
   "outputs": [
    {
     "name": "stdout",
     "output_type": "stream",
     "text": [
      "<class 'pandas.core.frame.DataFrame'>\n",
      "Index: 27934 entries, 29083 to 15795\n",
      "Data columns (total 12 columns):\n",
      " #   Column                    Non-Null Count  Dtype  \n",
      "---  ------                    --------------  -----  \n",
      " 0   name                      27934 non-null  object \n",
      " 1   has_test                  27934 non-null  bool   \n",
      " 2   response_letter_required  27934 non-null  bool   \n",
      " 3   salary_from               27934 non-null  float64\n",
      " 4   salary_currency           27934 non-null  object \n",
      " 5   salary_gross              27786 non-null  object \n",
      " 6   employer_name             27934 non-null  object \n",
      " 7   description               27933 non-null  object \n",
      " 8   area_id                   27934 non-null  int64  \n",
      " 9   area_name                 27934 non-null  object \n",
      " 10  salary_to                 27934 non-null  float64\n",
      " 11  published_at_diff         27934 non-null  float64\n",
      "dtypes: bool(2), float64(3), int64(1), object(6)\n",
      "memory usage: 3.4+ MB\n"
     ]
    }
   ],
   "source": [
    "df.info()"
   ]
  },
  {
   "cell_type": "markdown",
   "id": "567bcaec-8af2-40d5-acfe-348d4705242d",
   "metadata": {},
   "source": [
    "<H2>salary_gross</H2>"
   ]
  },
  {
   "cell_type": "markdown",
   "id": "d632a908-ef50-4711-94f2-dcf8f34bd60c",
   "metadata": {},
   "source": [
    "Для <i>salary_gross</i> нужно заполнить пропуски False и преобразовать из типа object в тип bool: "
   ]
  },
  {
   "cell_type": "code",
   "execution_count": 16,
   "id": "e320a18a-e72e-4450-a136-fc08ad9b1b47",
   "metadata": {
    "ExecuteTime": {
     "end_time": "2024-01-09T00:42:51.223297500Z",
     "start_time": "2024-01-09T00:42:49.572787600Z"
    }
   },
   "outputs": [],
   "source": [
    "df.salary_gross.fillna(False, inplace = True) \n",
    "df['salary_gross'] = df['salary_gross'].astype(bool)"
   ]
  },
  {
   "cell_type": "code",
   "execution_count": 17,
   "id": "f30dd354-0021-450f-ad5b-ae82e3c69954",
   "metadata": {
    "ExecuteTime": {
     "end_time": "2024-01-09T00:42:51.346016200Z",
     "start_time": "2024-01-09T00:42:49.587286600Z"
    }
   },
   "outputs": [
    {
     "name": "stdout",
     "output_type": "stream",
     "text": [
      "<class 'pandas.core.frame.DataFrame'>\n",
      "Index: 27934 entries, 29083 to 15795\n",
      "Data columns (total 12 columns):\n",
      " #   Column                    Non-Null Count  Dtype  \n",
      "---  ------                    --------------  -----  \n",
      " 0   name                      27934 non-null  object \n",
      " 1   has_test                  27934 non-null  bool   \n",
      " 2   response_letter_required  27934 non-null  bool   \n",
      " 3   salary_from               27934 non-null  float64\n",
      " 4   salary_currency           27934 non-null  object \n",
      " 5   salary_gross              27934 non-null  bool   \n",
      " 6   employer_name             27934 non-null  object \n",
      " 7   description               27933 non-null  object \n",
      " 8   area_id                   27934 non-null  int64  \n",
      " 9   area_name                 27934 non-null  object \n",
      " 10  salary_to                 27934 non-null  float64\n",
      " 11  published_at_diff         27934 non-null  float64\n",
      "dtypes: bool(3), float64(3), int64(1), object(5)\n",
      "memory usage: 3.2+ MB\n"
     ]
    }
   ],
   "source": [
    "df.info()"
   ]
  },
  {
   "cell_type": "markdown",
   "id": "ce6edd51-928d-42f7-9e2a-52783d6d07cd",
   "metadata": {},
   "source": [
    "<H2>salary_currency</H2>"
   ]
  },
  {
   "cell_type": "markdown",
   "id": "af038cfb-1ce9-464a-a238-8afee6bc2f36",
   "metadata": {},
   "source": [
    "Посмотрим, сколько уникальных значений есть в <i>salary_currency</i>."
   ]
  },
  {
   "cell_type": "code",
   "execution_count": 18,
   "id": "aa8c7178-aba3-4796-9a83-849741f4d469",
   "metadata": {
    "ExecuteTime": {
     "end_time": "2024-01-09T00:42:51.357552900Z",
     "start_time": "2024-01-09T00:42:49.618294500Z"
    }
   },
   "outputs": [
    {
     "data": {
      "text/plain": "salary_currency\nRUR    27934\nName: count, dtype: int64"
     },
     "execution_count": 18,
     "metadata": {},
     "output_type": "execute_result"
    }
   ],
   "source": [
    "df['salary_currency'].value_counts()"
   ]
  },
  {
   "cell_type": "markdown",
   "id": "3900589e-d127-484f-af37-48fbcef45678",
   "metadata": {},
   "source": [
    "У всех строк одна и та же валюта, этот столбец можно удалить."
   ]
  },
  {
   "cell_type": "code",
   "execution_count": 19,
   "id": "f0bca82c-136e-419b-be3f-afefe6cd6fcc",
   "metadata": {
    "ExecuteTime": {
     "end_time": "2024-01-09T00:42:51.388149400Z",
     "start_time": "2024-01-09T00:42:49.635762400Z"
    }
   },
   "outputs": [],
   "source": [
    "df = df.drop(columns=['salary_currency'])"
   ]
  },
  {
   "cell_type": "code",
   "execution_count": 20,
   "id": "f1cf028e-97ef-4635-acbc-0bb3cc5574ff",
   "metadata": {
    "ExecuteTime": {
     "end_time": "2024-01-09T00:42:51.421759100Z",
     "start_time": "2024-01-09T00:42:49.652070500Z"
    }
   },
   "outputs": [
    {
     "name": "stdout",
     "output_type": "stream",
     "text": [
      "<class 'pandas.core.frame.DataFrame'>\n",
      "Index: 27934 entries, 29083 to 15795\n",
      "Data columns (total 11 columns):\n",
      " #   Column                    Non-Null Count  Dtype  \n",
      "---  ------                    --------------  -----  \n",
      " 0   name                      27934 non-null  object \n",
      " 1   has_test                  27934 non-null  bool   \n",
      " 2   response_letter_required  27934 non-null  bool   \n",
      " 3   salary_from               27934 non-null  float64\n",
      " 4   salary_gross              27934 non-null  bool   \n",
      " 5   employer_name             27934 non-null  object \n",
      " 6   description               27933 non-null  object \n",
      " 7   area_id                   27934 non-null  int64  \n",
      " 8   area_name                 27934 non-null  object \n",
      " 9   salary_to                 27934 non-null  float64\n",
      " 10  published_at_diff         27934 non-null  float64\n",
      "dtypes: bool(3), float64(3), int64(1), object(4)\n",
      "memory usage: 3.0+ MB\n"
     ]
    }
   ],
   "source": [
    "df.info()"
   ]
  },
  {
   "cell_type": "markdown",
   "id": "2c5ae20c-0c59-41e3-a4c6-0f9cceaee4f7",
   "metadata": {},
   "source": [
    "<H2>area_name и area_id</H2>"
   ]
  },
  {
   "cell_type": "markdown",
   "id": "8b9939d9-c3f6-4d31-a3ed-006de10fc74b",
   "metadata": {},
   "source": [
    "Разберемся с <i>area_id</i> и <i>area_name</i>."
   ]
  },
  {
   "cell_type": "code",
   "execution_count": 21,
   "id": "8d6fbd81-8e1b-41dc-8ec6-2e645cb36938",
   "metadata": {
    "ExecuteTime": {
     "end_time": "2024-01-09T00:42:51.636800500Z",
     "start_time": "2024-01-09T00:42:49.686394500Z"
    }
   },
   "outputs": [
    {
     "data": {
      "text/plain": "{1: {('Москва',)},\n 2: {('Санкт-Петербург',)},\n 72: {('Пермь',)},\n 4: {('Новосибирск',)},\n 78: {('Самара',)},\n 26: {('Воронеж',)},\n 35: {('Иркутск',)},\n 3: {('Екатеринбург',)},\n 77: {('Рязань',)},\n 24: {('Волгоград',)},\n 76: {('Ростов-на-Дону',)},\n 54: {('Красноярск',)},\n 53: {('Краснодар',)},\n 66: {('Нижний Новгород',)},\n 96: {('Ижевск',)},\n 247: {('Дзержинск (Нижегородская область)',)},\n 41: {('Калининград',)},\n 90: {('Томск',)},\n 98: {('Ульяновск',)},\n 130: {('Севастополь',)},\n 68: {('Омск',)},\n 43: {('Калуга',)},\n 99: {('Уфа',)},\n 22: {('Владивосток',)},\n 49: {('Киров (Кировская область)',)},\n 88: {('Казань',)},\n 32: {('Иваново (Ивановская область)',)},\n 1002: {('Минск',)},\n 44: {('Петропавловск-Камчатский',)},\n 112: {('Ярославль',)},\n 160: {('Алматы',)},\n 104: {('Челябинск',)},\n 2734: {('Иннополис',)},\n 92: {('Тула',)},\n 71: {('Пенза',)},\n 2088: {('Зеленоград',)},\n 2059: {('Павловский Посад',)},\n 159: {('Нур-Султан',)},\n 83: {('Смоленск',)},\n 79: {('Саратов',)},\n 89: {('Тверь',)},\n 63: {('Саранск',)},\n 95: {('Тюмень',)},\n 2077: {('Химки',)},\n 237: {('Сочи',)},\n 51: {('Сыктывкар',)},\n 212: {('Тольятти',)},\n 84: {('Ставрополь',)},\n 1283: {('Краснотурьинск',)},\n 14: {('Архангельск',)},\n 113: {('Россия',)},\n 2020: {('Балашиха',)},\n 1454: {('Новороссийск',)},\n 11: {('Барнаул',)},\n 1641: {('Набережные Челны',)},\n 61: {('Йошкар-Ола',)},\n 107: {('Чебоксары',)},\n 17: {('Белгород',)},\n 1006: {('Гродно',)},\n 102: {('Хабаровск',)},\n 1753: {('Череповец',)},\n 19: {('Брянск',)},\n 1550: {('Таганрог',)},\n 70: {('Оренбург',)},\n 242: {('Эквадор',)},\n 69: {('Орел',)},\n 2760: {('Бишкек',)},\n 2012: {('Сертолово',)},\n 15: {('Астрахань',)},\n 56: {('Курск',)},\n 1599: {('Балаково',)},\n 59: {('Литва',)},\n 131: {('Симферополь',)},\n 52: {('Кострома',)},\n 1492: {('Минеральные Воды',)},\n 1825: {('Старый Оскол',)},\n 1724: {('Ковров',)},\n 1381: {('Сургут',)},\n 1240: {('Новокузнецк',)},\n 1233: {('Гурьевск (Кемеровская область)',)},\n 58: {('Липецк',)},\n 29: {('Махачкала',)},\n 2041: {('Мытищи',)},\n 248: {('Арзамас',)},\n 1494: {('Невинномысск',)},\n 75: {('Псков',)},\n 80: {('Якутск',)},\n 1600: {('Балашов',)},\n 150: {('Аксай (Казахстан)',)},\n 74: {('Польша',)},\n 2025: {('Домодедово',)},\n 105: {('Грозный',)},\n 2090: {('Королев',)},\n 1003: {('Гомель',)},\n 2086: {('Дубна',)},\n 85: {('США',)},\n 1399: {('Магнитогорск',)},\n 10: {('Горно-Алтайск',)},\n 73: {('Петрозаводск',)},\n 25: {('Вологда',)},\n 12: {('Благовещенск (Амурская область)',)},\n 23: {('Владимир',)},\n 1250: {('Исилькуль',)},\n 1537: {('Донецк (Ростовская область)',)},\n 94: {('Турция',)},\n 1364: {('Стерлитамак',)},\n 47: {('Кемерово',)},\n 1540: {('Каменск-Шахтинский',)},\n 1999: {('Коммунар',)},\n 5709: {('Колтуши',)},\n 1691: {('Кстово',)},\n 64: {('Мурманск',)},\n 1648: {('Глазов',)},\n 106: {('Чита',)},\n 2636: {('Республика Коста-Рика',)},\n 2385: {('Саки',)},\n 1914: {('Алексин',)},\n 2120: {('Ялта',)},\n 1253: {('Тара',)},\n 1533: {('Батайск',)},\n 5049: {('Кишинёв',)},\n 301: {('Обнинск',)},\n 1548: {('Сальск',)},\n 1613: {('Энгельс',)},\n 87: {('Тамбов',)},\n 1220: {('Бийск',)},\n 1400: {('Миасс',)},\n 1291: {('Нижний Тагил',)},\n 2058: {('Орехово-Зуево',)},\n 1251: {('Калачинск',)},\n 2750: {('Петергоф',)},\n 2064: {('Жуковский',)},\n 2758: {('Тбилиси',)},\n 1442: {('Армавир',)},\n 1531: {('Азов',)},\n 2023: {('Дмитров',)},\n 1007: {('Брест',)},\n 236: {('Кипр',)},\n 67: {('Великий Новгород',)},\n 2061: {('Подольск (Московская область)',)},\n 2113: {('Колумбия',)},\n 1814: {('Рыбинск',)},\n 1717: {('Александров',)},\n 2447: {('Ленинградская станица',)},\n 2034: {('Красногорск',)},\n 1440: {('Анапа',)},\n 1005: {('Витебск',)},\n 3315: {('Витязево',)},\n 147: {('Ханты-Мансийск',)},\n 2554: {('Колпино',)},\n 2759: {('Ташкент',)},\n 1642: {('Нижнекамск',)},\n 1419: {('Новый Уренгой',)},\n 1594: {('Сызрань',)},\n 2069: {('Сергиев Посад',)},\n 55: {('Курган',)}}"
     },
     "execution_count": 21,
     "metadata": {},
     "output_type": "execute_result"
    }
   ],
   "source": [
    "map_id_to_name = {}\n",
    "for idx in df.index:\n",
    "    if df['area_id'][idx] in map_id_to_name:\n",
    "        map_id_to_name[df['area_id'][idx]].add((df['area_name'][idx], ))\n",
    "    else:\n",
    "        map_id_to_name[df['area_id'][idx]] = set(((df['area_name'][idx], ), ))\n",
    "map_id_to_name"
   ]
  },
  {
   "cell_type": "markdown",
   "id": "e7809a07-2e49-4594-b145-8c8d3860bc0c",
   "metadata": {},
   "source": [
    "Удалим <i>area_id</i>, и посмотрим на то, сколько раз встречается тот или иной город."
   ]
  },
  {
   "cell_type": "code",
   "execution_count": 22,
   "id": "b81df894-480c-4df8-81cb-c7e791201c84",
   "metadata": {
    "ExecuteTime": {
     "end_time": "2024-01-09T00:42:51.676272600Z",
     "start_time": "2024-01-09T00:42:50.410753Z"
    }
   },
   "outputs": [],
   "source": [
    "df = df.drop(columns=['area_id'])"
   ]
  },
  {
   "cell_type": "code",
   "execution_count": 23,
   "id": "956ba501-fa53-4bc2-bf2f-ef3d681f390c",
   "metadata": {
    "ExecuteTime": {
     "end_time": "2024-01-09T00:42:52.194718800Z",
     "start_time": "2024-01-09T00:42:50.423152300Z"
    }
   },
   "outputs": [
    {
     "data": {
      "text/plain": "area_name\nМосква                         20512\nСанкт-Петербург                 5393\nНовосибирск                      201\nКраснодар                        178\nЕкатеринбург                     158\n                               ...  \nКаменск-Шахтинский                 1\nСтерлитамак                        1\nТурция                             1\nДонецк (Ростовская область)        1\nКурган                             1\nName: count, Length: 156, dtype: int64"
     },
     "execution_count": 23,
     "metadata": {},
     "output_type": "execute_result"
    }
   ],
   "source": [
    "df['area_name'].value_counts()"
   ]
  },
  {
   "cell_type": "markdown",
   "id": "e41b6b0d-3c9c-41db-bd8d-e5abc8ee6680",
   "metadata": {},
   "source": [
    "Начнем с area_name"
   ]
  },
  {
   "cell_type": "markdown",
   "id": "00092756-642d-442f-b4b2-8f53e4f0a269",
   "metadata": {},
   "source": [
    "Выделим несколько часто встречающихся городов, остальные заменим Other:"
   ]
  },
  {
   "cell_type": "code",
   "execution_count": 24,
   "id": "6698a165-0664-4e50-b70c-77d24630507a",
   "metadata": {
    "ExecuteTime": {
     "end_time": "2024-01-09T00:42:52.428616400Z",
     "start_time": "2024-01-09T00:42:50.440991500Z"
    }
   },
   "outputs": [
    {
     "data": {
      "text/plain": "area_name\nМосква             20512\nСанкт-Петербург     5393\nOther               1339\nНовосибирск          201\nКраснодар            178\nЕкатеринбург         158\nКазань               153\nName: count, dtype: int64"
     },
     "execution_count": 24,
     "metadata": {},
     "output_type": "execute_result"
    }
   ],
   "source": [
    "df.loc[df[\"area_name\"].value_counts()[df[\"area_name\"]].values < 150, \"area_name\"] = \"Other\"\n",
    "df['area_name'].value_counts()"
   ]
  },
  {
   "cell_type": "code",
   "execution_count": 25,
   "id": "9ea2dc25-728d-4fc6-9c77-9064ec26fd5b",
   "metadata": {
    "ExecuteTime": {
     "end_time": "2024-01-09T00:42:52.476206100Z",
     "start_time": "2024-01-09T00:42:50.466944700Z"
    }
   },
   "outputs": [
    {
     "name": "stdout",
     "output_type": "stream",
     "text": [
      "<class 'pandas.core.frame.DataFrame'>\n",
      "Index: 27934 entries, 29083 to 15795\n",
      "Data columns (total 10 columns):\n",
      " #   Column                    Non-Null Count  Dtype  \n",
      "---  ------                    --------------  -----  \n",
      " 0   name                      27934 non-null  object \n",
      " 1   has_test                  27934 non-null  bool   \n",
      " 2   response_letter_required  27934 non-null  bool   \n",
      " 3   salary_from               27934 non-null  float64\n",
      " 4   salary_gross              27934 non-null  bool   \n",
      " 5   employer_name             27934 non-null  object \n",
      " 6   description               27933 non-null  object \n",
      " 7   area_name                 27934 non-null  object \n",
      " 8   salary_to                 27934 non-null  float64\n",
      " 9   published_at_diff         27934 non-null  float64\n",
      "dtypes: bool(3), float64(3), object(4)\n",
      "memory usage: 2.8+ MB\n"
     ]
    }
   ],
   "source": [
    "df.info()"
   ]
  },
  {
   "cell_type": "markdown",
   "id": "40b38cff-54ae-4088-9157-aee4a139ec8c",
   "metadata": {},
   "source": [
    "<H2>description</H2>"
   ]
  },
  {
   "cell_type": "markdown",
   "id": "d0622860-ee0a-4a8c-a0c8-3e6d922cb3d1",
   "metadata": {},
   "source": [
    "В колонке <i>description</i> есть много информации, написанной в виде HTML страницы. Есть вероятность, что там есть упоминание з/п в формате \"<число> руб.\" или \"<число> руб./час\" или \"<число> тыс. руб.\". Попробуем их выцепить. Сначала удалим HTML теги из всех записей"
   ]
  },
  {
   "cell_type": "code",
   "execution_count": 26,
   "id": "a8acef35-0ae4-4508-a046-a06731891d1b",
   "metadata": {
    "ExecuteTime": {
     "end_time": "2024-01-09T00:42:52.509673400Z",
     "start_time": "2024-01-09T00:42:50.515154100Z"
    }
   },
   "outputs": [],
   "source": [
    "import re\n",
    "df['description'] = pd.Series(df['description'],dtype=pd.StringDtype())\n",
    "df.description = df.description.apply(lambda x: str(x).lower())"
   ]
  },
  {
   "cell_type": "markdown",
   "id": "ce7acd2d-9f1a-4b1d-a275-9d0ada1f2fad",
   "metadata": {},
   "source": [
    "..."
   ]
  },
  {
   "cell_type": "code",
   "execution_count": 27,
   "id": "fe05f90a-6536-4eda-927a-c8cd26c8d4f5",
   "metadata": {
    "ExecuteTime": {
     "end_time": "2024-01-09T00:42:52.848935900Z",
     "start_time": "2024-01-09T00:42:51.532816200Z"
    }
   },
   "outputs": [],
   "source": [
    "def manage_desc_exp(string):\n",
    "    #print(string)\n",
    "    pattern = r'опыт[а-яА-ЯёЁ ]+[0-9]+[-лгм ]+[а-яА-ЯеЁ ]+[;<]'\n",
    "    year = 0\n",
    "    for match_raw in re.finditer(pattern, string):\n",
    "        number = ''\n",
    "        match = match_raw.group()\n",
    "        #print(match)\n",
    "        first_numeric_found = False\n",
    "        prev_ch = ' '\n",
    "        for ch in match:\n",
    "            if ch.isnumeric() and (first_numeric_found or prev_ch == ' '):\n",
    "                number += ch\n",
    "                first_numeric_found = True\n",
    "            elif ch == ' ' or ch == ',' or ch == '.':\n",
    "                prev_ch = ch\n",
    "                pass\n",
    "            else:\n",
    "                if first_numeric_found:\n",
    "                    break\n",
    "            prev_ch = ch\n",
    "        try:\n",
    "            cur_year = int(number)\n",
    "        except ValueError:\n",
    "            cur_year = 0\n",
    "        if 'мес' in match:\n",
    "            cur_year /= 12\n",
    "        if cur_year > year and cur_year <= 10:\n",
    "            year = cur_year\n",
    "    return 1 if year == 0 else year"
   ]
  },
  {
   "cell_type": "code",
   "execution_count": 28,
   "id": "1329c4ee-69f0-4b2a-ba8e-890f46024670",
   "metadata": {
    "ExecuteTime": {
     "end_time": "2024-01-09T00:42:53.657611Z",
     "start_time": "2024-01-09T00:42:52.812257200Z"
    }
   },
   "outputs": [],
   "source": [
    "df['description_exp'] = df.description.map(manage_desc_exp)"
   ]
  },
  {
   "cell_type": "code",
   "execution_count": 29,
   "id": "c9e1dcf2-0693-41cc-b198-e5ffa3133554",
   "metadata": {
    "ExecuteTime": {
     "end_time": "2024-01-09T00:42:54.072928Z",
     "start_time": "2024-01-09T00:42:53.605550400Z"
    }
   },
   "outputs": [
    {
     "data": {
      "text/plain": "description_exp\n1.000000    26641\n3.000000      582\n2.000000      487\n5.000000      105\n0.500000       63\n            ...  \n9.000000        2\n0.166667        1\n0.333333        1\n0.416667        1\n0.666667        1\nName: count, Length: 15, dtype: int64"
     },
     "execution_count": 29,
     "metadata": {},
     "output_type": "execute_result"
    }
   ],
   "source": [
    "df['description_exp'].value_counts()"
   ]
  },
  {
   "cell_type": "markdown",
   "id": "b21b0a05-2781-4c0c-99fe-a72dc9aa317f",
   "metadata": {},
   "source": [
    "..."
   ]
  },
  {
   "cell_type": "code",
   "execution_count": 30,
   "id": "6a51e427-cd6f-4802-a69e-beeab3c3594b",
   "metadata": {
    "ExecuteTime": {
     "end_time": "2024-01-09T00:42:55.190673600Z",
     "start_time": "2024-01-09T00:42:54.063206200Z"
    }
   },
   "outputs": [],
   "source": [
    "df.description = df.description.apply(lambda x: re.sub(r'<[^>]+>', ' ', str(x))) #</?[A-Za-z0-9]+ ?/?>"
   ]
  },
  {
   "cell_type": "code",
   "execution_count": 31,
   "id": "3d75a0c7-6644-4a36-9ff7-b24c4964af29",
   "metadata": {
    "ExecuteTime": {
     "end_time": "2024-01-09T00:42:58.397066Z",
     "start_time": "2024-01-09T00:42:55.091255Z"
    }
   },
   "outputs": [],
   "source": [
    "df.description = df.description.apply(lambda x: re.sub(r'[^а-яА-Я0-9a-zA-ZёЁ.-]', ' ', str(x))) #</?[A-Za-z0-9]+ ?/?>"
   ]
  },
  {
   "cell_type": "markdown",
   "id": "53045091-927a-405c-9fbf-5507437dd379",
   "metadata": {},
   "source": [
    "Определим функцию, которая будет извлекать из строки description максимальную упомянотую зарплату. Если таковой нет, сделаем её равной 0. Также сделаем равной 0 зарплаты, которые получились меньше 1000. Такое могло произойти, если извлеченная зарплата была не той по смыслу, или была какая-то другая цена."
   ]
  },
  {
   "cell_type": "code",
   "execution_count": 32,
   "id": "6632c2f9-4ce3-46dd-8521-b80607204073",
   "metadata": {
    "ExecuteTime": {
     "end_time": "2024-01-09T00:42:58.479500100Z",
     "start_time": "2024-01-09T00:42:58.347092900Z"
    }
   },
   "outputs": [],
   "source": [
    "def manage_desc(string):\n",
    "    #print(string)\n",
    "    pattern = r'[0-9][0-9., ]+[0-9 ](тыс)?руб.?\\/?[а-яА-Я ]*([0-9 ]+час)?(час)?(мес)?(день)?'\n",
    "    max_salary = -1\n",
    "    for match_raw in re.finditer(pattern, string):\n",
    "        number = ''\n",
    "        match = match_raw.group()\n",
    "        #print(match)\n",
    "        first_numeric_found = False\n",
    "        for ch in match:\n",
    "            if ch.isnumeric():\n",
    "                number += ch\n",
    "                first_numeric_found = True\n",
    "            elif ch == ' ' or ch == ',' or ch == '.':\n",
    "                pass\n",
    "            else:\n",
    "                if first_numeric_found:\n",
    "                    break\n",
    "        salary = int(number)\n",
    "        if 'сут' in match or 'день' in match:\n",
    "            salary *= 20\n",
    "        elif 'час' in match:\n",
    "            salary *= 160\n",
    "\n",
    "        if 'тыс' in match or 'т.' in match:\n",
    "            salary *= 1000\n",
    "        \n",
    "        if max_salary == -1 or salary > max_salary:\n",
    "            max_salary = salary\n",
    "    \n",
    "    if max_salary < 1000:\n",
    "        return pd.NA\n",
    "    else:\n",
    "        return max_salary\n",
    "\n",
    "#manage_desc(df['description'][23187])"
   ]
  },
  {
   "cell_type": "markdown",
   "id": "7156747a-6787-4813-89b1-f934266c5c0e",
   "metadata": {},
   "source": [
    "Теперь преобразуем все description"
   ]
  },
  {
   "cell_type": "code",
   "execution_count": 33,
   "id": "0d3139ad-792d-4458-9a29-0461bd3e84a4",
   "metadata": {
    "ExecuteTime": {
     "end_time": "2024-01-09T00:42:59.167919800Z",
     "start_time": "2024-01-09T00:42:58.357128800Z"
    }
   },
   "outputs": [
    {
     "data": {
      "text/plain": "description_salary\n40000           311\n50000           288\n60000           271\n30000           234\n100000          221\n               ... \n15200             1\n150000180000      1\n2170              1\n155000            1\n32000000          1\nName: count, Length: 438, dtype: int64"
     },
     "execution_count": 33,
     "metadata": {},
     "output_type": "execute_result"
    }
   ],
   "source": [
    "df['description_salary'] = df.description.map(manage_desc)\n",
    "df['description_salary'].value_counts()"
   ]
  },
  {
   "cell_type": "markdown",
   "id": "fa9cfa4c-c52c-4c63-a792-fda334153a73",
   "metadata": {},
   "source": [
    "Заполним пустые значения значениями из <i>salary_from</i>"
   ]
  },
  {
   "cell_type": "code",
   "execution_count": 34,
   "id": "4869c73f-155f-4564-a15e-b771e04c157a",
   "metadata": {
    "ExecuteTime": {
     "end_time": "2024-01-09T00:42:59.219289700Z",
     "start_time": "2024-01-09T00:42:58.893483Z"
    }
   },
   "outputs": [],
   "source": [
    "df['description_salary'].fillna(df['salary_from'], inplace = True) "
   ]
  },
  {
   "cell_type": "code",
   "execution_count": 35,
   "id": "7b805a28-b021-4efa-b62e-415bfb925ac1",
   "metadata": {
    "ExecuteTime": {
     "end_time": "2024-01-09T00:42:59.263975600Z",
     "start_time": "2024-01-09T00:42:58.905957100Z"
    }
   },
   "outputs": [
    {
     "name": "stdout",
     "output_type": "stream",
     "text": [
      "<class 'pandas.core.frame.DataFrame'>\n",
      "Index: 27934 entries, 29083 to 15795\n",
      "Data columns (total 12 columns):\n",
      " #   Column                    Non-Null Count  Dtype  \n",
      "---  ------                    --------------  -----  \n",
      " 0   name                      27934 non-null  object \n",
      " 1   has_test                  27934 non-null  bool   \n",
      " 2   response_letter_required  27934 non-null  bool   \n",
      " 3   salary_from               27934 non-null  float64\n",
      " 4   salary_gross              27934 non-null  bool   \n",
      " 5   employer_name             27934 non-null  object \n",
      " 6   description               27934 non-null  object \n",
      " 7   area_name                 27934 non-null  object \n",
      " 8   salary_to                 27934 non-null  float64\n",
      " 9   published_at_diff         27934 non-null  float64\n",
      " 10  description_exp           27934 non-null  float64\n",
      " 11  description_salary        27934 non-null  object \n",
      "dtypes: bool(3), float64(4), object(5)\n",
      "memory usage: 3.2+ MB\n"
     ]
    }
   ],
   "source": [
    "df.info()"
   ]
  },
  {
   "cell_type": "code",
   "outputs": [],
   "source": [
    "df['description_salary'] = pd.Series(df['description_salary'],dtype='float64')"
   ],
   "metadata": {
    "collapsed": false,
    "ExecuteTime": {
     "end_time": "2024-01-09T00:42:59.367028200Z",
     "start_time": "2024-01-09T00:42:58.938534100Z"
    }
   },
   "id": "c9bbbc7ae3e3d439",
   "execution_count": 36
  },
  {
   "cell_type": "code",
   "execution_count": 37,
   "id": "eaa4b289-df93-4f07-886e-d8363d2f12d5",
   "metadata": {
    "ExecuteTime": {
     "end_time": "2024-01-09T00:43:02.356179700Z",
     "start_time": "2024-01-09T00:42:58.947343700Z"
    }
   },
   "outputs": [],
   "source": [
    "df['description'] = df['description'].apply(lambda x: re.sub(r'[^а-яА-Я0-9a-zA-ZёЁ]', ' ', str(x))) #</?[A-Za-z0-9]+ ?/?>"
   ]
  },
  {
   "cell_type": "code",
   "outputs": [],
   "source": [
    "## remove tabulation and punctuation\n",
    "df['description'] = df['description'].map(lambda x: re.sub(r'[^\\w\\s]', ' ', x)) #str.replace(,' '))\n",
    "## digits\n",
    "df['description'] = df['description'].map(lambda x: re.sub(r'\\d+', ' ', x))#.str.replace(, '')"
   ],
   "metadata": {
    "collapsed": false,
    "ExecuteTime": {
     "end_time": "2024-01-09T00:43:04.795038600Z",
     "start_time": "2024-01-09T00:43:02.360192400Z"
    }
   },
   "id": "bb17dce479f5a096",
   "execution_count": 38
  },
  {
   "cell_type": "code",
   "execution_count": 39,
   "id": "46a81817-e3ce-40c9-84ba-3f95b2aa7a05",
   "metadata": {
    "ExecuteTime": {
     "end_time": "2024-01-09T00:43:04.877846200Z",
     "start_time": "2024-01-09T00:43:04.799414100Z"
    }
   },
   "outputs": [],
   "source": [
    "df['description'].fillna('nd', inplace = True)"
   ]
  },
  {
   "cell_type": "code",
   "outputs": [
    {
     "name": "stderr",
     "output_type": "stream",
     "text": [
      "[nltk_data] Downloading package stopwords to\n",
      "[nltk_data]     C:\\Users\\vital\\AppData\\Roaming\\nltk_data...\n",
      "[nltk_data]   Package stopwords is already up-to-date!\n",
      "[nltk_data] Downloading package wordnet to\n",
      "[nltk_data]     C:\\Users\\vital\\AppData\\Roaming\\nltk_data...\n",
      "[nltk_data]   Package wordnet is already up-to-date!\n"
     ]
    },
    {
     "data": {
      "text/plain": "True"
     },
     "execution_count": 40,
     "metadata": {},
     "output_type": "execute_result"
    }
   ],
   "source": [
    "import nltk\n",
    "nltk.download('stopwords')\n",
    "nltk.download('wordnet')"
   ],
   "metadata": {
    "collapsed": false,
    "ExecuteTime": {
     "end_time": "2024-01-09T00:43:14.380946800Z",
     "start_time": "2024-01-09T00:43:04.825895200Z"
    }
   },
   "id": "71f520f711e7015d",
   "execution_count": 40
  },
  {
   "cell_type": "code",
   "outputs": [],
   "source": [
    "from textblob import Word\n",
    "## lemmatization\n",
    "df['description'] = df['description'].apply(lambda x: \" \".join([Word(word).lemmatize() for word in x.split()]))"
   ],
   "metadata": {
    "collapsed": false,
    "ExecuteTime": {
     "end_time": "2024-01-09T00:43:47.872241500Z",
     "start_time": "2024-01-09T00:43:14.376589200Z"
    }
   },
   "id": "81ccaee20c562393",
   "execution_count": 41
  },
  {
   "cell_type": "code",
   "outputs": [],
   "source": [
    "from stop_words import get_stop_words\n",
    "\n",
    "stop_words = get_stop_words('russian')\n",
    "stop_words1 = get_stop_words('english')"
   ],
   "metadata": {
    "collapsed": false,
    "ExecuteTime": {
     "end_time": "2024-01-09T00:43:47.978469200Z",
     "start_time": "2024-01-09T00:43:47.877760900Z"
    }
   },
   "id": "31f20e8bab13cba0",
   "execution_count": 42
  },
  {
   "cell_type": "code",
   "execution_count": 43,
   "id": "d659459a-a042-49b4-ae6f-92218e16b15f",
   "metadata": {
    "ExecuteTime": {
     "end_time": "2024-01-09T00:43:48.012531400Z",
     "start_time": "2024-01-09T00:43:47.927466Z"
    }
   },
   "outputs": [],
   "source": [
    "from sklearn.feature_extraction.text import TfidfVectorizer\n"
   ]
  },
  {
   "cell_type": "code",
   "execution_count": 45,
   "id": "cc9093f9-1959-4a48-93b2-77fdc870edc5",
   "metadata": {
    "ExecuteTime": {
     "end_time": "2024-01-09T00:45:17.166554Z",
     "start_time": "2024-01-09T00:45:16.979579300Z"
    }
   },
   "outputs": [],
   "source": [
    "vectorizer = TfidfVectorizer(input='content', encoding='utf-8', \n",
    "                             decode_error='strict', strip_accents=None, lowercase=True,\n",
    "                             preprocessor=None, tokenizer=lambda x: x.split(), analyzer='word',\n",
    "                             stop_words=stop_words+stop_words1, min_df=6, dtype=np.float32, max_features=512,\n",
    "                             token_pattern=r'(?u)\\b\\w\\w\\w\\w+\\b')"
   ]
  },
  {
   "cell_type": "code",
   "execution_count": 46,
   "id": "53999860-8440-40a2-a794-8d554ade3325",
   "metadata": {
    "ExecuteTime": {
     "end_time": "2024-01-09T00:45:25.606005800Z",
     "start_time": "2024-01-09T00:45:19.794873900Z"
    }
   },
   "outputs": [],
   "source": [
    "df_desc_parsed = vectorizer.fit_transform(df['description'])"
   ]
  },
  {
   "cell_type": "code",
   "execution_count": 47,
   "id": "926fcadf-6eca-46be-a66d-0545472993e3",
   "metadata": {
    "ExecuteTime": {
     "end_time": "2024-01-09T00:45:25.670829500Z",
     "start_time": "2024-01-09T00:45:25.412746300Z"
    }
   },
   "outputs": [
    {
     "data": {
      "text/plain": "<27934x512 sparse matrix of type '<class 'numpy.float32'>'\n\twith 1203648 stored elements in Compressed Sparse Row format>"
     },
     "execution_count": 47,
     "metadata": {},
     "output_type": "execute_result"
    }
   ],
   "source": [
    "df_desc_parsed"
   ]
  },
  {
   "cell_type": "code",
   "execution_count": 48,
   "id": "a9d0176c-2333-4e1b-afc0-c4a1679cf4f2",
   "metadata": {
    "ExecuteTime": {
     "end_time": "2024-01-09T00:45:25.995630400Z",
     "start_time": "2024-01-09T00:45:25.423571400Z"
    }
   },
   "outputs": [],
   "source": [
    "df = df.drop(columns=['description'])"
   ]
  },
  {
   "cell_type": "markdown",
   "id": "cc9e767d-10b5-46c7-a450-3bab310ab452",
   "metadata": {},
   "source": [
    "<H2>employer_name</H2>"
   ]
  },
  {
   "cell_type": "markdown",
   "id": "6d57a45d-df1f-429a-8946-c0455934d72e",
   "metadata": {},
   "source": [
    "Далее посмотрим на employer_name"
   ]
  },
  {
   "cell_type": "code",
   "execution_count": 49,
   "id": "491ec47a-8091-4b18-87c6-f6fcda7a06cb",
   "metadata": {
    "ExecuteTime": {
     "end_time": "2024-01-09T00:45:26.039986200Z",
     "start_time": "2024-01-09T00:45:25.506561700Z"
    }
   },
   "outputs": [
    {
     "data": {
      "text/plain": "employer_name\nПятёрочка                    927\nПятерочка                    669\nПерекресток                  324\nБилайн                       261\nJCat.ru                       70\n                            ... \nТорговая группа ПТК            1\nLTG Consulting                 1\nExMail                         1\nАлбаков Руслан Борисович       1\nБалтик Граунд Сервисес РУ      1\nName: count, Length: 13318, dtype: int64"
     },
     "execution_count": 49,
     "metadata": {},
     "output_type": "execute_result"
    }
   ],
   "source": [
    "df['employer_name'].value_counts()"
   ]
  },
  {
   "cell_type": "markdown",
   "id": "984c2c33-9d26-49db-b8f6-81a71aa4b2ce",
   "metadata": {},
   "source": [
    "Во первых, можно увидеть два разных написания \"Пятерочка\", возможно есть другие названия, которые отличаются в одном символе. Посмотрим на верхние 3 значения."
   ]
  },
  {
   "cell_type": "code",
   "execution_count": 111,
   "id": "fa69271e-3917-4d12-9bf7-1c1a055716b1",
   "metadata": {
    "ExecuteTime": {
     "end_time": "2024-01-09T01:36:33.613901Z",
     "start_time": "2024-01-09T01:36:33.410068600Z"
    }
   },
   "outputs": [],
   "source": [
    "import builtins\n",
    "\n",
    "\n",
    "def near_equal(string, pattern):\n",
    "    string1 = string.strip()\n",
    "    string2 = pattern.strip()\n",
    "    max_len = max(len(string1), len(string2))\n",
    "    min_len = builtins.min(len(string1), len(string2))\n",
    "    score = 0\n",
    "    for i in range(0, min_len):\n",
    "        if (string1[i] == string2[i]):\n",
    "            score += 1\n",
    "\n",
    "    return score / max_len"
   ]
  },
  {
   "cell_type": "code",
   "execution_count": 51,
   "id": "f6651e17-b77b-480b-9135-b01f832cba93",
   "metadata": {
    "ExecuteTime": {
     "end_time": "2024-01-09T00:45:26.095042Z",
     "start_time": "2024-01-09T00:45:25.562702900Z"
    }
   },
   "outputs": [],
   "source": [
    "df['employer_name'] = df['employer_name'].apply(lambda x: x.lower())\n",
    "df['employer_name'] = df['employer_name'].apply(lambda x: x.strip())"
   ]
  },
  {
   "cell_type": "code",
   "execution_count": 52,
   "id": "26b2748a-f5d6-4358-8239-8108bb9d0687",
   "metadata": {
    "ExecuteTime": {
     "end_time": "2024-01-09T00:45:26.186103800Z",
     "start_time": "2024-01-09T00:45:25.583264900Z"
    }
   },
   "outputs": [
    {
     "data": {
      "text/plain": "employer_name\nпятёрочка                    927\nпятерочка                    669\nперекресток                  324\nбилайн                       261\njcat.ru                       70\n                            ... \nторговая группа птк            1\nltg consulting                 1\nexmail                         1\nалбаков руслан борисович       1\nбалтик граунд сервисес ру      1\nName: count, Length: 13236, dtype: int64"
     },
     "execution_count": 52,
     "metadata": {},
     "output_type": "execute_result"
    }
   ],
   "source": [
    "df['employer_name'].value_counts()"
   ]
  },
  {
   "cell_type": "code",
   "execution_count": 53,
   "id": "f6506185-35bf-4efb-9ef6-77fcc4a7f9f8",
   "metadata": {
    "ExecuteTime": {
     "end_time": "2024-01-09T00:45:26.284980200Z",
     "start_time": "2024-01-09T00:45:25.619188200Z"
    }
   },
   "outputs": [],
   "source": [
    "df.employer_name = df.employer_name.apply(lambda x: \"пятёрочка\" if near_equal(x, 'пятёрочка') > 0.75 else x)\n",
    "df.employer_name = df.employer_name.apply(lambda x: \"перекресток\" if near_equal(x, 'перекресток') > 0.75 else x)\n",
    "df.employer_name = df.employer_name.apply(lambda x: \"билайн\" if near_equal(x, 'билайн') > 0.75 else x)"
   ]
  },
  {
   "cell_type": "code",
   "execution_count": 54,
   "id": "e428951b-adc0-4e2a-998c-0fc41a86327e",
   "metadata": {
    "ExecuteTime": {
     "end_time": "2024-01-09T00:45:26.411498600Z",
     "start_time": "2024-01-09T00:45:25.914861200Z"
    }
   },
   "outputs": [
    {
     "data": {
      "text/plain": "employer_name\nпятёрочка                    1596\nперекресток                   324\nбилайн                        262\njcat.ru                        70\nskyeng                         63\n                             ... \ndgl group                       1\nкомпания нк-сити                1\nскриптогенератор                1\nбандура дарья алексеевна        1\nбалтик граунд сервисес ру       1\nName: count, Length: 13234, dtype: int64"
     },
     "execution_count": 54,
     "metadata": {},
     "output_type": "execute_result"
    }
   ],
   "source": [
    "df['employer_name'].value_counts()"
   ]
  },
  {
   "cell_type": "markdown",
   "id": "b525f62f-30f0-43d9-81a0-ff820e05d47d",
   "metadata": {},
   "source": [
    "В списке <i>employer_name</i> есть ИП, написанные как ФИО. Заменим их всех на категорию \"personname\""
   ]
  },
  {
   "cell_type": "code",
   "execution_count": 55,
   "id": "af9cfb91-4726-486e-a6a0-f2e5a4964b46",
   "metadata": {
    "ExecuteTime": {
     "end_time": "2024-01-09T00:45:27.889589900Z",
     "start_time": "2024-01-09T00:45:27.705337300Z"
    }
   },
   "outputs": [
    {
     "data": {
      "text/plain": "employer_name\npersonname                        1662\nпятёрочка                         1596\nперекресток                        324\nбилайн                             262\njcat.ru                             70\n                                  ... \nшеф remont                           1\nпатронаж-сити                        1\nагрегатор страхования блайсико       1\nпластполимер-т                       1\nбалтик граунд сервисес ру            1\nName: count, Length: 12055, dtype: int64"
     },
     "execution_count": 55,
     "metadata": {},
     "output_type": "execute_result"
    }
   ],
   "source": [
    "df['employer_name'] = df['employer_name'].apply(lambda x: \"personname\" if x.endswith('вич') or x.endswith('вна') or x.endswith('вич)') or x.endswith('вна)') else x) #or x.startswith('ип') or '(ип ' in x)\n",
    "df['employer_name'].value_counts()"
   ]
  },
  {
   "cell_type": "code",
   "execution_count": 57,
   "id": "37929a3b-6d95-4a3a-a39c-eda43931990c",
   "metadata": {
    "ExecuteTime": {
     "end_time": "2024-01-09T00:45:32.199488200Z",
     "start_time": "2024-01-09T00:45:32.018093100Z"
    }
   },
   "outputs": [],
   "source": [
    "vectorizer_empl = TfidfVectorizer(input='content', encoding='utf-8', \n",
    "                             decode_error='strict', strip_accents=None, lowercase=True,\n",
    "                             preprocessor=None, tokenizer=lambda x: x.split(), analyzer='word',\n",
    "                             stop_words=stop_words+stop_words1, min_df=6, dtype=np.float32, max_features=50,\n",
    "                             token_pattern=r'(?u)\\b\\w\\w\\w\\w+\\b')"
   ]
  },
  {
   "cell_type": "code",
   "execution_count": 58,
   "id": "042ce643-42cc-4070-974a-24fb156858b1",
   "metadata": {
    "ExecuteTime": {
     "end_time": "2024-01-09T00:45:32.866700900Z",
     "start_time": "2024-01-09T00:45:32.652229700Z"
    }
   },
   "outputs": [],
   "source": [
    "df_empl_parsed = vectorizer_empl.fit_transform(df['employer_name'])"
   ]
  },
  {
   "cell_type": "code",
   "execution_count": 59,
   "id": "59f5ac35-97c7-41ee-b38d-43c0b78a676f",
   "metadata": {
    "ExecuteTime": {
     "end_time": "2024-01-09T00:45:33.332184300Z",
     "start_time": "2024-01-09T00:45:33.184240400Z"
    }
   },
   "outputs": [],
   "source": [
    "df = df.drop(columns=['employer_name'])"
   ]
  },
  {
   "cell_type": "markdown",
   "id": "b8666cf0-08ed-4668-9c6e-a5f26d67d7ed",
   "metadata": {},
   "source": [
    "<H2>name</H2>"
   ]
  },
  {
   "cell_type": "markdown",
   "id": "b1f1fa9a-ae75-48dd-a1ae-c72da73b9102",
   "metadata": {},
   "source": [
    "Теперь рассмотрим последний столбец: <i>name</i>"
   ]
  },
  {
   "cell_type": "code",
   "execution_count": 60,
   "id": "7b6381c6-97bc-4758-83e5-39e418e15154",
   "metadata": {
    "ExecuteTime": {
     "end_time": "2024-01-09T00:45:34.620918Z",
     "start_time": "2024-01-09T00:45:34.500532400Z"
    }
   },
   "outputs": [
    {
     "data": {
      "text/plain": "name\nМенеджер по продажам                                   337\nМенеджер по работе с клиентами                         201\nЮрист                                                  162\nПомощник юриста                                        149\nАналитик                                               145\n                                                      ... \nБизнес-аналитик(Внедренец/ Ведущий бизнес-аналитик)      1\nРуководитель департамента коммерческой недвижимости      1\nЛогист- оператор / Грузчик (ТРК Европолис)               1\nUser Acquisition Manager                                 1\nКопирайтер / контент менеджер                            1\nName: count, Length: 16395, dtype: int64"
     },
     "execution_count": 60,
     "metadata": {},
     "output_type": "execute_result"
    }
   ],
   "source": [
    "df['name'].value_counts()"
   ]
  },
  {
   "cell_type": "markdown",
   "id": "4fd2153a-8812-4fdd-9f8a-96768fa39b0d",
   "metadata": {},
   "source": [
    "Сначала преобразуем всё к нижнему регистру:"
   ]
  },
  {
   "cell_type": "code",
   "execution_count": 61,
   "id": "c7743794-e2d2-4a94-ae8d-9accdc97e51f",
   "metadata": {
    "ExecuteTime": {
     "end_time": "2024-01-09T00:45:36.040920200Z",
     "start_time": "2024-01-09T00:45:35.847793600Z"
    }
   },
   "outputs": [
    {
     "data": {
      "text/plain": "name\nменеджер по продажам                                   340\nменеджер по работе с клиентами                         202\nюрист                                                  162\nуборщица/уборщик                                       150\nпомощник юриста                                        149\n                                                      ... \nруководитель департамента коммерческой недвижимости      1\nлогист- оператор / грузчик (трк европолис)               1\nuser acquisition manager                                 1\nконструктор - технолог корпусной мебели                  1\nкопирайтер / контент менеджер                            1\nName: count, Length: 16089, dtype: int64"
     },
     "execution_count": 61,
     "metadata": {},
     "output_type": "execute_result"
    }
   ],
   "source": [
    "df['name'] = df['name'].apply(lambda x: x.lower())\n",
    "df['name'] = df['name'].apply(lambda x: x.strip())\n",
    "df['name'].value_counts()"
   ]
  },
  {
   "cell_type": "code",
   "execution_count": 62,
   "id": "b32151ad-ca6f-4540-a396-61435d0638bf",
   "metadata": {
    "ExecuteTime": {
     "end_time": "2024-01-09T00:45:39.858286200Z",
     "start_time": "2024-01-09T00:45:39.677270200Z"
    }
   },
   "outputs": [],
   "source": [
    "vectorizer_name = TfidfVectorizer(input='content', encoding='utf-8', \n",
    "                             decode_error='strict', strip_accents=None, lowercase=True,\n",
    "                             preprocessor=None, tokenizer=lambda x: x.split(), analyzer='word',\n",
    "                             stop_words=stop_words+stop_words1, min_df=6, dtype=np.float32, max_features=50,\n",
    "                             token_pattern=r'(?u)\\b\\w\\w\\w\\w+\\b')"
   ]
  },
  {
   "cell_type": "code",
   "execution_count": 63,
   "id": "433dd95d-28d5-4cc2-8043-9fa658627a8a",
   "metadata": {
    "ExecuteTime": {
     "end_time": "2024-01-09T00:45:40.444655400Z",
     "start_time": "2024-01-09T00:45:40.131586300Z"
    }
   },
   "outputs": [],
   "source": [
    "df_name_parsed = vectorizer_name.fit_transform(df['name'])"
   ]
  },
  {
   "cell_type": "code",
   "execution_count": 64,
   "id": "25435c3e-3c59-405e-8d0e-f8f5a80d2d97",
   "metadata": {
    "ExecuteTime": {
     "end_time": "2024-01-09T00:45:40.764321Z",
     "start_time": "2024-01-09T00:45:40.674669100Z"
    }
   },
   "outputs": [],
   "source": [
    "df = df.drop(columns=['name'])"
   ]
  },
  {
   "cell_type": "markdown",
   "id": "65a31733-0bed-45d1-9e2a-375791fa1e13",
   "metadata": {},
   "source": [
    "<H1>One-Hotting</H1>"
   ]
  },
  {
   "cell_type": "code",
   "execution_count": 65,
   "id": "77aeddd1-ff08-4849-8c80-b8f19c5158fe",
   "metadata": {
    "ExecuteTime": {
     "end_time": "2024-01-09T00:45:41.460635700Z",
     "start_time": "2024-01-09T00:45:41.341618100Z"
    }
   },
   "outputs": [
    {
     "name": "stdout",
     "output_type": "stream",
     "text": [
      "<class 'pandas.core.frame.DataFrame'>\n",
      "Index: 27934 entries, 29083 to 15795\n",
      "Data columns (total 9 columns):\n",
      " #   Column                    Non-Null Count  Dtype  \n",
      "---  ------                    --------------  -----  \n",
      " 0   has_test                  27934 non-null  bool   \n",
      " 1   response_letter_required  27934 non-null  bool   \n",
      " 2   salary_from               27934 non-null  float64\n",
      " 3   salary_gross              27934 non-null  bool   \n",
      " 4   area_name                 27934 non-null  object \n",
      " 5   salary_to                 27934 non-null  float64\n",
      " 6   published_at_diff         27934 non-null  float64\n",
      " 7   description_exp           27934 non-null  float64\n",
      " 8   description_salary        27934 non-null  float64\n",
      "dtypes: bool(3), float64(5), object(1)\n",
      "memory usage: 2.6+ MB\n"
     ]
    }
   ],
   "source": [
    "df.info()"
   ]
  },
  {
   "cell_type": "markdown",
   "id": "e99f5238-794b-4a60-a846-f978742f9fb5",
   "metadata": {},
   "source": [
    "Сделаем one-hotting категориальных фич:"
   ]
  },
  {
   "cell_type": "code",
   "execution_count": 66,
   "id": "de709b48-cea9-4b61-b3dd-0815eadb5757",
   "metadata": {
    "ExecuteTime": {
     "end_time": "2024-01-09T00:45:42.173555100Z",
     "start_time": "2024-01-09T00:45:41.921069100Z"
    }
   },
   "outputs": [
    {
     "data": {
      "text/plain": "       area_name_Other  area_name_Екатеринбург  area_name_Казань  \\\nid                                                                 \n29083            False                   False             False   \n26052            False                   False             False   \n24055            False                   False             False   \n4408             False                   False             False   \n16856            False                   False             False   \n\n       area_name_Краснодар  area_name_Москва  area_name_Новосибирск  \\\nid                                                                    \n29083                False              True                  False   \n26052                False              True                  False   \n24055                False              True                  False   \n4408                 False              True                  False   \n16856                False              True                  False   \n\n       area_name_Санкт-Петербург  has_test  response_letter_required  \\\nid                                                                     \n29083                      False     False                     False   \n26052                      False     False                     False   \n24055                      False     False                     False   \n4408                       False     False                     False   \n16856                      False     False                      True   \n\n       salary_from  salary_gross area_name  salary_to  published_at_diff  \\\nid                                                                         \n29083      40000.0         False    Москва   200000.0           8.021610   \n26052     120000.0         False    Москва   170000.0           7.709255   \n24055      40000.0         False    Москва   120000.0           8.582645   \n4408       33500.0          True    Москва    38000.0           7.427419   \n16856      30000.0          True    Москва    35000.0           4.053419   \n\n       description_exp  description_salary  \nid                                          \n29083              1.0             40000.0  \n26052              1.0            120000.0  \n24055              2.0             40000.0  \n4408               1.0             33500.0  \n16856              1.0             30000.0  ",
      "text/html": "<div>\n<style scoped>\n    .dataframe tbody tr th:only-of-type {\n        vertical-align: middle;\n    }\n\n    .dataframe tbody tr th {\n        vertical-align: top;\n    }\n\n    .dataframe thead th {\n        text-align: right;\n    }\n</style>\n<table border=\"1\" class=\"dataframe\">\n  <thead>\n    <tr style=\"text-align: right;\">\n      <th></th>\n      <th>area_name_Other</th>\n      <th>area_name_Екатеринбург</th>\n      <th>area_name_Казань</th>\n      <th>area_name_Краснодар</th>\n      <th>area_name_Москва</th>\n      <th>area_name_Новосибирск</th>\n      <th>area_name_Санкт-Петербург</th>\n      <th>has_test</th>\n      <th>response_letter_required</th>\n      <th>salary_from</th>\n      <th>salary_gross</th>\n      <th>area_name</th>\n      <th>salary_to</th>\n      <th>published_at_diff</th>\n      <th>description_exp</th>\n      <th>description_salary</th>\n    </tr>\n    <tr>\n      <th>id</th>\n      <th></th>\n      <th></th>\n      <th></th>\n      <th></th>\n      <th></th>\n      <th></th>\n      <th></th>\n      <th></th>\n      <th></th>\n      <th></th>\n      <th></th>\n      <th></th>\n      <th></th>\n      <th></th>\n      <th></th>\n      <th></th>\n    </tr>\n  </thead>\n  <tbody>\n    <tr>\n      <th>29083</th>\n      <td>False</td>\n      <td>False</td>\n      <td>False</td>\n      <td>False</td>\n      <td>True</td>\n      <td>False</td>\n      <td>False</td>\n      <td>False</td>\n      <td>False</td>\n      <td>40000.0</td>\n      <td>False</td>\n      <td>Москва</td>\n      <td>200000.0</td>\n      <td>8.021610</td>\n      <td>1.0</td>\n      <td>40000.0</td>\n    </tr>\n    <tr>\n      <th>26052</th>\n      <td>False</td>\n      <td>False</td>\n      <td>False</td>\n      <td>False</td>\n      <td>True</td>\n      <td>False</td>\n      <td>False</td>\n      <td>False</td>\n      <td>False</td>\n      <td>120000.0</td>\n      <td>False</td>\n      <td>Москва</td>\n      <td>170000.0</td>\n      <td>7.709255</td>\n      <td>1.0</td>\n      <td>120000.0</td>\n    </tr>\n    <tr>\n      <th>24055</th>\n      <td>False</td>\n      <td>False</td>\n      <td>False</td>\n      <td>False</td>\n      <td>True</td>\n      <td>False</td>\n      <td>False</td>\n      <td>False</td>\n      <td>False</td>\n      <td>40000.0</td>\n      <td>False</td>\n      <td>Москва</td>\n      <td>120000.0</td>\n      <td>8.582645</td>\n      <td>2.0</td>\n      <td>40000.0</td>\n    </tr>\n    <tr>\n      <th>4408</th>\n      <td>False</td>\n      <td>False</td>\n      <td>False</td>\n      <td>False</td>\n      <td>True</td>\n      <td>False</td>\n      <td>False</td>\n      <td>False</td>\n      <td>False</td>\n      <td>33500.0</td>\n      <td>True</td>\n      <td>Москва</td>\n      <td>38000.0</td>\n      <td>7.427419</td>\n      <td>1.0</td>\n      <td>33500.0</td>\n    </tr>\n    <tr>\n      <th>16856</th>\n      <td>False</td>\n      <td>False</td>\n      <td>False</td>\n      <td>False</td>\n      <td>True</td>\n      <td>False</td>\n      <td>False</td>\n      <td>False</td>\n      <td>True</td>\n      <td>30000.0</td>\n      <td>True</td>\n      <td>Москва</td>\n      <td>35000.0</td>\n      <td>4.053419</td>\n      <td>1.0</td>\n      <td>30000.0</td>\n    </tr>\n  </tbody>\n</table>\n</div>"
     },
     "execution_count": 66,
     "metadata": {},
     "output_type": "execute_result"
    }
   ],
   "source": [
    "df_one_hoted = df.copy()\n",
    "\n",
    "#ONE_HOT_COL = ['published_at_diff']\n",
    "ONE_HOT_COL = ['area_name'] #'name', 'employer_name', 'published_at_diff'\n",
    "\n",
    "temp = pd.get_dummies(df_one_hoted[ONE_HOT_COL], prefix=ONE_HOT_COL, dtype=bool)\n",
    "\n",
    "df_one_hoted = pd.concat([temp, df], axis=1)\n",
    "\n",
    "df_one_hoted.head()"
   ]
  },
  {
   "cell_type": "markdown",
   "id": "72b412b4-3e2c-4f90-b090-f577ce526e81",
   "metadata": {},
   "source": [
    "Удалим столбцы:"
   ]
  },
  {
   "cell_type": "code",
   "execution_count": 67,
   "id": "c5ae898b-116b-4f9b-8527-4770431da98b",
   "metadata": {
    "ExecuteTime": {
     "end_time": "2024-01-09T00:45:43.431512900Z",
     "start_time": "2024-01-09T00:45:43.127192100Z"
    }
   },
   "outputs": [],
   "source": [
    "df_one_hoted = df_one_hoted.drop(columns=['area_name'])#, 'name', 'employer_name', 'published_at_diff' ])\n",
    "#df_one_hoted = df_one_hoted.drop(columns=['published_at_diff'])"
   ]
  },
  {
   "cell_type": "code",
   "execution_count": 68,
   "id": "2c7b89ac-fb46-44df-b62f-b3a85fd3250f",
   "metadata": {
    "ExecuteTime": {
     "end_time": "2024-01-09T00:45:44.009919500Z",
     "start_time": "2024-01-09T00:45:43.844217800Z"
    }
   },
   "outputs": [
    {
     "name": "stdout",
     "output_type": "stream",
     "text": [
      "<class 'pandas.core.frame.DataFrame'>\n",
      "Index: 27934 entries, 29083 to 15795\n",
      "Data columns (total 15 columns):\n",
      " #   Column                     Non-Null Count  Dtype  \n",
      "---  ------                     --------------  -----  \n",
      " 0   area_name_Other            27934 non-null  bool   \n",
      " 1   area_name_Екатеринбург     27934 non-null  bool   \n",
      " 2   area_name_Казань           27934 non-null  bool   \n",
      " 3   area_name_Краснодар        27934 non-null  bool   \n",
      " 4   area_name_Москва           27934 non-null  bool   \n",
      " 5   area_name_Новосибирск      27934 non-null  bool   \n",
      " 6   area_name_Санкт-Петербург  27934 non-null  bool   \n",
      " 7   has_test                   27934 non-null  bool   \n",
      " 8   response_letter_required   27934 non-null  bool   \n",
      " 9   salary_from                27934 non-null  float64\n",
      " 10  salary_gross               27934 non-null  bool   \n",
      " 11  salary_to                  27934 non-null  float64\n",
      " 12  published_at_diff          27934 non-null  float64\n",
      " 13  description_exp            27934 non-null  float64\n",
      " 14  description_salary         27934 non-null  float64\n",
      "dtypes: bool(10), float64(5)\n",
      "memory usage: 2.6 MB\n"
     ]
    }
   ],
   "source": [
    "df_one_hoted.info()"
   ]
  },
  {
   "cell_type": "code",
   "execution_count": 69,
   "id": "a2120e04-9997-4a86-90af-086d83dfc2a3",
   "metadata": {
    "ExecuteTime": {
     "end_time": "2024-01-09T00:45:45.008866300Z",
     "start_time": "2024-01-09T00:45:44.858129100Z"
    }
   },
   "outputs": [],
   "source": [
    "df = df_one_hoted"
   ]
  },
  {
   "cell_type": "markdown",
   "id": "d988bea0-d3cf-4a8b-9c42-b1aa82ee6ffa",
   "metadata": {},
   "source": [
    "<H1>Корреляция</H1>"
   ]
  },
  {
   "cell_type": "code",
   "execution_count": null,
   "id": "0602e1f2-46f2-4484-a1b4-f7b41247e788",
   "metadata": {},
   "outputs": [],
   "source": [
    "df.corr().style.background_gradient(cmap='coolwarm')"
   ]
  },
  {
   "cell_type": "code",
   "execution_count": null,
   "id": "295ada70-d5ed-4432-af0f-0fd27bb57b89",
   "metadata": {},
   "outputs": [],
   "source": [
    "#df = df.drop(columns=['description']) #, 'description'\n",
    "#df['salary_from'] = np.log(df['salary_from'])\n",
    "#df['description'] = np.exp(df['description'])"
   ]
  },
  {
   "cell_type": "code",
   "execution_count": null,
   "id": "70debbf1-3d79-444d-8179-84551dc676b7",
   "metadata": {},
   "outputs": [],
   "source": [
    "#df['salary_from']"
   ]
  },
  {
   "cell_type": "markdown",
   "id": "d3d7a313-9806-4e5d-8c78-7c62f3064bd7",
   "metadata": {},
   "source": [
    "<H1>Создание модели</H1>"
   ]
  },
  {
   "cell_type": "code",
   "execution_count": 70,
   "id": "732a2a5d-b659-4a28-8cb1-6a6224d5fa15",
   "metadata": {
    "ExecuteTime": {
     "end_time": "2024-01-09T00:45:48.918841900Z",
     "start_time": "2024-01-09T00:45:48.485796500Z"
    }
   },
   "outputs": [],
   "source": [
    "DESC_COLS = ['desc_' + str(col) for col in vectorizer.get_feature_names_out()]\n",
    "df_desc_parsed1 = pd.DataFrame(df_desc_parsed.toarray(), columns=DESC_COLS, index=df.index)\n",
    "df = df.join(df_desc_parsed1)"
   ]
  },
  {
   "cell_type": "code",
   "execution_count": 71,
   "id": "b2e74582-f5ad-4b61-abd1-2fa8e9857526",
   "metadata": {
    "ExecuteTime": {
     "end_time": "2024-01-09T00:45:49.382135200Z",
     "start_time": "2024-01-09T00:45:48.930089700Z"
    }
   },
   "outputs": [],
   "source": [
    "EMPL_COLS = ['empl_' + str(col) for col in vectorizer_empl.get_feature_names_out()]\n",
    "df_empl_parsed1 = pd.DataFrame(df_empl_parsed.toarray(), columns=EMPL_COLS, index=df.index)\n",
    "df = df.join(df_empl_parsed1)"
   ]
  },
  {
   "cell_type": "code",
   "execution_count": 72,
   "id": "e0c2cf72-ae6b-4892-85ac-397ae569deac",
   "metadata": {
    "ExecuteTime": {
     "end_time": "2024-01-09T00:45:50.191313200Z",
     "start_time": "2024-01-09T00:45:49.197650500Z"
    }
   },
   "outputs": [],
   "source": [
    "NAME_COLS = ['name_' + str(col) for col in vectorizer_name.get_feature_names_out()]\n",
    "df_name_parsed1 = pd.DataFrame(df_name_parsed.toarray(), columns=NAME_COLS, index=df.index)\n",
    "df = df.join(df_name_parsed1)"
   ]
  },
  {
   "cell_type": "code",
   "outputs": [
    {
     "name": "stdout",
     "output_type": "stream",
     "text": [
      "<class 'pandas.core.frame.DataFrame'>\n",
      "Index: 27934 entries, 29083 to 15795\n",
      "Columns: 627 entries, area_name_Other to name_юрист\n",
      "dtypes: bool(10), float32(612), float64(5)\n",
      "memory usage: 67.8 MB\n"
     ]
    }
   ],
   "source": [
    "df.info()"
   ],
   "metadata": {
    "collapsed": false,
    "ExecuteTime": {
     "end_time": "2024-01-09T00:45:50.598350100Z",
     "start_time": "2024-01-09T00:45:50.156312300Z"
    }
   },
   "id": "80262ea4e756bc58",
   "execution_count": 73
  },
  {
   "cell_type": "code",
   "execution_count": 74,
   "id": "0155bdd9-5dc2-4592-8991-539ce8c283c5",
   "metadata": {
    "ExecuteTime": {
     "end_time": "2024-01-09T00:45:50.807941400Z",
     "start_time": "2024-01-09T00:45:50.243278600Z"
    }
   },
   "outputs": [],
   "source": [
    "from sklearn.model_selection import train_test_split\n",
    "\n",
    "\n",
    "#df_sampled = df.sample(20_000)\n",
    "\n",
    "X_train, X_test, y_train, y_test = train_test_split(df.drop(columns='salary_to'), df.salary_to, test_size=0.3, random_state=123456)"
   ]
  },
  {
   "cell_type": "code",
   "execution_count": 75,
   "id": "ce3cdbaf-b6e5-44a5-bd9d-b58c9964c3d1",
   "metadata": {
    "ExecuteTime": {
     "end_time": "2024-01-09T00:45:50.983078600Z",
     "start_time": "2024-01-09T00:45:50.667912400Z"
    }
   },
   "outputs": [],
   "source": [
    "def smape(A, F):\n",
    "    return 100/len(A) * np.sum(2 * np.abs(F - A) / (np.abs(A) + np.abs(F)))"
   ]
  },
  {
   "cell_type": "code",
   "execution_count": 76,
   "id": "d78eb886-9c99-4691-ab6b-b93e5591d7a3",
   "metadata": {
    "ExecuteTime": {
     "end_time": "2024-01-09T00:46:56.232444600Z",
     "start_time": "2024-01-09T00:45:53.392714700Z"
    }
   },
   "outputs": [
    {
     "name": "stdout",
     "output_type": "stream",
     "text": [
      "SMAPE train: 17.72055610953902, SMAPE test: 23.24558960481331\n",
      "CPU times: total: 6min 57s\n",
      "Wall time: 1min 2s\n"
     ]
    }
   ],
   "source": [
    "%%time\n",
    "from xgboost import XGBRegressor\n",
    "import xgboost as xgb\n",
    "from sklearn.metrics import mean_absolute_error, mean_squared_error, mean_absolute_percentage_error\n",
    "\n",
    "dtrain_reg = xgb.DMatrix(X_train, y_train)\n",
    "dtest_reg = xgb.DMatrix(X_test, y_test)\n",
    "\n",
    "params = {\n",
    "    'objective' : 'reg:quantileerror',\n",
    "    'quantile_alpha' : 0.5,\n",
    "    #'huber_slope' : 512.0,\n",
    "    #'tweedie_variance_power' : 1.99,\n",
    "    'verbosity' : 2,\n",
    "    #'subsample' : 0.5\n",
    "}\n",
    "\n",
    "n=500\n",
    "xg_model = xgb.train(\n",
    "    params=params,\n",
    "    dtrain=dtrain_reg,\n",
    "    num_boost_round=n,\n",
    ")\n",
    "\n",
    "#xg_model = XGBRegressor()\n",
    "#xg_model.fit(X_train, y_train)\n",
    "\n",
    "y_pred_train = xg_model.predict(dtrain_reg)\n",
    "y_pred_test = xg_model.predict(dtest_reg)\n",
    "\n",
    "print(f'SMAPE train: {smape(y_train, y_pred_train)}, SMAPE test: {smape(y_test, y_pred_test)}')"
   ]
  },
  {
   "cell_type": "code",
   "outputs": [
    {
     "name": "stdout",
     "output_type": "stream",
     "text": [
      "SMAPE train: 17.21164461684403, SMAPE test: 23.143450546746347\n"
     ]
    }
   ],
   "source": [
    "n=100\n",
    "xg_model1 = xgb.train(\n",
    "    params=params,\n",
    "    dtrain=dtrain_reg,\n",
    "    num_boost_round=n,\n",
    "    xgb_model = xg_model\n",
    ")\n",
    "\n",
    "y_pred_train = xg_model1.predict(dtrain_reg)\n",
    "y_pred_test = xg_model1.predict(dtest_reg)\n",
    "\n",
    "print(f'SMAPE train: {smape(y_train, y_pred_train)}, SMAPE test: {smape(y_test, y_pred_test)}')"
   ],
   "metadata": {
    "collapsed": false,
    "ExecuteTime": {
     "end_time": "2024-01-09T00:47:43.450702900Z",
     "start_time": "2024-01-09T00:47:30.696653Z"
    }
   },
   "id": "bc3a917f5b8caea6",
   "execution_count": 77
  },
  {
   "cell_type": "code",
   "outputs": [
    {
     "name": "stdout",
     "output_type": "stream",
     "text": [
      "SMAPE train: 15.199219585169597, SMAPE test: 22.96220241965318\n"
     ]
    }
   ],
   "source": [
    "n=500\n",
    "xg_model2 = xgb.train(\n",
    "    params=params,\n",
    "    dtrain=dtrain_reg,\n",
    "    num_boost_round=n,\n",
    "    xgb_model = xg_model1\n",
    ")\n",
    "\n",
    "y_pred_train = xg_model2.predict(dtrain_reg)\n",
    "y_pred_test = xg_model2.predict(dtest_reg)\n",
    "\n",
    "print(f'SMAPE train: {smape(y_train, y_pred_train)}, SMAPE test: {smape(y_test, y_pred_test)}')"
   ],
   "metadata": {
    "collapsed": false,
    "ExecuteTime": {
     "end_time": "2024-01-09T00:48:43.066932700Z",
     "start_time": "2024-01-09T00:47:43.442086600Z"
    }
   },
   "id": "5130d29a97c21118",
   "execution_count": 78
  },
  {
   "cell_type": "code",
   "outputs": [
    {
     "name": "stdout",
     "output_type": "stream",
     "text": [
      "SMAPE train: 9.646450845898894, SMAPE test: 22.76731321959238\n"
     ]
    }
   ],
   "source": [
    "n=5000\n",
    "xg_model3 = xgb.train(\n",
    "    params=params,\n",
    "    dtrain=dtrain_reg,\n",
    "    num_boost_round=n,\n",
    "    xgb_model = xg_model2\n",
    ")\n",
    "\n",
    "y_pred_train = xg_model3.predict(dtrain_reg)\n",
    "y_pred_test = xg_model3.predict(dtest_reg)\n",
    "\n",
    "print(f'SMAPE train: {smape(y_train, y_pred_train)}, SMAPE test: {smape(y_test, y_pred_test)}')"
   ],
   "metadata": {
    "collapsed": false,
    "ExecuteTime": {
     "end_time": "2024-01-09T00:57:52.923011100Z",
     "start_time": "2024-01-09T00:48:51.565171700Z"
    }
   },
   "id": "dd69b247a0cc97ac",
   "execution_count": 79
  },
  {
   "cell_type": "code",
   "outputs": [
    {
     "name": "stdout",
     "output_type": "stream",
     "text": [
      "SMAPE train: 9.646450845898894, SMAPE test: 22.76731321959238\n"
     ]
    }
   ],
   "source": [
    "y_pred_train = xg_model3.predict(dtrain_reg)\n",
    "y_pred_test = xg_model3.predict(dtest_reg)\n",
    "\n",
    "print(f'SMAPE train: {smape(y_train, y_pred_train)}, SMAPE test: {smape(y_test, y_pred_test)}')"
   ],
   "metadata": {
    "collapsed": false,
    "ExecuteTime": {
     "end_time": "2024-01-09T03:12:53.513259100Z",
     "start_time": "2024-01-09T03:12:53.239005300Z"
    }
   },
   "id": "540d0c28e7032a2f",
   "execution_count": 136
  },
  {
   "cell_type": "code",
   "outputs": [
    {
     "name": "stdout",
     "output_type": "stream",
     "text": [
      "SMAPE train: 0.14146840071916772, SMAPE test: 21.114421517857917\n",
      "CPU times: total: 46min 46s\n",
      "Wall time: 6min 34s\n"
     ]
    }
   ],
   "source": [
    "%%time\n",
    "params_v2 = {\n",
    "    'objective' : 'reg:tweedie',\n",
    "    #'quantile_alpha' : 0.5,\n",
    "    #'huber_slope' : 512.0,\n",
    "    'tweedie_variance_power' : 1.99,\n",
    "    'verbosity' : 2,\n",
    "    #'subsample' : 0.5\n",
    "}\n",
    "\n",
    "n=5000\n",
    "xg_model_v2 = xgb.train(\n",
    "    params=params_v2,\n",
    "    dtrain=dtrain_reg,\n",
    "    num_boost_round=n,\n",
    ")\n",
    "\n",
    "y_pred_train2 = xg_model_v2.predict(dtrain_reg)\n",
    "y_pred_test2 = xg_model_v2.predict(dtest_reg)\n",
    "\n",
    "print(f'SMAPE train: {smape(y_train, y_pred_train2)}, SMAPE test: {smape(y_test, y_pred_test2)}')"
   ],
   "metadata": {
    "collapsed": false,
    "ExecuteTime": {
     "end_time": "2024-01-09T01:04:27.696767500Z",
     "start_time": "2024-01-09T00:57:52.923075800Z"
    }
   },
   "id": "1c825b1a1ca94686",
   "execution_count": 80
  },
  {
   "cell_type": "code",
   "outputs": [
    {
     "name": "stdout",
     "output_type": "stream",
     "text": [
      "SMAPE train: 0.14146840071916772, SMAPE test: 21.114421517857917\n"
     ]
    }
   ],
   "source": [
    "y_pred_train2 = xg_model_v2.predict(dtrain_reg)\n",
    "y_pred_test2 = xg_model_v2.predict(dtest_reg)\n",
    "\n",
    "print(f'SMAPE train: {smape(y_train, y_pred_train2)}, SMAPE test: {smape(y_test, y_pred_test2)}')"
   ],
   "metadata": {
    "collapsed": false,
    "ExecuteTime": {
     "end_time": "2024-01-09T03:12:33.542027200Z",
     "start_time": "2024-01-09T03:12:33.280974200Z"
    }
   },
   "id": "fc695b29ea67e9fe",
   "execution_count": 135
  },
  {
   "cell_type": "code",
   "execution_count": null,
   "id": "3fcae64d-5a3d-4651-ade3-03f22c426451",
   "metadata": {},
   "outputs": [],
   "source": [
    "xg_model2.score(X_test, y_test)"
   ]
  },
  {
   "cell_type": "code",
   "execution_count": null,
   "id": "e6e9045b-e4f5-478d-9e01-a848bb8aaeec",
   "metadata": {},
   "outputs": [],
   "source": [
    "importances1 = dict(zip(xg_model.feature_names_in_, xg_model.feature_importances_))\n",
    "importances1 = {k: v for k,v in sorted(importances1.items(), key=lambda x: x[1], reverse=True)}\n",
    "importances1"
   ]
  },
  {
   "cell_type": "code",
   "execution_count": null,
   "id": "e87bded3-c883-4b65-9c86-909763014379",
   "metadata": {},
   "outputs": [],
   "source": [
    "%%time\n",
    "from sklearn.ensemble import RandomForestRegressor\n",
    "from sklearn.metrics import mean_absolute_error, mean_squared_error, mean_absolute_percentage_error\n",
    "\n",
    "\n",
    "model_rf = RandomForestRegressor(n_estimators=10, max_depth=32,  random_state=123458)#, criterion='friedman_mse') #min_samples_split=3,\n",
    "model_rf.fit(X_train, y_train)\n",
    "\n",
    "y_pred_train2 = model_rf.predict(X_train)\n",
    "y_pred_test2 = model_rf.predict(X_test)\n",
    "\n",
    "print(f'SMAPE train: {smape(y_train, y_pred_train2)}, SMAPE test: {smape(y_test, y_pred_test2)}')"
   ]
  },
  {
   "cell_type": "code",
   "execution_count": null,
   "id": "1a533182-79b3-47a9-b000-9828c3f856e3",
   "metadata": {},
   "outputs": [],
   "source": [
    "model.score(X_train, y_train)"
   ]
  },
  {
   "cell_type": "code",
   "execution_count": null,
   "id": "fb77978e-544d-4a36-b085-ee72378c6a46",
   "metadata": {},
   "outputs": [],
   "source": [
    "model.score(X_test, y_test)"
   ]
  },
  {
   "cell_type": "code",
   "execution_count": null,
   "id": "a6f8dc1a-f9a1-44f9-87ed-5d00823aee49",
   "metadata": {},
   "outputs": [],
   "source": [
    "importances = dict(zip(model.feature_names_in_, model.feature_importances_))\n",
    "importances = {k: v for k,v in sorted(importances.items(), key=lambda x: x[1], reverse=True)}"
   ]
  },
  {
   "cell_type": "code",
   "execution_count": null,
   "id": "1cac0b44-4038-4f78-93ba-01314a0e0ce0",
   "metadata": {},
   "outputs": [],
   "source": [
    "importances"
   ]
  },
  {
   "cell_type": "code",
   "execution_count": 83,
   "id": "a1d01fd3-9d3d-4ada-a838-8edc0d027525",
   "metadata": {
    "ExecuteTime": {
     "end_time": "2024-01-09T01:32:10.766088Z",
     "start_time": "2024-01-09T01:10:37.415442Z"
    }
   },
   "outputs": [
    {
     "name": "stdout",
     "output_type": "stream",
     "text": [
      "0:\tlearn: 54.7247650\ttest: 54.8566623\tbest: 54.8566623 (0)\ttotal: 45.8ms\tremaining: 22m 54s\n",
      "500:\tlearn: 23.4795111\ttest: 25.1419443\tbest: 25.1419443 (500)\ttotal: 22.8s\tremaining: 22m 23s\n",
      "1000:\tlearn: 21.3793800\ttest: 24.0400148\tbest: 24.0400148 (1000)\ttotal: 45.4s\tremaining: 21m 56s\n",
      "1500:\tlearn: 20.0263268\ttest: 23.5271018\tbest: 23.5269392 (1499)\ttotal: 1m 8s\tremaining: 21m 42s\n",
      "2000:\tlearn: 19.0058502\ttest: 23.2128796\tbest: 23.2128796 (2000)\ttotal: 1m 27s\tremaining: 20m 30s\n",
      "2500:\tlearn: 18.1609105\ttest: 22.9465058\tbest: 22.9465058 (2500)\ttotal: 1m 44s\tremaining: 19m 12s\n",
      "3000:\tlearn: 17.3892343\ttest: 22.7364053\tbest: 22.7364053 (3000)\ttotal: 2m 2s\tremaining: 18m 18s\n",
      "3500:\tlearn: 16.7380485\ttest: 22.6102297\tbest: 22.6102297 (3500)\ttotal: 2m 18s\tremaining: 17m 30s\n",
      "4000:\tlearn: 16.1933435\ttest: 22.4953710\tbest: 22.4950534 (3999)\ttotal: 2m 36s\tremaining: 16m 56s\n",
      "4500:\tlearn: 15.5341324\ttest: 22.3683213\tbest: 22.3680857 (4499)\ttotal: 2m 53s\tremaining: 16m 21s\n",
      "5000:\tlearn: 14.9396086\ttest: 22.2461012\tbest: 22.2461012 (5000)\ttotal: 3m 10s\tremaining: 15m 51s\n",
      "5500:\tlearn: 14.3130435\ttest: 22.1189241\tbest: 22.1187639 (5497)\ttotal: 3m 27s\tremaining: 15m 23s\n",
      "6000:\tlearn: 13.8222895\ttest: 22.0477214\tbest: 22.0476103 (5996)\ttotal: 3m 44s\tremaining: 14m 56s\n",
      "6500:\tlearn: 13.2798014\ttest: 21.9451227\tbest: 21.9439597 (6494)\ttotal: 4m\tremaining: 14m 31s\n",
      "7000:\tlearn: 12.8783126\ttest: 21.8994935\tbest: 21.8993620 (6999)\ttotal: 4m 17s\tremaining: 14m 7s\n",
      "7500:\tlearn: 12.4984196\ttest: 21.8179283\tbest: 21.8179283 (7500)\ttotal: 4m 34s\tremaining: 13m 43s\n",
      "8000:\tlearn: 12.0512572\ttest: 21.7511111\tbest: 21.7467837 (7961)\ttotal: 4m 51s\tremaining: 13m 21s\n",
      "8500:\tlearn: 11.6121778\ttest: 21.7002257\tbest: 21.7000532 (8499)\ttotal: 5m 8s\tremaining: 13m\n",
      "9000:\tlearn: 11.1731464\ttest: 21.6088158\tbest: 21.6088158 (9000)\ttotal: 5m 25s\tremaining: 12m 39s\n",
      "9500:\tlearn: 10.7346430\ttest: 21.5322759\tbest: 21.5315417 (9499)\ttotal: 5m 42s\tremaining: 12m 18s\n",
      "10000:\tlearn: 10.3577279\ttest: 21.5075782\tbest: 21.5075782 (10000)\ttotal: 5m 59s\tremaining: 11m 59s\n",
      "10500:\tlearn: 10.0239516\ttest: 21.4829895\tbest: 21.4812891 (10491)\ttotal: 6m 20s\tremaining: 11m 47s\n",
      "11000:\tlearn: 9.7037670\ttest: 21.4403581\tbest: 21.4402839 (10999)\ttotal: 6m 41s\tremaining: 11m 33s\n",
      "11500:\tlearn: 9.3980487\ttest: 21.3966009\tbest: 21.3959012 (11493)\ttotal: 7m 3s\tremaining: 11m 21s\n",
      "12000:\tlearn: 9.1172583\ttest: 21.3782387\tbest: 21.3782387 (12000)\ttotal: 7m 26s\tremaining: 11m 8s\n",
      "12500:\tlearn: 8.8603100\ttest: 21.3587482\tbest: 21.3572618 (12492)\ttotal: 7m 48s\tremaining: 10m 55s\n",
      "13000:\tlearn: 8.6028124\ttest: 21.3385468\tbest: 21.3380512 (12973)\ttotal: 8m 10s\tremaining: 10m 41s\n",
      "13500:\tlearn: 8.3755714\ttest: 21.3209641\tbest: 21.3208270 (13292)\ttotal: 8m 33s\tremaining: 10m 27s\n",
      "14000:\tlearn: 8.1611133\ttest: 21.2988585\tbest: 21.2953769 (13957)\ttotal: 8m 55s\tremaining: 10m 11s\n",
      "14500:\tlearn: 7.9487098\ttest: 21.2966986\tbest: 21.2953769 (13957)\ttotal: 9m 18s\tremaining: 9m 56s\n",
      "15000:\tlearn: 7.7342873\ttest: 21.2795040\tbest: 21.2747295 (14801)\ttotal: 9m 40s\tremaining: 9m 40s\n",
      "15500:\tlearn: 7.5376120\ttest: 21.2567733\tbest: 21.2547924 (15476)\ttotal: 10m 3s\tremaining: 9m 24s\n",
      "16000:\tlearn: 7.3470410\ttest: 21.2216045\tbest: 21.2215426 (15998)\ttotal: 10m 26s\tremaining: 9m 8s\n",
      "16500:\tlearn: 7.1649713\ttest: 21.2155100\tbest: 21.2140794 (16126)\ttotal: 10m 52s\tremaining: 8m 53s\n",
      "17000:\tlearn: 6.9925715\ttest: 21.2226399\tbest: 21.2059260 (16569)\ttotal: 11m 18s\tremaining: 8m 38s\n",
      "17500:\tlearn: 6.8213564\ttest: 21.2028639\tbest: 21.2028639 (17500)\ttotal: 11m 46s\tremaining: 8m 24s\n",
      "18000:\tlearn: 6.6824534\ttest: 21.2044709\tbest: 21.1985453 (17592)\ttotal: 12m 9s\tremaining: 8m 6s\n",
      "18500:\tlearn: 6.5274174\ttest: 21.1899254\tbest: 21.1894377 (18494)\ttotal: 12m 33s\tremaining: 7m 48s\n",
      "19000:\tlearn: 6.3904999\ttest: 21.1909272\tbest: 21.1849929 (18675)\ttotal: 12m 56s\tremaining: 7m 29s\n",
      "19500:\tlearn: 6.2549093\ttest: 21.1890736\tbest: 21.1802233 (19443)\ttotal: 13m 19s\tremaining: 7m 10s\n",
      "20000:\tlearn: 6.1287444\ttest: 21.1884775\tbest: 21.1802233 (19443)\ttotal: 13m 42s\tremaining: 6m 51s\n",
      "20500:\tlearn: 6.0044054\ttest: 21.1827896\tbest: 21.1802233 (19443)\ttotal: 14m 6s\tremaining: 6m 32s\n",
      "21000:\tlearn: 5.8911695\ttest: 21.1735147\tbest: 21.1731931 (20884)\ttotal: 14m 30s\tremaining: 6m 12s\n",
      "21500:\tlearn: 5.7793189\ttest: 21.1677494\tbest: 21.1614946 (21373)\ttotal: 14m 53s\tremaining: 5m 53s\n",
      "22000:\tlearn: 5.6718998\ttest: 21.1589346\tbest: 21.1563849 (21905)\ttotal: 15m 16s\tremaining: 5m 33s\n",
      "22500:\tlearn: 5.5750842\ttest: 21.1546315\tbest: 21.1497516 (22204)\ttotal: 15m 39s\tremaining: 5m 13s\n",
      "23000:\tlearn: 5.4755424\ttest: 21.1526239\tbest: 21.1488140 (22859)\ttotal: 16m 2s\tremaining: 4m 52s\n",
      "23500:\tlearn: 5.3863388\ttest: 21.1548442\tbest: 21.1488140 (22859)\ttotal: 16m 25s\tremaining: 4m 32s\n",
      "24000:\tlearn: 5.2988308\ttest: 21.1565809\tbest: 21.1488140 (22859)\ttotal: 16m 48s\tremaining: 4m 12s\n",
      "24500:\tlearn: 5.1857391\ttest: 21.1605078\tbest: 21.1488140 (22859)\ttotal: 17m 10s\tremaining: 3m 51s\n",
      "25000:\tlearn: 5.0882951\ttest: 21.1593365\tbest: 21.1488140 (22859)\ttotal: 17m 33s\tremaining: 3m 30s\n",
      "25500:\tlearn: 5.0083368\ttest: 21.1617145\tbest: 21.1488140 (22859)\ttotal: 17m 56s\tremaining: 3m 9s\n",
      "26000:\tlearn: 4.9211057\ttest: 21.1723384\tbest: 21.1488140 (22859)\ttotal: 18m 18s\tremaining: 2m 49s\n",
      "26500:\tlearn: 4.8340168\ttest: 21.1631532\tbest: 21.1488140 (22859)\ttotal: 18m 41s\tremaining: 2m 28s\n",
      "27000:\tlearn: 4.7492751\ttest: 21.1589067\tbest: 21.1488140 (22859)\ttotal: 19m 4s\tremaining: 2m 7s\n",
      "27500:\tlearn: 4.6694583\ttest: 21.1546143\tbest: 21.1488140 (22859)\ttotal: 19m 26s\tremaining: 1m 46s\n",
      "28000:\tlearn: 4.6027942\ttest: 21.1654144\tbest: 21.1488140 (22859)\ttotal: 19m 49s\tremaining: 1m 24s\n",
      "28500:\tlearn: 4.5230239\ttest: 21.1771805\tbest: 21.1488140 (22859)\ttotal: 20m 12s\tremaining: 1m 3s\n",
      "29000:\tlearn: 4.4515213\ttest: 21.1804024\tbest: 21.1488140 (22859)\ttotal: 20m 35s\tremaining: 42.6s\n",
      "29500:\tlearn: 4.3756317\ttest: 21.1772871\tbest: 21.1488140 (22859)\ttotal: 20m 57s\tremaining: 21.3s\n",
      "29999:\tlearn: 4.3046490\ttest: 21.1799302\tbest: 21.1488140 (22859)\ttotal: 21m 19s\tremaining: 0us\n",
      "\n",
      "bestTest = 21.14881403\n",
      "bestIteration = 22859\n",
      "\n",
      "Shrink model to first 22860 iterations.\n",
      "SMAPE train: 5.499513653414808, SMAPE test: 21.148814027560743\n",
      "CPU times: total: 1h 33min 38s\n",
      "Wall time: 21min 33s\n"
     ]
    }
   ],
   "source": [
    "%%time\n",
    "from catboost import CatBoostRegressor\n",
    "\n",
    "\n",
    "cat_model = CatBoostRegressor(loss_function='MAE', eval_metric='SMAPE', \n",
    "                              depth=8, iterations = 30000, random_state=999999,\n",
    "                              rsm=0.03)#, learning_rate=0.01)\n",
    "                              #grow_policy='Depthwise')\n",
    "                              #learning_rate=0.5)\n",
    "                              #bootstrap_type='MVS', mvs_reg=20, subsample=0.8,\n",
    "                              #min_data_in_leaf=3, rsm=0.5)\n",
    "cat_model.fit(X_train, \n",
    "              y_train,\n",
    "              verbose=500,\n",
    "              eval_set=(X_test, y_test),\n",
    "              use_best_model=True,  \n",
    ")\n",
    "\n",
    "y_pred_train1 = cat_model.predict(X_train)\n",
    "y_pred_test1 = cat_model.predict(X_test)\n",
    "\n",
    "print(f'SMAPE train: {smape(y_train, y_pred_train1)}, SMAPE test: {smape(y_test, y_pred_test1)}')"
   ]
  },
  {
   "cell_type": "code",
   "outputs": [
    {
     "name": "stdout",
     "output_type": "stream",
     "text": [
      "SMAPE train: 5.499513653414808, SMAPE test: 21.148814027560743\n"
     ]
    }
   ],
   "source": [
    "y_pred_train1 = cat_model.predict(X_train)\n",
    "y_pred_test1 = cat_model.predict(X_test)\n",
    "\n",
    "print(f'SMAPE train: {smape(y_train, y_pred_train1)}, SMAPE test: {smape(y_test, y_pred_test1)}')"
   ],
   "metadata": {
    "collapsed": false,
    "ExecuteTime": {
     "end_time": "2024-01-09T03:13:12.207982500Z",
     "start_time": "2024-01-09T03:13:10.568675Z"
    }
   },
   "id": "8ab78c76706ce03",
   "execution_count": 137
  },
  {
   "cell_type": "code",
   "execution_count": 84,
   "id": "798a8bbf-6212-4779-9fae-afe2b67c66fc",
   "metadata": {
    "ExecuteTime": {
     "end_time": "2024-01-09T01:32:14.973715300Z",
     "start_time": "2024-01-09T01:32:14.584220900Z"
    }
   },
   "outputs": [
    {
     "data": {
      "text/plain": "0.5628741667043045"
     },
     "execution_count": 84,
     "metadata": {},
     "output_type": "execute_result"
    }
   ],
   "source": [
    "cat_model.score(X_test, y_test)"
   ]
  },
  {
   "cell_type": "code",
   "execution_count": null,
   "id": "4cf2a879-de1e-47d9-94f3-4ccbff8b853d",
   "metadata": {},
   "outputs": [],
   "source": [
    "importances1 = dict(zip(cat_model.feature_names_, cat_model.feature_importances_))\n",
    "importances1 = {k: v for k,v in sorted(importances1.items(), key=lambda x: x[1], reverse=True)}"
   ]
  },
  {
   "cell_type": "code",
   "execution_count": null,
   "id": "50c6655f-09a0-4572-891c-f474ec2ca1d3",
   "metadata": {},
   "outputs": [],
   "source": [
    "importances1"
   ]
  },
  {
   "cell_type": "code",
   "outputs": [
    {
     "name": "stdout",
     "output_type": "stream",
     "text": [
      "0:\tlearn: 54.8366046\ttest: 54.9812319\tbest: 54.9812319 (0)\ttotal: 136ms\tremaining: 1h 8m 13s\n",
      "500:\tlearn: 23.8202583\ttest: 25.4813795\tbest: 25.4813795 (500)\ttotal: 16.2s\tremaining: 15m 53s\n",
      "1000:\tlearn: 21.3520354\ttest: 24.1053000\tbest: 24.1053000 (1000)\ttotal: 33.2s\tremaining: 16m 3s\n",
      "1500:\tlearn: 19.9317044\ttest: 23.4964685\tbest: 23.4964685 (1500)\ttotal: 57.1s\tremaining: 18m 3s\n",
      "2000:\tlearn: 18.6867689\ttest: 23.0599809\tbest: 23.0599809 (2000)\ttotal: 1m 24s\tremaining: 19m 39s\n",
      "2500:\tlearn: 17.7125750\ttest: 22.7660966\tbest: 22.7647156 (2494)\ttotal: 1m 49s\tremaining: 20m 3s\n",
      "3000:\tlearn: 16.9083389\ttest: 22.5549028\tbest: 22.5549028 (3000)\ttotal: 2m 15s\tremaining: 20m 16s\n",
      "3500:\tlearn: 16.0172268\ttest: 22.3352071\tbest: 22.3350096 (3499)\ttotal: 2m 39s\tremaining: 20m 9s\n",
      "4000:\tlearn: 15.2655884\ttest: 22.1495677\tbest: 22.1495677 (4000)\ttotal: 3m 2s\tremaining: 19m 49s\n",
      "4500:\tlearn: 14.5314675\ttest: 21.9660602\tbest: 21.9660602 (4500)\ttotal: 3m 21s\tremaining: 19m 1s\n",
      "5000:\tlearn: 13.8480137\ttest: 21.8569345\tbest: 21.8515129 (4951)\ttotal: 3m 38s\tremaining: 18m 12s\n",
      "5500:\tlearn: 13.2105003\ttest: 21.7351179\tbest: 21.7351179 (5500)\ttotal: 3m 55s\tremaining: 17m 27s\n",
      "6000:\tlearn: 12.6159587\ttest: 21.6110498\tbest: 21.6110498 (6000)\ttotal: 4m 17s\tremaining: 17m 11s\n",
      "6500:\tlearn: 12.1109742\ttest: 21.5738089\tbest: 21.5726249 (6498)\ttotal: 4m 36s\tremaining: 16m 40s\n",
      "7000:\tlearn: 11.6243825\ttest: 21.5020072\tbest: 21.5016199 (6995)\ttotal: 4m 55s\tremaining: 16m 11s\n",
      "7500:\tlearn: 11.1746665\ttest: 21.4536073\tbest: 21.4533154 (7496)\ttotal: 5m 12s\tremaining: 15m 35s\n",
      "8000:\tlearn: 10.7430450\ttest: 21.3809215\tbest: 21.3805796 (7994)\ttotal: 5m 28s\tremaining: 15m 2s\n",
      "8500:\tlearn: 10.3463278\ttest: 21.3142727\tbest: 21.3137785 (8489)\ttotal: 5m 45s\tremaining: 14m 32s\n",
      "9000:\tlearn: 10.0061481\ttest: 21.2769207\tbest: 21.2758916 (8997)\ttotal: 6m 1s\tremaining: 14m 3s\n",
      "9500:\tlearn: 9.6569954\ttest: 21.2203190\tbest: 21.2195418 (9492)\ttotal: 6m 19s\tremaining: 13m 39s\n",
      "10000:\tlearn: 9.3474659\ttest: 21.1801145\tbest: 21.1800656 (9996)\ttotal: 6m 41s\tremaining: 13m 22s\n",
      "10500:\tlearn: 9.0588138\ttest: 21.1511922\tbest: 21.1511922 (10500)\ttotal: 6m 58s\tremaining: 12m 56s\n",
      "11000:\tlearn: 8.7936642\ttest: 21.1392920\tbest: 21.1383293 (10852)\ttotal: 7m 14s\tremaining: 12m 30s\n",
      "11500:\tlearn: 8.5244401\ttest: 21.1244446\tbest: 21.1239556 (11498)\ttotal: 7m 30s\tremaining: 12m 5s\n",
      "12000:\tlearn: 8.2652137\ttest: 21.0747535\tbest: 21.0747535 (12000)\ttotal: 7m 47s\tremaining: 11m 40s\n",
      "12500:\tlearn: 8.0165670\ttest: 21.0553959\tbest: 21.0532775 (12459)\ttotal: 8m 3s\tremaining: 11m 17s\n",
      "13000:\tlearn: 7.8144982\ttest: 21.0433878\tbest: 21.0412885 (12982)\ttotal: 8m 20s\tremaining: 10m 54s\n",
      "13500:\tlearn: 7.5904783\ttest: 21.0356495\tbest: 21.0356495 (13500)\ttotal: 8m 37s\tremaining: 10m 31s\n",
      "14000:\tlearn: 7.3959948\ttest: 21.0299559\tbest: 21.0232894 (13799)\ttotal: 8m 53s\tremaining: 10m 9s\n",
      "14500:\tlearn: 7.1978842\ttest: 21.0223667\tbest: 21.0174206 (14433)\ttotal: 9m 9s\tremaining: 9m 47s\n",
      "15000:\tlearn: 7.0154200\ttest: 21.0116736\tbest: 21.0086999 (14959)\ttotal: 9m 26s\tremaining: 9m 26s\n",
      "15500:\tlearn: 6.8466213\ttest: 20.9895169\tbest: 20.9895169 (15500)\ttotal: 9m 43s\tremaining: 9m 5s\n",
      "16000:\tlearn: 6.6859679\ttest: 21.0020614\tbest: 20.9857415 (15563)\ttotal: 9m 59s\tremaining: 8m 44s\n",
      "16500:\tlearn: 6.5276879\ttest: 20.9954688\tbest: 20.9857415 (15563)\ttotal: 10m 15s\tremaining: 8m 23s\n",
      "17000:\tlearn: 6.3859288\ttest: 20.9905629\tbest: 20.9857415 (15563)\ttotal: 10m 32s\tremaining: 8m 3s\n",
      "17500:\tlearn: 6.2366199\ttest: 20.9823759\tbest: 20.9814635 (17455)\ttotal: 10m 48s\tremaining: 7m 43s\n",
      "18000:\tlearn: 6.1070560\ttest: 20.9697456\tbest: 20.9691302 (17967)\ttotal: 11m 5s\tremaining: 7m 23s\n",
      "18500:\tlearn: 5.9629628\ttest: 20.9535633\tbest: 20.9531402 (18456)\ttotal: 11m 22s\tremaining: 7m 4s\n",
      "19000:\tlearn: 5.8261218\ttest: 20.9547609\tbest: 20.9486921 (18606)\ttotal: 11m 39s\tremaining: 6m 44s\n",
      "19500:\tlearn: 5.7165178\ttest: 20.9510963\tbest: 20.9484824 (19474)\ttotal: 11m 55s\tremaining: 6m 25s\n",
      "20000:\tlearn: 5.6070312\ttest: 20.9445634\tbest: 20.9429206 (19953)\ttotal: 12m 12s\tremaining: 6m 6s\n",
      "20500:\tlearn: 5.5042002\ttest: 20.9294704\tbest: 20.9255762 (20485)\ttotal: 12m 29s\tremaining: 5m 47s\n",
      "21000:\tlearn: 5.3808553\ttest: 20.9308328\tbest: 20.9255762 (20485)\ttotal: 12m 45s\tremaining: 5m 28s\n",
      "21500:\tlearn: 5.2884960\ttest: 20.9451589\tbest: 20.9255762 (20485)\ttotal: 13m 2s\tremaining: 5m 9s\n",
      "22000:\tlearn: 5.1936642\ttest: 20.9533545\tbest: 20.9255762 (20485)\ttotal: 13m 19s\tremaining: 4m 50s\n",
      "22500:\tlearn: 5.0992987\ttest: 20.9632622\tbest: 20.9255762 (20485)\ttotal: 13m 35s\tremaining: 4m 31s\n",
      "23000:\tlearn: 5.0045212\ttest: 20.9566351\tbest: 20.9255762 (20485)\ttotal: 13m 52s\tremaining: 4m 13s\n",
      "23500:\tlearn: 4.9156634\ttest: 20.9424881\tbest: 20.9255762 (20485)\ttotal: 14m 9s\tremaining: 3m 54s\n",
      "24000:\tlearn: 4.8315817\ttest: 20.9392747\tbest: 20.9255762 (20485)\ttotal: 14m 25s\tremaining: 3m 36s\n",
      "24500:\tlearn: 4.7376927\ttest: 20.9418426\tbest: 20.9255762 (20485)\ttotal: 14m 42s\tremaining: 3m 17s\n",
      "25000:\tlearn: 4.6600579\ttest: 20.9314137\tbest: 20.9255762 (20485)\ttotal: 14m 58s\tremaining: 2m 59s\n",
      "25500:\tlearn: 4.5837768\ttest: 20.9323198\tbest: 20.9255762 (20485)\ttotal: 15m 15s\tremaining: 2m 41s\n",
      "26000:\tlearn: 4.5117688\ttest: 20.9353712\tbest: 20.9255762 (20485)\ttotal: 15m 31s\tremaining: 2m 23s\n",
      "26500:\tlearn: 4.4270913\ttest: 20.9341596\tbest: 20.9255762 (20485)\ttotal: 15m 48s\tremaining: 2m 5s\n",
      "27000:\tlearn: 4.3613241\ttest: 20.9482962\tbest: 20.9255762 (20485)\ttotal: 16m 5s\tremaining: 1m 47s\n",
      "27500:\tlearn: 4.2960651\ttest: 20.9499063\tbest: 20.9255762 (20485)\ttotal: 16m 21s\tremaining: 1m 29s\n",
      "28000:\tlearn: 4.2367255\ttest: 20.9526813\tbest: 20.9255762 (20485)\ttotal: 16m 38s\tremaining: 1m 11s\n",
      "28500:\tlearn: 4.1805580\ttest: 20.9506242\tbest: 20.9255762 (20485)\ttotal: 16m 54s\tremaining: 53.4s\n",
      "29000:\tlearn: 4.1140801\ttest: 20.9489356\tbest: 20.9255762 (20485)\ttotal: 17m 11s\tremaining: 35.5s\n",
      "29500:\tlearn: 4.0509994\ttest: 20.9415644\tbest: 20.9255762 (20485)\ttotal: 17m 32s\tremaining: 17.8s\n",
      "29999:\tlearn: 3.9873009\ttest: 20.9408791\tbest: 20.9255762 (20485)\ttotal: 17m 50s\tremaining: 0us\n",
      "\n",
      "bestTest = 20.92557624\n",
      "bestIteration = 20485\n",
      "\n",
      "Shrink model to first 20486 iterations.\n",
      "SMAPE train: 5.507928997639311, SMAPE test: 20.925576239964464\n",
      "CPU times: total: 1h 19min 39s\n",
      "Wall time: 18min 2s\n"
     ]
    }
   ],
   "source": [
    "%%time\n",
    "\n",
    "\n",
    "cat_model2 = CatBoostRegressor(loss_function='Quantile', eval_metric='SMAPE', \n",
    "                              depth=8, iterations = 30000, random_state=999998,\n",
    "                              rsm=0.03)#, learning_rate=0.01)\n",
    "                              #grow_policy='Depthwise')\n",
    "                              #learning_rate=0.5)\n",
    "                              #bootstrap_type='MVS', mvs_reg=20, subsample=0.8,\n",
    "                              #min_data_in_leaf=3, rsm=0.5)\n",
    "cat_model2.fit(X_train, \n",
    "              y_train,\n",
    "              verbose=500,\n",
    "              eval_set=(X_test, y_test),\n",
    "              use_best_model=True,  \n",
    ")\n",
    "\n",
    "y_pred_train3 = cat_model2.predict(X_train)\n",
    "y_pred_test3 = cat_model2.predict(X_test)\n",
    "\n",
    "print(f'SMAPE train: {smape(y_train, y_pred_train3)}, SMAPE test: {smape(y_test, y_pred_test3)}')"
   ],
   "metadata": {
    "collapsed": false,
    "ExecuteTime": {
     "end_time": "2024-01-09T03:11:34.504855200Z",
     "start_time": "2024-01-09T02:53:32.186027900Z"
    }
   },
   "id": "919ad46a6d4cc8ce",
   "execution_count": 133
  },
  {
   "cell_type": "code",
   "outputs": [],
   "source": [],
   "metadata": {
    "collapsed": false
   },
   "id": "d1cb20ae09e9b7db"
  },
  {
   "cell_type": "code",
   "outputs": [
    {
     "name": "stdout",
     "output_type": "stream",
     "text": [
      "SMAPE train: 6.599067926164906, SMAPE test: 20.887896802121592\n"
     ]
    }
   ],
   "source": [
    "y_pred_train_combo = 0.35 * y_pred_train + 0.6 * y_pred_train1 + 0.05 * y_pred_train2\n",
    "y_pred_test_combo = 0.35 * y_pred_test + 0.6 * y_pred_test1 + 0.05 * y_pred_test2\n",
    "print(f'SMAPE train: {smape(y_train, y_pred_train_combo)}, SMAPE test: {smape(y_test, y_pred_test_combo)}')"
   ],
   "metadata": {
    "collapsed": false,
    "ExecuteTime": {
     "end_time": "2024-01-09T01:32:19.270917100Z",
     "start_time": "2024-01-09T01:32:19.110602900Z"
    }
   },
   "id": "48c8a5db75fa9bd8",
   "execution_count": 85
  },
  {
   "cell_type": "code",
   "outputs": [
    {
     "name": "stdout",
     "output_type": "stream",
     "text": [
      "best score: 20.131956535141406\n",
      "k1=7\n",
      "k2=42\n",
      "k3=51\n"
     ]
    }
   ],
   "source": [
    "min_score = 100\n",
    "min_k1 = 0\n",
    "min_k2 = 0\n",
    "for k1 in range(0, 101, 1):\n",
    "    for k2 in range (0, 101, 1):\n",
    "        if k1 + k2 > 100:\n",
    "            break\n",
    "        k3 = 100 - k1 - k2\n",
    "        y_pred_test_combo = k1 / 100 * y_pred_test + k2 / 100 * y_pred_test1 + k3 / 100 * y_pred_test2\n",
    "        test_score = smape(y_test, y_pred_test_combo)\n",
    "        if test_score < min_score:\n",
    "            min_score = test_score\n",
    "            min_k1 = k1\n",
    "            min_k2 = k2\n",
    "            \n",
    "print('best score: ' + str(min_score))\n",
    "print('k1=' + str(min_k1))\n",
    "print('k2=' + str(min_k2))\n",
    "print('k3=' + str(100 - min_k1 - min_k2))"
   ],
   "metadata": {
    "collapsed": false,
    "ExecuteTime": {
     "end_time": "2024-01-09T01:32:29.660870100Z",
     "start_time": "2024-01-09T01:32:22.761123600Z"
    }
   },
   "id": "4386e028056559c7",
   "execution_count": 86
  },
  {
   "cell_type": "code",
   "outputs": [
    {
     "name": "stdout",
     "output_type": "stream",
     "text": [
      "best score: 19.998687080264887\n",
      "k1=1\n",
      "k2=18\n",
      "k3=46\n",
      "k4=35\n"
     ]
    }
   ],
   "source": [
    "min_score = 100\n",
    "min_k1 = 0\n",
    "min_k2 = 0\n",
    "min_k3 = 0\n",
    "for k1 in range(0, 101, 1):\n",
    "    for k2 in range (0, 101, 1):\n",
    "        if k1 + k2 > 100:\n",
    "            break\n",
    "        for k3 in range (0, 101, 1):\n",
    "            if k1 + k2 + k3 > 100:\n",
    "                break\n",
    "            k4 = 100 - k1 - k2 - k3\n",
    "            y_pred_test_combo = k1 / 100 * y_pred_test + k2 / 100 * y_pred_test1 + k3 / 100 * y_pred_test2 + k4 / 100 * y_pred_test3\n",
    "            test_score = smape(y_test, y_pred_test_combo)\n",
    "            if test_score < min_score:\n",
    "                min_score = test_score\n",
    "                min_k1 = k1\n",
    "                min_k2 = k2\n",
    "                min_k3 = k3\n",
    "            \n",
    "print('best score: ' + str(min_score))\n",
    "print('k1=' + str(min_k1))\n",
    "print('k2=' + str(min_k2))\n",
    "print('k3=' + str(min_k3))\n",
    "print('k4=' + str(100 - min_k1 - min_k2 - min_k3))"
   ],
   "metadata": {
    "collapsed": false,
    "ExecuteTime": {
     "end_time": "2024-01-09T03:15:26.495550900Z",
     "start_time": "2024-01-09T03:13:19.516534Z"
    }
   },
   "id": "f537f544d6cc098f",
   "execution_count": 138
  },
  {
   "cell_type": "markdown",
   "id": "24f2c9c8-ef86-4dfd-94e8-6caf74780cfd",
   "metadata": {},
   "source": [
    "<H1>Тестовая дата</H1>"
   ]
  },
  {
   "cell_type": "markdown",
   "id": "5e6ec7db-f030-4a83-8d98-d496b2231414",
   "metadata": {},
   "source": [
    "Загрузим тестовую таблицу:"
   ]
  },
  {
   "cell_type": "code",
   "execution_count": 87,
   "id": "411dad93-e47d-43d4-b8aa-a64b1deb1463",
   "metadata": {
    "ExecuteTime": {
     "end_time": "2024-01-09T01:32:37.008644500Z",
     "start_time": "2024-01-09T01:32:35.615062700Z"
    }
   },
   "outputs": [],
   "source": [
    "df_test = pd.read_csv('X_test.csv', parse_dates=['published_at', 'created_at'])"
   ]
  },
  {
   "cell_type": "markdown",
   "id": "0ac14570-7dd8-455a-a9fa-dbc694c3c0c1",
   "metadata": {},
   "source": [
    "Сразу уберем столбцы salary_currency (одно и то же значение), created_at (совпадает с published_at) и area_id (аналогично area_name):"
   ]
  },
  {
   "cell_type": "code",
   "execution_count": 88,
   "id": "b96b0fa5-6b3b-4982-aafb-b5133d95ab41",
   "metadata": {
    "ExecuteTime": {
     "end_time": "2024-01-09T01:32:37.046924700Z",
     "start_time": "2024-01-09T01:32:36.645196800Z"
    }
   },
   "outputs": [],
   "source": [
    "df_test = df_test.drop(columns=['salary_currency', 'created_at', 'area_id'])#, 'has_test', 'response_letter_required', 'salary_gross'])"
   ]
  },
  {
   "cell_type": "code",
   "execution_count": 89,
   "id": "224137ba-ad9c-43e5-99bf-d5713ece7240",
   "metadata": {
    "ExecuteTime": {
     "end_time": "2024-01-09T01:32:37.328709500Z",
     "start_time": "2024-01-09T01:32:36.763630500Z"
    }
   },
   "outputs": [],
   "source": [
    "df_test = df_test.set_index('id')"
   ]
  },
  {
   "cell_type": "markdown",
   "id": "49c020c5-ac8b-4557-9d8d-5ee9cd970b91",
   "metadata": {},
   "source": [
    "Заполняем salary_gross, если есть пропуски:"
   ]
  },
  {
   "cell_type": "code",
   "execution_count": 90,
   "id": "b3e5f20a-4874-442d-9cb2-ca4e221ce3ba",
   "metadata": {
    "ExecuteTime": {
     "end_time": "2024-01-09T01:32:37.730151100Z",
     "start_time": "2024-01-09T01:32:37.241910100Z"
    }
   },
   "outputs": [],
   "source": [
    "df_test.salary_gross.fillna(False, inplace = True) \n",
    "df_test['salary_gross'] = df_test['salary_gross'].astype(bool)"
   ]
  },
  {
   "cell_type": "markdown",
   "id": "0fff51dc-a655-4d43-95ea-83ebdc49913b",
   "metadata": {},
   "source": [
    "Заполняем пустые salary_from частым значением:"
   ]
  },
  {
   "cell_type": "code",
   "execution_count": 91,
   "id": "3209ec1b-3f9c-43bd-9e51-962f8356c711",
   "metadata": {
    "ExecuteTime": {
     "end_time": "2024-01-09T01:32:38.143893400Z",
     "start_time": "2024-01-09T01:32:37.705680300Z"
    }
   },
   "outputs": [],
   "source": [
    "df_test.salary_from.fillna(df_test.salary_from.mode()[0], inplace = True)"
   ]
  },
  {
   "cell_type": "markdown",
   "id": "3e71825b-f108-4d58-8045-760f37cf882d",
   "metadata": {},
   "source": [
    "Преобразуем published_at, как и с обучаемым dataset:"
   ]
  },
  {
   "cell_type": "code",
   "execution_count": 92,
   "id": "65b7a396-1477-43ae-a2f6-ca230c0cf9a2",
   "metadata": {
    "ExecuteTime": {
     "end_time": "2024-01-09T01:32:38.436250Z",
     "start_time": "2024-01-09T01:32:38.090271200Z"
    }
   },
   "outputs": [],
   "source": [
    "df_test['published_at_diff'] = df_test['published_at'].map(lambda x: datetime.timestamp(datetime(2023, 1, 1)) - x.timestamp())"
   ]
  },
  {
   "cell_type": "code",
   "execution_count": 93,
   "id": "3f29a24d-a974-45b5-bb1a-729dc7c99048",
   "metadata": {
    "ExecuteTime": {
     "end_time": "2024-01-09T01:32:39.245770700Z",
     "start_time": "2024-01-09T01:32:38.422376300Z"
    }
   },
   "outputs": [
    {
     "data": {
      "text/plain": "<Figure size 1000x1500 with 2 Axes>",
      "image/png": "[encoded data removed]"
     },
     "metadata": {},
     "output_type": "display_data"
    }
   ],
   "source": [
    "import matplotlib.pyplot as plt\n",
    "df_numeric1 = df_test[['salary_from', 'published_at_diff']]\n",
    "# Создаем гистограммы для всех столбцов\n",
    "fig, axes = plt.subplots(nrows=len(df_numeric1.columns), ncols=1, figsize=(10, 15))\n",
    "\n",
    "# Проходимся по всем столбцам DataFrame и создаем гистограмму для каждого столбца\n",
    "for i, column in enumerate(df_numeric1.columns):\n",
    "    df_numeric1[column].plot(kind='hist', bins=25, ax=axes[i])\n",
    "    axes[i].set_title(column)\n",
    "\n",
    "plt.tight_layout()\n",
    "plt.show()"
   ]
  },
  {
   "cell_type": "code",
   "execution_count": 94,
   "id": "99145e15-1fe6-411c-9ad8-5f7aa9c85b42",
   "metadata": {
    "ExecuteTime": {
     "end_time": "2024-01-09T01:32:39.343327700Z",
     "start_time": "2024-01-09T01:32:39.066942900Z"
    }
   },
   "outputs": [],
   "source": [
    "df_test[\"published_at_diff\"] = df_test[\"published_at_diff\"] / 1e7\n",
    "df_test = df_test.drop(columns=['published_at'])"
   ]
  },
  {
   "cell_type": "markdown",
   "id": "d05b78a2-4d4c-44e0-8eba-0a30e1ccbfa1",
   "metadata": {},
   "source": [
    "Преобразуем description:"
   ]
  },
  {
   "cell_type": "code",
   "execution_count": 95,
   "id": "f30af9a9-04b8-4a06-b6b9-6427581a9516",
   "metadata": {
    "ExecuteTime": {
     "end_time": "2024-01-09T01:32:40.316335200Z",
     "start_time": "2024-01-09T01:32:39.077985500Z"
    }
   },
   "outputs": [],
   "source": [
    "df_test['description'] = pd.Series(df_test['description'],dtype=pd.StringDtype())\n",
    "df_test.description = df_test.description.apply(lambda x: str(x).lower())"
   ]
  },
  {
   "cell_type": "code",
   "execution_count": 96,
   "id": "b480eb65-4f63-4302-b680-6027e437dfe2",
   "metadata": {
    "ExecuteTime": {
     "end_time": "2024-01-09T01:32:40.615819Z",
     "start_time": "2024-01-09T01:32:40.187221400Z"
    }
   },
   "outputs": [
    {
     "data": {
      "text/plain": "description_exp\n1.000000     8854\n3.000000      215\n2.000000      162\n5.000000       37\n0.500000       21\n4.000000        5\n6.000000        5\n10.000000       5\n0.250000        4\n0.083333        2\n0.333333        1\n8.000000        1\nName: count, dtype: int64"
     },
     "execution_count": 96,
     "metadata": {},
     "output_type": "execute_result"
    }
   ],
   "source": [
    "df_test['description_exp'] = df_test.description.map(manage_desc_exp)\n",
    "df_test['description_exp'].value_counts()"
   ]
  },
  {
   "cell_type": "code",
   "execution_count": 97,
   "id": "123443b5-7bfc-4f91-a6e9-2ae7e32d9a24",
   "metadata": {
    "ExecuteTime": {
     "end_time": "2024-01-09T01:32:42.070169200Z",
     "start_time": "2024-01-09T01:32:40.590863800Z"
    }
   },
   "outputs": [],
   "source": [
    "df_test.description = df_test.description.apply(lambda x: re.sub(r'<[^>]+>', ' ', str(x))) #</?[A-Za-z0-9]+ ?/?>\n",
    "df_test.description = df_test.description.apply(lambda x: re.sub(r'[^а-яА-Я0-9a-zA-ZёЁ.-]', ' ', str(x))) #</?[A-Za-z0-9]+ ?/?>"
   ]
  },
  {
   "cell_type": "code",
   "execution_count": 98,
   "id": "77729fd5-faba-4829-a643-485102e03698",
   "metadata": {
    "ExecuteTime": {
     "end_time": "2024-01-09T01:32:42.163074400Z",
     "start_time": "2024-01-09T01:32:41.838196600Z"
    }
   },
   "outputs": [
    {
     "data": {
      "text/plain": "description_salary\n40000     112\n60000      92\n50000      78\n30000      74\n100000     67\n         ... \n135000      1\n63450       1\n5100        1\n6000        1\n238000      1\nName: count, Length: 263, dtype: int64"
     },
     "execution_count": 98,
     "metadata": {},
     "output_type": "execute_result"
    }
   ],
   "source": [
    "df_test['description_salary'] = df_test.description.map(manage_desc)\n",
    "df_test['description_salary'].value_counts()"
   ]
  },
  {
   "cell_type": "code",
   "execution_count": 99,
   "id": "93b548ca-ac93-4dc8-9c9c-0aca7ce16889",
   "metadata": {
    "ExecuteTime": {
     "end_time": "2024-01-09T01:32:42.234365200Z",
     "start_time": "2024-01-09T01:32:42.013572Z"
    }
   },
   "outputs": [],
   "source": [
    "df_test['description_salary'].fillna(df_test.salary_from, inplace = True) "
   ]
  },
  {
   "cell_type": "code",
   "execution_count": 100,
   "id": "b9d9f081-8f65-428c-9ea8-157a3c965ca5",
   "metadata": {
    "ExecuteTime": {
     "end_time": "2024-01-09T01:33:00.451817300Z",
     "start_time": "2024-01-09T01:32:42.029630100Z"
    }
   },
   "outputs": [],
   "source": [
    "df_test['description'] = df_test['description'].apply(lambda x: re.sub(r'[^а-яА-Я0-9a-zA-ZёЁ]', ' ', str(x))) #</?[A-Za-z0-9]+ ?/?>\n",
    "\n",
    "## remove tabulation and punctuation\n",
    "df_test['description'] = df_test['description'].map(lambda x: re.sub(r'[^\\w\\s]', ' ', x)) #str.replace(,' '))\n",
    "## digits\n",
    "df_test['description'] = df_test['description'].map(lambda x: re.sub(r'\\d+', ' ', x))#.str.replace(, '')\n",
    "\n",
    "\n",
    "df_test['description'].fillna('nd', inplace = True)\n",
    "\n",
    "## lemmatization\n",
    "df_test['description'] = df_test['description'].apply(lambda x: \" \".join([Word(word).lemmatize() for word in x.split()]))"
   ]
  },
  {
   "cell_type": "code",
   "outputs": [],
   "source": [
    "df_test_desc_parsed = vectorizer.transform(df_test['description'])\n",
    "df_test_desc_parsed1 = pd.DataFrame(df_test_desc_parsed.toarray(), columns=DESC_COLS, index=df_test.index)\n",
    "df_test = df_test.join(df_test_desc_parsed1)"
   ],
   "metadata": {
    "collapsed": false,
    "ExecuteTime": {
     "end_time": "2024-01-09T01:33:03.651321100Z",
     "start_time": "2024-01-09T01:33:00.459444300Z"
    }
   },
   "id": "db7ca0a9455dce4d",
   "execution_count": 101
  },
  {
   "cell_type": "code",
   "execution_count": 102,
   "id": "955ade60-6f99-48ba-9916-7e524bae69b4",
   "metadata": {
    "ExecuteTime": {
     "end_time": "2024-01-09T01:33:03.698706500Z",
     "start_time": "2024-01-09T01:33:03.654952700Z"
    }
   },
   "outputs": [],
   "source": [
    "df_test = df_test.drop(columns=['description'])"
   ]
  },
  {
   "cell_type": "markdown",
   "id": "0acde5e3-b32f-4e91-8829-3e29d7943378",
   "metadata": {},
   "source": [
    "Для area_name, оставим название, если в обучаемом dataset есть столбец, иначе заменяем на Other:"
   ]
  },
  {
   "cell_type": "code",
   "execution_count": 103,
   "id": "c44a72e4-a7ab-4fab-8fd4-8a84734cc3d3",
   "metadata": {
    "ExecuteTime": {
     "end_time": "2024-01-09T01:33:03.877165400Z",
     "start_time": "2024-01-09T01:33:03.687418600Z"
    }
   },
   "outputs": [],
   "source": [
    "df_test['area_name'] = df_test['area_name'].map(lambda x: x if ('area_name_' + x) in df.columns else \"Other\")"
   ]
  },
  {
   "cell_type": "code",
   "execution_count": 104,
   "id": "0cc03ede-d9c2-4e85-af17-af365618466e",
   "metadata": {
    "ExecuteTime": {
     "end_time": "2024-01-09T01:33:03.900557300Z",
     "start_time": "2024-01-09T01:33:03.716056900Z"
    }
   },
   "outputs": [
    {
     "data": {
      "text/plain": "area_name\nМосква             6754\nСанкт-Петербург    1877\nOther               454\nНовосибирск          71\nКазань               54\nКраснодар            52\nЕкатеринбург         50\nName: count, dtype: int64"
     },
     "execution_count": 104,
     "metadata": {},
     "output_type": "execute_result"
    }
   ],
   "source": [
    "df_test['area_name'].value_counts()"
   ]
  },
  {
   "cell_type": "markdown",
   "id": "8353154e-c19e-4c1f-a848-786fc9d17793",
   "metadata": {},
   "source": [
    "Преобразуем employer_name к нижнему регистру, и сделаем те же преобразования, что и в обучаемом dataset:"
   ]
  },
  {
   "cell_type": "code",
   "execution_count": 105,
   "id": "5877dd70-fa7a-4e4b-a4cd-bb68220701cc",
   "metadata": {
    "ExecuteTime": {
     "end_time": "2024-01-09T01:33:03.934076100Z",
     "start_time": "2024-01-09T01:33:03.725374300Z"
    }
   },
   "outputs": [],
   "source": [
    "df_test['employer_name'] = df_test['employer_name'].apply(lambda x: x.lower())\n",
    "df_test['employer_name'] = df_test['employer_name'].apply(lambda x: x.strip())"
   ]
  },
  {
   "cell_type": "code",
   "execution_count": 112,
   "id": "040eabc0-862d-4074-88b3-cd65027bf4d9",
   "metadata": {
    "ExecuteTime": {
     "end_time": "2024-01-09T01:36:42.572525200Z",
     "start_time": "2024-01-09T01:36:42.405077800Z"
    }
   },
   "outputs": [],
   "source": [
    "df_test['employer_name'] = df_test['employer_name'].apply(lambda x: \"пятёрочка\" if near_equal(x, 'пятёрочка') > 0.75 else x)\n",
    "df_test['employer_name'] = df_test['employer_name'].apply(lambda x: \"перекресток\" if near_equal(x, 'перекресток') > 0.75 else x)\n",
    "df_test['employer_name'] = df_test['employer_name'].apply(lambda x: \"билайн\" if near_equal(x, 'билайн') > 0.75 else x)\n",
    "df_test['employer_name'] = df_test['employer_name'].apply(lambda x: \"personname\" if x.endswith('вич') or x.endswith('вна') or x.endswith('вич)') or x.endswith('вна)') else x) #or x.startswith('ип') or '(ип ' in x)"
   ]
  },
  {
   "cell_type": "code",
   "execution_count": 113,
   "id": "9ef83b5f-af86-450a-82f4-170cf2b84428",
   "metadata": {
    "ExecuteTime": {
     "end_time": "2024-01-09T01:36:43.801881900Z",
     "start_time": "2024-01-09T01:36:43.431086600Z"
    }
   },
   "outputs": [],
   "source": [
    "df_test_empl_parsed = vectorizer_empl.transform(df_test['employer_name'])\n",
    "df_test_empl_parsed1 = pd.DataFrame(df_test_empl_parsed.toarray(), columns=EMPL_COLS, index=df_test.index)\n",
    "df_test = df_test.join(df_test_empl_parsed1)"
   ]
  },
  {
   "cell_type": "code",
   "execution_count": 114,
   "id": "8417772f-9b51-407a-b58b-dae16614f284",
   "metadata": {
    "ExecuteTime": {
     "end_time": "2024-01-09T01:36:45.085861Z",
     "start_time": "2024-01-09T01:36:44.908750700Z"
    }
   },
   "outputs": [],
   "source": [
    "df_test = df_test.drop(columns=['employer_name'])"
   ]
  },
  {
   "cell_type": "markdown",
   "id": "783ba002-93f5-44a8-a46f-130990d61285",
   "metadata": {},
   "source": [
    "Ту же процедуру проделываем с name:"
   ]
  },
  {
   "cell_type": "code",
   "execution_count": 115,
   "id": "3fb770ee-6f12-4912-b1b0-94b614b60c89",
   "metadata": {
    "ExecuteTime": {
     "end_time": "2024-01-09T01:36:46.997516700Z",
     "start_time": "2024-01-09T01:36:46.846738900Z"
    }
   },
   "outputs": [],
   "source": [
    "df_test['name'] = df_test['name'].apply(lambda x: x.lower())\n",
    "df_test['name'] = df_test['name'].apply(lambda x: x.strip())"
   ]
  },
  {
   "cell_type": "code",
   "execution_count": 116,
   "id": "71af5200-403a-4245-b5f4-b581b13eaecb",
   "metadata": {
    "ExecuteTime": {
     "end_time": "2024-01-09T01:36:47.517009400Z",
     "start_time": "2024-01-09T01:36:47.360867500Z"
    }
   },
   "outputs": [],
   "source": [
    "df_test_name_parsed = vectorizer_name.transform(df_test['name'])\n",
    "df_test_name_parsed1 = pd.DataFrame(df_test_name_parsed.toarray(), columns=NAME_COLS, index=df_test.index)\n",
    "df_test = df_test.join(df_test_name_parsed1)"
   ]
  },
  {
   "cell_type": "code",
   "execution_count": 117,
   "id": "eabad65e-865d-4d49-b214-a754fee136b7",
   "metadata": {
    "ExecuteTime": {
     "end_time": "2024-01-09T01:36:48.010221700Z",
     "start_time": "2024-01-09T01:36:47.879796900Z"
    }
   },
   "outputs": [],
   "source": [
    "df_test = df_test.drop(columns=['name'])"
   ]
  },
  {
   "cell_type": "markdown",
   "id": "c24a6eac-a365-4dfb-9cfb-d37f50a9c246",
   "metadata": {},
   "source": [
    "Делаем one-hotting категориальных фич:"
   ]
  },
  {
   "cell_type": "code",
   "execution_count": 118,
   "id": "e0d90b3b-9535-4445-ba5c-6d26ea5e0445",
   "metadata": {
    "ExecuteTime": {
     "end_time": "2024-01-09T01:36:50.182365300Z",
     "start_time": "2024-01-09T01:36:49.995424600Z"
    }
   },
   "outputs": [],
   "source": [
    "df_one_hoted_test = df_test.copy()\n",
    "\n",
    "ONE_HOT_COL_TEST = ['area_name']#,  'published_at_diff'] #'employer_name',\n",
    "\n",
    "temp_test = pd.get_dummies(df_one_hoted_test[ONE_HOT_COL_TEST], prefix=ONE_HOT_COL_TEST, dtype=bool)\n",
    "\n",
    "df_one_hoted_test = pd.concat([temp_test, df_test], axis=1)"
   ]
  },
  {
   "cell_type": "code",
   "execution_count": 119,
   "id": "87eea7fd-3300-4b3c-8305-4690ac579b6f",
   "metadata": {
    "ExecuteTime": {
     "end_time": "2024-01-09T01:36:50.644231600Z",
     "start_time": "2024-01-09T01:36:50.404247800Z"
    }
   },
   "outputs": [],
   "source": [
    "df_one_hoted_test = df_one_hoted_test.drop(columns=['area_name'])#, 'published_at_diff']) #'employer_name', "
   ]
  },
  {
   "cell_type": "code",
   "execution_count": 120,
   "id": "00af8291-d929-49a1-8c36-007d7ef0e654",
   "metadata": {
    "ExecuteTime": {
     "end_time": "2024-01-09T01:36:51.059329700Z",
     "start_time": "2024-01-09T01:36:50.698373Z"
    }
   },
   "outputs": [],
   "source": [
    "df_test = df_one_hoted_test"
   ]
  },
  {
   "cell_type": "markdown",
   "id": "8f82e6c7-fcdb-465a-929f-efa082750999",
   "metadata": {},
   "source": [
    "Проверим, что все столбцы, которые есть в обучаемом dataset, есть и в тестовом dataset:"
   ]
  },
  {
   "cell_type": "code",
   "execution_count": 121,
   "id": "1540bb15-f548-4e6e-b5dd-516d5d46b5cb",
   "metadata": {
    "ExecuteTime": {
     "end_time": "2024-01-09T01:36:51.246300400Z",
     "start_time": "2024-01-09T01:36:51.156520900Z"
    }
   },
   "outputs": [
    {
     "name": "stdout",
     "output_type": "stream",
     "text": [
      "area_name_Other\n",
      "area_name_Екатеринбург\n",
      "area_name_Казань\n",
      "area_name_Краснодар\n",
      "area_name_Москва\n",
      "area_name_Новосибирск\n",
      "area_name_Санкт-Петербург\n",
      "has_test\n",
      "response_letter_required\n",
      "salary_from\n",
      "salary_gross\n",
      "published_at_diff\n",
      "description_exp\n",
      "description_salary\n",
      "desc_api\n",
      "desc_b\n",
      "desc_c\n",
      "desc_ci\n",
      "desc_crm\n",
      "desc_cs\n",
      "desc_d\n",
      "desc_docker\n",
      "desc_e\n",
      "desc_excel\n",
      "desc_experience\n",
      "desc_git\n",
      "desc_google\n",
      "desc_hr\n",
      "desc_html\n",
      "desc_http\n",
      "desc_j\n",
      "desc_java\n",
      "desc_javascript\n",
      "desc_kpi\n",
      "desc_linux\n",
      "desc_m\n",
      "desc_office\n",
      "desc_php\n",
      "desc_postgresql\n",
      "desc_python\n",
      "desc_quot\n",
      "desc_react\n",
      "desc_rest\n",
      "desc_ru\n",
      "desc_sql\n",
      "desc_team\n",
      "desc_web\n",
      "desc_word\n",
      "desc_work\n",
      "desc_автоматизации\n",
      "desc_аккуратность\n",
      "desc_активно\n",
      "desc_анализ\n",
      "desc_анализа\n",
      "desc_аналитика\n",
      "desc_английский\n",
      "desc_английского\n",
      "desc_архитектуры\n",
      "desc_базе\n",
      "desc_базовые\n",
      "desc_базы\n",
      "desc_белая\n",
      "desc_бесплатное\n",
      "desc_бизнес\n",
      "desc_бизнеса\n",
      "desc_больничных\n",
      "desc_большим\n",
      "desc_большой\n",
      "desc_бонусы\n",
      "desc_быстро\n",
      "desc_важно\n",
      "desc_вакансии\n",
      "desc_вакансию\n",
      "desc_вакансия\n",
      "desc_веб\n",
      "desc_ведение\n",
      "desc_ведения\n",
      "desc_вести\n",
      "desc_взаимодействие\n",
      "desc_видео\n",
      "desc_владение\n",
      "desc_вместе\n",
      "desc_внимание\n",
      "desc_внимательность\n",
      "desc_внутри\n",
      "desc_возможен\n",
      "desc_возможно\n",
      "desc_возможности\n",
      "desc_возможность\n",
      "desc_вопросам\n",
      "desc_вопросы\n",
      "desc_всей\n",
      "desc_выкладка\n",
      "desc_выплата\n",
      "desc_выплаты\n",
      "desc_выполнение\n",
      "desc_выполнения\n",
      "desc_выполнять\n",
      "desc_высокая\n",
      "desc_высокий\n",
      "desc_высшее\n",
      "desc_выходные\n",
      "desc_выше\n",
      "desc_гарантии\n",
      "desc_гибкий\n",
      "desc_годности\n",
      "desc_города\n",
      "desc_готов\n",
      "desc_готовность\n",
      "desc_готовы\n",
      "desc_грамотная\n",
      "desc_график\n",
      "desc_д\n",
      "desc_данных\n",
      "desc_делать\n",
      "desc_детей\n",
      "desc_деятельности\n",
      "desc_дисциплинированность\n",
      "desc_дмс\n",
      "desc_дней\n",
      "desc_дня\n",
      "desc_договоров\n",
      "desc_документации\n",
      "desc_документов\n",
      "desc_должности\n",
      "desc_дома\n",
      "desc_домом\n",
      "desc_доступности\n",
      "desc_доход\n",
      "desc_др\n",
      "desc_дружный\n",
      "desc_ждем\n",
      "desc_желание\n",
      "desc_желателен\n",
      "desc_желательно\n",
      "desc_з\n",
      "desc_зависимости\n",
      "desc_зависит\n",
      "desc_задач\n",
      "desc_задачи\n",
      "desc_задержек\n",
      "desc_заказов\n",
      "desc_зале\n",
      "desc_занимается\n",
      "desc_заниматься\n",
      "desc_занятость\n",
      "desc_зарабатывать\n",
      "desc_заработная\n",
      "desc_заработной\n",
      "desc_зарплата\n",
      "desc_заявок\n",
      "desc_звонки\n",
      "desc_звонков\n",
      "desc_знание\n",
      "desc_знания\n",
      "desc_зп\n",
      "desc_интервью\n",
      "desc_интересные\n",
      "desc_интернет\n",
      "desc_информации\n",
      "desc_исполнительность\n",
      "desc_испытательного\n",
      "desc_испытательный\n",
      "desc_итогам\n",
      "desc_ищем\n",
      "desc_каждого\n",
      "desc_кандидата\n",
      "desc_кандидатов\n",
      "desc_карьерного\n",
      "desc_карьерный\n",
      "desc_кассе\n",
      "desc_качества\n",
      "desc_квалификации\n",
      "desc_клиента\n",
      "desc_клиентам\n",
      "desc_клиентами\n",
      "desc_клиентов\n",
      "desc_клиентской\n",
      "desc_код\n",
      "desc_кода\n",
      "desc_коллектив\n",
      "desc_коллективе\n",
      "desc_команда\n",
      "desc_команде\n",
      "desc_командой\n",
      "desc_команду\n",
      "desc_команды\n",
      "desc_коммуникабельность\n",
      "desc_компании\n",
      "desc_компаний\n",
      "desc_компанию\n",
      "desc_компания\n",
      "desc_компенсация\n",
      "desc_конкурсы\n",
      "desc_консультация\n",
      "desc_консультирование\n",
      "desc_контроль\n",
      "desc_контроля\n",
      "desc_корпоративная\n",
      "desc_корпоративное\n",
      "desc_корпоративные\n",
      "desc_кофе\n",
      "desc_либо\n",
      "desc_листов\n",
      "desc_любой\n",
      "desc_людей\n",
      "desc_людьми\n",
      "desc_магазина\n",
      "desc_магазинах\n",
      "desc_магазинов\n",
      "desc_маркетинга\n",
      "desc_материалов\n",
      "desc_менеджер\n",
      "desc_менеджера\n",
      "desc_мероприятий\n",
      "desc_мероприятия\n",
      "desc_место\n",
      "desc_месяц\n",
      "desc_месяца\n",
      "desc_метро\n",
      "desc_мин\n",
      "desc_минут\n",
      "desc_многозадачности\n",
      "desc_можете\n",
      "desc_молодой\n",
      "desc_момент\n",
      "desc_москва\n",
      "desc_москве\n",
      "desc_москвы\n",
      "desc_навыки\n",
      "desc_наличие\n",
      "desc_наличия\n",
      "desc_написание\n",
      "desc_написания\n",
      "desc_нашего\n",
      "desc_нашей\n",
      "desc_нашим\n",
      "desc_наших\n",
      "desc_нашу\n",
      "desc_недвижимости\n",
      "desc_неделю\n",
      "desc_неделя\n",
      "desc_необходимо\n",
      "desc_неполная\n",
      "desc_неполный\n",
      "desc_новые\n",
      "desc_новый\n",
      "desc_новых\n",
      "desc_нужен\n",
      "desc_обеспечение\n",
      "desc_обеспечения\n",
      "desc_области\n",
      "desc_оборудования\n",
      "desc_обработка\n",
      "desc_образование\n",
      "desc_образования\n",
      "desc_обслуживание\n",
      "desc_обсуждается\n",
      "desc_обучаемость\n",
      "desc_обучение\n",
      "desc_обучения\n",
      "desc_общаться\n",
      "desc_общение\n",
      "desc_обязанности\n",
      "desc_обязателен\n",
      "desc_обязательно\n",
      "desc_оклад\n",
      "desc_онлайн\n",
      "desc_оплата\n",
      "desc_оплаты\n",
      "desc_оплачиваемый\n",
      "desc_оптимизация\n",
      "desc_опыт\n",
      "desc_опыта\n",
      "desc_опытом\n",
      "desc_организации\n",
      "desc_организация\n",
      "desc_основ\n",
      "desc_основе\n",
      "desc_ответственность\n",
      "desc_отдела\n",
      "desc_отпуск\n",
      "desc_отпусков\n",
      "desc_отслеживание\n",
      "desc_отсутствие\n",
      "desc_отчетности\n",
      "desc_отчетов\n",
      "desc_офис\n",
      "desc_офиса\n",
      "desc_офисе\n",
      "desc_официальная\n",
      "desc_официальное\n",
      "desc_оформление\n",
      "desc_п\n",
      "desc_пакет\n",
      "desc_первого\n",
      "desc_переговоров\n",
      "desc_персонала\n",
      "desc_писать\n",
      "desc_письменная\n",
      "desc_пк\n",
      "desc_плана\n",
      "desc_планирование\n",
      "desc_плата\n",
      "desc_платы\n",
      "desc_плюсом\n",
      "desc_пн\n",
      "desc_подбор\n",
      "desc_подготовка\n",
      "desc_поддержание\n",
      "desc_поддержка\n",
      "desc_подработки\n",
      "desc_подход\n",
      "desc_поиск\n",
      "desc_поиска\n",
      "desc_показателей\n",
      "desc_покупателей\n",
      "desc_полная\n",
      "desc_полностью\n",
      "desc_полный\n",
      "desc_пользователей\n",
      "desc_пользователь\n",
      "desc_помощь\n",
      "desc_понимание\n",
      "desc_поставщиков\n",
      "desc_постоянно\n",
      "desc_поэтому\n",
      "desc_пр\n",
      "desc_предлагаем\n",
      "desc_предложений\n",
      "desc_предоставление\n",
      "desc_предстоит\n",
      "desc_преимуществом\n",
      "desc_премии\n",
      "desc_премия\n",
      "desc_приветствуется\n",
      "desc_приглашаем\n",
      "desc_приглашает\n",
      "desc_прием\n",
      "desc_приложений\n",
      "desc_приложения\n",
      "desc_принципов\n",
      "desc_проведение\n",
      "desc_проведения\n",
      "desc_проверка\n",
      "desc_проводить\n",
      "desc_программ\n",
      "desc_программирования\n",
      "desc_программы\n",
      "desc_продаж\n",
      "desc_продажам\n",
      "desc_продажах\n",
      "desc_продажи\n",
      "desc_продукт\n",
      "desc_продукта\n",
      "desc_продуктов\n",
      "desc_продукты\n",
      "desc_продукции\n",
      "desc_проект\n",
      "desc_проекта\n",
      "desc_проектами\n",
      "desc_проектах\n",
      "desc_проектирования\n",
      "desc_проектов\n",
      "desc_проекты\n",
      "desc_производства\n",
      "desc_профессионалов\n",
      "desc_профессионального\n",
      "desc_профессиональное\n",
      "desc_профессиональный\n",
      "desc_процессов\n",
      "desc_процессы\n",
      "desc_пунктуальность\n",
      "desc_р\n",
      "desc_работ\n",
      "desc_работа\n",
      "desc_работаем\n",
      "desc_работает\n",
      "desc_работать\n",
      "desc_работе\n",
      "desc_работу\n",
      "desc_работы\n",
      "desc_рабочая\n",
      "desc_рабочего\n",
      "desc_рабочее\n",
      "desc_рабочий\n",
      "desc_рабочих\n",
      "desc_раза\n",
      "desc_развиваться\n",
      "desc_развитие\n",
      "desc_развития\n",
      "desc_различных\n",
      "desc_разных\n",
      "desc_разрабатывать\n",
      "desc_разработка\n",
      "desc_разработке\n",
      "desc_разработки\n",
      "desc_разработкой\n",
      "desc_разработчика\n",
      "desc_разработчиков\n",
      "desc_рамках\n",
      "desc_расти\n",
      "desc_расчет\n",
      "desc_реализации\n",
      "desc_режиме\n",
      "desc_результат\n",
      "desc_результатам\n",
      "desc_результатов\n",
      "desc_резюме\n",
      "desc_рекламных\n",
      "desc_речь\n",
      "desc_решать\n",
      "desc_решение\n",
      "desc_решений\n",
      "desc_решения\n",
      "desc_россии\n",
      "desc_рост\n",
      "desc_роста\n",
      "desc_руб\n",
      "desc_рублей\n",
      "desc_руки\n",
      "desc_руководителя\n",
      "desc_рф\n",
      "desc_рынка\n",
      "desc_рынке\n",
      "desc_сайтов\n",
      "desc_самостоятельно\n",
      "desc_сбор\n",
      "desc_свой\n",
      "desc_связи\n",
      "desc_связь\n",
      "desc_сделать\n",
      "desc_сервис\n",
      "desc_сервисов\n",
      "desc_сетей\n",
      "desc_сети\n",
      "desc_сеть\n",
      "desc_систем\n",
      "desc_система\n",
      "desc_системами\n",
      "desc_системе\n",
      "desc_системы\n",
      "desc_скидки\n",
      "desc_склад\n",
      "desc_собеседование\n",
      "desc_собеседования\n",
      "desc_соблюдение\n",
      "desc_совместительству\n",
      "desc_согласно\n",
      "desc_согласование\n",
      "desc_создавать\n",
      "desc_создание\n",
      "desc_соответствии\n",
      "desc_сопровождение\n",
      "desc_составление\n",
      "desc_сотрудника\n",
      "desc_сотрудников\n",
      "desc_соц\n",
      "desc_социальные\n",
      "desc_специалиста\n",
      "desc_специалистов\n",
      "desc_спецодежда\n",
      "desc_способность\n",
      "desc_среднего\n",
      "desc_срок\n",
      "desc_срока\n",
      "desc_сроков\n",
      "desc_ст\n",
      "desc_стабильная\n",
      "desc_стать\n",
      "desc_стрессоустойчивость\n",
      "desc_сфере\n",
      "desc_счет\n",
      "desc_телефону\n",
      "desc_территории\n",
      "desc_тестирования\n",
      "desc_технических\n",
      "desc_техническое\n",
      "desc_технической\n",
      "desc_технологии\n",
      "desc_технологий\n",
      "desc_тк\n",
      "desc_товара\n",
      "desc_товаров\n",
      "desc_требований\n",
      "desc_требования\n",
      "desc_требуется\n",
      "desc_тренинги\n",
      "desc_труда\n",
      "desc_трудоустройство\n",
      "desc_уборка\n",
      "desc_уверенное\n",
      "desc_уверенный\n",
      "desc_удаленная\n",
      "desc_удаленно\n",
      "desc_умение\n",
      "desc_управление\n",
      "desc_управления\n",
      "desc_уровень\n",
      "desc_уровне\n",
      "desc_уровня\n",
      "desc_условия\n",
      "desc_услуг\n",
      "desc_услуги\n",
      "desc_устная\n",
      "desc_участвовать\n",
      "desc_участие\n",
      "desc_учета\n",
      "desc_учиться\n",
      "desc_фирменная\n",
      "desc_формирование\n",
      "desc_х\n",
      "desc_хорошее\n",
      "desc_хотите\n",
      "desc_ценников\n",
      "desc_центре\n",
      "desc_ч\n",
      "desc_часов\n",
      "desc_части\n",
      "desc_часть\n",
      "desc_частью\n",
      "desc_человека\n",
      "desc_числе\n",
      "desc_является\n",
      "desc_язык\n",
      "desc_языка\n",
      "empl_(ооо\n",
      "empl_-\n",
      "empl_group\n",
      "empl_hr\n",
      "empl_jcat.ru\n",
      "empl_personname\n",
      "empl_solutions\n",
      "empl_агентство\n",
      "empl_бизнес\n",
      "empl_билайн\n",
      "empl_бюро\n",
      "empl_г.\n",
      "empl_гбу\n",
      "empl_гбуз\n",
      "empl_гк\n",
      "empl_города\n",
      "empl_групп\n",
      "empl_группа\n",
      "empl_гу\n",
      "empl_детский\n",
      "empl_дом\n",
      "empl_компаний\n",
      "empl_компания\n",
      "empl_консалтинг\n",
      "empl_лаборатория\n",
      "empl_магазинов\n",
      "empl_мвд\n",
      "empl_мир\n",
      "empl_москвы\n",
      "empl_московский\n",
      "empl_недвижимости\n",
      "empl_перекресток\n",
      "empl_пятёрочка\n",
      "empl_развития\n",
      "empl_розничная\n",
      "empl_россии\n",
      "empl_рус\n",
      "empl_сервис\n",
      "empl_сеть\n",
      "empl_системы\n",
      "empl_спб\n",
      "empl_технологии\n",
      "empl_университет\n",
      "empl_управление\n",
      "empl_фгуп\n",
      "empl_федеральная\n",
      "empl_холдинг\n",
      "empl_центр\n",
      "empl_школа\n",
      "empl_экспресс\n",
      "name_(м.\n",
      "name_(москва,\n",
      "name_(санкт-петербург,\n",
      "name_(удаленно)\n",
      "name_-\n",
      "name_/\n",
      "name_backend\n",
      "name_developer\n",
      "name_engineer\n",
      "name_frontend\n",
      "name_junior\n",
      "name_manager\n",
      "name_middle\n",
      "name_php\n",
      "name_product\n",
      "name_python\n",
      "name_senior\n",
      "name_администратор\n",
      "name_аналитик\n",
      "name_ассистент\n",
      "name_бухгалтер\n",
      "name_ведущий\n",
      "name_дизайнер\n",
      "name_закупкам\n",
      "name_инженер\n",
      "name_клиентами\n",
      "name_менеджер\n",
      "name_младший\n",
      "name_оператор\n",
      "name_отдела\n",
      "name_персонала\n",
      "name_подбору\n",
      "name_помощник\n",
      "name_преподаватель\n",
      "name_программист\n",
      "name_продавец-кассир\n",
      "name_продавец-консультант\n",
      "name_продаж\n",
      "name_продажам\n",
      "name_работе\n",
      "name_разработчик\n",
      "name_рекрутер\n",
      "name_руководитель\n",
      "name_руководителя\n",
      "name_специалист\n",
      "name_стажер\n",
      "name_старший\n",
      "name_уборщица/уборщик\n",
      "name_ул\n",
      "name_юрист\n"
     ]
    }
   ],
   "source": [
    "for columnName in df_test.columns:\n",
    "    print(columnName)"
   ]
  },
  {
   "cell_type": "code",
   "execution_count": 122,
   "id": "19f71a60-8987-4b72-9fcc-75637498b0d3",
   "metadata": {
    "ExecuteTime": {
     "end_time": "2024-01-09T01:36:53.596947700Z",
     "start_time": "2024-01-09T01:36:53.398833200Z"
    }
   },
   "outputs": [
    {
     "name": "stdout",
     "output_type": "stream",
     "text": [
      "area_name_Other\n",
      "area_name_Екатеринбург\n",
      "area_name_Казань\n",
      "area_name_Краснодар\n",
      "area_name_Москва\n",
      "area_name_Новосибирск\n",
      "area_name_Санкт-Петербург\n",
      "has_test\n",
      "response_letter_required\n",
      "salary_from\n",
      "salary_gross\n",
      "salary_to\n",
      "published_at_diff\n",
      "description_exp\n",
      "description_salary\n",
      "desc_api\n",
      "desc_b\n",
      "desc_c\n",
      "desc_ci\n",
      "desc_crm\n",
      "desc_cs\n",
      "desc_d\n",
      "desc_docker\n",
      "desc_e\n",
      "desc_excel\n",
      "desc_experience\n",
      "desc_git\n",
      "desc_google\n",
      "desc_hr\n",
      "desc_html\n",
      "desc_http\n",
      "desc_j\n",
      "desc_java\n",
      "desc_javascript\n",
      "desc_kpi\n",
      "desc_linux\n",
      "desc_m\n",
      "desc_office\n",
      "desc_php\n",
      "desc_postgresql\n",
      "desc_python\n",
      "desc_quot\n",
      "desc_react\n",
      "desc_rest\n",
      "desc_ru\n",
      "desc_sql\n",
      "desc_team\n",
      "desc_web\n",
      "desc_word\n",
      "desc_work\n",
      "desc_автоматизации\n",
      "desc_аккуратность\n",
      "desc_активно\n",
      "desc_анализ\n",
      "desc_анализа\n",
      "desc_аналитика\n",
      "desc_английский\n",
      "desc_английского\n",
      "desc_архитектуры\n",
      "desc_базе\n",
      "desc_базовые\n",
      "desc_базы\n",
      "desc_белая\n",
      "desc_бесплатное\n",
      "desc_бизнес\n",
      "desc_бизнеса\n",
      "desc_больничных\n",
      "desc_большим\n",
      "desc_большой\n",
      "desc_бонусы\n",
      "desc_быстро\n",
      "desc_важно\n",
      "desc_вакансии\n",
      "desc_вакансию\n",
      "desc_вакансия\n",
      "desc_веб\n",
      "desc_ведение\n",
      "desc_ведения\n",
      "desc_вести\n",
      "desc_взаимодействие\n",
      "desc_видео\n",
      "desc_владение\n",
      "desc_вместе\n",
      "desc_внимание\n",
      "desc_внимательность\n",
      "desc_внутри\n",
      "desc_возможен\n",
      "desc_возможно\n",
      "desc_возможности\n",
      "desc_возможность\n",
      "desc_вопросам\n",
      "desc_вопросы\n",
      "desc_всей\n",
      "desc_выкладка\n",
      "desc_выплата\n",
      "desc_выплаты\n",
      "desc_выполнение\n",
      "desc_выполнения\n",
      "desc_выполнять\n",
      "desc_высокая\n",
      "desc_высокий\n",
      "desc_высшее\n",
      "desc_выходные\n",
      "desc_выше\n",
      "desc_гарантии\n",
      "desc_гибкий\n",
      "desc_годности\n",
      "desc_города\n",
      "desc_готов\n",
      "desc_готовность\n",
      "desc_готовы\n",
      "desc_грамотная\n",
      "desc_график\n",
      "desc_д\n",
      "desc_данных\n",
      "desc_делать\n",
      "desc_детей\n",
      "desc_деятельности\n",
      "desc_дисциплинированность\n",
      "desc_дмс\n",
      "desc_дней\n",
      "desc_дня\n",
      "desc_договоров\n",
      "desc_документации\n",
      "desc_документов\n",
      "desc_должности\n",
      "desc_дома\n",
      "desc_домом\n",
      "desc_доступности\n",
      "desc_доход\n",
      "desc_др\n",
      "desc_дружный\n",
      "desc_ждем\n",
      "desc_желание\n",
      "desc_желателен\n",
      "desc_желательно\n",
      "desc_з\n",
      "desc_зависимости\n",
      "desc_зависит\n",
      "desc_задач\n",
      "desc_задачи\n",
      "desc_задержек\n",
      "desc_заказов\n",
      "desc_зале\n",
      "desc_занимается\n",
      "desc_заниматься\n",
      "desc_занятость\n",
      "desc_зарабатывать\n",
      "desc_заработная\n",
      "desc_заработной\n",
      "desc_зарплата\n",
      "desc_заявок\n",
      "desc_звонки\n",
      "desc_звонков\n",
      "desc_знание\n",
      "desc_знания\n",
      "desc_зп\n",
      "desc_интервью\n",
      "desc_интересные\n",
      "desc_интернет\n",
      "desc_информации\n",
      "desc_исполнительность\n",
      "desc_испытательного\n",
      "desc_испытательный\n",
      "desc_итогам\n",
      "desc_ищем\n",
      "desc_каждого\n",
      "desc_кандидата\n",
      "desc_кандидатов\n",
      "desc_карьерного\n",
      "desc_карьерный\n",
      "desc_кассе\n",
      "desc_качества\n",
      "desc_квалификации\n",
      "desc_клиента\n",
      "desc_клиентам\n",
      "desc_клиентами\n",
      "desc_клиентов\n",
      "desc_клиентской\n",
      "desc_код\n",
      "desc_кода\n",
      "desc_коллектив\n",
      "desc_коллективе\n",
      "desc_команда\n",
      "desc_команде\n",
      "desc_командой\n",
      "desc_команду\n",
      "desc_команды\n",
      "desc_коммуникабельность\n",
      "desc_компании\n",
      "desc_компаний\n",
      "desc_компанию\n",
      "desc_компания\n",
      "desc_компенсация\n",
      "desc_конкурсы\n",
      "desc_консультация\n",
      "desc_консультирование\n",
      "desc_контроль\n",
      "desc_контроля\n",
      "desc_корпоративная\n",
      "desc_корпоративное\n",
      "desc_корпоративные\n",
      "desc_кофе\n",
      "desc_либо\n",
      "desc_листов\n",
      "desc_любой\n",
      "desc_людей\n",
      "desc_людьми\n",
      "desc_магазина\n",
      "desc_магазинах\n",
      "desc_магазинов\n",
      "desc_маркетинга\n",
      "desc_материалов\n",
      "desc_менеджер\n",
      "desc_менеджера\n",
      "desc_мероприятий\n",
      "desc_мероприятия\n",
      "desc_место\n",
      "desc_месяц\n",
      "desc_месяца\n",
      "desc_метро\n",
      "desc_мин\n",
      "desc_минут\n",
      "desc_многозадачности\n",
      "desc_можете\n",
      "desc_молодой\n",
      "desc_момент\n",
      "desc_москва\n",
      "desc_москве\n",
      "desc_москвы\n",
      "desc_навыки\n",
      "desc_наличие\n",
      "desc_наличия\n",
      "desc_написание\n",
      "desc_написания\n",
      "desc_нашего\n",
      "desc_нашей\n",
      "desc_нашим\n",
      "desc_наших\n",
      "desc_нашу\n",
      "desc_недвижимости\n",
      "desc_неделю\n",
      "desc_неделя\n",
      "desc_необходимо\n",
      "desc_неполная\n",
      "desc_неполный\n",
      "desc_новые\n",
      "desc_новый\n",
      "desc_новых\n",
      "desc_нужен\n",
      "desc_обеспечение\n",
      "desc_обеспечения\n",
      "desc_области\n",
      "desc_оборудования\n",
      "desc_обработка\n",
      "desc_образование\n",
      "desc_образования\n",
      "desc_обслуживание\n",
      "desc_обсуждается\n",
      "desc_обучаемость\n",
      "desc_обучение\n",
      "desc_обучения\n",
      "desc_общаться\n",
      "desc_общение\n",
      "desc_обязанности\n",
      "desc_обязателен\n",
      "desc_обязательно\n",
      "desc_оклад\n",
      "desc_онлайн\n",
      "desc_оплата\n",
      "desc_оплаты\n",
      "desc_оплачиваемый\n",
      "desc_оптимизация\n",
      "desc_опыт\n",
      "desc_опыта\n",
      "desc_опытом\n",
      "desc_организации\n",
      "desc_организация\n",
      "desc_основ\n",
      "desc_основе\n",
      "desc_ответственность\n",
      "desc_отдела\n",
      "desc_отпуск\n",
      "desc_отпусков\n",
      "desc_отслеживание\n",
      "desc_отсутствие\n",
      "desc_отчетности\n",
      "desc_отчетов\n",
      "desc_офис\n",
      "desc_офиса\n",
      "desc_офисе\n",
      "desc_официальная\n",
      "desc_официальное\n",
      "desc_оформление\n",
      "desc_п\n",
      "desc_пакет\n",
      "desc_первого\n",
      "desc_переговоров\n",
      "desc_персонала\n",
      "desc_писать\n",
      "desc_письменная\n",
      "desc_пк\n",
      "desc_плана\n",
      "desc_планирование\n",
      "desc_плата\n",
      "desc_платы\n",
      "desc_плюсом\n",
      "desc_пн\n",
      "desc_подбор\n",
      "desc_подготовка\n",
      "desc_поддержание\n",
      "desc_поддержка\n",
      "desc_подработки\n",
      "desc_подход\n",
      "desc_поиск\n",
      "desc_поиска\n",
      "desc_показателей\n",
      "desc_покупателей\n",
      "desc_полная\n",
      "desc_полностью\n",
      "desc_полный\n",
      "desc_пользователей\n",
      "desc_пользователь\n",
      "desc_помощь\n",
      "desc_понимание\n",
      "desc_поставщиков\n",
      "desc_постоянно\n",
      "desc_поэтому\n",
      "desc_пр\n",
      "desc_предлагаем\n",
      "desc_предложений\n",
      "desc_предоставление\n",
      "desc_предстоит\n",
      "desc_преимуществом\n",
      "desc_премии\n",
      "desc_премия\n",
      "desc_приветствуется\n",
      "desc_приглашаем\n",
      "desc_приглашает\n",
      "desc_прием\n",
      "desc_приложений\n",
      "desc_приложения\n",
      "desc_принципов\n",
      "desc_проведение\n",
      "desc_проведения\n",
      "desc_проверка\n",
      "desc_проводить\n",
      "desc_программ\n",
      "desc_программирования\n",
      "desc_программы\n",
      "desc_продаж\n",
      "desc_продажам\n",
      "desc_продажах\n",
      "desc_продажи\n",
      "desc_продукт\n",
      "desc_продукта\n",
      "desc_продуктов\n",
      "desc_продукты\n",
      "desc_продукции\n",
      "desc_проект\n",
      "desc_проекта\n",
      "desc_проектами\n",
      "desc_проектах\n",
      "desc_проектирования\n",
      "desc_проектов\n",
      "desc_проекты\n",
      "desc_производства\n",
      "desc_профессионалов\n",
      "desc_профессионального\n",
      "desc_профессиональное\n",
      "desc_профессиональный\n",
      "desc_процессов\n",
      "desc_процессы\n",
      "desc_пунктуальность\n",
      "desc_р\n",
      "desc_работ\n",
      "desc_работа\n",
      "desc_работаем\n",
      "desc_работает\n",
      "desc_работать\n",
      "desc_работе\n",
      "desc_работу\n",
      "desc_работы\n",
      "desc_рабочая\n",
      "desc_рабочего\n",
      "desc_рабочее\n",
      "desc_рабочий\n",
      "desc_рабочих\n",
      "desc_раза\n",
      "desc_развиваться\n",
      "desc_развитие\n",
      "desc_развития\n",
      "desc_различных\n",
      "desc_разных\n",
      "desc_разрабатывать\n",
      "desc_разработка\n",
      "desc_разработке\n",
      "desc_разработки\n",
      "desc_разработкой\n",
      "desc_разработчика\n",
      "desc_разработчиков\n",
      "desc_рамках\n",
      "desc_расти\n",
      "desc_расчет\n",
      "desc_реализации\n",
      "desc_режиме\n",
      "desc_результат\n",
      "desc_результатам\n",
      "desc_результатов\n",
      "desc_резюме\n",
      "desc_рекламных\n",
      "desc_речь\n",
      "desc_решать\n",
      "desc_решение\n",
      "desc_решений\n",
      "desc_решения\n",
      "desc_россии\n",
      "desc_рост\n",
      "desc_роста\n",
      "desc_руб\n",
      "desc_рублей\n",
      "desc_руки\n",
      "desc_руководителя\n",
      "desc_рф\n",
      "desc_рынка\n",
      "desc_рынке\n",
      "desc_сайтов\n",
      "desc_самостоятельно\n",
      "desc_сбор\n",
      "desc_свой\n",
      "desc_связи\n",
      "desc_связь\n",
      "desc_сделать\n",
      "desc_сервис\n",
      "desc_сервисов\n",
      "desc_сетей\n",
      "desc_сети\n",
      "desc_сеть\n",
      "desc_систем\n",
      "desc_система\n",
      "desc_системами\n",
      "desc_системе\n",
      "desc_системы\n",
      "desc_скидки\n",
      "desc_склад\n",
      "desc_собеседование\n",
      "desc_собеседования\n",
      "desc_соблюдение\n",
      "desc_совместительству\n",
      "desc_согласно\n",
      "desc_согласование\n",
      "desc_создавать\n",
      "desc_создание\n",
      "desc_соответствии\n",
      "desc_сопровождение\n",
      "desc_составление\n",
      "desc_сотрудника\n",
      "desc_сотрудников\n",
      "desc_соц\n",
      "desc_социальные\n",
      "desc_специалиста\n",
      "desc_специалистов\n",
      "desc_спецодежда\n",
      "desc_способность\n",
      "desc_среднего\n",
      "desc_срок\n",
      "desc_срока\n",
      "desc_сроков\n",
      "desc_ст\n",
      "desc_стабильная\n",
      "desc_стать\n",
      "desc_стрессоустойчивость\n",
      "desc_сфере\n",
      "desc_счет\n",
      "desc_телефону\n",
      "desc_территории\n",
      "desc_тестирования\n",
      "desc_технических\n",
      "desc_техническое\n",
      "desc_технической\n",
      "desc_технологии\n",
      "desc_технологий\n",
      "desc_тк\n",
      "desc_товара\n",
      "desc_товаров\n",
      "desc_требований\n",
      "desc_требования\n",
      "desc_требуется\n",
      "desc_тренинги\n",
      "desc_труда\n",
      "desc_трудоустройство\n",
      "desc_уборка\n",
      "desc_уверенное\n",
      "desc_уверенный\n",
      "desc_удаленная\n",
      "desc_удаленно\n",
      "desc_умение\n",
      "desc_управление\n",
      "desc_управления\n",
      "desc_уровень\n",
      "desc_уровне\n",
      "desc_уровня\n",
      "desc_условия\n",
      "desc_услуг\n",
      "desc_услуги\n",
      "desc_устная\n",
      "desc_участвовать\n",
      "desc_участие\n",
      "desc_учета\n",
      "desc_учиться\n",
      "desc_фирменная\n",
      "desc_формирование\n",
      "desc_х\n",
      "desc_хорошее\n",
      "desc_хотите\n",
      "desc_ценников\n",
      "desc_центре\n",
      "desc_ч\n",
      "desc_часов\n",
      "desc_части\n",
      "desc_часть\n",
      "desc_частью\n",
      "desc_человека\n",
      "desc_числе\n",
      "desc_является\n",
      "desc_язык\n",
      "desc_языка\n",
      "empl_(ооо\n",
      "empl_-\n",
      "empl_group\n",
      "empl_hr\n",
      "empl_jcat.ru\n",
      "empl_personname\n",
      "empl_solutions\n",
      "empl_агентство\n",
      "empl_бизнес\n",
      "empl_билайн\n",
      "empl_бюро\n",
      "empl_г.\n",
      "empl_гбу\n",
      "empl_гбуз\n",
      "empl_гк\n",
      "empl_города\n",
      "empl_групп\n",
      "empl_группа\n",
      "empl_гу\n",
      "empl_детский\n",
      "empl_дом\n",
      "empl_компаний\n",
      "empl_компания\n",
      "empl_консалтинг\n",
      "empl_лаборатория\n",
      "empl_магазинов\n",
      "empl_мвд\n",
      "empl_мир\n",
      "empl_москвы\n",
      "empl_московский\n",
      "empl_недвижимости\n",
      "empl_перекресток\n",
      "empl_пятёрочка\n",
      "empl_развития\n",
      "empl_розничная\n",
      "empl_россии\n",
      "empl_рус\n",
      "empl_сервис\n",
      "empl_сеть\n",
      "empl_системы\n",
      "empl_спб\n",
      "empl_технологии\n",
      "empl_университет\n",
      "empl_управление\n",
      "empl_фгуп\n",
      "empl_федеральная\n",
      "empl_холдинг\n",
      "empl_центр\n",
      "empl_школа\n",
      "empl_экспресс\n",
      "name_(м.\n",
      "name_(москва,\n",
      "name_(санкт-петербург,\n",
      "name_(удаленно)\n",
      "name_-\n",
      "name_/\n",
      "name_backend\n",
      "name_developer\n",
      "name_engineer\n",
      "name_frontend\n",
      "name_junior\n",
      "name_manager\n",
      "name_middle\n",
      "name_php\n",
      "name_product\n",
      "name_python\n",
      "name_senior\n",
      "name_администратор\n",
      "name_аналитик\n",
      "name_ассистент\n",
      "name_бухгалтер\n",
      "name_ведущий\n",
      "name_дизайнер\n",
      "name_закупкам\n",
      "name_инженер\n",
      "name_клиентами\n",
      "name_менеджер\n",
      "name_младший\n",
      "name_оператор\n",
      "name_отдела\n",
      "name_персонала\n",
      "name_подбору\n",
      "name_помощник\n",
      "name_преподаватель\n",
      "name_программист\n",
      "name_продавец-кассир\n",
      "name_продавец-консультант\n",
      "name_продаж\n",
      "name_продажам\n",
      "name_работе\n",
      "name_разработчик\n",
      "name_рекрутер\n",
      "name_руководитель\n",
      "name_руководителя\n",
      "name_специалист\n",
      "name_стажер\n",
      "name_старший\n",
      "name_уборщица/уборщик\n",
      "name_ул\n",
      "name_юрист\n"
     ]
    }
   ],
   "source": [
    "for columnName in df.columns:\n",
    "    print(columnName)\n",
    "    if not (columnName in df_test.columns) and (columnName != 'salary_to'):\n",
    "        df_test[columnName] = [False] * df_test.shape[0]"
   ]
  },
  {
   "cell_type": "code",
   "execution_count": 123,
   "id": "2e129860-94ee-4a02-addd-ad678fa0b874",
   "metadata": {
    "ExecuteTime": {
     "end_time": "2024-01-09T01:36:53.956403900Z",
     "start_time": "2024-01-09T01:36:53.756301500Z"
    }
   },
   "outputs": [
    {
     "data": {
      "text/plain": "Index(['area_name_Other', 'area_name_Екатеринбург', 'area_name_Казань',\n       'area_name_Краснодар', 'area_name_Москва', 'area_name_Новосибирск',\n       'area_name_Санкт-Петербург', 'has_test', 'response_letter_required',\n       'salary_from',\n       ...\n       'name_разработчик', 'name_рекрутер', 'name_руководитель',\n       'name_руководителя', 'name_специалист', 'name_стажер', 'name_старший',\n       'name_уборщица/уборщик', 'name_ул', 'name_юрист'],\n      dtype='object', length=626)"
     },
     "execution_count": 123,
     "metadata": {},
     "output_type": "execute_result"
    }
   ],
   "source": [
    "df_test.columns"
   ]
  },
  {
   "cell_type": "code",
   "execution_count": 124,
   "id": "6357a8ab-69e8-4680-9b08-e999a8771a19",
   "metadata": {
    "ExecuteTime": {
     "end_time": "2024-01-09T01:36:55.149522900Z",
     "start_time": "2024-01-09T01:36:54.980720600Z"
    }
   },
   "outputs": [
    {
     "data": {
      "text/plain": "Index(['area_name_Other', 'area_name_Екатеринбург', 'area_name_Казань',\n       'area_name_Краснодар', 'area_name_Москва', 'area_name_Новосибирск',\n       'area_name_Санкт-Петербург', 'has_test', 'response_letter_required',\n       'salary_from',\n       ...\n       'name_разработчик', 'name_рекрутер', 'name_руководитель',\n       'name_руководителя', 'name_специалист', 'name_стажер', 'name_старший',\n       'name_уборщица/уборщик', 'name_ул', 'name_юрист'],\n      dtype='object', length=627)"
     },
     "execution_count": 124,
     "metadata": {},
     "output_type": "execute_result"
    }
   ],
   "source": [
    "df.columns"
   ]
  },
  {
   "cell_type": "markdown",
   "id": "ef27f090-05cc-4604-8083-7c37f0f6c60a",
   "metadata": {},
   "source": [
    "Переупорядочиваем столбцы, чтобы соответствовать обучаемой выборке:"
   ]
  },
  {
   "cell_type": "code",
   "execution_count": 125,
   "id": "fd479424-7692-4d0d-971b-ee8cd6774bb8",
   "metadata": {
    "ExecuteTime": {
     "end_time": "2024-01-09T01:36:57.125340900Z",
     "start_time": "2024-01-09T01:36:56.971278300Z"
    }
   },
   "outputs": [],
   "source": [
    "columns = df.columns.tolist()\n",
    "columns.remove('salary_to')\n",
    "df_test = df_test[columns]"
   ]
  },
  {
   "cell_type": "markdown",
   "id": "8663bbad-4580-4907-9501-6e50d51412ce",
   "metadata": {},
   "source": [
    "Делаем предсказания:"
   ]
  },
  {
   "cell_type": "code",
   "outputs": [],
   "source": [
    "dtest_reg1 = xgb.DMatrix(df_test)"
   ],
   "metadata": {
    "collapsed": false,
    "ExecuteTime": {
     "end_time": "2024-01-09T01:39:40.673350500Z",
     "start_time": "2024-01-09T01:39:39.369165700Z"
    }
   },
   "id": "3ada0b22ab343047",
   "execution_count": 127
  },
  {
   "cell_type": "code",
   "execution_count": 140,
   "id": "ff7bb904-78a3-4f07-987f-b21a21c5f0de",
   "metadata": {
    "ExecuteTime": {
     "end_time": "2024-01-09T03:16:31.594006Z",
     "start_time": "2024-01-09T03:16:30.812438100Z"
    }
   },
   "outputs": [],
   "source": [
    "y_pred_test1_1 = xg_model3.predict(dtest_reg1)\n",
    "y_pred_test1_2 = xg_model_v2.predict(dtest_reg1)\n",
    "y_pred_test1_3 = cat_model.predict(df_test)\n",
    "y_pred_test1_4 = cat_model2.predict(df_test)"
   ]
  },
  {
   "cell_type": "code",
   "outputs": [],
   "source": [
    "y_pred_test_combo1 = min_k1 / 100 * y_pred_test1_1 + min_k3 / 100 * y_pred_test1_2 + min_k2 / 100 * y_pred_test1_3 + (100 - min_k1 - min_k2 - min_k3) / 100 * y_pred_test1_4"
   ],
   "metadata": {
    "collapsed": false,
    "ExecuteTime": {
     "end_time": "2024-01-09T03:16:32.920400200Z",
     "start_time": "2024-01-09T03:16:32.604603Z"
    }
   },
   "id": "42b3a3a81c82a59d",
   "execution_count": 141
  },
  {
   "cell_type": "markdown",
   "id": "50aa8ae5-30ec-403a-b001-6ef6e3eeaa7c",
   "metadata": {},
   "source": [
    "Пишем требуемый результат в файл:"
   ]
  },
  {
   "cell_type": "code",
   "execution_count": 142,
   "id": "c93642f3-57bf-4494-86f4-39b0f3c4e615",
   "metadata": {
    "ExecuteTime": {
     "end_time": "2024-01-09T03:16:35.140734Z",
     "start_time": "2024-01-09T03:16:34.973569Z"
    }
   },
   "outputs": [],
   "source": [
    "df_test_full = df_test.assign(salary_to = y_pred_test_combo1)"
   ]
  },
  {
   "cell_type": "code",
   "execution_count": 143,
   "id": "caa31c6c-e6c0-4ec0-8f69-25bcca9af13a",
   "metadata": {
    "ExecuteTime": {
     "end_time": "2024-01-09T03:16:35.608095500Z",
     "start_time": "2024-01-09T03:16:35.431094400Z"
    }
   },
   "outputs": [
    {
     "data": {
      "text/plain": "id\n20978     48760.999178\n3102      40310.176084\n14731    303322.595593\n16113    231484.881607\n8410     126611.941859\n             ...      \n29490     53822.838756\n34298     73194.008535\n33921     38993.158248\n8886      72355.922237\n23978     27729.805540\nName: salary_to, Length: 9312, dtype: float64"
     },
     "execution_count": 143,
     "metadata": {},
     "output_type": "execute_result"
    }
   ],
   "source": [
    "df_output = pd.concat([df_test_full['salary_to']])\n",
    "df_output"
   ]
  },
  {
   "cell_type": "code",
   "execution_count": 144,
   "id": "2bf4fc91-9799-4646-bdf7-f587e73142f7",
   "metadata": {
    "ExecuteTime": {
     "end_time": "2024-01-09T03:16:36.521149600Z",
     "start_time": "2024-01-09T03:16:36.356576900Z"
    }
   },
   "outputs": [],
   "source": [
    "from pathlib import Path  \n",
    "filepath = Path('y_test.csv')  \n",
    "filepath.parent.mkdir(parents=True, exist_ok=True)  \n",
    "df_output.to_csv(filepath)  "
   ]
  },
  {
   "cell_type": "code",
   "execution_count": null,
   "id": "ce7ec4e2-3f8a-41bb-85be-18190b4f92b1",
   "metadata": {},
   "outputs": [],
   "source": []
  },
  {
   "cell_type": "code",
   "execution_count": null,
   "id": "17d7c09a-6397-4ff9-8a3d-d57ff6b5b907",
   "metadata": {},
   "outputs": [],
   "source": []
  },
  {
   "cell_type": "code",
   "execution_count": null,
   "id": "e05daf0b-2b53-4b29-ae76-7f3d44155d7e",
   "metadata": {},
   "outputs": [],
   "source": []
  }
 ],
 "metadata": {
  "kernelspec": {
   "display_name": "Python 3 (ipykernel)",
   "language": "python",
   "name": "python3"
  },
  "language_info": {
   "codemirror_mode": {
    "name": "ipython",
    "version": 3
   },
   "file_extension": ".py",
   "mimetype": "text/x-python",
   "name": "python",
   "nbconvert_exporter": "python",
   "pygments_lexer": "ipython3",
   "version": "3.11.5"
  }
 },
 "nbformat": 4,
 "nbformat_minor": 5
}
