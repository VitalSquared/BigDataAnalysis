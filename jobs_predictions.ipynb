{
 "cells": [
  {
   "cell_type": "markdown",
   "id": "cff17164-0c1f-444f-a3de-74dddc485286",
   "metadata": {},
   "source": [
    "<H1>Необходимо предсказать верхнюю границу заработной платы (salary_to) для вакансии</H1>"
   ]
  },
  {
   "cell_type": "code",
   "execution_count": 1,
   "id": "2d5d1cec-0bee-487b-b598-7457d1e3c8f2",
   "metadata": {
    "ExecuteTime": {
     "end_time": "2024-01-07T05:31:38.774024500Z",
     "start_time": "2024-01-07T05:31:37.543496600Z"
    }
   },
   "outputs": [
    {
     "data": {
      "text/plain": "<IPython.core.display.HTML object>",
      "text/html": "<style>.container {width:100% !important;}</style>"
     },
     "metadata": {},
     "output_type": "display_data"
    }
   ],
   "source": [
    "import pandas as pd\n",
    "import numpy as np\n",
    "from tqdm.notebook import tqdm\n",
    "from datetime import datetime, timedelta, date\n",
    "import warnings\n",
    "warnings.filterwarnings('ignore')\n",
    "from tqdm.auto import tqdm\n",
    "tqdm.pandas()\n",
    "\n",
    "from IPython.core.display import display, HTML\n",
    "display(HTML(\"<style>.container {width:100% !important;}</style>\"))\n",
    "\n",
    "import xlrd\n",
    "from itertools import chain\n",
    "pd.set_option('display.max_colwidth', None)"
   ]
  },
  {
   "cell_type": "markdown",
   "id": "0afa045e-5363-4d28-ae79-8231118b5036",
   "metadata": {},
   "source": [
    "Считываем данные для обучения:"
   ]
  },
  {
   "cell_type": "code",
   "execution_count": 2,
   "id": "2c74e23e-1650-4549-b1f9-767deba3a8db",
   "metadata": {
    "ExecuteTime": {
     "end_time": "2024-01-07T05:31:46.073310400Z",
     "start_time": "2024-01-07T05:31:43.345965600Z"
    }
   },
   "outputs": [],
   "source": [
    "df = pd.read_csv('X_train.csv', parse_dates=['published_at', 'created_at'])"
   ]
  },
  {
   "cell_type": "markdown",
   "id": "90d8c2de-d457-46d1-8e6d-86cdb64fd283",
   "metadata": {},
   "source": [
    "Считываем значения salary_to для данных для обучения и мерджим с предыдущей таблицей"
   ]
  },
  {
   "cell_type": "code",
   "execution_count": 3,
   "id": "45c435c4-220b-42d3-979a-029bf13b9363",
   "metadata": {
    "ExecuteTime": {
     "end_time": "2024-01-07T05:31:49.291607Z",
     "start_time": "2024-01-07T05:31:49.129167200Z"
    }
   },
   "outputs": [],
   "source": [
    "df1 = pd.read_csv('y_train.csv')\n",
    "df = df.set_index('id').join(df1.set_index('id'))"
   ]
  },
  {
   "cell_type": "markdown",
   "id": "b1586e65-98eb-4257-920b-6aff7dbd2919",
   "metadata": {},
   "source": [
    "<H1>Исследование данных / Data exploration</H1>"
   ]
  },
  {
   "cell_type": "code",
   "execution_count": 4,
   "id": "8f8af7f1-b0f7-44b3-82bb-5c5a07486b8c",
   "metadata": {
    "ExecuteTime": {
     "end_time": "2024-01-07T05:31:52.639848500Z",
     "start_time": "2024-01-07T05:31:52.476747100Z"
    }
   },
   "outputs": [
    {
     "name": "stdout",
     "output_type": "stream",
     "text": [
      "<class 'pandas.core.frame.DataFrame'>\n",
      "Index: 27934 entries, 29083 to 15795\n",
      "Data columns (total 13 columns):\n",
      " #   Column                    Non-Null Count  Dtype              \n",
      "---  ------                    --------------  -----              \n",
      " 0   name                      27934 non-null  object             \n",
      " 1   has_test                  27934 non-null  bool               \n",
      " 2   response_letter_required  27934 non-null  bool               \n",
      " 3   salary_from               23902 non-null  float64            \n",
      " 4   salary_currency           27934 non-null  object             \n",
      " 5   salary_gross              27786 non-null  object             \n",
      " 6   published_at              27934 non-null  datetime64[ns, UTC]\n",
      " 7   created_at                27934 non-null  datetime64[ns, UTC]\n",
      " 8   employer_name             27934 non-null  object             \n",
      " 9   description               27933 non-null  object             \n",
      " 10  area_id                   27934 non-null  int64              \n",
      " 11  area_name                 27934 non-null  object             \n",
      " 12  salary_to                 27934 non-null  float64            \n",
      "dtypes: bool(2), datetime64[ns, UTC](2), float64(2), int64(1), object(6)\n",
      "memory usage: 3.6+ MB\n"
     ]
    }
   ],
   "source": [
    "df.info()"
   ]
  },
  {
   "cell_type": "markdown",
   "id": "9b2b2895-b2d1-4234-8fc9-a1cbdf1346ad",
   "metadata": {},
   "source": [
    "Можно увидеть, что есть пустые значения у <i>salary_from</i>. Есть пустые значения у <i>salary_gross</i>, который должен быть из описания bool, а импортировался как object. И ещё отсутствует одно значение в <i>description</i>."
   ]
  },
  {
   "cell_type": "code",
   "execution_count": 5,
   "id": "e1327c63-b522-447e-816b-e2b11f79a0b2",
   "metadata": {
    "ExecuteTime": {
     "end_time": "2024-01-07T05:31:59.664412800Z",
     "start_time": "2024-01-07T05:31:59.496187900Z"
    }
   },
   "outputs": [
    {
     "data": {
      "text/plain": "                        name salary_currency salary_gross employer_name  \\\ncount                  27934           27934        27786         27934   \nunique                 16395               1            2         13318   \ntop     Менеджер по продажам             RUR        False     Пятёрочка   \nfreq                     337           27934        18726           927   \n\n                                                                                                                                                                                                                                                                                                                                                                                                                                                                                                                                                                                                                                                                                                                                                                                                                                                                         description  \\\ncount                                                                                                                                                                                                                                                                                                                                                                                                                                                                                                                                                                                                                                                                                                                                                                                                                                                                          27933   \nunique                                                                                                                                                                                                                                                                                                                                                                                                                                                                                                                                                                                                                                                                                                                                                                                                                                                                         23681   \ntop     <p><strong>Обязанности:</strong></p><ul><li>Обслуживание покупателей на кассе (наличный и безналичный расчет)</li><li>Выкладка товара в зале</li><li>Отслеживание сроков годности товара</li><li>Проверка наличия ценников</li><li>Консультация покупателей в зале</li></ul><p><strong>Требования:</strong></p><ul><li>Ответственность, дисциплинированность, внимательность</li></ul><p><strong>Условия:</strong></p><ul><li>График работы 5/2, 2/2, возможен неполный рабочий день, неполная рабочая неделя</li><li>Возможность подработки (работа по совместительству)</li><li>Социальные гарантии, оплата отпусков и больничных листов</li><li>Работа рядом с домом</li><li>Скидки в магазинах сети</li><li>Фирменная спецодежда</li><li>Возможность профессионального и карьерного роста, корпоративное обучение</li><li>Корпоративные мероприятия и конкурсы</li></ul>   \nfreq                                                                                                                                                                                                                                                                                                                                                                                                                                                                                                                                                                                                                                                                                                                                                                                                                                                                             624   \n\n       area_name  \ncount      27934  \nunique       156  \ntop       Москва  \nfreq       20512  ",
      "text/html": "<div>\n<style scoped>\n    .dataframe tbody tr th:only-of-type {\n        vertical-align: middle;\n    }\n\n    .dataframe tbody tr th {\n        vertical-align: top;\n    }\n\n    .dataframe thead th {\n        text-align: right;\n    }\n</style>\n<table border=\"1\" class=\"dataframe\">\n  <thead>\n    <tr style=\"text-align: right;\">\n      <th></th>\n      <th>name</th>\n      <th>salary_currency</th>\n      <th>salary_gross</th>\n      <th>employer_name</th>\n      <th>description</th>\n      <th>area_name</th>\n    </tr>\n  </thead>\n  <tbody>\n    <tr>\n      <th>count</th>\n      <td>27934</td>\n      <td>27934</td>\n      <td>27786</td>\n      <td>27934</td>\n      <td>27933</td>\n      <td>27934</td>\n    </tr>\n    <tr>\n      <th>unique</th>\n      <td>16395</td>\n      <td>1</td>\n      <td>2</td>\n      <td>13318</td>\n      <td>23681</td>\n      <td>156</td>\n    </tr>\n    <tr>\n      <th>top</th>\n      <td>Менеджер по продажам</td>\n      <td>RUR</td>\n      <td>False</td>\n      <td>Пятёрочка</td>\n      <td>&lt;p&gt;&lt;strong&gt;Обязанности:&lt;/strong&gt;&lt;/p&gt;&lt;ul&gt;&lt;li&gt;Обслуживание покупателей на кассе (наличный и безналичный расчет)&lt;/li&gt;&lt;li&gt;Выкладка товара в зале&lt;/li&gt;&lt;li&gt;Отслеживание сроков годности товара&lt;/li&gt;&lt;li&gt;Проверка наличия ценников&lt;/li&gt;&lt;li&gt;Консультация покупателей в зале&lt;/li&gt;&lt;/ul&gt;&lt;p&gt;&lt;strong&gt;Требования:&lt;/strong&gt;&lt;/p&gt;&lt;ul&gt;&lt;li&gt;Ответственность, дисциплинированность, внимательность&lt;/li&gt;&lt;/ul&gt;&lt;p&gt;&lt;strong&gt;Условия:&lt;/strong&gt;&lt;/p&gt;&lt;ul&gt;&lt;li&gt;График работы 5/2, 2/2, возможен неполный рабочий день, неполная рабочая неделя&lt;/li&gt;&lt;li&gt;Возможность подработки (работа по совместительству)&lt;/li&gt;&lt;li&gt;Социальные гарантии, оплата отпусков и больничных листов&lt;/li&gt;&lt;li&gt;Работа рядом с домом&lt;/li&gt;&lt;li&gt;Скидки в магазинах сети&lt;/li&gt;&lt;li&gt;Фирменная спецодежда&lt;/li&gt;&lt;li&gt;Возможность профессионального и карьерного роста, корпоративное обучение&lt;/li&gt;&lt;li&gt;Корпоративные мероприятия и конкурсы&lt;/li&gt;&lt;/ul&gt;</td>\n      <td>Москва</td>\n    </tr>\n    <tr>\n      <th>freq</th>\n      <td>337</td>\n      <td>27934</td>\n      <td>18726</td>\n      <td>927</td>\n      <td>624</td>\n      <td>20512</td>\n    </tr>\n  </tbody>\n</table>\n</div>"
     },
     "execution_count": 5,
     "metadata": {},
     "output_type": "execute_result"
    }
   ],
   "source": [
    "pd.options.display.max_rows = 13\n",
    "df.describe(include='O')"
   ]
  },
  {
   "cell_type": "markdown",
   "id": "534b883d-b31d-4f25-b3ac-de427c154825",
   "metadata": {},
   "source": [
    "<H1>Даты</H1>"
   ]
  },
  {
   "cell_type": "markdown",
   "id": "ae2f7309-4574-4057-b4fe-b8426d8f1067",
   "metadata": {},
   "source": [
    "Посмотрим корреляцию <i>published_at</i> и <i>created_at</i>."
   ]
  },
  {
   "cell_type": "code",
   "execution_count": 7,
   "id": "f8174c47-7d0d-4a05-88ea-fae67d66698e",
   "metadata": {
    "ExecuteTime": {
     "end_time": "2024-01-07T05:33:24.116982700Z",
     "start_time": "2024-01-07T05:33:23.977425500Z"
    }
   },
   "outputs": [
    {
     "data": {
      "text/plain": "<pandas.io.formats.style.Styler at 0x1f5608a6210>",
      "text/html": "<style type=\"text/css\">\n#T_50fb5_row0_col0, #T_50fb5_row0_col1, #T_50fb5_row1_col0, #T_50fb5_row1_col1 {\n  background-color: #fff7fb;\n  color: #000000;\n}\n</style>\n<table id=\"T_50fb5\">\n  <thead>\n    <tr>\n      <th class=\"blank level0\" >&nbsp;</th>\n      <th id=\"T_50fb5_level0_col0\" class=\"col_heading level0 col0\" >published_at</th>\n      <th id=\"T_50fb5_level0_col1\" class=\"col_heading level0 col1\" >created_at</th>\n    </tr>\n  </thead>\n  <tbody>\n    <tr>\n      <th id=\"T_50fb5_level0_row0\" class=\"row_heading level0 row0\" >published_at</th>\n      <td id=\"T_50fb5_row0_col0\" class=\"data row0 col0\" >1.000000</td>\n      <td id=\"T_50fb5_row0_col1\" class=\"data row0 col1\" >1.000000</td>\n    </tr>\n    <tr>\n      <th id=\"T_50fb5_level0_row1\" class=\"row_heading level0 row1\" >created_at</th>\n      <td id=\"T_50fb5_row1_col0\" class=\"data row1 col0\" >1.000000</td>\n      <td id=\"T_50fb5_row1_col1\" class=\"data row1 col1\" >1.000000</td>\n    </tr>\n  </tbody>\n</table>\n"
     },
     "execution_count": 7,
     "metadata": {},
     "output_type": "execute_result"
    }
   ],
   "source": [
    "#(df['published_at']==df['created_at']).value_counts()\n",
    "df[['published_at', 'created_at']].corr().style.background_gradient()"
   ]
  },
  {
   "cell_type": "markdown",
   "id": "09cb2bae-a6dd-4f38-9627-ebda8b6de2b0",
   "metadata": {},
   "source": [
    "Эти столбцы полностью совпадают, один из них можно удалить."
   ]
  },
  {
   "cell_type": "code",
   "execution_count": 8,
   "id": "7e29dcd6-a875-4af7-815a-f2c5a2ae67f1",
   "metadata": {
    "ExecuteTime": {
     "end_time": "2024-01-07T05:33:34.332490900Z",
     "start_time": "2024-01-07T05:33:34.168034900Z"
    }
   },
   "outputs": [],
   "source": [
    "df = df.drop(columns=['created_at'])"
   ]
  },
  {
   "cell_type": "markdown",
   "id": "7d9c89fb-d1f0-4374-aa12-e6bb6501d7d3",
   "metadata": {},
   "source": [
    "Разберемся с датами в <i>published_at</i>. Заменим даты на разницу между концом 2022 года (за который собирался dataset) и датой в <i>published_at</i>:"
   ]
  },
  {
   "cell_type": "code",
   "execution_count": 9,
   "id": "83d2ac63-cb4c-4a99-a228-d7abf7aac73c",
   "metadata": {
    "ExecuteTime": {
     "end_time": "2024-01-07T05:33:36.841948100Z",
     "start_time": "2024-01-07T05:33:36.572707200Z"
    }
   },
   "outputs": [],
   "source": [
    "df['published_at_diff'] = df['published_at'].map(lambda x: datetime.timestamp(datetime(2023, 1, 1)) - x.timestamp())"
   ]
  },
  {
   "cell_type": "markdown",
   "id": "33b5777a-7127-4465-82d8-c07950bc10b6",
   "metadata": {},
   "source": [
    "Теперь столбец <i>published_at</i> можно удалить."
   ]
  },
  {
   "cell_type": "code",
   "execution_count": 10,
   "id": "0ee1c906-1e70-444e-9256-b37caafc0303",
   "metadata": {
    "ExecuteTime": {
     "end_time": "2024-01-07T05:33:40.082000900Z",
     "start_time": "2024-01-07T05:33:39.993715500Z"
    }
   },
   "outputs": [],
   "source": [
    "df = df.drop(columns=['published_at'])"
   ]
  },
  {
   "cell_type": "code",
   "execution_count": 11,
   "id": "86e8c3dc-4a73-40a6-acb3-2b81da02c969",
   "metadata": {
    "ExecuteTime": {
     "end_time": "2024-01-07T05:33:40.817405100Z",
     "start_time": "2024-01-07T05:33:40.670385600Z"
    }
   },
   "outputs": [
    {
     "name": "stdout",
     "output_type": "stream",
     "text": [
      "<class 'pandas.core.frame.DataFrame'>\n",
      "Index: 27934 entries, 29083 to 15795\n",
      "Data columns (total 12 columns):\n",
      " #   Column                    Non-Null Count  Dtype  \n",
      "---  ------                    --------------  -----  \n",
      " 0   name                      27934 non-null  object \n",
      " 1   has_test                  27934 non-null  bool   \n",
      " 2   response_letter_required  27934 non-null  bool   \n",
      " 3   salary_from               23902 non-null  float64\n",
      " 4   salary_currency           27934 non-null  object \n",
      " 5   salary_gross              27786 non-null  object \n",
      " 6   employer_name             27934 non-null  object \n",
      " 7   description               27933 non-null  object \n",
      " 8   area_id                   27934 non-null  int64  \n",
      " 9   area_name                 27934 non-null  object \n",
      " 10  salary_to                 27934 non-null  float64\n",
      " 11  published_at_diff         27934 non-null  float64\n",
      "dtypes: bool(2), float64(3), int64(1), object(6)\n",
      "memory usage: 3.4+ MB\n"
     ]
    }
   ],
   "source": [
    "df.info()"
   ]
  },
  {
   "cell_type": "markdown",
   "id": "75ed9140-7423-4af7-b816-f34cfa9c3a38",
   "metadata": {},
   "source": [
    "<H1>Количественные / Quantitative</H1>"
   ]
  },
  {
   "cell_type": "markdown",
   "id": "3f4bfbfd-9600-4fa6-8f15-180e7a0ce6c9",
   "metadata": {},
   "source": [
    "В salary_from есть пустые значения. Поместим туда самое частое значение:"
   ]
  },
  {
   "cell_type": "code",
   "execution_count": 12,
   "id": "4d039cd1-dae6-43cb-a18a-dde004ea3e9a",
   "metadata": {
    "ExecuteTime": {
     "end_time": "2024-01-07T05:33:45.215884400Z",
     "start_time": "2024-01-07T05:33:45.097960300Z"
    }
   },
   "outputs": [],
   "source": [
    "#df_filtered = df.dropna(subset = ['salary_from'])\n",
    "df.salary_from.fillna(df.salary_from.mode()[0], inplace = True)"
   ]
  },
  {
   "cell_type": "code",
   "execution_count": 13,
   "id": "c25270ee-083e-4a2a-a831-30a5b343dfe0",
   "metadata": {
    "ExecuteTime": {
     "end_time": "2024-01-07T05:33:46.459782500Z",
     "start_time": "2024-01-07T05:33:46.307934Z"
    }
   },
   "outputs": [
    {
     "name": "stdout",
     "output_type": "stream",
     "text": [
      "<class 'pandas.core.frame.DataFrame'>\n",
      "Index: 27934 entries, 29083 to 15795\n",
      "Data columns (total 12 columns):\n",
      " #   Column                    Non-Null Count  Dtype  \n",
      "---  ------                    --------------  -----  \n",
      " 0   name                      27934 non-null  object \n",
      " 1   has_test                  27934 non-null  bool   \n",
      " 2   response_letter_required  27934 non-null  bool   \n",
      " 3   salary_from               27934 non-null  float64\n",
      " 4   salary_currency           27934 non-null  object \n",
      " 5   salary_gross              27786 non-null  object \n",
      " 6   employer_name             27934 non-null  object \n",
      " 7   description               27933 non-null  object \n",
      " 8   area_id                   27934 non-null  int64  \n",
      " 9   area_name                 27934 non-null  object \n",
      " 10  salary_to                 27934 non-null  float64\n",
      " 11  published_at_diff         27934 non-null  float64\n",
      "dtypes: bool(2), float64(3), int64(1), object(6)\n",
      "memory usage: 3.4+ MB\n"
     ]
    }
   ],
   "source": [
    "df.info()"
   ]
  },
  {
   "cell_type": "markdown",
   "id": "ee1c3cca-277a-493d-be83-68264d7a9f94",
   "metadata": {},
   "source": [
    "Посмотрим на распределение всех числовых величин:"
   ]
  },
  {
   "cell_type": "code",
   "execution_count": 14,
   "id": "2e63bb51-3c5e-4b4e-a8c1-f716323bae5e",
   "metadata": {
    "ExecuteTime": {
     "end_time": "2024-01-07T05:33:58.752009Z",
     "start_time": "2024-01-07T05:33:56.685241700Z"
    }
   },
   "outputs": [
    {
     "data": {
      "text/plain": "<Figure size 1000x1500 with 3 Axes>",
      "image/png": "[encoded data removed]"
     },
     "metadata": {},
     "output_type": "display_data"
    }
   ],
   "source": [
    "import matplotlib.pyplot as plt\n",
    "df_numeric = df[['salary_from', 'salary_to', 'published_at_diff']]\n",
    "# Создаем гистограммы для всех столбцов\n",
    "fig, axes = plt.subplots(nrows=len(df_numeric.columns), ncols=1, figsize=(10, 15))\n",
    "\n",
    "# Проходимся по всем столбцам DataFrame и создаем гистограмму для каждого столбца\n",
    "for i, column in enumerate(df_numeric.columns):\n",
    "    df_numeric[column].plot(kind='hist', bins=25, ax=axes[i])\n",
    "    axes[i].set_title(column)\n",
    "\n",
    "plt.tight_layout()\n",
    "plt.show()"
   ]
  },
  {
   "cell_type": "markdown",
   "id": "727ffa2f-ad8d-4120-96c7-ed5a729ad38c",
   "metadata": {},
   "source": [
    "Нормализуем <i>publised_at_diff</i>:"
   ]
  },
  {
   "cell_type": "code",
   "execution_count": 15,
   "id": "d9edc72c-10e1-4706-86a2-ce9db1fdfcf8",
   "metadata": {
    "ExecuteTime": {
     "end_time": "2024-01-07T05:34:03.018567600Z",
     "start_time": "2024-01-07T05:34:02.908597400Z"
    }
   },
   "outputs": [],
   "source": [
    "df[\"published_at_diff\"] = df[\"published_at_diff\"] / 1e7"
   ]
  },
  {
   "cell_type": "markdown",
   "id": "b5dc1196-1e60-4045-a095-47be90086b8a",
   "metadata": {},
   "source": [
    "<H1>Категориальные / Category</H1>"
   ]
  },
  {
   "cell_type": "code",
   "execution_count": 16,
   "id": "fa64bb13-5c42-456d-aca9-0b9ca8a334b2",
   "metadata": {
    "ExecuteTime": {
     "end_time": "2024-01-07T05:34:04.955180200Z",
     "start_time": "2024-01-07T05:34:04.854788Z"
    }
   },
   "outputs": [
    {
     "name": "stdout",
     "output_type": "stream",
     "text": [
      "<class 'pandas.core.frame.DataFrame'>\n",
      "Index: 27934 entries, 29083 to 15795\n",
      "Data columns (total 12 columns):\n",
      " #   Column                    Non-Null Count  Dtype  \n",
      "---  ------                    --------------  -----  \n",
      " 0   name                      27934 non-null  object \n",
      " 1   has_test                  27934 non-null  bool   \n",
      " 2   response_letter_required  27934 non-null  bool   \n",
      " 3   salary_from               27934 non-null  float64\n",
      " 4   salary_currency           27934 non-null  object \n",
      " 5   salary_gross              27786 non-null  object \n",
      " 6   employer_name             27934 non-null  object \n",
      " 7   description               27933 non-null  object \n",
      " 8   area_id                   27934 non-null  int64  \n",
      " 9   area_name                 27934 non-null  object \n",
      " 10  salary_to                 27934 non-null  float64\n",
      " 11  published_at_diff         27934 non-null  float64\n",
      "dtypes: bool(2), float64(3), int64(1), object(6)\n",
      "memory usage: 3.4+ MB\n"
     ]
    }
   ],
   "source": [
    "df.info()"
   ]
  },
  {
   "cell_type": "markdown",
   "id": "567bcaec-8af2-40d5-acfe-348d4705242d",
   "metadata": {},
   "source": [
    "<H2>salary_gross</H2>"
   ]
  },
  {
   "cell_type": "markdown",
   "id": "d632a908-ef50-4711-94f2-dcf8f34bd60c",
   "metadata": {},
   "source": [
    "Для <i>salary_gross</i> нужно заполнить пропуски False и преобразовать из типа object в тип bool: "
   ]
  },
  {
   "cell_type": "code",
   "execution_count": 17,
   "id": "e320a18a-e72e-4450-a136-fc08ad9b1b47",
   "metadata": {
    "ExecuteTime": {
     "end_time": "2024-01-07T05:34:08.977786100Z",
     "start_time": "2024-01-07T05:34:08.877015400Z"
    }
   },
   "outputs": [],
   "source": [
    "df.salary_gross.fillna(False, inplace = True) \n",
    "df['salary_gross'] = df['salary_gross'].astype(bool)"
   ]
  },
  {
   "cell_type": "code",
   "execution_count": 18,
   "id": "f30dd354-0021-450f-ad5b-ae82e3c69954",
   "metadata": {
    "ExecuteTime": {
     "end_time": "2024-01-07T05:34:09.862962100Z",
     "start_time": "2024-01-07T05:34:09.728907800Z"
    }
   },
   "outputs": [
    {
     "name": "stdout",
     "output_type": "stream",
     "text": [
      "<class 'pandas.core.frame.DataFrame'>\n",
      "Index: 27934 entries, 29083 to 15795\n",
      "Data columns (total 12 columns):\n",
      " #   Column                    Non-Null Count  Dtype  \n",
      "---  ------                    --------------  -----  \n",
      " 0   name                      27934 non-null  object \n",
      " 1   has_test                  27934 non-null  bool   \n",
      " 2   response_letter_required  27934 non-null  bool   \n",
      " 3   salary_from               27934 non-null  float64\n",
      " 4   salary_currency           27934 non-null  object \n",
      " 5   salary_gross              27934 non-null  bool   \n",
      " 6   employer_name             27934 non-null  object \n",
      " 7   description               27933 non-null  object \n",
      " 8   area_id                   27934 non-null  int64  \n",
      " 9   area_name                 27934 non-null  object \n",
      " 10  salary_to                 27934 non-null  float64\n",
      " 11  published_at_diff         27934 non-null  float64\n",
      "dtypes: bool(3), float64(3), int64(1), object(5)\n",
      "memory usage: 3.2+ MB\n"
     ]
    }
   ],
   "source": [
    "df.info()"
   ]
  },
  {
   "cell_type": "markdown",
   "id": "ce6edd51-928d-42f7-9e2a-52783d6d07cd",
   "metadata": {},
   "source": [
    "<H2>salary_currency</H2>"
   ]
  },
  {
   "cell_type": "markdown",
   "id": "af038cfb-1ce9-464a-a238-8afee6bc2f36",
   "metadata": {},
   "source": [
    "Посмотрим, сколько уникальных значений есть в <i>salary_currency</i>."
   ]
  },
  {
   "cell_type": "code",
   "execution_count": 19,
   "id": "aa8c7178-aba3-4796-9a83-849741f4d469",
   "metadata": {
    "ExecuteTime": {
     "end_time": "2024-01-07T05:34:19.770128Z",
     "start_time": "2024-01-07T05:34:19.654861500Z"
    }
   },
   "outputs": [
    {
     "data": {
      "text/plain": "salary_currency\nRUR    27934\nName: count, dtype: int64"
     },
     "execution_count": 19,
     "metadata": {},
     "output_type": "execute_result"
    }
   ],
   "source": [
    "df['salary_currency'].value_counts()"
   ]
  },
  {
   "cell_type": "markdown",
   "id": "3900589e-d127-484f-af37-48fbcef45678",
   "metadata": {},
   "source": [
    "У всех строк одна и та же валюта, этот столбец можно удалить."
   ]
  },
  {
   "cell_type": "code",
   "execution_count": 20,
   "id": "f0bca82c-136e-419b-be3f-afefe6cd6fcc",
   "metadata": {
    "ExecuteTime": {
     "end_time": "2024-01-07T05:34:22.639710Z",
     "start_time": "2024-01-07T05:34:22.552268500Z"
    }
   },
   "outputs": [],
   "source": [
    "df = df.drop(columns=['salary_currency'])"
   ]
  },
  {
   "cell_type": "code",
   "execution_count": 21,
   "id": "f1cf028e-97ef-4635-acbc-0bb3cc5574ff",
   "metadata": {
    "ExecuteTime": {
     "end_time": "2024-01-07T05:34:23.168097900Z",
     "start_time": "2024-01-07T05:34:23.054701400Z"
    }
   },
   "outputs": [
    {
     "name": "stdout",
     "output_type": "stream",
     "text": [
      "<class 'pandas.core.frame.DataFrame'>\n",
      "Index: 27934 entries, 29083 to 15795\n",
      "Data columns (total 11 columns):\n",
      " #   Column                    Non-Null Count  Dtype  \n",
      "---  ------                    --------------  -----  \n",
      " 0   name                      27934 non-null  object \n",
      " 1   has_test                  27934 non-null  bool   \n",
      " 2   response_letter_required  27934 non-null  bool   \n",
      " 3   salary_from               27934 non-null  float64\n",
      " 4   salary_gross              27934 non-null  bool   \n",
      " 5   employer_name             27934 non-null  object \n",
      " 6   description               27933 non-null  object \n",
      " 7   area_id                   27934 non-null  int64  \n",
      " 8   area_name                 27934 non-null  object \n",
      " 9   salary_to                 27934 non-null  float64\n",
      " 10  published_at_diff         27934 non-null  float64\n",
      "dtypes: bool(3), float64(3), int64(1), object(4)\n",
      "memory usage: 3.0+ MB\n"
     ]
    }
   ],
   "source": [
    "df.info()"
   ]
  },
  {
   "cell_type": "markdown",
   "id": "2c5ae20c-0c59-41e3-a4c6-0f9cceaee4f7",
   "metadata": {},
   "source": [
    "<H2>area_name и area_id</H2>"
   ]
  },
  {
   "cell_type": "markdown",
   "id": "8b9939d9-c3f6-4d31-a3ed-006de10fc74b",
   "metadata": {},
   "source": [
    "Разберемся с <i>area_id</i> и <i>area_name</i>."
   ]
  },
  {
   "cell_type": "code",
   "execution_count": 22,
   "id": "8d6fbd81-8e1b-41dc-8ec6-2e645cb36938",
   "metadata": {
    "ExecuteTime": {
     "end_time": "2024-01-07T05:34:28.696810300Z",
     "start_time": "2024-01-07T05:34:27.570343900Z"
    }
   },
   "outputs": [
    {
     "data": {
      "text/plain": "{1: {('Москва',)},\n 2: {('Санкт-Петербург',)},\n 72: {('Пермь',)},\n 4: {('Новосибирск',)},\n 78: {('Самара',)},\n 26: {('Воронеж',)},\n 35: {('Иркутск',)},\n 3: {('Екатеринбург',)},\n 77: {('Рязань',)},\n 24: {('Волгоград',)},\n 76: {('Ростов-на-Дону',)},\n 54: {('Красноярск',)},\n 53: {('Краснодар',)},\n 66: {('Нижний Новгород',)},\n 96: {('Ижевск',)},\n 247: {('Дзержинск (Нижегородская область)',)},\n 41: {('Калининград',)},\n 90: {('Томск',)},\n 98: {('Ульяновск',)},\n 130: {('Севастополь',)},\n 68: {('Омск',)},\n 43: {('Калуга',)},\n 99: {('Уфа',)},\n 22: {('Владивосток',)},\n 49: {('Киров (Кировская область)',)},\n 88: {('Казань',)},\n 32: {('Иваново (Ивановская область)',)},\n 1002: {('Минск',)},\n 44: {('Петропавловск-Камчатский',)},\n 112: {('Ярославль',)},\n 160: {('Алматы',)},\n 104: {('Челябинск',)},\n 2734: {('Иннополис',)},\n 92: {('Тула',)},\n 71: {('Пенза',)},\n 2088: {('Зеленоград',)},\n 2059: {('Павловский Посад',)},\n 159: {('Нур-Султан',)},\n 83: {('Смоленск',)},\n 79: {('Саратов',)},\n 89: {('Тверь',)},\n 63: {('Саранск',)},\n 95: {('Тюмень',)},\n 2077: {('Химки',)},\n 237: {('Сочи',)},\n 51: {('Сыктывкар',)},\n 212: {('Тольятти',)},\n 84: {('Ставрополь',)},\n 1283: {('Краснотурьинск',)},\n 14: {('Архангельск',)},\n 113: {('Россия',)},\n 2020: {('Балашиха',)},\n 1454: {('Новороссийск',)},\n 11: {('Барнаул',)},\n 1641: {('Набережные Челны',)},\n 61: {('Йошкар-Ола',)},\n 107: {('Чебоксары',)},\n 17: {('Белгород',)},\n 1006: {('Гродно',)},\n 102: {('Хабаровск',)},\n 1753: {('Череповец',)},\n 19: {('Брянск',)},\n 1550: {('Таганрог',)},\n 70: {('Оренбург',)},\n 242: {('Эквадор',)},\n 69: {('Орел',)},\n 2760: {('Бишкек',)},\n 2012: {('Сертолово',)},\n 15: {('Астрахань',)},\n 56: {('Курск',)},\n 1599: {('Балаково',)},\n 59: {('Литва',)},\n 131: {('Симферополь',)},\n 52: {('Кострома',)},\n 1492: {('Минеральные Воды',)},\n 1825: {('Старый Оскол',)},\n 1724: {('Ковров',)},\n 1381: {('Сургут',)},\n 1240: {('Новокузнецк',)},\n 1233: {('Гурьевск (Кемеровская область)',)},\n 58: {('Липецк',)},\n 29: {('Махачкала',)},\n 2041: {('Мытищи',)},\n 248: {('Арзамас',)},\n 1494: {('Невинномысск',)},\n 75: {('Псков',)},\n 80: {('Якутск',)},\n 1600: {('Балашов',)},\n 150: {('Аксай (Казахстан)',)},\n 74: {('Польша',)},\n 2025: {('Домодедово',)},\n 105: {('Грозный',)},\n 2090: {('Королев',)},\n 1003: {('Гомель',)},\n 2086: {('Дубна',)},\n 85: {('США',)},\n 1399: {('Магнитогорск',)},\n 10: {('Горно-Алтайск',)},\n 73: {('Петрозаводск',)},\n 25: {('Вологда',)},\n 12: {('Благовещенск (Амурская область)',)},\n 23: {('Владимир',)},\n 1250: {('Исилькуль',)},\n 1537: {('Донецк (Ростовская область)',)},\n 94: {('Турция',)},\n 1364: {('Стерлитамак',)},\n 47: {('Кемерово',)},\n 1540: {('Каменск-Шахтинский',)},\n 1999: {('Коммунар',)},\n 5709: {('Колтуши',)},\n 1691: {('Кстово',)},\n 64: {('Мурманск',)},\n 1648: {('Глазов',)},\n 106: {('Чита',)},\n 2636: {('Республика Коста-Рика',)},\n 2385: {('Саки',)},\n 1914: {('Алексин',)},\n 2120: {('Ялта',)},\n 1253: {('Тара',)},\n 1533: {('Батайск',)},\n 5049: {('Кишинёв',)},\n 301: {('Обнинск',)},\n 1548: {('Сальск',)},\n 1613: {('Энгельс',)},\n 87: {('Тамбов',)},\n 1220: {('Бийск',)},\n 1400: {('Миасс',)},\n 1291: {('Нижний Тагил',)},\n 2058: {('Орехово-Зуево',)},\n 1251: {('Калачинск',)},\n 2750: {('Петергоф',)},\n 2064: {('Жуковский',)},\n 2758: {('Тбилиси',)},\n 1442: {('Армавир',)},\n 1531: {('Азов',)},\n 2023: {('Дмитров',)},\n 1007: {('Брест',)},\n 236: {('Кипр',)},\n 67: {('Великий Новгород',)},\n 2061: {('Подольск (Московская область)',)},\n 2113: {('Колумбия',)},\n 1814: {('Рыбинск',)},\n 1717: {('Александров',)},\n 2447: {('Ленинградская станица',)},\n 2034: {('Красногорск',)},\n 1440: {('Анапа',)},\n 1005: {('Витебск',)},\n 3315: {('Витязево',)},\n 147: {('Ханты-Мансийск',)},\n 2554: {('Колпино',)},\n 2759: {('Ташкент',)},\n 1642: {('Нижнекамск',)},\n 1419: {('Новый Уренгой',)},\n 1594: {('Сызрань',)},\n 2069: {('Сергиев Посад',)},\n 55: {('Курган',)}}"
     },
     "execution_count": 22,
     "metadata": {},
     "output_type": "execute_result"
    }
   ],
   "source": [
    "map_id_to_name = {}\n",
    "for idx in df.index:\n",
    "    if df['area_id'][idx] in map_id_to_name:\n",
    "        map_id_to_name[df['area_id'][idx]].add((df['area_name'][idx], ))\n",
    "    else:\n",
    "        map_id_to_name[df['area_id'][idx]] = set(((df['area_name'][idx], ), ))\n",
    "map_id_to_name"
   ]
  },
  {
   "cell_type": "markdown",
   "id": "e7809a07-2e49-4594-b145-8c8d3860bc0c",
   "metadata": {},
   "source": [
    "Удалим <i>area_id</i>, и посмотрим на то, сколько раз встречается тот или иной город."
   ]
  },
  {
   "cell_type": "code",
   "execution_count": 23,
   "id": "b81df894-480c-4df8-81cb-c7e791201c84",
   "metadata": {
    "ExecuteTime": {
     "end_time": "2024-01-07T05:34:32.604403600Z",
     "start_time": "2024-01-07T05:34:32.512193300Z"
    }
   },
   "outputs": [],
   "source": [
    "df = df.drop(columns=['area_id'])"
   ]
  },
  {
   "cell_type": "code",
   "execution_count": 24,
   "id": "956ba501-fa53-4bc2-bf2f-ef3d681f390c",
   "metadata": {
    "ExecuteTime": {
     "end_time": "2024-01-07T05:34:33.173608200Z",
     "start_time": "2024-01-07T05:34:33.075296900Z"
    }
   },
   "outputs": [
    {
     "data": {
      "text/plain": "area_name\nМосква                         20512\nСанкт-Петербург                 5393\nНовосибирск                      201\nКраснодар                        178\nЕкатеринбург                     158\n                               ...  \nКаменск-Шахтинский                 1\nСтерлитамак                        1\nТурция                             1\nДонецк (Ростовская область)        1\nКурган                             1\nName: count, Length: 156, dtype: int64"
     },
     "execution_count": 24,
     "metadata": {},
     "output_type": "execute_result"
    }
   ],
   "source": [
    "df['area_name'].value_counts()"
   ]
  },
  {
   "cell_type": "markdown",
   "id": "e41b6b0d-3c9c-41db-bd8d-e5abc8ee6680",
   "metadata": {},
   "source": [
    "Начнем с area_name"
   ]
  },
  {
   "cell_type": "markdown",
   "id": "00092756-642d-442f-b4b2-8f53e4f0a269",
   "metadata": {},
   "source": [
    "Выделим несколько часто встречающихся городов, остальные заменим Other:"
   ]
  },
  {
   "cell_type": "code",
   "execution_count": 25,
   "id": "6698a165-0664-4e50-b70c-77d24630507a",
   "metadata": {
    "ExecuteTime": {
     "end_time": "2024-01-07T05:34:47.502280400Z",
     "start_time": "2024-01-07T05:34:47.403205400Z"
    }
   },
   "outputs": [
    {
     "data": {
      "text/plain": "area_name\nМосква             20512\nСанкт-Петербург     5393\nOther               1339\nНовосибирск          201\nКраснодар            178\nЕкатеринбург         158\nКазань               153\nName: count, dtype: int64"
     },
     "execution_count": 25,
     "metadata": {},
     "output_type": "execute_result"
    }
   ],
   "source": [
    "df.loc[df[\"area_name\"].value_counts()[df[\"area_name\"]].values < 150, \"area_name\"] = \"Other\"\n",
    "df['area_name'].value_counts()"
   ]
  },
  {
   "cell_type": "code",
   "execution_count": 26,
   "id": "9ea2dc25-728d-4fc6-9c77-9064ec26fd5b",
   "metadata": {
    "ExecuteTime": {
     "end_time": "2024-01-07T05:34:47.917451400Z",
     "start_time": "2024-01-07T05:34:47.824660200Z"
    }
   },
   "outputs": [
    {
     "name": "stdout",
     "output_type": "stream",
     "text": [
      "<class 'pandas.core.frame.DataFrame'>\n",
      "Index: 27934 entries, 29083 to 15795\n",
      "Data columns (total 10 columns):\n",
      " #   Column                    Non-Null Count  Dtype  \n",
      "---  ------                    --------------  -----  \n",
      " 0   name                      27934 non-null  object \n",
      " 1   has_test                  27934 non-null  bool   \n",
      " 2   response_letter_required  27934 non-null  bool   \n",
      " 3   salary_from               27934 non-null  float64\n",
      " 4   salary_gross              27934 non-null  bool   \n",
      " 5   employer_name             27934 non-null  object \n",
      " 6   description               27933 non-null  object \n",
      " 7   area_name                 27934 non-null  object \n",
      " 8   salary_to                 27934 non-null  float64\n",
      " 9   published_at_diff         27934 non-null  float64\n",
      "dtypes: bool(3), float64(3), object(4)\n",
      "memory usage: 2.8+ MB\n"
     ]
    }
   ],
   "source": [
    "df.info()"
   ]
  },
  {
   "cell_type": "markdown",
   "id": "40b38cff-54ae-4088-9157-aee4a139ec8c",
   "metadata": {},
   "source": [
    "<H2>description</H2>"
   ]
  },
  {
   "cell_type": "markdown",
   "id": "d0622860-ee0a-4a8c-a0c8-3e6d922cb3d1",
   "metadata": {},
   "source": [
    "В колонке <i>description</i> есть много информации, написанной в виде HTML страницы. Есть вероятность, что там есть упоминание з/п в формате \"<число> руб.\" или \"<число> руб./час\" или \"<число> тыс. руб.\". Попробуем их выцепить. Сначала удалим HTML теги из всех записей"
   ]
  },
  {
   "cell_type": "code",
   "execution_count": 27,
   "id": "a8acef35-0ae4-4508-a046-a06731891d1b",
   "metadata": {
    "ExecuteTime": {
     "end_time": "2024-01-07T05:34:57.582331400Z",
     "start_time": "2024-01-07T05:34:57.210214300Z"
    }
   },
   "outputs": [],
   "source": [
    "import re\n",
    "df['description'] = pd.Series(df['description'],dtype=pd.StringDtype())\n",
    "df.description = df.description.apply(lambda x: str(x).lower())"
   ]
  },
  {
   "cell_type": "markdown",
   "id": "ce7acd2d-9f1a-4b1d-a275-9d0ada1f2fad",
   "metadata": {},
   "source": [
    "..."
   ]
  },
  {
   "cell_type": "code",
   "execution_count": 28,
   "id": "fe05f90a-6536-4eda-927a-c8cd26c8d4f5",
   "metadata": {
    "ExecuteTime": {
     "end_time": "2024-01-07T05:35:00.279281Z",
     "start_time": "2024-01-07T05:35:00.185089200Z"
    }
   },
   "outputs": [],
   "source": [
    "def manage_desc_exp(string):\n",
    "    #print(string)\n",
    "    pattern = r'опыт[а-яА-ЯёЁ ]+[0-9]+[-лгм ]+[а-яА-ЯеЁ ]+[;<]'\n",
    "    year = 0\n",
    "    for match_raw in re.finditer(pattern, string):\n",
    "        number = ''\n",
    "        match = match_raw.group()\n",
    "        #print(match)\n",
    "        first_numeric_found = False\n",
    "        prev_ch = ' '\n",
    "        for ch in match:\n",
    "            if ch.isnumeric() and (first_numeric_found or prev_ch == ' '):\n",
    "                number += ch\n",
    "                first_numeric_found = True\n",
    "            elif ch == ' ' or ch == ',' or ch == '.':\n",
    "                prev_ch = ch\n",
    "                pass\n",
    "            else:\n",
    "                if first_numeric_found:\n",
    "                    break\n",
    "            prev_ch = ch\n",
    "        try:\n",
    "            cur_year = int(number)\n",
    "        except ValueError:\n",
    "            cur_year = 0\n",
    "        if 'мес' in match:\n",
    "            cur_year /= 12\n",
    "        if cur_year > year and cur_year <= 10:\n",
    "            year = cur_year\n",
    "    return 1 if year == 0 else year"
   ]
  },
  {
   "cell_type": "code",
   "execution_count": 29,
   "id": "1329c4ee-69f0-4b2a-ba8e-890f46024670",
   "metadata": {
    "ExecuteTime": {
     "end_time": "2024-01-07T05:35:01.786106200Z",
     "start_time": "2024-01-07T05:35:01.557144800Z"
    }
   },
   "outputs": [],
   "source": [
    "df['description_exp'] = df.description.map(manage_desc_exp)"
   ]
  },
  {
   "cell_type": "code",
   "execution_count": 30,
   "id": "c9e1dcf2-0693-41cc-b198-e5ffa3133554",
   "metadata": {
    "ExecuteTime": {
     "end_time": "2024-01-07T05:35:02.155017300Z",
     "start_time": "2024-01-07T05:35:02.057468300Z"
    }
   },
   "outputs": [
    {
     "data": {
      "text/plain": "description_exp\n1.000000    26641\n3.000000      582\n2.000000      487\n5.000000      105\n0.500000       63\n            ...  \n9.000000        2\n0.166667        1\n0.333333        1\n0.416667        1\n0.666667        1\nName: count, Length: 15, dtype: int64"
     },
     "execution_count": 30,
     "metadata": {},
     "output_type": "execute_result"
    }
   ],
   "source": [
    "df['description_exp'].value_counts()"
   ]
  },
  {
   "cell_type": "markdown",
   "id": "b21b0a05-2781-4c0c-99fe-a72dc9aa317f",
   "metadata": {},
   "source": [
    "..."
   ]
  },
  {
   "cell_type": "code",
   "execution_count": 31,
   "id": "6a51e427-cd6f-4802-a69e-beeab3c3594b",
   "metadata": {
    "ExecuteTime": {
     "end_time": "2024-01-07T05:35:07.584395Z",
     "start_time": "2024-01-07T05:35:06.272610900Z"
    }
   },
   "outputs": [],
   "source": [
    "df.description = df.description.apply(lambda x: re.sub(r'<[^>]+>', ' ', str(x))) #</?[A-Za-z0-9]+ ?/?>"
   ]
  },
  {
   "cell_type": "code",
   "execution_count": 32,
   "id": "3d75a0c7-6644-4a36-9ff7-b24c4964af29",
   "metadata": {
    "ExecuteTime": {
     "end_time": "2024-01-07T05:35:11.817645100Z",
     "start_time": "2024-01-07T05:35:07.588860600Z"
    }
   },
   "outputs": [],
   "source": [
    "df.description = df.description.apply(lambda x: re.sub(r'[^а-яА-Я0-9a-zA-ZёЁ.-]', ' ', str(x))) #</?[A-Za-z0-9]+ ?/?>"
   ]
  },
  {
   "cell_type": "markdown",
   "id": "53045091-927a-405c-9fbf-5507437dd379",
   "metadata": {},
   "source": [
    "Определим функцию, которая будет извлекать из строки description максимальную упомянотую зарплату. Если таковой нет, сделаем её равной 0. Также сделаем равной 0 зарплаты, которые получились меньше 1000. Такое могло произойти, если извлеченная зарплата была не той по смыслу, или была какая-то другая цена."
   ]
  },
  {
   "cell_type": "code",
   "execution_count": 33,
   "id": "6632c2f9-4ce3-46dd-8521-b80607204073",
   "metadata": {
    "ExecuteTime": {
     "end_time": "2024-01-07T05:35:15.265389300Z",
     "start_time": "2024-01-07T05:35:15.164368100Z"
    }
   },
   "outputs": [],
   "source": [
    "def manage_desc(string):\n",
    "    #print(string)\n",
    "    pattern = r'[0-9][0-9., ]+[0-9 ](тыс)?руб.?\\/?[а-яА-Я ]*([0-9 ]+час)?(час)?(мес)?(день)?'\n",
    "    max_salary = -1\n",
    "    for match_raw in re.finditer(pattern, string):\n",
    "        number = ''\n",
    "        match = match_raw.group()\n",
    "        #print(match)\n",
    "        first_numeric_found = False\n",
    "        for ch in match:\n",
    "            if ch.isnumeric():\n",
    "                number += ch\n",
    "                first_numeric_found = True\n",
    "            elif ch == ' ' or ch == ',' or ch == '.':\n",
    "                pass\n",
    "            else:\n",
    "                if first_numeric_found:\n",
    "                    break\n",
    "        salary = int(number)\n",
    "        if 'сут' in match or 'день' in match:\n",
    "            salary *= 20\n",
    "        elif 'час' in match:\n",
    "            salary *= 160\n",
    "\n",
    "        if 'тыс' in match or 'т.' in match:\n",
    "            salary *= 1000\n",
    "        \n",
    "        if max_salary == -1 or salary > max_salary:\n",
    "            max_salary = salary\n",
    "    \n",
    "    if (max_salary < 1000):\n",
    "        return pd.NA\n",
    "    else:\n",
    "        return max_salary\n",
    "\n",
    "#manage_desc(df['description'][23187])"
   ]
  },
  {
   "cell_type": "markdown",
   "id": "7156747a-6787-4813-89b1-f934266c5c0e",
   "metadata": {},
   "source": [
    "Теперь преобразуем все description"
   ]
  },
  {
   "cell_type": "code",
   "execution_count": 34,
   "id": "0d3139ad-792d-4458-9a29-0461bd3e84a4",
   "metadata": {
    "ExecuteTime": {
     "end_time": "2024-01-07T05:35:18.186737200Z",
     "start_time": "2024-01-07T05:35:17.580702600Z"
    }
   },
   "outputs": [
    {
     "data": {
      "text/plain": "description_salary\n40000           311\n50000           288\n60000           271\n30000           234\n100000          221\n               ... \n15200             1\n150000180000      1\n2170              1\n155000            1\n32000000          1\nName: count, Length: 438, dtype: int64"
     },
     "execution_count": 34,
     "metadata": {},
     "output_type": "execute_result"
    }
   ],
   "source": [
    "df['description_salary'] = df.description.map(manage_desc)\n",
    "df['description_salary'].value_counts()"
   ]
  },
  {
   "cell_type": "markdown",
   "id": "fa9cfa4c-c52c-4c63-a792-fda334153a73",
   "metadata": {},
   "source": [
    "Заполним пустые значения значениями из <i>salary_from</i>"
   ]
  },
  {
   "cell_type": "code",
   "execution_count": 35,
   "id": "4869c73f-155f-4564-a15e-b771e04c157a",
   "metadata": {
    "ExecuteTime": {
     "end_time": "2024-01-07T05:35:21.417564300Z",
     "start_time": "2024-01-07T05:35:21.299542800Z"
    }
   },
   "outputs": [],
   "source": [
    "df['description_salary'].fillna(df['salary_from'], inplace = True) "
   ]
  },
  {
   "cell_type": "code",
   "execution_count": 36,
   "id": "7b805a28-b021-4efa-b62e-415bfb925ac1",
   "metadata": {
    "ExecuteTime": {
     "end_time": "2024-01-07T05:35:21.859726100Z",
     "start_time": "2024-01-07T05:35:21.641872400Z"
    }
   },
   "outputs": [
    {
     "name": "stdout",
     "output_type": "stream",
     "text": [
      "<class 'pandas.core.frame.DataFrame'>\n",
      "Index: 27934 entries, 29083 to 15795\n",
      "Data columns (total 12 columns):\n",
      " #   Column                    Non-Null Count  Dtype  \n",
      "---  ------                    --------------  -----  \n",
      " 0   name                      27934 non-null  object \n",
      " 1   has_test                  27934 non-null  bool   \n",
      " 2   response_letter_required  27934 non-null  bool   \n",
      " 3   salary_from               27934 non-null  float64\n",
      " 4   salary_gross              27934 non-null  bool   \n",
      " 5   employer_name             27934 non-null  object \n",
      " 6   description               27934 non-null  object \n",
      " 7   area_name                 27934 non-null  object \n",
      " 8   salary_to                 27934 non-null  float64\n",
      " 9   published_at_diff         27934 non-null  float64\n",
      " 10  description_exp           27934 non-null  float64\n",
      " 11  description_salary        27934 non-null  object \n",
      "dtypes: bool(3), float64(4), object(5)\n",
      "memory usage: 3.2+ MB\n"
     ]
    }
   ],
   "source": [
    "df.info()"
   ]
  },
  {
   "cell_type": "code",
   "execution_count": 37,
   "id": "eaa4b289-df93-4f07-886e-d8363d2f12d5",
   "metadata": {
    "ExecuteTime": {
     "end_time": "2024-01-07T05:35:26.024275800Z",
     "start_time": "2024-01-07T05:35:21.908735200Z"
    }
   },
   "outputs": [],
   "source": [
    "df['description'] = df['description'].apply(lambda x: re.sub(r'[^а-яА-Я0-9a-zA-ZёЁ]', ' ', str(x))) #</?[A-Za-z0-9]+ ?/?>"
   ]
  },
  {
   "cell_type": "code",
   "execution_count": 38,
   "id": "46a81817-e3ce-40c9-84ba-3f95b2aa7a05",
   "metadata": {
    "ExecuteTime": {
     "end_time": "2024-01-07T05:35:26.091743100Z",
     "start_time": "2024-01-07T05:35:26.028682600Z"
    }
   },
   "outputs": [],
   "source": [
    "df['description'].fillna('nd', inplace = True)"
   ]
  },
  {
   "cell_type": "code",
   "execution_count": 39,
   "id": "d659459a-a042-49b4-ae6f-92218e16b15f",
   "metadata": {
    "ExecuteTime": {
     "end_time": "2024-01-07T05:35:30.102852900Z",
     "start_time": "2024-01-07T05:35:26.046621200Z"
    }
   },
   "outputs": [],
   "source": [
    "from sklearn.feature_extraction.text import TfidfVectorizer\n"
   ]
  },
  {
   "cell_type": "code",
   "execution_count": 40,
   "id": "cc9093f9-1959-4a48-93b2-77fdc870edc5",
   "metadata": {
    "ExecuteTime": {
     "end_time": "2024-01-07T05:35:30.150702200Z",
     "start_time": "2024-01-07T05:35:30.106277300Z"
    }
   },
   "outputs": [],
   "source": [
    "vectorizer = TfidfVectorizer(input='content', encoding='utf-8', \n",
    "                             decode_error='strict', strip_accents=None, lowercase=True,\n",
    "                             preprocessor=None, tokenizer=None, analyzer='word',\n",
    "                             stop_words=None, min_df=6, dtype=np.float32, max_features=512,\n",
    "                             token_pattern=r'(?u)\\b\\w\\w\\w\\w+\\b')"
   ]
  },
  {
   "cell_type": "code",
   "execution_count": 41,
   "id": "53999860-8440-40a2-a794-8d554ade3325",
   "metadata": {
    "ExecuteTime": {
     "end_time": "2024-01-07T05:35:38.707895600Z",
     "start_time": "2024-01-07T05:35:31.933033Z"
    }
   },
   "outputs": [],
   "source": [
    "df_desc_parsed = vectorizer.fit_transform(df['description'])"
   ]
  },
  {
   "cell_type": "code",
   "execution_count": 42,
   "id": "926fcadf-6eca-46be-a66d-0545472993e3",
   "metadata": {
    "ExecuteTime": {
     "end_time": "2024-01-07T05:35:39.746027Z",
     "start_time": "2024-01-07T05:35:39.624499700Z"
    }
   },
   "outputs": [
    {
     "data": {
      "text/plain": "<27934x512 sparse matrix of type '<class 'numpy.float32'>'\n\twith 1235175 stored elements in Compressed Sparse Row format>"
     },
     "execution_count": 42,
     "metadata": {},
     "output_type": "execute_result"
    }
   ],
   "source": [
    "df_desc_parsed"
   ]
  },
  {
   "cell_type": "code",
   "execution_count": 43,
   "id": "a9d0176c-2333-4e1b-afc0-c4a1679cf4f2",
   "metadata": {
    "ExecuteTime": {
     "end_time": "2024-01-07T05:35:41.084948Z",
     "start_time": "2024-01-07T05:35:40.929034300Z"
    }
   },
   "outputs": [],
   "source": [
    "df = df.drop(columns=['description'])"
   ]
  },
  {
   "cell_type": "markdown",
   "id": "cc9e767d-10b5-46c7-a450-3bab310ab452",
   "metadata": {},
   "source": [
    "<H2>employer_name</H2>"
   ]
  },
  {
   "cell_type": "markdown",
   "id": "6d57a45d-df1f-429a-8946-c0455934d72e",
   "metadata": {},
   "source": [
    "Далее посмотрим на employer_name"
   ]
  },
  {
   "cell_type": "code",
   "execution_count": 44,
   "id": "491ec47a-8091-4b18-87c6-f6fcda7a06cb",
   "metadata": {
    "ExecuteTime": {
     "end_time": "2024-01-07T05:35:45.324366100Z",
     "start_time": "2024-01-07T05:35:45.204166400Z"
    }
   },
   "outputs": [
    {
     "data": {
      "text/plain": "employer_name\nПятёрочка                    927\nПятерочка                    669\nПерекресток                  324\nБилайн                       261\nJCat.ru                       70\n                            ... \nТорговая группа ПТК            1\nLTG Consulting                 1\nExMail                         1\nАлбаков Руслан Борисович       1\nБалтик Граунд Сервисес РУ      1\nName: count, Length: 13318, dtype: int64"
     },
     "execution_count": 44,
     "metadata": {},
     "output_type": "execute_result"
    }
   ],
   "source": [
    "df['employer_name'].value_counts()"
   ]
  },
  {
   "cell_type": "markdown",
   "id": "984c2c33-9d26-49db-b8f6-81a71aa4b2ce",
   "metadata": {},
   "source": [
    "Во первых, можно увидеть два разных написания \"Пятерочка\", возможно есть другие названия, которые отличаются в одном символе. Посмотрим на верхние 3 значения."
   ]
  },
  {
   "cell_type": "code",
   "execution_count": 45,
   "id": "fa69271e-3917-4d12-9bf7-1c1a055716b1",
   "metadata": {
    "ExecuteTime": {
     "end_time": "2024-01-07T05:35:46.614905700Z",
     "start_time": "2024-01-07T05:35:46.497249300Z"
    }
   },
   "outputs": [],
   "source": [
    "def near_equal(string, pattern):\n",
    "    string1 = string.strip()\n",
    "    string2 = pattern.strip()\n",
    "    max_len = max(len(string1), len(string2))\n",
    "    min_len = min(len(string1), len(string2))\n",
    "    score = 0\n",
    "    for i in range(0, min_len):\n",
    "        if (string1[i] == string2[i]):\n",
    "            score += 1\n",
    "\n",
    "    return score / max_len"
   ]
  },
  {
   "cell_type": "code",
   "execution_count": 46,
   "id": "f6651e17-b77b-480b-9135-b01f832cba93",
   "metadata": {
    "ExecuteTime": {
     "end_time": "2024-01-07T05:35:47.162394100Z",
     "start_time": "2024-01-07T05:35:47.030806500Z"
    }
   },
   "outputs": [],
   "source": [
    "df['employer_name'] = df['employer_name'].apply(lambda x: x.lower())\n",
    "df['employer_name'] = df['employer_name'].apply(lambda x: x.strip())"
   ]
  },
  {
   "cell_type": "code",
   "execution_count": 47,
   "id": "26b2748a-f5d6-4358-8239-8108bb9d0687",
   "metadata": {
    "ExecuteTime": {
     "end_time": "2024-01-07T05:35:48.821945400Z",
     "start_time": "2024-01-07T05:35:48.685456300Z"
    }
   },
   "outputs": [
    {
     "data": {
      "text/plain": "employer_name\nпятёрочка                    927\nпятерочка                    669\nперекресток                  324\nбилайн                       261\njcat.ru                       70\n                            ... \nторговая группа птк            1\nltg consulting                 1\nexmail                         1\nалбаков руслан борисович       1\nбалтик граунд сервисес ру      1\nName: count, Length: 13236, dtype: int64"
     },
     "execution_count": 47,
     "metadata": {},
     "output_type": "execute_result"
    }
   ],
   "source": [
    "df['employer_name'].value_counts()"
   ]
  },
  {
   "cell_type": "code",
   "execution_count": 48,
   "id": "f6506185-35bf-4efb-9ef6-77fcc4a7f9f8",
   "metadata": {
    "ExecuteTime": {
     "end_time": "2024-01-07T05:35:49.428459900Z",
     "start_time": "2024-01-07T05:35:49.089906900Z"
    }
   },
   "outputs": [],
   "source": [
    "df.employer_name = df.employer_name.apply(lambda x: \"пятёрочка\" if near_equal(x, 'пятёрочка') > 0.75 else x)\n",
    "df.employer_name = df.employer_name.apply(lambda x: \"перекресток\" if near_equal(x, 'перекресток') > 0.75 else x)\n",
    "df.employer_name = df.employer_name.apply(lambda x: \"билайн\" if near_equal(x, 'билайн') > 0.75 else x)"
   ]
  },
  {
   "cell_type": "code",
   "execution_count": 49,
   "id": "e428951b-adc0-4e2a-998c-0fc41a86327e",
   "metadata": {
    "ExecuteTime": {
     "end_time": "2024-01-07T05:35:49.588719900Z",
     "start_time": "2024-01-07T05:35:49.429551800Z"
    }
   },
   "outputs": [
    {
     "data": {
      "text/plain": "employer_name\nпятёрочка                    1596\nперекресток                   324\nбилайн                        262\njcat.ru                        70\nskyeng                         63\n                             ... \ndgl group                       1\nкомпания нк-сити                1\nскриптогенератор                1\nбандура дарья алексеевна        1\nбалтик граунд сервисес ру       1\nName: count, Length: 13234, dtype: int64"
     },
     "execution_count": 49,
     "metadata": {},
     "output_type": "execute_result"
    }
   ],
   "source": [
    "df['employer_name'].value_counts()"
   ]
  },
  {
   "cell_type": "markdown",
   "id": "b525f62f-30f0-43d9-81a0-ff820e05d47d",
   "metadata": {},
   "source": [
    "В списке <i>employer_name</i> есть ИП, написанные как ФИО. Заменим их всех на категорию \"personname\""
   ]
  },
  {
   "cell_type": "code",
   "execution_count": 50,
   "id": "af9cfb91-4726-486e-a6a0-f2e5a4964b46",
   "metadata": {
    "ExecuteTime": {
     "end_time": "2024-01-07T05:35:52.011822900Z",
     "start_time": "2024-01-07T05:35:51.857407Z"
    }
   },
   "outputs": [
    {
     "data": {
      "text/plain": "employer_name\npersonname                        1662\nпятёрочка                         1596\nперекресток                        324\nбилайн                             262\njcat.ru                             70\n                                  ... \nшеф remont                           1\nпатронаж-сити                        1\nагрегатор страхования блайсико       1\nпластполимер-т                       1\nбалтик граунд сервисес ру            1\nName: count, Length: 12055, dtype: int64"
     },
     "execution_count": 50,
     "metadata": {},
     "output_type": "execute_result"
    }
   ],
   "source": [
    "df['employer_name'] = df['employer_name'].apply(lambda x: \"personname\" if x.endswith('вич') or x.endswith('вна') or x.endswith('вич)') or x.endswith('вна)') else x) #or x.startswith('ип') or '(ип ' in x)\n",
    "df['employer_name'].value_counts()"
   ]
  },
  {
   "cell_type": "code",
   "execution_count": 51,
   "id": "37929a3b-6d95-4a3a-a39c-eda43931990c",
   "metadata": {
    "ExecuteTime": {
     "end_time": "2024-01-07T05:35:55.472109400Z",
     "start_time": "2024-01-07T05:35:55.279072300Z"
    }
   },
   "outputs": [],
   "source": [
    "vectorizer_empl = TfidfVectorizer(input='content', encoding='utf-8', \n",
    "                             decode_error='strict', strip_accents=None, lowercase=True,\n",
    "                             preprocessor=None, tokenizer=None, analyzer='word',\n",
    "                             stop_words=None, min_df=6, dtype=np.float32, max_features=32,\n",
    "                             token_pattern=r'(?u)\\b\\w\\w\\w\\w+\\b')"
   ]
  },
  {
   "cell_type": "code",
   "execution_count": 52,
   "id": "042ce643-42cc-4070-974a-24fb156858b1",
   "metadata": {
    "ExecuteTime": {
     "end_time": "2024-01-07T05:35:56.681433200Z",
     "start_time": "2024-01-07T05:35:56.373026200Z"
    }
   },
   "outputs": [],
   "source": [
    "df_empl_parsed = vectorizer_empl.fit_transform(df['employer_name'])"
   ]
  },
  {
   "cell_type": "code",
   "execution_count": null,
   "id": "b90ec253-fc99-4005-a1d4-74d822c3de45",
   "metadata": {},
   "outputs": [],
   "source": [
    "import re\n",
    "\n",
    "map_empl_name_to_count = {}\n",
    "for idx in df.index:\n",
    "    split = re.split('\\W+', df['employer_name'][idx])\n",
    "    split = list(filter(None, split))\n",
    "    for entry in split:\n",
    "        if len(entry) > 2:\n",
    "            if entry in map_empl_name_to_count:\n",
    "                map_empl_name_to_count[entry] = map_empl_name_to_count[entry] + 1\n",
    "            else:\n",
    "                for key in map_empl_name_to_count:\n",
    "                    if near_equal(key, entry) >= 0.75:\n",
    "                        map_empl_name_to_count[key] = map_empl_name_to_count[key] + 1\n",
    "                        break\n",
    "                else:\n",
    "                    map_empl_name_to_count[entry] = 1"
   ]
  },
  {
   "cell_type": "code",
   "execution_count": null,
   "id": "dffc9d3c-80b5-44f0-a83d-ba09cbb5ab27",
   "metadata": {},
   "outputs": [],
   "source": [
    "#map_empl_name_to_count"
   ]
  },
  {
   "cell_type": "code",
   "execution_count": null,
   "id": "a94a0730-90aa-4dbf-9421-cdbda625d66f",
   "metadata": {},
   "outputs": [],
   "source": [
    "map_empl_name_to_count1 = {k: v for k, v in map_empl_name_to_count.items() if v >= 300}\n",
    "sorted_empl_names_to_count = sorted(map_empl_name_to_count1.items(), key=lambda x:x[1], reverse=True)"
   ]
  },
  {
   "cell_type": "code",
   "execution_count": null,
   "id": "138094e1-a8ef-47d1-b7e5-b16a2bd9a11c",
   "metadata": {},
   "outputs": [],
   "source": [
    "sorted_empl_names_to_count"
   ]
  },
  {
   "cell_type": "code",
   "execution_count": null,
   "id": "11337ec7-0612-4846-98df-8f59d5826e74",
   "metadata": {},
   "outputs": [],
   "source": [
    "array_false = [False] * len(df)\n",
    "array_true = [True] * len(df)\n",
    "\n",
    "for key, val in sorted_empl_names_to_count:\n",
    "    composite = 'employer_name_' + key\n",
    "    df[composite] = array_false\n",
    "df['employer_name_other'] = array_true\n",
    "\n",
    "#df"
   ]
  },
  {
   "cell_type": "code",
   "execution_count": null,
   "id": "8eb8a297-b4d6-4d8c-9a3a-a1a1d9236480",
   "metadata": {},
   "outputs": [],
   "source": [
    "for idx in df.index:\n",
    "    split = re.split('\\W+', df['employer_name'][idx])\n",
    "    split = list(filter(None, split))\n",
    "    for entry in split:\n",
    "        for key, val in sorted_empl_names_to_count:\n",
    "            if near_equal(entry, key) >= 0.75:\n",
    "                composite = 'employer_name_' + key\n",
    "                df[composite][idx] = True\n",
    "                df['employer_name_other'][idx] = False\n",
    "\n",
    "#df"
   ]
  },
  {
   "cell_type": "code",
   "execution_count": 53,
   "id": "59f5ac35-97c7-41ee-b38d-43c0b78a676f",
   "metadata": {
    "ExecuteTime": {
     "end_time": "2024-01-07T05:36:01.724670900Z",
     "start_time": "2024-01-07T05:36:01.535645400Z"
    }
   },
   "outputs": [],
   "source": [
    "df = df.drop(columns=['employer_name'])"
   ]
  },
  {
   "cell_type": "markdown",
   "id": "b8666cf0-08ed-4668-9c6e-a5f26d67d7ed",
   "metadata": {},
   "source": [
    "<H2>name</H2>"
   ]
  },
  {
   "cell_type": "markdown",
   "id": "b1f1fa9a-ae75-48dd-a1ae-c72da73b9102",
   "metadata": {},
   "source": [
    "Теперь рассмотрим последний столбец: <i>name</i>"
   ]
  },
  {
   "cell_type": "code",
   "execution_count": 54,
   "id": "7b6381c6-97bc-4758-83e5-39e418e15154",
   "metadata": {
    "ExecuteTime": {
     "end_time": "2024-01-07T05:36:03.473224900Z",
     "start_time": "2024-01-07T05:36:03.362976100Z"
    }
   },
   "outputs": [
    {
     "data": {
      "text/plain": "name\nМенеджер по продажам                                   337\nМенеджер по работе с клиентами                         201\nЮрист                                                  162\nПомощник юриста                                        149\nАналитик                                               145\n                                                      ... \nБизнес-аналитик(Внедренец/ Ведущий бизнес-аналитик)      1\nРуководитель департамента коммерческой недвижимости      1\nЛогист- оператор / Грузчик (ТРК Европолис)               1\nUser Acquisition Manager                                 1\nКопирайтер / контент менеджер                            1\nName: count, Length: 16395, dtype: int64"
     },
     "execution_count": 54,
     "metadata": {},
     "output_type": "execute_result"
    }
   ],
   "source": [
    "df['name'].value_counts()"
   ]
  },
  {
   "cell_type": "markdown",
   "id": "4fd2153a-8812-4fdd-9f8a-96768fa39b0d",
   "metadata": {},
   "source": [
    "Сначала преобразуем всё к нижнему регистру:"
   ]
  },
  {
   "cell_type": "code",
   "execution_count": 55,
   "id": "c7743794-e2d2-4a94-ae8d-9accdc97e51f",
   "metadata": {
    "ExecuteTime": {
     "end_time": "2024-01-07T05:36:05.541823Z",
     "start_time": "2024-01-07T05:36:05.399122400Z"
    }
   },
   "outputs": [
    {
     "data": {
      "text/plain": "name\nменеджер по продажам                                   340\nменеджер по работе с клиентами                         202\nюрист                                                  162\nуборщица/уборщик                                       150\nпомощник юриста                                        149\n                                                      ... \nруководитель департамента коммерческой недвижимости      1\nлогист- оператор / грузчик (трк европолис)               1\nuser acquisition manager                                 1\nконструктор - технолог корпусной мебели                  1\nкопирайтер / контент менеджер                            1\nName: count, Length: 16089, dtype: int64"
     },
     "execution_count": 55,
     "metadata": {},
     "output_type": "execute_result"
    }
   ],
   "source": [
    "df['name'] = df['name'].apply(lambda x: x.lower())\n",
    "df['name'] = df['name'].apply(lambda x: x.strip())\n",
    "df['name'].value_counts()"
   ]
  },
  {
   "cell_type": "code",
   "execution_count": 56,
   "id": "b32151ad-ca6f-4540-a396-61435d0638bf",
   "metadata": {
    "ExecuteTime": {
     "end_time": "2024-01-07T05:36:09.290923100Z",
     "start_time": "2024-01-07T05:36:09.124083200Z"
    }
   },
   "outputs": [],
   "source": [
    "vectorizer_name = TfidfVectorizer(input='content', encoding='utf-8', \n",
    "                             decode_error='strict', strip_accents=None, lowercase=True,\n",
    "                             preprocessor=None, tokenizer=None, analyzer='word',\n",
    "                             stop_words=None, min_df=6, dtype=np.float32, max_features=32,\n",
    "                             token_pattern=r'(?u)\\b\\w\\w\\w\\w+\\b')"
   ]
  },
  {
   "cell_type": "code",
   "execution_count": 57,
   "id": "433dd95d-28d5-4cc2-8043-9fa658627a8a",
   "metadata": {
    "ExecuteTime": {
     "end_time": "2024-01-07T05:36:09.909295900Z",
     "start_time": "2024-01-07T05:36:09.665587200Z"
    }
   },
   "outputs": [],
   "source": [
    "df_name_parsed = vectorizer_name.fit_transform(df['name'])"
   ]
  },
  {
   "cell_type": "markdown",
   "id": "b854f35c-008e-4389-9829-a37fa4a90f98",
   "metadata": {},
   "source": [
    "Можно увидеть перечисления через /, либо доп. указания в скобках. "
   ]
  },
  {
   "cell_type": "code",
   "execution_count": null,
   "id": "bcd7839b-8978-43c9-b823-fc25730b8dc8",
   "metadata": {},
   "outputs": [],
   "source": [
    "import re\n",
    "\n",
    "map_name_to_count = {}\n",
    "for idx in df.index:\n",
    "    split = re.split('\\W+', df['name'][idx])\n",
    "    split = list(filter(None, split))\n",
    "    for entry in split:\n",
    "        if len(entry) > 2:\n",
    "            if entry in map_name_to_count:\n",
    "                map_name_to_count[entry] = map_name_to_count[entry] + 1\n",
    "            else:\n",
    "                for key in map_name_to_count:\n",
    "                    if near_equal(key, entry) >= 0.75:\n",
    "                        map_name_to_count[key] = map_name_to_count[key] + 1\n",
    "                        break\n",
    "                else:\n",
    "                    map_name_to_count[entry] = 1\n",
    "#map_name_to_count"
   ]
  },
  {
   "cell_type": "code",
   "execution_count": null,
   "id": "ee9f3c01-3a7a-474c-b0f5-b905502aed67",
   "metadata": {},
   "outputs": [],
   "source": [
    "map_name_to_count1 = {k: v for k, v in map_name_to_count.items() if v >= 1100}\n",
    "sorted_names_to_count = sorted(map_name_to_count1.items(), key=lambda x:x[1], reverse=True)\n",
    "#sorted_names_to_count"
   ]
  },
  {
   "cell_type": "code",
   "execution_count": null,
   "id": "d5d3fba4-d3f4-437d-812a-47d9089de1b3",
   "metadata": {},
   "outputs": [],
   "source": [
    "array_false = [False] * len(df)\n",
    "array_true = [True] * len(df)\n",
    "\n",
    "for key, val in sorted_names_to_count:\n",
    "    composite = 'name_' + key\n",
    "    df[composite] = array_false\n",
    "df['name_other'] = array_true\n",
    "\n",
    "#df"
   ]
  },
  {
   "cell_type": "code",
   "execution_count": null,
   "id": "ed12383d-5cf8-4135-957b-469537152f1a",
   "metadata": {},
   "outputs": [],
   "source": [
    "for idx in df.index:\n",
    "    split = re.split('\\W+', df['name'][idx])\n",
    "    split = list(filter(None, split))\n",
    "    for entry in split:\n",
    "        for key, val in sorted_names_to_count:\n",
    "            if near_equal(entry, key) >= 0.75:\n",
    "                composite = 'name_' + key\n",
    "                df[composite][idx] = True\n",
    "                df['name_other'][idx] = False\n",
    "\n",
    "#df"
   ]
  },
  {
   "cell_type": "code",
   "execution_count": 58,
   "id": "25435c3e-3c59-405e-8d0e-f8f5a80d2d97",
   "metadata": {
    "ExecuteTime": {
     "end_time": "2024-01-07T05:36:14.168075200Z",
     "start_time": "2024-01-07T05:36:14.053359900Z"
    }
   },
   "outputs": [],
   "source": [
    "df = df.drop(columns=['name'])"
   ]
  },
  {
   "cell_type": "markdown",
   "id": "65a31733-0bed-45d1-9e2a-375791fa1e13",
   "metadata": {},
   "source": [
    "<H1>One-Hotting</H1>"
   ]
  },
  {
   "cell_type": "code",
   "execution_count": 59,
   "id": "77aeddd1-ff08-4849-8c80-b8f19c5158fe",
   "metadata": {
    "ExecuteTime": {
     "end_time": "2024-01-07T05:36:14.927183500Z",
     "start_time": "2024-01-07T05:36:14.796160500Z"
    }
   },
   "outputs": [
    {
     "name": "stdout",
     "output_type": "stream",
     "text": [
      "<class 'pandas.core.frame.DataFrame'>\n",
      "Index: 27934 entries, 29083 to 15795\n",
      "Data columns (total 9 columns):\n",
      " #   Column                    Non-Null Count  Dtype  \n",
      "---  ------                    --------------  -----  \n",
      " 0   has_test                  27934 non-null  bool   \n",
      " 1   response_letter_required  27934 non-null  bool   \n",
      " 2   salary_from               27934 non-null  float64\n",
      " 3   salary_gross              27934 non-null  bool   \n",
      " 4   area_name                 27934 non-null  object \n",
      " 5   salary_to                 27934 non-null  float64\n",
      " 6   published_at_diff         27934 non-null  float64\n",
      " 7   description_exp           27934 non-null  float64\n",
      " 8   description_salary        27934 non-null  object \n",
      "dtypes: bool(3), float64(4), object(2)\n",
      "memory usage: 2.6+ MB\n"
     ]
    }
   ],
   "source": [
    "df.info()"
   ]
  },
  {
   "cell_type": "markdown",
   "id": "e99f5238-794b-4a60-a846-f978742f9fb5",
   "metadata": {},
   "source": [
    "Сделаем one-hotting категориальных фич:"
   ]
  },
  {
   "cell_type": "code",
   "execution_count": 60,
   "id": "de709b48-cea9-4b61-b3dd-0815eadb5757",
   "metadata": {
    "ExecuteTime": {
     "end_time": "2024-01-07T05:36:17.043783300Z",
     "start_time": "2024-01-07T05:36:16.886648800Z"
    }
   },
   "outputs": [
    {
     "data": {
      "text/plain": "       area_name_Other  area_name_Екатеринбург  area_name_Казань  \\\nid                                                                 \n29083            False                   False             False   \n26052            False                   False             False   \n24055            False                   False             False   \n4408             False                   False             False   \n16856            False                   False             False   \n\n       area_name_Краснодар  area_name_Москва  area_name_Новосибирск  \\\nid                                                                    \n29083                False              True                  False   \n26052                False              True                  False   \n24055                False              True                  False   \n4408                 False              True                  False   \n16856                False              True                  False   \n\n       area_name_Санкт-Петербург  has_test  response_letter_required  \\\nid                                                                     \n29083                      False     False                     False   \n26052                      False     False                     False   \n24055                      False     False                     False   \n4408                       False     False                     False   \n16856                      False     False                      True   \n\n       salary_from  salary_gross area_name  salary_to  published_at_diff  \\\nid                                                                         \n29083      40000.0         False    Москва   200000.0           8.021610   \n26052     120000.0         False    Москва   170000.0           7.709255   \n24055      40000.0         False    Москва   120000.0           8.582645   \n4408       33500.0          True    Москва    38000.0           7.427419   \n16856      30000.0          True    Москва    35000.0           4.053419   \n\n       description_exp description_salary  \nid                                         \n29083              1.0            40000.0  \n26052              1.0           120000.0  \n24055              2.0            40000.0  \n4408               1.0            33500.0  \n16856              1.0            30000.0  ",
      "text/html": "<div>\n<style scoped>\n    .dataframe tbody tr th:only-of-type {\n        vertical-align: middle;\n    }\n\n    .dataframe tbody tr th {\n        vertical-align: top;\n    }\n\n    .dataframe thead th {\n        text-align: right;\n    }\n</style>\n<table border=\"1\" class=\"dataframe\">\n  <thead>\n    <tr style=\"text-align: right;\">\n      <th></th>\n      <th>area_name_Other</th>\n      <th>area_name_Екатеринбург</th>\n      <th>area_name_Казань</th>\n      <th>area_name_Краснодар</th>\n      <th>area_name_Москва</th>\n      <th>area_name_Новосибирск</th>\n      <th>area_name_Санкт-Петербург</th>\n      <th>has_test</th>\n      <th>response_letter_required</th>\n      <th>salary_from</th>\n      <th>salary_gross</th>\n      <th>area_name</th>\n      <th>salary_to</th>\n      <th>published_at_diff</th>\n      <th>description_exp</th>\n      <th>description_salary</th>\n    </tr>\n    <tr>\n      <th>id</th>\n      <th></th>\n      <th></th>\n      <th></th>\n      <th></th>\n      <th></th>\n      <th></th>\n      <th></th>\n      <th></th>\n      <th></th>\n      <th></th>\n      <th></th>\n      <th></th>\n      <th></th>\n      <th></th>\n      <th></th>\n      <th></th>\n    </tr>\n  </thead>\n  <tbody>\n    <tr>\n      <th>29083</th>\n      <td>False</td>\n      <td>False</td>\n      <td>False</td>\n      <td>False</td>\n      <td>True</td>\n      <td>False</td>\n      <td>False</td>\n      <td>False</td>\n      <td>False</td>\n      <td>40000.0</td>\n      <td>False</td>\n      <td>Москва</td>\n      <td>200000.0</td>\n      <td>8.021610</td>\n      <td>1.0</td>\n      <td>40000.0</td>\n    </tr>\n    <tr>\n      <th>26052</th>\n      <td>False</td>\n      <td>False</td>\n      <td>False</td>\n      <td>False</td>\n      <td>True</td>\n      <td>False</td>\n      <td>False</td>\n      <td>False</td>\n      <td>False</td>\n      <td>120000.0</td>\n      <td>False</td>\n      <td>Москва</td>\n      <td>170000.0</td>\n      <td>7.709255</td>\n      <td>1.0</td>\n      <td>120000.0</td>\n    </tr>\n    <tr>\n      <th>24055</th>\n      <td>False</td>\n      <td>False</td>\n      <td>False</td>\n      <td>False</td>\n      <td>True</td>\n      <td>False</td>\n      <td>False</td>\n      <td>False</td>\n      <td>False</td>\n      <td>40000.0</td>\n      <td>False</td>\n      <td>Москва</td>\n      <td>120000.0</td>\n      <td>8.582645</td>\n      <td>2.0</td>\n      <td>40000.0</td>\n    </tr>\n    <tr>\n      <th>4408</th>\n      <td>False</td>\n      <td>False</td>\n      <td>False</td>\n      <td>False</td>\n      <td>True</td>\n      <td>False</td>\n      <td>False</td>\n      <td>False</td>\n      <td>False</td>\n      <td>33500.0</td>\n      <td>True</td>\n      <td>Москва</td>\n      <td>38000.0</td>\n      <td>7.427419</td>\n      <td>1.0</td>\n      <td>33500.0</td>\n    </tr>\n    <tr>\n      <th>16856</th>\n      <td>False</td>\n      <td>False</td>\n      <td>False</td>\n      <td>False</td>\n      <td>True</td>\n      <td>False</td>\n      <td>False</td>\n      <td>False</td>\n      <td>True</td>\n      <td>30000.0</td>\n      <td>True</td>\n      <td>Москва</td>\n      <td>35000.0</td>\n      <td>4.053419</td>\n      <td>1.0</td>\n      <td>30000.0</td>\n    </tr>\n  </tbody>\n</table>\n</div>"
     },
     "execution_count": 60,
     "metadata": {},
     "output_type": "execute_result"
    }
   ],
   "source": [
    "df_one_hoted = df.copy()\n",
    "\n",
    "#ONE_HOT_COL = ['published_at_diff']\n",
    "ONE_HOT_COL = ['area_name'] #'name', 'employer_name', 'published_at_diff'\n",
    "\n",
    "temp = pd.get_dummies(df_one_hoted[ONE_HOT_COL], prefix=ONE_HOT_COL, dtype=bool)\n",
    "\n",
    "df_one_hoted = pd.concat([temp, df], axis=1)\n",
    "\n",
    "df_one_hoted.head()"
   ]
  },
  {
   "cell_type": "markdown",
   "id": "72b412b4-3e2c-4f90-b090-f577ce526e81",
   "metadata": {},
   "source": [
    "Удалим столбцы:"
   ]
  },
  {
   "cell_type": "code",
   "execution_count": 61,
   "id": "c5ae898b-116b-4f9b-8527-4770431da98b",
   "metadata": {
    "ExecuteTime": {
     "end_time": "2024-01-07T05:36:20.641390Z",
     "start_time": "2024-01-07T05:36:20.518217800Z"
    }
   },
   "outputs": [],
   "source": [
    "df_one_hoted = df_one_hoted.drop(columns=['area_name'])#, 'name', 'employer_name', 'published_at_diff' ])\n",
    "#df_one_hoted = df_one_hoted.drop(columns=['published_at_diff'])"
   ]
  },
  {
   "cell_type": "code",
   "execution_count": 62,
   "id": "2c7b89ac-fb46-44df-b62f-b3a85fd3250f",
   "metadata": {
    "ExecuteTime": {
     "end_time": "2024-01-07T05:36:21.057014700Z",
     "start_time": "2024-01-07T05:36:20.907679500Z"
    }
   },
   "outputs": [
    {
     "name": "stdout",
     "output_type": "stream",
     "text": [
      "<class 'pandas.core.frame.DataFrame'>\n",
      "Index: 27934 entries, 29083 to 15795\n",
      "Data columns (total 15 columns):\n",
      " #   Column                     Non-Null Count  Dtype  \n",
      "---  ------                     --------------  -----  \n",
      " 0   area_name_Other            27934 non-null  bool   \n",
      " 1   area_name_Екатеринбург     27934 non-null  bool   \n",
      " 2   area_name_Казань           27934 non-null  bool   \n",
      " 3   area_name_Краснодар        27934 non-null  bool   \n",
      " 4   area_name_Москва           27934 non-null  bool   \n",
      " 5   area_name_Новосибирск      27934 non-null  bool   \n",
      " 6   area_name_Санкт-Петербург  27934 non-null  bool   \n",
      " 7   has_test                   27934 non-null  bool   \n",
      " 8   response_letter_required   27934 non-null  bool   \n",
      " 9   salary_from                27934 non-null  float64\n",
      " 10  salary_gross               27934 non-null  bool   \n",
      " 11  salary_to                  27934 non-null  float64\n",
      " 12  published_at_diff          27934 non-null  float64\n",
      " 13  description_exp            27934 non-null  float64\n",
      " 14  description_salary         27934 non-null  object \n",
      "dtypes: bool(10), float64(4), object(1)\n",
      "memory usage: 2.6+ MB\n"
     ]
    }
   ],
   "source": [
    "df_one_hoted.info()"
   ]
  },
  {
   "cell_type": "code",
   "execution_count": 63,
   "id": "a2120e04-9997-4a86-90af-086d83dfc2a3",
   "metadata": {
    "ExecuteTime": {
     "end_time": "2024-01-07T05:36:21.569911900Z",
     "start_time": "2024-01-07T05:36:21.439082300Z"
    }
   },
   "outputs": [],
   "source": [
    "df = df_one_hoted"
   ]
  },
  {
   "cell_type": "markdown",
   "id": "d988bea0-d3cf-4a8b-9c42-b1aa82ee6ffa",
   "metadata": {},
   "source": [
    "<H1>Корреляция</H1>"
   ]
  },
  {
   "cell_type": "code",
   "execution_count": null,
   "id": "0602e1f2-46f2-4484-a1b4-f7b41247e788",
   "metadata": {},
   "outputs": [],
   "source": [
    "df.corr().style.background_gradient(cmap='coolwarm')"
   ]
  },
  {
   "cell_type": "code",
   "execution_count": null,
   "id": "295ada70-d5ed-4432-af0f-0fd27bb57b89",
   "metadata": {},
   "outputs": [],
   "source": [
    "#df = df.drop(columns=['description']) #, 'description'\n",
    "#df['salary_from'] = np.log(df['salary_from'])\n",
    "#df['description'] = np.exp(df['description'])"
   ]
  },
  {
   "cell_type": "code",
   "execution_count": null,
   "id": "70debbf1-3d79-444d-8179-84551dc676b7",
   "metadata": {},
   "outputs": [],
   "source": [
    "#df['salary_from']"
   ]
  },
  {
   "cell_type": "markdown",
   "id": "d3d7a313-9806-4e5d-8c78-7c62f3064bd7",
   "metadata": {},
   "source": [
    "<H1>Создание модели</H1>"
   ]
  },
  {
   "cell_type": "code",
   "execution_count": 64,
   "id": "732a2a5d-b659-4a28-8cb1-6a6224d5fa15",
   "metadata": {
    "ExecuteTime": {
     "end_time": "2024-01-07T05:36:26.134805Z",
     "start_time": "2024-01-07T05:36:25.919779900Z"
    }
   },
   "outputs": [],
   "source": [
    "DESC_COLS = ['desc_' + str(col) for col in vectorizer.get_feature_names_out()]\n",
    "df_desc_parsed1 = pd.DataFrame(df_desc_parsed.toarray(), columns=DESC_COLS, index=df.index)\n",
    "df = df.join(df_desc_parsed1)"
   ]
  },
  {
   "cell_type": "code",
   "execution_count": 65,
   "id": "b2e74582-f5ad-4b61-abd1-2fa8e9857526",
   "metadata": {
    "ExecuteTime": {
     "end_time": "2024-01-07T05:36:26.996414100Z",
     "start_time": "2024-01-07T05:36:26.810913100Z"
    }
   },
   "outputs": [],
   "source": [
    "EMPL_COLS = ['empl_' + str(col) for col in vectorizer_empl.get_feature_names_out()]\n",
    "df_empl_parsed1 = pd.DataFrame(df_empl_parsed.toarray(), columns=EMPL_COLS, index=df.index)\n",
    "df = df.join(df_empl_parsed1)"
   ]
  },
  {
   "cell_type": "code",
   "execution_count": 66,
   "id": "e0c2cf72-ae6b-4892-85ac-397ae569deac",
   "metadata": {
    "ExecuteTime": {
     "end_time": "2024-01-07T05:36:27.844434600Z",
     "start_time": "2024-01-07T05:36:27.504811300Z"
    }
   },
   "outputs": [],
   "source": [
    "NAME_COLS = ['name_' + str(col) for col in vectorizer_name.get_feature_names_out()]\n",
    "df_name_parsed1 = pd.DataFrame(df_name_parsed.toarray(), columns=NAME_COLS, index=df.index)\n",
    "df = df.join(df_name_parsed1)"
   ]
  },
  {
   "cell_type": "code",
   "execution_count": 67,
   "id": "0155bdd9-5dc2-4592-8991-539ce8c283c5",
   "metadata": {
    "ExecuteTime": {
     "end_time": "2024-01-07T05:36:30.978685800Z",
     "start_time": "2024-01-07T05:36:29.266850900Z"
    }
   },
   "outputs": [],
   "source": [
    "from sklearn.model_selection import train_test_split\n",
    "\n",
    "\n",
    "#df_sampled = df.sample(20_000)\n",
    "\n",
    "X_train, X_test, y_train, y_test = train_test_split(df.drop(columns='salary_to'), df.salary_to, test_size=0.3, random_state=123)"
   ]
  },
  {
   "cell_type": "code",
   "execution_count": 68,
   "id": "ce3cdbaf-b6e5-44a5-bd9d-b58c9964c3d1",
   "metadata": {
    "ExecuteTime": {
     "end_time": "2024-01-07T05:36:32.099801900Z",
     "start_time": "2024-01-07T05:36:32.002181500Z"
    }
   },
   "outputs": [],
   "source": [
    "def smape(A, F):\n",
    "    return 100/len(A) * np.sum(2 * np.abs(F - A) / (np.abs(A) + np.abs(F)))"
   ]
  },
  {
   "cell_type": "code",
   "execution_count": null,
   "id": "8e7293a3-9e45-4ad6-8b3d-1aecb158ca76",
   "metadata": {},
   "outputs": [],
   "source": [
    "%%time\n",
    "from sklearn.linear_model import SGDRegressor, LinearRegression\n",
    "from sklearn.metrics import mean_absolute_error, mean_squared_error, mean_absolute_percentage_error\n",
    "\n",
    "model_LR = LinearRegression()\n",
    "model_LR.fit(X_train, y_train)\n",
    "\n",
    "y_pred_train = model_LR.predict(X_train)\n",
    "y_pred_test = model_LR.predict(X_test)\n",
    "\n",
    "#print(f'MAE train: {mean_absolute_error(y_train, y_pred_train)}, MAE test: {mean_absolute_error(y_test, y_pred_test)}')\n",
    "#print(f'MSE train: {mean_squared_error(y_train, y_pred_train)}, MSE test: {mean_squared_error(y_test, y_pred_test)}')\n",
    "#print(f'MAPE train: {mean_absolute_percentage_error(y_train, y_pred_train)}, MAPE test: {mean_absolute_percentage_error(y_test, y_pred_test)}')\n",
    "print(f'SMAPE train: {smape(y_train, y_pred_train)}, SMAPE test: {smape(y_test, y_pred_test)}')"
   ]
  },
  {
   "cell_type": "code",
   "execution_count": null,
   "id": "ae3301f2-2e99-4789-8344-657bc6120a17",
   "metadata": {},
   "outputs": [],
   "source": [
    "model_SGR = SGDRegressor() # epsilon_insensitive, huber, squared_loss\n",
    "model_SGR.fit(X_train, y_train)\n",
    "\n",
    "y_pred_train = model_SGR.predict(X_train)\n",
    "y_pred_test = model_SGR.predict(X_test)\n",
    "\n",
    "#print(f'MAE train: {mean_absolute_error(y_train, y_pred_train)}, MAE test: {mean_absolute_error(y_test, y_pred_test)}')\n",
    "#print(f'MSE train: {mean_squared_error(y_train, y_pred_train)}, MSE test: {mean_squared_error(y_test, y_pred_test)}')\n",
    "#print(f'MAPE train: {mean_absolute_percentage_error(y_train, y_pred_train)}, MAPE test: {mean_absolute_percentage_error(y_test, y_pred_test)}')\n",
    "print(f'SMAPE train: {smape(y_train, y_pred_train)}, SMAPE test: {smape(y_test, y_pred_test)}')"
   ]
  },
  {
   "cell_type": "code",
   "execution_count": null,
   "id": "d78eb886-9c99-4691-ab6b-b93e5591d7a3",
   "metadata": {},
   "outputs": [],
   "source": [
    "%%time\n",
    "from xgboost import XGBRegressor\n",
    "from sklearn.metrics import mean_absolute_error, mean_squared_error, mean_absolute_percentage_error\n",
    "\n",
    "def smape1(A, F):\n",
    "    return 100/len(A) * np.sum(2 * np.abs(F - A) / (np.abs(A) + np.abs(F)))\n",
    "\n",
    "xg_model = XGBRegressor()\n",
    "xg_model.fit(X_train, y_train)\n",
    "\n",
    "y_pred_train = xg_model.predict(X_train)\n",
    "y_pred_test = xg_model.predict(X_test)\n",
    "\n",
    "#print(f'MAE train: {mean_absolute_error(y_train, y_pred_train)}, MAE test: {mean_absolute_error(y_test, y_pred_test)}')\n",
    "#print(f'MSE train: {mean_squared_error(y_train, y_pred_train)}, MSE test: {mean_squared_error(y_test, y_pred_test)}')\n",
    "#print(f'MAPE train: {mean_absolute_percentage_error(y_train, y_pred_train)}, MAPE test: {mean_absolute_percentage_error(y_test, y_pred_test)}')\n",
    "print(f'SMAPE train: {smape(y_train, y_pred_train)}, SMAPE test: {smape(y_test, y_pred_test)}')"
   ]
  },
  {
   "cell_type": "code",
   "execution_count": null,
   "id": "3fcae64d-5a3d-4651-ade3-03f22c426451",
   "metadata": {},
   "outputs": [],
   "source": [
    "xg_model.score(X_test, y_test)"
   ]
  },
  {
   "cell_type": "code",
   "execution_count": null,
   "id": "e6e9045b-e4f5-478d-9e01-a848bb8aaeec",
   "metadata": {},
   "outputs": [],
   "source": [
    "importances1 = dict(zip(xg_model.feature_names_in_, xg_model.feature_importances_))\n",
    "importances1 = {k: v for k,v in sorted(importances1.items(), key=lambda x: x[1], reverse=True)}\n",
    "importances1"
   ]
  },
  {
   "cell_type": "code",
   "execution_count": null,
   "id": "e87bded3-c883-4b65-9c86-909763014379",
   "metadata": {},
   "outputs": [],
   "source": [
    "%%time\n",
    "from sklearn.ensemble import RandomForestRegressor\n",
    "from sklearn.metrics import mean_absolute_error, mean_squared_error, mean_absolute_percentage_error\n",
    "\n",
    "\n",
    "model = RandomForestRegressor(n_estimators=100, max_depth=70, min_samples_split=3, random_state=123458)#, criterion='friedman_mse')\n",
    "model.fit(X_train, y_train)\n",
    "\n",
    "y_pred_train = model.predict(X_train)\n",
    "y_pred_test = model.predict(X_test)\n",
    "\n",
    "#print(f'MAE train: {mean_absolute_error(y_train, y_pred_train)}, MAE test: {mean_absolute_error(y_test, y_pred_test)}')\n",
    "#print(f'MSE train: {mean_squared_error(y_train, y_pred_train)}, MSE test: {mean_squared_error(y_test, y_pred_test)}')\n",
    "#print(f'MAPE train: {mean_absolute_percentage_error(y_train, y_pred_train)}, MAPE test: {mean_absolute_percentage_error(y_test, y_pred_test)}')\n",
    "print(f'SMAPE train: {smape(y_train, y_pred_train)}, SMAPE test: {smape(y_test, y_pred_test)}')"
   ]
  },
  {
   "cell_type": "code",
   "execution_count": null,
   "id": "1a533182-79b3-47a9-b000-9828c3f856e3",
   "metadata": {},
   "outputs": [],
   "source": [
    "model.score(X_train, y_train)"
   ]
  },
  {
   "cell_type": "code",
   "execution_count": null,
   "id": "fb77978e-544d-4a36-b085-ee72378c6a46",
   "metadata": {},
   "outputs": [],
   "source": [
    "model.score(X_test, y_test)"
   ]
  },
  {
   "cell_type": "code",
   "execution_count": null,
   "id": "a6f8dc1a-f9a1-44f9-87ed-5d00823aee49",
   "metadata": {},
   "outputs": [],
   "source": [
    "importances = dict(zip(model.feature_names_in_, model.feature_importances_))\n",
    "importances = {k: v for k,v in sorted(importances.items(), key=lambda x: x[1], reverse=True)}"
   ]
  },
  {
   "cell_type": "code",
   "execution_count": null,
   "id": "1cac0b44-4038-4f78-93ba-01314a0e0ce0",
   "metadata": {},
   "outputs": [],
   "source": [
    "importances"
   ]
  },
  {
   "cell_type": "code",
   "execution_count": null,
   "id": "d3f2ebbc-252b-4c1f-b2fd-2d32a56aaf0c",
   "metadata": {},
   "outputs": [],
   "source": [
    "from sklearn.model_selection import GridSearchCV\n",
    "\n",
    "param_grid = {\n",
    "    'n_estimators': [50, 100, 150],\n",
    "    'max_depth': [5, 10, 30, 50, None],\n",
    "    'min_samples_split': [3, 4, 5]\n",
    "}\n",
    "\n",
    "grid_search = GridSearchCV(estimator=RandomForestRegressor(),\n",
    "                           param_grid=param_grid, verbose=10)\n",
    "\t\t\t\t\t\t   \n",
    "\t\t\t\t\t\t\n",
    "\t\t\t\t\t\t\n",
    "grid_search.fit(X_train, y_train)"
   ]
  },
  {
   "cell_type": "code",
   "execution_count": null,
   "id": "5188974c-8b8a-424b-a51c-29ab261ef076",
   "metadata": {},
   "outputs": [],
   "source": [
    "grid_search.best_estimator_"
   ]
  },
  {
   "cell_type": "code",
   "execution_count": null,
   "id": "182098f7-7c41-46f0-bcbc-5b4c86dd751f",
   "metadata": {},
   "outputs": [],
   "source": [
    "model = grid_search.best_estimator_"
   ]
  },
  {
   "cell_type": "code",
   "execution_count": null,
   "id": "056e5b92-eb16-4ffa-b66c-df1e3083e783",
   "metadata": {},
   "outputs": [],
   "source": [
    "model.score(X_test, y_test)"
   ]
  },
  {
   "cell_type": "code",
   "execution_count": null,
   "id": "e4d7c74b-66a8-4b05-8355-6363ba01b5c8",
   "metadata": {},
   "outputs": [],
   "source": [
    "%%time\n",
    "#from sklearn.ensemble import RandomForestRegressor\n",
    "#from sklearn.metrics import mean_absolute_error, mean_squared_error, mean_absolute_percentage_error\n",
    "\n",
    "\n",
    "#model = RandomForestRegressor(n_estimators=100)#criterion='friedman_mse')\n",
    "#model.fit(X_train, y_train)\n",
    "\n",
    "y_pred_train = model.predict(X_train)\n",
    "y_pred_test = model.predict(X_test)\n",
    "\n",
    "#print(f'MAE train: {mean_absolute_error(y_train, y_pred_train)}, MAE test: {mean_absolute_error(y_test, y_pred_test)}')\n",
    "#print(f'MSE train: {mean_squared_error(y_train, y_pred_train)}, MSE test: {mean_squared_error(y_test, y_pred_test)}')\n",
    "#print(f'MAPE train: {mean_absolute_percentage_error(y_train, y_pred_train)}, MAPE test: {mean_absolute_percentage_error(y_test, y_pred_test)}')\n",
    "print(f'SMAPE train: {smape(y_train, y_pred_train)}, SMAPE test: {smape(y_test, y_pred_test)}')"
   ]
  },
  {
   "cell_type": "code",
   "execution_count": 69,
   "id": "a1d01fd3-9d3d-4ada-a838-8edc0d027525",
   "metadata": {
    "ExecuteTime": {
     "end_time": "2024-01-07T06:55:33.017039100Z",
     "start_time": "2024-01-07T05:36:44.549261800Z"
    }
   },
   "outputs": [
    {
     "name": "stdout",
     "output_type": "stream",
     "text": [
      "0:\tlearn: 54.0934377\ttest: 54.6437159\tbest: 54.6437159 (0)\ttotal: 3.09s\tremaining: 12h 51m 59s\n",
      "500:\tlearn: 22.6260261\ttest: 23.8478193\tbest: 23.8478193 (500)\ttotal: 2m 46s\tremaining: 1h 20m 30s\n",
      "1000:\tlearn: 21.0942107\ttest: 23.1068428\tbest: 23.1067311 (999)\ttotal: 5m 15s\tremaining: 1h 13m 31s\n",
      "1500:\tlearn: 19.8300938\ttest: 22.6427080\tbest: 22.6427080 (1500)\ttotal: 7m 46s\tremaining: 1h 9m 59s\n",
      "2000:\tlearn: 18.9574697\ttest: 22.3905335\tbest: 22.3899149 (1997)\ttotal: 10m 25s\tremaining: 1h 7m 43s\n",
      "2500:\tlearn: 18.1236892\ttest: 22.1863636\tbest: 22.1863636 (2500)\ttotal: 13m 7s\tremaining: 1h 5m 33s\n",
      "3000:\tlearn: 17.3727923\ttest: 22.0315008\tbest: 22.0310312 (2993)\ttotal: 15m 46s\tremaining: 1h 3m 4s\n",
      "3500:\tlearn: 16.6470918\ttest: 21.8751765\tbest: 21.8749766 (3497)\ttotal: 18m 28s\tremaining: 1h 41s\n",
      "4000:\tlearn: 16.0219045\ttest: 21.7820493\tbest: 21.7803006 (3985)\ttotal: 21m 9s\tremaining: 58m 9s\n",
      "4500:\tlearn: 15.4345350\ttest: 21.7160288\tbest: 21.7160288 (4500)\ttotal: 23m 50s\tremaining: 55m 36s\n",
      "5000:\tlearn: 14.7633441\ttest: 21.6615453\tbest: 21.6597821 (4969)\ttotal: 26m 36s\tremaining: 53m 12s\n",
      "5500:\tlearn: 14.3119252\ttest: 21.5747560\tbest: 21.5745364 (5471)\ttotal: 29m 11s\tremaining: 50m 24s\n",
      "6000:\tlearn: 13.9053793\ttest: 21.5118702\tbest: 21.5118702 (6000)\ttotal: 31m 46s\tremaining: 47m 38s\n",
      "6500:\tlearn: 13.4992145\ttest: 21.4588935\tbest: 21.4578881 (6497)\ttotal: 34m 22s\tremaining: 44m 56s\n",
      "7000:\tlearn: 13.1733668\ttest: 21.4075814\tbest: 21.4065138 (6977)\ttotal: 37m 11s\tremaining: 42m 30s\n",
      "7500:\tlearn: 12.8517572\ttest: 21.4122143\tbest: 21.4034810 (7034)\ttotal: 39m 46s\tremaining: 39m 46s\n",
      "8000:\tlearn: 12.4443531\ttest: 21.3819145\tbest: 21.3819145 (8000)\ttotal: 42m 23s\tremaining: 37m 4s\n",
      "8500:\tlearn: 12.0638975\ttest: 21.3598122\tbest: 21.3598122 (8500)\ttotal: 45m 2s\tremaining: 34m 26s\n",
      "9000:\tlearn: 11.8154603\ttest: 21.3281999\tbest: 21.3267807 (8987)\ttotal: 47m 37s\tremaining: 31m 44s\n",
      "9500:\tlearn: 11.4688915\ttest: 21.3066771\tbest: 21.3003895 (9474)\ttotal: 50m 10s\tremaining: 29m 2s\n",
      "10000:\tlearn: 11.1551225\ttest: 21.2778737\tbest: 21.2778737 (10000)\ttotal: 52m 43s\tremaining: 26m 21s\n",
      "10500:\tlearn: 10.8775357\ttest: 21.2513853\tbest: 21.2507709 (10489)\ttotal: 55m 18s\tremaining: 23m 41s\n",
      "11000:\tlearn: 10.5989958\ttest: 21.2235686\tbest: 21.2181236 (10968)\ttotal: 57m 53s\tremaining: 21m 2s\n",
      "11500:\tlearn: 10.2670918\ttest: 21.2107824\tbest: 21.1951425 (11481)\ttotal: 1h 27s\tremaining: 18m 23s\n",
      "12000:\tlearn: 10.0027509\ttest: 21.1921265\tbest: 21.1915175 (11984)\ttotal: 1h 3m 1s\tremaining: 15m 44s\n",
      "12500:\tlearn: 9.7705407\ttest: 21.1827446\tbest: 21.1812876 (12479)\ttotal: 1h 5m 34s\tremaining: 13m 6s\n",
      "13000:\tlearn: 9.4836317\ttest: 21.1497343\tbest: 21.1497343 (13000)\ttotal: 1h 8m 14s\tremaining: 10m 29s\n",
      "13500:\tlearn: 9.2649551\ttest: 21.1332716\tbest: 21.1318407 (13474)\ttotal: 1h 10m 51s\tremaining: 7m 52s\n",
      "14000:\tlearn: 9.0772169\ttest: 21.1269859\tbest: 21.1169934 (13931)\ttotal: 1h 13m 26s\tremaining: 5m 14s\n",
      "14500:\tlearn: 8.8676275\ttest: 21.1329669\tbest: 21.1169934 (13931)\ttotal: 1h 16m 1s\tremaining: 2m 36s\n",
      "14999:\tlearn: 8.6565756\ttest: 21.1140799\tbest: 21.1140799 (14999)\ttotal: 1h 18m 35s\tremaining: 0us\n",
      "\n",
      "bestTest = 21.11407989\n",
      "bestIteration = 14999\n",
      "SMAPE train: 8.656575611141955, SMAPE test: 21.114079893822044\n",
      "CPU times: total: 9h 40min 23s\n",
      "Wall time: 1h 18min 48s\n"
     ]
    }
   ],
   "source": [
    "%%time\n",
    "from catboost import CatBoostRegressor\n",
    "from sklearn.metrics import mean_absolute_error, mean_squared_error, mean_absolute_percentage_error\n",
    "\n",
    "\n",
    "cat_model = CatBoostRegressor(loss_function='MAE', eval_metric='SMAPE', \n",
    "                              depth=8, iterations = 15000, random_state=1234,\n",
    "                              learning_rate=0.03)\n",
    "                              #bootstrap_type='MVS', mvs_reg=20, subsample=0.8,\n",
    "                              #min_data_in_leaf=3, rsm=0.5)\n",
    "cat_model.fit(X_train, \n",
    "              y_train,\n",
    "              verbose=500,\n",
    "              eval_set=(X_test, y_test),\n",
    "              use_best_model=True,  \n",
    ")\n",
    "\n",
    "y_pred_train = cat_model.predict(X_train)\n",
    "y_pred_test = cat_model.predict(X_test)\n",
    "\n",
    "#positive_predict = []\n",
    "#for i in y_pred_test:\n",
    "    #positive_predict.append(0 if i <0 else i)\n",
    "    \n",
    "#print(f'MAE train: {mean_absolute_error(y_train, y_pred_train)}, MAE test: {mean_absolute_error(y_test, y_pred_test)}')\n",
    "#print(f'MSE train: {mean_squared_error(y_train, y_pred_train)}, MSE test: {mean_squared_error(y_test, y_pred_test)}')\n",
    "#print(f'MAPE train: {mean_absolute_percentage_error(y_train, y_pred_train)}, MAPE test: {mean_absolute_percentage_error(y_test, y_pred_test)}')\n",
    "print(f'SMAPE train: {smape(y_train, y_pred_train)}, SMAPE test: {smape(y_test, y_pred_test)}')"
   ]
  },
  {
   "cell_type": "code",
   "execution_count": 70,
   "id": "798a8bbf-6212-4779-9fae-afe2b67c66fc",
   "metadata": {
    "ExecuteTime": {
     "end_time": "2024-01-07T06:57:18.658130Z",
     "start_time": "2024-01-07T06:57:18.322274700Z"
    }
   },
   "outputs": [
    {
     "data": {
      "text/plain": "0.5223880607563043"
     },
     "execution_count": 70,
     "metadata": {},
     "output_type": "execute_result"
    }
   ],
   "source": [
    "cat_model.score(X_test, y_test)"
   ]
  },
  {
   "cell_type": "code",
   "execution_count": 71,
   "id": "4cf2a879-de1e-47d9-94f3-4ccbff8b853d",
   "metadata": {
    "ExecuteTime": {
     "end_time": "2024-01-07T06:57:20.383208700Z",
     "start_time": "2024-01-07T06:57:20.280748100Z"
    }
   },
   "outputs": [],
   "source": [
    "importances1 = dict(zip(cat_model.feature_names_, cat_model.feature_importances_))\n",
    "importances1 = {k: v for k,v in sorted(importances1.items(), key=lambda x: x[1], reverse=True)}"
   ]
  },
  {
   "cell_type": "code",
   "execution_count": 72,
   "id": "50c6655f-09a0-4572-891c-f474ec2ca1d3",
   "metadata": {
    "ExecuteTime": {
     "end_time": "2024-01-07T06:57:21.512306200Z",
     "start_time": "2024-01-07T06:57:21.404983Z"
    }
   },
   "outputs": [
    {
     "data": {
      "text/plain": "{'salary_from': 20.07579764257154,\n 'description_salary': 8.422904578513599,\n 'published_at_diff': 7.438221671151198,\n 'desc_гарантии': 1.7076122300295904,\n 'desc_quot': 1.434225333972882,\n 'desc_работы': 1.300710706509039,\n 'desc_компания': 1.170709035949474,\n 'desc_опыт': 1.1370233905041651,\n 'desc_работать': 1.096445193600013,\n 'desc_клиентов': 1.0032754577962135,\n 'desc_работа': 0.9319914517925202,\n 'desc_условия': 0.9249662152272151,\n 'name_senior': 0.9029849619290471,\n 'desc_поиск': 0.898116787821801,\n 'desc_является': 0.8358577884773878,\n 'desc_требования': 0.8353969763550886,\n 'desc_график': 0.8275216960079541,\n 'desc_недвижимости': 0.801822136118052,\n 'desc_каждого': 0.792451005877954,\n 'name_developer': 0.7787031817130391,\n 'empl_федеральная': 0.7541115804857929,\n 'desc_разработки': 0.7367525015141341,\n 'desc_обязанности': 0.7308630469550982,\n 'desc_услуг': 0.7069842654541754,\n 'desc_консультирование': 0.7051728947810991,\n 'desc_продаж': 0.7004745326922697,\n 'desc_покупателей': 0.700223714864226,\n 'desc_компании': 0.6001986871316322,\n 'desc_наличие': 0.5368865215514117,\n 'desc_более': 0.5189807442128788,\n 'desc_будет': 0.5050268406249077,\n 'desc_проектов': 0.503501121109329,\n 'desc_наших': 0.5021323582275955,\n 'desc_производства': 0.48917341569748407,\n 'desc_клиентам': 0.4860558070976833,\n 'desc_высшее': 0.48263849047055274,\n 'desc_образование': 0.4788952266444342,\n 'desc_желание': 0.4778453553269803,\n 'desc_зарабатывать': 0.44658168962286177,\n 'desc_соответствии': 0.43782849034717497,\n 'desc_результат': 0.4375658300882216,\n 'desc_развитие': 0.43466197259377615,\n 'desc_заявок': 0.43365213820215825,\n 'desc_оформление': 0.4308980962902328,\n 'desc_доход': 0.42724554709972956,\n 'name_продажам': 0.4220113356353437,\n 'desc_команду': 0.42063642054205397,\n 'desc_трудоустройство': 0.41951178956627694,\n 'name_разработчик': 0.4089229674693054,\n 'desc_docker': 0.4043944862976636,\n 'desc_года': 0.3920103802943063,\n 'desc_профессионального': 0.391047537088488,\n 'desc_приглашаем': 0.3774210309390482,\n 'empl_personname': 0.3472662037386011,\n 'desc_знание': 0.32504568622137087,\n 'desc_бизнеса': 0.3204102331500205,\n 'desc_высокий': 0.3151705284905521,\n 'desc_наши': 0.3142289958881755,\n 'desc_сети': 0.2995320163694748,\n 'desc_обучение': 0.29515273443837786,\n 'desc_всех': 0.29269015695992145,\n 'name_продавец': 0.2767774168007677,\n 'desc_резюме': 0.272597728270783,\n 'desc_менее': 0.2678670164490971,\n 'desc_только': 0.26002727669474063,\n 'desc_опытом': 0.25435320637949055,\n 'desc_возможность': 0.2528156271144152,\n 'desc_есть': 0.24189921317005242,\n 'desc_чтобы': 0.23950015731116306,\n 'desc_пакет': 0.2391457006537549,\n 'desc_умение': 0.23842077823699612,\n 'desc_контроль': 0.23630512108265095,\n 'desc_оплата': 0.23335249133584296,\n 'desc_решений': 0.22979113846025556,\n 'desc_python': 0.2236004446221107,\n 'desc_участие': 0.21927197167972537,\n 'desc_офисе': 0.2184980109556243,\n 'desc_быть': 0.2029917040346315,\n 'desc_работе': 0.19601558233181024,\n 'desc_разработка': 0.19591827440671233,\n 'area_name_Санкт-Петербург': 0.1956673025074748,\n 'desc_дней': 0.19363394722940447,\n 'desc_профессионалов': 0.18652654668133703,\n 'desc_области': 0.18505217744653096,\n 'desc_официальное': 0.18254759470598506,\n 'desc_данных': 0.18215774467825746,\n 'desc_тренинги': 0.18109372951234937,\n 'desc_командой': 0.17799257856114561,\n 'desc_переговоров': 0.1762663067956881,\n 'desc_желательно': 0.17081278821377682,\n 'desc_postgresql': 0.17081035069105982,\n 'desc_команда': 0.1681708181803636,\n 'desc_которая': 0.16789724187043414,\n 'desc_гибкий': 0.1650749854786189,\n 'desc_которые': 0.16355732489620406,\n 'desc_день': 0.16059058316014965,\n 'area_name_Москва': 0.15865785300692098,\n 'desc_работу': 0.15814897181059623,\n 'desc_россии': 0.15503463313425514,\n 'desc_нужен': 0.14984415057293138,\n 'desc_опыта': 0.1491469235202439,\n 'name_менеджер': 0.1437654161772151,\n 'desc_рабочее': 0.14141541122764048,\n 'desc_качества': 0.13915093614999482,\n 'desc_поддержка': 0.1381488033559478,\n 'desc_оклад': 0.13753630781937,\n 'desc_если': 0.13675663972153393,\n 'desc_разработчика': 0.13657853162323175,\n 'desc_базы': 0.1344614233475948,\n 'desc_либо': 0.13339383322851517,\n 'desc_команды': 0.13304898332291779,\n 'desc_офис': 0.13215120979906694,\n 'desc_необходимо': 0.129611997808141,\n 'desc_новых': 0.1293633398833154,\n 'desc_белая': 0.1276881814470592,\n 'desc_продукт': 0.12685770765020246,\n 'desc_месяц': 0.12673904028440808,\n 'desc_мероприятия': 0.12576612900450657,\n 'desc_задачи': 0.12529905668497496,\n 'desc_специалистов': 0.12306685063690148,\n 'desc_клиентами': 0.12303794146570245,\n 'desc_роста': 0.12222236907275305,\n 'desc_подготовка': 0.12096166147629198,\n 'desc_внимательность': 0.1200954003687989,\n 'desc_поэтому': 0.11975427995221595,\n 'name_middle': 0.11749889179662606,\n 'desc_бизнес': 0.11644501477016705,\n 'desc_проведение': 0.11551965304887607,\n 'desc_системы': 0.11482180605313466,\n 'desc_организация': 0.1126835478709275,\n 'desc_можно': 0.11154374453498515,\n 'desc_сервисов': 0.1115354902063099,\n 'desc_после': 0.11109392838962519,\n 'desc_команде': 0.10787746274579987,\n 'desc_ведение': 0.10741179816123086,\n 'desc_ищем': 0.10632392281574995,\n 'desc_магазинов': 0.10624618844349654,\n 'desc_рынка': 0.10571011358192688,\n 'desc_ответственность': 0.10508082549262396,\n 'desc_москве': 0.10179628844558324,\n 'desc_понимание': 0.10151892838637899,\n 'desc_бонусы': 0.1011851109136534,\n 'desc_сотрудников': 0.10118153016484797,\n 'desc_рядом': 0.10108717802305311,\n 'desc_вакансию': 0.10093022453906791,\n 'desc_процессов': 0.09761025105433026,\n 'desc_делать': 0.09657257590806094,\n 'desc_приглашает': 0.09592930597604654,\n 'desc_корпоративные': 0.09577496843160262,\n 'desc_коммуникабельность': 0.09437521759192388,\n 'desc_продукта': 0.09395206604557665,\n 'desc_пользователей': 0.09382584143548005,\n 'desc_конкурсы': 0.09146460896295602,\n 'desc_приложения': 0.09111332579668335,\n 'desc_части': 0.09068193671423737,\n 'desc_быстро': 0.09059766053629088,\n 'desc_выплата': 0.09026219022231154,\n 'desc_онлайн': 0.08996724015349467,\n 'desc_москва': 0.0884643391043636,\n 'desc_предстоит': 0.08662320211939688,\n 'desc_обучения': 0.08611780443325162,\n 'desc_проводить': 0.08569440253845277,\n 'desc_выше': 0.08521816644299339,\n 'salary_gross': 0.08466077270349331,\n 'desc_готов': 0.08402534005821326,\n 'desc_знания': 0.083605904918096,\n 'desc_ждем': 0.08199236553704896,\n 'desc_заработная': 0.08194739395401869,\n 'desc_предлагаем': 0.08009044937012123,\n 'desc_обсуждается': 0.07958687981209331,\n 'desc_пользователь': 0.07933805136040294,\n 'desc_также': 0.07918060783310633,\n 'desc_место': 0.07889855974864254,\n 'desc_анализ': 0.07866038328631697,\n 'desc_карьерного': 0.07784254512242483,\n 'desc_бесплатное': 0.07784138646223866,\n 'desc_разработчиков': 0.07684535304559748,\n 'desc_продуктов': 0.07649895188864357,\n 'desc_развиваться': 0.07582472206672729,\n 'desc_менеджер': 0.07558780854896507,\n 'desc_рабочий': 0.07308268005361201,\n 'desc_уровень': 0.07284128162635037,\n 'desc_компенсация': 0.07219146816690186,\n 'desc_отчетности': 0.07192386012644673,\n 'desc_проект': 0.07175704224058513,\n 'desc_время': 0.07164772399565474,\n 'desc_этом': 0.0709204328696702,\n 'desc_выполнение': 0.07072780835380511,\n 'desc_показателей': 0.07072639685010608,\n 'desc_москвы': 0.0707193597270686,\n 'desc_который': 0.0704390496365777,\n 'name_junior': 0.07000168903347476,\n 'desc_нашей': 0.068940210445094,\n 'desc_рублей': 0.06851287664955358,\n 'desc_годности': 0.06836337229811425,\n 'desc_зависит': 0.06751680990647323,\n 'desc_офиса': 0.06712254716684754,\n 'desc_себе': 0.06679863840367936,\n 'desc_навыки': 0.06500307217580947,\n 'desc_заказов': 0.0645108105241939,\n 'desc_готовность': 0.06305130702893134,\n 'desc_через': 0.06273050275112543,\n 'name_москва': 0.0623100509433314,\n 'desc_рост': 0.06200419074900048,\n 'desc_приложений': 0.06176266144092897,\n 'desc_рынке': 0.061576361896424674,\n 'desc_скидки': 0.061136135006472504,\n 'desc_кода': 0.06029124600656976,\n 'desc_плана': 0.05975936235899217,\n 'desc_официальная': 0.05962400787360509,\n 'desc_продажи': 0.059238879348758114,\n 'desc_английский': 0.05921246740336714,\n 'desc_создавать': 0.058846171954316503,\n 'desc_всегда': 0.058671981709922716,\n 'desc_зависимости': 0.058022629892272436,\n 'desc_договоров': 0.05781973251659133,\n 'desc_каждый': 0.05700361195749153,\n 'desc_развития': 0.05670859081754675,\n 'desc_написания': 0.05661472558552154,\n 'desc_сфере': 0.056454563656374336,\n 'desc_метро': 0.05618812623717714,\n 'desc_плата': 0.055752378356021356,\n 'desc_премии': 0.05571136066496278,\n 'desc_собеседование': 0.053875779260669124,\n 'desc_связи': 0.05349632879788265,\n 'desc_товаров': 0.053221430389642554,\n 'desc_реализации': 0.05246324614650558,\n 'desc_документов': 0.05229077422324994,\n 'desc_квалификации': 0.05173708095775308,\n 'name_кассир': 0.05167517772700786,\n 'desc_себя': 0.05089357660557852,\n 'desc_товара': 0.050607485905858125,\n 'desc_рабочего': 0.050603061144646244,\n 'desc_нужно': 0.05040530327729555,\n 'desc_решения': 0.05037427397278005,\n 'desc_планирование': 0.05037040086872497,\n 'desc_взаимодействие': 0.050087060115381596,\n 'desc_много': 0.05006052957971466,\n 'desc_архитектуры': 0.04964562554651359,\n 'desc_сейчас': 0.0494127574904069,\n 'desc_основ': 0.049363073349188394,\n 'name_стажер': 0.048954979217254536,\n 'desc_задач': 0.04843269559234025,\n 'desc_сроков': 0.04792857294671597,\n 'desc_согласование': 0.04739514947988447,\n 'desc_вакансия': 0.047146058038554456,\n 'desc_ваши': 0.046908019367447935,\n 'desc_профессиональное': 0.04664060385085932,\n 'desc_готовы': 0.04611332066828414,\n 'desc_сервис': 0.04539199731047946,\n 'desc_обязательно': 0.04523314581165082,\n 'desc_тебя': 0.045212153226847386,\n 'desc_наша': 0.045029064691504445,\n 'desc_google': 0.04471397631593778,\n 'desc_создание': 0.04430423474619764,\n 'desc_заниматься': 0.04420800218436468,\n 'desc_преимуществом': 0.043825355261825474,\n 'desc_именно': 0.04327141027985249,\n 'desc_компаний': 0.04323737389095722,\n 'desc_коллектив': 0.043000573071843386,\n 'desc_продажах': 0.04259585807320396,\n 'desc_магазинах': 0.04256302293779476,\n 'desc_уровня': 0.04249389298178723,\n 'desc_обеспечение': 0.04181992669587116,\n 'desc_результатам': 0.04120237619937618,\n 'desc_первого': 0.04095926712038538,\n 'desc_excel': 0.040609186775147375,\n 'desc_удаленная': 0.040606655717574526,\n 'desc_система': 0.04059878668303931,\n 'desc_полная': 0.040448460117581055,\n 'desc_клиента': 0.04020277351387019,\n 'desc_будут': 0.04006654429001122,\n 'desc_раза': 0.03976070533123609,\n 'desc_react': 0.039677992847506234,\n 'desc_владение': 0.03964929023674879,\n 'desc_числе': 0.03946454113541766,\n 'desc_управления': 0.03933317644896985,\n 'desc_проекта': 0.03930945615775051,\n 'desc_технологии': 0.039306385173326706,\n 'desc_режиме': 0.03914806650423144,\n 'name_ведущий': 0.03897679208326841,\n 'desc_проекты': 0.0388872763912466,\n 'desc_возможности': 0.03886972972079587,\n 'name_специалист': 0.038747156738204926,\n 'desc_часов': 0.03849177080000262,\n 'desc_домом': 0.038407282691956326,\n 'desc_разработке': 0.03833467463885424,\n 'desc_новые': 0.038078491218880316,\n 'desc_срока': 0.03786988426770988,\n 'desc_зарплата': 0.03726608326023271,\n 'desc_нашу': 0.03725147774001353,\n 'desc_важно': 0.03721922712887903,\n 'desc_сеть': 0.03705321083081417,\n 'desc_писать': 0.036879320898738945,\n 'desc_помощь': 0.036748847347399104,\n 'desc_документации': 0.036744774242268,\n 'desc_неделю': 0.03673485998240064,\n 'desc_уровне': 0.036465148291515787,\n 'desc_хорошо': 0.036332625670121,\n 'desc_центре': 0.03594037718725239,\n 'desc_информации': 0.03580837578465897,\n 'desc_испытательного': 0.03576771078986561,\n 'desc_внутри': 0.03546857841423079,\n 'name_программист': 0.0354204930531231,\n 'desc_кандидатов': 0.03531305179637943,\n 'desc_отдела': 0.03524948022251528,\n 'desc_интересные': 0.035116339031269206,\n 'desc_консультация': 0.035111956738574736,\n 'name_юрист': 0.03504785910002301,\n 'desc_требуется': 0.035029571860049964,\n 'desc_желателен': 0.03500262587490203,\n 'desc_хорошее': 0.034966277722579424,\n 'desc_деятельности': 0.03479451205373491,\n 'desc_плюсом': 0.03423166344799622,\n 'desc_компанию': 0.03392296425568933,\n 'desc_собеседования': 0.03384405883243156,\n 'desc_linux': 0.03324134263662787,\n 'desc_сопровождение': 0.03324121846052306,\n 'name_администратор': 0.03323750282129602,\n 'desc_человек': 0.03279026038445587,\n 'desc_свой': 0.032634656689463956,\n 'desc_услуги': 0.03256451507775481,\n 'desc_маркетинга': 0.032427484699141224,\n 'desc_своего': 0.03234488179522614,\n 'desc_javascript': 0.03217039130441084,\n 'desc_проверка': 0.032085394305748256,\n 'desc_постоянно': 0.03207925196157253,\n 'desc_удаленно': 0.03196861563957426,\n 'desc_дружный': 0.03194918247435751,\n 'desc_технологий': 0.031747200425460635,\n 'desc_руки': 0.03143519114848227,\n 'desc_уборка': 0.031334554548412184,\n 'desc_территории': 0.03128854969403351,\n 'desc_высокая': 0.03119795057960609,\n 'desc_любой': 0.03090111047095044,\n 'desc_тебе': 0.030705635363737133,\n 'desc_вопросы': 0.03047244547628451,\n 'desc_выходные': 0.03042233417272589,\n 'desc_приветствуется': 0.030411612684319064,\n 'desc_технической': 0.030351777946064317,\n 'desc_хотите': 0.030044680638523173,\n 'desc_свою': 0.030012274352477487,\n 'desc_рамках': 0.029941638279667112,\n 'desc_расти': 0.029845997515448915,\n 'desc_менеджера': 0.029658650826503926,\n 'desc_можете': 0.029648454895667482,\n 'desc_счет': 0.029295452749699784,\n 'desc_магазина': 0.029283330595264508,\n 'desc_контроля': 0.02923769514551166,\n 'desc_интернет': 0.028991859898741326,\n 'desc_свои': 0.028604380802574863,\n 'desc_проектирования': 0.028575709413565704,\n 'desc_персонала': 0.028353585597157997,\n 'desc_программ': 0.028270922625399066,\n 'desc_формирование': 0.02822771007930171,\n 'desc_продажам': 0.028208193185178608,\n 'desc_систем': 0.02806459446897397,\n 'desc_заработной': 0.028054106994613668,\n 'desc_выполнения': 0.027795146147160055,\n 'desc_выплаты': 0.027619457649545324,\n 'desc_сотрудника': 0.026681863414439604,\n 'desc_рабочих': 0.026560927640351437,\n 'desc_месяца': 0.02636180638490706,\n 'desc_полный': 0.026312707298163006,\n 'desc_людей': 0.026266448504049064,\n 'desc_речь': 0.02618248323658719,\n 'desc_корпоративное': 0.026167782948375743,\n 'desc_полностью': 0.026020174253043312,\n 'desc_стабильная': 0.025990337692273897,\n 'desc_управление': 0.025881100959228798,\n 'desc_грамотная': 0.02553780012165421,\n 'desc_всем': 0.025408495241525914,\n 'desc_расчет': 0.025292121800682122,\n 'desc_основе': 0.025276220223746176,\n 'desc_кофе': 0.025183827923031955,\n 'desc_отпусков': 0.024821457615823512,\n 'desc_очень': 0.024703248288526162,\n 'desc_результатов': 0.024683632065870997,\n 'desc_нашего': 0.02410125622811523,\n 'desc_отслеживание': 0.024043908967224827,\n 'desc_рекламных': 0.023562317084545155,\n 'area_name_Other': 0.023559983884115437,\n 'desc_времени': 0.023506869207092104,\n 'desc_момент': 0.023482092640359695,\n 'desc_процессы': 0.023089724032869817,\n 'desc_листов': 0.023066999096945307,\n 'desc_отчетов': 0.02292283929963739,\n 'desc_стать': 0.022304964752336467,\n 'desc_вместе': 0.022270442531800775,\n 'desc_частью': 0.022106815214603278,\n 'desc_труда': 0.021833300557702627,\n 'desc_вопросам': 0.02174312547392835,\n 'desc_возможен': 0.021683023287227036,\n 'desc_вести': 0.021607127287972334,\n 'desc_соблюдение': 0.021587077053213728,\n 'desc_участвовать': 0.021431902901900675,\n 'desc_уверенный': 0.021241870767948926,\n 'description_exp': 0.020732931005742777,\n 'desc_зале': 0.02049120550809299,\n 'desc_ведения': 0.02045585073597957,\n 'desc_один': 0.01987841176758114,\n 'desc_требований': 0.01980722138342894,\n 'desc_техническое': 0.019668589707643326,\n 'desc_карьерный': 0.019558852328056178,\n 'desc_сделать': 0.019542282337944583,\n 'name_отдела': 0.01951912926206224,\n 'empl_школа': 0.019480046026371774,\n 'desc_team': 0.01935111154110203,\n 'desc_уверенное': 0.019025383021655233,\n 'desc_неполный': 0.018966496091934307,\n 'desc_способность': 0.018708313367977743,\n 'empl_пятёрочка': 0.018680563944629528,\n 'desc_материалов': 0.018589434757257765,\n 'desc_experience': 0.018379180096920068,\n 'desc_кандидата': 0.018246753967076135,\n 'desc_рабочая': 0.01819248246021013,\n 'desc_продукции': 0.018170274120013406,\n 'desc_звонков': 0.018146758715813473,\n 'desc_отсутствие': 0.01763792435743919,\n 'name_рекрутер': 0.01739778121606979,\n 'desc_поиска': 0.017124909851627613,\n 'desc_анализа': 0.01698786211287611,\n 'desc_должности': 0.016962434820292544,\n 'desc_задержек': 0.016915442949469683,\n 'desc_другие': 0.01690621713793435,\n 'desc_нами': 0.01689716920261467,\n 'desc_корпоративная': 0.016797025496649992,\n 'desc_других': 0.016690437895461485,\n 'desc_жизнь': 0.016589660492377603,\n 'desc_ниже': 0.016588137426880034,\n 'desc_решать': 0.01649750878098132,\n 'desc_проектах': 0.016429616723094388,\n 'desc_самостоятельно': 0.016336819620476867,\n 'desc_rest': 0.01631094582294272,\n 'desc_различных': 0.01622882209638806,\n 'desc_проектами': 0.01610424707724204,\n 'desc_уметь': 0.016102723630418207,\n 'desc_итогам': 0.01609570962110334,\n 'desc_своих': 0.01599791980428903,\n 'desc_стрессоустойчивость': 0.015858948408991602,\n 'desc_составление': 0.015692088317249428,\n 'desc_будете': 0.01560323229182537,\n 'desc_тестирования': 0.015498515794367947,\n 'desc_office': 0.015352684122273736,\n 'desc_with': 0.015335425135667389,\n 'name_python': 0.015299254873684576,\n 'name_консультант': 0.015196664468259102,\n 'desc_работаем': 0.015011053433433412,\n 'desc_возможно': 0.015000920286735218,\n 'desc_продукты': 0.014993991617196764,\n 'desc_разрабатывать': 0.014985508781508781,\n 'desc_поддержание': 0.014952842011810663,\n 'desc_обработка': 0.014935096000434247,\n 'name_frontend': 0.014669627588511609,\n 'empl_компания': 0.014264240038594498,\n 'desc_java': 0.014158703649710124,\n 'desc_активно': 0.014126683817067966,\n 'desc_будем': 0.014117939984393917,\n 'desc_среднего': 0.0141012455628054,\n 'desc_склад': 0.014031881070407417,\n 'desc_прием': 0.01387664701261658,\n 'desc_отпуск': 0.013730473132267766,\n 'desc_больничных': 0.013562036563377278,\n 'desc_платы': 0.01351085293178915,\n 'desc_организации': 0.013446153413453425,\n 'desc_word': 0.013333534589439968,\n 'desc_разных': 0.01329046034407551,\n 'desc_дисциплинированность': 0.013176088890747402,\n 'desc_видео': 0.013084115066709173,\n 'desc_оборудования': 0.013068754805604283,\n 'desc_всему': 0.01306394674332481,\n 'desc_дома': 0.012967655896194277,\n 'desc_всей': 0.012939125611771119,\n 'desc_своей': 0.012926615984669971,\n 'desc_принципов': 0.0129058132319687,\n 'desc_социальные': 0.012810081348785115,\n 'name_помощник': 0.012642047278369197,\n 'desc_вакансии': 0.012560039105565865,\n 'name_удаленно': 0.012519015444602278,\n 'desc_детей': 0.012495776058620185,\n 'desc_премия': 0.012493549281492742,\n 'desc_срок': 0.012443822996198816,\n 'desc_системами': 0.012061478659953762,\n 'desc_базе': 0.012055545803416948,\n 'desc_работает': 0.011956271005235563,\n 'desc_руководителя': 0.011762190113683842,\n 'desc_спецодежда': 0.011540214353195641,\n 'desc_исполнительность': 0.01147201789826957,\n 'desc_оплачиваемый': 0.01138773424122599,\n 'desc_испытательный': 0.01134098298245061,\n 'desc_обязателен': 0.011194611748217734,\n 'desc_мероприятий': 0.011141983242156228,\n 'desc_несколько': 0.011092044295543743,\n 'desc_профессиональный': 0.010947166178745488,\n 'desc_work': 0.010718401467183098,\n 'desc_технических': 0.0106910470217441,\n 'desc_общение': 0.01064116870408709,\n 'empl_центр': 0.010500273220177997,\n 'desc_подбор': 0.010481741238255982,\n 'desc_согласно': 0.010382540745736395,\n 'desc_совместительству': 0.010316685859517397,\n 'name_оператор': 0.010231578142944292,\n 'empl_staff': 0.010197733544244608,\n 'desc_людьми': 0.010150935314255871,\n 'desc_занятость': 0.010138430785709883,\n 'desc_программирования': 0.009892601047509223,\n 'desc_наличия': 0.009868652617009066,\n 'desc_неделя': 0.009711342663224697,\n 'desc_сбор': 0.009601681563211732,\n 'desc_аккуратность': 0.009568850352262067,\n 'desc_кассе': 0.00950978952306449,\n 'desc_новый': 0.009506156629978628,\n 'desc_обучаемость': 0.009326515905525362,\n 'name_аналитик': 0.009303812452163879,\n 'desc_человека': 0.009289411740745419,\n 'desc_языка': 0.009282024188457026,\n 'desc_программы': 0.009268213974712013,\n 'desc_телефону': 0.0091621404782486,\n 'desc_пунктуальность': 0.00913061415524268,\n 'desc_звонки': 0.00909539113215074,\n 'desc_обслуживание': 0.009047636091711357,\n 'desc_написание': 0.008813261082259207,\n 'desc_большим': 0.008624254781003676,\n 'desc_интервью': 0.008554234910806003,\n 'name_manager': 0.008426657789011088,\n 'desc_молодой': 0.008173525951677894,\n 'name_уборщик': 0.007981657190269621,\n 'desc_учиться': 0.007952025083656023,\n 'desc_минут': 0.007830624804036092,\n 'desc_работ': 0.007800284433296967,\n 'desc_коллективе': 0.007475390218031989,\n 'desc_общаться': 0.007143933524673687,\n 'desc_системе': 0.006968091281836418,\n 'desc_проведения': 0.006960831237353028,\n 'desc_письменная': 0.0069066244264098095,\n 'desc_учета': 0.006856410816739048,\n 'desc_английского': 0.0068089972503121935,\n 'desc_ценников': 0.006678368435058601,\n 'desc_подход': 0.0062807210779801045,\n 'desc_автоматизации': 0.006042301921785997,\n 'desc_аналитика': 0.0059901589645960165,\n 'desc_больше': 0.0059074929207042935,\n 'empl_университет': 0.005789490385139812,\n 'desc_решение': 0.005580630171255204,\n 'desc_специалиста': 0.005371147647434291,\n 'desc_выкладка': 0.004992976153109985,\n 'desc_доступности': 0.00489938103162483,\n 'desc_связь': 0.00483135682179473,\n 'empl_москвы': 0.004801634825209239,\n 'desc_устная': 0.0040457990792750215,\n 'desc_поставщиков': 0.003951984102588776,\n 'desc_язык': 0.0038954765369978114,\n 'name_работе': 0.0038104701600292505,\n 'response_letter_required': 0.0037100518416401545,\n 'desc_подработки': 0.0033049612551711433,\n 'desc_многозадачности': 0.002980884362541972,\n 'empl_group': 0.0028222427874411682,\n 'desc_фирменная': 0.0025601635209778497,\n 'desc_образования': 0.002496972659750693,\n 'name_инженер': 0.002495723507899997,\n 'empl_недвижимости': 0.0019825896803390515,\n 'empl_группа': 0.0017796754193110053,\n 'name_клиентами': 0.0017364428635778695,\n 'area_name_Новосибирск': 0.0012799119084468556,\n 'empl_россии': 0.0012715302101775259,\n 'has_test': 0.0011923817433269555,\n 'name_петербург': 0.0011871709793189755,\n 'empl_групп': 0.001074547359270113,\n 'empl_технологии': 0.0007117966461201039,\n 'name_дизайнер': 0.0006182561320656797,\n 'area_name_Краснодар': 0.0005374706591361165,\n 'empl_бизнес': 0.0005317580479983412,\n 'empl_медиа': 0.0005193803967683948,\n 'empl_сеть': 0.0004964940952757961,\n 'empl_экспресс': 0.00043005508343062405,\n 'empl_розничная': 0.00014833681765524947,\n 'empl_холдинг': 8.528480073942131e-05,\n 'empl_сервис': 5.419738656119946e-05,\n 'empl_системы': 4.059279495061014e-05,\n 'empl_москве': 8.256552861492803e-06,\n 'empl_компаний': 1.7160368874469565e-06,\n 'area_name_Екатеринбург': 0.0,\n 'area_name_Казань': 0.0,\n 'empl_агентство': 0.0,\n 'empl_билайн': 0.0,\n 'empl_гбуз': 0.0,\n 'empl_консалтинг': 0.0,\n 'empl_онлайн': 0.0,\n 'empl_перекресток': 0.0,\n 'empl_развития': 0.0}"
     },
     "execution_count": 72,
     "metadata": {},
     "output_type": "execute_result"
    }
   ],
   "source": [
    "importances1"
   ]
  },
  {
   "cell_type": "markdown",
   "id": "24f2c9c8-ef86-4dfd-94e8-6caf74780cfd",
   "metadata": {},
   "source": [
    "<H1>Тестовая дата</H1>"
   ]
  },
  {
   "cell_type": "markdown",
   "id": "5e6ec7db-f030-4a83-8d98-d496b2231414",
   "metadata": {},
   "source": [
    "Загрузим тестовую таблицу:"
   ]
  },
  {
   "cell_type": "code",
   "execution_count": 73,
   "id": "411dad93-e47d-43d4-b8aa-a64b1deb1463",
   "metadata": {
    "ExecuteTime": {
     "end_time": "2024-01-07T06:57:33.193813400Z",
     "start_time": "2024-01-07T06:57:31.507055500Z"
    }
   },
   "outputs": [],
   "source": [
    "df_test = pd.read_csv('X_test.csv', parse_dates=['published_at', 'created_at'])"
   ]
  },
  {
   "cell_type": "markdown",
   "id": "0ac14570-7dd8-455a-a9fa-dbc694c3c0c1",
   "metadata": {},
   "source": [
    "Сразу уберем столбцы salary_currency (одно и то же значение), created_at (совпадает с published_at) и area_id (аналогично area_name):"
   ]
  },
  {
   "cell_type": "code",
   "execution_count": 74,
   "id": "b96b0fa5-6b3b-4982-aafb-b5133d95ab41",
   "metadata": {
    "ExecuteTime": {
     "end_time": "2024-01-07T06:57:33.296350100Z",
     "start_time": "2024-01-07T06:57:33.201341100Z"
    }
   },
   "outputs": [],
   "source": [
    "df_test = df_test.drop(columns=['salary_currency', 'created_at', 'area_id'])#, 'has_test', 'response_letter_required', 'salary_gross'])"
   ]
  },
  {
   "cell_type": "code",
   "execution_count": 75,
   "id": "224137ba-ad9c-43e5-99bf-d5713ece7240",
   "metadata": {
    "ExecuteTime": {
     "end_time": "2024-01-07T06:57:33.315352800Z",
     "start_time": "2024-01-07T06:57:33.235674Z"
    }
   },
   "outputs": [],
   "source": [
    "df_test = df_test.set_index('id')"
   ]
  },
  {
   "cell_type": "markdown",
   "id": "49c020c5-ac8b-4557-9d8d-5ee9cd970b91",
   "metadata": {},
   "source": [
    "Заполняем salary_gross, если есть пропуски:"
   ]
  },
  {
   "cell_type": "code",
   "execution_count": 76,
   "id": "b3e5f20a-4874-442d-9cb2-ca4e221ce3ba",
   "metadata": {
    "ExecuteTime": {
     "end_time": "2024-01-07T06:57:35.667971400Z",
     "start_time": "2024-01-07T06:57:35.567420300Z"
    }
   },
   "outputs": [],
   "source": [
    "df_test.salary_gross.fillna(False, inplace = True) \n",
    "df_test['salary_gross'] = df_test['salary_gross'].astype(bool)"
   ]
  },
  {
   "cell_type": "markdown",
   "id": "0fff51dc-a655-4d43-95ea-83ebdc49913b",
   "metadata": {},
   "source": [
    "Заполняем пустые salary_from частым значением:"
   ]
  },
  {
   "cell_type": "code",
   "execution_count": 77,
   "id": "3209ec1b-3f9c-43bd-9e51-962f8356c711",
   "metadata": {
    "ExecuteTime": {
     "end_time": "2024-01-07T06:57:36.391765300Z",
     "start_time": "2024-01-07T06:57:36.314401500Z"
    }
   },
   "outputs": [],
   "source": [
    "df_test.salary_from.fillna(df_test.salary_from.mode()[0], inplace = True)"
   ]
  },
  {
   "cell_type": "markdown",
   "id": "3e71825b-f108-4d58-8045-760f37cf882d",
   "metadata": {},
   "source": [
    "Преобразуем published_at, как и с обучаемым dataset:"
   ]
  },
  {
   "cell_type": "code",
   "execution_count": 78,
   "id": "65b7a396-1477-43ae-a2f6-ca230c0cf9a2",
   "metadata": {
    "ExecuteTime": {
     "end_time": "2024-01-07T06:57:36.940718700Z",
     "start_time": "2024-01-07T06:57:36.819435Z"
    }
   },
   "outputs": [],
   "source": [
    "df_test['published_at_diff'] = df_test['published_at'].map(lambda x: datetime.timestamp(datetime(2023, 1, 1)) - x.timestamp())"
   ]
  },
  {
   "cell_type": "code",
   "execution_count": 79,
   "id": "3f29a24d-a974-45b5-bb1a-729dc7c99048",
   "metadata": {
    "ExecuteTime": {
     "end_time": "2024-01-07T06:57:37.736274800Z",
     "start_time": "2024-01-07T06:57:37.159534500Z"
    }
   },
   "outputs": [
    {
     "data": {
      "text/plain": "<Figure size 1000x1500 with 2 Axes>",
      "image/png": "[encoded data removed]"
     },
     "metadata": {},
     "output_type": "display_data"
    }
   ],
   "source": [
    "import matplotlib.pyplot as plt\n",
    "df_numeric1 = df_test[['salary_from', 'published_at_diff']]\n",
    "# Создаем гистограммы для всех столбцов\n",
    "fig, axes = plt.subplots(nrows=len(df_numeric1.columns), ncols=1, figsize=(10, 15))\n",
    "\n",
    "# Проходимся по всем столбцам DataFrame и создаем гистограмму для каждого столбца\n",
    "for i, column in enumerate(df_numeric1.columns):\n",
    "    df_numeric1[column].plot(kind='hist', bins=25, ax=axes[i])\n",
    "    axes[i].set_title(column)\n",
    "\n",
    "plt.tight_layout()\n",
    "plt.show()"
   ]
  },
  {
   "cell_type": "code",
   "execution_count": 80,
   "id": "99145e15-1fe6-411c-9ad8-5f7aa9c85b42",
   "metadata": {
    "ExecuteTime": {
     "end_time": "2024-01-07T06:57:44.383870900Z",
     "start_time": "2024-01-07T06:57:44.252782600Z"
    }
   },
   "outputs": [],
   "source": [
    "df_test[\"published_at_diff\"] = df_test[\"published_at_diff\"] / 1e7\n",
    "#df_test['published_at_diff'] = df_test['published_at_diff'].map(lambda x: \"Recent\" if x < 5 else \"Middle\" if x >= 5 and x < 7 else \"Old\")\n",
    "df_test = df_test.drop(columns=['published_at'])"
   ]
  },
  {
   "cell_type": "markdown",
   "id": "d05b78a2-4d4c-44e0-8eba-0a30e1ccbfa1",
   "metadata": {},
   "source": [
    "Преобразуем description:"
   ]
  },
  {
   "cell_type": "code",
   "execution_count": 81,
   "id": "f30af9a9-04b8-4a06-b6b9-6427581a9516",
   "metadata": {
    "ExecuteTime": {
     "end_time": "2024-01-07T06:57:45.716078800Z",
     "start_time": "2024-01-07T06:57:45.553422800Z"
    }
   },
   "outputs": [],
   "source": [
    "df_test['description'] = pd.Series(df_test['description'],dtype=pd.StringDtype())\n",
    "df_test.description = df_test.description.apply(lambda x: str(x).lower())"
   ]
  },
  {
   "cell_type": "code",
   "execution_count": 82,
   "id": "b480eb65-4f63-4302-b680-6027e437dfe2",
   "metadata": {
    "ExecuteTime": {
     "end_time": "2024-01-07T06:57:46.032358900Z",
     "start_time": "2024-01-07T06:57:45.898178900Z"
    }
   },
   "outputs": [
    {
     "data": {
      "text/plain": "description_exp\n1.000000     8854\n3.000000      215\n2.000000      162\n5.000000       37\n0.500000       21\n4.000000        5\n6.000000        5\n10.000000       5\n0.250000        4\n0.083333        2\n0.333333        1\n8.000000        1\nName: count, dtype: int64"
     },
     "execution_count": 82,
     "metadata": {},
     "output_type": "execute_result"
    }
   ],
   "source": [
    "df_test['description_exp'] = df_test.description.map(manage_desc_exp)\n",
    "df_test['description_exp'].value_counts()"
   ]
  },
  {
   "cell_type": "code",
   "execution_count": 83,
   "id": "123443b5-7bfc-4f91-a6e9-2ae7e32d9a24",
   "metadata": {
    "ExecuteTime": {
     "end_time": "2024-01-07T06:57:47.471029300Z",
     "start_time": "2024-01-07T06:57:46.334154400Z"
    }
   },
   "outputs": [],
   "source": [
    "df_test.description = df_test.description.apply(lambda x: re.sub(r'<[^>]+>', ' ', str(x))) #</?[A-Za-z0-9]+ ?/?>\n",
    "df_test.description = df_test.description.apply(lambda x: re.sub(r'[^а-яА-Я0-9a-zA-ZёЁ.-]', ' ', str(x))) #</?[A-Za-z0-9]+ ?/?>"
   ]
  },
  {
   "cell_type": "code",
   "execution_count": 84,
   "id": "77729fd5-faba-4829-a643-485102e03698",
   "metadata": {
    "ExecuteTime": {
     "end_time": "2024-01-07T06:57:49.292881100Z",
     "start_time": "2024-01-07T06:57:49.121830400Z"
    }
   },
   "outputs": [
    {
     "data": {
      "text/plain": "description_salary\n40000     112\n60000      92\n50000      78\n30000      74\n100000     67\n         ... \n135000      1\n63450       1\n5100        1\n6000        1\n238000      1\nName: count, Length: 263, dtype: int64"
     },
     "execution_count": 84,
     "metadata": {},
     "output_type": "execute_result"
    }
   ],
   "source": [
    "df_test['description_salary'] = df_test.description.map(manage_desc)\n",
    "df_test['description_salary'].value_counts()"
   ]
  },
  {
   "cell_type": "code",
   "execution_count": 85,
   "id": "93b548ca-ac93-4dc8-9c9c-0aca7ce16889",
   "metadata": {
    "ExecuteTime": {
     "end_time": "2024-01-07T06:57:49.625070Z",
     "start_time": "2024-01-07T06:57:49.541103Z"
    }
   },
   "outputs": [],
   "source": [
    "df_test['description_salary'].fillna(df_test.salary_from, inplace = True) "
   ]
  },
  {
   "cell_type": "code",
   "execution_count": 86,
   "id": "b9d9f081-8f65-428c-9ea8-157a3c965ca5",
   "metadata": {
    "ExecuteTime": {
     "end_time": "2024-01-07T06:57:52.453511900Z",
     "start_time": "2024-01-07T06:57:49.908701800Z"
    }
   },
   "outputs": [],
   "source": [
    "df_test['description'] = df_test['description'].apply(lambda x: re.sub(r'[^а-яА-Я0-9a-zA-ZёЁ]', ' ', str(x))) #</?[A-Za-z0-9]+ ?/?>\n",
    "df_test['description'].fillna('nd', inplace = True)\n",
    "df_test_desc_parsed = vectorizer.transform(df_test['description'])\n",
    "df_test_desc_parsed1 = pd.DataFrame(df_test_desc_parsed.toarray(), columns=DESC_COLS, index=df_test.index)\n",
    "df_test = df_test.join(df_test_desc_parsed1)"
   ]
  },
  {
   "cell_type": "code",
   "execution_count": 87,
   "id": "955ade60-6f99-48ba-9916-7e524bae69b4",
   "metadata": {
    "ExecuteTime": {
     "end_time": "2024-01-07T06:57:52.533903500Z",
     "start_time": "2024-01-07T06:57:52.455873400Z"
    }
   },
   "outputs": [],
   "source": [
    "df_test = df_test.drop(columns=['description'])"
   ]
  },
  {
   "cell_type": "markdown",
   "id": "0acde5e3-b32f-4e91-8829-3e29d7943378",
   "metadata": {},
   "source": [
    "Для area_name, оставим название, если в обучаемом dataset есть столбец, иначе заменяем на Other:"
   ]
  },
  {
   "cell_type": "code",
   "execution_count": 88,
   "id": "c44a72e4-a7ab-4fab-8fd4-8a84734cc3d3",
   "metadata": {
    "ExecuteTime": {
     "end_time": "2024-01-07T06:57:54.957883500Z",
     "start_time": "2024-01-07T06:57:54.834586400Z"
    }
   },
   "outputs": [],
   "source": [
    "df_test['area_name'] = df_test['area_name'].map(lambda x: x if ('area_name_' + x) in df.columns else \"Other\")"
   ]
  },
  {
   "cell_type": "code",
   "execution_count": 89,
   "id": "0cc03ede-d9c2-4e85-af17-af365618466e",
   "metadata": {
    "ExecuteTime": {
     "end_time": "2024-01-07T06:57:55.309518200Z",
     "start_time": "2024-01-07T06:57:55.201926900Z"
    }
   },
   "outputs": [
    {
     "data": {
      "text/plain": "area_name\nМосква             6754\nСанкт-Петербург    1877\nOther               454\nНовосибирск          71\nКазань               54\nКраснодар            52\nЕкатеринбург         50\nName: count, dtype: int64"
     },
     "execution_count": 89,
     "metadata": {},
     "output_type": "execute_result"
    }
   ],
   "source": [
    "df_test['area_name'].value_counts()"
   ]
  },
  {
   "cell_type": "markdown",
   "id": "8353154e-c19e-4c1f-a848-786fc9d17793",
   "metadata": {},
   "source": [
    "Преобразуем employer_name к нижнему регистру, и сделаем те же преобразования, что и в обучаемом dataset:"
   ]
  },
  {
   "cell_type": "code",
   "execution_count": 90,
   "id": "5877dd70-fa7a-4e4b-a4cd-bb68220701cc",
   "metadata": {
    "ExecuteTime": {
     "end_time": "2024-01-07T06:57:58.436533400Z",
     "start_time": "2024-01-07T06:57:58.266379100Z"
    }
   },
   "outputs": [],
   "source": [
    "df_test['employer_name'] = df_test['employer_name'].apply(lambda x: x.lower())\n",
    "df_test['employer_name'] = df_test['employer_name'].apply(lambda x: x.strip())"
   ]
  },
  {
   "cell_type": "code",
   "execution_count": 91,
   "id": "040eabc0-862d-4074-88b3-cd65027bf4d9",
   "metadata": {
    "ExecuteTime": {
     "end_time": "2024-01-07T06:57:58.870628200Z",
     "start_time": "2024-01-07T06:57:58.736108100Z"
    }
   },
   "outputs": [],
   "source": [
    "df_test['employer_name'] = df_test['employer_name'].apply(lambda x: \"пятёрочка\" if near_equal(x, 'пятёрочка') > 0.75 else x)\n",
    "df_test['employer_name'] = df_test['employer_name'].apply(lambda x: \"перекресток\" if near_equal(x, 'перекресток') > 0.75 else x)\n",
    "df_test['employer_name'] = df_test['employer_name'].apply(lambda x: \"билайн\" if near_equal(x, 'билайн') > 0.75 else x)\n",
    "df_test['employer_name'] = df_test['employer_name'].apply(lambda x: \"personname\" if x.endswith('вич') or x.endswith('вна') or x.endswith('вич)') or x.endswith('вна)') else x) #or x.startswith('ип') or '(ип ' in x)"
   ]
  },
  {
   "cell_type": "code",
   "execution_count": 92,
   "id": "9ef83b5f-af86-450a-82f4-170cf2b84428",
   "metadata": {
    "ExecuteTime": {
     "end_time": "2024-01-07T06:57:59.512050Z",
     "start_time": "2024-01-07T06:57:59.389962100Z"
    }
   },
   "outputs": [],
   "source": [
    "df_test_empl_parsed = vectorizer_empl.transform(df_test['employer_name'])\n",
    "df_test_empl_parsed1 = pd.DataFrame(df_test_empl_parsed.toarray(), columns=EMPL_COLS, index=df_test.index)\n",
    "df_test = df_test.join(df_test_empl_parsed1)"
   ]
  },
  {
   "cell_type": "code",
   "execution_count": null,
   "id": "af74f61d-8a25-4d18-bce2-3f0e4a38fbf9",
   "metadata": {},
   "outputs": [],
   "source": [
    "array_false1 = [False] * len(df_test)\n",
    "array_true1 = [True] * len(df_test)\n",
    "\n",
    "for key, val in sorted_empl_names_to_count:\n",
    "    composite = 'employer_name_' + key\n",
    "    df_test[composite] = array_false1\n",
    "df_test['employer_name_other'] = array_true1\n",
    "\n",
    "df_test"
   ]
  },
  {
   "cell_type": "code",
   "execution_count": null,
   "id": "14f4394b-a78d-41b9-9675-31c594495be9",
   "metadata": {},
   "outputs": [],
   "source": [
    "for idx in df_test.index:\n",
    "    split = re.split('\\W+', df_test['employer_name'][idx])\n",
    "    split = list(filter(None, split))\n",
    "    for entry in split:\n",
    "        for key, val in sorted_empl_names_to_count:\n",
    "            if near_equal(entry, key) >= 0.75:\n",
    "                composite = 'employer_name_' + key\n",
    "                df_test[composite][idx] = True\n",
    "                df_test['employer_name_other'][idx] = False\n",
    "\n",
    "df_test"
   ]
  },
  {
   "cell_type": "code",
   "execution_count": 93,
   "id": "8417772f-9b51-407a-b58b-dae16614f284",
   "metadata": {
    "ExecuteTime": {
     "end_time": "2024-01-07T06:58:03.472868500Z",
     "start_time": "2024-01-07T06:58:03.339602800Z"
    }
   },
   "outputs": [],
   "source": [
    "df_test = df_test.drop(columns=['employer_name'])"
   ]
  },
  {
   "cell_type": "markdown",
   "id": "783ba002-93f5-44a8-a46f-130990d61285",
   "metadata": {},
   "source": [
    "Ту же процедуру проделываем с name:"
   ]
  },
  {
   "cell_type": "code",
   "execution_count": 94,
   "id": "3fb770ee-6f12-4912-b1b0-94b614b60c89",
   "metadata": {
    "ExecuteTime": {
     "end_time": "2024-01-07T06:58:04.165608300Z",
     "start_time": "2024-01-07T06:58:04.030745800Z"
    }
   },
   "outputs": [],
   "source": [
    "df_test['name'] = df_test['name'].apply(lambda x: x.lower())\n",
    "df_test['name'] = df_test['name'].apply(lambda x: x.strip())"
   ]
  },
  {
   "cell_type": "code",
   "execution_count": 95,
   "id": "71af5200-403a-4245-b5f4-b581b13eaecb",
   "metadata": {
    "ExecuteTime": {
     "end_time": "2024-01-07T06:58:04.570392300Z",
     "start_time": "2024-01-07T06:58:04.472665800Z"
    }
   },
   "outputs": [],
   "source": [
    "df_test_name_parsed = vectorizer_name.transform(df_test['name'])\n",
    "df_test_name_parsed1 = pd.DataFrame(df_test_name_parsed.toarray(), columns=NAME_COLS, index=df_test.index)\n",
    "df_test = df_test.join(df_test_name_parsed1)"
   ]
  },
  {
   "cell_type": "code",
   "execution_count": null,
   "id": "5e2f7fc6-2b1a-454d-8732-9caa3624105c",
   "metadata": {},
   "outputs": [],
   "source": [
    "array_false1 = [False] * len(df_test)\n",
    "array_true1 = [True] * len(df_test)\n",
    "\n",
    "for key, val in sorted_names_to_count:\n",
    "    composite = 'name_' + key\n",
    "    df_test[composite] = array_false1\n",
    "df_test['name_other'] = array_true1\n",
    "\n",
    "df_test"
   ]
  },
  {
   "cell_type": "code",
   "execution_count": null,
   "id": "d3d6657a-e710-48e4-abff-ffcc3ee64809",
   "metadata": {},
   "outputs": [],
   "source": [
    "for idx in df_test.index:\n",
    "    split = re.split('\\W+', df_test['name'][idx])\n",
    "    split = list(filter(None, split))\n",
    "    for entry in split:\n",
    "        for key, val in sorted_names_to_count:\n",
    "            if near_equal(entry, key) >= 0.75:\n",
    "                composite = 'name_' + key\n",
    "                df_test[composite][idx] = True\n",
    "                df_test['name_other'][idx] = False\n",
    "\n",
    "df_test"
   ]
  },
  {
   "cell_type": "code",
   "execution_count": 96,
   "id": "eabad65e-865d-4d49-b214-a754fee136b7",
   "metadata": {
    "ExecuteTime": {
     "end_time": "2024-01-07T06:58:08.823579Z",
     "start_time": "2024-01-07T06:58:08.735682600Z"
    }
   },
   "outputs": [],
   "source": [
    "df_test = df_test.drop(columns=['name'])"
   ]
  },
  {
   "cell_type": "markdown",
   "id": "c24a6eac-a365-4dfb-9cfb-d37f50a9c246",
   "metadata": {},
   "source": [
    "Делаем one-hotting категориальных фич:"
   ]
  },
  {
   "cell_type": "code",
   "execution_count": 97,
   "id": "e0d90b3b-9535-4445-ba5c-6d26ea5e0445",
   "metadata": {
    "ExecuteTime": {
     "end_time": "2024-01-07T06:58:09.423564300Z",
     "start_time": "2024-01-07T06:58:09.297658800Z"
    }
   },
   "outputs": [],
   "source": [
    "df_one_hoted_test = df_test.copy()\n",
    "\n",
    "ONE_HOT_COL_TEST = ['area_name']#,  'published_at_diff'] #'employer_name',\n",
    "\n",
    "temp_test = pd.get_dummies(df_one_hoted_test[ONE_HOT_COL_TEST], prefix=ONE_HOT_COL_TEST, dtype=bool)\n",
    "\n",
    "df_one_hoted_test = pd.concat([temp_test, df_test], axis=1)"
   ]
  },
  {
   "cell_type": "code",
   "execution_count": 98,
   "id": "87eea7fd-3300-4b3c-8305-4690ac579b6f",
   "metadata": {
    "ExecuteTime": {
     "end_time": "2024-01-07T06:58:09.812991900Z",
     "start_time": "2024-01-07T06:58:09.634296700Z"
    }
   },
   "outputs": [],
   "source": [
    "df_one_hoted_test = df_one_hoted_test.drop(columns=['area_name'])#, 'published_at_diff']) #'employer_name', "
   ]
  },
  {
   "cell_type": "code",
   "execution_count": 99,
   "id": "00af8291-d929-49a1-8c36-007d7ef0e654",
   "metadata": {
    "ExecuteTime": {
     "end_time": "2024-01-07T06:58:10.157617100Z",
     "start_time": "2024-01-07T06:58:09.930654700Z"
    }
   },
   "outputs": [],
   "source": [
    "df_test = df_one_hoted_test"
   ]
  },
  {
   "cell_type": "markdown",
   "id": "8f82e6c7-fcdb-465a-929f-efa082750999",
   "metadata": {},
   "source": [
    "Проверим, что все столбцы, которые есть в обучаемом dataset, есть и в тестовом dataset:"
   ]
  },
  {
   "cell_type": "code",
   "execution_count": 100,
   "id": "1540bb15-f548-4e6e-b5dd-516d5d46b5cb",
   "metadata": {
    "ExecuteTime": {
     "end_time": "2024-01-07T06:58:13.860047100Z",
     "start_time": "2024-01-07T06:58:13.627625600Z"
    }
   },
   "outputs": [
    {
     "name": "stdout",
     "output_type": "stream",
     "text": [
      "area_name_Other\n",
      "area_name_Екатеринбург\n",
      "area_name_Казань\n",
      "area_name_Краснодар\n",
      "area_name_Москва\n",
      "area_name_Новосибирск\n",
      "area_name_Санкт-Петербург\n",
      "has_test\n",
      "response_letter_required\n",
      "salary_from\n",
      "salary_gross\n",
      "published_at_diff\n",
      "description_exp\n",
      "description_salary\n",
      "desc_docker\n",
      "desc_excel\n",
      "desc_experience\n",
      "desc_google\n",
      "desc_java\n",
      "desc_javascript\n",
      "desc_linux\n",
      "desc_office\n",
      "desc_postgresql\n",
      "desc_python\n",
      "desc_quot\n",
      "desc_react\n",
      "desc_rest\n",
      "desc_team\n",
      "desc_with\n",
      "desc_word\n",
      "desc_work\n",
      "desc_автоматизации\n",
      "desc_аккуратность\n",
      "desc_активно\n",
      "desc_анализ\n",
      "desc_анализа\n",
      "desc_аналитика\n",
      "desc_английский\n",
      "desc_английского\n",
      "desc_архитектуры\n",
      "desc_базе\n",
      "desc_базы\n",
      "desc_белая\n",
      "desc_бесплатное\n",
      "desc_бизнес\n",
      "desc_бизнеса\n",
      "desc_более\n",
      "desc_больничных\n",
      "desc_больше\n",
      "desc_большим\n",
      "desc_бонусы\n",
      "desc_будем\n",
      "desc_будет\n",
      "desc_будете\n",
      "desc_будут\n",
      "desc_быстро\n",
      "desc_быть\n",
      "desc_важно\n",
      "desc_вакансии\n",
      "desc_вакансию\n",
      "desc_вакансия\n",
      "desc_ваши\n",
      "desc_ведение\n",
      "desc_ведения\n",
      "desc_вести\n",
      "desc_взаимодействие\n",
      "desc_видео\n",
      "desc_владение\n",
      "desc_вместе\n",
      "desc_внимательность\n",
      "desc_внутри\n",
      "desc_возможен\n",
      "desc_возможно\n",
      "desc_возможности\n",
      "desc_возможность\n",
      "desc_вопросам\n",
      "desc_вопросы\n",
      "desc_времени\n",
      "desc_время\n",
      "desc_всегда\n",
      "desc_всей\n",
      "desc_всем\n",
      "desc_всему\n",
      "desc_всех\n",
      "desc_выкладка\n",
      "desc_выплата\n",
      "desc_выплаты\n",
      "desc_выполнение\n",
      "desc_выполнения\n",
      "desc_высокая\n",
      "desc_высокий\n",
      "desc_высшее\n",
      "desc_выходные\n",
      "desc_выше\n",
      "desc_гарантии\n",
      "desc_гибкий\n",
      "desc_года\n",
      "desc_годности\n",
      "desc_готов\n",
      "desc_готовность\n",
      "desc_готовы\n",
      "desc_грамотная\n",
      "desc_график\n",
      "desc_данных\n",
      "desc_делать\n",
      "desc_день\n",
      "desc_детей\n",
      "desc_деятельности\n",
      "desc_дисциплинированность\n",
      "desc_дней\n",
      "desc_договоров\n",
      "desc_документации\n",
      "desc_документов\n",
      "desc_должности\n",
      "desc_дома\n",
      "desc_домом\n",
      "desc_доступности\n",
      "desc_доход\n",
      "desc_другие\n",
      "desc_других\n",
      "desc_дружный\n",
      "desc_если\n",
      "desc_есть\n",
      "desc_ждем\n",
      "desc_желание\n",
      "desc_желателен\n",
      "desc_желательно\n",
      "desc_жизнь\n",
      "desc_зависимости\n",
      "desc_зависит\n",
      "desc_задач\n",
      "desc_задачи\n",
      "desc_задержек\n",
      "desc_заказов\n",
      "desc_зале\n",
      "desc_заниматься\n",
      "desc_занятость\n",
      "desc_зарабатывать\n",
      "desc_заработная\n",
      "desc_заработной\n",
      "desc_зарплата\n",
      "desc_заявок\n",
      "desc_звонки\n",
      "desc_звонков\n",
      "desc_знание\n",
      "desc_знания\n",
      "desc_именно\n",
      "desc_интервью\n",
      "desc_интересные\n",
      "desc_интернет\n",
      "desc_информации\n",
      "desc_исполнительность\n",
      "desc_испытательного\n",
      "desc_испытательный\n",
      "desc_итогам\n",
      "desc_ищем\n",
      "desc_каждого\n",
      "desc_каждый\n",
      "desc_кандидата\n",
      "desc_кандидатов\n",
      "desc_карьерного\n",
      "desc_карьерный\n",
      "desc_кассе\n",
      "desc_качества\n",
      "desc_квалификации\n",
      "desc_клиента\n",
      "desc_клиентам\n",
      "desc_клиентами\n",
      "desc_клиентов\n",
      "desc_кода\n",
      "desc_коллектив\n",
      "desc_коллективе\n",
      "desc_команда\n",
      "desc_команде\n",
      "desc_командой\n",
      "desc_команду\n",
      "desc_команды\n",
      "desc_коммуникабельность\n",
      "desc_компании\n",
      "desc_компаний\n",
      "desc_компанию\n",
      "desc_компания\n",
      "desc_компенсация\n",
      "desc_конкурсы\n",
      "desc_консультация\n",
      "desc_консультирование\n",
      "desc_контроль\n",
      "desc_контроля\n",
      "desc_корпоративная\n",
      "desc_корпоративное\n",
      "desc_корпоративные\n",
      "desc_которая\n",
      "desc_которые\n",
      "desc_который\n",
      "desc_кофе\n",
      "desc_либо\n",
      "desc_листов\n",
      "desc_любой\n",
      "desc_людей\n",
      "desc_людьми\n",
      "desc_магазина\n",
      "desc_магазинах\n",
      "desc_магазинов\n",
      "desc_маркетинга\n",
      "desc_материалов\n",
      "desc_менеджер\n",
      "desc_менеджера\n",
      "desc_менее\n",
      "desc_мероприятий\n",
      "desc_мероприятия\n",
      "desc_место\n",
      "desc_месяц\n",
      "desc_месяца\n",
      "desc_метро\n",
      "desc_минут\n",
      "desc_много\n",
      "desc_многозадачности\n",
      "desc_можете\n",
      "desc_можно\n",
      "desc_молодой\n",
      "desc_момент\n",
      "desc_москва\n",
      "desc_москве\n",
      "desc_москвы\n",
      "desc_навыки\n",
      "desc_наличие\n",
      "desc_наличия\n",
      "desc_нами\n",
      "desc_написание\n",
      "desc_написания\n",
      "desc_наша\n",
      "desc_нашего\n",
      "desc_нашей\n",
      "desc_наши\n",
      "desc_наших\n",
      "desc_нашу\n",
      "desc_недвижимости\n",
      "desc_неделю\n",
      "desc_неделя\n",
      "desc_необходимо\n",
      "desc_неполный\n",
      "desc_несколько\n",
      "desc_ниже\n",
      "desc_новые\n",
      "desc_новый\n",
      "desc_новых\n",
      "desc_нужен\n",
      "desc_нужно\n",
      "desc_обеспечение\n",
      "desc_области\n",
      "desc_оборудования\n",
      "desc_обработка\n",
      "desc_образование\n",
      "desc_образования\n",
      "desc_обслуживание\n",
      "desc_обсуждается\n",
      "desc_обучаемость\n",
      "desc_обучение\n",
      "desc_обучения\n",
      "desc_общаться\n",
      "desc_общение\n",
      "desc_обязанности\n",
      "desc_обязателен\n",
      "desc_обязательно\n",
      "desc_один\n",
      "desc_оклад\n",
      "desc_онлайн\n",
      "desc_оплата\n",
      "desc_оплачиваемый\n",
      "desc_опыт\n",
      "desc_опыта\n",
      "desc_опытом\n",
      "desc_организации\n",
      "desc_организация\n",
      "desc_основ\n",
      "desc_основе\n",
      "desc_ответственность\n",
      "desc_отдела\n",
      "desc_отпуск\n",
      "desc_отпусков\n",
      "desc_отслеживание\n",
      "desc_отсутствие\n",
      "desc_отчетности\n",
      "desc_отчетов\n",
      "desc_офис\n",
      "desc_офиса\n",
      "desc_офисе\n",
      "desc_официальная\n",
      "desc_официальное\n",
      "desc_оформление\n",
      "desc_очень\n",
      "desc_пакет\n",
      "desc_первого\n",
      "desc_переговоров\n",
      "desc_персонала\n",
      "desc_писать\n",
      "desc_письменная\n",
      "desc_плана\n",
      "desc_планирование\n",
      "desc_плата\n",
      "desc_платы\n",
      "desc_плюсом\n",
      "desc_подбор\n",
      "desc_подготовка\n",
      "desc_поддержание\n",
      "desc_поддержка\n",
      "desc_подработки\n",
      "desc_подход\n",
      "desc_поиск\n",
      "desc_поиска\n",
      "desc_показателей\n",
      "desc_покупателей\n",
      "desc_полная\n",
      "desc_полностью\n",
      "desc_полный\n",
      "desc_пользователей\n",
      "desc_пользователь\n",
      "desc_помощь\n",
      "desc_понимание\n",
      "desc_после\n",
      "desc_поставщиков\n",
      "desc_постоянно\n",
      "desc_поэтому\n",
      "desc_предлагаем\n",
      "desc_предстоит\n",
      "desc_преимуществом\n",
      "desc_премии\n",
      "desc_премия\n",
      "desc_приветствуется\n",
      "desc_приглашаем\n",
      "desc_приглашает\n",
      "desc_прием\n",
      "desc_приложений\n",
      "desc_приложения\n",
      "desc_принципов\n",
      "desc_проведение\n",
      "desc_проведения\n",
      "desc_проверка\n",
      "desc_проводить\n",
      "desc_программ\n",
      "desc_программирования\n",
      "desc_программы\n",
      "desc_продаж\n",
      "desc_продажам\n",
      "desc_продажах\n",
      "desc_продажи\n",
      "desc_продукт\n",
      "desc_продукта\n",
      "desc_продуктов\n",
      "desc_продукты\n",
      "desc_продукции\n",
      "desc_проект\n",
      "desc_проекта\n",
      "desc_проектами\n",
      "desc_проектах\n",
      "desc_проектирования\n",
      "desc_проектов\n",
      "desc_проекты\n",
      "desc_производства\n",
      "desc_профессионалов\n",
      "desc_профессионального\n",
      "desc_профессиональное\n",
      "desc_профессиональный\n",
      "desc_процессов\n",
      "desc_процессы\n",
      "desc_пунктуальность\n",
      "desc_работ\n",
      "desc_работа\n",
      "desc_работаем\n",
      "desc_работает\n",
      "desc_работать\n",
      "desc_работе\n",
      "desc_работу\n",
      "desc_работы\n",
      "desc_рабочая\n",
      "desc_рабочего\n",
      "desc_рабочее\n",
      "desc_рабочий\n",
      "desc_рабочих\n",
      "desc_раза\n",
      "desc_развиваться\n",
      "desc_развитие\n",
      "desc_развития\n",
      "desc_различных\n",
      "desc_разных\n",
      "desc_разрабатывать\n",
      "desc_разработка\n",
      "desc_разработке\n",
      "desc_разработки\n",
      "desc_разработчика\n",
      "desc_разработчиков\n",
      "desc_рамках\n",
      "desc_расти\n",
      "desc_расчет\n",
      "desc_реализации\n",
      "desc_режиме\n",
      "desc_результат\n",
      "desc_результатам\n",
      "desc_результатов\n",
      "desc_резюме\n",
      "desc_рекламных\n",
      "desc_речь\n",
      "desc_решать\n",
      "desc_решение\n",
      "desc_решений\n",
      "desc_решения\n",
      "desc_россии\n",
      "desc_рост\n",
      "desc_роста\n",
      "desc_рублей\n",
      "desc_руки\n",
      "desc_руководителя\n",
      "desc_рынка\n",
      "desc_рынке\n",
      "desc_рядом\n",
      "desc_самостоятельно\n",
      "desc_сбор\n",
      "desc_своего\n",
      "desc_своей\n",
      "desc_свои\n",
      "desc_своих\n",
      "desc_свой\n",
      "desc_свою\n",
      "desc_связи\n",
      "desc_связь\n",
      "desc_сделать\n",
      "desc_себе\n",
      "desc_себя\n",
      "desc_сейчас\n",
      "desc_сервис\n",
      "desc_сервисов\n",
      "desc_сети\n",
      "desc_сеть\n",
      "desc_систем\n",
      "desc_система\n",
      "desc_системами\n",
      "desc_системе\n",
      "desc_системы\n",
      "desc_скидки\n",
      "desc_склад\n",
      "desc_собеседование\n",
      "desc_собеседования\n",
      "desc_соблюдение\n",
      "desc_совместительству\n",
      "desc_согласно\n",
      "desc_согласование\n",
      "desc_создавать\n",
      "desc_создание\n",
      "desc_соответствии\n",
      "desc_сопровождение\n",
      "desc_составление\n",
      "desc_сотрудника\n",
      "desc_сотрудников\n",
      "desc_социальные\n",
      "desc_специалиста\n",
      "desc_специалистов\n",
      "desc_спецодежда\n",
      "desc_способность\n",
      "desc_среднего\n",
      "desc_срок\n",
      "desc_срока\n",
      "desc_сроков\n",
      "desc_стабильная\n",
      "desc_стать\n",
      "desc_стрессоустойчивость\n",
      "desc_сфере\n",
      "desc_счет\n",
      "desc_также\n",
      "desc_тебе\n",
      "desc_тебя\n",
      "desc_телефону\n",
      "desc_территории\n",
      "desc_тестирования\n",
      "desc_технических\n",
      "desc_техническое\n",
      "desc_технической\n",
      "desc_технологии\n",
      "desc_технологий\n",
      "desc_товара\n",
      "desc_товаров\n",
      "desc_только\n",
      "desc_требований\n",
      "desc_требования\n",
      "desc_требуется\n",
      "desc_тренинги\n",
      "desc_труда\n",
      "desc_трудоустройство\n",
      "desc_уборка\n",
      "desc_уверенное\n",
      "desc_уверенный\n",
      "desc_удаленная\n",
      "desc_удаленно\n",
      "desc_умение\n",
      "desc_уметь\n",
      "desc_управление\n",
      "desc_управления\n",
      "desc_уровень\n",
      "desc_уровне\n",
      "desc_уровня\n",
      "desc_условия\n",
      "desc_услуг\n",
      "desc_услуги\n",
      "desc_устная\n",
      "desc_участвовать\n",
      "desc_участие\n",
      "desc_учета\n",
      "desc_учиться\n",
      "desc_фирменная\n",
      "desc_формирование\n",
      "desc_хорошее\n",
      "desc_хорошо\n",
      "desc_хотите\n",
      "desc_ценников\n",
      "desc_центре\n",
      "desc_часов\n",
      "desc_части\n",
      "desc_частью\n",
      "desc_человек\n",
      "desc_человека\n",
      "desc_через\n",
      "desc_числе\n",
      "desc_чтобы\n",
      "desc_этом\n",
      "desc_является\n",
      "desc_язык\n",
      "desc_языка\n",
      "empl_group\n",
      "empl_personname\n",
      "empl_staff\n",
      "empl_агентство\n",
      "empl_бизнес\n",
      "empl_билайн\n",
      "empl_гбуз\n",
      "empl_групп\n",
      "empl_группа\n",
      "empl_компаний\n",
      "empl_компания\n",
      "empl_консалтинг\n",
      "empl_медиа\n",
      "empl_москве\n",
      "empl_москвы\n",
      "empl_недвижимости\n",
      "empl_онлайн\n",
      "empl_перекресток\n",
      "empl_пятёрочка\n",
      "empl_развития\n",
      "empl_розничная\n",
      "empl_россии\n",
      "empl_сервис\n",
      "empl_сеть\n",
      "empl_системы\n",
      "empl_технологии\n",
      "empl_университет\n",
      "empl_федеральная\n",
      "empl_холдинг\n",
      "empl_центр\n",
      "empl_школа\n",
      "empl_экспресс\n",
      "name_developer\n",
      "name_frontend\n",
      "name_junior\n",
      "name_manager\n",
      "name_middle\n",
      "name_python\n",
      "name_senior\n",
      "name_администратор\n",
      "name_аналитик\n",
      "name_ведущий\n",
      "name_дизайнер\n",
      "name_инженер\n",
      "name_кассир\n",
      "name_клиентами\n",
      "name_консультант\n",
      "name_менеджер\n",
      "name_москва\n",
      "name_оператор\n",
      "name_отдела\n",
      "name_петербург\n",
      "name_помощник\n",
      "name_программист\n",
      "name_продавец\n",
      "name_продажам\n",
      "name_работе\n",
      "name_разработчик\n",
      "name_рекрутер\n",
      "name_специалист\n",
      "name_стажер\n",
      "name_уборщик\n",
      "name_удаленно\n",
      "name_юрист\n"
     ]
    }
   ],
   "source": [
    "for columnName in df_test.columns:\n",
    "    print(columnName)"
   ]
  },
  {
   "cell_type": "code",
   "execution_count": 101,
   "id": "19f71a60-8987-4b72-9fcc-75637498b0d3",
   "metadata": {
    "ExecuteTime": {
     "end_time": "2024-01-07T06:58:14.354897700Z",
     "start_time": "2024-01-07T06:58:14.039277300Z"
    }
   },
   "outputs": [
    {
     "name": "stdout",
     "output_type": "stream",
     "text": [
      "area_name_Other\n",
      "area_name_Екатеринбург\n",
      "area_name_Казань\n",
      "area_name_Краснодар\n",
      "area_name_Москва\n",
      "area_name_Новосибирск\n",
      "area_name_Санкт-Петербург\n",
      "has_test\n",
      "response_letter_required\n",
      "salary_from\n",
      "salary_gross\n",
      "salary_to\n",
      "published_at_diff\n",
      "description_exp\n",
      "description_salary\n",
      "desc_docker\n",
      "desc_excel\n",
      "desc_experience\n",
      "desc_google\n",
      "desc_java\n",
      "desc_javascript\n",
      "desc_linux\n",
      "desc_office\n",
      "desc_postgresql\n",
      "desc_python\n",
      "desc_quot\n",
      "desc_react\n",
      "desc_rest\n",
      "desc_team\n",
      "desc_with\n",
      "desc_word\n",
      "desc_work\n",
      "desc_автоматизации\n",
      "desc_аккуратность\n",
      "desc_активно\n",
      "desc_анализ\n",
      "desc_анализа\n",
      "desc_аналитика\n",
      "desc_английский\n",
      "desc_английского\n",
      "desc_архитектуры\n",
      "desc_базе\n",
      "desc_базы\n",
      "desc_белая\n",
      "desc_бесплатное\n",
      "desc_бизнес\n",
      "desc_бизнеса\n",
      "desc_более\n",
      "desc_больничных\n",
      "desc_больше\n",
      "desc_большим\n",
      "desc_бонусы\n",
      "desc_будем\n",
      "desc_будет\n",
      "desc_будете\n",
      "desc_будут\n",
      "desc_быстро\n",
      "desc_быть\n",
      "desc_важно\n",
      "desc_вакансии\n",
      "desc_вакансию\n",
      "desc_вакансия\n",
      "desc_ваши\n",
      "desc_ведение\n",
      "desc_ведения\n",
      "desc_вести\n",
      "desc_взаимодействие\n",
      "desc_видео\n",
      "desc_владение\n",
      "desc_вместе\n",
      "desc_внимательность\n",
      "desc_внутри\n",
      "desc_возможен\n",
      "desc_возможно\n",
      "desc_возможности\n",
      "desc_возможность\n",
      "desc_вопросам\n",
      "desc_вопросы\n",
      "desc_времени\n",
      "desc_время\n",
      "desc_всегда\n",
      "desc_всей\n",
      "desc_всем\n",
      "desc_всему\n",
      "desc_всех\n",
      "desc_выкладка\n",
      "desc_выплата\n",
      "desc_выплаты\n",
      "desc_выполнение\n",
      "desc_выполнения\n",
      "desc_высокая\n",
      "desc_высокий\n",
      "desc_высшее\n",
      "desc_выходные\n",
      "desc_выше\n",
      "desc_гарантии\n",
      "desc_гибкий\n",
      "desc_года\n",
      "desc_годности\n",
      "desc_готов\n",
      "desc_готовность\n",
      "desc_готовы\n",
      "desc_грамотная\n",
      "desc_график\n",
      "desc_данных\n",
      "desc_делать\n",
      "desc_день\n",
      "desc_детей\n",
      "desc_деятельности\n",
      "desc_дисциплинированность\n",
      "desc_дней\n",
      "desc_договоров\n",
      "desc_документации\n",
      "desc_документов\n",
      "desc_должности\n",
      "desc_дома\n",
      "desc_домом\n",
      "desc_доступности\n",
      "desc_доход\n",
      "desc_другие\n",
      "desc_других\n",
      "desc_дружный\n",
      "desc_если\n",
      "desc_есть\n",
      "desc_ждем\n",
      "desc_желание\n",
      "desc_желателен\n",
      "desc_желательно\n",
      "desc_жизнь\n",
      "desc_зависимости\n",
      "desc_зависит\n",
      "desc_задач\n",
      "desc_задачи\n",
      "desc_задержек\n",
      "desc_заказов\n",
      "desc_зале\n",
      "desc_заниматься\n",
      "desc_занятость\n",
      "desc_зарабатывать\n",
      "desc_заработная\n",
      "desc_заработной\n",
      "desc_зарплата\n",
      "desc_заявок\n",
      "desc_звонки\n",
      "desc_звонков\n",
      "desc_знание\n",
      "desc_знания\n",
      "desc_именно\n",
      "desc_интервью\n",
      "desc_интересные\n",
      "desc_интернет\n",
      "desc_информации\n",
      "desc_исполнительность\n",
      "desc_испытательного\n",
      "desc_испытательный\n",
      "desc_итогам\n",
      "desc_ищем\n",
      "desc_каждого\n",
      "desc_каждый\n",
      "desc_кандидата\n",
      "desc_кандидатов\n",
      "desc_карьерного\n",
      "desc_карьерный\n",
      "desc_кассе\n",
      "desc_качества\n",
      "desc_квалификации\n",
      "desc_клиента\n",
      "desc_клиентам\n",
      "desc_клиентами\n",
      "desc_клиентов\n",
      "desc_кода\n",
      "desc_коллектив\n",
      "desc_коллективе\n",
      "desc_команда\n",
      "desc_команде\n",
      "desc_командой\n",
      "desc_команду\n",
      "desc_команды\n",
      "desc_коммуникабельность\n",
      "desc_компании\n",
      "desc_компаний\n",
      "desc_компанию\n",
      "desc_компания\n",
      "desc_компенсация\n",
      "desc_конкурсы\n",
      "desc_консультация\n",
      "desc_консультирование\n",
      "desc_контроль\n",
      "desc_контроля\n",
      "desc_корпоративная\n",
      "desc_корпоративное\n",
      "desc_корпоративные\n",
      "desc_которая\n",
      "desc_которые\n",
      "desc_который\n",
      "desc_кофе\n",
      "desc_либо\n",
      "desc_листов\n",
      "desc_любой\n",
      "desc_людей\n",
      "desc_людьми\n",
      "desc_магазина\n",
      "desc_магазинах\n",
      "desc_магазинов\n",
      "desc_маркетинга\n",
      "desc_материалов\n",
      "desc_менеджер\n",
      "desc_менеджера\n",
      "desc_менее\n",
      "desc_мероприятий\n",
      "desc_мероприятия\n",
      "desc_место\n",
      "desc_месяц\n",
      "desc_месяца\n",
      "desc_метро\n",
      "desc_минут\n",
      "desc_много\n",
      "desc_многозадачности\n",
      "desc_можете\n",
      "desc_можно\n",
      "desc_молодой\n",
      "desc_момент\n",
      "desc_москва\n",
      "desc_москве\n",
      "desc_москвы\n",
      "desc_навыки\n",
      "desc_наличие\n",
      "desc_наличия\n",
      "desc_нами\n",
      "desc_написание\n",
      "desc_написания\n",
      "desc_наша\n",
      "desc_нашего\n",
      "desc_нашей\n",
      "desc_наши\n",
      "desc_наших\n",
      "desc_нашу\n",
      "desc_недвижимости\n",
      "desc_неделю\n",
      "desc_неделя\n",
      "desc_необходимо\n",
      "desc_неполный\n",
      "desc_несколько\n",
      "desc_ниже\n",
      "desc_новые\n",
      "desc_новый\n",
      "desc_новых\n",
      "desc_нужен\n",
      "desc_нужно\n",
      "desc_обеспечение\n",
      "desc_области\n",
      "desc_оборудования\n",
      "desc_обработка\n",
      "desc_образование\n",
      "desc_образования\n",
      "desc_обслуживание\n",
      "desc_обсуждается\n",
      "desc_обучаемость\n",
      "desc_обучение\n",
      "desc_обучения\n",
      "desc_общаться\n",
      "desc_общение\n",
      "desc_обязанности\n",
      "desc_обязателен\n",
      "desc_обязательно\n",
      "desc_один\n",
      "desc_оклад\n",
      "desc_онлайн\n",
      "desc_оплата\n",
      "desc_оплачиваемый\n",
      "desc_опыт\n",
      "desc_опыта\n",
      "desc_опытом\n",
      "desc_организации\n",
      "desc_организация\n",
      "desc_основ\n",
      "desc_основе\n",
      "desc_ответственность\n",
      "desc_отдела\n",
      "desc_отпуск\n",
      "desc_отпусков\n",
      "desc_отслеживание\n",
      "desc_отсутствие\n",
      "desc_отчетности\n",
      "desc_отчетов\n",
      "desc_офис\n",
      "desc_офиса\n",
      "desc_офисе\n",
      "desc_официальная\n",
      "desc_официальное\n",
      "desc_оформление\n",
      "desc_очень\n",
      "desc_пакет\n",
      "desc_первого\n",
      "desc_переговоров\n",
      "desc_персонала\n",
      "desc_писать\n",
      "desc_письменная\n",
      "desc_плана\n",
      "desc_планирование\n",
      "desc_плата\n",
      "desc_платы\n",
      "desc_плюсом\n",
      "desc_подбор\n",
      "desc_подготовка\n",
      "desc_поддержание\n",
      "desc_поддержка\n",
      "desc_подработки\n",
      "desc_подход\n",
      "desc_поиск\n",
      "desc_поиска\n",
      "desc_показателей\n",
      "desc_покупателей\n",
      "desc_полная\n",
      "desc_полностью\n",
      "desc_полный\n",
      "desc_пользователей\n",
      "desc_пользователь\n",
      "desc_помощь\n",
      "desc_понимание\n",
      "desc_после\n",
      "desc_поставщиков\n",
      "desc_постоянно\n",
      "desc_поэтому\n",
      "desc_предлагаем\n",
      "desc_предстоит\n",
      "desc_преимуществом\n",
      "desc_премии\n",
      "desc_премия\n",
      "desc_приветствуется\n",
      "desc_приглашаем\n",
      "desc_приглашает\n",
      "desc_прием\n",
      "desc_приложений\n",
      "desc_приложения\n",
      "desc_принципов\n",
      "desc_проведение\n",
      "desc_проведения\n",
      "desc_проверка\n",
      "desc_проводить\n",
      "desc_программ\n",
      "desc_программирования\n",
      "desc_программы\n",
      "desc_продаж\n",
      "desc_продажам\n",
      "desc_продажах\n",
      "desc_продажи\n",
      "desc_продукт\n",
      "desc_продукта\n",
      "desc_продуктов\n",
      "desc_продукты\n",
      "desc_продукции\n",
      "desc_проект\n",
      "desc_проекта\n",
      "desc_проектами\n",
      "desc_проектах\n",
      "desc_проектирования\n",
      "desc_проектов\n",
      "desc_проекты\n",
      "desc_производства\n",
      "desc_профессионалов\n",
      "desc_профессионального\n",
      "desc_профессиональное\n",
      "desc_профессиональный\n",
      "desc_процессов\n",
      "desc_процессы\n",
      "desc_пунктуальность\n",
      "desc_работ\n",
      "desc_работа\n",
      "desc_работаем\n",
      "desc_работает\n",
      "desc_работать\n",
      "desc_работе\n",
      "desc_работу\n",
      "desc_работы\n",
      "desc_рабочая\n",
      "desc_рабочего\n",
      "desc_рабочее\n",
      "desc_рабочий\n",
      "desc_рабочих\n",
      "desc_раза\n",
      "desc_развиваться\n",
      "desc_развитие\n",
      "desc_развития\n",
      "desc_различных\n",
      "desc_разных\n",
      "desc_разрабатывать\n",
      "desc_разработка\n",
      "desc_разработке\n",
      "desc_разработки\n",
      "desc_разработчика\n",
      "desc_разработчиков\n",
      "desc_рамках\n",
      "desc_расти\n",
      "desc_расчет\n",
      "desc_реализации\n",
      "desc_режиме\n",
      "desc_результат\n",
      "desc_результатам\n",
      "desc_результатов\n",
      "desc_резюме\n",
      "desc_рекламных\n",
      "desc_речь\n",
      "desc_решать\n",
      "desc_решение\n",
      "desc_решений\n",
      "desc_решения\n",
      "desc_россии\n",
      "desc_рост\n",
      "desc_роста\n",
      "desc_рублей\n",
      "desc_руки\n",
      "desc_руководителя\n",
      "desc_рынка\n",
      "desc_рынке\n",
      "desc_рядом\n",
      "desc_самостоятельно\n",
      "desc_сбор\n",
      "desc_своего\n",
      "desc_своей\n",
      "desc_свои\n",
      "desc_своих\n",
      "desc_свой\n",
      "desc_свою\n",
      "desc_связи\n",
      "desc_связь\n",
      "desc_сделать\n",
      "desc_себе\n",
      "desc_себя\n",
      "desc_сейчас\n",
      "desc_сервис\n",
      "desc_сервисов\n",
      "desc_сети\n",
      "desc_сеть\n",
      "desc_систем\n",
      "desc_система\n",
      "desc_системами\n",
      "desc_системе\n",
      "desc_системы\n",
      "desc_скидки\n",
      "desc_склад\n",
      "desc_собеседование\n",
      "desc_собеседования\n",
      "desc_соблюдение\n",
      "desc_совместительству\n",
      "desc_согласно\n",
      "desc_согласование\n",
      "desc_создавать\n",
      "desc_создание\n",
      "desc_соответствии\n",
      "desc_сопровождение\n",
      "desc_составление\n",
      "desc_сотрудника\n",
      "desc_сотрудников\n",
      "desc_социальные\n",
      "desc_специалиста\n",
      "desc_специалистов\n",
      "desc_спецодежда\n",
      "desc_способность\n",
      "desc_среднего\n",
      "desc_срок\n",
      "desc_срока\n",
      "desc_сроков\n",
      "desc_стабильная\n",
      "desc_стать\n",
      "desc_стрессоустойчивость\n",
      "desc_сфере\n",
      "desc_счет\n",
      "desc_также\n",
      "desc_тебе\n",
      "desc_тебя\n",
      "desc_телефону\n",
      "desc_территории\n",
      "desc_тестирования\n",
      "desc_технических\n",
      "desc_техническое\n",
      "desc_технической\n",
      "desc_технологии\n",
      "desc_технологий\n",
      "desc_товара\n",
      "desc_товаров\n",
      "desc_только\n",
      "desc_требований\n",
      "desc_требования\n",
      "desc_требуется\n",
      "desc_тренинги\n",
      "desc_труда\n",
      "desc_трудоустройство\n",
      "desc_уборка\n",
      "desc_уверенное\n",
      "desc_уверенный\n",
      "desc_удаленная\n",
      "desc_удаленно\n",
      "desc_умение\n",
      "desc_уметь\n",
      "desc_управление\n",
      "desc_управления\n",
      "desc_уровень\n",
      "desc_уровне\n",
      "desc_уровня\n",
      "desc_условия\n",
      "desc_услуг\n",
      "desc_услуги\n",
      "desc_устная\n",
      "desc_участвовать\n",
      "desc_участие\n",
      "desc_учета\n",
      "desc_учиться\n",
      "desc_фирменная\n",
      "desc_формирование\n",
      "desc_хорошее\n",
      "desc_хорошо\n",
      "desc_хотите\n",
      "desc_ценников\n",
      "desc_центре\n",
      "desc_часов\n",
      "desc_части\n",
      "desc_частью\n",
      "desc_человек\n",
      "desc_человека\n",
      "desc_через\n",
      "desc_числе\n",
      "desc_чтобы\n",
      "desc_этом\n",
      "desc_является\n",
      "desc_язык\n",
      "desc_языка\n",
      "empl_group\n",
      "empl_personname\n",
      "empl_staff\n",
      "empl_агентство\n",
      "empl_бизнес\n",
      "empl_билайн\n",
      "empl_гбуз\n",
      "empl_групп\n",
      "empl_группа\n",
      "empl_компаний\n",
      "empl_компания\n",
      "empl_консалтинг\n",
      "empl_медиа\n",
      "empl_москве\n",
      "empl_москвы\n",
      "empl_недвижимости\n",
      "empl_онлайн\n",
      "empl_перекресток\n",
      "empl_пятёрочка\n",
      "empl_развития\n",
      "empl_розничная\n",
      "empl_россии\n",
      "empl_сервис\n",
      "empl_сеть\n",
      "empl_системы\n",
      "empl_технологии\n",
      "empl_университет\n",
      "empl_федеральная\n",
      "empl_холдинг\n",
      "empl_центр\n",
      "empl_школа\n",
      "empl_экспресс\n",
      "name_developer\n",
      "name_frontend\n",
      "name_junior\n",
      "name_manager\n",
      "name_middle\n",
      "name_python\n",
      "name_senior\n",
      "name_администратор\n",
      "name_аналитик\n",
      "name_ведущий\n",
      "name_дизайнер\n",
      "name_инженер\n",
      "name_кассир\n",
      "name_клиентами\n",
      "name_консультант\n",
      "name_менеджер\n",
      "name_москва\n",
      "name_оператор\n",
      "name_отдела\n",
      "name_петербург\n",
      "name_помощник\n",
      "name_программист\n",
      "name_продавец\n",
      "name_продажам\n",
      "name_работе\n",
      "name_разработчик\n",
      "name_рекрутер\n",
      "name_специалист\n",
      "name_стажер\n",
      "name_уборщик\n",
      "name_удаленно\n",
      "name_юрист\n"
     ]
    }
   ],
   "source": [
    "for columnName in df.columns:\n",
    "    print(columnName)\n",
    "    if not (columnName in df_test.columns) and (columnName != 'salary_to'):\n",
    "        df_test[columnName] = [False] * df_test.shape[0]"
   ]
  },
  {
   "cell_type": "code",
   "execution_count": 102,
   "id": "2e129860-94ee-4a02-addd-ad678fa0b874",
   "metadata": {
    "ExecuteTime": {
     "end_time": "2024-01-07T06:58:14.536920800Z",
     "start_time": "2024-01-07T06:58:14.328351700Z"
    }
   },
   "outputs": [
    {
     "data": {
      "text/plain": "Index(['area_name_Other', 'area_name_Екатеринбург', 'area_name_Казань',\n       'area_name_Краснодар', 'area_name_Москва', 'area_name_Новосибирск',\n       'area_name_Санкт-Петербург', 'has_test', 'response_letter_required',\n       'salary_from',\n       ...\n       'name_продавец', 'name_продажам', 'name_работе', 'name_разработчик',\n       'name_рекрутер', 'name_специалист', 'name_стажер', 'name_уборщик',\n       'name_удаленно', 'name_юрист'],\n      dtype='object', length=590)"
     },
     "execution_count": 102,
     "metadata": {},
     "output_type": "execute_result"
    }
   ],
   "source": [
    "df_test.columns"
   ]
  },
  {
   "cell_type": "code",
   "execution_count": 103,
   "id": "6357a8ab-69e8-4680-9b08-e999a8771a19",
   "metadata": {
    "ExecuteTime": {
     "end_time": "2024-01-07T06:58:14.770219400Z",
     "start_time": "2024-01-07T06:58:14.509276100Z"
    }
   },
   "outputs": [
    {
     "data": {
      "text/plain": "Index(['area_name_Other', 'area_name_Екатеринбург', 'area_name_Казань',\n       'area_name_Краснодар', 'area_name_Москва', 'area_name_Новосибирск',\n       'area_name_Санкт-Петербург', 'has_test', 'response_letter_required',\n       'salary_from',\n       ...\n       'name_продавец', 'name_продажам', 'name_работе', 'name_разработчик',\n       'name_рекрутер', 'name_специалист', 'name_стажер', 'name_уборщик',\n       'name_удаленно', 'name_юрист'],\n      dtype='object', length=591)"
     },
     "execution_count": 103,
     "metadata": {},
     "output_type": "execute_result"
    }
   ],
   "source": [
    "df.columns"
   ]
  },
  {
   "cell_type": "markdown",
   "id": "ef27f090-05cc-4604-8083-7c37f0f6c60a",
   "metadata": {},
   "source": [
    "Переупорядочиваем столбцы, чтобы соответствовать обучаемой выборке:"
   ]
  },
  {
   "cell_type": "code",
   "execution_count": 104,
   "id": "fd479424-7692-4d0d-971b-ee8cd6774bb8",
   "metadata": {
    "ExecuteTime": {
     "end_time": "2024-01-07T06:58:15.192666100Z",
     "start_time": "2024-01-07T06:58:15.077660900Z"
    }
   },
   "outputs": [],
   "source": [
    "columns = df.columns.tolist()\n",
    "columns.remove('salary_to')\n",
    "df_test = df_test[columns]"
   ]
  },
  {
   "cell_type": "markdown",
   "id": "8663bbad-4580-4907-9501-6e50d51412ce",
   "metadata": {},
   "source": [
    "Делаем предсказания:"
   ]
  },
  {
   "cell_type": "code",
   "execution_count": 105,
   "id": "ff7bb904-78a3-4f07-987f-b21a21c5f0de",
   "metadata": {
    "ExecuteTime": {
     "end_time": "2024-01-07T06:58:19.250476500Z",
     "start_time": "2024-01-07T06:58:18.979873600Z"
    }
   },
   "outputs": [],
   "source": [
    "y_pred_test1 = cat_model.predict(df_test)"
   ]
  },
  {
   "cell_type": "markdown",
   "id": "50aa8ae5-30ec-403a-b001-6ef6e3eeaa7c",
   "metadata": {},
   "source": [
    "Пишем требуемый результат в файл:"
   ]
  },
  {
   "cell_type": "code",
   "execution_count": 106,
   "id": "c93642f3-57bf-4494-86f4-39b0f3c4e615",
   "metadata": {
    "ExecuteTime": {
     "end_time": "2024-01-07T06:58:21.578487900Z",
     "start_time": "2024-01-07T06:58:21.494807600Z"
    }
   },
   "outputs": [],
   "source": [
    "df_test_full = df_test.assign(salary_to = y_pred_test1)"
   ]
  },
  {
   "cell_type": "code",
   "execution_count": 107,
   "id": "caa31c6c-e6c0-4ec0-8f69-25bcca9af13a",
   "metadata": {
    "ExecuteTime": {
     "end_time": "2024-01-07T06:58:21.915788700Z",
     "start_time": "2024-01-07T06:58:21.820127300Z"
    }
   },
   "outputs": [
    {
     "data": {
      "text/plain": "id\n20978     56658.333461\n3102      43918.011014\n14731    303432.789796\n16113    232840.767723\n8410     123788.492783\n             ...      \n29490     52032.844394\n34298     82430.307193\n33921     38995.841566\n8886      65528.279343\n23978     32517.179527\nName: salary_to, Length: 9312, dtype: float64"
     },
     "execution_count": 107,
     "metadata": {},
     "output_type": "execute_result"
    }
   ],
   "source": [
    "df_output = pd.concat([df_test_full['salary_to']])\n",
    "df_output"
   ]
  },
  {
   "cell_type": "code",
   "execution_count": 108,
   "id": "2bf4fc91-9799-4646-bdf7-f587e73142f7",
   "metadata": {
    "ExecuteTime": {
     "end_time": "2024-01-07T06:58:22.443803200Z",
     "start_time": "2024-01-07T06:58:22.279168700Z"
    }
   },
   "outputs": [],
   "source": [
    "from pathlib import Path  \n",
    "filepath = Path('y_test.csv')  \n",
    "filepath.parent.mkdir(parents=True, exist_ok=True)  \n",
    "df_output.to_csv(filepath)  "
   ]
  },
  {
   "cell_type": "code",
   "execution_count": null,
   "id": "ce7ec4e2-3f8a-41bb-85be-18190b4f92b1",
   "metadata": {},
   "outputs": [],
   "source": []
  },
  {
   "cell_type": "code",
   "execution_count": null,
   "id": "17d7c09a-6397-4ff9-8a3d-d57ff6b5b907",
   "metadata": {},
   "outputs": [],
   "source": []
  },
  {
   "cell_type": "code",
   "execution_count": null,
   "id": "e05daf0b-2b53-4b29-ae76-7f3d44155d7e",
   "metadata": {},
   "outputs": [],
   "source": []
  }
 ],
 "metadata": {
  "kernelspec": {
   "display_name": "Python 3 (ipykernel)",
   "language": "python",
   "name": "python3"
  },
  "language_info": {
   "codemirror_mode": {
    "name": "ipython",
    "version": 3
   },
   "file_extension": ".py",
   "mimetype": "text/x-python",
   "name": "python",
   "nbconvert_exporter": "python",
   "pygments_lexer": "ipython3",
   "version": "3.11.5"
  }
 },
 "nbformat": 4,
 "nbformat_minor": 5
}
